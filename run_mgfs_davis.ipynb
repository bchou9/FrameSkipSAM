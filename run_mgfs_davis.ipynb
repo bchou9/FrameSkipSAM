{
 "cells": [
  {
   "cell_type": "code",
   "execution_count": 1,
   "id": "acc92286",
   "metadata": {},
   "outputs": [
    {
     "name": "stdout",
     "output_type": "stream",
     "text": [
      "Loaded 30 validation sequences\n"
     ]
    },
    {
     "data": {
      "text/plain": [
       "SAM2VideoPredictor(\n",
       "  (image_encoder): ImageEncoder(\n",
       "    (trunk): Hiera(\n",
       "      (patch_embed): PatchEmbed(\n",
       "        (proj): Conv2d(3, 144, kernel_size=(7, 7), stride=(4, 4), padding=(3, 3))\n",
       "      )\n",
       "      (blocks): ModuleList(\n",
       "        (0-1): 2 x MultiScaleBlock(\n",
       "          (norm1): LayerNorm((144,), eps=1e-06, elementwise_affine=True)\n",
       "          (attn): MultiScaleAttention(\n",
       "            (qkv): Linear(in_features=144, out_features=432, bias=True)\n",
       "            (proj): Linear(in_features=144, out_features=144, bias=True)\n",
       "          )\n",
       "          (drop_path): Identity()\n",
       "          (norm2): LayerNorm((144,), eps=1e-06, elementwise_affine=True)\n",
       "          (mlp): MLP(\n",
       "            (layers): ModuleList(\n",
       "              (0): Linear(in_features=144, out_features=576, bias=True)\n",
       "              (1): Linear(in_features=576, out_features=144, bias=True)\n",
       "            )\n",
       "            (act): GELU(approximate='none')\n",
       "          )\n",
       "        )\n",
       "        (2): MultiScaleBlock(\n",
       "          (norm1): LayerNorm((144,), eps=1e-06, elementwise_affine=True)\n",
       "          (pool): MaxPool2d(kernel_size=(2, 2), stride=(2, 2), padding=0, dilation=1, ceil_mode=False)\n",
       "          (attn): MultiScaleAttention(\n",
       "            (q_pool): MaxPool2d(kernel_size=(2, 2), stride=(2, 2), padding=0, dilation=1, ceil_mode=False)\n",
       "            (qkv): Linear(in_features=144, out_features=864, bias=True)\n",
       "            (proj): Linear(in_features=288, out_features=288, bias=True)\n",
       "          )\n",
       "          (drop_path): Identity()\n",
       "          (norm2): LayerNorm((288,), eps=1e-06, elementwise_affine=True)\n",
       "          (mlp): MLP(\n",
       "            (layers): ModuleList(\n",
       "              (0): Linear(in_features=288, out_features=1152, bias=True)\n",
       "              (1): Linear(in_features=1152, out_features=288, bias=True)\n",
       "            )\n",
       "            (act): GELU(approximate='none')\n",
       "          )\n",
       "          (proj): Linear(in_features=144, out_features=288, bias=True)\n",
       "        )\n",
       "        (3-7): 5 x MultiScaleBlock(\n",
       "          (norm1): LayerNorm((288,), eps=1e-06, elementwise_affine=True)\n",
       "          (attn): MultiScaleAttention(\n",
       "            (qkv): Linear(in_features=288, out_features=864, bias=True)\n",
       "            (proj): Linear(in_features=288, out_features=288, bias=True)\n",
       "          )\n",
       "          (drop_path): Identity()\n",
       "          (norm2): LayerNorm((288,), eps=1e-06, elementwise_affine=True)\n",
       "          (mlp): MLP(\n",
       "            (layers): ModuleList(\n",
       "              (0): Linear(in_features=288, out_features=1152, bias=True)\n",
       "              (1): Linear(in_features=1152, out_features=288, bias=True)\n",
       "            )\n",
       "            (act): GELU(approximate='none')\n",
       "          )\n",
       "        )\n",
       "        (8): MultiScaleBlock(\n",
       "          (norm1): LayerNorm((288,), eps=1e-06, elementwise_affine=True)\n",
       "          (pool): MaxPool2d(kernel_size=(2, 2), stride=(2, 2), padding=0, dilation=1, ceil_mode=False)\n",
       "          (attn): MultiScaleAttention(\n",
       "            (q_pool): MaxPool2d(kernel_size=(2, 2), stride=(2, 2), padding=0, dilation=1, ceil_mode=False)\n",
       "            (qkv): Linear(in_features=288, out_features=1728, bias=True)\n",
       "            (proj): Linear(in_features=576, out_features=576, bias=True)\n",
       "          )\n",
       "          (drop_path): Identity()\n",
       "          (norm2): LayerNorm((576,), eps=1e-06, elementwise_affine=True)\n",
       "          (mlp): MLP(\n",
       "            (layers): ModuleList(\n",
       "              (0): Linear(in_features=576, out_features=2304, bias=True)\n",
       "              (1): Linear(in_features=2304, out_features=576, bias=True)\n",
       "            )\n",
       "            (act): GELU(approximate='none')\n",
       "          )\n",
       "          (proj): Linear(in_features=288, out_features=576, bias=True)\n",
       "        )\n",
       "        (9-43): 35 x MultiScaleBlock(\n",
       "          (norm1): LayerNorm((576,), eps=1e-06, elementwise_affine=True)\n",
       "          (attn): MultiScaleAttention(\n",
       "            (qkv): Linear(in_features=576, out_features=1728, bias=True)\n",
       "            (proj): Linear(in_features=576, out_features=576, bias=True)\n",
       "          )\n",
       "          (drop_path): Identity()\n",
       "          (norm2): LayerNorm((576,), eps=1e-06, elementwise_affine=True)\n",
       "          (mlp): MLP(\n",
       "            (layers): ModuleList(\n",
       "              (0): Linear(in_features=576, out_features=2304, bias=True)\n",
       "              (1): Linear(in_features=2304, out_features=576, bias=True)\n",
       "            )\n",
       "            (act): GELU(approximate='none')\n",
       "          )\n",
       "        )\n",
       "        (44): MultiScaleBlock(\n",
       "          (norm1): LayerNorm((576,), eps=1e-06, elementwise_affine=True)\n",
       "          (pool): MaxPool2d(kernel_size=(2, 2), stride=(2, 2), padding=0, dilation=1, ceil_mode=False)\n",
       "          (attn): MultiScaleAttention(\n",
       "            (q_pool): MaxPool2d(kernel_size=(2, 2), stride=(2, 2), padding=0, dilation=1, ceil_mode=False)\n",
       "            (qkv): Linear(in_features=576, out_features=3456, bias=True)\n",
       "            (proj): Linear(in_features=1152, out_features=1152, bias=True)\n",
       "          )\n",
       "          (drop_path): Identity()\n",
       "          (norm2): LayerNorm((1152,), eps=1e-06, elementwise_affine=True)\n",
       "          (mlp): MLP(\n",
       "            (layers): ModuleList(\n",
       "              (0): Linear(in_features=1152, out_features=4608, bias=True)\n",
       "              (1): Linear(in_features=4608, out_features=1152, bias=True)\n",
       "            )\n",
       "            (act): GELU(approximate='none')\n",
       "          )\n",
       "          (proj): Linear(in_features=576, out_features=1152, bias=True)\n",
       "        )\n",
       "        (45-47): 3 x MultiScaleBlock(\n",
       "          (norm1): LayerNorm((1152,), eps=1e-06, elementwise_affine=True)\n",
       "          (attn): MultiScaleAttention(\n",
       "            (qkv): Linear(in_features=1152, out_features=3456, bias=True)\n",
       "            (proj): Linear(in_features=1152, out_features=1152, bias=True)\n",
       "          )\n",
       "          (drop_path): Identity()\n",
       "          (norm2): LayerNorm((1152,), eps=1e-06, elementwise_affine=True)\n",
       "          (mlp): MLP(\n",
       "            (layers): ModuleList(\n",
       "              (0): Linear(in_features=1152, out_features=4608, bias=True)\n",
       "              (1): Linear(in_features=4608, out_features=1152, bias=True)\n",
       "            )\n",
       "            (act): GELU(approximate='none')\n",
       "          )\n",
       "        )\n",
       "      )\n",
       "    )\n",
       "    (neck): FpnNeck(\n",
       "      (position_encoding): PositionEmbeddingSine()\n",
       "      (convs): ModuleList(\n",
       "        (0): Sequential(\n",
       "          (conv): Conv2d(1152, 256, kernel_size=(1, 1), stride=(1, 1))\n",
       "        )\n",
       "        (1): Sequential(\n",
       "          (conv): Conv2d(576, 256, kernel_size=(1, 1), stride=(1, 1))\n",
       "        )\n",
       "        (2): Sequential(\n",
       "          (conv): Conv2d(288, 256, kernel_size=(1, 1), stride=(1, 1))\n",
       "        )\n",
       "        (3): Sequential(\n",
       "          (conv): Conv2d(144, 256, kernel_size=(1, 1), stride=(1, 1))\n",
       "        )\n",
       "      )\n",
       "    )\n",
       "  )\n",
       "  (mask_downsample): Conv2d(1, 1, kernel_size=(4, 4), stride=(4, 4))\n",
       "  (memory_attention): MemoryAttention(\n",
       "    (layers): ModuleList(\n",
       "      (0-3): 4 x MemoryAttentionLayer(\n",
       "        (self_attn): RoPEAttention(\n",
       "          (q_proj): Linear(in_features=256, out_features=256, bias=True)\n",
       "          (k_proj): Linear(in_features=256, out_features=256, bias=True)\n",
       "          (v_proj): Linear(in_features=256, out_features=256, bias=True)\n",
       "          (out_proj): Linear(in_features=256, out_features=256, bias=True)\n",
       "        )\n",
       "        (cross_attn_image): RoPEAttention(\n",
       "          (q_proj): Linear(in_features=256, out_features=256, bias=True)\n",
       "          (k_proj): Linear(in_features=64, out_features=256, bias=True)\n",
       "          (v_proj): Linear(in_features=64, out_features=256, bias=True)\n",
       "          (out_proj): Linear(in_features=256, out_features=256, bias=True)\n",
       "        )\n",
       "        (linear1): Linear(in_features=256, out_features=2048, bias=True)\n",
       "        (dropout): Dropout(p=0.1, inplace=False)\n",
       "        (linear2): Linear(in_features=2048, out_features=256, bias=True)\n",
       "        (norm1): LayerNorm((256,), eps=1e-05, elementwise_affine=True)\n",
       "        (norm2): LayerNorm((256,), eps=1e-05, elementwise_affine=True)\n",
       "        (norm3): LayerNorm((256,), eps=1e-05, elementwise_affine=True)\n",
       "        (dropout1): Dropout(p=0.1, inplace=False)\n",
       "        (dropout2): Dropout(p=0.1, inplace=False)\n",
       "        (dropout3): Dropout(p=0.1, inplace=False)\n",
       "      )\n",
       "    )\n",
       "    (norm): LayerNorm((256,), eps=1e-05, elementwise_affine=True)\n",
       "  )\n",
       "  (memory_encoder): MemoryEncoder(\n",
       "    (mask_downsampler): MaskDownSampler(\n",
       "      (encoder): Sequential(\n",
       "        (0): Conv2d(1, 4, kernel_size=(3, 3), stride=(2, 2), padding=(1, 1))\n",
       "        (1): LayerNorm2d()\n",
       "        (2): GELU(approximate='none')\n",
       "        (3): Conv2d(4, 16, kernel_size=(3, 3), stride=(2, 2), padding=(1, 1))\n",
       "        (4): LayerNorm2d()\n",
       "        (5): GELU(approximate='none')\n",
       "        (6): Conv2d(16, 64, kernel_size=(3, 3), stride=(2, 2), padding=(1, 1))\n",
       "        (7): LayerNorm2d()\n",
       "        (8): GELU(approximate='none')\n",
       "        (9): Conv2d(64, 256, kernel_size=(3, 3), stride=(2, 2), padding=(1, 1))\n",
       "        (10): LayerNorm2d()\n",
       "        (11): GELU(approximate='none')\n",
       "        (12): Conv2d(256, 256, kernel_size=(1, 1), stride=(1, 1))\n",
       "      )\n",
       "    )\n",
       "    (pix_feat_proj): Conv2d(256, 256, kernel_size=(1, 1), stride=(1, 1))\n",
       "    (fuser): Fuser(\n",
       "      (proj): Identity()\n",
       "      (layers): ModuleList(\n",
       "        (0-1): 2 x CXBlock(\n",
       "          (dwconv): Conv2d(256, 256, kernel_size=(7, 7), stride=(1, 1), padding=(3, 3), groups=256)\n",
       "          (norm): LayerNorm2d()\n",
       "          (pwconv1): Linear(in_features=256, out_features=1024, bias=True)\n",
       "          (act): GELU(approximate='none')\n",
       "          (pwconv2): Linear(in_features=1024, out_features=256, bias=True)\n",
       "          (drop_path): Identity()\n",
       "        )\n",
       "      )\n",
       "    )\n",
       "    (position_encoding): PositionEmbeddingSine()\n",
       "    (out_proj): Conv2d(256, 64, kernel_size=(1, 1), stride=(1, 1))\n",
       "  )\n",
       "  (sam_prompt_encoder): PromptEncoder(\n",
       "    (pe_layer): PositionEmbeddingRandom()\n",
       "    (point_embeddings): ModuleList(\n",
       "      (0-3): 4 x Embedding(1, 256)\n",
       "    )\n",
       "    (not_a_point_embed): Embedding(1, 256)\n",
       "    (mask_downscaling): Sequential(\n",
       "      (0): Conv2d(1, 4, kernel_size=(2, 2), stride=(2, 2))\n",
       "      (1): LayerNorm2d()\n",
       "      (2): GELU(approximate='none')\n",
       "      (3): Conv2d(4, 16, kernel_size=(2, 2), stride=(2, 2))\n",
       "      (4): LayerNorm2d()\n",
       "      (5): GELU(approximate='none')\n",
       "      (6): Conv2d(16, 256, kernel_size=(1, 1), stride=(1, 1))\n",
       "    )\n",
       "    (no_mask_embed): Embedding(1, 256)\n",
       "  )\n",
       "  (sam_mask_decoder): MaskDecoder(\n",
       "    (transformer): TwoWayTransformer(\n",
       "      (layers): ModuleList(\n",
       "        (0-1): 2 x TwoWayAttentionBlock(\n",
       "          (self_attn): Attention(\n",
       "            (q_proj): Linear(in_features=256, out_features=256, bias=True)\n",
       "            (k_proj): Linear(in_features=256, out_features=256, bias=True)\n",
       "            (v_proj): Linear(in_features=256, out_features=256, bias=True)\n",
       "            (out_proj): Linear(in_features=256, out_features=256, bias=True)\n",
       "          )\n",
       "          (norm1): LayerNorm((256,), eps=1e-05, elementwise_affine=True)\n",
       "          (cross_attn_token_to_image): Attention(\n",
       "            (q_proj): Linear(in_features=256, out_features=128, bias=True)\n",
       "            (k_proj): Linear(in_features=256, out_features=128, bias=True)\n",
       "            (v_proj): Linear(in_features=256, out_features=128, bias=True)\n",
       "            (out_proj): Linear(in_features=128, out_features=256, bias=True)\n",
       "          )\n",
       "          (norm2): LayerNorm((256,), eps=1e-05, elementwise_affine=True)\n",
       "          (mlp): MLP(\n",
       "            (layers): ModuleList(\n",
       "              (0): Linear(in_features=256, out_features=2048, bias=True)\n",
       "              (1): Linear(in_features=2048, out_features=256, bias=True)\n",
       "            )\n",
       "            (act): ReLU()\n",
       "          )\n",
       "          (norm3): LayerNorm((256,), eps=1e-05, elementwise_affine=True)\n",
       "          (norm4): LayerNorm((256,), eps=1e-05, elementwise_affine=True)\n",
       "          (cross_attn_image_to_token): Attention(\n",
       "            (q_proj): Linear(in_features=256, out_features=128, bias=True)\n",
       "            (k_proj): Linear(in_features=256, out_features=128, bias=True)\n",
       "            (v_proj): Linear(in_features=256, out_features=128, bias=True)\n",
       "            (out_proj): Linear(in_features=128, out_features=256, bias=True)\n",
       "          )\n",
       "        )\n",
       "      )\n",
       "      (final_attn_token_to_image): Attention(\n",
       "        (q_proj): Linear(in_features=256, out_features=128, bias=True)\n",
       "        (k_proj): Linear(in_features=256, out_features=128, bias=True)\n",
       "        (v_proj): Linear(in_features=256, out_features=128, bias=True)\n",
       "        (out_proj): Linear(in_features=128, out_features=256, bias=True)\n",
       "      )\n",
       "      (norm_final_attn): LayerNorm((256,), eps=1e-05, elementwise_affine=True)\n",
       "    )\n",
       "    (iou_token): Embedding(1, 256)\n",
       "    (mask_tokens): Embedding(4, 256)\n",
       "    (obj_score_token): Embedding(1, 256)\n",
       "    (output_upscaling): Sequential(\n",
       "      (0): ConvTranspose2d(256, 64, kernel_size=(2, 2), stride=(2, 2))\n",
       "      (1): LayerNorm2d()\n",
       "      (2): GELU(approximate='none')\n",
       "      (3): ConvTranspose2d(64, 32, kernel_size=(2, 2), stride=(2, 2))\n",
       "      (4): GELU(approximate='none')\n",
       "    )\n",
       "    (conv_s0): Conv2d(256, 32, kernel_size=(1, 1), stride=(1, 1))\n",
       "    (conv_s1): Conv2d(256, 64, kernel_size=(1, 1), stride=(1, 1))\n",
       "    (output_hypernetworks_mlps): ModuleList(\n",
       "      (0-3): 4 x MLP(\n",
       "        (layers): ModuleList(\n",
       "          (0-1): 2 x Linear(in_features=256, out_features=256, bias=True)\n",
       "          (2): Linear(in_features=256, out_features=32, bias=True)\n",
       "        )\n",
       "        (act): ReLU()\n",
       "      )\n",
       "    )\n",
       "    (iou_prediction_head): MLP(\n",
       "      (layers): ModuleList(\n",
       "        (0-1): 2 x Linear(in_features=256, out_features=256, bias=True)\n",
       "        (2): Linear(in_features=256, out_features=4, bias=True)\n",
       "      )\n",
       "      (act): ReLU()\n",
       "    )\n",
       "    (pred_obj_score_head): MLP(\n",
       "      (layers): ModuleList(\n",
       "        (0-1): 2 x Linear(in_features=256, out_features=256, bias=True)\n",
       "        (2): Linear(in_features=256, out_features=1, bias=True)\n",
       "      )\n",
       "      (act): ReLU()\n",
       "    )\n",
       "  )\n",
       "  (obj_ptr_proj): MLP(\n",
       "    (layers): ModuleList(\n",
       "      (0-2): 3 x Linear(in_features=256, out_features=256, bias=True)\n",
       "    )\n",
       "    (act): ReLU()\n",
       "  )\n",
       "  (obj_ptr_tpos_proj): Linear(in_features=256, out_features=64, bias=True)\n",
       ")"
      ]
     },
     "execution_count": 1,
     "metadata": {},
     "output_type": "execute_result"
    }
   ],
   "source": [
    "import sys, os, json, time, subprocess, pathlib\n",
    "from pathlib import Path\n",
    "from davis2017.davis import DAVIS\n",
    "import imageio.v3 as iio\n",
    "import numpy as np\n",
    "from tqdm import tqdm\n",
    "import torch\n",
    "\n",
    "# ── USER‐CONFIGURABLE PATHS ──────────────────────────────────────────────────\n",
    "DAVIS_ROOT  = Path(\"./data/DAVIS\")          # ← point this at your DAVIS folder\n",
    "OUT_DIR     = Path(\"./data/DAVIS2017_mgfs_naive_optical\")           # ← where we’ll write out PNGs\n",
    "OUT_DIR.mkdir(parents=True, exist_ok=True)\n",
    "\n",
    "# ── STEP 1: load the DAVIS “val” split (semi‐supervised task) ───────────────────\n",
    "ds = DAVIS(str(DAVIS_ROOT), task=\"semi-supervised\", subset=\"val\", resolution=\"480p\")\n",
    "print(f\"Loaded {len(ds.sequences)} validation sequences\")\n",
    "\n",
    "# ── STEP 2: build SAM 2 video predictor ─────────────────────────────────────────\n",
    "from sam2.build_sam import build_sam2_video_predictor\n",
    "\n",
    "device = \"cuda\" if torch.cuda.is_available() else \"cpu\"\n",
    "sam2_checkpoint = \"./checkpoints/sam2.1_hiera_large.pt\"   # ← adjust if needed\n",
    "model_cfg       = \"configs/sam2.1/sam2.1_hiera_l.yaml\"   # ← adjust if needed\n",
    "\n",
    "predictor = build_sam2_video_predictor(model_cfg, sam2_checkpoint, device=device)\n",
    "predictor.to(device)   # make sure model is on CUDA if available"
   ]
  },
  {
   "cell_type": "code",
   "execution_count": 2,
   "id": "bdd669c2",
   "metadata": {},
   "outputs": [
    {
     "name": "stdout",
     "output_type": "stream",
     "text": [
      "\n",
      "=== Processing sequence: bike-packing ===\n"
     ]
    },
    {
     "name": "stderr",
     "output_type": "stream",
     "text": [
      "frame loading (JPEG): 100%|██████████| 69/69 [00:02<00:00, 34.37it/s]\n"
     ]
    },
    {
     "name": "stdout",
     "output_type": "stream",
     "text": [
      "Found 2 unique non‐black colors in bike-packing/00000.png\n"
     ]
    },
    {
     "name": "stderr",
     "output_type": "stream",
     "text": [
      "/mnt/share/hechou/github/FrameSkipSAM/sam2/sam2_video_predictor.py:878: UserWarning: cannot import name '_C' from 'sam2' (/mnt/share/hechou/github/FrameSkipSAM/sam2/__init__.py)\n",
      "\n",
      "Skipping the post-processing step due to the error above. You can still use SAM 2 and it's OK to ignore the error above, although some post-processing functionality may be limited (which doesn't affect the results in most cases; see https://github.com/facebookresearch/sam2/blob/main/INSTALL.md).\n",
      "  pred_masks_gpu = fill_holes_in_mask_scores(\n",
      "Propagating bike-packing:   0%|          | 0/68 [00:00<?, ?it/s]"
     ]
    },
    {
     "name": "stdout",
     "output_type": "stream",
     "text": [
      "Skipping frame 1 due to low MAD (0.04)\n"
     ]
    },
    {
     "name": "stderr",
     "output_type": "stream",
     "text": [
      "Propagating bike-packing:   4%|▍         | 3/68 [00:00<00:09,  6.86it/s]"
     ]
    },
    {
     "name": "stdout",
     "output_type": "stream",
     "text": [
      "Skipping frame 3 due to low MAD (0.04)\n"
     ]
    },
    {
     "name": "stderr",
     "output_type": "stream",
     "text": [
      "Propagating bike-packing:  41%|████      | 28/68 [00:10<00:17,  2.26it/s]"
     ]
    },
    {
     "name": "stdout",
     "output_type": "stream",
     "text": [
      "Skipping frame 28 due to low MAD (0.04)\n"
     ]
    },
    {
     "name": "stderr",
     "output_type": "stream",
     "text": [
      "Propagating bike-packing:  44%|████▍     | 30/68 [00:11<00:13,  2.89it/s]"
     ]
    },
    {
     "name": "stdout",
     "output_type": "stream",
     "text": [
      "Skipping frame 30 due to low MAD (0.03)\n",
      "Avg FPS last 30 frames: 2.62\n",
      "Skipping frame 31 due to low MAD (0.05)\n"
     ]
    },
    {
     "name": "stderr",
     "output_type": "stream",
     "text": [
      "Propagating bike-packing:  49%|████▊     | 33/68 [00:11<00:08,  3.91it/s]"
     ]
    },
    {
     "name": "stdout",
     "output_type": "stream",
     "text": [
      "Skipping frame 33 due to low MAD (0.05)\n"
     ]
    },
    {
     "name": "stderr",
     "output_type": "stream",
     "text": [
      "Propagating bike-packing:  90%|████████▉ | 61/68 [00:23<00:03,  2.26it/s]"
     ]
    },
    {
     "name": "stdout",
     "output_type": "stream",
     "text": [
      "Avg FPS last 30 frames: 2.41\n"
     ]
    },
    {
     "name": "stderr",
     "output_type": "stream",
     "text": [
      "propagate in video: 100%|██████████| 69/69 [00:27<00:00,  2.55it/s]5it/s]\n",
      "Propagating bike-packing: 69it [00:27,  2.55it/s]                        \n"
     ]
    },
    {
     "name": "stdout",
     "output_type": "stream",
     "text": [
      "Skipping frame 68 due to low MAD (0.04)\n",
      "Skipped 7 frames due to low MAD.\n",
      "→ Saved all predicted masks for bike-packing in data/DAVIS2017_mgfs_naive_optical/bike-packing\n",
      "\n",
      "=== Processing sequence: blackswan ===\n"
     ]
    },
    {
     "name": "stderr",
     "output_type": "stream",
     "text": [
      "frame loading (JPEG): 100%|██████████| 50/50 [00:01<00:00, 35.07it/s]\n"
     ]
    },
    {
     "name": "stdout",
     "output_type": "stream",
     "text": [
      "Found 1 unique non‐black colors in blackswan/00000.png\n"
     ]
    },
    {
     "name": "stderr",
     "output_type": "stream",
     "text": [
      "Propagating blackswan:  63%|██████▎   | 31/49 [00:10<00:06,  2.87it/s]"
     ]
    },
    {
     "name": "stdout",
     "output_type": "stream",
     "text": [
      "Avg FPS last 30 frames: 2.93\n"
     ]
    },
    {
     "name": "stderr",
     "output_type": "stream",
     "text": [
      "propagate in video: 100%|██████████| 50/50 [00:16<00:00,  2.97it/s]   \n",
      "Propagating blackswan: 50it [00:16,  2.97it/s]\n"
     ]
    },
    {
     "name": "stdout",
     "output_type": "stream",
     "text": [
      "→ Saved all predicted masks for blackswan in data/DAVIS2017_mgfs_naive_optical/blackswan\n",
      "\n",
      "=== Processing sequence: bmx-trees ===\n"
     ]
    },
    {
     "name": "stderr",
     "output_type": "stream",
     "text": [
      "frame loading (JPEG): 100%|██████████| 80/80 [00:02<00:00, 35.06it/s]\n"
     ]
    },
    {
     "name": "stdout",
     "output_type": "stream",
     "text": [
      "Found 2 unique non‐black colors in bmx-trees/00000.png\n"
     ]
    },
    {
     "name": "stderr",
     "output_type": "stream",
     "text": [
      "Propagating bmx-trees:  39%|███▉      | 31/79 [00:12<00:21,  2.28it/s]"
     ]
    },
    {
     "name": "stdout",
     "output_type": "stream",
     "text": [
      "Avg FPS last 30 frames: 2.35\n"
     ]
    },
    {
     "name": "stderr",
     "output_type": "stream",
     "text": [
      "Propagating bmx-trees:  77%|███████▋  | 61/79 [00:25<00:07,  2.28it/s]"
     ]
    },
    {
     "name": "stdout",
     "output_type": "stream",
     "text": [
      "Avg FPS last 30 frames: 2.28\n"
     ]
    },
    {
     "name": "stderr",
     "output_type": "stream",
     "text": [
      "propagate in video: 100%|██████████| 80/80 [00:34<00:00,  2.34it/s]   \n",
      "Propagating bmx-trees: 80it [00:34,  2.34it/s]\n"
     ]
    },
    {
     "name": "stdout",
     "output_type": "stream",
     "text": [
      "→ Saved all predicted masks for bmx-trees in data/DAVIS2017_mgfs_naive_optical/bmx-trees\n",
      "\n",
      "=== Processing sequence: breakdance ===\n"
     ]
    },
    {
     "name": "stderr",
     "output_type": "stream",
     "text": [
      "frame loading (JPEG): 100%|██████████| 84/84 [00:02<00:00, 33.21it/s]\n"
     ]
    },
    {
     "name": "stdout",
     "output_type": "stream",
     "text": [
      "Found 1 unique non‐black colors in breakdance/00000.png\n"
     ]
    },
    {
     "name": "stderr",
     "output_type": "stream",
     "text": [
      "Propagating breakdance:  37%|███▋      | 31/83 [00:10<00:18,  2.88it/s]"
     ]
    },
    {
     "name": "stdout",
     "output_type": "stream",
     "text": [
      "Avg FPS last 30 frames: 2.94\n"
     ]
    },
    {
     "name": "stderr",
     "output_type": "stream",
     "text": [
      "Propagating breakdance:  73%|███████▎  | 61/83 [00:20<00:07,  2.84it/s]"
     ]
    },
    {
     "name": "stdout",
     "output_type": "stream",
     "text": [
      "Avg FPS last 30 frames: 2.88\n"
     ]
    },
    {
     "name": "stderr",
     "output_type": "stream",
     "text": [
      "propagate in video: 100%|██████████| 84/84 [00:28<00:00,  2.93it/s]    \n",
      "Propagating breakdance: 84it [00:28,  2.93it/s]\n"
     ]
    },
    {
     "name": "stdout",
     "output_type": "stream",
     "text": [
      "→ Saved all predicted masks for breakdance in data/DAVIS2017_mgfs_naive_optical/breakdance\n",
      "\n",
      "=== Processing sequence: camel ===\n"
     ]
    },
    {
     "name": "stderr",
     "output_type": "stream",
     "text": [
      "frame loading (JPEG): 100%|██████████| 90/90 [00:02<00:00, 33.32it/s]\n"
     ]
    },
    {
     "name": "stdout",
     "output_type": "stream",
     "text": [
      "Found 1 unique non‐black colors in camel/00000.png\n"
     ]
    },
    {
     "name": "stderr",
     "output_type": "stream",
     "text": [
      "Propagating camel:  35%|███▍      | 31/89 [00:10<00:20,  2.89it/s]"
     ]
    },
    {
     "name": "stdout",
     "output_type": "stream",
     "text": [
      "Avg FPS last 30 frames: 2.93\n"
     ]
    },
    {
     "name": "stderr",
     "output_type": "stream",
     "text": [
      "Propagating camel:  69%|██████▊   | 61/89 [00:20<00:09,  2.89it/s]"
     ]
    },
    {
     "name": "stdout",
     "output_type": "stream",
     "text": [
      "Avg FPS last 30 frames: 2.88\n"
     ]
    },
    {
     "name": "stderr",
     "output_type": "stream",
     "text": [
      "propagate in video: 100%|██████████| 90/90 [00:30<00:00,  2.92it/s]\n",
      "Propagating camel: 90it [00:30,  2.92it/s]\n"
     ]
    },
    {
     "name": "stdout",
     "output_type": "stream",
     "text": [
      "→ Saved all predicted masks for camel in data/DAVIS2017_mgfs_naive_optical/camel\n",
      "\n",
      "=== Processing sequence: car-roundabout ===\n"
     ]
    },
    {
     "name": "stderr",
     "output_type": "stream",
     "text": [
      "frame loading (JPEG): 100%|██████████| 75/75 [00:02<00:00, 36.16it/s]\n"
     ]
    },
    {
     "name": "stdout",
     "output_type": "stream",
     "text": [
      "Found 1 unique non‐black colors in car-roundabout/00000.png\n"
     ]
    },
    {
     "name": "stderr",
     "output_type": "stream",
     "text": [
      "Propagating car-roundabout:  42%|████▏     | 31/74 [00:10<00:15,  2.86it/s]"
     ]
    },
    {
     "name": "stdout",
     "output_type": "stream",
     "text": [
      "Avg FPS last 30 frames: 2.94\n"
     ]
    },
    {
     "name": "stderr",
     "output_type": "stream",
     "text": [
      "Propagating car-roundabout:  82%|████████▏ | 61/74 [00:20<00:04,  2.89it/s]"
     ]
    },
    {
     "name": "stdout",
     "output_type": "stream",
     "text": [
      "Avg FPS last 30 frames: 2.88\n"
     ]
    },
    {
     "name": "stderr",
     "output_type": "stream",
     "text": [
      "propagate in video: 100%|██████████| 75/75 [00:25<00:00,  2.95it/s]        \n",
      "Propagating car-roundabout: 75it [00:25,  2.94it/s]\n"
     ]
    },
    {
     "name": "stdout",
     "output_type": "stream",
     "text": [
      "→ Saved all predicted masks for car-roundabout in data/DAVIS2017_mgfs_naive_optical/car-roundabout\n",
      "\n",
      "=== Processing sequence: car-shadow ===\n"
     ]
    },
    {
     "name": "stderr",
     "output_type": "stream",
     "text": [
      "frame loading (JPEG): 100%|██████████| 40/40 [00:01<00:00, 32.92it/s]\n"
     ]
    },
    {
     "name": "stdout",
     "output_type": "stream",
     "text": [
      "Found 1 unique non‐black colors in car-shadow/00000.png\n"
     ]
    },
    {
     "name": "stderr",
     "output_type": "stream",
     "text": [
      "Propagating car-shadow:  79%|███████▉  | 31/39 [00:10<00:02,  2.88it/s]"
     ]
    },
    {
     "name": "stdout",
     "output_type": "stream",
     "text": [
      "Avg FPS last 30 frames: 2.95\n"
     ]
    },
    {
     "name": "stderr",
     "output_type": "stream",
     "text": [
      "propagate in video: 100%|██████████| 40/40 [00:13<00:00,  3.00it/s]    \n",
      "Propagating car-shadow: 40it [00:13,  3.00it/s]\n"
     ]
    },
    {
     "name": "stdout",
     "output_type": "stream",
     "text": [
      "→ Saved all predicted masks for car-shadow in data/DAVIS2017_mgfs_naive_optical/car-shadow\n",
      "\n",
      "=== Processing sequence: cows ===\n"
     ]
    },
    {
     "name": "stderr",
     "output_type": "stream",
     "text": [
      "frame loading (JPEG): 100%|██████████| 104/104 [00:03<00:00, 34.58it/s]\n"
     ]
    },
    {
     "name": "stdout",
     "output_type": "stream",
     "text": [
      "Found 1 unique non‐black colors in cows/00000.png\n"
     ]
    },
    {
     "name": "stderr",
     "output_type": "stream",
     "text": [
      "Propagating cows:  30%|███       | 31/103 [00:10<00:25,  2.88it/s]"
     ]
    },
    {
     "name": "stdout",
     "output_type": "stream",
     "text": [
      "Avg FPS last 30 frames: 2.93\n"
     ]
    },
    {
     "name": "stderr",
     "output_type": "stream",
     "text": [
      "Propagating cows:  59%|█████▉    | 61/103 [00:20<00:14,  2.88it/s]"
     ]
    },
    {
     "name": "stdout",
     "output_type": "stream",
     "text": [
      "Avg FPS last 30 frames: 2.88\n"
     ]
    },
    {
     "name": "stderr",
     "output_type": "stream",
     "text": [
      "Propagating cows:  88%|████████▊ | 91/103 [00:31<00:04,  2.82it/s]"
     ]
    },
    {
     "name": "stdout",
     "output_type": "stream",
     "text": [
      "Avg FPS last 30 frames: 2.85\n"
     ]
    },
    {
     "name": "stderr",
     "output_type": "stream",
     "text": [
      "propagate in video: 100%|██████████| 104/104 [00:35<00:00,  2.91it/s]\n",
      "Propagating cows: 104it [00:35,  2.91it/s]\n"
     ]
    },
    {
     "name": "stdout",
     "output_type": "stream",
     "text": [
      "→ Saved all predicted masks for cows in data/DAVIS2017_mgfs_naive_optical/cows\n",
      "\n",
      "=== Processing sequence: dance-twirl ===\n"
     ]
    },
    {
     "name": "stderr",
     "output_type": "stream",
     "text": [
      "frame loading (JPEG): 100%|██████████| 90/90 [00:02<00:00, 34.28it/s]\n"
     ]
    },
    {
     "name": "stdout",
     "output_type": "stream",
     "text": [
      "Found 1 unique non‐black colors in dance-twirl/00000.png\n"
     ]
    },
    {
     "name": "stderr",
     "output_type": "stream",
     "text": [
      "Propagating dance-twirl:  35%|███▍      | 31/89 [00:10<00:20,  2.87it/s]"
     ]
    },
    {
     "name": "stdout",
     "output_type": "stream",
     "text": [
      "Avg FPS last 30 frames: 2.95\n"
     ]
    },
    {
     "name": "stderr",
     "output_type": "stream",
     "text": [
      "Propagating dance-twirl:  69%|██████▊   | 61/89 [00:20<00:09,  2.88it/s]"
     ]
    },
    {
     "name": "stdout",
     "output_type": "stream",
     "text": [
      "Avg FPS last 30 frames: 2.88\n"
     ]
    },
    {
     "name": "stderr",
     "output_type": "stream",
     "text": [
      "propagate in video: 100%|██████████| 90/90 [00:36<00:00,  2.47it/s]     \n",
      "Propagating dance-twirl: 90it [00:36,  2.47it/s]\n"
     ]
    },
    {
     "name": "stdout",
     "output_type": "stream",
     "text": [
      "→ Saved all predicted masks for dance-twirl in data/DAVIS2017_mgfs_naive_optical/dance-twirl\n",
      "\n",
      "=== Processing sequence: dog ===\n"
     ]
    },
    {
     "name": "stderr",
     "output_type": "stream",
     "text": [
      "frame loading (JPEG): 100%|██████████| 60/60 [00:01<00:00, 30.28it/s]\n"
     ]
    },
    {
     "name": "stdout",
     "output_type": "stream",
     "text": [
      "Found 1 unique non‐black colors in dog/00000.png\n"
     ]
    },
    {
     "name": "stderr",
     "output_type": "stream",
     "text": [
      "Propagating dog:  53%|█████▎    | 31/59 [00:18<00:17,  1.60it/s]"
     ]
    },
    {
     "name": "stdout",
     "output_type": "stream",
     "text": [
      "Avg FPS last 30 frames: 1.65\n"
     ]
    },
    {
     "name": "stderr",
     "output_type": "stream",
     "text": [
      "propagate in video: 100%|██████████| 60/60 [00:34<00:00,  1.72it/s]\n",
      "Propagating dog: 60it [00:34,  1.72it/s]\n"
     ]
    },
    {
     "name": "stdout",
     "output_type": "stream",
     "text": [
      "→ Saved all predicted masks for dog in data/DAVIS2017_mgfs_naive_optical/dog\n",
      "\n",
      "=== Processing sequence: dogs-jump ===\n"
     ]
    },
    {
     "name": "stderr",
     "output_type": "stream",
     "text": [
      "frame loading (JPEG): 100%|██████████| 66/66 [00:01<00:00, 34.08it/s]\n"
     ]
    },
    {
     "name": "stdout",
     "output_type": "stream",
     "text": [
      "Found 3 unique non‐black colors in dogs-jump/00000.png\n"
     ]
    },
    {
     "name": "stderr",
     "output_type": "stream",
     "text": [
      "Propagating dogs-jump:  35%|███▌      | 23/65 [00:20<00:41,  1.02it/s]"
     ]
    },
    {
     "name": "stdout",
     "output_type": "stream",
     "text": [
      "Skipping frame 23 due to low MAD (0.05)\n"
     ]
    },
    {
     "name": "stderr",
     "output_type": "stream",
     "text": [
      "Propagating dogs-jump:  38%|███▊      | 25/65 [00:21<00:30,  1.32it/s]"
     ]
    },
    {
     "name": "stdout",
     "output_type": "stream",
     "text": [
      "Skipping frame 25 due to low MAD (0.04)\n"
     ]
    },
    {
     "name": "stderr",
     "output_type": "stream",
     "text": [
      "Propagating dogs-jump:  42%|████▏     | 27/65 [00:22<00:24,  1.53it/s]"
     ]
    },
    {
     "name": "stdout",
     "output_type": "stream",
     "text": [
      "Skipping frame 27 due to low MAD (0.04)\n"
     ]
    },
    {
     "name": "stderr",
     "output_type": "stream",
     "text": [
      "Propagating dogs-jump:  45%|████▍     | 29/65 [00:23<00:21,  1.66it/s]"
     ]
    },
    {
     "name": "stdout",
     "output_type": "stream",
     "text": [
      "Skipping frame 29 due to low MAD (0.04)\n"
     ]
    },
    {
     "name": "stderr",
     "output_type": "stream",
     "text": [
      "Propagating dogs-jump:  48%|████▊     | 31/65 [00:24<00:19,  1.76it/s]"
     ]
    },
    {
     "name": "stdout",
     "output_type": "stream",
     "text": [
      "Avg FPS last 30 frames: 1.23\n",
      "Skipping frame 31 due to low MAD (0.04)\n"
     ]
    },
    {
     "name": "stderr",
     "output_type": "stream",
     "text": [
      "Propagating dogs-jump:  51%|█████     | 33/65 [00:25<00:15,  2.01it/s]"
     ]
    },
    {
     "name": "stdout",
     "output_type": "stream",
     "text": [
      "Skipping frame 33 due to low MAD (0.05)\n"
     ]
    },
    {
     "name": "stderr",
     "output_type": "stream",
     "text": [
      "Propagating dogs-jump:  94%|█████████▍| 61/65 [00:49<00:03,  1.03it/s]"
     ]
    },
    {
     "name": "stdout",
     "output_type": "stream",
     "text": [
      "Avg FPS last 30 frames: 1.21\n",
      "Skipping frame 61 due to low MAD (0.05)\n"
     ]
    },
    {
     "name": "stderr",
     "output_type": "stream",
     "text": [
      "Propagating dogs-jump:  97%|█████████▋| 63/65 [00:50<00:01,  1.32it/s]"
     ]
    },
    {
     "name": "stdout",
     "output_type": "stream",
     "text": [
      "Skipping frame 63 due to low MAD (0.05)\n"
     ]
    },
    {
     "name": "stderr",
     "output_type": "stream",
     "text": [
      "propagate in video: 100%|██████████| 66/66 [00:51<00:00,  1.29it/s]/s]\n",
      "Propagating dogs-jump: 66it [00:51,  1.29it/s]                        \n"
     ]
    },
    {
     "name": "stdout",
     "output_type": "stream",
     "text": [
      "Skipping frame 65 due to low MAD (0.04)\n",
      "Skipped 9 frames due to low MAD.\n",
      "→ Saved all predicted masks for dogs-jump in data/DAVIS2017_mgfs_naive_optical/dogs-jump\n",
      "\n",
      "=== Processing sequence: drift-chicane ===\n"
     ]
    },
    {
     "name": "stderr",
     "output_type": "stream",
     "text": [
      "frame loading (JPEG): 100%|██████████| 52/52 [00:01<00:00, 32.77it/s]\n"
     ]
    },
    {
     "name": "stdout",
     "output_type": "stream",
     "text": [
      "Found 1 unique non‐black colors in drift-chicane/00000.png\n"
     ]
    },
    {
     "name": "stderr",
     "output_type": "stream",
     "text": [
      "Propagating drift-chicane:   0%|          | 0/51 [00:00<?, ?it/s]"
     ]
    },
    {
     "name": "stdout",
     "output_type": "stream",
     "text": [
      "Skipping frame 1 due to low MAD (0.02)\n",
      "Skipping frame 2 due to low MAD (0.03)\n",
      "Skipping frame 3 due to low MAD (0.04)\n"
     ]
    },
    {
     "name": "stderr",
     "output_type": "stream",
     "text": [
      "Propagating drift-chicane:  10%|▉         | 5/51 [00:00<00:05,  7.79it/s]"
     ]
    },
    {
     "name": "stdout",
     "output_type": "stream",
     "text": [
      "Skipping frame 5 due to low MAD (0.02)\n",
      "Skipping frame 6 due to low MAD (0.04)\n",
      "Skipping frame 7 due to low MAD (0.05)\n"
     ]
    },
    {
     "name": "stderr",
     "output_type": "stream",
     "text": [
      "Propagating drift-chicane:  18%|█▊        | 9/51 [00:01<00:06,  6.62it/s]"
     ]
    },
    {
     "name": "stdout",
     "output_type": "stream",
     "text": [
      "Skipping frame 9 due to low MAD (0.03)\n",
      "Skipping frame 10 due to low MAD (0.04)\n"
     ]
    },
    {
     "name": "stderr",
     "output_type": "stream",
     "text": [
      "Propagating drift-chicane:  24%|██▎       | 12/51 [00:01<00:06,  5.65it/s]"
     ]
    },
    {
     "name": "stdout",
     "output_type": "stream",
     "text": [
      "Skipping frame 12 due to low MAD (0.02)\n",
      "Skipping frame 13 due to low MAD (0.04)\n"
     ]
    },
    {
     "name": "stderr",
     "output_type": "stream",
     "text": [
      "Propagating drift-chicane:  29%|██▉       | 15/51 [00:02<00:06,  5.26it/s]"
     ]
    },
    {
     "name": "stdout",
     "output_type": "stream",
     "text": [
      "Skipping frame 15 due to low MAD (0.03)\n",
      "Skipping frame 16 due to low MAD (0.04)\n",
      "Skipping frame 17 due to low MAD (0.05)\n"
     ]
    },
    {
     "name": "stderr",
     "output_type": "stream",
     "text": [
      "Propagating drift-chicane:  37%|███▋      | 19/51 [00:03<00:05,  5.55it/s]"
     ]
    },
    {
     "name": "stdout",
     "output_type": "stream",
     "text": [
      "Skipping frame 19 due to low MAD (0.03)\n",
      "Skipping frame 20 due to low MAD (0.04)\n"
     ]
    },
    {
     "name": "stderr",
     "output_type": "stream",
     "text": [
      "Propagating drift-chicane:  43%|████▎     | 22/51 [00:03<00:05,  5.24it/s]"
     ]
    },
    {
     "name": "stdout",
     "output_type": "stream",
     "text": [
      "Skipping frame 22 due to low MAD (0.03)\n",
      "Skipping frame 23 due to low MAD (0.04)\n",
      "Skipping frame 24 due to low MAD (0.05)\n"
     ]
    },
    {
     "name": "stderr",
     "output_type": "stream",
     "text": [
      "Propagating drift-chicane:  51%|█████     | 26/51 [00:04<00:04,  5.42it/s]"
     ]
    },
    {
     "name": "stdout",
     "output_type": "stream",
     "text": [
      "Skipping frame 26 due to low MAD (0.02)\n",
      "Skipping frame 27 due to low MAD (0.03)\n",
      "Skipping frame 28 due to low MAD (0.04)\n"
     ]
    },
    {
     "name": "stderr",
     "output_type": "stream",
     "text": [
      "Propagating drift-chicane:  59%|█████▉    | 30/51 [00:05<00:03,  5.54it/s]"
     ]
    },
    {
     "name": "stdout",
     "output_type": "stream",
     "text": [
      "Skipping frame 30 due to low MAD (0.03)\n",
      "Avg FPS last 30 frames: 5.62\n",
      "Skipping frame 31 due to low MAD (0.04)\n"
     ]
    },
    {
     "name": "stderr",
     "output_type": "stream",
     "text": [
      "Propagating drift-chicane:  65%|██████▍   | 33/51 [00:05<00:03,  5.24it/s]"
     ]
    },
    {
     "name": "stdout",
     "output_type": "stream",
     "text": [
      "Skipping frame 33 due to low MAD (0.03)\n",
      "Skipping frame 34 due to low MAD (0.04)\n"
     ]
    },
    {
     "name": "stderr",
     "output_type": "stream",
     "text": [
      "Propagating drift-chicane:  71%|███████   | 36/51 [00:06<00:02,  5.02it/s]"
     ]
    },
    {
     "name": "stdout",
     "output_type": "stream",
     "text": [
      "Skipping frame 36 due to low MAD (0.03)\n",
      "Skipping frame 37 due to low MAD (0.04)\n",
      "Skipping frame 38 due to low MAD (0.05)\n"
     ]
    },
    {
     "name": "stderr",
     "output_type": "stream",
     "text": [
      "Propagating drift-chicane:  78%|███████▊  | 40/51 [00:07<00:02,  5.32it/s]"
     ]
    },
    {
     "name": "stdout",
     "output_type": "stream",
     "text": [
      "Skipping frame 40 due to low MAD (0.03)\n",
      "Skipping frame 41 due to low MAD (0.03)\n",
      "Skipping frame 42 due to low MAD (0.04)\n",
      "Skipping frame 43 due to low MAD (0.05)\n"
     ]
    },
    {
     "name": "stderr",
     "output_type": "stream",
     "text": [
      "Propagating drift-chicane:  88%|████████▊ | 45/51 [00:07<00:01,  5.95it/s]"
     ]
    },
    {
     "name": "stdout",
     "output_type": "stream",
     "text": [
      "Skipping frame 45 due to low MAD (0.03)\n",
      "Skipping frame 46 due to low MAD (0.05)\n"
     ]
    },
    {
     "name": "stderr",
     "output_type": "stream",
     "text": [
      "Propagating drift-chicane:  94%|█████████▍| 48/51 [00:08<00:00,  5.57it/s]"
     ]
    },
    {
     "name": "stdout",
     "output_type": "stream",
     "text": [
      "Skipping frame 48 due to low MAD (0.04)\n"
     ]
    },
    {
     "name": "stderr",
     "output_type": "stream",
     "text": [
      "Propagating drift-chicane:  98%|█████████▊| 50/51 [00:09<00:00,  4.82it/s]"
     ]
    },
    {
     "name": "stdout",
     "output_type": "stream",
     "text": [
      "Skipping frame 50 due to low MAD (0.05)\n"
     ]
    },
    {
     "name": "stderr",
     "output_type": "stream",
     "text": [
      "propagate in video: 100%|██████████| 52/52 [00:09<00:00,  5.22it/s]       \n",
      "Propagating drift-chicane: 52it [00:09,  5.22it/s]\n"
     ]
    },
    {
     "name": "stdout",
     "output_type": "stream",
     "text": [
      "Skipped 36 frames due to low MAD.\n",
      "→ Saved all predicted masks for drift-chicane in data/DAVIS2017_mgfs_naive_optical/drift-chicane\n",
      "\n",
      "=== Processing sequence: drift-straight ===\n"
     ]
    },
    {
     "name": "stderr",
     "output_type": "stream",
     "text": [
      "frame loading (JPEG): 100%|██████████| 50/50 [00:01<00:00, 31.41it/s]\n"
     ]
    },
    {
     "name": "stdout",
     "output_type": "stream",
     "text": [
      "Found 1 unique non‐black colors in drift-straight/00000.png\n"
     ]
    },
    {
     "name": "stderr",
     "output_type": "stream",
     "text": [
      "Propagating drift-straight:  63%|██████▎   | 31/49 [00:18<00:11,  1.57it/s]"
     ]
    },
    {
     "name": "stdout",
     "output_type": "stream",
     "text": [
      "Avg FPS last 30 frames: 1.62\n"
     ]
    },
    {
     "name": "stderr",
     "output_type": "stream",
     "text": [
      "propagate in video: 100%|██████████| 50/50 [00:27<00:00,  1.81it/s]        \n",
      "Propagating drift-straight: 50it [00:27,  1.81it/s]\n"
     ]
    },
    {
     "name": "stdout",
     "output_type": "stream",
     "text": [
      "→ Saved all predicted masks for drift-straight in data/DAVIS2017_mgfs_naive_optical/drift-straight\n",
      "\n",
      "=== Processing sequence: goat ===\n"
     ]
    },
    {
     "name": "stderr",
     "output_type": "stream",
     "text": [
      "frame loading (JPEG): 100%|██████████| 90/90 [00:02<00:00, 33.58it/s]\n"
     ]
    },
    {
     "name": "stdout",
     "output_type": "stream",
     "text": [
      "Found 1 unique non‐black colors in goat/00000.png\n"
     ]
    },
    {
     "name": "stderr",
     "output_type": "stream",
     "text": [
      "Propagating goat:  35%|███▍      | 31/89 [00:18<00:36,  1.57it/s]"
     ]
    },
    {
     "name": "stdout",
     "output_type": "stream",
     "text": [
      "Avg FPS last 30 frames: 1.60\n"
     ]
    },
    {
     "name": "stderr",
     "output_type": "stream",
     "text": [
      "Propagating goat:  69%|██████▊   | 61/89 [00:37<00:17,  1.60it/s]"
     ]
    },
    {
     "name": "stdout",
     "output_type": "stream",
     "text": [
      "Avg FPS last 30 frames: 1.57\n"
     ]
    },
    {
     "name": "stderr",
     "output_type": "stream",
     "text": [
      "propagate in video: 100%|██████████| 90/90 [00:53<00:00,  1.69it/s]\n",
      "Propagating goat: 90it [00:53,  1.69it/s]\n"
     ]
    },
    {
     "name": "stdout",
     "output_type": "stream",
     "text": [
      "→ Saved all predicted masks for goat in data/DAVIS2017_mgfs_naive_optical/goat\n",
      "\n",
      "=== Processing sequence: gold-fish ===\n"
     ]
    },
    {
     "name": "stderr",
     "output_type": "stream",
     "text": [
      "frame loading (JPEG): 100%|██████████| 78/78 [00:02<00:00, 30.58it/s]\n"
     ]
    },
    {
     "name": "stdout",
     "output_type": "stream",
     "text": [
      "Found 5 unique non‐black colors in gold-fish/00000.png\n"
     ]
    },
    {
     "name": "stderr",
     "output_type": "stream",
     "text": [
      "Propagating gold-fish:  40%|████      | 31/77 [00:38<01:01,  1.34s/it]"
     ]
    },
    {
     "name": "stdout",
     "output_type": "stream",
     "text": [
      "Avg FPS last 30 frames: 0.79\n"
     ]
    },
    {
     "name": "stderr",
     "output_type": "stream",
     "text": [
      "Propagating gold-fish:  79%|███████▉  | 61/77 [01:15<00:21,  1.34s/it]"
     ]
    },
    {
     "name": "stdout",
     "output_type": "stream",
     "text": [
      "Avg FPS last 30 frames: 0.80\n"
     ]
    },
    {
     "name": "stderr",
     "output_type": "stream",
     "text": [
      "propagate in video: 100%|██████████| 78/78 [01:36<00:00,  1.24s/it]   \n",
      "Propagating gold-fish: 78it [01:36,  1.24s/it]\n"
     ]
    },
    {
     "name": "stdout",
     "output_type": "stream",
     "text": [
      "→ Saved all predicted masks for gold-fish in data/DAVIS2017_mgfs_naive_optical/gold-fish\n",
      "\n",
      "=== Processing sequence: horsejump-high ===\n"
     ]
    },
    {
     "name": "stderr",
     "output_type": "stream",
     "text": [
      "frame loading (JPEG): 100%|██████████| 50/50 [00:01<00:00, 34.24it/s]\n"
     ]
    },
    {
     "name": "stdout",
     "output_type": "stream",
     "text": [
      "Found 2 unique non‐black colors in horsejump-high/00000.png\n"
     ]
    },
    {
     "name": "stderr",
     "output_type": "stream",
     "text": [
      "Propagating horsejump-high:  63%|██████▎   | 31/49 [00:20<00:07,  2.26it/s]"
     ]
    },
    {
     "name": "stdout",
     "output_type": "stream",
     "text": [
      "Avg FPS last 30 frames: 1.45\n"
     ]
    },
    {
     "name": "stderr",
     "output_type": "stream",
     "text": [
      "propagate in video: 100%|██████████| 50/50 [00:34<00:00,  1.45it/s]        \n",
      "Propagating horsejump-high: 50it [00:34,  1.44it/s]\n"
     ]
    },
    {
     "name": "stdout",
     "output_type": "stream",
     "text": [
      "→ Saved all predicted masks for horsejump-high in data/DAVIS2017_mgfs_naive_optical/horsejump-high\n",
      "\n",
      "=== Processing sequence: india ===\n"
     ]
    },
    {
     "name": "stderr",
     "output_type": "stream",
     "text": [
      "frame loading (JPEG): 100%|██████████| 81/81 [00:02<00:00, 33.14it/s]\n"
     ]
    },
    {
     "name": "stdout",
     "output_type": "stream",
     "text": [
      "Found 3 unique non‐black colors in india/00000.png\n"
     ]
    },
    {
     "name": "stderr",
     "output_type": "stream",
     "text": [
      "Propagating india:  39%|███▉      | 31/80 [00:28<00:48,  1.02it/s]"
     ]
    },
    {
     "name": "stdout",
     "output_type": "stream",
     "text": [
      "Avg FPS last 30 frames: 1.05\n"
     ]
    },
    {
     "name": "stderr",
     "output_type": "stream",
     "text": [
      "Propagating india:  76%|███████▋  | 61/80 [00:54<00:16,  1.12it/s]"
     ]
    },
    {
     "name": "stdout",
     "output_type": "stream",
     "text": [
      "Avg FPS last 30 frames: 1.15\n"
     ]
    },
    {
     "name": "stderr",
     "output_type": "stream",
     "text": [
      "propagate in video: 100%|██████████| 81/81 [01:14<00:00,  1.09it/s]\n",
      "Propagating india: 81it [01:14,  1.09it/s]\n"
     ]
    },
    {
     "name": "stdout",
     "output_type": "stream",
     "text": [
      "→ Saved all predicted masks for india in data/DAVIS2017_mgfs_naive_optical/india\n",
      "\n",
      "=== Processing sequence: judo ===\n"
     ]
    },
    {
     "name": "stderr",
     "output_type": "stream",
     "text": [
      "frame loading (JPEG): 100%|██████████| 34/34 [00:01<00:00, 31.32it/s]\n"
     ]
    },
    {
     "name": "stdout",
     "output_type": "stream",
     "text": [
      "Found 2 unique non‐black colors in judo/00000.png\n"
     ]
    },
    {
     "name": "stderr",
     "output_type": "stream",
     "text": [
      "Propagating judo:  12%|█▏        | 4/33 [00:00<00:00, 33.55it/s]"
     ]
    },
    {
     "name": "stdout",
     "output_type": "stream",
     "text": [
      "Skipping frame 1 due to low MAD (0.01)\n",
      "Skipping frame 2 due to low MAD (0.02)\n",
      "Skipping frame 3 due to low MAD (0.03)\n",
      "Skipping frame 4 due to low MAD (0.03)\n",
      "Skipping frame 5 due to low MAD (0.04)\n",
      "Skipping frame 6 due to low MAD (0.04)\n",
      "Skipping frame 7 due to low MAD (0.05)\n"
     ]
    },
    {
     "name": "stderr",
     "output_type": "stream",
     "text": [
      "Propagating judo:  36%|███▋      | 12/33 [00:01<00:02,  8.33it/s]"
     ]
    },
    {
     "name": "stdout",
     "output_type": "stream",
     "text": [
      "Skipping frame 9 due to low MAD (0.02)\n",
      "Skipping frame 10 due to low MAD (0.03)\n",
      "Skipping frame 11 due to low MAD (0.04)\n",
      "Skipping frame 12 due to low MAD (0.05)\n"
     ]
    },
    {
     "name": "stderr",
     "output_type": "stream",
     "text": [
      "Propagating judo:  42%|████▏     | 14/33 [00:01<00:03,  5.24it/s]"
     ]
    },
    {
     "name": "stdout",
     "output_type": "stream",
     "text": [
      "Skipping frame 14 due to low MAD (0.03)\n",
      "Skipping frame 15 due to low MAD (0.04)\n",
      "Skipping frame 16 due to low MAD (0.05)\n"
     ]
    },
    {
     "name": "stderr",
     "output_type": "stream",
     "text": [
      "Propagating judo:  55%|█████▍    | 18/33 [00:02<00:03,  4.87it/s]"
     ]
    },
    {
     "name": "stdout",
     "output_type": "stream",
     "text": [
      "Skipping frame 18 due to low MAD (0.02)\n",
      "Skipping frame 19 due to low MAD (0.04)\n",
      "Skipping frame 20 due to low MAD (0.04)\n"
     ]
    },
    {
     "name": "stderr",
     "output_type": "stream",
     "text": [
      "Propagating judo:  67%|██████▋   | 22/33 [00:03<00:02,  4.77it/s]"
     ]
    },
    {
     "name": "stdout",
     "output_type": "stream",
     "text": [
      "Skipping frame 22 due to low MAD (0.03)\n"
     ]
    },
    {
     "name": "stderr",
     "output_type": "stream",
     "text": [
      "Propagating judo:  85%|████████▍ | 28/33 [00:07<00:02,  1.84it/s]"
     ]
    },
    {
     "name": "stdout",
     "output_type": "stream",
     "text": [
      "Skipping frame 28 due to low MAD (0.05)\n"
     ]
    },
    {
     "name": "stderr",
     "output_type": "stream",
     "text": [
      "Propagating judo:  91%|█████████ | 30/33 [00:08<00:01,  2.00it/s]"
     ]
    },
    {
     "name": "stdout",
     "output_type": "stream",
     "text": [
      "Skipping frame 30 due to low MAD (0.04)\n",
      "Avg FPS last 30 frames: 3.47\n"
     ]
    },
    {
     "name": "stderr",
     "output_type": "stream",
     "text": [
      "Propagating judo:  97%|█████████▋| 32/33 [00:09<00:00,  2.12it/s]"
     ]
    },
    {
     "name": "stdout",
     "output_type": "stream",
     "text": [
      "Skipping frame 32 due to low MAD (0.04)\n"
     ]
    },
    {
     "name": "stderr",
     "output_type": "stream",
     "text": [
      "propagate in video: 100%|██████████| 34/34 [00:10<00:00,  3.29it/s]\n",
      "Propagating judo: 34it [00:10,  3.29it/s]\n"
     ]
    },
    {
     "name": "stdout",
     "output_type": "stream",
     "text": [
      "Skipped 21 frames due to low MAD.\n",
      "→ Saved all predicted masks for judo in data/DAVIS2017_mgfs_naive_optical/judo\n",
      "\n",
      "=== Processing sequence: kite-surf ===\n"
     ]
    },
    {
     "name": "stderr",
     "output_type": "stream",
     "text": [
      "frame loading (JPEG): 100%|██████████| 50/50 [00:01<00:00, 30.67it/s]\n"
     ]
    },
    {
     "name": "stdout",
     "output_type": "stream",
     "text": [
      "Found 3 unique non‐black colors in kite-surf/00000.png\n"
     ]
    },
    {
     "name": "stderr",
     "output_type": "stream",
     "text": [
      "Propagating kite-surf:  63%|██████▎   | 31/49 [00:25<00:17,  1.03it/s]"
     ]
    },
    {
     "name": "stdout",
     "output_type": "stream",
     "text": [
      "Avg FPS last 30 frames: 1.16\n"
     ]
    },
    {
     "name": "stderr",
     "output_type": "stream",
     "text": [
      "propagate in video: 100%|██████████| 50/50 [00:44<00:00,  1.13it/s]   \n",
      "Propagating kite-surf: 50it [00:44,  1.13it/s]\n"
     ]
    },
    {
     "name": "stdout",
     "output_type": "stream",
     "text": [
      "→ Saved all predicted masks for kite-surf in data/DAVIS2017_mgfs_naive_optical/kite-surf\n",
      "\n",
      "=== Processing sequence: lab-coat ===\n"
     ]
    },
    {
     "name": "stderr",
     "output_type": "stream",
     "text": [
      "frame loading (JPEG): 100%|██████████| 47/47 [00:01<00:00, 32.95it/s]\n"
     ]
    },
    {
     "name": "stdout",
     "output_type": "stream",
     "text": [
      "Found 5 unique non‐black colors in lab-coat/00000.png\n"
     ]
    },
    {
     "name": "stderr",
     "output_type": "stream",
     "text": [
      "Propagating lab-coat:  67%|██████▋   | 31/46 [00:35<00:19,  1.32s/it]"
     ]
    },
    {
     "name": "stdout",
     "output_type": "stream",
     "text": [
      "Avg FPS last 30 frames: 0.84\n"
     ]
    },
    {
     "name": "stderr",
     "output_type": "stream",
     "text": [
      "propagate in video: 100%|██████████| 47/47 [00:57<00:00,  1.22s/it]  \n",
      "Propagating lab-coat: 47it [00:57,  1.22s/it]\n"
     ]
    },
    {
     "name": "stdout",
     "output_type": "stream",
     "text": [
      "→ Saved all predicted masks for lab-coat in data/DAVIS2017_mgfs_naive_optical/lab-coat\n",
      "\n",
      "=== Processing sequence: libby ===\n"
     ]
    },
    {
     "name": "stderr",
     "output_type": "stream",
     "text": [
      "frame loading (JPEG): 100%|██████████| 49/49 [00:01<00:00, 30.97it/s]\n"
     ]
    },
    {
     "name": "stdout",
     "output_type": "stream",
     "text": [
      "Found 1 unique non‐black colors in libby/00000.png\n"
     ]
    },
    {
     "name": "stderr",
     "output_type": "stream",
     "text": [
      "Propagating libby:  65%|██████▍   | 31/48 [00:14<00:07,  2.15it/s]"
     ]
    },
    {
     "name": "stdout",
     "output_type": "stream",
     "text": [
      "Avg FPS last 30 frames: 2.00\n"
     ]
    },
    {
     "name": "stderr",
     "output_type": "stream",
     "text": [
      "propagate in video: 100%|██████████| 49/49 [00:26<00:00,  1.86it/s]\n",
      "Propagating libby: 49it [00:26,  1.86it/s]\n"
     ]
    },
    {
     "name": "stdout",
     "output_type": "stream",
     "text": [
      "→ Saved all predicted masks for libby in data/DAVIS2017_mgfs_naive_optical/libby\n",
      "\n",
      "=== Processing sequence: loading ===\n"
     ]
    },
    {
     "name": "stderr",
     "output_type": "stream",
     "text": [
      "frame loading (JPEG): 100%|██████████| 50/50 [00:01<00:00, 31.32it/s]\n"
     ]
    },
    {
     "name": "stdout",
     "output_type": "stream",
     "text": [
      "Found 3 unique non‐black colors in loading/00000.png\n"
     ]
    },
    {
     "name": "stderr",
     "output_type": "stream",
     "text": [
      "Propagating loading:  63%|██████▎   | 31/49 [00:25<00:17,  1.04it/s]"
     ]
    },
    {
     "name": "stdout",
     "output_type": "stream",
     "text": [
      "Avg FPS last 30 frames: 1.16\n"
     ]
    },
    {
     "name": "stderr",
     "output_type": "stream",
     "text": [
      "propagate in video: 100%|██████████| 50/50 [00:44<00:00,  1.12it/s] \n",
      "Propagating loading: 50it [00:44,  1.12it/s]\n"
     ]
    },
    {
     "name": "stdout",
     "output_type": "stream",
     "text": [
      "→ Saved all predicted masks for loading in data/DAVIS2017_mgfs_naive_optical/loading\n",
      "\n",
      "=== Processing sequence: mbike-trick ===\n"
     ]
    },
    {
     "name": "stderr",
     "output_type": "stream",
     "text": [
      "frame loading (JPEG): 100%|██████████| 79/79 [00:02<00:00, 30.82it/s]\n"
     ]
    },
    {
     "name": "stdout",
     "output_type": "stream",
     "text": [
      "Found 2 unique non‐black colors in mbike-trick/00000.png\n"
     ]
    },
    {
     "name": "stderr",
     "output_type": "stream",
     "text": [
      "Propagating mbike-trick:   5%|▌         | 4/78 [00:01<00:38,  1.95it/s]"
     ]
    },
    {
     "name": "stdout",
     "output_type": "stream",
     "text": [
      "Skipping frame 4 due to low MAD (0.04)\n"
     ]
    },
    {
     "name": "stderr",
     "output_type": "stream",
     "text": [
      "Propagating mbike-trick:   8%|▊         | 6/78 [00:02<00:31,  2.25it/s]"
     ]
    },
    {
     "name": "stdout",
     "output_type": "stream",
     "text": [
      "Skipping frame 6 due to low MAD (0.04)\n"
     ]
    },
    {
     "name": "stderr",
     "output_type": "stream",
     "text": [
      "Propagating mbike-trick:  14%|█▍        | 11/78 [00:05<00:43,  1.54it/s]"
     ]
    },
    {
     "name": "stdout",
     "output_type": "stream",
     "text": [
      "Skipping frame 11 due to low MAD (0.04)\n"
     ]
    },
    {
     "name": "stderr",
     "output_type": "stream",
     "text": [
      "Propagating mbike-trick:  18%|█▊        | 14/78 [00:07<00:38,  1.65it/s]"
     ]
    },
    {
     "name": "stdout",
     "output_type": "stream",
     "text": [
      "Skipping frame 14 due to low MAD (0.05)\n"
     ]
    },
    {
     "name": "stderr",
     "output_type": "stream",
     "text": [
      "Propagating mbike-trick:  21%|██        | 16/78 [00:08<00:32,  1.88it/s]"
     ]
    },
    {
     "name": "stdout",
     "output_type": "stream",
     "text": [
      "Skipping frame 16 due to low MAD (0.03)\n",
      "Skipping frame 17 due to low MAD (0.03)\n"
     ]
    },
    {
     "name": "stderr",
     "output_type": "stream",
     "text": [
      "Propagating mbike-trick:  26%|██▌       | 20/78 [00:09<00:28,  2.06it/s]"
     ]
    },
    {
     "name": "stdout",
     "output_type": "stream",
     "text": [
      "Skipping frame 20 due to low MAD (0.03)\n"
     ]
    },
    {
     "name": "stderr",
     "output_type": "stream",
     "text": [
      "Propagating mbike-trick:  28%|██▊       | 22/78 [00:10<00:26,  2.15it/s]"
     ]
    },
    {
     "name": "stdout",
     "output_type": "stream",
     "text": [
      "Skipping frame 22 due to low MAD (0.04)\n"
     ]
    },
    {
     "name": "stderr",
     "output_type": "stream",
     "text": [
      "Propagating mbike-trick:  40%|███▉      | 31/78 [00:17<00:35,  1.33it/s]"
     ]
    },
    {
     "name": "stdout",
     "output_type": "stream",
     "text": [
      "Avg FPS last 30 frames: 1.74\n"
     ]
    },
    {
     "name": "stderr",
     "output_type": "stream",
     "text": [
      "Propagating mbike-trick:  41%|████      | 32/78 [00:18<00:35,  1.29it/s]"
     ]
    },
    {
     "name": "stdout",
     "output_type": "stream",
     "text": [
      "Skipping frame 32 due to low MAD (0.04)\n"
     ]
    },
    {
     "name": "stderr",
     "output_type": "stream",
     "text": [
      "Propagating mbike-trick:  44%|████▎     | 34/78 [00:18<00:26,  1.63it/s]"
     ]
    },
    {
     "name": "stdout",
     "output_type": "stream",
     "text": [
      "Skipping frame 34 due to low MAD (0.04)\n"
     ]
    },
    {
     "name": "stderr",
     "output_type": "stream",
     "text": [
      "Propagating mbike-trick:  50%|█████     | 39/78 [00:22<00:26,  1.48it/s]"
     ]
    },
    {
     "name": "stdout",
     "output_type": "stream",
     "text": [
      "Skipping frame 39 due to low MAD (0.04)\n"
     ]
    },
    {
     "name": "stderr",
     "output_type": "stream",
     "text": [
      "Propagating mbike-trick:  59%|█████▉    | 46/78 [00:24<00:14,  2.21it/s]"
     ]
    },
    {
     "name": "stdout",
     "output_type": "stream",
     "text": [
      "Skipping frame 46 due to low MAD (0.04)\n"
     ]
    },
    {
     "name": "stderr",
     "output_type": "stream",
     "text": [
      "Propagating mbike-trick:  78%|███████▊  | 61/78 [00:36<00:13,  1.24it/s]"
     ]
    },
    {
     "name": "stdout",
     "output_type": "stream",
     "text": [
      "Avg FPS last 30 frames: 1.59\n"
     ]
    },
    {
     "name": "stderr",
     "output_type": "stream",
     "text": [
      "propagate in video: 100%|██████████| 79/79 [00:50<00:00,  1.56it/s]     \n",
      "Propagating mbike-trick: 79it [00:50,  1.56it/s]\n"
     ]
    },
    {
     "name": "stdout",
     "output_type": "stream",
     "text": [
      "Skipped 12 frames due to low MAD.\n",
      "→ Saved all predicted masks for mbike-trick in data/DAVIS2017_mgfs_naive_optical/mbike-trick\n",
      "\n",
      "=== Processing sequence: motocross-jump ===\n"
     ]
    },
    {
     "name": "stderr",
     "output_type": "stream",
     "text": [
      "frame loading (JPEG): 100%|██████████| 40/40 [00:01<00:00, 31.44it/s]\n"
     ]
    },
    {
     "name": "stdout",
     "output_type": "stream",
     "text": [
      "Found 2 unique non‐black colors in motocross-jump/00000.png\n"
     ]
    },
    {
     "name": "stderr",
     "output_type": "stream",
     "text": [
      "Propagating motocross-jump:  79%|███████▉  | 31/39 [00:23<00:06,  1.25it/s]"
     ]
    },
    {
     "name": "stdout",
     "output_type": "stream",
     "text": [
      "Avg FPS last 30 frames: 1.28\n"
     ]
    },
    {
     "name": "stderr",
     "output_type": "stream",
     "text": [
      "propagate in video: 100%|██████████| 40/40 [00:29<00:00,  1.34it/s].25it/s]\n",
      "Propagating motocross-jump: 40it [00:29,  1.34it/s]                        \n"
     ]
    },
    {
     "name": "stdout",
     "output_type": "stream",
     "text": [
      "Skipping frame 39 due to low MAD (0.04)\n",
      "Skipped 1 frames due to low MAD.\n",
      "→ Saved all predicted masks for motocross-jump in data/DAVIS2017_mgfs_naive_optical/motocross-jump\n",
      "\n",
      "=== Processing sequence: paragliding-launch ===\n"
     ]
    },
    {
     "name": "stderr",
     "output_type": "stream",
     "text": [
      "frame loading (JPEG): 100%|██████████| 80/80 [00:02<00:00, 29.62it/s]\n"
     ]
    },
    {
     "name": "stdout",
     "output_type": "stream",
     "text": [
      "Found 3 unique non‐black colors in paragliding-launch/00000.png\n"
     ]
    },
    {
     "name": "stderr",
     "output_type": "stream",
     "text": [
      "Propagating paragliding-launch:  39%|███▉      | 31/79 [00:28<00:46,  1.03it/s]"
     ]
    },
    {
     "name": "stdout",
     "output_type": "stream",
     "text": [
      "Avg FPS last 30 frames: 1.06\n"
     ]
    },
    {
     "name": "stderr",
     "output_type": "stream",
     "text": [
      "Propagating paragliding-launch:  77%|███████▋  | 61/79 [00:55<00:17,  1.02it/s]"
     ]
    },
    {
     "name": "stdout",
     "output_type": "stream",
     "text": [
      "Avg FPS last 30 frames: 1.10\n"
     ]
    },
    {
     "name": "stderr",
     "output_type": "stream",
     "text": [
      "propagate in video: 100%|██████████| 80/80 [01:14<00:00,  1.08it/s]            \n",
      "Propagating paragliding-launch: 80it [01:14,  1.08it/s]\n"
     ]
    },
    {
     "name": "stdout",
     "output_type": "stream",
     "text": [
      "→ Saved all predicted masks for paragliding-launch in data/DAVIS2017_mgfs_naive_optical/paragliding-launch\n",
      "\n",
      "=== Processing sequence: parkour ===\n"
     ]
    },
    {
     "name": "stderr",
     "output_type": "stream",
     "text": [
      "frame loading (JPEG): 100%|██████████| 100/100 [00:03<00:00, 26.44it/s]\n"
     ]
    },
    {
     "name": "stdout",
     "output_type": "stream",
     "text": [
      "Found 1 unique non‐black colors in parkour/00000.png\n"
     ]
    },
    {
     "name": "stderr",
     "output_type": "stream",
     "text": [
      "Propagating parkour:  31%|███▏      | 31/99 [00:18<00:42,  1.59it/s]"
     ]
    },
    {
     "name": "stdout",
     "output_type": "stream",
     "text": [
      "Avg FPS last 30 frames: 1.65\n"
     ]
    },
    {
     "name": "stderr",
     "output_type": "stream",
     "text": [
      "Propagating parkour:  62%|██████▏   | 61/99 [00:36<00:23,  1.60it/s]"
     ]
    },
    {
     "name": "stdout",
     "output_type": "stream",
     "text": [
      "Avg FPS last 30 frames: 1.60\n"
     ]
    },
    {
     "name": "stderr",
     "output_type": "stream",
     "text": [
      "Propagating parkour:  92%|█████████▏| 91/99 [00:55<00:05,  1.60it/s]"
     ]
    },
    {
     "name": "stdout",
     "output_type": "stream",
     "text": [
      "Avg FPS last 30 frames: 1.58\n"
     ]
    },
    {
     "name": "stderr",
     "output_type": "stream",
     "text": [
      "propagate in video: 100%|██████████| 100/100 [01:01<00:00,  1.62it/s]\n",
      "Propagating parkour: 100it [01:01,  1.62it/s]\n"
     ]
    },
    {
     "name": "stdout",
     "output_type": "stream",
     "text": [
      "→ Saved all predicted masks for parkour in data/DAVIS2017_mgfs_naive_optical/parkour\n",
      "\n",
      "=== Processing sequence: pigs ===\n"
     ]
    },
    {
     "name": "stderr",
     "output_type": "stream",
     "text": [
      "frame loading (JPEG): 100%|██████████| 79/79 [00:02<00:00, 29.22it/s]\n"
     ]
    },
    {
     "name": "stdout",
     "output_type": "stream",
     "text": [
      "Found 3 unique non‐black colors in pigs/00000.png\n"
     ]
    },
    {
     "name": "stderr",
     "output_type": "stream",
     "text": [
      "Propagating pigs:   3%|▎         | 2/78 [00:00<00:26,  2.92it/s]"
     ]
    },
    {
     "name": "stdout",
     "output_type": "stream",
     "text": [
      "Skipping frame 2 due to low MAD (0.05)\n"
     ]
    },
    {
     "name": "stderr",
     "output_type": "stream",
     "text": [
      "Propagating pigs:   5%|▌         | 4/78 [00:01<00:27,  2.68it/s]"
     ]
    },
    {
     "name": "stdout",
     "output_type": "stream",
     "text": [
      "Skipping frame 4 due to low MAD (0.05)\n"
     ]
    },
    {
     "name": "stderr",
     "output_type": "stream",
     "text": [
      "Propagating pigs:   8%|▊         | 6/78 [00:02<00:29,  2.42it/s]"
     ]
    },
    {
     "name": "stdout",
     "output_type": "stream",
     "text": [
      "Skipping frame 6 due to low MAD (0.05)\n"
     ]
    },
    {
     "name": "stderr",
     "output_type": "stream",
     "text": [
      "Propagating pigs:  10%|█         | 8/78 [00:03<00:31,  2.22it/s]"
     ]
    },
    {
     "name": "stdout",
     "output_type": "stream",
     "text": [
      "Skipping frame 8 due to low MAD (0.05)\n"
     ]
    },
    {
     "name": "stderr",
     "output_type": "stream",
     "text": [
      "Propagating pigs:  13%|█▎        | 10/78 [00:04<00:32,  2.12it/s]"
     ]
    },
    {
     "name": "stdout",
     "output_type": "stream",
     "text": [
      "Skipping frame 10 due to low MAD (0.04)\n"
     ]
    },
    {
     "name": "stderr",
     "output_type": "stream",
     "text": [
      "Propagating pigs:  15%|█▌        | 12/78 [00:05<00:31,  2.07it/s]"
     ]
    },
    {
     "name": "stdout",
     "output_type": "stream",
     "text": [
      "Skipping frame 12 due to low MAD (0.05)\n"
     ]
    },
    {
     "name": "stderr",
     "output_type": "stream",
     "text": [
      "Propagating pigs:  18%|█▊        | 14/78 [00:06<00:31,  2.03it/s]"
     ]
    },
    {
     "name": "stdout",
     "output_type": "stream",
     "text": [
      "Skipping frame 14 due to low MAD (0.04)\n"
     ]
    },
    {
     "name": "stderr",
     "output_type": "stream",
     "text": [
      "Propagating pigs:  21%|██        | 16/78 [00:07<00:30,  2.01it/s]"
     ]
    },
    {
     "name": "stdout",
     "output_type": "stream",
     "text": [
      "Skipping frame 16 due to low MAD (0.04)\n"
     ]
    },
    {
     "name": "stderr",
     "output_type": "stream",
     "text": [
      "Propagating pigs:  23%|██▎       | 18/78 [00:08<00:30,  1.99it/s]"
     ]
    },
    {
     "name": "stdout",
     "output_type": "stream",
     "text": [
      "Skipping frame 18 due to low MAD (0.04)\n"
     ]
    },
    {
     "name": "stderr",
     "output_type": "stream",
     "text": [
      "Propagating pigs:  26%|██▌       | 20/78 [00:09<00:26,  2.19it/s]"
     ]
    },
    {
     "name": "stdout",
     "output_type": "stream",
     "text": [
      "Skipping frame 20 due to low MAD (0.04)\n"
     ]
    },
    {
     "name": "stderr",
     "output_type": "stream",
     "text": [
      "Propagating pigs:  28%|██▊       | 22/78 [00:09<00:22,  2.48it/s]"
     ]
    },
    {
     "name": "stdout",
     "output_type": "stream",
     "text": [
      "Skipping frame 22 due to low MAD (0.03)\n"
     ]
    },
    {
     "name": "stderr",
     "output_type": "stream",
     "text": [
      "Propagating pigs:  35%|███▍      | 27/78 [00:10<00:12,  4.14it/s]"
     ]
    },
    {
     "name": "stdout",
     "output_type": "stream",
     "text": [
      "Skipping frame 24 due to low MAD (0.03)\n",
      "Skipping frame 25 due to low MAD (0.03)\n",
      "Skipping frame 26 due to low MAD (0.05)\n"
     ]
    },
    {
     "name": "stderr",
     "output_type": "stream",
     "text": [
      "Propagating pigs:  37%|███▋      | 29/78 [00:11<00:13,  3.61it/s]"
     ]
    },
    {
     "name": "stdout",
     "output_type": "stream",
     "text": [
      "Skipping frame 28 due to low MAD (0.05)\n"
     ]
    },
    {
     "name": "stderr",
     "output_type": "stream",
     "text": [
      "Propagating pigs:  40%|███▉      | 31/78 [00:13<00:22,  2.11it/s]"
     ]
    },
    {
     "name": "stdout",
     "output_type": "stream",
     "text": [
      "Avg FPS last 30 frames: 2.31\n"
     ]
    },
    {
     "name": "stderr",
     "output_type": "stream",
     "text": [
      "Propagating pigs:  41%|████      | 32/78 [00:13<00:26,  1.76it/s]"
     ]
    },
    {
     "name": "stdout",
     "output_type": "stream",
     "text": [
      "Skipping frame 32 due to low MAD (0.05)\n"
     ]
    },
    {
     "name": "stderr",
     "output_type": "stream",
     "text": [
      "Propagating pigs:  46%|████▌     | 36/78 [00:16<00:30,  1.39it/s]"
     ]
    },
    {
     "name": "stdout",
     "output_type": "stream",
     "text": [
      "Skipping frame 36 due to low MAD (0.05)\n"
     ]
    },
    {
     "name": "stderr",
     "output_type": "stream",
     "text": [
      "Propagating pigs:  49%|████▊     | 38/78 [00:17<00:25,  1.58it/s]"
     ]
    },
    {
     "name": "stdout",
     "output_type": "stream",
     "text": [
      "Skipping frame 38 due to low MAD (0.04)\n"
     ]
    },
    {
     "name": "stderr",
     "output_type": "stream",
     "text": [
      "Propagating pigs:  51%|█████▏    | 40/78 [00:18<00:22,  1.71it/s]"
     ]
    },
    {
     "name": "stdout",
     "output_type": "stream",
     "text": [
      "Skipping frame 40 due to low MAD (0.04)\n"
     ]
    },
    {
     "name": "stderr",
     "output_type": "stream",
     "text": [
      "Propagating pigs:  54%|█████▍    | 42/78 [00:19<00:19,  1.82it/s]"
     ]
    },
    {
     "name": "stdout",
     "output_type": "stream",
     "text": [
      "Skipping frame 42 due to low MAD (0.05)\n"
     ]
    },
    {
     "name": "stderr",
     "output_type": "stream",
     "text": [
      "Propagating pigs:  60%|██████    | 47/78 [00:22<00:16,  1.85it/s]"
     ]
    },
    {
     "name": "stdout",
     "output_type": "stream",
     "text": [
      "Skipping frame 47 due to low MAD (0.04)\n"
     ]
    },
    {
     "name": "stderr",
     "output_type": "stream",
     "text": [
      "Propagating pigs:  64%|██████▍   | 50/78 [00:24<00:17,  1.61it/s]"
     ]
    },
    {
     "name": "stdout",
     "output_type": "stream",
     "text": [
      "Skipping frame 50 due to low MAD (0.00)\n",
      "Skipping frame 51 due to low MAD (0.05)\n"
     ]
    },
    {
     "name": "stderr",
     "output_type": "stream",
     "text": [
      "Propagating pigs:  68%|██████▊   | 53/78 [00:25<00:12,  2.04it/s]"
     ]
    },
    {
     "name": "stdout",
     "output_type": "stream",
     "text": [
      "Skipping frame 53 due to low MAD (0.05)\n"
     ]
    },
    {
     "name": "stderr",
     "output_type": "stream",
     "text": [
      "Propagating pigs:  71%|███████   | 55/78 [00:26<00:11,  2.03it/s]"
     ]
    },
    {
     "name": "stdout",
     "output_type": "stream",
     "text": [
      "Skipping frame 55 due to low MAD (0.04)\n"
     ]
    },
    {
     "name": "stderr",
     "output_type": "stream",
     "text": [
      "Propagating pigs:  73%|███████▎  | 57/78 [00:27<00:10,  2.01it/s]"
     ]
    },
    {
     "name": "stdout",
     "output_type": "stream",
     "text": [
      "Skipping frame 57 due to low MAD (0.04)\n"
     ]
    },
    {
     "name": "stderr",
     "output_type": "stream",
     "text": [
      "Propagating pigs:  76%|███████▌  | 59/78 [00:28<00:09,  2.01it/s]"
     ]
    },
    {
     "name": "stdout",
     "output_type": "stream",
     "text": [
      "Skipping frame 59 due to low MAD (0.04)\n"
     ]
    },
    {
     "name": "stderr",
     "output_type": "stream",
     "text": [
      "Propagating pigs:  78%|███████▊  | 61/78 [00:29<00:08,  2.00it/s]"
     ]
    },
    {
     "name": "stdout",
     "output_type": "stream",
     "text": [
      "Avg FPS last 30 frames: 1.82\n",
      "Skipping frame 61 due to low MAD (0.04)\n"
     ]
    },
    {
     "name": "stderr",
     "output_type": "stream",
     "text": [
      "Propagating pigs:  81%|████████  | 63/78 [00:30<00:07,  2.00it/s]"
     ]
    },
    {
     "name": "stdout",
     "output_type": "stream",
     "text": [
      "Skipping frame 63 due to low MAD (0.04)\n"
     ]
    },
    {
     "name": "stderr",
     "output_type": "stream",
     "text": [
      "Propagating pigs:  83%|████████▎ | 65/78 [00:31<00:06,  1.99it/s]"
     ]
    },
    {
     "name": "stdout",
     "output_type": "stream",
     "text": [
      "Skipping frame 65 due to low MAD (0.04)\n"
     ]
    },
    {
     "name": "stderr",
     "output_type": "stream",
     "text": [
      "Propagating pigs:  86%|████████▌ | 67/78 [00:32<00:05,  1.99it/s]"
     ]
    },
    {
     "name": "stdout",
     "output_type": "stream",
     "text": [
      "Skipping frame 67 due to low MAD (0.03)\n",
      "Skipping frame 68 due to low MAD (0.05)\n"
     ]
    },
    {
     "name": "stderr",
     "output_type": "stream",
     "text": [
      "Propagating pigs:  90%|████████▉ | 70/78 [00:33<00:03,  2.27it/s]"
     ]
    },
    {
     "name": "stdout",
     "output_type": "stream",
     "text": [
      "Skipping frame 70 due to low MAD (0.03)\n",
      "Skipping frame 71 due to low MAD (0.04)\n"
     ]
    },
    {
     "name": "stderr",
     "output_type": "stream",
     "text": [
      "Propagating pigs:  97%|█████████▋| 76/78 [00:34<00:00,  3.55it/s]"
     ]
    },
    {
     "name": "stdout",
     "output_type": "stream",
     "text": [
      "Skipping frame 73 due to low MAD (0.03)\n",
      "Skipping frame 74 due to low MAD (0.04)\n",
      "Skipping frame 75 due to low MAD (0.04)\n"
     ]
    },
    {
     "name": "stderr",
     "output_type": "stream",
     "text": [
      "propagate in video: 100%|██████████| 79/79 [00:35<00:00,  2.20it/s]\n",
      "Propagating pigs: 79it [00:35,  2.20it/s]                        \n"
     ]
    },
    {
     "name": "stdout",
     "output_type": "stream",
     "text": [
      "Skipping frame 77 due to low MAD (0.03)\n",
      "Skipping frame 78 due to low MAD (0.04)\n",
      "Skipped 39 frames due to low MAD.\n",
      "→ Saved all predicted masks for pigs in data/DAVIS2017_mgfs_naive_optical/pigs\n",
      "\n",
      "=== Processing sequence: scooter-black ===\n"
     ]
    },
    {
     "name": "stderr",
     "output_type": "stream",
     "text": [
      "frame loading (JPEG): 100%|██████████| 43/43 [00:01<00:00, 32.46it/s]\n"
     ]
    },
    {
     "name": "stdout",
     "output_type": "stream",
     "text": [
      "Found 2 unique non‐black colors in scooter-black/00000.png\n"
     ]
    },
    {
     "name": "stderr",
     "output_type": "stream",
     "text": [
      "Propagating scooter-black:  74%|███████▍  | 31/42 [00:23<00:08,  1.25it/s]"
     ]
    },
    {
     "name": "stdout",
     "output_type": "stream",
     "text": [
      "Avg FPS last 30 frames: 1.28\n"
     ]
    },
    {
     "name": "stderr",
     "output_type": "stream",
     "text": [
      "propagate in video: 100%|██████████| 43/43 [00:31<00:00,  1.36it/s]       \n",
      "Propagating scooter-black: 43it [00:31,  1.36it/s]\n"
     ]
    },
    {
     "name": "stdout",
     "output_type": "stream",
     "text": [
      "→ Saved all predicted masks for scooter-black in data/DAVIS2017_mgfs_naive_optical/scooter-black\n",
      "\n",
      "=== Processing sequence: shooting ===\n"
     ]
    },
    {
     "name": "stderr",
     "output_type": "stream",
     "text": [
      "frame loading (JPEG): 100%|██████████| 40/40 [00:01<00:00, 30.24it/s]\n"
     ]
    },
    {
     "name": "stdout",
     "output_type": "stream",
     "text": [
      "Found 3 unique non‐black colors in shooting/00000.png\n"
     ]
    },
    {
     "name": "stderr",
     "output_type": "stream",
     "text": [
      "Propagating shooting:  79%|███████▉  | 31/39 [00:28<00:07,  1.01it/s]"
     ]
    },
    {
     "name": "stdout",
     "output_type": "stream",
     "text": [
      "Avg FPS last 30 frames: 1.04\n"
     ]
    },
    {
     "name": "stderr",
     "output_type": "stream",
     "text": [
      "propagate in video: 100%|██████████| 40/40 [00:37<00:00,  1.06it/s]  \n",
      "Propagating shooting: 40it [00:37,  1.06it/s]\n"
     ]
    },
    {
     "name": "stdout",
     "output_type": "stream",
     "text": [
      "→ Saved all predicted masks for shooting in data/DAVIS2017_mgfs_naive_optical/shooting\n",
      "\n",
      "=== Processing sequence: soapbox ===\n"
     ]
    },
    {
     "name": "stderr",
     "output_type": "stream",
     "text": [
      "frame loading (JPEG): 100%|██████████| 99/99 [00:03<00:00, 28.21it/s]\n"
     ]
    },
    {
     "name": "stdout",
     "output_type": "stream",
     "text": [
      "Found 3 unique non‐black colors in soapbox/00000.png\n"
     ]
    },
    {
     "name": "stderr",
     "output_type": "stream",
     "text": [
      "Propagating soapbox:   4%|▍         | 4/98 [00:02<00:55,  1.70it/s]"
     ]
    },
    {
     "name": "stdout",
     "output_type": "stream",
     "text": [
      "Skipping frame 4 due to low MAD (0.05)\n"
     ]
    },
    {
     "name": "stderr",
     "output_type": "stream",
     "text": [
      "Propagating soapbox:  32%|███▏      | 31/98 [00:26<01:05,  1.03it/s]"
     ]
    },
    {
     "name": "stdout",
     "output_type": "stream",
     "text": [
      "Avg FPS last 30 frames: 1.15\n"
     ]
    },
    {
     "name": "stderr",
     "output_type": "stream",
     "text": [
      "Propagating soapbox:  62%|██████▏   | 61/98 [00:53<00:36,  1.03it/s]"
     ]
    },
    {
     "name": "stdout",
     "output_type": "stream",
     "text": [
      "Avg FPS last 30 frames: 1.09\n"
     ]
    },
    {
     "name": "stderr",
     "output_type": "stream",
     "text": [
      "Propagating soapbox:  93%|█████████▎| 91/98 [01:23<00:06,  1.00it/s]"
     ]
    },
    {
     "name": "stdout",
     "output_type": "stream",
     "text": [
      "Avg FPS last 30 frames: 1.01\n"
     ]
    },
    {
     "name": "stderr",
     "output_type": "stream",
     "text": [
      "propagate in video: 100%|██████████| 99/99 [01:30<00:00,  1.09it/s] \n",
      "Propagating soapbox: 99it [01:30,  1.09it/s]"
     ]
    },
    {
     "name": "stdout",
     "output_type": "stream",
     "text": [
      "Skipped 1 frames due to low MAD.\n",
      "→ Saved all predicted masks for soapbox in data/DAVIS2017_mgfs_naive_optical/soapbox\n",
      "\n",
      "All sequences processed.\n",
      "Your SAM 2 masks live under: data/DAVIS2017_mgfs_naive_optical\n"
     ]
    },
    {
     "name": "stderr",
     "output_type": "stream",
     "text": [
      "\n"
     ]
    }
   ],
   "source": [
    "# ── STEP 3: for each DAVIS sequence, run SAM 2 and save outputs ───────────────\n",
    "for seq in ds.sequences:\n",
    "    print(f\"\\n=== Processing sequence: {seq} ===\")\n",
    "\n",
    "    # 3a) directories of images & GT masks for this sequence\n",
    "    img_dir  = DAVIS_ROOT / \"JPEGImages\"  / \"480p\" / seq\n",
    "    mask_dir = DAVIS_ROOT / \"Annotations\" / \"480p\" / seq\n",
    "\n",
    "    img_paths  = sorted(img_dir.glob(\"*.jpg\"))\n",
    "    mask_paths = sorted(mask_dir.glob(\"*.png\"))\n",
    "    assert len(img_paths) == len(mask_paths), (\n",
    "        f\"Image/mask count mismatch in {seq}: {len(img_paths)} vs {len(mask_paths)}\"\n",
    "    )\n",
    "\n",
    "    # 3b) initialize inference state by “loading” this sequence as a video\n",
    "    #     We pass the *directory* of frames to init_state.  Internally, it will call\n",
    "    #     `load_video_frames(video_path=video_dir, ...)` and store all frames in memory.\n",
    "    video_dir = str(img_dir)  # e.g. \"./data/davis/DAVIS/JPEGImages/480p/<seq>\"\n",
    "    inference_state = predictor.init_state(\n",
    "        video_path=video_dir,\n",
    "        offload_video_to_cpu=False,\n",
    "        offload_state_to_cpu=False,\n",
    "        async_loading_frames=False\n",
    "    )\n",
    "\n",
    "# (b) load the single “00000.png” which contains two different colored regions\n",
    "    rgb = iio.imread(str(mask_dir / \"00000.png\"))  # shape (H, W, 3)\n",
    "    H, W, C = rgb.shape\n",
    "    assert C == 3, \"Expected a 3‐channel (RGB) first‐frame mask.\"\n",
    "\n",
    "    # (c) find all unique RGB colors except black\n",
    "    flat = rgb.reshape(-1, 3)                        # shape (H*W, 3)\n",
    "    uniq_colors = np.unique(flat, axis=0)            # shape (K, 3), where K ≤ (H*W)\n",
    "    # Remove the black color (0,0,0) if present\n",
    "    non_black = [tuple(c) for c in uniq_colors if not np.all(c == 0)]\n",
    "    if len(non_black) == 0:\n",
    "        raise RuntimeError(f\"No non‐black colors found in {seq}/00000.png\")\n",
    "\n",
    "    # (d) for each unique non‐black color, build a 2D boolean mask and register it\n",
    "    print(f\"Found {len(non_black)} unique non‐black colors in {seq}/00000.png\")\n",
    "    for idx, color in enumerate(non_black):\n",
    "        # color is something like (200, 0, 0) or (0, 200, 0)\n",
    "        R, G, B = color\n",
    "        # build a binary mask: True where pixel == this color\n",
    "        bin_mask = np.logical_and.reduce([\n",
    "            rgb[:, :, 0] == R,\n",
    "            rgb[:, :, 1] == G,\n",
    "            rgb[:, :, 2] == B\n",
    "        ])  # shape (H, W), dtype=bool\n",
    "\n",
    "        # wrap as torch.bool on the same device as SAM 2\n",
    "        mask2d = torch.from_numpy(bin_mask).to(device)\n",
    "\n",
    "        # register this mask as object `idx`\n",
    "        predictor.add_new_mask(\n",
    "            inference_state=inference_state,\n",
    "            frame_idx=0,\n",
    "            obj_id=idx,  # choose 0,1,2,… per color\n",
    "            mask=mask2d\n",
    "        )\n",
    "\n",
    "    # 3e) now propagate through all frames.  As each new frame is processed,\n",
    "    #     propagate_in_video yields (frame_idx, [obj_ids], video_res_masks).\n",
    "    #\n",
    "    #     We’ll save each mask as “00000.png”, “00001.png”, … under OUT_DIR/<seq>/\n",
    "    seq_out_dir = OUT_DIR / seq\n",
    "    seq_out_dir.mkdir(parents=True, exist_ok=True)\n",
    "\n",
    "    for frame_idx, obj_ids, video_res_masks in tqdm(\n",
    "        predictor.propagate_in_video(inference_state),\n",
    "        total=len(img_paths)-1,\n",
    "        desc=f\"Propagating {seq}\"\n",
    "    ):\n",
    "        # # ‣ frame_idx is an integer (1,2,3,…).  video_res_masks is a tensor of shape\n",
    "        # #   (num_objects, H, W).  For DAVIS, num_objects==1.\n",
    "        # #\n",
    "        # # ‣ Thresholding has already happened internally; `video_res_masks` is\n",
    "        # #   a float‐tensor where positive values correspond to predicted “object.”\n",
    "        # mask_np = (video_res_masks[0].cpu().numpy() > 0.0).astype(np.uint8) * 255\n",
    "\n",
    "        # # Save with zero‐padded five digits to match DAVIS naming:\n",
    "        # save_name = f\"{frame_idx:05d}.png\"\n",
    "        # save_path = seq_out_dir / save_name\n",
    "        # iio.imwrite(str(save_path), mask_np)\n",
    "\n",
    "        # Suppose `video_res_masks` is whatever you get from propagate_in_video:\n",
    "        #   • If there is only one object, it may be a 2D tensor of shape (H, W)\n",
    "        #   • If there are multiple objects, it will be a 3D tensor of shape (O, H, W)\n",
    "\n",
    "        pred_np = video_res_masks.cpu().numpy()   # dtype=float32 or float; # ───────────────────────────────────────────────────────────────\n",
    "        # Assume you already did:\n",
    "        #   pred_np = video_res_masks.cpu().numpy()\n",
    "\n",
    "        # 1) Check how many dimensions `pred_np` has:\n",
    "        if pred_np.ndim == 2:\n",
    "            # Case A: single object, shape = (H, W)\n",
    "            H, W = pred_np.shape\n",
    "            O = 1\n",
    "            pred_np = pred_np[np.newaxis, ...]  # -> now shape (1, H, W)\n",
    "\n",
    "        elif pred_np.ndim == 3:\n",
    "            # Could be either:\n",
    "            #  (A) shape = (1, H, W)   ← single object with a leading axis\n",
    "            #  (B) shape = (O, H, W)   ← multiple objects, no extra channel axis\n",
    "            if pred_np.shape[0] == 1:\n",
    "                # Treat as “one‐object” → squeeze to (1, H, W) (already fits our convention)\n",
    "                O, H, W = pred_np.shape\n",
    "            else:\n",
    "                # Multi‐object already: (O, H, W)\n",
    "                O, H, W = pred_np.shape\n",
    "            # (no need to reshape because it’s already (O, H, W))\n",
    "\n",
    "        elif pred_np.ndim == 4:\n",
    "            # Some SAM 2 builds return (O, 1, H, W). In that case:\n",
    "            #   • pred_np.shape = (O, 1, H, W)\n",
    "            #   → we want to drop the “channel” dimension (axis=1).\n",
    "            O = pred_np.shape[0]\n",
    "            H = pred_np.shape[2]\n",
    "            W = pred_np.shape[3]\n",
    "            pred_np = pred_np[:, 0, :, :]  # now shape (O, H, W)\n",
    "\n",
    "        else:\n",
    "            raise RuntimeError(f\"Unexpected mask array with ndim={pred_np.ndim}, shape={pred_np.shape}\")\n",
    "\n",
    "        # At this point:\n",
    "        #   • pred_np is guaranteed to have shape (O, H, W)\n",
    "        #   • O, H, W are set correctly\n",
    "        # ───────────────────────────────────────────────────────────────\n",
    "\n",
    "        # Now you can build your colored output exactly as before:\n",
    "\n",
    "        colored = np.zeros((H, W, 3), dtype=np.uint8)\n",
    "\n",
    "        for i in range(O):\n",
    "            mask_i = (pred_np[i] > 0.0)   # boolean mask (H, W)\n",
    "            if not mask_i.any():\n",
    "                continue\n",
    "            R, G, B = non_black[i]  # the original RGB for object i\n",
    "            colored[mask_i, 0] = R\n",
    "            colored[mask_i, 1] = G\n",
    "            colored[mask_i, 2] = B\n",
    "\n",
    "        save_name = f\"{frame_idx:05d}.png\"\n",
    "        save_path = seq_out_dir / save_name\n",
    "        iio.imwrite(str(save_path), colored)\n",
    "\n",
    "\n",
    "    print(f\"→ Saved all predicted masks for {seq} in {seq_out_dir}\")\n",
    "\n",
    "print(\"\\nAll sequences processed.\")\n",
    "print(f\"Your SAM 2 masks live under: {OUT_DIR}\")\n"
   ]
  }
 ],
 "metadata": {
  "kernelspec": {
   "display_name": "Python 3",
   "language": "python",
   "name": "python3"
  },
  "language_info": {
   "codemirror_mode": {
    "name": "ipython",
    "version": 3
   },
   "file_extension": ".py",
   "mimetype": "text/x-python",
   "name": "python",
   "nbconvert_exporter": "python",
   "pygments_lexer": "ipython3",
   "version": "3.10.12 (main, Feb  4 2025, 14:57:36) [GCC 11.4.0]"
  },
  "vscode": {
   "interpreter": {
    "hash": "916dbcbb3f70747c44a77c7bcd40155683ae19c65e1c03b4aa3499c5328201f1"
   }
  }
 },
 "nbformat": 4,
 "nbformat_minor": 5
}
