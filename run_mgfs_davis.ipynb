{
 "cells": [
  {
   "cell_type": "code",
   "execution_count": 15,
   "id": "acc92286",
   "metadata": {},
   "outputs": [
    {
     "name": "stdout",
     "output_type": "stream",
     "text": [
      "Loaded 30 validation sequences\n"
     ]
    },
    {
     "data": {
      "text/plain": [
       "SAM2VideoPredictor(\n",
       "  (image_encoder): ImageEncoder(\n",
       "    (trunk): Hiera(\n",
       "      (patch_embed): PatchEmbed(\n",
       "        (proj): Conv2d(3, 144, kernel_size=(7, 7), stride=(4, 4), padding=(3, 3))\n",
       "      )\n",
       "      (blocks): ModuleList(\n",
       "        (0-1): 2 x MultiScaleBlock(\n",
       "          (norm1): LayerNorm((144,), eps=1e-06, elementwise_affine=True)\n",
       "          (attn): MultiScaleAttention(\n",
       "            (qkv): Linear(in_features=144, out_features=432, bias=True)\n",
       "            (proj): Linear(in_features=144, out_features=144, bias=True)\n",
       "          )\n",
       "          (drop_path): Identity()\n",
       "          (norm2): LayerNorm((144,), eps=1e-06, elementwise_affine=True)\n",
       "          (mlp): MLP(\n",
       "            (layers): ModuleList(\n",
       "              (0): Linear(in_features=144, out_features=576, bias=True)\n",
       "              (1): Linear(in_features=576, out_features=144, bias=True)\n",
       "            )\n",
       "            (act): GELU(approximate='none')\n",
       "          )\n",
       "        )\n",
       "        (2): MultiScaleBlock(\n",
       "          (norm1): LayerNorm((144,), eps=1e-06, elementwise_affine=True)\n",
       "          (pool): MaxPool2d(kernel_size=(2, 2), stride=(2, 2), padding=0, dilation=1, ceil_mode=False)\n",
       "          (attn): MultiScaleAttention(\n",
       "            (q_pool): MaxPool2d(kernel_size=(2, 2), stride=(2, 2), padding=0, dilation=1, ceil_mode=False)\n",
       "            (qkv): Linear(in_features=144, out_features=864, bias=True)\n",
       "            (proj): Linear(in_features=288, out_features=288, bias=True)\n",
       "          )\n",
       "          (drop_path): Identity()\n",
       "          (norm2): LayerNorm((288,), eps=1e-06, elementwise_affine=True)\n",
       "          (mlp): MLP(\n",
       "            (layers): ModuleList(\n",
       "              (0): Linear(in_features=288, out_features=1152, bias=True)\n",
       "              (1): Linear(in_features=1152, out_features=288, bias=True)\n",
       "            )\n",
       "            (act): GELU(approximate='none')\n",
       "          )\n",
       "          (proj): Linear(in_features=144, out_features=288, bias=True)\n",
       "        )\n",
       "        (3-7): 5 x MultiScaleBlock(\n",
       "          (norm1): LayerNorm((288,), eps=1e-06, elementwise_affine=True)\n",
       "          (attn): MultiScaleAttention(\n",
       "            (qkv): Linear(in_features=288, out_features=864, bias=True)\n",
       "            (proj): Linear(in_features=288, out_features=288, bias=True)\n",
       "          )\n",
       "          (drop_path): Identity()\n",
       "          (norm2): LayerNorm((288,), eps=1e-06, elementwise_affine=True)\n",
       "          (mlp): MLP(\n",
       "            (layers): ModuleList(\n",
       "              (0): Linear(in_features=288, out_features=1152, bias=True)\n",
       "              (1): Linear(in_features=1152, out_features=288, bias=True)\n",
       "            )\n",
       "            (act): GELU(approximate='none')\n",
       "          )\n",
       "        )\n",
       "        (8): MultiScaleBlock(\n",
       "          (norm1): LayerNorm((288,), eps=1e-06, elementwise_affine=True)\n",
       "          (pool): MaxPool2d(kernel_size=(2, 2), stride=(2, 2), padding=0, dilation=1, ceil_mode=False)\n",
       "          (attn): MultiScaleAttention(\n",
       "            (q_pool): MaxPool2d(kernel_size=(2, 2), stride=(2, 2), padding=0, dilation=1, ceil_mode=False)\n",
       "            (qkv): Linear(in_features=288, out_features=1728, bias=True)\n",
       "            (proj): Linear(in_features=576, out_features=576, bias=True)\n",
       "          )\n",
       "          (drop_path): Identity()\n",
       "          (norm2): LayerNorm((576,), eps=1e-06, elementwise_affine=True)\n",
       "          (mlp): MLP(\n",
       "            (layers): ModuleList(\n",
       "              (0): Linear(in_features=576, out_features=2304, bias=True)\n",
       "              (1): Linear(in_features=2304, out_features=576, bias=True)\n",
       "            )\n",
       "            (act): GELU(approximate='none')\n",
       "          )\n",
       "          (proj): Linear(in_features=288, out_features=576, bias=True)\n",
       "        )\n",
       "        (9-43): 35 x MultiScaleBlock(\n",
       "          (norm1): LayerNorm((576,), eps=1e-06, elementwise_affine=True)\n",
       "          (attn): MultiScaleAttention(\n",
       "            (qkv): Linear(in_features=576, out_features=1728, bias=True)\n",
       "            (proj): Linear(in_features=576, out_features=576, bias=True)\n",
       "          )\n",
       "          (drop_path): Identity()\n",
       "          (norm2): LayerNorm((576,), eps=1e-06, elementwise_affine=True)\n",
       "          (mlp): MLP(\n",
       "            (layers): ModuleList(\n",
       "              (0): Linear(in_features=576, out_features=2304, bias=True)\n",
       "              (1): Linear(in_features=2304, out_features=576, bias=True)\n",
       "            )\n",
       "            (act): GELU(approximate='none')\n",
       "          )\n",
       "        )\n",
       "        (44): MultiScaleBlock(\n",
       "          (norm1): LayerNorm((576,), eps=1e-06, elementwise_affine=True)\n",
       "          (pool): MaxPool2d(kernel_size=(2, 2), stride=(2, 2), padding=0, dilation=1, ceil_mode=False)\n",
       "          (attn): MultiScaleAttention(\n",
       "            (q_pool): MaxPool2d(kernel_size=(2, 2), stride=(2, 2), padding=0, dilation=1, ceil_mode=False)\n",
       "            (qkv): Linear(in_features=576, out_features=3456, bias=True)\n",
       "            (proj): Linear(in_features=1152, out_features=1152, bias=True)\n",
       "          )\n",
       "          (drop_path): Identity()\n",
       "          (norm2): LayerNorm((1152,), eps=1e-06, elementwise_affine=True)\n",
       "          (mlp): MLP(\n",
       "            (layers): ModuleList(\n",
       "              (0): Linear(in_features=1152, out_features=4608, bias=True)\n",
       "              (1): Linear(in_features=4608, out_features=1152, bias=True)\n",
       "            )\n",
       "            (act): GELU(approximate='none')\n",
       "          )\n",
       "          (proj): Linear(in_features=576, out_features=1152, bias=True)\n",
       "        )\n",
       "        (45-47): 3 x MultiScaleBlock(\n",
       "          (norm1): LayerNorm((1152,), eps=1e-06, elementwise_affine=True)\n",
       "          (attn): MultiScaleAttention(\n",
       "            (qkv): Linear(in_features=1152, out_features=3456, bias=True)\n",
       "            (proj): Linear(in_features=1152, out_features=1152, bias=True)\n",
       "          )\n",
       "          (drop_path): Identity()\n",
       "          (norm2): LayerNorm((1152,), eps=1e-06, elementwise_affine=True)\n",
       "          (mlp): MLP(\n",
       "            (layers): ModuleList(\n",
       "              (0): Linear(in_features=1152, out_features=4608, bias=True)\n",
       "              (1): Linear(in_features=4608, out_features=1152, bias=True)\n",
       "            )\n",
       "            (act): GELU(approximate='none')\n",
       "          )\n",
       "        )\n",
       "      )\n",
       "    )\n",
       "    (neck): FpnNeck(\n",
       "      (position_encoding): PositionEmbeddingSine()\n",
       "      (convs): ModuleList(\n",
       "        (0): Sequential(\n",
       "          (conv): Conv2d(1152, 256, kernel_size=(1, 1), stride=(1, 1))\n",
       "        )\n",
       "        (1): Sequential(\n",
       "          (conv): Conv2d(576, 256, kernel_size=(1, 1), stride=(1, 1))\n",
       "        )\n",
       "        (2): Sequential(\n",
       "          (conv): Conv2d(288, 256, kernel_size=(1, 1), stride=(1, 1))\n",
       "        )\n",
       "        (3): Sequential(\n",
       "          (conv): Conv2d(144, 256, kernel_size=(1, 1), stride=(1, 1))\n",
       "        )\n",
       "      )\n",
       "    )\n",
       "  )\n",
       "  (mask_downsample): Conv2d(1, 1, kernel_size=(4, 4), stride=(4, 4))\n",
       "  (memory_attention): MemoryAttention(\n",
       "    (layers): ModuleList(\n",
       "      (0-3): 4 x MemoryAttentionLayer(\n",
       "        (self_attn): RoPEAttention(\n",
       "          (q_proj): Linear(in_features=256, out_features=256, bias=True)\n",
       "          (k_proj): Linear(in_features=256, out_features=256, bias=True)\n",
       "          (v_proj): Linear(in_features=256, out_features=256, bias=True)\n",
       "          (out_proj): Linear(in_features=256, out_features=256, bias=True)\n",
       "        )\n",
       "        (cross_attn_image): RoPEAttention(\n",
       "          (q_proj): Linear(in_features=256, out_features=256, bias=True)\n",
       "          (k_proj): Linear(in_features=64, out_features=256, bias=True)\n",
       "          (v_proj): Linear(in_features=64, out_features=256, bias=True)\n",
       "          (out_proj): Linear(in_features=256, out_features=256, bias=True)\n",
       "        )\n",
       "        (linear1): Linear(in_features=256, out_features=2048, bias=True)\n",
       "        (dropout): Dropout(p=0.1, inplace=False)\n",
       "        (linear2): Linear(in_features=2048, out_features=256, bias=True)\n",
       "        (norm1): LayerNorm((256,), eps=1e-05, elementwise_affine=True)\n",
       "        (norm2): LayerNorm((256,), eps=1e-05, elementwise_affine=True)\n",
       "        (norm3): LayerNorm((256,), eps=1e-05, elementwise_affine=True)\n",
       "        (dropout1): Dropout(p=0.1, inplace=False)\n",
       "        (dropout2): Dropout(p=0.1, inplace=False)\n",
       "        (dropout3): Dropout(p=0.1, inplace=False)\n",
       "      )\n",
       "    )\n",
       "    (norm): LayerNorm((256,), eps=1e-05, elementwise_affine=True)\n",
       "  )\n",
       "  (memory_encoder): MemoryEncoder(\n",
       "    (mask_downsampler): MaskDownSampler(\n",
       "      (encoder): Sequential(\n",
       "        (0): Conv2d(1, 4, kernel_size=(3, 3), stride=(2, 2), padding=(1, 1))\n",
       "        (1): LayerNorm2d()\n",
       "        (2): GELU(approximate='none')\n",
       "        (3): Conv2d(4, 16, kernel_size=(3, 3), stride=(2, 2), padding=(1, 1))\n",
       "        (4): LayerNorm2d()\n",
       "        (5): GELU(approximate='none')\n",
       "        (6): Conv2d(16, 64, kernel_size=(3, 3), stride=(2, 2), padding=(1, 1))\n",
       "        (7): LayerNorm2d()\n",
       "        (8): GELU(approximate='none')\n",
       "        (9): Conv2d(64, 256, kernel_size=(3, 3), stride=(2, 2), padding=(1, 1))\n",
       "        (10): LayerNorm2d()\n",
       "        (11): GELU(approximate='none')\n",
       "        (12): Conv2d(256, 256, kernel_size=(1, 1), stride=(1, 1))\n",
       "      )\n",
       "    )\n",
       "    (pix_feat_proj): Conv2d(256, 256, kernel_size=(1, 1), stride=(1, 1))\n",
       "    (fuser): Fuser(\n",
       "      (proj): Identity()\n",
       "      (layers): ModuleList(\n",
       "        (0-1): 2 x CXBlock(\n",
       "          (dwconv): Conv2d(256, 256, kernel_size=(7, 7), stride=(1, 1), padding=(3, 3), groups=256)\n",
       "          (norm): LayerNorm2d()\n",
       "          (pwconv1): Linear(in_features=256, out_features=1024, bias=True)\n",
       "          (act): GELU(approximate='none')\n",
       "          (pwconv2): Linear(in_features=1024, out_features=256, bias=True)\n",
       "          (drop_path): Identity()\n",
       "        )\n",
       "      )\n",
       "    )\n",
       "    (position_encoding): PositionEmbeddingSine()\n",
       "    (out_proj): Conv2d(256, 64, kernel_size=(1, 1), stride=(1, 1))\n",
       "  )\n",
       "  (sam_prompt_encoder): PromptEncoder(\n",
       "    (pe_layer): PositionEmbeddingRandom()\n",
       "    (point_embeddings): ModuleList(\n",
       "      (0-3): 4 x Embedding(1, 256)\n",
       "    )\n",
       "    (not_a_point_embed): Embedding(1, 256)\n",
       "    (mask_downscaling): Sequential(\n",
       "      (0): Conv2d(1, 4, kernel_size=(2, 2), stride=(2, 2))\n",
       "      (1): LayerNorm2d()\n",
       "      (2): GELU(approximate='none')\n",
       "      (3): Conv2d(4, 16, kernel_size=(2, 2), stride=(2, 2))\n",
       "      (4): LayerNorm2d()\n",
       "      (5): GELU(approximate='none')\n",
       "      (6): Conv2d(16, 256, kernel_size=(1, 1), stride=(1, 1))\n",
       "    )\n",
       "    (no_mask_embed): Embedding(1, 256)\n",
       "  )\n",
       "  (sam_mask_decoder): MaskDecoder(\n",
       "    (transformer): TwoWayTransformer(\n",
       "      (layers): ModuleList(\n",
       "        (0-1): 2 x TwoWayAttentionBlock(\n",
       "          (self_attn): Attention(\n",
       "            (q_proj): Linear(in_features=256, out_features=256, bias=True)\n",
       "            (k_proj): Linear(in_features=256, out_features=256, bias=True)\n",
       "            (v_proj): Linear(in_features=256, out_features=256, bias=True)\n",
       "            (out_proj): Linear(in_features=256, out_features=256, bias=True)\n",
       "          )\n",
       "          (norm1): LayerNorm((256,), eps=1e-05, elementwise_affine=True)\n",
       "          (cross_attn_token_to_image): Attention(\n",
       "            (q_proj): Linear(in_features=256, out_features=128, bias=True)\n",
       "            (k_proj): Linear(in_features=256, out_features=128, bias=True)\n",
       "            (v_proj): Linear(in_features=256, out_features=128, bias=True)\n",
       "            (out_proj): Linear(in_features=128, out_features=256, bias=True)\n",
       "          )\n",
       "          (norm2): LayerNorm((256,), eps=1e-05, elementwise_affine=True)\n",
       "          (mlp): MLP(\n",
       "            (layers): ModuleList(\n",
       "              (0): Linear(in_features=256, out_features=2048, bias=True)\n",
       "              (1): Linear(in_features=2048, out_features=256, bias=True)\n",
       "            )\n",
       "            (act): ReLU()\n",
       "          )\n",
       "          (norm3): LayerNorm((256,), eps=1e-05, elementwise_affine=True)\n",
       "          (norm4): LayerNorm((256,), eps=1e-05, elementwise_affine=True)\n",
       "          (cross_attn_image_to_token): Attention(\n",
       "            (q_proj): Linear(in_features=256, out_features=128, bias=True)\n",
       "            (k_proj): Linear(in_features=256, out_features=128, bias=True)\n",
       "            (v_proj): Linear(in_features=256, out_features=128, bias=True)\n",
       "            (out_proj): Linear(in_features=128, out_features=256, bias=True)\n",
       "          )\n",
       "        )\n",
       "      )\n",
       "      (final_attn_token_to_image): Attention(\n",
       "        (q_proj): Linear(in_features=256, out_features=128, bias=True)\n",
       "        (k_proj): Linear(in_features=256, out_features=128, bias=True)\n",
       "        (v_proj): Linear(in_features=256, out_features=128, bias=True)\n",
       "        (out_proj): Linear(in_features=128, out_features=256, bias=True)\n",
       "      )\n",
       "      (norm_final_attn): LayerNorm((256,), eps=1e-05, elementwise_affine=True)\n",
       "    )\n",
       "    (iou_token): Embedding(1, 256)\n",
       "    (mask_tokens): Embedding(4, 256)\n",
       "    (obj_score_token): Embedding(1, 256)\n",
       "    (output_upscaling): Sequential(\n",
       "      (0): ConvTranspose2d(256, 64, kernel_size=(2, 2), stride=(2, 2))\n",
       "      (1): LayerNorm2d()\n",
       "      (2): GELU(approximate='none')\n",
       "      (3): ConvTranspose2d(64, 32, kernel_size=(2, 2), stride=(2, 2))\n",
       "      (4): GELU(approximate='none')\n",
       "    )\n",
       "    (conv_s0): Conv2d(256, 32, kernel_size=(1, 1), stride=(1, 1))\n",
       "    (conv_s1): Conv2d(256, 64, kernel_size=(1, 1), stride=(1, 1))\n",
       "    (output_hypernetworks_mlps): ModuleList(\n",
       "      (0-3): 4 x MLP(\n",
       "        (layers): ModuleList(\n",
       "          (0-1): 2 x Linear(in_features=256, out_features=256, bias=True)\n",
       "          (2): Linear(in_features=256, out_features=32, bias=True)\n",
       "        )\n",
       "        (act): ReLU()\n",
       "      )\n",
       "    )\n",
       "    (iou_prediction_head): MLP(\n",
       "      (layers): ModuleList(\n",
       "        (0-1): 2 x Linear(in_features=256, out_features=256, bias=True)\n",
       "        (2): Linear(in_features=256, out_features=4, bias=True)\n",
       "      )\n",
       "      (act): ReLU()\n",
       "    )\n",
       "    (pred_obj_score_head): MLP(\n",
       "      (layers): ModuleList(\n",
       "        (0-1): 2 x Linear(in_features=256, out_features=256, bias=True)\n",
       "        (2): Linear(in_features=256, out_features=1, bias=True)\n",
       "      )\n",
       "      (act): ReLU()\n",
       "    )\n",
       "  )\n",
       "  (obj_ptr_proj): MLP(\n",
       "    (layers): ModuleList(\n",
       "      (0-2): 3 x Linear(in_features=256, out_features=256, bias=True)\n",
       "    )\n",
       "    (act): ReLU()\n",
       "  )\n",
       "  (obj_ptr_tpos_proj): Linear(in_features=256, out_features=64, bias=True)\n",
       ")"
      ]
     },
     "execution_count": 15,
     "metadata": {},
     "output_type": "execute_result"
    }
   ],
   "source": [
    "import sys, os, json, time, subprocess, pathlib\n",
    "from pathlib import Path\n",
    "from davis2017.davis import DAVIS\n",
    "import imageio.v3 as iio\n",
    "import numpy as np\n",
    "from tqdm import tqdm\n",
    "import torch\n",
    "\n",
    "# ── USER‐CONFIGURABLE PATHS ──────────────────────────────────────────────────\n",
    "DAVIS_ROOT  = Path(\"./data/davis/DAVIS\")          # ← point this at your DAVIS folder\n",
    "OUT_DIR     = Path(\"./data/sam2_preds\")           # ← where we’ll write out PNGs\n",
    "OUT_DIR.mkdir(parents=True, exist_ok=True)\n",
    "\n",
    "# ── STEP 1: load the DAVIS “val” split (semi‐supervised task) ───────────────────\n",
    "ds = DAVIS(str(DAVIS_ROOT), task=\"semi-supervised\", subset=\"val\", resolution=\"480p\")\n",
    "print(f\"Loaded {len(ds.sequences)} validation sequences\")\n",
    "\n",
    "# ── STEP 2: build SAM 2 video predictor ─────────────────────────────────────────\n",
    "from sam2.build_sam import build_sam2_video_predictor\n",
    "\n",
    "device = \"cuda\" if torch.cuda.is_available() else \"cpu\"\n",
    "sam2_checkpoint = \"./checkpoints/sam2.1_hiera_large.pt\"   # ← adjust if needed\n",
    "model_cfg       = \"configs/sam2.1/sam2.1_hiera_l.yaml\"   # ← adjust if needed\n",
    "\n",
    "predictor = build_sam2_video_predictor(model_cfg, sam2_checkpoint, device=device)\n",
    "predictor.to(device)   # make sure model is on CUDA if available"
   ]
  },
  {
   "cell_type": "code",
   "execution_count": 31,
   "id": "bdd669c2",
   "metadata": {},
   "outputs": [
    {
     "name": "stdout",
     "output_type": "stream",
     "text": [
      "\n",
      "=== Processing sequence: bike-packing ===\n"
     ]
    },
    {
     "name": "stderr",
     "output_type": "stream",
     "text": [
      "frame loading (JPEG): 100%|██████████| 69/69 [00:01<00:00, 60.43it/s]\n"
     ]
    },
    {
     "name": "stdout",
     "output_type": "stream",
     "text": [
      "Found 2 unique non‐black colors in bike-packing/00000.png\n"
     ]
    },
    {
     "name": "stderr",
     "output_type": "stream",
     "text": [
      "Propagating bike-packing:   7%|▋         | 5/68 [00:00<00:01, 45.88it/s]"
     ]
    },
    {
     "name": "stdout",
     "output_type": "stream",
     "text": [
      "Skipping frame 1 due to low MAD (0.04)\n",
      "Skipping frame 2 due to low MAD (0.06)\n",
      "Skipping frame 3 due to low MAD (0.07)\n",
      "Skipping frame 4 due to low MAD (0.09)\n",
      "Skipping frame 6 due to low MAD (0.07)\n",
      "Skipping frame 7 due to low MAD (0.09)\n"
     ]
    },
    {
     "name": "stderr",
     "output_type": "stream",
     "text": [
      "Propagating bike-packing:  15%|█▍        | 10/68 [00:00<00:04, 13.88it/s]"
     ]
    },
    {
     "name": "stdout",
     "output_type": "stream",
     "text": [
      "Skipping frame 9 due to low MAD (0.09)\n"
     ]
    },
    {
     "name": "stderr",
     "output_type": "stream",
     "text": [
      "Propagating bike-packing:  19%|█▉        | 13/68 [00:01<00:07,  7.50it/s]"
     ]
    },
    {
     "name": "stdout",
     "output_type": "stream",
     "text": [
      "Skipping frame 13 due to low MAD (0.10)\n"
     ]
    },
    {
     "name": "stderr",
     "output_type": "stream",
     "text": [
      "Propagating bike-packing:  22%|██▏       | 15/68 [00:01<00:07,  7.41it/s]"
     ]
    },
    {
     "name": "stdout",
     "output_type": "stream",
     "text": [
      "Skipping frame 15 due to low MAD (0.09)\n"
     ]
    },
    {
     "name": "stderr",
     "output_type": "stream",
     "text": [
      "Propagating bike-packing:  25%|██▌       | 17/68 [00:01<00:06,  7.35it/s]"
     ]
    },
    {
     "name": "stdout",
     "output_type": "stream",
     "text": [
      "Skipping frame 17 due to low MAD (0.10)\n"
     ]
    },
    {
     "name": "stderr",
     "output_type": "stream",
     "text": [
      "Propagating bike-packing:  34%|███▍      | 23/68 [00:03<00:09,  4.83it/s]"
     ]
    },
    {
     "name": "stdout",
     "output_type": "stream",
     "text": [
      "Skipping frame 23 due to low MAD (0.09)\n"
     ]
    },
    {
     "name": "stderr",
     "output_type": "stream",
     "text": [
      "Propagating bike-packing:  38%|███▊      | 26/68 [00:03<00:08,  5.06it/s]"
     ]
    },
    {
     "name": "stdout",
     "output_type": "stream",
     "text": [
      "Skipping frame 26 due to low MAD (0.08)\n",
      "Skipping frame 27 due to low MAD (0.09)\n"
     ]
    },
    {
     "name": "stderr",
     "output_type": "stream",
     "text": [
      "Propagating bike-packing:  50%|█████     | 34/68 [00:04<00:02, 12.47it/s]"
     ]
    },
    {
     "name": "stdout",
     "output_type": "stream",
     "text": [
      "Skipping frame 29 due to low MAD (0.04)\n",
      "Skipping frame 30 due to low MAD (0.05)\n",
      "Avg FPS last 30 frames: 7.27\n",
      "Skipping frame 31 due to low MAD (0.05)\n",
      "Skipping frame 32 due to low MAD (0.06)\n",
      "Skipping frame 33 due to low MAD (0.08)\n"
     ]
    },
    {
     "name": "stderr",
     "output_type": "stream",
     "text": [
      "Propagating bike-packing:  53%|█████▎    | 36/68 [00:04<00:02, 10.67it/s]"
     ]
    },
    {
     "name": "stdout",
     "output_type": "stream",
     "text": [
      "Skipping frame 35 due to low MAD (0.07)\n"
     ]
    },
    {
     "name": "stderr",
     "output_type": "stream",
     "text": [
      "Propagating bike-packing:  56%|█████▌    | 38/68 [00:04<00:03,  9.55it/s]"
     ]
    },
    {
     "name": "stdout",
     "output_type": "stream",
     "text": [
      "Skipping frame 37 due to low MAD (0.07)\n"
     ]
    },
    {
     "name": "stderr",
     "output_type": "stream",
     "text": [
      "Propagating bike-packing:  62%|██████▏   | 42/68 [00:05<00:04,  5.72it/s]"
     ]
    },
    {
     "name": "stdout",
     "output_type": "stream",
     "text": [
      "Skipping frame 44 due to low MAD (0.10)\n"
     ]
    },
    {
     "name": "stderr",
     "output_type": "stream",
     "text": [
      "Propagating bike-packing:  81%|████████  | 55/68 [00:07<00:02,  5.75it/s]"
     ]
    },
    {
     "name": "stdout",
     "output_type": "stream",
     "text": [
      "Skipping frame 55 due to low MAD (0.10)\n"
     ]
    },
    {
     "name": "stderr",
     "output_type": "stream",
     "text": [
      "Propagating bike-packing:  84%|████████▍ | 57/68 [00:07<00:01,  6.06it/s]"
     ]
    },
    {
     "name": "stdout",
     "output_type": "stream",
     "text": [
      "Skipping frame 57 due to low MAD (0.08)\n"
     ]
    },
    {
     "name": "stderr",
     "output_type": "stream",
     "text": [
      "Propagating bike-packing:  90%|████████▉ | 61/68 [00:08<00:01,  5.29it/s]"
     ]
    },
    {
     "name": "stdout",
     "output_type": "stream",
     "text": [
      "Avg FPS last 30 frames: 6.83\n",
      "Skipping frame 61 due to low MAD (0.09)\n"
     ]
    },
    {
     "name": "stderr",
     "output_type": "stream",
     "text": [
      "Propagating bike-packing:  93%|█████████▎| 63/68 [00:08<00:00,  5.84it/s]"
     ]
    },
    {
     "name": "stdout",
     "output_type": "stream",
     "text": [
      "Skipping frame 63 due to low MAD (0.07)\n"
     ]
    },
    {
     "name": "stderr",
     "output_type": "stream",
     "text": [
      "Propagating bike-packing:  96%|█████████▌| 65/68 [00:09<00:00,  6.24it/s]"
     ]
    },
    {
     "name": "stdout",
     "output_type": "stream",
     "text": [
      "Skipping frame 65 due to low MAD (0.07)\n",
      "Skipping frame 66 due to low MAD (0.10)\n"
     ]
    },
    {
     "name": "stderr",
     "output_type": "stream",
     "text": [
      "propagate in video: 100%|██████████| 69/69 [00:09<00:00,  7.34it/s]2it/s]\n",
      "Propagating bike-packing: 69it [00:09,  7.33it/s]                        \n"
     ]
    },
    {
     "name": "stdout",
     "output_type": "stream",
     "text": [
      "Skipping frame 68 due to low MAD (0.04)\n",
      "Skipped 28 frames due to low MAD.\n",
      "→ Saved all predicted masks for bike-packing in data/sam2_preds_multi/bike-packing\n",
      "\n",
      "=== Processing sequence: blackswan ===\n"
     ]
    },
    {
     "name": "stderr",
     "output_type": "stream",
     "text": [
      "frame loading (JPEG): 100%|██████████| 50/50 [00:00<00:00, 60.41it/s]\n"
     ]
    },
    {
     "name": "stdout",
     "output_type": "stream",
     "text": [
      "Found 1 unique non‐black colors in blackswan/00000.png\n"
     ]
    },
    {
     "name": "stderr",
     "output_type": "stream",
     "text": [
      "Propagating blackswan:  65%|██████▌   | 32/49 [00:05<00:03,  5.29it/s]"
     ]
    },
    {
     "name": "stdout",
     "output_type": "stream",
     "text": [
      "Avg FPS last 30 frames: 5.39\n"
     ]
    },
    {
     "name": "stderr",
     "output_type": "stream",
     "text": [
      "propagate in video: 100%|██████████| 50/50 [00:09<00:00,  5.55it/s]   \n",
      "Propagating blackswan: 50it [00:09,  5.55it/s]\n"
     ]
    },
    {
     "name": "stdout",
     "output_type": "stream",
     "text": [
      "→ Saved all predicted masks for blackswan in data/sam2_preds_multi/blackswan\n",
      "\n",
      "=== Processing sequence: bmx-trees ===\n"
     ]
    },
    {
     "name": "stderr",
     "output_type": "stream",
     "text": [
      "frame loading (JPEG): 100%|██████████| 80/80 [00:01<00:00, 60.17it/s]\n"
     ]
    },
    {
     "name": "stdout",
     "output_type": "stream",
     "text": [
      "Found 2 unique non‐black colors in bmx-trees/00000.png\n"
     ]
    },
    {
     "name": "stderr",
     "output_type": "stream",
     "text": [
      "Propagating bmx-trees:  39%|███▉      | 31/79 [00:07<00:12,  3.95it/s]"
     ]
    },
    {
     "name": "stdout",
     "output_type": "stream",
     "text": [
      "Avg FPS last 30 frames: 4.10\n"
     ]
    },
    {
     "name": "stderr",
     "output_type": "stream",
     "text": [
      "Propagating bmx-trees:  77%|███████▋  | 61/79 [00:14<00:04,  3.97it/s]"
     ]
    },
    {
     "name": "stdout",
     "output_type": "stream",
     "text": [
      "Avg FPS last 30 frames: 3.96\n"
     ]
    },
    {
     "name": "stderr",
     "output_type": "stream",
     "text": [
      "propagate in video: 100%|██████████| 80/80 [00:18<00:00,  4.39it/s]   \n",
      "Propagating bmx-trees: 80it [00:18,  4.39it/s]\n"
     ]
    },
    {
     "name": "stdout",
     "output_type": "stream",
     "text": [
      "→ Saved all predicted masks for bmx-trees in data/sam2_preds_multi/bmx-trees\n",
      "\n",
      "=== Processing sequence: breakdance ===\n"
     ]
    },
    {
     "name": "stderr",
     "output_type": "stream",
     "text": [
      "frame loading (JPEG): 100%|██████████| 84/84 [00:01<00:00, 63.11it/s]\n"
     ]
    },
    {
     "name": "stdout",
     "output_type": "stream",
     "text": [
      "Found 1 unique non‐black colors in breakdance/00000.png\n"
     ]
    },
    {
     "name": "stderr",
     "output_type": "stream",
     "text": [
      "Propagating breakdance:   4%|▎         | 3/83 [00:00<00:04, 16.40it/s]"
     ]
    },
    {
     "name": "stdout",
     "output_type": "stream",
     "text": [
      "Skipping frame 1 due to low MAD (0.09)\n",
      "Skipping frame 3 due to low MAD (0.09)\n"
     ]
    },
    {
     "name": "stderr",
     "output_type": "stream",
     "text": [
      "Propagating breakdance:  11%|█         | 9/83 [00:00<00:07,  9.26it/s]"
     ]
    },
    {
     "name": "stdout",
     "output_type": "stream",
     "text": [
      "Skipping frame 7 due to low MAD (0.10)\n"
     ]
    },
    {
     "name": "stderr",
     "output_type": "stream",
     "text": [
      "Propagating breakdance:  19%|█▉        | 16/83 [00:01<00:08,  7.55it/s]"
     ]
    },
    {
     "name": "stdout",
     "output_type": "stream",
     "text": [
      "Skipping frame 14 due to low MAD (0.10)\n"
     ]
    },
    {
     "name": "stderr",
     "output_type": "stream",
     "text": [
      "Propagating breakdance:  29%|██▉       | 24/83 [00:03<00:08,  7.07it/s]"
     ]
    },
    {
     "name": "stdout",
     "output_type": "stream",
     "text": [
      "Skipping frame 22 due to low MAD (0.09)\n"
     ]
    },
    {
     "name": "stderr",
     "output_type": "stream",
     "text": [
      "Propagating breakdance:  31%|███▏      | 26/83 [00:03<00:07,  7.90it/s]\n"
     ]
    },
    {
     "name": "stdout",
     "output_type": "stream",
     "text": [
      "Skipping frame 24 due to low MAD (0.10)\n"
     ]
    },
    {
     "name": "stderr",
     "output_type": "stream",
     "text": [
      "Propagating breakdance:  39%|███▊      | 32/83 [00:04<00:07,  7.18it/s]"
     ]
    },
    {
     "name": "stdout",
     "output_type": "stream",
     "text": [
      "Skipping frame 30 due to low MAD (0.10)\n",
      "Avg FPS last 30 frames: 7.06\n",
      "Skipping frame 32 due to low MAD (0.10)\n"
     ]
    },
    {
     "name": "stderr",
     "output_type": "stream",
     "text": [
      "Propagating breakdance:  43%|████▎     | 36/83 [00:04<00:05,  8.72it/s]"
     ]
    },
    {
     "name": "stdout",
     "output_type": "stream",
     "text": [
      "Skipping frame 34 due to low MAD (0.10)\n",
      "Skipping frame 36 due to low MAD (0.09)\n"
     ]
    },
    {
     "name": "stderr",
     "output_type": "stream",
     "text": [
      "Propagating breakdance:  48%|████▊     | 40/83 [00:05<00:04,  9.53it/s]"
     ]
    },
    {
     "name": "stdout",
     "output_type": "stream",
     "text": [
      "Skipping frame 38 due to low MAD (0.09)\n",
      "Skipping frame 40 due to low MAD (0.09)\n"
     ]
    },
    {
     "name": "stderr",
     "output_type": "stream",
     "text": [
      "Propagating breakdance:  58%|█████▊    | 48/83 [00:06<00:04,  7.82it/s]"
     ]
    },
    {
     "name": "stdout",
     "output_type": "stream",
     "text": [
      "Skipping frame 46 due to low MAD (0.10)\n"
     ]
    },
    {
     "name": "stderr",
     "output_type": "stream",
     "text": [
      "Propagating breakdance:  69%|██████▊   | 57/83 [00:07<00:03,  7.27it/s]"
     ]
    },
    {
     "name": "stdout",
     "output_type": "stream",
     "text": [
      "Skipping frame 55 due to low MAD (0.08)\n",
      "Skipping frame 57 due to low MAD (0.08)\n"
     ]
    },
    {
     "name": "stderr",
     "output_type": "stream",
     "text": [
      "Propagating breakdance:  73%|███████▎  | 61/83 [00:08<00:02,  8.87it/s]"
     ]
    },
    {
     "name": "stdout",
     "output_type": "stream",
     "text": [
      "Skipping frame 59 due to low MAD (0.10)\n",
      "Avg FPS last 30 frames: 7.71\n"
     ]
    },
    {
     "name": "stderr",
     "output_type": "stream",
     "text": [
      "Propagating breakdance:  88%|████████▊ | 73/83 [00:10<00:01,  7.11it/s]"
     ]
    },
    {
     "name": "stdout",
     "output_type": "stream",
     "text": [
      "Skipping frame 71 due to low MAD (0.09)\n",
      "Skipping frame 73 due to low MAD (0.10)\n"
     ]
    },
    {
     "name": "stderr",
     "output_type": "stream",
     "text": [
      "Propagating breakdance:  93%|█████████▎| 77/83 [00:10<00:00,  8.80it/s]"
     ]
    },
    {
     "name": "stdout",
     "output_type": "stream",
     "text": [
      "Skipping frame 75 due to low MAD (0.09)\n",
      "Skipping frame 77 due to low MAD (0.08)\n"
     ]
    },
    {
     "name": "stderr",
     "output_type": "stream",
     "text": [
      "Propagating breakdance:  98%|█████████▊| 81/83 [00:10<00:00,  9.59it/s]"
     ]
    },
    {
     "name": "stdout",
     "output_type": "stream",
     "text": [
      "Skipping frame 79 due to low MAD (0.09)\n",
      "Skipping frame 81 due to low MAD (0.09)\n"
     ]
    },
    {
     "name": "stderr",
     "output_type": "stream",
     "text": [
      "propagate in video: 100%|██████████| 84/84 [00:11<00:00,  7.55it/s]t/s]\n",
      "Propagating breakdance: 84it [00:11,  7.54it/s]                        \n"
     ]
    },
    {
     "name": "stdout",
     "output_type": "stream",
     "text": [
      "Skipping frame 83 due to low MAD (0.09)\n",
      "Skipped 23 frames due to low MAD.\n",
      "→ Saved all predicted masks for breakdance in data/sam2_preds_multi/breakdance\n",
      "\n",
      "=== Processing sequence: camel ===\n"
     ]
    },
    {
     "name": "stderr",
     "output_type": "stream",
     "text": [
      "frame loading (JPEG): 100%|██████████| 90/90 [00:01<00:00, 61.51it/s]\n"
     ]
    },
    {
     "name": "stdout",
     "output_type": "stream",
     "text": [
      "Found 1 unique non‐black colors in camel/00000.png\n"
     ]
    },
    {
     "name": "stderr",
     "output_type": "stream",
     "text": [
      "Propagating camel:  36%|███▌      | 32/89 [00:05<00:10,  5.48it/s]"
     ]
    },
    {
     "name": "stdout",
     "output_type": "stream",
     "text": [
      "Avg FPS last 30 frames: 5.62\n"
     ]
    },
    {
     "name": "stderr",
     "output_type": "stream",
     "text": [
      "Propagating camel:  70%|██████▉   | 62/89 [00:10<00:04,  5.52it/s]"
     ]
    },
    {
     "name": "stdout",
     "output_type": "stream",
     "text": [
      "Avg FPS last 30 frames: 5.50\n"
     ]
    },
    {
     "name": "stderr",
     "output_type": "stream",
     "text": [
      "propagate in video: 100%|██████████| 90/90 [00:14<00:00,  6.15it/s]\n",
      "Propagating camel: 90it [00:14,  6.15it/s]\n"
     ]
    },
    {
     "name": "stdout",
     "output_type": "stream",
     "text": [
      "→ Saved all predicted masks for camel in data/sam2_preds_multi/camel\n",
      "\n",
      "=== Processing sequence: car-roundabout ===\n"
     ]
    },
    {
     "name": "stderr",
     "output_type": "stream",
     "text": [
      "frame loading (JPEG): 100%|██████████| 75/75 [00:01<00:00, 61.59it/s]\n"
     ]
    },
    {
     "name": "stdout",
     "output_type": "stream",
     "text": [
      "Found 1 unique non‐black colors in car-roundabout/00000.png\n"
     ]
    },
    {
     "name": "stderr",
     "output_type": "stream",
     "text": [
      "Propagating car-roundabout:  43%|████▎     | 32/74 [00:05<00:07,  5.54it/s]"
     ]
    },
    {
     "name": "stdout",
     "output_type": "stream",
     "text": [
      "Avg FPS last 30 frames: 5.67\n"
     ]
    },
    {
     "name": "stderr",
     "output_type": "stream",
     "text": [
      "Propagating car-roundabout:  84%|████████▍ | 62/74 [00:11<00:02,  5.32it/s]"
     ]
    },
    {
     "name": "stdout",
     "output_type": "stream",
     "text": [
      "Avg FPS last 30 frames: 5.43\n"
     ]
    },
    {
     "name": "stderr",
     "output_type": "stream",
     "text": [
      "propagate in video: 100%|██████████| 75/75 [00:13<00:00,  5.55it/s]        \n",
      "Propagating car-roundabout: 75it [00:13,  5.55it/s]\n"
     ]
    },
    {
     "name": "stdout",
     "output_type": "stream",
     "text": [
      "→ Saved all predicted masks for car-roundabout in data/sam2_preds_multi/car-roundabout\n",
      "\n",
      "=== Processing sequence: car-shadow ===\n"
     ]
    },
    {
     "name": "stderr",
     "output_type": "stream",
     "text": [
      "frame loading (JPEG): 100%|██████████| 40/40 [00:00<00:00, 61.89it/s]\n"
     ]
    },
    {
     "name": "stdout",
     "output_type": "stream",
     "text": [
      "Found 1 unique non‐black colors in car-shadow/00000.png\n"
     ]
    },
    {
     "name": "stderr",
     "output_type": "stream",
     "text": [
      "Propagating car-shadow:  82%|████████▏ | 32/39 [00:05<00:01,  5.22it/s]"
     ]
    },
    {
     "name": "stdout",
     "output_type": "stream",
     "text": [
      "Avg FPS last 30 frames: 5.34\n"
     ]
    },
    {
     "name": "stderr",
     "output_type": "stream",
     "text": [
      "propagate in video: 100%|██████████| 40/40 [00:07<00:00,  5.44it/s]    \n",
      "Propagating car-shadow: 40it [00:07,  5.44it/s]\n"
     ]
    },
    {
     "name": "stdout",
     "output_type": "stream",
     "text": [
      "→ Saved all predicted masks for car-shadow in data/sam2_preds_multi/car-shadow\n",
      "\n",
      "=== Processing sequence: cows ===\n"
     ]
    },
    {
     "name": "stderr",
     "output_type": "stream",
     "text": [
      "frame loading (JPEG): 100%|██████████| 104/104 [00:01<00:00, 58.65it/s]\n"
     ]
    },
    {
     "name": "stdout",
     "output_type": "stream",
     "text": [
      "Found 1 unique non‐black colors in cows/00000.png\n"
     ]
    },
    {
     "name": "stderr",
     "output_type": "stream",
     "text": [
      "Propagating cows:  12%|█▏        | 12/103 [00:01<00:16,  5.37it/s]"
     ]
    },
    {
     "name": "stdout",
     "output_type": "stream",
     "text": [
      "Skipping frame 12 due to low MAD (0.09)\n",
      "Skipping frame 13 due to low MAD (0.08)\n"
     ]
    },
    {
     "name": "stderr",
     "output_type": "stream",
     "text": [
      "Propagating cows:  29%|██▉       | 30/103 [00:03<00:04, 17.70it/s]"
     ]
    },
    {
     "name": "stdout",
     "output_type": "stream",
     "text": [
      "Avg FPS last 30 frames: 7.76\n"
     ]
    },
    {
     "name": "stderr",
     "output_type": "stream",
     "text": [
      "Propagating cows:  34%|███▍      | 35/103 [00:04<00:06, 10.31it/s]"
     ]
    },
    {
     "name": "stdout",
     "output_type": "stream",
     "text": [
      "Skipping frame 33 due to low MAD (0.09)\n"
     ]
    },
    {
     "name": "stderr",
     "output_type": "stream",
     "text": [
      "Propagating cows:  60%|██████    | 62/103 [00:09<00:07,  5.25it/s]"
     ]
    },
    {
     "name": "stdout",
     "output_type": "stream",
     "text": [
      "Avg FPS last 30 frames: 5.40\n"
     ]
    },
    {
     "name": "stderr",
     "output_type": "stream",
     "text": [
      "Propagating cows:  79%|███████▊  | 81/103 [00:13<00:04,  5.34it/s]"
     ]
    },
    {
     "name": "stdout",
     "output_type": "stream",
     "text": [
      "Skipping frame 81 due to low MAD (0.07)\n",
      "Skipping frame 82 due to low MAD (0.10)\n"
     ]
    },
    {
     "name": "stderr",
     "output_type": "stream",
     "text": [
      "Propagating cows:  89%|████████▉ | 92/103 [00:14<00:01,  5.52it/s]"
     ]
    },
    {
     "name": "stdout",
     "output_type": "stream",
     "text": [
      "Avg FPS last 30 frames: 5.66\n"
     ]
    },
    {
     "name": "stderr",
     "output_type": "stream",
     "text": [
      "propagate in video: 100%|██████████| 104/104 [00:17<00:00,  6.06it/s]\n",
      "Propagating cows: 104it [00:17,  6.06it/s]\n"
     ]
    },
    {
     "name": "stdout",
     "output_type": "stream",
     "text": [
      "Skipped 5 frames due to low MAD.\n",
      "→ Saved all predicted masks for cows in data/sam2_preds_multi/cows\n",
      "\n",
      "=== Processing sequence: dance-twirl ===\n"
     ]
    },
    {
     "name": "stderr",
     "output_type": "stream",
     "text": [
      "frame loading (JPEG): 100%|██████████| 90/90 [00:01<00:00, 60.09it/s]\n"
     ]
    },
    {
     "name": "stdout",
     "output_type": "stream",
     "text": [
      "Found 1 unique non‐black colors in dance-twirl/00000.png\n"
     ]
    },
    {
     "name": "stderr",
     "output_type": "stream",
     "text": [
      "Propagating dance-twirl:  36%|███▌      | 32/89 [00:05<00:10,  5.32it/s]"
     ]
    },
    {
     "name": "stdout",
     "output_type": "stream",
     "text": [
      "Avg FPS last 30 frames: 5.45\n"
     ]
    },
    {
     "name": "stderr",
     "output_type": "stream",
     "text": [
      "Propagating dance-twirl:  55%|█████▌    | 49/89 [00:08<00:05,  6.72it/s]"
     ]
    },
    {
     "name": "stdout",
     "output_type": "stream",
     "text": [
      "Skipping frame 47 due to low MAD (0.09)\n"
     ]
    },
    {
     "name": "stderr",
     "output_type": "stream",
     "text": [
      "Propagating dance-twirl:  70%|██████▉   | 62/89 [00:11<00:05,  5.35it/s]"
     ]
    },
    {
     "name": "stdout",
     "output_type": "stream",
     "text": [
      "Avg FPS last 30 frames: 5.48\n"
     ]
    },
    {
     "name": "stderr",
     "output_type": "stream",
     "text": [
      "propagate in video: 100%|██████████| 90/90 [00:15<00:00,  5.98it/s]it/s]\n",
      "Propagating dance-twirl: 90it [00:15,  5.98it/s]                        \n"
     ]
    },
    {
     "name": "stdout",
     "output_type": "stream",
     "text": [
      "Skipped 1 frames due to low MAD.\n",
      "→ Saved all predicted masks for dance-twirl in data/sam2_preds_multi/dance-twirl\n",
      "\n",
      "=== Processing sequence: dog ===\n"
     ]
    },
    {
     "name": "stderr",
     "output_type": "stream",
     "text": [
      "frame loading (JPEG): 100%|██████████| 60/60 [00:01<00:00, 59.17it/s]\n"
     ]
    },
    {
     "name": "stdout",
     "output_type": "stream",
     "text": [
      "Found 1 unique non‐black colors in dog/00000.png\n"
     ]
    },
    {
     "name": "stderr",
     "output_type": "stream",
     "text": [
      "Propagating dog:  54%|█████▍    | 32/59 [00:05<00:05,  5.36it/s]"
     ]
    },
    {
     "name": "stdout",
     "output_type": "stream",
     "text": [
      "Avg FPS last 30 frames: 5.46\n"
     ]
    },
    {
     "name": "stderr",
     "output_type": "stream",
     "text": [
      "propagate in video: 100%|██████████| 60/60 [00:10<00:00,  5.54it/s]\n",
      "Propagating dog: 60it [00:10,  5.53it/s]\n"
     ]
    },
    {
     "name": "stdout",
     "output_type": "stream",
     "text": [
      "→ Saved all predicted masks for dog in data/sam2_preds_multi/dog\n",
      "\n",
      "=== Processing sequence: dogs-jump ===\n"
     ]
    },
    {
     "name": "stderr",
     "output_type": "stream",
     "text": [
      "frame loading (JPEG): 100%|██████████| 66/66 [00:01<00:00, 58.85it/s]\n"
     ]
    },
    {
     "name": "stdout",
     "output_type": "stream",
     "text": [
      "Found 3 unique non‐black colors in dogs-jump/00000.png\n"
     ]
    },
    {
     "name": "stderr",
     "output_type": "stream",
     "text": [
      "Propagating dogs-jump:   0%|          | 0/65 [00:00<?, ?it/s]"
     ]
    },
    {
     "name": "stdout",
     "output_type": "stream",
     "text": [
      "Skipping frame 1 due to low MAD (0.05)\n",
      "Skipping frame 2 due to low MAD (0.08)\n",
      "Skipping frame 3 due to low MAD (0.10)\n"
     ]
    },
    {
     "name": "stderr",
     "output_type": "stream",
     "text": [
      "Propagating dogs-jump:   8%|▊         | 5/65 [00:00<00:03, 15.59it/s]"
     ]
    },
    {
     "name": "stdout",
     "output_type": "stream",
     "text": [
      "Skipping frame 5 due to low MAD (0.06)\n",
      "Skipping frame 6 due to low MAD (0.10)\n"
     ]
    },
    {
     "name": "stderr",
     "output_type": "stream",
     "text": [
      "Propagating dogs-jump:  12%|█▏        | 8/65 [00:00<00:04, 11.71it/s]"
     ]
    },
    {
     "name": "stdout",
     "output_type": "stream",
     "text": [
      "Skipping frame 8 due to low MAD (0.07)\n"
     ]
    },
    {
     "name": "stderr",
     "output_type": "stream",
     "text": [
      "Propagating dogs-jump:  15%|█▌        | 10/65 [00:00<00:05,  9.35it/s]"
     ]
    },
    {
     "name": "stdout",
     "output_type": "stream",
     "text": [
      "Skipping frame 10 due to low MAD (0.07)\n"
     ]
    },
    {
     "name": "stderr",
     "output_type": "stream",
     "text": [
      "Propagating dogs-jump:  18%|█▊        | 12/65 [00:01<00:06,  8.20it/s]"
     ]
    },
    {
     "name": "stdout",
     "output_type": "stream",
     "text": [
      "Skipping frame 12 due to low MAD (0.09)\n"
     ]
    },
    {
     "name": "stderr",
     "output_type": "stream",
     "text": [
      "Propagating dogs-jump:  22%|██▏       | 14/65 [00:01<00:06,  7.50it/s]"
     ]
    },
    {
     "name": "stdout",
     "output_type": "stream",
     "text": [
      "Skipping frame 14 due to low MAD (0.08)\n"
     ]
    },
    {
     "name": "stderr",
     "output_type": "stream",
     "text": [
      "Propagating dogs-jump:  25%|██▍       | 16/65 [00:01<00:06,  7.01it/s]"
     ]
    },
    {
     "name": "stdout",
     "output_type": "stream",
     "text": [
      "Skipping frame 16 due to low MAD (0.09)\n"
     ]
    },
    {
     "name": "stderr",
     "output_type": "stream",
     "text": [
      "Propagating dogs-jump:  28%|██▊       | 18/65 [00:02<00:06,  6.76it/s]"
     ]
    },
    {
     "name": "stdout",
     "output_type": "stream",
     "text": [
      "Skipping frame 18 due to low MAD (0.07)\n"
     ]
    },
    {
     "name": "stderr",
     "output_type": "stream",
     "text": [
      "Propagating dogs-jump:  31%|███       | 20/65 [00:02<00:06,  6.64it/s]"
     ]
    },
    {
     "name": "stdout",
     "output_type": "stream",
     "text": [
      "Skipping frame 20 due to low MAD (0.07)\n"
     ]
    },
    {
     "name": "stderr",
     "output_type": "stream",
     "text": [
      "Propagating dogs-jump:  34%|███▍      | 22/65 [00:02<00:06,  6.55it/s]"
     ]
    },
    {
     "name": "stdout",
     "output_type": "stream",
     "text": [
      "Skipping frame 22 due to low MAD (0.06)\n",
      "Skipping frame 23 due to low MAD (0.08)\n",
      "Skipping frame 24 due to low MAD (0.09)\n"
     ]
    },
    {
     "name": "stderr",
     "output_type": "stream",
     "text": [
      "Propagating dogs-jump:  40%|████      | 26/65 [00:03<00:04,  8.10it/s]"
     ]
    },
    {
     "name": "stdout",
     "output_type": "stream",
     "text": [
      "Skipping frame 26 due to low MAD (0.03)\n",
      "Skipping frame 27 due to low MAD (0.05)\n",
      "Skipping frame 28 due to low MAD (0.07)\n",
      "Skipping frame 29 due to low MAD (0.08)\n",
      "Skipping frame 30 due to low MAD (0.10)\n",
      "Avg FPS last 30 frames: 9.09\n"
     ]
    },
    {
     "name": "stderr",
     "output_type": "stream",
     "text": [
      "Propagating dogs-jump:  49%|████▉     | 32/65 [00:03<00:03, 10.58it/s]"
     ]
    },
    {
     "name": "stdout",
     "output_type": "stream",
     "text": [
      "Skipping frame 32 due to low MAD (0.04)\n",
      "Skipping frame 33 due to low MAD (0.06)\n",
      "Skipping frame 34 due to low MAD (0.07)\n",
      "Skipping frame 35 due to low MAD (0.09)\n"
     ]
    },
    {
     "name": "stderr",
     "output_type": "stream",
     "text": [
      "Propagating dogs-jump:  57%|█████▋    | 37/65 [00:03<00:02, 11.54it/s]"
     ]
    },
    {
     "name": "stdout",
     "output_type": "stream",
     "text": [
      "Skipping frame 37 due to low MAD (0.09)\n"
     ]
    },
    {
     "name": "stderr",
     "output_type": "stream",
     "text": [
      "Propagating dogs-jump:  60%|██████    | 39/65 [00:04<00:02, 10.05it/s]"
     ]
    },
    {
     "name": "stdout",
     "output_type": "stream",
     "text": [
      "Skipping frame 39 due to low MAD (0.09)\n"
     ]
    },
    {
     "name": "stderr",
     "output_type": "stream",
     "text": [
      "Propagating dogs-jump:  63%|██████▎   | 41/65 [00:04<00:02,  9.01it/s]"
     ]
    },
    {
     "name": "stdout",
     "output_type": "stream",
     "text": [
      "Skipping frame 41 due to low MAD (0.08)\n"
     ]
    },
    {
     "name": "stderr",
     "output_type": "stream",
     "text": [
      "Propagating dogs-jump:  66%|██████▌   | 43/65 [00:04<00:02,  8.22it/s]"
     ]
    },
    {
     "name": "stdout",
     "output_type": "stream",
     "text": [
      "Skipping frame 43 due to low MAD (0.08)\n"
     ]
    },
    {
     "name": "stderr",
     "output_type": "stream",
     "text": [
      "Propagating dogs-jump:  69%|██████▉   | 45/65 [00:05<00:02,  7.62it/s]"
     ]
    },
    {
     "name": "stdout",
     "output_type": "stream",
     "text": [
      "Skipping frame 45 due to low MAD (0.10)\n"
     ]
    },
    {
     "name": "stderr",
     "output_type": "stream",
     "text": [
      "Propagating dogs-jump:  72%|███████▏  | 47/65 [00:05<00:02,  7.11it/s]"
     ]
    },
    {
     "name": "stdout",
     "output_type": "stream",
     "text": [
      "Skipping frame 47 due to low MAD (0.09)\n"
     ]
    },
    {
     "name": "stderr",
     "output_type": "stream",
     "text": [
      "Propagating dogs-jump:  75%|███████▌  | 49/65 [00:05<00:02,  6.77it/s]"
     ]
    },
    {
     "name": "stdout",
     "output_type": "stream",
     "text": [
      "Skipping frame 49 due to low MAD (0.09)\n"
     ]
    },
    {
     "name": "stderr",
     "output_type": "stream",
     "text": [
      "Propagating dogs-jump:  78%|███████▊  | 51/65 [00:06<00:02,  6.58it/s]"
     ]
    },
    {
     "name": "stdout",
     "output_type": "stream",
     "text": [
      "Skipping frame 51 due to low MAD (0.05)\n",
      "Skipping frame 52 due to low MAD (0.07)\n",
      "Skipping frame 53 due to low MAD (0.09)\n"
     ]
    },
    {
     "name": "stderr",
     "output_type": "stream",
     "text": [
      "Propagating dogs-jump:  85%|████████▍ | 55/65 [00:06<00:01,  8.10it/s]"
     ]
    },
    {
     "name": "stdout",
     "output_type": "stream",
     "text": [
      "Skipping frame 55 due to low MAD (0.06)\n",
      "Skipping frame 56 due to low MAD (0.09)\n"
     ]
    },
    {
     "name": "stderr",
     "output_type": "stream",
     "text": [
      "Propagating dogs-jump:  89%|████████▉ | 58/65 [00:06<00:00,  8.37it/s]"
     ]
    },
    {
     "name": "stdout",
     "output_type": "stream",
     "text": [
      "Skipping frame 58 due to low MAD (0.06)\n",
      "Skipping frame 59 due to low MAD (0.09)\n"
     ]
    },
    {
     "name": "stderr",
     "output_type": "stream",
     "text": [
      "Propagating dogs-jump:  94%|█████████▍| 61/65 [00:07<00:00,  8.51it/s]"
     ]
    },
    {
     "name": "stdout",
     "output_type": "stream",
     "text": [
      "Avg FPS last 30 frames: 7.58\n",
      "Skipping frame 61 due to low MAD (0.05)\n",
      "Skipping frame 62 due to low MAD (0.07)\n",
      "Skipping frame 63 due to low MAD (0.09)\n"
     ]
    },
    {
     "name": "stderr",
     "output_type": "stream",
     "text": [
      "propagate in video: 100%|██████████| 66/66 [00:07<00:00,  8.63it/s]/s]\n",
      "Propagating dogs-jump: 66it [00:07,  8.62it/s]                        \n"
     ]
    },
    {
     "name": "stdout",
     "output_type": "stream",
     "text": [
      "Skipping frame 65 due to low MAD (0.04)\n",
      "Skipped 42 frames due to low MAD.\n",
      "→ Saved all predicted masks for dogs-jump in data/sam2_preds_multi/dogs-jump\n",
      "\n",
      "=== Processing sequence: drift-chicane ===\n"
     ]
    },
    {
     "name": "stderr",
     "output_type": "stream",
     "text": [
      "frame loading (JPEG): 100%|██████████| 52/52 [00:00<00:00, 59.24it/s]\n"
     ]
    },
    {
     "name": "stdout",
     "output_type": "stream",
     "text": [
      "Found 1 unique non‐black colors in drift-chicane/00000.png\n"
     ]
    },
    {
     "name": "stderr",
     "output_type": "stream",
     "text": [
      "Propagating drift-chicane:  18%|█▊        | 9/51 [00:00<00:00, 82.68it/s]"
     ]
    },
    {
     "name": "stdout",
     "output_type": "stream",
     "text": [
      "Skipping frame 1 due to low MAD (0.02)\n",
      "Skipping frame 2 due to low MAD (0.03)\n",
      "Skipping frame 3 due to low MAD (0.04)\n",
      "Skipping frame 4 due to low MAD (0.05)\n",
      "Skipping frame 5 due to low MAD (0.06)\n",
      "Skipping frame 6 due to low MAD (0.06)\n",
      "Skipping frame 7 due to low MAD (0.07)\n",
      "Skipping frame 8 due to low MAD (0.08)\n",
      "Skipping frame 9 due to low MAD (0.08)\n",
      "Skipping frame 10 due to low MAD (0.08)\n",
      "Skipping frame 11 due to low MAD (0.09)\n",
      "Skipping frame 12 due to low MAD (0.10)\n"
     ]
    },
    {
     "name": "stderr",
     "output_type": "stream",
     "text": [
      "Propagating drift-chicane:  51%|█████     | 26/51 [00:00<00:00, 53.64it/s]"
     ]
    },
    {
     "name": "stdout",
     "output_type": "stream",
     "text": [
      "Skipping frame 14 due to low MAD (0.03)\n",
      "Skipping frame 15 due to low MAD (0.04)\n",
      "Skipping frame 16 due to low MAD (0.05)\n",
      "Skipping frame 17 due to low MAD (0.06)\n",
      "Skipping frame 18 due to low MAD (0.07)\n",
      "Skipping frame 19 due to low MAD (0.08)\n",
      "Skipping frame 20 due to low MAD (0.08)\n",
      "Skipping frame 21 due to low MAD (0.09)\n",
      "Skipping frame 22 due to low MAD (0.09)\n",
      "Skipping frame 23 due to low MAD (0.10)\n",
      "Skipping frame 24 due to low MAD (0.10)\n",
      "Skipping frame 25 due to low MAD (0.10)\n",
      "Skipping frame 26 due to low MAD (0.10)\n",
      "Skipping frame 27 due to low MAD (0.10)\n",
      "Skipping frame 28 due to low MAD (0.10)\n"
     ]
    },
    {
     "name": "stderr",
     "output_type": "stream",
     "text": [
      "Propagating drift-chicane:  80%|████████  | 41/51 [00:00<00:00, 48.40it/s]"
     ]
    },
    {
     "name": "stdout",
     "output_type": "stream",
     "text": [
      "Skipping frame 30 due to low MAD (0.03)\n",
      "Avg FPS last 30 frames: 41.99\n",
      "Skipping frame 31 due to low MAD (0.04)\n",
      "Skipping frame 32 due to low MAD (0.05)\n",
      "Skipping frame 33 due to low MAD (0.06)\n",
      "Skipping frame 34 due to low MAD (0.07)\n",
      "Skipping frame 35 due to low MAD (0.07)\n",
      "Skipping frame 36 due to low MAD (0.08)\n",
      "Skipping frame 37 due to low MAD (0.08)\n",
      "Skipping frame 38 due to low MAD (0.08)\n",
      "Skipping frame 39 due to low MAD (0.09)\n",
      "Skipping frame 40 due to low MAD (0.09)\n",
      "Skipping frame 41 due to low MAD (0.09)\n",
      "Skipping frame 42 due to low MAD (0.09)\n",
      "Skipping frame 43 due to low MAD (0.09)\n",
      "Skipping frame 44 due to low MAD (0.09)\n",
      "Skipping frame 45 due to low MAD (0.09)\n",
      "Skipping frame 46 due to low MAD (0.09)\n",
      "Skipping frame 47 due to low MAD (0.09)\n"
     ]
    },
    {
     "name": "stderr",
     "output_type": "stream",
     "text": [
      "propagate in video: 100%|██████████| 52/52 [00:01<00:00, 44.74it/s]43it/s]\n",
      "Propagating drift-chicane: 52it [00:01, 44.55it/s]                        \n"
     ]
    },
    {
     "name": "stdout",
     "output_type": "stream",
     "text": [
      "Skipping frame 49 due to low MAD (0.05)\n",
      "Skipping frame 50 due to low MAD (0.06)\n",
      "Skipping frame 51 due to low MAD (0.07)\n",
      "Skipped 48 frames due to low MAD.\n",
      "→ Saved all predicted masks for drift-chicane in data/sam2_preds_multi/drift-chicane\n",
      "\n",
      "=== Processing sequence: drift-straight ===\n"
     ]
    },
    {
     "name": "stderr",
     "output_type": "stream",
     "text": [
      "frame loading (JPEG): 100%|██████████| 50/50 [00:00<00:00, 62.62it/s]\n"
     ]
    },
    {
     "name": "stdout",
     "output_type": "stream",
     "text": [
      "Found 1 unique non‐black colors in drift-straight/00000.png\n"
     ]
    },
    {
     "name": "stderr",
     "output_type": "stream",
     "text": [
      "Propagating drift-straight:  65%|██████▌   | 32/49 [00:05<00:03,  5.44it/s]"
     ]
    },
    {
     "name": "stdout",
     "output_type": "stream",
     "text": [
      "Avg FPS last 30 frames: 5.66\n"
     ]
    },
    {
     "name": "stderr",
     "output_type": "stream",
     "text": [
      "propagate in video: 100%|██████████| 50/50 [00:07<00:00,  6.85it/s]        \n",
      "Propagating drift-straight: 50it [00:07,  6.84it/s]\n"
     ]
    },
    {
     "name": "stdout",
     "output_type": "stream",
     "text": [
      "→ Saved all predicted masks for drift-straight in data/sam2_preds_multi/drift-straight\n",
      "\n",
      "=== Processing sequence: goat ===\n"
     ]
    },
    {
     "name": "stderr",
     "output_type": "stream",
     "text": [
      "frame loading (JPEG): 100%|██████████| 90/90 [00:01<00:00, 57.94it/s]\n"
     ]
    },
    {
     "name": "stdout",
     "output_type": "stream",
     "text": [
      "Found 1 unique non‐black colors in goat/00000.png\n"
     ]
    },
    {
     "name": "stderr",
     "output_type": "stream",
     "text": [
      "Propagating goat:  36%|███▌      | 32/89 [00:05<00:10,  5.56it/s]"
     ]
    },
    {
     "name": "stdout",
     "output_type": "stream",
     "text": [
      "Avg FPS last 30 frames: 5.66\n"
     ]
    },
    {
     "name": "stderr",
     "output_type": "stream",
     "text": [
      "Propagating goat:  70%|██████▉   | 62/89 [00:10<00:05,  5.31it/s]"
     ]
    },
    {
     "name": "stdout",
     "output_type": "stream",
     "text": [
      "Avg FPS last 30 frames: 5.51\n"
     ]
    },
    {
     "name": "stderr",
     "output_type": "stream",
     "text": [
      "propagate in video: 100%|██████████| 90/90 [00:16<00:00,  5.62it/s]\n",
      "Propagating goat: 90it [00:16,  5.62it/s]\n"
     ]
    },
    {
     "name": "stdout",
     "output_type": "stream",
     "text": [
      "→ Saved all predicted masks for goat in data/sam2_preds_multi/goat\n",
      "\n",
      "=== Processing sequence: gold-fish ===\n"
     ]
    },
    {
     "name": "stderr",
     "output_type": "stream",
     "text": [
      "frame loading (JPEG): 100%|██████████| 78/78 [00:01<00:00, 64.90it/s]\n"
     ]
    },
    {
     "name": "stdout",
     "output_type": "stream",
     "text": [
      "Found 5 unique non‐black colors in gold-fish/00000.png\n"
     ]
    },
    {
     "name": "stderr",
     "output_type": "stream",
     "text": [
      "Propagating gold-fish:   0%|          | 0/77 [00:00<?, ?it/s]"
     ]
    },
    {
     "name": "stdout",
     "output_type": "stream",
     "text": [
      "Skipping frame 1 due to low MAD (0.08)\n"
     ]
    },
    {
     "name": "stderr",
     "output_type": "stream",
     "text": [
      "Propagating gold-fish:   4%|▍         | 3/77 [00:00<00:08,  8.58it/s]"
     ]
    },
    {
     "name": "stdout",
     "output_type": "stream",
     "text": [
      "Skipping frame 3 due to low MAD (0.08)\n"
     ]
    },
    {
     "name": "stderr",
     "output_type": "stream",
     "text": [
      "Propagating gold-fish:   6%|▋         | 5/77 [00:00<00:10,  6.82it/s]"
     ]
    },
    {
     "name": "stdout",
     "output_type": "stream",
     "text": [
      "Skipping frame 5 due to low MAD (0.08)\n"
     ]
    },
    {
     "name": "stderr",
     "output_type": "stream",
     "text": [
      "Propagating gold-fish:   9%|▉         | 7/77 [00:01<00:12,  5.82it/s]"
     ]
    },
    {
     "name": "stdout",
     "output_type": "stream",
     "text": [
      "Skipping frame 7 due to low MAD (0.08)\n"
     ]
    },
    {
     "name": "stderr",
     "output_type": "stream",
     "text": [
      "Propagating gold-fish:  12%|█▏        | 9/77 [00:01<00:12,  5.28it/s]"
     ]
    },
    {
     "name": "stdout",
     "output_type": "stream",
     "text": [
      "Skipping frame 9 due to low MAD (0.08)\n"
     ]
    },
    {
     "name": "stderr",
     "output_type": "stream",
     "text": [
      "Propagating gold-fish:  14%|█▍        | 11/77 [00:01<00:13,  5.01it/s]"
     ]
    },
    {
     "name": "stdout",
     "output_type": "stream",
     "text": [
      "Skipping frame 11 due to low MAD (0.08)\n"
     ]
    },
    {
     "name": "stderr",
     "output_type": "stream",
     "text": [
      "Propagating gold-fish:  17%|█▋        | 13/77 [00:02<00:13,  4.85it/s]"
     ]
    },
    {
     "name": "stdout",
     "output_type": "stream",
     "text": [
      "Skipping frame 13 due to low MAD (0.08)\n"
     ]
    },
    {
     "name": "stderr",
     "output_type": "stream",
     "text": [
      "Propagating gold-fish:  19%|█▉        | 15/77 [00:02<00:13,  4.76it/s]"
     ]
    },
    {
     "name": "stdout",
     "output_type": "stream",
     "text": [
      "Skipping frame 15 due to low MAD (0.08)\n"
     ]
    },
    {
     "name": "stderr",
     "output_type": "stream",
     "text": [
      "Propagating gold-fish:  22%|██▏       | 17/77 [00:03<00:12,  4.69it/s]"
     ]
    },
    {
     "name": "stdout",
     "output_type": "stream",
     "text": [
      "Skipping frame 17 due to low MAD (0.09)\n"
     ]
    },
    {
     "name": "stderr",
     "output_type": "stream",
     "text": [
      "Propagating gold-fish:  25%|██▍       | 19/77 [00:03<00:12,  4.63it/s]"
     ]
    },
    {
     "name": "stdout",
     "output_type": "stream",
     "text": [
      "Skipping frame 19 due to low MAD (0.09)\n"
     ]
    },
    {
     "name": "stderr",
     "output_type": "stream",
     "text": [
      "Propagating gold-fish:  27%|██▋       | 21/77 [00:04<00:12,  4.61it/s]"
     ]
    },
    {
     "name": "stdout",
     "output_type": "stream",
     "text": [
      "Skipping frame 21 due to low MAD (0.08)\n"
     ]
    },
    {
     "name": "stderr",
     "output_type": "stream",
     "text": [
      "Propagating gold-fish:  30%|██▉       | 23/77 [00:04<00:11,  4.58it/s]"
     ]
    },
    {
     "name": "stdout",
     "output_type": "stream",
     "text": [
      "Skipping frame 23 due to low MAD (0.07)\n"
     ]
    },
    {
     "name": "stderr",
     "output_type": "stream",
     "text": [
      "Propagating gold-fish:  32%|███▏      | 25/77 [00:05<00:11,  4.58it/s]"
     ]
    },
    {
     "name": "stdout",
     "output_type": "stream",
     "text": [
      "Skipping frame 25 due to low MAD (0.08)\n"
     ]
    },
    {
     "name": "stderr",
     "output_type": "stream",
     "text": [
      "Propagating gold-fish:  35%|███▌      | 27/77 [00:05<00:10,  4.58it/s]"
     ]
    },
    {
     "name": "stdout",
     "output_type": "stream",
     "text": [
      "Skipping frame 27 due to low MAD (0.08)\n"
     ]
    },
    {
     "name": "stderr",
     "output_type": "stream",
     "text": [
      "Propagating gold-fish:  38%|███▊      | 29/77 [00:05<00:10,  4.57it/s]"
     ]
    },
    {
     "name": "stdout",
     "output_type": "stream",
     "text": [
      "Skipping frame 29 due to low MAD (0.08)\n"
     ]
    },
    {
     "name": "stderr",
     "output_type": "stream",
     "text": [
      "Propagating gold-fish:  40%|████      | 31/77 [00:06<00:10,  4.52it/s]"
     ]
    },
    {
     "name": "stdout",
     "output_type": "stream",
     "text": [
      "Avg FPS last 30 frames: 4.71\n",
      "Skipping frame 31 due to low MAD (0.07)\n"
     ]
    },
    {
     "name": "stderr",
     "output_type": "stream",
     "text": [
      "Propagating gold-fish:  43%|████▎     | 33/77 [00:06<00:09,  4.44it/s]"
     ]
    },
    {
     "name": "stdout",
     "output_type": "stream",
     "text": [
      "Skipping frame 33 due to low MAD (0.08)\n"
     ]
    },
    {
     "name": "stderr",
     "output_type": "stream",
     "text": [
      "Propagating gold-fish:  45%|████▌     | 35/77 [00:07<00:09,  4.47it/s]"
     ]
    },
    {
     "name": "stdout",
     "output_type": "stream",
     "text": [
      "Skipping frame 35 due to low MAD (0.07)\n"
     ]
    },
    {
     "name": "stderr",
     "output_type": "stream",
     "text": [
      "Propagating gold-fish:  48%|████▊     | 37/77 [00:07<00:08,  4.49it/s]"
     ]
    },
    {
     "name": "stdout",
     "output_type": "stream",
     "text": [
      "Skipping frame 37 due to low MAD (0.08)\n"
     ]
    },
    {
     "name": "stderr",
     "output_type": "stream",
     "text": [
      "Propagating gold-fish:  51%|█████     | 39/77 [00:08<00:08,  4.52it/s]"
     ]
    },
    {
     "name": "stdout",
     "output_type": "stream",
     "text": [
      "Skipping frame 39 due to low MAD (0.08)\n"
     ]
    },
    {
     "name": "stderr",
     "output_type": "stream",
     "text": [
      "Propagating gold-fish:  53%|█████▎    | 41/77 [00:08<00:07,  4.53it/s]"
     ]
    },
    {
     "name": "stdout",
     "output_type": "stream",
     "text": [
      "Skipping frame 41 due to low MAD (0.08)\n"
     ]
    },
    {
     "name": "stderr",
     "output_type": "stream",
     "text": [
      "Propagating gold-fish:  56%|█████▌    | 43/77 [00:09<00:07,  4.52it/s]"
     ]
    },
    {
     "name": "stdout",
     "output_type": "stream",
     "text": [
      "Skipping frame 43 due to low MAD (0.07)\n"
     ]
    },
    {
     "name": "stderr",
     "output_type": "stream",
     "text": [
      "Propagating gold-fish:  58%|█████▊    | 45/77 [00:09<00:07,  4.50it/s]"
     ]
    },
    {
     "name": "stdout",
     "output_type": "stream",
     "text": [
      "Skipping frame 45 due to low MAD (0.07)\n",
      "Skipping frame 47 due to low MAD (0.07)\n",
      "Skipping frame 49 due to low MAD (0.07)\n",
      "Skipping frame 51 due to low MAD (0.06)\n"
     ]
    },
    {
     "name": "stderr",
     "output_type": "stream",
     "text": [
      "Propagating gold-fish:  69%|██████▉   | 53/77 [00:09<00:02,  8.82it/s]"
     ]
    },
    {
     "name": "stdout",
     "output_type": "stream",
     "text": [
      "Skipping frame 53 due to low MAD (0.07)\n"
     ]
    },
    {
     "name": "stderr",
     "output_type": "stream",
     "text": [
      "Propagating gold-fish:  71%|███████▏  | 55/77 [00:10<00:02,  7.48it/s]"
     ]
    },
    {
     "name": "stdout",
     "output_type": "stream",
     "text": [
      "Skipping frame 55 due to low MAD (0.07)\n"
     ]
    },
    {
     "name": "stderr",
     "output_type": "stream",
     "text": [
      "Propagating gold-fish:  74%|███████▍  | 57/77 [00:10<00:03,  6.55it/s]"
     ]
    },
    {
     "name": "stdout",
     "output_type": "stream",
     "text": [
      "Skipping frame 57 due to low MAD (0.07)\n"
     ]
    },
    {
     "name": "stderr",
     "output_type": "stream",
     "text": [
      "Propagating gold-fish:  77%|███████▋  | 59/77 [00:11<00:03,  5.96it/s]"
     ]
    },
    {
     "name": "stdout",
     "output_type": "stream",
     "text": [
      "Skipping frame 59 due to low MAD (0.09)\n"
     ]
    },
    {
     "name": "stderr",
     "output_type": "stream",
     "text": [
      "Propagating gold-fish:  79%|███████▉  | 61/77 [00:11<00:02,  5.54it/s]"
     ]
    },
    {
     "name": "stdout",
     "output_type": "stream",
     "text": [
      "Avg FPS last 30 frames: 5.67\n",
      "Skipping frame 61 due to low MAD (0.10)\n"
     ]
    },
    {
     "name": "stderr",
     "output_type": "stream",
     "text": [
      "Propagating gold-fish:  82%|████████▏ | 63/77 [00:12<00:02,  5.22it/s]"
     ]
    },
    {
     "name": "stdout",
     "output_type": "stream",
     "text": [
      "Skipping frame 63 due to low MAD (0.09)\n"
     ]
    },
    {
     "name": "stderr",
     "output_type": "stream",
     "text": [
      "Propagating gold-fish:  84%|████████▍ | 65/77 [00:12<00:02,  4.98it/s]"
     ]
    },
    {
     "name": "stdout",
     "output_type": "stream",
     "text": [
      "Skipping frame 65 due to low MAD (0.08)\n"
     ]
    },
    {
     "name": "stderr",
     "output_type": "stream",
     "text": [
      "Propagating gold-fish:  87%|████████▋ | 67/77 [00:13<00:02,  4.77it/s]"
     ]
    },
    {
     "name": "stdout",
     "output_type": "stream",
     "text": [
      "Skipping frame 67 due to low MAD (0.08)\n"
     ]
    },
    {
     "name": "stderr",
     "output_type": "stream",
     "text": [
      "Propagating gold-fish:  90%|████████▉ | 69/77 [00:13<00:01,  4.65it/s]"
     ]
    },
    {
     "name": "stdout",
     "output_type": "stream",
     "text": [
      "Skipping frame 69 due to low MAD (0.08)\n"
     ]
    },
    {
     "name": "stderr",
     "output_type": "stream",
     "text": [
      "Propagating gold-fish:  92%|█████████▏| 71/77 [00:13<00:01,  4.55it/s]"
     ]
    },
    {
     "name": "stdout",
     "output_type": "stream",
     "text": [
      "Skipping frame 71 due to low MAD (0.07)\n"
     ]
    },
    {
     "name": "stderr",
     "output_type": "stream",
     "text": [
      "Propagating gold-fish:  95%|█████████▍| 73/77 [00:14<00:00,  4.47it/s]"
     ]
    },
    {
     "name": "stdout",
     "output_type": "stream",
     "text": [
      "Skipping frame 73 due to low MAD (0.08)\n"
     ]
    },
    {
     "name": "stderr",
     "output_type": "stream",
     "text": [
      "Propagating gold-fish:  97%|█████████▋| 75/77 [00:14<00:00,  4.42it/s]"
     ]
    },
    {
     "name": "stdout",
     "output_type": "stream",
     "text": [
      "Skipping frame 75 due to low MAD (0.08)\n"
     ]
    },
    {
     "name": "stderr",
     "output_type": "stream",
     "text": [
      "propagate in video: 100%|██████████| 78/78 [00:15<00:00,  5.07it/s]/s]\n",
      "Propagating gold-fish: 78it [00:15,  5.07it/s]                        \n"
     ]
    },
    {
     "name": "stdout",
     "output_type": "stream",
     "text": [
      "Skipping frame 77 due to low MAD (0.08)\n",
      "Skipped 39 frames due to low MAD.\n",
      "→ Saved all predicted masks for gold-fish in data/sam2_preds_multi/gold-fish\n",
      "\n",
      "=== Processing sequence: horsejump-high ===\n"
     ]
    },
    {
     "name": "stderr",
     "output_type": "stream",
     "text": [
      "frame loading (JPEG): 100%|██████████| 50/50 [00:00<00:00, 59.92it/s]\n"
     ]
    },
    {
     "name": "stdout",
     "output_type": "stream",
     "text": [
      "Found 2 unique non‐black colors in horsejump-high/00000.png\n"
     ]
    },
    {
     "name": "stderr",
     "output_type": "stream",
     "text": [
      "Propagating horsejump-high:  63%|██████▎   | 31/49 [00:07<00:04,  4.02it/s]"
     ]
    },
    {
     "name": "stdout",
     "output_type": "stream",
     "text": [
      "Avg FPS last 30 frames: 4.24\n"
     ]
    },
    {
     "name": "stderr",
     "output_type": "stream",
     "text": [
      "propagate in video: 100%|██████████| 50/50 [00:11<00:00,  4.25it/s]        \n",
      "Propagating horsejump-high: 50it [00:11,  4.25it/s]\n"
     ]
    },
    {
     "name": "stdout",
     "output_type": "stream",
     "text": [
      "→ Saved all predicted masks for horsejump-high in data/sam2_preds_multi/horsejump-high\n",
      "\n",
      "=== Processing sequence: india ===\n"
     ]
    },
    {
     "name": "stderr",
     "output_type": "stream",
     "text": [
      "frame loading (JPEG): 100%|██████████| 81/81 [00:01<00:00, 61.81it/s]\n"
     ]
    },
    {
     "name": "stdout",
     "output_type": "stream",
     "text": [
      "Found 3 unique non‐black colors in india/00000.png\n"
     ]
    },
    {
     "name": "stderr",
     "output_type": "stream",
     "text": [
      "Propagating india:   0%|          | 0/80 [00:00<?, ?it/s]"
     ]
    },
    {
     "name": "stdout",
     "output_type": "stream",
     "text": [
      "Skipping frame 1 due to low MAD (0.10)\n"
     ]
    },
    {
     "name": "stderr",
     "output_type": "stream",
     "text": [
      "Propagating india:   4%|▍         | 3/80 [00:00<00:06, 11.37it/s]"
     ]
    },
    {
     "name": "stdout",
     "output_type": "stream",
     "text": [
      "Skipping frame 3 due to low MAD (0.09)\n"
     ]
    },
    {
     "name": "stderr",
     "output_type": "stream",
     "text": [
      "Propagating india:   6%|▋         | 5/80 [00:00<00:08,  8.79it/s]"
     ]
    },
    {
     "name": "stdout",
     "output_type": "stream",
     "text": [
      "Skipping frame 5 due to low MAD (0.10)\n"
     ]
    },
    {
     "name": "stderr",
     "output_type": "stream",
     "text": [
      "Propagating india:  10%|█         | 8/80 [00:01<00:12,  5.74it/s]"
     ]
    },
    {
     "name": "stdout",
     "output_type": "stream",
     "text": [
      "Skipping frame 8 due to low MAD (0.10)\n"
     ]
    },
    {
     "name": "stderr",
     "output_type": "stream",
     "text": [
      "Propagating india:  39%|███▉      | 31/80 [00:07<00:14,  3.27it/s]"
     ]
    },
    {
     "name": "stdout",
     "output_type": "stream",
     "text": [
      "Avg FPS last 30 frames: 3.76\n"
     ]
    },
    {
     "name": "stderr",
     "output_type": "stream",
     "text": [
      "Propagating india:  76%|███████▋  | 61/80 [00:15<00:05,  3.37it/s]"
     ]
    },
    {
     "name": "stdout",
     "output_type": "stream",
     "text": [
      "Avg FPS last 30 frames: 3.85\n"
     ]
    },
    {
     "name": "stderr",
     "output_type": "stream",
     "text": [
      "propagate in video: 100%|██████████| 81/81 [00:21<00:00,  3.73it/s]\n",
      "Propagating india: 81it [00:21,  3.73it/s]\n"
     ]
    },
    {
     "name": "stdout",
     "output_type": "stream",
     "text": [
      "Skipped 4 frames due to low MAD.\n",
      "→ Saved all predicted masks for india in data/sam2_preds_multi/india\n",
      "\n",
      "=== Processing sequence: judo ===\n"
     ]
    },
    {
     "name": "stderr",
     "output_type": "stream",
     "text": [
      "frame loading (JPEG): 100%|██████████| 34/34 [00:00<00:00, 61.08it/s]\n"
     ]
    },
    {
     "name": "stdout",
     "output_type": "stream",
     "text": [
      "Found 2 unique non‐black colors in judo/00000.png\n"
     ]
    },
    {
     "name": "stderr",
     "output_type": "stream",
     "text": [
      "Propagating judo:  18%|█▊        | 6/33 [00:00<00:00, 52.62it/s]"
     ]
    },
    {
     "name": "stdout",
     "output_type": "stream",
     "text": [
      "Skipping frame 1 due to low MAD (0.01)\n",
      "Skipping frame 2 due to low MAD (0.02)\n",
      "Skipping frame 3 due to low MAD (0.03)\n",
      "Skipping frame 4 due to low MAD (0.03)\n",
      "Skipping frame 5 due to low MAD (0.04)\n",
      "Skipping frame 6 due to low MAD (0.04)\n",
      "Skipping frame 7 due to low MAD (0.05)\n",
      "Skipping frame 8 due to low MAD (0.05)\n",
      "Skipping frame 9 due to low MAD (0.05)\n"
     ]
    },
    {
     "name": "stderr",
     "output_type": "stream",
     "text": [
      "Propagating judo:  36%|███▋      | 12/33 [00:00<00:00, 54.55it/s]"
     ]
    },
    {
     "name": "stdout",
     "output_type": "stream",
     "text": [
      "Skipping frame 10 due to low MAD (0.06)\n",
      "Skipping frame 11 due to low MAD (0.06)\n",
      "Skipping frame 12 due to low MAD (0.07)\n"
     ]
    },
    {
     "name": "stderr",
     "output_type": "stream",
     "text": [
      "Propagating judo:  55%|█████▍    | 18/33 [00:00<00:00, 55.82it/s]"
     ]
    },
    {
     "name": "stdout",
     "output_type": "stream",
     "text": [
      "Skipping frame 13 due to low MAD (0.07)\n",
      "Skipping frame 14 due to low MAD (0.07)\n",
      "Skipping frame 15 due to low MAD (0.08)\n",
      "Skipping frame 16 due to low MAD (0.08)\n",
      "Skipping frame 17 due to low MAD (0.08)\n",
      "Skipping frame 18 due to low MAD (0.08)\n",
      "Skipping frame 19 due to low MAD (0.09)\n",
      "Skipping frame 20 due to low MAD (0.09)\n",
      "Skipping frame 21 due to low MAD (0.09)\n"
     ]
    },
    {
     "name": "stderr",
     "output_type": "stream",
     "text": [
      "Propagating judo:  73%|███████▎  | 24/33 [00:00<00:00, 54.63it/s]"
     ]
    },
    {
     "name": "stdout",
     "output_type": "stream",
     "text": [
      "Skipping frame 22 due to low MAD (0.09)\n",
      "Skipping frame 23 due to low MAD (0.09)\n",
      "Skipping frame 24 due to low MAD (0.10)\n",
      "Skipping frame 26 due to low MAD (0.07)\n",
      "Skipping frame 27 due to low MAD (0.08)\n",
      "Skipping frame 28 due to low MAD (0.09)\n"
     ]
    },
    {
     "name": "stderr",
     "output_type": "stream",
     "text": [
      "propagate in video: 100%|██████████| 34/34 [00:01<00:00, 32.50it/s]\n",
      "Propagating judo: 34it [00:01, 32.12it/s]                        \n"
     ]
    },
    {
     "name": "stdout",
     "output_type": "stream",
     "text": [
      "Skipping frame 30 due to low MAD (0.04)\n",
      "Avg FPS last 30 frames: 30.55\n",
      "Skipping frame 31 due to low MAD (0.07)\n",
      "Skipping frame 32 due to low MAD (0.08)\n",
      "Skipping frame 33 due to low MAD (0.08)\n",
      "Skipped 31 frames due to low MAD.\n",
      "→ Saved all predicted masks for judo in data/sam2_preds_multi/judo\n",
      "\n",
      "=== Processing sequence: kite-surf ===\n"
     ]
    },
    {
     "name": "stderr",
     "output_type": "stream",
     "text": [
      "frame loading (JPEG): 100%|██████████| 50/50 [00:00<00:00, 65.58it/s]\n"
     ]
    },
    {
     "name": "stdout",
     "output_type": "stream",
     "text": [
      "Found 3 unique non‐black colors in kite-surf/00000.png\n"
     ]
    },
    {
     "name": "stderr",
     "output_type": "stream",
     "text": [
      "Propagating kite-surf:  20%|██        | 10/49 [00:02<00:11,  3.41it/s]"
     ]
    },
    {
     "name": "stdout",
     "output_type": "stream",
     "text": [
      "Skipping frame 10 due to low MAD (0.10)\n"
     ]
    },
    {
     "name": "stderr",
     "output_type": "stream",
     "text": [
      "Propagating kite-surf:  24%|██▍       | 12/49 [00:02<00:08,  4.28it/s]"
     ]
    },
    {
     "name": "stdout",
     "output_type": "stream",
     "text": [
      "Skipping frame 12 due to low MAD (0.09)\n"
     ]
    },
    {
     "name": "stderr",
     "output_type": "stream",
     "text": [
      "Propagating kite-surf:  29%|██▊       | 14/49 [00:03<00:07,  4.84it/s]"
     ]
    },
    {
     "name": "stdout",
     "output_type": "stream",
     "text": [
      "Skipping frame 14 due to low MAD (0.09)\n"
     ]
    },
    {
     "name": "stderr",
     "output_type": "stream",
     "text": [
      "Propagating kite-surf:  33%|███▎      | 16/49 [00:03<00:06,  5.29it/s]"
     ]
    },
    {
     "name": "stdout",
     "output_type": "stream",
     "text": [
      "Skipping frame 16 due to low MAD (0.09)\n"
     ]
    },
    {
     "name": "stderr",
     "output_type": "stream",
     "text": [
      "Propagating kite-surf:  37%|███▋      | 18/49 [00:03<00:05,  5.65it/s]"
     ]
    },
    {
     "name": "stdout",
     "output_type": "stream",
     "text": [
      "Skipping frame 18 due to low MAD (0.09)\n"
     ]
    },
    {
     "name": "stderr",
     "output_type": "stream",
     "text": [
      "Propagating kite-surf:  41%|████      | 20/49 [00:04<00:05,  5.76it/s]"
     ]
    },
    {
     "name": "stdout",
     "output_type": "stream",
     "text": [
      "Skipping frame 20 due to low MAD (0.10)\n"
     ]
    },
    {
     "name": "stderr",
     "output_type": "stream",
     "text": [
      "Propagating kite-surf:  53%|█████▎    | 26/49 [00:05<00:05,  4.04it/s]"
     ]
    },
    {
     "name": "stdout",
     "output_type": "stream",
     "text": [
      "Skipping frame 26 due to low MAD (0.09)\n"
     ]
    },
    {
     "name": "stderr",
     "output_type": "stream",
     "text": [
      "Propagating kite-surf:  63%|██████▎   | 31/49 [00:06<00:04,  3.89it/s]"
     ]
    },
    {
     "name": "stdout",
     "output_type": "stream",
     "text": [
      "Avg FPS last 30 frames: 4.45\n",
      "Skipping frame 31 due to low MAD (0.09)\n"
     ]
    },
    {
     "name": "stderr",
     "output_type": "stream",
     "text": [
      "Propagating kite-surf:  67%|██████▋   | 33/49 [00:07<00:03,  4.68it/s]"
     ]
    },
    {
     "name": "stdout",
     "output_type": "stream",
     "text": [
      "Skipping frame 33 due to low MAD (0.10)\n"
     ]
    },
    {
     "name": "stderr",
     "output_type": "stream",
     "text": [
      "Propagating kite-surf:  86%|████████▌ | 42/49 [00:09<00:01,  3.53it/s]"
     ]
    },
    {
     "name": "stdout",
     "output_type": "stream",
     "text": [
      "Skipping frame 42 due to low MAD (0.09)\n"
     ]
    },
    {
     "name": "stderr",
     "output_type": "stream",
     "text": [
      "Propagating kite-surf:  90%|████████▉ | 44/49 [00:09<00:01,  4.36it/s]"
     ]
    },
    {
     "name": "stdout",
     "output_type": "stream",
     "text": [
      "Skipping frame 44 due to low MAD (0.07)\n",
      "Skipping frame 45 due to low MAD (0.09)\n"
     ]
    },
    {
     "name": "stderr",
     "output_type": "stream",
     "text": [
      "Propagating kite-surf:  96%|█████████▌| 47/49 [00:10<00:00,  5.80it/s]"
     ]
    },
    {
     "name": "stdout",
     "output_type": "stream",
     "text": [
      "Skipping frame 47 due to low MAD (0.08)\n"
     ]
    },
    {
     "name": "stderr",
     "output_type": "stream",
     "text": [
      "propagate in video: 100%|██████████| 50/50 [00:10<00:00,  4.79it/s]/s]\n",
      "Propagating kite-surf: 50it [00:10,  4.79it/s]                        \n"
     ]
    },
    {
     "name": "stdout",
     "output_type": "stream",
     "text": [
      "Skipping frame 49 due to low MAD (0.07)\n",
      "Skipped 14 frames due to low MAD.\n",
      "→ Saved all predicted masks for kite-surf in data/sam2_preds_multi/kite-surf\n",
      "\n",
      "=== Processing sequence: lab-coat ===\n"
     ]
    },
    {
     "name": "stderr",
     "output_type": "stream",
     "text": [
      "frame loading (JPEG): 100%|██████████| 47/47 [00:00<00:00, 60.92it/s]\n"
     ]
    },
    {
     "name": "stdout",
     "output_type": "stream",
     "text": [
      "Found 5 unique non‐black colors in lab-coat/00000.png\n"
     ]
    },
    {
     "name": "stderr",
     "output_type": "stream",
     "text": [
      "Propagating lab-coat:  67%|██████▋   | 31/46 [00:10<00:06,  2.35it/s]"
     ]
    },
    {
     "name": "stdout",
     "output_type": "stream",
     "text": [
      "Avg FPS last 30 frames: 2.86\n"
     ]
    },
    {
     "name": "stderr",
     "output_type": "stream",
     "text": [
      "propagate in video: 100%|██████████| 47/47 [00:17<00:00,  2.71it/s]  \n",
      "Propagating lab-coat: 47it [00:17,  2.70it/s]\n"
     ]
    },
    {
     "name": "stdout",
     "output_type": "stream",
     "text": [
      "→ Saved all predicted masks for lab-coat in data/sam2_preds_multi/lab-coat\n",
      "\n",
      "=== Processing sequence: libby ===\n"
     ]
    },
    {
     "name": "stderr",
     "output_type": "stream",
     "text": [
      "frame loading (JPEG): 100%|██████████| 49/49 [00:00<00:00, 62.01it/s]\n"
     ]
    },
    {
     "name": "stdout",
     "output_type": "stream",
     "text": [
      "Found 1 unique non‐black colors in libby/00000.png\n"
     ]
    },
    {
     "name": "stderr",
     "output_type": "stream",
     "text": [
      "Propagating libby:  67%|██████▋   | 32/48 [00:05<00:02,  5.41it/s]"
     ]
    },
    {
     "name": "stdout",
     "output_type": "stream",
     "text": [
      "Avg FPS last 30 frames: 5.56\n"
     ]
    },
    {
     "name": "stderr",
     "output_type": "stream",
     "text": [
      "propagate in video: 100%|██████████| 49/49 [00:08<00:00,  5.60it/s]\n",
      "Propagating libby: 49it [00:08,  5.60it/s]\n"
     ]
    },
    {
     "name": "stdout",
     "output_type": "stream",
     "text": [
      "→ Saved all predicted masks for libby in data/sam2_preds_multi/libby\n",
      "\n",
      "=== Processing sequence: loading ===\n"
     ]
    },
    {
     "name": "stderr",
     "output_type": "stream",
     "text": [
      "frame loading (JPEG): 100%|██████████| 50/50 [00:00<00:00, 58.87it/s]\n"
     ]
    },
    {
     "name": "stdout",
     "output_type": "stream",
     "text": [
      "Found 3 unique non‐black colors in loading/00000.png\n"
     ]
    },
    {
     "name": "stderr",
     "output_type": "stream",
     "text": [
      "Propagating loading:  61%|██████    | 30/49 [00:07<00:02,  8.91it/s]"
     ]
    },
    {
     "name": "stdout",
     "output_type": "stream",
     "text": [
      "Avg FPS last 30 frames: 4.08\n"
     ]
    },
    {
     "name": "stderr",
     "output_type": "stream",
     "text": [
      "propagate in video: 100%|██████████| 50/50 [00:13<00:00,  3.82it/s] \n",
      "Propagating loading: 50it [00:13,  3.82it/s]\n"
     ]
    },
    {
     "name": "stdout",
     "output_type": "stream",
     "text": [
      "→ Saved all predicted masks for loading in data/sam2_preds_multi/loading\n",
      "\n",
      "=== Processing sequence: mbike-trick ===\n"
     ]
    },
    {
     "name": "stderr",
     "output_type": "stream",
     "text": [
      "frame loading (JPEG): 100%|██████████| 79/79 [00:01<00:00, 61.45it/s]\n"
     ]
    },
    {
     "name": "stdout",
     "output_type": "stream",
     "text": [
      "Found 2 unique non‐black colors in mbike-trick/00000.png\n"
     ]
    },
    {
     "name": "stderr",
     "output_type": "stream",
     "text": [
      "Propagating mbike-trick:   0%|          | 0/78 [00:00<?, ?it/s]"
     ]
    },
    {
     "name": "stdout",
     "output_type": "stream",
     "text": [
      "Skipping frame 1 due to low MAD (0.06)\n",
      "Skipping frame 2 due to low MAD (0.08)\n"
     ]
    },
    {
     "name": "stderr",
     "output_type": "stream",
     "text": [
      "Propagating mbike-trick:   5%|▌         | 4/78 [00:00<00:04, 16.71it/s]"
     ]
    },
    {
     "name": "stdout",
     "output_type": "stream",
     "text": [
      "Skipping frame 4 due to low MAD (0.04)\n",
      "Skipping frame 5 due to low MAD (0.07)\n",
      "Skipping frame 6 due to low MAD (0.06)\n",
      "Skipping frame 7 due to low MAD (0.09)\n"
     ]
    },
    {
     "name": "stderr",
     "output_type": "stream",
     "text": [
      "Propagating mbike-trick:  12%|█▏        | 9/78 [00:00<00:04, 16.97it/s]"
     ]
    },
    {
     "name": "stdout",
     "output_type": "stream",
     "text": [
      "Skipping frame 9 due to low MAD (0.06)\n",
      "Skipping frame 10 due to low MAD (0.09)\n",
      "Skipping frame 11 due to low MAD (0.10)\n"
     ]
    },
    {
     "name": "stderr",
     "output_type": "stream",
     "text": [
      "Propagating mbike-trick:  17%|█▋        | 13/78 [00:00<00:04, 15.50it/s]"
     ]
    },
    {
     "name": "stdout",
     "output_type": "stream",
     "text": [
      "Skipping frame 13 due to low MAD (0.07)\n",
      "Skipping frame 14 due to low MAD (0.09)\n",
      "Skipping frame 15 due to low MAD (0.10)\n"
     ]
    },
    {
     "name": "stderr",
     "output_type": "stream",
     "text": [
      "Propagating mbike-trick:  22%|██▏       | 17/78 [00:01<00:04, 14.93it/s]"
     ]
    },
    {
     "name": "stdout",
     "output_type": "stream",
     "text": [
      "Skipping frame 17 due to low MAD (0.03)\n",
      "Skipping frame 18 due to low MAD (0.06)\n",
      "Skipping frame 19 due to low MAD (0.05)\n",
      "Skipping frame 20 due to low MAD (0.06)\n",
      "Skipping frame 21 due to low MAD (0.07)\n",
      "Skipping frame 22 due to low MAD (0.08)\n"
     ]
    },
    {
     "name": "stderr",
     "output_type": "stream",
     "text": [
      "Propagating mbike-trick:  31%|███       | 24/78 [00:01<00:03, 17.53it/s]"
     ]
    },
    {
     "name": "stdout",
     "output_type": "stream",
     "text": [
      "Skipping frame 24 due to low MAD (0.07)\n",
      "Skipping frame 25 due to low MAD (0.06)\n",
      "Skipping frame 26 due to low MAD (0.07)\n",
      "Skipping frame 27 due to low MAD (0.09)\n"
     ]
    },
    {
     "name": "stderr",
     "output_type": "stream",
     "text": [
      "Propagating mbike-trick:  37%|███▋      | 29/78 [00:01<00:02, 17.17it/s]"
     ]
    },
    {
     "name": "stdout",
     "output_type": "stream",
     "text": [
      "Skipping frame 29 due to low MAD (0.07)\n"
     ]
    },
    {
     "name": "stderr",
     "output_type": "stream",
     "text": [
      "Propagating mbike-trick:  40%|███▉      | 31/78 [00:01<00:03, 14.43it/s]"
     ]
    },
    {
     "name": "stdout",
     "output_type": "stream",
     "text": [
      "Avg FPS last 30 frames: 15.20\n",
      "Skipping frame 31 due to low MAD (0.06)\n",
      "Skipping frame 32 due to low MAD (0.07)\n",
      "Skipping frame 33 due to low MAD (0.08)\n",
      "Skipping frame 34 due to low MAD (0.08)\n",
      "Skipping frame 35 due to low MAD (0.10)\n"
     ]
    },
    {
     "name": "stderr",
     "output_type": "stream",
     "text": [
      "Propagating mbike-trick:  47%|████▋     | 37/78 [00:02<00:02, 15.99it/s]"
     ]
    },
    {
     "name": "stdout",
     "output_type": "stream",
     "text": [
      "Skipping frame 37 due to low MAD (0.06)\n",
      "Skipping frame 38 due to low MAD (0.08)\n",
      "Skipping frame 39 due to low MAD (0.10)\n"
     ]
    },
    {
     "name": "stderr",
     "output_type": "stream",
     "text": [
      "Propagating mbike-trick:  53%|█████▎    | 41/78 [00:02<00:02, 15.43it/s]"
     ]
    },
    {
     "name": "stdout",
     "output_type": "stream",
     "text": [
      "Skipping frame 41 due to low MAD (0.06)\n",
      "Skipping frame 42 due to low MAD (0.09)\n"
     ]
    },
    {
     "name": "stderr",
     "output_type": "stream",
     "text": [
      "Propagating mbike-trick:  56%|█████▋    | 44/78 [00:02<00:02, 14.02it/s]"
     ]
    },
    {
     "name": "stdout",
     "output_type": "stream",
     "text": [
      "Skipping frame 44 due to low MAD (0.06)\n",
      "Skipping frame 45 due to low MAD (0.09)\n",
      "Skipping frame 46 due to low MAD (0.10)\n"
     ]
    },
    {
     "name": "stderr",
     "output_type": "stream",
     "text": [
      "Propagating mbike-trick:  62%|██████▏   | 48/78 [00:03<00:02, 14.04it/s]"
     ]
    },
    {
     "name": "stdout",
     "output_type": "stream",
     "text": [
      "Skipping frame 48 due to low MAD (0.06)\n",
      "Skipping frame 49 due to low MAD (0.08)\n"
     ]
    },
    {
     "name": "stderr",
     "output_type": "stream",
     "text": [
      "Propagating mbike-trick:  65%|██████▌   | 51/78 [00:03<00:02, 13.15it/s]"
     ]
    },
    {
     "name": "stdout",
     "output_type": "stream",
     "text": [
      "Skipping frame 51 due to low MAD (0.07)\n"
     ]
    },
    {
     "name": "stderr",
     "output_type": "stream",
     "text": [
      "Propagating mbike-trick:  68%|██████▊   | 53/78 [00:03<00:02, 11.65it/s]"
     ]
    },
    {
     "name": "stdout",
     "output_type": "stream",
     "text": [
      "Skipping frame 53 due to low MAD (0.07)\n"
     ]
    },
    {
     "name": "stderr",
     "output_type": "stream",
     "text": [
      "Propagating mbike-trick:  71%|███████   | 55/78 [00:03<00:02, 10.46it/s]"
     ]
    },
    {
     "name": "stdout",
     "output_type": "stream",
     "text": [
      "Skipping frame 55 due to low MAD (0.08)\n"
     ]
    },
    {
     "name": "stderr",
     "output_type": "stream",
     "text": [
      "Propagating mbike-trick:  73%|███████▎  | 57/78 [00:04<00:02,  9.71it/s]"
     ]
    },
    {
     "name": "stdout",
     "output_type": "stream",
     "text": [
      "Skipping frame 57 due to low MAD (0.09)\n"
     ]
    },
    {
     "name": "stderr",
     "output_type": "stream",
     "text": [
      "Propagating mbike-trick:  77%|███████▋  | 60/78 [00:04<00:02,  7.73it/s]"
     ]
    },
    {
     "name": "stdout",
     "output_type": "stream",
     "text": [
      "Skipping frame 60 due to low MAD (0.10)\n",
      "Avg FPS last 30 frames: 11.01\n"
     ]
    },
    {
     "name": "stderr",
     "output_type": "stream",
     "text": [
      "Propagating mbike-trick:  79%|███████▉  | 62/78 [00:04<00:02,  7.73it/s]"
     ]
    },
    {
     "name": "stdout",
     "output_type": "stream",
     "text": [
      "Skipping frame 62 due to low MAD (0.09)\n"
     ]
    },
    {
     "name": "stderr",
     "output_type": "stream",
     "text": [
      "propagate in video: 100%|██████████| 79/79 [00:08<00:00,  8.90it/s]     \n",
      "Propagating mbike-trick: 79it [00:08,  8.89it/s]\n"
     ]
    },
    {
     "name": "stdout",
     "output_type": "stream",
     "text": [
      "Skipped 44 frames due to low MAD.\n",
      "→ Saved all predicted masks for mbike-trick in data/sam2_preds_multi/mbike-trick\n",
      "\n",
      "=== Processing sequence: motocross-jump ===\n"
     ]
    },
    {
     "name": "stderr",
     "output_type": "stream",
     "text": [
      "frame loading (JPEG): 100%|██████████| 40/40 [00:00<00:00, 61.89it/s]\n"
     ]
    },
    {
     "name": "stdout",
     "output_type": "stream",
     "text": [
      "Found 2 unique non‐black colors in motocross-jump/00000.png\n"
     ]
    },
    {
     "name": "stderr",
     "output_type": "stream",
     "text": [
      "Propagating motocross-jump:  79%|███████▉  | 31/39 [00:07<00:01,  4.01it/s]"
     ]
    },
    {
     "name": "stdout",
     "output_type": "stream",
     "text": [
      "Avg FPS last 30 frames: 4.13\n"
     ]
    },
    {
     "name": "stderr",
     "output_type": "stream",
     "text": [
      "Propagating motocross-jump:  87%|████████▋ | 34/39 [00:08<00:01,  4.03it/s]"
     ]
    },
    {
     "name": "stdout",
     "output_type": "stream",
     "text": [
      "Skipping frame 34 due to low MAD (0.09)\n"
     ]
    },
    {
     "name": "stderr",
     "output_type": "stream",
     "text": [
      "Propagating motocross-jump:  92%|█████████▏| 36/39 [00:08<00:00,  5.16it/s]"
     ]
    },
    {
     "name": "stdout",
     "output_type": "stream",
     "text": [
      "Skipping frame 36 due to low MAD (0.07)\n",
      "Skipping frame 37 due to low MAD (0.10)\n"
     ]
    },
    {
     "name": "stderr",
     "output_type": "stream",
     "text": [
      "propagate in video: 100%|██████████| 40/40 [00:08<00:00,  4.66it/s].97it/s]\n",
      "Propagating motocross-jump: 40it [00:08,  4.66it/s]                        \n"
     ]
    },
    {
     "name": "stdout",
     "output_type": "stream",
     "text": [
      "Skipping frame 39 due to low MAD (0.04)\n",
      "Skipped 4 frames due to low MAD.\n",
      "→ Saved all predicted masks for motocross-jump in data/sam2_preds_multi/motocross-jump\n",
      "\n",
      "=== Processing sequence: paragliding-launch ===\n"
     ]
    },
    {
     "name": "stderr",
     "output_type": "stream",
     "text": [
      "frame loading (JPEG): 100%|██████████| 80/80 [00:01<00:00, 61.13it/s]\n"
     ]
    },
    {
     "name": "stdout",
     "output_type": "stream",
     "text": [
      "Found 3 unique non‐black colors in paragliding-launch/00000.png\n"
     ]
    },
    {
     "name": "stderr",
     "output_type": "stream",
     "text": [
      "Propagating paragliding-launch:   0%|          | 0/79 [00:00<?, ?it/s]"
     ]
    },
    {
     "name": "stdout",
     "output_type": "stream",
     "text": [
      "Skipping frame 1 due to low MAD (0.07)\n"
     ]
    },
    {
     "name": "stderr",
     "output_type": "stream",
     "text": [
      "Propagating paragliding-launch:   4%|▍         | 3/79 [00:00<00:06, 11.90it/s]"
     ]
    },
    {
     "name": "stdout",
     "output_type": "stream",
     "text": [
      "Skipping frame 3 due to low MAD (0.09)\n"
     ]
    },
    {
     "name": "stderr",
     "output_type": "stream",
     "text": [
      "Propagating paragliding-launch:  39%|███▉      | 31/79 [00:06<00:14,  3.34it/s]"
     ]
    },
    {
     "name": "stdout",
     "output_type": "stream",
     "text": [
      "Avg FPS last 30 frames: 4.32\n"
     ]
    },
    {
     "name": "stderr",
     "output_type": "stream",
     "text": [
      "Propagating paragliding-launch:  77%|███████▋  | 61/79 [00:16<00:05,  3.25it/s]"
     ]
    },
    {
     "name": "stdout",
     "output_type": "stream",
     "text": [
      "Avg FPS last 30 frames: 3.22\n"
     ]
    },
    {
     "name": "stderr",
     "output_type": "stream",
     "text": [
      "propagate in video: 100%|██████████| 80/80 [00:22<00:00,  3.63it/s]            \n",
      "Propagating paragliding-launch: 80it [00:22,  3.63it/s]\n"
     ]
    },
    {
     "name": "stdout",
     "output_type": "stream",
     "text": [
      "Skipped 2 frames due to low MAD.\n",
      "→ Saved all predicted masks for paragliding-launch in data/sam2_preds_multi/paragliding-launch\n",
      "\n",
      "=== Processing sequence: parkour ===\n"
     ]
    },
    {
     "name": "stderr",
     "output_type": "stream",
     "text": [
      "frame loading (JPEG): 100%|██████████| 100/100 [00:01<00:00, 60.87it/s]\n"
     ]
    },
    {
     "name": "stdout",
     "output_type": "stream",
     "text": [
      "Found 1 unique non‐black colors in parkour/00000.png\n"
     ]
    },
    {
     "name": "stderr",
     "output_type": "stream",
     "text": [
      "Propagating parkour:  32%|███▏      | 32/99 [00:05<00:12,  5.18it/s]\n"
     ]
    },
    {
     "name": "stdout",
     "output_type": "stream",
     "text": [
      "Avg FPS last 30 frames: 5.37\n"
     ]
    },
    {
     "name": "stderr",
     "output_type": "stream",
     "text": [
      "Propagating parkour:  62%|██████▏   | 61/99 [00:10<00:03, 11.46it/s]\u001b[A"
     ]
    },
    {
     "name": "stdout",
     "output_type": "stream",
     "text": [
      "Avg FPS last 30 frames: 6.77\n"
     ]
    },
    {
     "name": "stderr",
     "output_type": "stream",
     "text": [
      "Propagating parkour:  93%|█████████▎| 92/99 [00:16<00:01,  5.22it/s]"
     ]
    },
    {
     "name": "stdout",
     "output_type": "stream",
     "text": [
      "Avg FPS last 30 frames: 5.19\n"
     ]
    },
    {
     "name": "stderr",
     "output_type": "stream",
     "text": [
      "propagate in video: 100%|██████████| 100/100 [00:17<00:00,  5.71it/s]\n",
      "Propagating parkour: 100it [00:17,  5.70it/s]\n"
     ]
    },
    {
     "name": "stdout",
     "output_type": "stream",
     "text": [
      "→ Saved all predicted masks for parkour in data/sam2_preds_multi/parkour\n",
      "\n",
      "=== Processing sequence: pigs ===\n"
     ]
    },
    {
     "name": "stderr",
     "output_type": "stream",
     "text": [
      "frame loading (JPEG): 100%|██████████| 79/79 [00:01<00:00, 59.90it/s]\n"
     ]
    },
    {
     "name": "stdout",
     "output_type": "stream",
     "text": [
      "Found 3 unique non‐black colors in pigs/00000.png\n"
     ]
    },
    {
     "name": "stderr",
     "output_type": "stream",
     "text": [
      "Propagating pigs:   6%|▋         | 5/78 [00:00<00:01, 44.56it/s]"
     ]
    },
    {
     "name": "stdout",
     "output_type": "stream",
     "text": [
      "Skipping frame 1 due to low MAD (0.05)\n",
      "Skipping frame 2 due to low MAD (0.07)\n",
      "Skipping frame 3 due to low MAD (0.08)\n",
      "Skipping frame 4 due to low MAD (0.09)\n"
     ]
    },
    {
     "name": "stderr",
     "output_type": "stream",
     "text": [
      "Propagating pigs:  13%|█▎        | 10/78 [00:00<00:03, 19.23it/s]"
     ]
    },
    {
     "name": "stdout",
     "output_type": "stream",
     "text": [
      "Skipping frame 6 due to low MAD (0.05)\n",
      "Skipping frame 7 due to low MAD (0.07)\n",
      "Skipping frame 8 due to low MAD (0.08)\n",
      "Skipping frame 9 due to low MAD (0.09)\n",
      "Skipping frame 10 due to low MAD (0.09)\n",
      "Skipping frame 11 due to low MAD (0.10)\n"
     ]
    },
    {
     "name": "stderr",
     "output_type": "stream",
     "text": [
      "Propagating pigs:  23%|██▎       | 18/78 [00:00<00:03, 19.47it/s]"
     ]
    },
    {
     "name": "stdout",
     "output_type": "stream",
     "text": [
      "Skipping frame 13 due to low MAD (0.04)\n",
      "Skipping frame 14 due to low MAD (0.06)\n",
      "Skipping frame 15 due to low MAD (0.07)\n",
      "Skipping frame 16 due to low MAD (0.08)\n",
      "Skipping frame 17 due to low MAD (0.09)\n",
      "Skipping frame 18 due to low MAD (0.09)\n",
      "Skipping frame 19 due to low MAD (0.09)\n",
      "Skipping frame 20 due to low MAD (0.10)\n",
      "Skipping frame 21 due to low MAD (0.10)\n"
     ]
    },
    {
     "name": "stderr",
     "output_type": "stream",
     "text": [
      "Propagating pigs:  36%|███▌      | 28/78 [00:01<00:02, 20.76it/s]"
     ]
    },
    {
     "name": "stdout",
     "output_type": "stream",
     "text": [
      "Skipping frame 23 due to low MAD (0.03)\n",
      "Skipping frame 24 due to low MAD (0.05)\n",
      "Skipping frame 25 due to low MAD (0.05)\n",
      "Skipping frame 26 due to low MAD (0.06)\n",
      "Skipping frame 27 due to low MAD (0.07)\n",
      "Skipping frame 28 due to low MAD (0.07)\n",
      "Skipping frame 29 due to low MAD (0.08)\n",
      "Skipping frame 30 due to low MAD (0.09)\n",
      "Avg FPS last 30 frames: 19.98\n"
     ]
    },
    {
     "name": "stderr",
     "output_type": "stream",
     "text": [
      "Propagating pigs:  41%|████      | 32/78 [00:01<00:02, 16.18it/s]"
     ]
    },
    {
     "name": "stdout",
     "output_type": "stream",
     "text": [
      "Skipping frame 32 due to low MAD (0.05)\n",
      "Skipping frame 33 due to low MAD (0.08)\n"
     ]
    },
    {
     "name": "stderr",
     "output_type": "stream",
     "text": [
      "Propagating pigs:  51%|█████▏    | 40/78 [00:02<00:02, 17.79it/s]"
     ]
    },
    {
     "name": "stdout",
     "output_type": "stream",
     "text": [
      "Skipping frame 35 due to low MAD (0.06)\n",
      "Skipping frame 36 due to low MAD (0.08)\n",
      "Skipping frame 37 due to low MAD (0.09)\n",
      "Skipping frame 38 due to low MAD (0.10)\n",
      "Skipping frame 39 due to low MAD (0.10)\n",
      "Skipping frame 40 due to low MAD (0.09)\n",
      "Skipping frame 41 due to low MAD (0.10)\n",
      "Skipping frame 42 due to low MAD (0.10)\n",
      "Skipping frame 43 due to low MAD (0.09)\n",
      "Skipping frame 44 due to low MAD (0.09)\n"
     ]
    },
    {
     "name": "stderr",
     "output_type": "stream",
     "text": [
      "Propagating pigs:  63%|██████▎   | 49/78 [00:02<00:01, 17.04it/s]"
     ]
    },
    {
     "name": "stdout",
     "output_type": "stream",
     "text": [
      "Skipping frame 46 due to low MAD (0.06)\n",
      "Skipping frame 47 due to low MAD (0.07)\n",
      "Skipping frame 48 due to low MAD (0.08)\n",
      "Skipping frame 49 due to low MAD (0.10)\n",
      "Skipping frame 50 due to low MAD (0.10)\n",
      "Skipping frame 51 due to low MAD (0.10)\n"
     ]
    },
    {
     "name": "stderr",
     "output_type": "stream",
     "text": [
      "Propagating pigs:  74%|███████▍  | 58/78 [00:03<00:01, 18.94it/s]"
     ]
    },
    {
     "name": "stdout",
     "output_type": "stream",
     "text": [
      "Skipping frame 53 due to low MAD (0.05)\n",
      "Skipping frame 54 due to low MAD (0.07)\n",
      "Skipping frame 55 due to low MAD (0.08)\n",
      "Skipping frame 56 due to low MAD (0.09)\n",
      "Skipping frame 57 due to low MAD (0.10)\n"
     ]
    },
    {
     "name": "stderr",
     "output_type": "stream",
     "text": [
      "Propagating pigs:  85%|████████▍ | 66/78 [00:03<00:00, 19.39it/s]"
     ]
    },
    {
     "name": "stdout",
     "output_type": "stream",
     "text": [
      "Skipping frame 59 due to low MAD (0.04)\n",
      "Skipping frame 60 due to low MAD (0.06)\n",
      "Avg FPS last 30 frames: 14.16\n",
      "Skipping frame 61 due to low MAD (0.07)\n",
      "Skipping frame 62 due to low MAD (0.08)\n",
      "Skipping frame 63 due to low MAD (0.08)\n",
      "Skipping frame 64 due to low MAD (0.09)\n",
      "Skipping frame 65 due to low MAD (0.09)\n",
      "Skipping frame 66 due to low MAD (0.09)\n",
      "Skipping frame 67 due to low MAD (0.09)\n",
      "Skipping frame 68 due to low MAD (0.10)\n"
     ]
    },
    {
     "name": "stderr",
     "output_type": "stream",
     "text": [
      "Propagating pigs:  91%|█████████ | 71/78 [00:03<00:00, 24.20it/s]"
     ]
    },
    {
     "name": "stdout",
     "output_type": "stream",
     "text": [
      "Skipping frame 69 due to low MAD (0.10)\n",
      "Skipping frame 70 due to low MAD (0.10)\n",
      "Skipping frame 71 due to low MAD (0.10)\n"
     ]
    },
    {
     "name": "stderr",
     "output_type": "stream",
     "text": [
      "propagate in video: 100%|██████████| 79/79 [00:04<00:00, 18.34it/s]\n",
      "Propagating pigs: 79it [00:04, 18.30it/s]                        \n"
     ]
    },
    {
     "name": "stdout",
     "output_type": "stream",
     "text": [
      "Skipping frame 73 due to low MAD (0.03)\n",
      "Skipping frame 74 due to low MAD (0.04)\n",
      "Skipping frame 75 due to low MAD (0.04)\n",
      "Skipping frame 76 due to low MAD (0.05)\n",
      "Skipping frame 77 due to low MAD (0.06)\n",
      "Skipping frame 78 due to low MAD (0.06)\n",
      "Skipped 69 frames due to low MAD.\n",
      "→ Saved all predicted masks for pigs in data/sam2_preds_multi/pigs\n",
      "\n",
      "=== Processing sequence: scooter-black ===\n"
     ]
    },
    {
     "name": "stderr",
     "output_type": "stream",
     "text": [
      "frame loading (JPEG): 100%|██████████| 43/43 [00:00<00:00, 59.62it/s]\n"
     ]
    },
    {
     "name": "stdout",
     "output_type": "stream",
     "text": [
      "Found 2 unique non‐black colors in scooter-black/00000.png\n"
     ]
    },
    {
     "name": "stderr",
     "output_type": "stream",
     "text": [
      "Propagating scooter-black:  74%|███████▍  | 31/42 [00:07<00:02,  3.98it/s]"
     ]
    },
    {
     "name": "stdout",
     "output_type": "stream",
     "text": [
      "Avg FPS last 30 frames: 4.16\n"
     ]
    },
    {
     "name": "stderr",
     "output_type": "stream",
     "text": [
      "propagate in video: 100%|██████████| 43/43 [00:10<00:00,  4.21it/s]       \n",
      "Propagating scooter-black: 43it [00:10,  4.21it/s]\n"
     ]
    },
    {
     "name": "stdout",
     "output_type": "stream",
     "text": [
      "→ Saved all predicted masks for scooter-black in data/sam2_preds_multi/scooter-black\n",
      "\n",
      "=== Processing sequence: shooting ===\n"
     ]
    },
    {
     "name": "stderr",
     "output_type": "stream",
     "text": [
      "frame loading (JPEG): 100%|██████████| 40/40 [00:00<00:00, 57.80it/s]\n"
     ]
    },
    {
     "name": "stdout",
     "output_type": "stream",
     "text": [
      "Found 3 unique non‐black colors in shooting/00000.png\n"
     ]
    },
    {
     "name": "stderr",
     "output_type": "stream",
     "text": [
      "Propagating shooting:  79%|███████▉  | 31/39 [00:07<00:02,  3.23it/s]"
     ]
    },
    {
     "name": "stdout",
     "output_type": "stream",
     "text": [
      "Avg FPS last 30 frames: 3.86\n"
     ]
    },
    {
     "name": "stderr",
     "output_type": "stream",
     "text": [
      "propagate in video: 100%|██████████| 40/40 [00:10<00:00,  3.74it/s]  \n",
      "Propagating shooting: 40it [00:10,  3.74it/s]\n"
     ]
    },
    {
     "name": "stdout",
     "output_type": "stream",
     "text": [
      "→ Saved all predicted masks for shooting in data/sam2_preds_multi/shooting\n",
      "\n",
      "=== Processing sequence: soapbox ===\n"
     ]
    },
    {
     "name": "stderr",
     "output_type": "stream",
     "text": [
      "frame loading (JPEG): 100%|██████████| 99/99 [00:01<00:00, 59.53it/s]\n"
     ]
    },
    {
     "name": "stdout",
     "output_type": "stream",
     "text": [
      "Found 3 unique non‐black colors in soapbox/00000.png\n"
     ]
    },
    {
     "name": "stderr",
     "output_type": "stream",
     "text": [
      "Propagating soapbox:   0%|          | 0/98 [00:00<?, ?it/s]"
     ]
    },
    {
     "name": "stdout",
     "output_type": "stream",
     "text": [
      "Skipping frame 1 due to low MAD (0.07)\n"
     ]
    },
    {
     "name": "stderr",
     "output_type": "stream",
     "text": [
      "Propagating soapbox:   3%|▎         | 3/98 [00:00<00:08, 11.67it/s]"
     ]
    },
    {
     "name": "stdout",
     "output_type": "stream",
     "text": [
      "Skipping frame 3 due to low MAD (0.08)\n",
      "Skipping frame 4 due to low MAD (0.10)\n"
     ]
    },
    {
     "name": "stderr",
     "output_type": "stream",
     "text": [
      "Propagating soapbox:   6%|▌         | 6/98 [00:00<00:08, 10.30it/s]"
     ]
    },
    {
     "name": "stdout",
     "output_type": "stream",
     "text": [
      "Skipping frame 6 due to low MAD (0.10)\n"
     ]
    },
    {
     "name": "stderr",
     "output_type": "stream",
     "text": [
      "Propagating soapbox:  32%|███▏      | 31/98 [00:08<00:20,  3.25it/s]"
     ]
    },
    {
     "name": "stdout",
     "output_type": "stream",
     "text": [
      "Avg FPS last 30 frames: 3.73\n"
     ]
    },
    {
     "name": "stderr",
     "output_type": "stream",
     "text": [
      "Propagating soapbox:  62%|██████▏   | 61/98 [00:17<00:11,  3.14it/s]"
     ]
    },
    {
     "name": "stdout",
     "output_type": "stream",
     "text": [
      "Avg FPS last 30 frames: 3.15\n"
     ]
    },
    {
     "name": "stderr",
     "output_type": "stream",
     "text": [
      "Propagating soapbox:  93%|█████████▎| 91/98 [00:25<00:02,  3.22it/s]"
     ]
    },
    {
     "name": "stdout",
     "output_type": "stream",
     "text": [
      "Avg FPS last 30 frames: 3.66\n"
     ]
    },
    {
     "name": "stderr",
     "output_type": "stream",
     "text": [
      "propagate in video: 100%|██████████| 99/99 [00:28<00:00,  3.50it/s] \n",
      "Propagating soapbox: 99it [00:28,  3.49it/s]"
     ]
    },
    {
     "name": "stdout",
     "output_type": "stream",
     "text": [
      "Skipped 4 frames due to low MAD.\n",
      "→ Saved all predicted masks for soapbox in data/sam2_preds_multi/soapbox\n",
      "\n",
      "All sequences processed.\n",
      "Your SAM 2 masks live under: data/sam2_preds_multi\n"
     ]
    },
    {
     "name": "stderr",
     "output_type": "stream",
     "text": [
      "\n"
     ]
    }
   ],
   "source": [
    "# ── STEP 3: for each DAVIS sequence, run SAM 2 and save outputs ───────────────\n",
    "for seq in ds.sequences:\n",
    "    print(f\"\\n=== Processing sequence: {seq} ===\")\n",
    "\n",
    "    # 3a) directories of images & GT masks for this sequence\n",
    "    img_dir  = DAVIS_ROOT / \"JPEGImages\"  / \"480p\" / seq\n",
    "    mask_dir = DAVIS_ROOT / \"Annotations\" / \"480p\" / seq\n",
    "\n",
    "    img_paths  = sorted(img_dir.glob(\"*.jpg\"))\n",
    "    mask_paths = sorted(mask_dir.glob(\"*.png\"))\n",
    "    assert len(img_paths) == len(mask_paths), (\n",
    "        f\"Image/mask count mismatch in {seq}: {len(img_paths)} vs {len(mask_paths)}\"\n",
    "    )\n",
    "\n",
    "    # 3b) initialize inference state by “loading” this sequence as a video\n",
    "    #     We pass the *directory* of frames to init_state.  Internally, it will call\n",
    "    #     `load_video_frames(video_path=video_dir, ...)` and store all frames in memory.\n",
    "    video_dir = str(img_dir)  # e.g. \"./data/davis/DAVIS/JPEGImages/480p/<seq>\"\n",
    "    inference_state = predictor.init_state(\n",
    "        video_path=video_dir,\n",
    "        offload_video_to_cpu=False,\n",
    "        offload_state_to_cpu=False,\n",
    "        async_loading_frames=False\n",
    "    )\n",
    "\n",
    "# (b) load the single “00000.png” which contains two different colored regions\n",
    "    rgb = iio.imread(str(mask_dir / \"00000.png\"))  # shape (H, W, 3)\n",
    "    H, W, C = rgb.shape\n",
    "    assert C == 3, \"Expected a 3‐channel (RGB) first‐frame mask.\"\n",
    "\n",
    "    # (c) find all unique RGB colors except black\n",
    "    flat = rgb.reshape(-1, 3)                        # shape (H*W, 3)\n",
    "    uniq_colors = np.unique(flat, axis=0)            # shape (K, 3), where K ≤ (H*W)\n",
    "    # Remove the black color (0,0,0) if present\n",
    "    non_black = [tuple(c) for c in uniq_colors if not np.all(c == 0)]\n",
    "    if len(non_black) == 0:\n",
    "        raise RuntimeError(f\"No non‐black colors found in {seq}/00000.png\")\n",
    "\n",
    "    # (d) for each unique non‐black color, build a 2D boolean mask and register it\n",
    "    print(f\"Found {len(non_black)} unique non‐black colors in {seq}/00000.png\")\n",
    "    for idx, color in enumerate(non_black):\n",
    "        # color is something like (200, 0, 0) or (0, 200, 0)\n",
    "        R, G, B = color\n",
    "        # build a binary mask: True where pixel == this color\n",
    "        bin_mask = np.logical_and.reduce([\n",
    "            rgb[:, :, 0] == R,\n",
    "            rgb[:, :, 1] == G,\n",
    "            rgb[:, :, 2] == B\n",
    "        ])  # shape (H, W), dtype=bool\n",
    "\n",
    "        # wrap as torch.bool on the same device as SAM 2\n",
    "        mask2d = torch.from_numpy(bin_mask).to(device)\n",
    "\n",
    "        # register this mask as object `idx`\n",
    "        predictor.add_new_mask(\n",
    "            inference_state=inference_state,\n",
    "            frame_idx=0,\n",
    "            obj_id=idx,  # choose 0,1,2,… per color\n",
    "            mask=mask2d\n",
    "        )\n",
    "\n",
    "    # 3e) now propagate through all frames.  As each new frame is processed,\n",
    "    #     propagate_in_video yields (frame_idx, [obj_ids], video_res_masks).\n",
    "    #\n",
    "    #     We’ll save each mask as “00000.png”, “00001.png”, … under OUT_DIR/<seq>/\n",
    "    seq_out_dir = OUT_DIR / seq\n",
    "    seq_out_dir.mkdir(parents=True, exist_ok=True)\n",
    "\n",
    "    for frame_idx, obj_ids, video_res_masks in tqdm(\n",
    "        predictor.propagate_in_video(inference_state),\n",
    "        total=len(img_paths)-1,\n",
    "        desc=f\"Propagating {seq}\"\n",
    "    ):\n",
    "        # # ‣ frame_idx is an integer (1,2,3,…).  video_res_masks is a tensor of shape\n",
    "        # #   (num_objects, H, W).  For DAVIS, num_objects==1.\n",
    "        # #\n",
    "        # # ‣ Thresholding has already happened internally; `video_res_masks` is\n",
    "        # #   a float‐tensor where positive values correspond to predicted “object.”\n",
    "        # mask_np = (video_res_masks[0].cpu().numpy() > 0.0).astype(np.uint8) * 255\n",
    "\n",
    "        # # Save with zero‐padded five digits to match DAVIS naming:\n",
    "        # save_name = f\"{frame_idx:05d}.png\"\n",
    "        # save_path = seq_out_dir / save_name\n",
    "        # iio.imwrite(str(save_path), mask_np)\n",
    "\n",
    "        # Suppose `video_res_masks` is whatever you get from propagate_in_video:\n",
    "        #   • If there is only one object, it may be a 2D tensor of shape (H, W)\n",
    "        #   • If there are multiple objects, it will be a 3D tensor of shape (O, H, W)\n",
    "\n",
    "        pred_np = video_res_masks.cpu().numpy()   # dtype=float32 or float; # ───────────────────────────────────────────────────────────────\n",
    "        # Assume you already did:\n",
    "        #   pred_np = video_res_masks.cpu().numpy()\n",
    "\n",
    "        # 1) Check how many dimensions `pred_np` has:\n",
    "        if pred_np.ndim == 2:\n",
    "            # Case A: single object, shape = (H, W)\n",
    "            H, W = pred_np.shape\n",
    "            O = 1\n",
    "            pred_np = pred_np[np.newaxis, ...]  # -> now shape (1, H, W)\n",
    "\n",
    "        elif pred_np.ndim == 3:\n",
    "            # Could be either:\n",
    "            #  (A) shape = (1, H, W)   ← single object with a leading axis\n",
    "            #  (B) shape = (O, H, W)   ← multiple objects, no extra channel axis\n",
    "            if pred_np.shape[0] == 1:\n",
    "                # Treat as “one‐object” → squeeze to (1, H, W) (already fits our convention)\n",
    "                O, H, W = pred_np.shape\n",
    "            else:\n",
    "                # Multi‐object already: (O, H, W)\n",
    "                O, H, W = pred_np.shape\n",
    "            # (no need to reshape because it’s already (O, H, W))\n",
    "\n",
    "        elif pred_np.ndim == 4:\n",
    "            # Some SAM 2 builds return (O, 1, H, W). In that case:\n",
    "            #   • pred_np.shape = (O, 1, H, W)\n",
    "            #   → we want to drop the “channel” dimension (axis=1).\n",
    "            O = pred_np.shape[0]\n",
    "            H = pred_np.shape[2]\n",
    "            W = pred_np.shape[3]\n",
    "            pred_np = pred_np[:, 0, :, :]  # now shape (O, H, W)\n",
    "\n",
    "        else:\n",
    "            raise RuntimeError(f\"Unexpected mask array with ndim={pred_np.ndim}, shape={pred_np.shape}\")\n",
    "\n",
    "        # At this point:\n",
    "        #   • pred_np is guaranteed to have shape (O, H, W)\n",
    "        #   • O, H, W are set correctly\n",
    "        # ───────────────────────────────────────────────────────────────\n",
    "\n",
    "        # Now you can build your colored output exactly as before:\n",
    "\n",
    "        colored = np.zeros((H, W, 3), dtype=np.uint8)\n",
    "\n",
    "        for i in range(O):\n",
    "            mask_i = (pred_np[i] > 0.0)   # boolean mask (H, W)\n",
    "            if not mask_i.any():\n",
    "                continue\n",
    "            R, G, B = non_black[i]  # the original RGB for object i\n",
    "            colored[mask_i, 0] = R\n",
    "            colored[mask_i, 1] = G\n",
    "            colored[mask_i, 2] = B\n",
    "\n",
    "        save_name = f\"{frame_idx:05d}.png\"\n",
    "        save_path = seq_out_dir / save_name\n",
    "        iio.imwrite(str(save_path), colored)\n",
    "\n",
    "\n",
    "    print(f\"→ Saved all predicted masks for {seq} in {seq_out_dir}\")\n",
    "\n",
    "print(\"\\nAll sequences processed.\")\n",
    "print(f\"Your SAM 2 masks live under: {OUT_DIR}\")\n"
   ]
  }
 ],
 "metadata": {
  "kernelspec": {
   "display_name": "Python 3",
   "language": "python",
   "name": "python3"
  },
  "language_info": {
   "codemirror_mode": {
    "name": "ipython",
    "version": 3
   },
   "file_extension": ".py",
   "mimetype": "text/x-python",
   "name": "python",
   "nbconvert_exporter": "python",
   "pygments_lexer": "ipython3",
   "version": "3.12.6"
  }
 },
 "nbformat": 4,
 "nbformat_minor": 5
}
