{
 "cells": [
  {
   "cell_type": "code",
   "execution_count": 9,
   "id": "acc92286",
   "metadata": {},
   "outputs": [
    {
     "name": "stdout",
     "output_type": "stream",
     "text": [
      "Loaded 30 validation sequences\n"
     ]
    },
    {
     "data": {
      "text/plain": [
       "SAM2VideoPredictor(\n",
       "  (image_encoder): ImageEncoder(\n",
       "    (trunk): Hiera(\n",
       "      (patch_embed): PatchEmbed(\n",
       "        (proj): Conv2d(3, 144, kernel_size=(7, 7), stride=(4, 4), padding=(3, 3))\n",
       "      )\n",
       "      (blocks): ModuleList(\n",
       "        (0-1): 2 x MultiScaleBlock(\n",
       "          (norm1): LayerNorm((144,), eps=1e-06, elementwise_affine=True)\n",
       "          (attn): MultiScaleAttention(\n",
       "            (qkv): Linear(in_features=144, out_features=432, bias=True)\n",
       "            (proj): Linear(in_features=144, out_features=144, bias=True)\n",
       "          )\n",
       "          (drop_path): Identity()\n",
       "          (norm2): LayerNorm((144,), eps=1e-06, elementwise_affine=True)\n",
       "          (mlp): MLP(\n",
       "            (layers): ModuleList(\n",
       "              (0): Linear(in_features=144, out_features=576, bias=True)\n",
       "              (1): Linear(in_features=576, out_features=144, bias=True)\n",
       "            )\n",
       "            (act): GELU(approximate='none')\n",
       "          )\n",
       "        )\n",
       "        (2): MultiScaleBlock(\n",
       "          (norm1): LayerNorm((144,), eps=1e-06, elementwise_affine=True)\n",
       "          (pool): MaxPool2d(kernel_size=(2, 2), stride=(2, 2), padding=0, dilation=1, ceil_mode=False)\n",
       "          (attn): MultiScaleAttention(\n",
       "            (q_pool): MaxPool2d(kernel_size=(2, 2), stride=(2, 2), padding=0, dilation=1, ceil_mode=False)\n",
       "            (qkv): Linear(in_features=144, out_features=864, bias=True)\n",
       "            (proj): Linear(in_features=288, out_features=288, bias=True)\n",
       "          )\n",
       "          (drop_path): Identity()\n",
       "          (norm2): LayerNorm((288,), eps=1e-06, elementwise_affine=True)\n",
       "          (mlp): MLP(\n",
       "            (layers): ModuleList(\n",
       "              (0): Linear(in_features=288, out_features=1152, bias=True)\n",
       "              (1): Linear(in_features=1152, out_features=288, bias=True)\n",
       "            )\n",
       "            (act): GELU(approximate='none')\n",
       "          )\n",
       "          (proj): Linear(in_features=144, out_features=288, bias=True)\n",
       "        )\n",
       "        (3-7): 5 x MultiScaleBlock(\n",
       "          (norm1): LayerNorm((288,), eps=1e-06, elementwise_affine=True)\n",
       "          (attn): MultiScaleAttention(\n",
       "            (qkv): Linear(in_features=288, out_features=864, bias=True)\n",
       "            (proj): Linear(in_features=288, out_features=288, bias=True)\n",
       "          )\n",
       "          (drop_path): Identity()\n",
       "          (norm2): LayerNorm((288,), eps=1e-06, elementwise_affine=True)\n",
       "          (mlp): MLP(\n",
       "            (layers): ModuleList(\n",
       "              (0): Linear(in_features=288, out_features=1152, bias=True)\n",
       "              (1): Linear(in_features=1152, out_features=288, bias=True)\n",
       "            )\n",
       "            (act): GELU(approximate='none')\n",
       "          )\n",
       "        )\n",
       "        (8): MultiScaleBlock(\n",
       "          (norm1): LayerNorm((288,), eps=1e-06, elementwise_affine=True)\n",
       "          (pool): MaxPool2d(kernel_size=(2, 2), stride=(2, 2), padding=0, dilation=1, ceil_mode=False)\n",
       "          (attn): MultiScaleAttention(\n",
       "            (q_pool): MaxPool2d(kernel_size=(2, 2), stride=(2, 2), padding=0, dilation=1, ceil_mode=False)\n",
       "            (qkv): Linear(in_features=288, out_features=1728, bias=True)\n",
       "            (proj): Linear(in_features=576, out_features=576, bias=True)\n",
       "          )\n",
       "          (drop_path): Identity()\n",
       "          (norm2): LayerNorm((576,), eps=1e-06, elementwise_affine=True)\n",
       "          (mlp): MLP(\n",
       "            (layers): ModuleList(\n",
       "              (0): Linear(in_features=576, out_features=2304, bias=True)\n",
       "              (1): Linear(in_features=2304, out_features=576, bias=True)\n",
       "            )\n",
       "            (act): GELU(approximate='none')\n",
       "          )\n",
       "          (proj): Linear(in_features=288, out_features=576, bias=True)\n",
       "        )\n",
       "        (9-43): 35 x MultiScaleBlock(\n",
       "          (norm1): LayerNorm((576,), eps=1e-06, elementwise_affine=True)\n",
       "          (attn): MultiScaleAttention(\n",
       "            (qkv): Linear(in_features=576, out_features=1728, bias=True)\n",
       "            (proj): Linear(in_features=576, out_features=576, bias=True)\n",
       "          )\n",
       "          (drop_path): Identity()\n",
       "          (norm2): LayerNorm((576,), eps=1e-06, elementwise_affine=True)\n",
       "          (mlp): MLP(\n",
       "            (layers): ModuleList(\n",
       "              (0): Linear(in_features=576, out_features=2304, bias=True)\n",
       "              (1): Linear(in_features=2304, out_features=576, bias=True)\n",
       "            )\n",
       "            (act): GELU(approximate='none')\n",
       "          )\n",
       "        )\n",
       "        (44): MultiScaleBlock(\n",
       "          (norm1): LayerNorm((576,), eps=1e-06, elementwise_affine=True)\n",
       "          (pool): MaxPool2d(kernel_size=(2, 2), stride=(2, 2), padding=0, dilation=1, ceil_mode=False)\n",
       "          (attn): MultiScaleAttention(\n",
       "            (q_pool): MaxPool2d(kernel_size=(2, 2), stride=(2, 2), padding=0, dilation=1, ceil_mode=False)\n",
       "            (qkv): Linear(in_features=576, out_features=3456, bias=True)\n",
       "            (proj): Linear(in_features=1152, out_features=1152, bias=True)\n",
       "          )\n",
       "          (drop_path): Identity()\n",
       "          (norm2): LayerNorm((1152,), eps=1e-06, elementwise_affine=True)\n",
       "          (mlp): MLP(\n",
       "            (layers): ModuleList(\n",
       "              (0): Linear(in_features=1152, out_features=4608, bias=True)\n",
       "              (1): Linear(in_features=4608, out_features=1152, bias=True)\n",
       "            )\n",
       "            (act): GELU(approximate='none')\n",
       "          )\n",
       "          (proj): Linear(in_features=576, out_features=1152, bias=True)\n",
       "        )\n",
       "        (45-47): 3 x MultiScaleBlock(\n",
       "          (norm1): LayerNorm((1152,), eps=1e-06, elementwise_affine=True)\n",
       "          (attn): MultiScaleAttention(\n",
       "            (qkv): Linear(in_features=1152, out_features=3456, bias=True)\n",
       "            (proj): Linear(in_features=1152, out_features=1152, bias=True)\n",
       "          )\n",
       "          (drop_path): Identity()\n",
       "          (norm2): LayerNorm((1152,), eps=1e-06, elementwise_affine=True)\n",
       "          (mlp): MLP(\n",
       "            (layers): ModuleList(\n",
       "              (0): Linear(in_features=1152, out_features=4608, bias=True)\n",
       "              (1): Linear(in_features=4608, out_features=1152, bias=True)\n",
       "            )\n",
       "            (act): GELU(approximate='none')\n",
       "          )\n",
       "        )\n",
       "      )\n",
       "    )\n",
       "    (neck): FpnNeck(\n",
       "      (position_encoding): PositionEmbeddingSine()\n",
       "      (convs): ModuleList(\n",
       "        (0): Sequential(\n",
       "          (conv): Conv2d(1152, 256, kernel_size=(1, 1), stride=(1, 1))\n",
       "        )\n",
       "        (1): Sequential(\n",
       "          (conv): Conv2d(576, 256, kernel_size=(1, 1), stride=(1, 1))\n",
       "        )\n",
       "        (2): Sequential(\n",
       "          (conv): Conv2d(288, 256, kernel_size=(1, 1), stride=(1, 1))\n",
       "        )\n",
       "        (3): Sequential(\n",
       "          (conv): Conv2d(144, 256, kernel_size=(1, 1), stride=(1, 1))\n",
       "        )\n",
       "      )\n",
       "    )\n",
       "  )\n",
       "  (mask_downsample): Conv2d(1, 1, kernel_size=(4, 4), stride=(4, 4))\n",
       "  (memory_attention): MemoryAttention(\n",
       "    (layers): ModuleList(\n",
       "      (0-3): 4 x MemoryAttentionLayer(\n",
       "        (self_attn): RoPEAttention(\n",
       "          (q_proj): Linear(in_features=256, out_features=256, bias=True)\n",
       "          (k_proj): Linear(in_features=256, out_features=256, bias=True)\n",
       "          (v_proj): Linear(in_features=256, out_features=256, bias=True)\n",
       "          (out_proj): Linear(in_features=256, out_features=256, bias=True)\n",
       "        )\n",
       "        (cross_attn_image): RoPEAttention(\n",
       "          (q_proj): Linear(in_features=256, out_features=256, bias=True)\n",
       "          (k_proj): Linear(in_features=64, out_features=256, bias=True)\n",
       "          (v_proj): Linear(in_features=64, out_features=256, bias=True)\n",
       "          (out_proj): Linear(in_features=256, out_features=256, bias=True)\n",
       "        )\n",
       "        (linear1): Linear(in_features=256, out_features=2048, bias=True)\n",
       "        (dropout): Dropout(p=0.1, inplace=False)\n",
       "        (linear2): Linear(in_features=2048, out_features=256, bias=True)\n",
       "        (norm1): LayerNorm((256,), eps=1e-05, elementwise_affine=True)\n",
       "        (norm2): LayerNorm((256,), eps=1e-05, elementwise_affine=True)\n",
       "        (norm3): LayerNorm((256,), eps=1e-05, elementwise_affine=True)\n",
       "        (dropout1): Dropout(p=0.1, inplace=False)\n",
       "        (dropout2): Dropout(p=0.1, inplace=False)\n",
       "        (dropout3): Dropout(p=0.1, inplace=False)\n",
       "      )\n",
       "    )\n",
       "    (norm): LayerNorm((256,), eps=1e-05, elementwise_affine=True)\n",
       "  )\n",
       "  (memory_encoder): MemoryEncoder(\n",
       "    (mask_downsampler): MaskDownSampler(\n",
       "      (encoder): Sequential(\n",
       "        (0): Conv2d(1, 4, kernel_size=(3, 3), stride=(2, 2), padding=(1, 1))\n",
       "        (1): LayerNorm2d()\n",
       "        (2): GELU(approximate='none')\n",
       "        (3): Conv2d(4, 16, kernel_size=(3, 3), stride=(2, 2), padding=(1, 1))\n",
       "        (4): LayerNorm2d()\n",
       "        (5): GELU(approximate='none')\n",
       "        (6): Conv2d(16, 64, kernel_size=(3, 3), stride=(2, 2), padding=(1, 1))\n",
       "        (7): LayerNorm2d()\n",
       "        (8): GELU(approximate='none')\n",
       "        (9): Conv2d(64, 256, kernel_size=(3, 3), stride=(2, 2), padding=(1, 1))\n",
       "        (10): LayerNorm2d()\n",
       "        (11): GELU(approximate='none')\n",
       "        (12): Conv2d(256, 256, kernel_size=(1, 1), stride=(1, 1))\n",
       "      )\n",
       "    )\n",
       "    (pix_feat_proj): Conv2d(256, 256, kernel_size=(1, 1), stride=(1, 1))\n",
       "    (fuser): Fuser(\n",
       "      (proj): Identity()\n",
       "      (layers): ModuleList(\n",
       "        (0-1): 2 x CXBlock(\n",
       "          (dwconv): Conv2d(256, 256, kernel_size=(7, 7), stride=(1, 1), padding=(3, 3), groups=256)\n",
       "          (norm): LayerNorm2d()\n",
       "          (pwconv1): Linear(in_features=256, out_features=1024, bias=True)\n",
       "          (act): GELU(approximate='none')\n",
       "          (pwconv2): Linear(in_features=1024, out_features=256, bias=True)\n",
       "          (drop_path): Identity()\n",
       "        )\n",
       "      )\n",
       "    )\n",
       "    (position_encoding): PositionEmbeddingSine()\n",
       "    (out_proj): Conv2d(256, 64, kernel_size=(1, 1), stride=(1, 1))\n",
       "  )\n",
       "  (sam_prompt_encoder): PromptEncoder(\n",
       "    (pe_layer): PositionEmbeddingRandom()\n",
       "    (point_embeddings): ModuleList(\n",
       "      (0-3): 4 x Embedding(1, 256)\n",
       "    )\n",
       "    (not_a_point_embed): Embedding(1, 256)\n",
       "    (mask_downscaling): Sequential(\n",
       "      (0): Conv2d(1, 4, kernel_size=(2, 2), stride=(2, 2))\n",
       "      (1): LayerNorm2d()\n",
       "      (2): GELU(approximate='none')\n",
       "      (3): Conv2d(4, 16, kernel_size=(2, 2), stride=(2, 2))\n",
       "      (4): LayerNorm2d()\n",
       "      (5): GELU(approximate='none')\n",
       "      (6): Conv2d(16, 256, kernel_size=(1, 1), stride=(1, 1))\n",
       "    )\n",
       "    (no_mask_embed): Embedding(1, 256)\n",
       "  )\n",
       "  (sam_mask_decoder): MaskDecoder(\n",
       "    (transformer): TwoWayTransformer(\n",
       "      (layers): ModuleList(\n",
       "        (0-1): 2 x TwoWayAttentionBlock(\n",
       "          (self_attn): Attention(\n",
       "            (q_proj): Linear(in_features=256, out_features=256, bias=True)\n",
       "            (k_proj): Linear(in_features=256, out_features=256, bias=True)\n",
       "            (v_proj): Linear(in_features=256, out_features=256, bias=True)\n",
       "            (out_proj): Linear(in_features=256, out_features=256, bias=True)\n",
       "          )\n",
       "          (norm1): LayerNorm((256,), eps=1e-05, elementwise_affine=True)\n",
       "          (cross_attn_token_to_image): Attention(\n",
       "            (q_proj): Linear(in_features=256, out_features=128, bias=True)\n",
       "            (k_proj): Linear(in_features=256, out_features=128, bias=True)\n",
       "            (v_proj): Linear(in_features=256, out_features=128, bias=True)\n",
       "            (out_proj): Linear(in_features=128, out_features=256, bias=True)\n",
       "          )\n",
       "          (norm2): LayerNorm((256,), eps=1e-05, elementwise_affine=True)\n",
       "          (mlp): MLP(\n",
       "            (layers): ModuleList(\n",
       "              (0): Linear(in_features=256, out_features=2048, bias=True)\n",
       "              (1): Linear(in_features=2048, out_features=256, bias=True)\n",
       "            )\n",
       "            (act): ReLU()\n",
       "          )\n",
       "          (norm3): LayerNorm((256,), eps=1e-05, elementwise_affine=True)\n",
       "          (norm4): LayerNorm((256,), eps=1e-05, elementwise_affine=True)\n",
       "          (cross_attn_image_to_token): Attention(\n",
       "            (q_proj): Linear(in_features=256, out_features=128, bias=True)\n",
       "            (k_proj): Linear(in_features=256, out_features=128, bias=True)\n",
       "            (v_proj): Linear(in_features=256, out_features=128, bias=True)\n",
       "            (out_proj): Linear(in_features=128, out_features=256, bias=True)\n",
       "          )\n",
       "        )\n",
       "      )\n",
       "      (final_attn_token_to_image): Attention(\n",
       "        (q_proj): Linear(in_features=256, out_features=128, bias=True)\n",
       "        (k_proj): Linear(in_features=256, out_features=128, bias=True)\n",
       "        (v_proj): Linear(in_features=256, out_features=128, bias=True)\n",
       "        (out_proj): Linear(in_features=128, out_features=256, bias=True)\n",
       "      )\n",
       "      (norm_final_attn): LayerNorm((256,), eps=1e-05, elementwise_affine=True)\n",
       "    )\n",
       "    (iou_token): Embedding(1, 256)\n",
       "    (mask_tokens): Embedding(4, 256)\n",
       "    (obj_score_token): Embedding(1, 256)\n",
       "    (output_upscaling): Sequential(\n",
       "      (0): ConvTranspose2d(256, 64, kernel_size=(2, 2), stride=(2, 2))\n",
       "      (1): LayerNorm2d()\n",
       "      (2): GELU(approximate='none')\n",
       "      (3): ConvTranspose2d(64, 32, kernel_size=(2, 2), stride=(2, 2))\n",
       "      (4): GELU(approximate='none')\n",
       "    )\n",
       "    (conv_s0): Conv2d(256, 32, kernel_size=(1, 1), stride=(1, 1))\n",
       "    (conv_s1): Conv2d(256, 64, kernel_size=(1, 1), stride=(1, 1))\n",
       "    (output_hypernetworks_mlps): ModuleList(\n",
       "      (0-3): 4 x MLP(\n",
       "        (layers): ModuleList(\n",
       "          (0-1): 2 x Linear(in_features=256, out_features=256, bias=True)\n",
       "          (2): Linear(in_features=256, out_features=32, bias=True)\n",
       "        )\n",
       "        (act): ReLU()\n",
       "      )\n",
       "    )\n",
       "    (iou_prediction_head): MLP(\n",
       "      (layers): ModuleList(\n",
       "        (0-1): 2 x Linear(in_features=256, out_features=256, bias=True)\n",
       "        (2): Linear(in_features=256, out_features=4, bias=True)\n",
       "      )\n",
       "      (act): ReLU()\n",
       "    )\n",
       "    (pred_obj_score_head): MLP(\n",
       "      (layers): ModuleList(\n",
       "        (0-1): 2 x Linear(in_features=256, out_features=256, bias=True)\n",
       "        (2): Linear(in_features=256, out_features=1, bias=True)\n",
       "      )\n",
       "      (act): ReLU()\n",
       "    )\n",
       "  )\n",
       "  (obj_ptr_proj): MLP(\n",
       "    (layers): ModuleList(\n",
       "      (0-2): 3 x Linear(in_features=256, out_features=256, bias=True)\n",
       "    )\n",
       "    (act): ReLU()\n",
       "  )\n",
       "  (obj_ptr_tpos_proj): Linear(in_features=256, out_features=64, bias=True)\n",
       ")"
      ]
     },
     "execution_count": 9,
     "metadata": {},
     "output_type": "execute_result"
    }
   ],
   "source": [
    "import sys, os, json, time, subprocess, pathlib\n",
    "from pathlib import Path\n",
    "from davis2017.davis import DAVIS\n",
    "import imageio.v3 as iio\n",
    "import numpy as np\n",
    "from tqdm import tqdm\n",
    "import torch\n",
    "\n",
    "# ── USER‐CONFIGURABLE PATHS ──────────────────────────────────────────────────\n",
    "DAVIS_ROOT  = Path(\"./data/DAVIS\")          # ← point this at your DAVIS folder\n",
    "OUT_DIR     = Path(\"./data/DAVIS2017_mgfs_naive\")           # ← where we’ll write out PNGs\n",
    "OUT_DIR.mkdir(parents=True, exist_ok=True)\n",
    "\n",
    "# ── STEP 1: load the DAVIS “val” split (semi‐supervised task) ───────────────────\n",
    "ds = DAVIS(str(DAVIS_ROOT), task=\"semi-supervised\", subset=\"val\", resolution=\"480p\")\n",
    "print(f\"Loaded {len(ds.sequences)} validation sequences\")\n",
    "\n",
    "# ── STEP 2: build SAM 2 video predictor ─────────────────────────────────────────\n",
    "from sam2.build_sam import build_sam2_video_predictor\n",
    "\n",
    "device = \"cuda\" if torch.cuda.is_available() else \"cpu\"\n",
    "sam2_checkpoint = \"./checkpoints/sam2.1_hiera_large.pt\"   # ← adjust if needed\n",
    "model_cfg       = \"configs/sam2.1/sam2.1_hiera_l.yaml\"   # ← adjust if needed\n",
    "\n",
    "predictor = build_sam2_video_predictor(model_cfg, sam2_checkpoint, device=device)\n",
    "predictor.to(device)   # make sure model is on CUDA if available"
   ]
  },
  {
   "cell_type": "code",
   "execution_count": 10,
   "id": "bdd669c2",
   "metadata": {},
   "outputs": [
    {
     "name": "stdout",
     "output_type": "stream",
     "text": [
      "\n",
      "=== Processing sequence: bike-packing ===\n"
     ]
    },
    {
     "name": "stderr",
     "output_type": "stream",
     "text": [
      "frame loading (JPEG): 100%|██████████| 69/69 [00:01<00:00, 49.47it/s]\n"
     ]
    },
    {
     "name": "stdout",
     "output_type": "stream",
     "text": [
      "Found 2 unique non‐black colors in bike-packing/00000.png\n"
     ]
    },
    {
     "name": "stderr",
     "output_type": "stream",
     "text": [
      "Propagating bike-packing:   3%|▎         | 2/68 [00:00<00:09,  6.65it/s]"
     ]
    },
    {
     "name": "stdout",
     "output_type": "stream",
     "text": [
      "Skipping frame 1 - Global MAD: 0.0135, Masked MAD: 0.0492 (threshold: 0.05)\n"
     ]
    },
    {
     "name": "stderr",
     "output_type": "stream",
     "text": [
      "Propagating bike-packing:   4%|▍         | 3/68 [00:00<00:13,  4.89it/s]"
     ]
    },
    {
     "name": "stdout",
     "output_type": "stream",
     "text": [
      "Skipping frame 2 - Global MAD: 0.0198, Masked MAD: 0.0767 (threshold: 0.05)\n"
     ]
    },
    {
     "name": "stderr",
     "output_type": "stream",
     "text": [
      "Propagating bike-packing:   6%|▌         | 4/68 [00:00<00:14,  4.28it/s]"
     ]
    },
    {
     "name": "stdout",
     "output_type": "stream",
     "text": [
      "Skipping frame 3 - Global MAD: 0.0249, Masked MAD: 0.0978 (threshold: 0.05)\n"
     ]
    },
    {
     "name": "stderr",
     "output_type": "stream",
     "text": [
      "Propagating bike-packing:   7%|▋         | 5/68 [00:01<00:15,  4.00it/s]"
     ]
    },
    {
     "name": "stdout",
     "output_type": "stream",
     "text": [
      "Skipping frame 4 - Global MAD: 0.0298, Masked MAD: 0.1196 (threshold: 0.05)\n"
     ]
    },
    {
     "name": "stderr",
     "output_type": "stream",
     "text": [
      "Propagating bike-packing:   9%|▉         | 6/68 [00:01<00:16,  3.85it/s]"
     ]
    },
    {
     "name": "stdout",
     "output_type": "stream",
     "text": [
      "Skipping frame 5 - Global MAD: 0.0358, Masked MAD: 0.1407 (threshold: 0.05)\n"
     ]
    },
    {
     "name": "stderr",
     "output_type": "stream",
     "text": [
      "Propagating bike-packing:  10%|█         | 7/68 [00:01<00:16,  3.75it/s]"
     ]
    },
    {
     "name": "stdout",
     "output_type": "stream",
     "text": [
      "Skipping frame 6 - Global MAD: 0.0396, Masked MAD: 0.1542 (threshold: 0.05)\n"
     ]
    },
    {
     "name": "stderr",
     "output_type": "stream",
     "text": [
      "Propagating bike-packing:  12%|█▏        | 8/68 [00:01<00:16,  3.69it/s]"
     ]
    },
    {
     "name": "stdout",
     "output_type": "stream",
     "text": [
      "Skipping frame 7 - Global MAD: 0.0420, Masked MAD: 0.1613 (threshold: 0.05)\n"
     ]
    },
    {
     "name": "stderr",
     "output_type": "stream",
     "text": [
      "Propagating bike-packing:  13%|█▎        | 9/68 [00:02<00:16,  3.65it/s]"
     ]
    },
    {
     "name": "stdout",
     "output_type": "stream",
     "text": [
      "Skipping frame 8 - Global MAD: 0.0470, Masked MAD: 0.1765 (threshold: 0.05)\n"
     ]
    },
    {
     "name": "stderr",
     "output_type": "stream",
     "text": [
      "Propagating bike-packing:  15%|█▍        | 10/68 [00:02<00:16,  3.62it/s]"
     ]
    },
    {
     "name": "stdout",
     "output_type": "stream",
     "text": [
      "Skipping frame 9 - Global MAD: 0.0530, Masked MAD: 0.1861 (threshold: 0.05)\n"
     ]
    },
    {
     "name": "stderr",
     "output_type": "stream",
     "text": [
      "Propagating bike-packing:  16%|█▌        | 11/68 [00:02<00:15,  3.60it/s]"
     ]
    },
    {
     "name": "stdout",
     "output_type": "stream",
     "text": [
      "Skipping frame 10 - Global MAD: 0.0561, Masked MAD: 0.1769 (threshold: 0.05)\n"
     ]
    },
    {
     "name": "stderr",
     "output_type": "stream",
     "text": [
      "Propagating bike-packing:  18%|█▊        | 12/68 [00:03<00:15,  3.58it/s]"
     ]
    },
    {
     "name": "stdout",
     "output_type": "stream",
     "text": [
      "Skipping frame 11 - Global MAD: 0.0606, Masked MAD: 0.1867 (threshold: 0.05)\n"
     ]
    },
    {
     "name": "stderr",
     "output_type": "stream",
     "text": [
      "Propagating bike-packing:  19%|█▉        | 13/68 [00:03<00:15,  3.57it/s]"
     ]
    },
    {
     "name": "stdout",
     "output_type": "stream",
     "text": [
      "Skipping frame 12 - Global MAD: 0.0594, Masked MAD: 0.1876 (threshold: 0.05)\n"
     ]
    },
    {
     "name": "stderr",
     "output_type": "stream",
     "text": [
      "Propagating bike-packing:  21%|██        | 14/68 [00:03<00:15,  3.57it/s]"
     ]
    },
    {
     "name": "stdout",
     "output_type": "stream",
     "text": [
      "Skipping frame 13 - Global MAD: 0.0579, Masked MAD: 0.1908 (threshold: 0.05)\n"
     ]
    },
    {
     "name": "stderr",
     "output_type": "stream",
     "text": [
      "Propagating bike-packing:  22%|██▏       | 15/68 [00:03<00:14,  3.57it/s]"
     ]
    },
    {
     "name": "stdout",
     "output_type": "stream",
     "text": [
      "Skipping frame 14 - Global MAD: 0.0591, Masked MAD: 0.2025 (threshold: 0.05)\n"
     ]
    },
    {
     "name": "stderr",
     "output_type": "stream",
     "text": [
      "Propagating bike-packing:  24%|██▎       | 16/68 [00:04<00:14,  3.57it/s]"
     ]
    },
    {
     "name": "stdout",
     "output_type": "stream",
     "text": [
      "Skipping frame 15 - Global MAD: 0.0602, Masked MAD: 0.2022 (threshold: 0.05)\n"
     ]
    },
    {
     "name": "stderr",
     "output_type": "stream",
     "text": [
      "Propagating bike-packing:  25%|██▌       | 17/68 [00:04<00:14,  3.56it/s]"
     ]
    },
    {
     "name": "stdout",
     "output_type": "stream",
     "text": [
      "Skipping frame 16 - Global MAD: 0.0585, Masked MAD: 0.1968 (threshold: 0.05)\n"
     ]
    },
    {
     "name": "stderr",
     "output_type": "stream",
     "text": [
      "Propagating bike-packing:  26%|██▋       | 18/68 [00:04<00:14,  3.56it/s]"
     ]
    },
    {
     "name": "stdout",
     "output_type": "stream",
     "text": [
      "Skipping frame 17 - Global MAD: 0.0641, Masked MAD: 0.2139 (threshold: 0.05)\n"
     ]
    },
    {
     "name": "stderr",
     "output_type": "stream",
     "text": [
      "Propagating bike-packing:  28%|██▊       | 19/68 [00:05<00:13,  3.56it/s]"
     ]
    },
    {
     "name": "stdout",
     "output_type": "stream",
     "text": [
      "Skipping frame 18 - Global MAD: 0.0659, Masked MAD: 0.2071 (threshold: 0.05)\n"
     ]
    },
    {
     "name": "stderr",
     "output_type": "stream",
     "text": [
      "Propagating bike-packing:  29%|██▉       | 20/68 [00:05<00:13,  3.55it/s]"
     ]
    },
    {
     "name": "stdout",
     "output_type": "stream",
     "text": [
      "Skipping frame 19 - Global MAD: 0.0694, Masked MAD: 0.2100 (threshold: 0.05)\n"
     ]
    },
    {
     "name": "stderr",
     "output_type": "stream",
     "text": [
      "Propagating bike-packing:  31%|███       | 21/68 [00:05<00:13,  3.55it/s]"
     ]
    },
    {
     "name": "stdout",
     "output_type": "stream",
     "text": [
      "Skipping frame 20 - Global MAD: 0.0727, Masked MAD: 0.2146 (threshold: 0.05)\n"
     ]
    },
    {
     "name": "stderr",
     "output_type": "stream",
     "text": [
      "Propagating bike-packing:  32%|███▏      | 22/68 [00:05<00:12,  3.55it/s]"
     ]
    },
    {
     "name": "stdout",
     "output_type": "stream",
     "text": [
      "Skipping frame 21 - Global MAD: 0.0743, Masked MAD: 0.2151 (threshold: 0.05)\n"
     ]
    },
    {
     "name": "stderr",
     "output_type": "stream",
     "text": [
      "Propagating bike-packing:  34%|███▍      | 23/68 [00:06<00:12,  3.54it/s]"
     ]
    },
    {
     "name": "stdout",
     "output_type": "stream",
     "text": [
      "Skipping frame 22 - Global MAD: 0.0747, Masked MAD: 0.2132 (threshold: 0.05)\n"
     ]
    },
    {
     "name": "stderr",
     "output_type": "stream",
     "text": [
      "Propagating bike-packing:  35%|███▌      | 24/68 [00:06<00:12,  3.55it/s]"
     ]
    },
    {
     "name": "stdout",
     "output_type": "stream",
     "text": [
      "Skipping frame 23 - Global MAD: 0.0758, Masked MAD: 0.2163 (threshold: 0.05)\n"
     ]
    },
    {
     "name": "stderr",
     "output_type": "stream",
     "text": [
      "Propagating bike-packing:  37%|███▋      | 25/68 [00:06<00:12,  3.55it/s]"
     ]
    },
    {
     "name": "stdout",
     "output_type": "stream",
     "text": [
      "Skipping frame 24 - Global MAD: 0.0765, Masked MAD: 0.2178 (threshold: 0.05)\n"
     ]
    },
    {
     "name": "stderr",
     "output_type": "stream",
     "text": [
      "Propagating bike-packing:  38%|███▊      | 26/68 [00:07<00:11,  3.55it/s]"
     ]
    },
    {
     "name": "stdout",
     "output_type": "stream",
     "text": [
      "Skipping frame 25 - Global MAD: 0.0768, Masked MAD: 0.2183 (threshold: 0.05)\n"
     ]
    },
    {
     "name": "stderr",
     "output_type": "stream",
     "text": [
      "Propagating bike-packing:  40%|███▉      | 27/68 [00:07<00:11,  3.54it/s]"
     ]
    },
    {
     "name": "stdout",
     "output_type": "stream",
     "text": [
      "Skipping frame 26 - Global MAD: 0.0750, Masked MAD: 0.2146 (threshold: 0.05)\n"
     ]
    },
    {
     "name": "stderr",
     "output_type": "stream",
     "text": [
      "Propagating bike-packing:  41%|████      | 28/68 [00:07<00:11,  3.54it/s]"
     ]
    },
    {
     "name": "stdout",
     "output_type": "stream",
     "text": [
      "Skipping frame 27 - Global MAD: 0.0722, Masked MAD: 0.2082 (threshold: 0.05)\n"
     ]
    },
    {
     "name": "stderr",
     "output_type": "stream",
     "text": [
      "Propagating bike-packing:  43%|████▎     | 29/68 [00:07<00:11,  3.54it/s]"
     ]
    },
    {
     "name": "stdout",
     "output_type": "stream",
     "text": [
      "Skipping frame 28 - Global MAD: 0.0715, Masked MAD: 0.2066 (threshold: 0.05)\n"
     ]
    },
    {
     "name": "stderr",
     "output_type": "stream",
     "text": [
      "Propagating bike-packing:  44%|████▍     | 30/68 [00:08<00:10,  3.54it/s]"
     ]
    },
    {
     "name": "stdout",
     "output_type": "stream",
     "text": [
      "Skipping frame 29 - Global MAD: 0.0694, Masked MAD: 0.2051 (threshold: 0.05)\n"
     ]
    },
    {
     "name": "stderr",
     "output_type": "stream",
     "text": [
      "Propagating bike-packing:  46%|████▌     | 31/68 [00:08<00:10,  3.53it/s]"
     ]
    },
    {
     "name": "stdout",
     "output_type": "stream",
     "text": [
      "Skipping frame 30 - Global MAD: 0.0693, Masked MAD: 0.2053 (threshold: 0.05)\n",
      "Avg FPS last 30 frames: 3.55\n"
     ]
    },
    {
     "name": "stderr",
     "output_type": "stream",
     "text": [
      "Propagating bike-packing:  47%|████▋     | 32/68 [00:08<00:10,  3.53it/s]"
     ]
    },
    {
     "name": "stdout",
     "output_type": "stream",
     "text": [
      "Skipping frame 31 - Global MAD: 0.0714, Masked MAD: 0.2062 (threshold: 0.05)\n"
     ]
    },
    {
     "name": "stderr",
     "output_type": "stream",
     "text": [
      "Propagating bike-packing:  49%|████▊     | 33/68 [00:09<00:09,  3.53it/s]"
     ]
    },
    {
     "name": "stdout",
     "output_type": "stream",
     "text": [
      "Skipping frame 32 - Global MAD: 0.0706, Masked MAD: 0.2069 (threshold: 0.05)\n"
     ]
    },
    {
     "name": "stderr",
     "output_type": "stream",
     "text": [
      "Propagating bike-packing:  50%|█████     | 34/68 [00:09<00:09,  3.53it/s]"
     ]
    },
    {
     "name": "stdout",
     "output_type": "stream",
     "text": [
      "Skipping frame 33 - Global MAD: 0.0724, Masked MAD: 0.2068 (threshold: 0.05)\n"
     ]
    },
    {
     "name": "stderr",
     "output_type": "stream",
     "text": [
      "Propagating bike-packing:  51%|█████▏    | 35/68 [00:09<00:09,  3.53it/s]"
     ]
    },
    {
     "name": "stdout",
     "output_type": "stream",
     "text": [
      "Skipping frame 34 - Global MAD: 0.0786, Masked MAD: 0.2065 (threshold: 0.05)\n"
     ]
    },
    {
     "name": "stderr",
     "output_type": "stream",
     "text": [
      "Propagating bike-packing:  53%|█████▎    | 36/68 [00:09<00:09,  3.54it/s]"
     ]
    },
    {
     "name": "stdout",
     "output_type": "stream",
     "text": [
      "Skipping frame 35 - Global MAD: 0.0850, Masked MAD: 0.2064 (threshold: 0.05)\n"
     ]
    },
    {
     "name": "stderr",
     "output_type": "stream",
     "text": [
      "Propagating bike-packing:  54%|█████▍    | 37/68 [00:10<00:08,  3.54it/s]"
     ]
    },
    {
     "name": "stdout",
     "output_type": "stream",
     "text": [
      "Skipping frame 36 - Global MAD: 0.0904, Masked MAD: 0.2063 (threshold: 0.05)\n"
     ]
    },
    {
     "name": "stderr",
     "output_type": "stream",
     "text": [
      "Propagating bike-packing:  56%|█████▌    | 38/68 [00:10<00:08,  3.54it/s]"
     ]
    },
    {
     "name": "stdout",
     "output_type": "stream",
     "text": [
      "Skipping frame 37 - Global MAD: 0.0946, Masked MAD: 0.2065 (threshold: 0.05)\n"
     ]
    },
    {
     "name": "stderr",
     "output_type": "stream",
     "text": [
      "Propagating bike-packing:  57%|█████▋    | 39/68 [00:10<00:08,  3.54it/s]"
     ]
    },
    {
     "name": "stdout",
     "output_type": "stream",
     "text": [
      "Skipping frame 38 - Global MAD: 0.0986, Masked MAD: 0.2067 (threshold: 0.05)\n"
     ]
    },
    {
     "name": "stderr",
     "output_type": "stream",
     "text": [
      "Propagating bike-packing:  59%|█████▉    | 40/68 [00:11<00:07,  3.54it/s]"
     ]
    },
    {
     "name": "stdout",
     "output_type": "stream",
     "text": [
      "Skipping frame 39 - Global MAD: 0.1056, Masked MAD: 0.2073 (threshold: 0.05)\n"
     ]
    },
    {
     "name": "stderr",
     "output_type": "stream",
     "text": [
      "Propagating bike-packing:  60%|██████    | 41/68 [00:11<00:07,  3.54it/s]"
     ]
    },
    {
     "name": "stdout",
     "output_type": "stream",
     "text": [
      "Skipping frame 40 - Global MAD: 0.1198, Masked MAD: 0.2060 (threshold: 0.05)\n"
     ]
    },
    {
     "name": "stderr",
     "output_type": "stream",
     "text": [
      "Propagating bike-packing:  62%|██████▏   | 42/68 [00:11<00:07,  3.54it/s]"
     ]
    },
    {
     "name": "stdout",
     "output_type": "stream",
     "text": [
      "Skipping frame 41 - Global MAD: 0.1292, Masked MAD: 0.2073 (threshold: 0.05)\n"
     ]
    },
    {
     "name": "stderr",
     "output_type": "stream",
     "text": [
      "Propagating bike-packing:  63%|██████▎   | 43/68 [00:11<00:07,  3.54it/s]"
     ]
    },
    {
     "name": "stdout",
     "output_type": "stream",
     "text": [
      "Skipping frame 42 - Global MAD: 0.1347, Masked MAD: 0.2086 (threshold: 0.05)\n"
     ]
    },
    {
     "name": "stderr",
     "output_type": "stream",
     "text": [
      "Propagating bike-packing:  65%|██████▍   | 44/68 [00:12<00:06,  3.54it/s]"
     ]
    },
    {
     "name": "stdout",
     "output_type": "stream",
     "text": [
      "Skipping frame 43 - Global MAD: 0.1377, Masked MAD: 0.2101 (threshold: 0.05)\n"
     ]
    },
    {
     "name": "stderr",
     "output_type": "stream",
     "text": [
      "Propagating bike-packing:  66%|██████▌   | 45/68 [00:12<00:06,  3.54it/s]"
     ]
    },
    {
     "name": "stdout",
     "output_type": "stream",
     "text": [
      "Skipping frame 44 - Global MAD: 0.1400, Masked MAD: 0.2123 (threshold: 0.05)\n"
     ]
    },
    {
     "name": "stderr",
     "output_type": "stream",
     "text": [
      "Propagating bike-packing:  68%|██████▊   | 46/68 [00:12<00:06,  3.55it/s]"
     ]
    },
    {
     "name": "stdout",
     "output_type": "stream",
     "text": [
      "Skipping frame 45 - Global MAD: 0.1422, Masked MAD: 0.2184 (threshold: 0.05)\n"
     ]
    },
    {
     "name": "stderr",
     "output_type": "stream",
     "text": [
      "Propagating bike-packing:  69%|██████▉   | 47/68 [00:12<00:05,  3.55it/s]"
     ]
    },
    {
     "name": "stdout",
     "output_type": "stream",
     "text": [
      "Skipping frame 46 - Global MAD: 0.1449, Masked MAD: 0.2277 (threshold: 0.05)\n"
     ]
    },
    {
     "name": "stderr",
     "output_type": "stream",
     "text": [
      "Propagating bike-packing:  71%|███████   | 48/68 [00:13<00:05,  3.55it/s]"
     ]
    },
    {
     "name": "stdout",
     "output_type": "stream",
     "text": [
      "Skipping frame 47 - Global MAD: 0.1460, Masked MAD: 0.2308 (threshold: 0.05)\n"
     ]
    },
    {
     "name": "stderr",
     "output_type": "stream",
     "text": [
      "Propagating bike-packing:  72%|███████▏  | 49/68 [00:13<00:05,  3.55it/s]"
     ]
    },
    {
     "name": "stdout",
     "output_type": "stream",
     "text": [
      "Skipping frame 48 - Global MAD: 0.1585, Masked MAD: 0.2324 (threshold: 0.05)\n"
     ]
    },
    {
     "name": "stderr",
     "output_type": "stream",
     "text": [
      "Propagating bike-packing:  74%|███████▎  | 50/68 [00:13<00:05,  3.55it/s]"
     ]
    },
    {
     "name": "stdout",
     "output_type": "stream",
     "text": [
      "Skipping frame 49 - Global MAD: 0.1641, Masked MAD: 0.2317 (threshold: 0.05)\n"
     ]
    },
    {
     "name": "stderr",
     "output_type": "stream",
     "text": [
      "Propagating bike-packing:  75%|███████▌  | 51/68 [00:14<00:04,  3.54it/s]"
     ]
    },
    {
     "name": "stdout",
     "output_type": "stream",
     "text": [
      "Skipping frame 50 - Global MAD: 0.1681, Masked MAD: 0.2364 (threshold: 0.05)\n"
     ]
    },
    {
     "name": "stderr",
     "output_type": "stream",
     "text": [
      "Propagating bike-packing:  76%|███████▋  | 52/68 [00:14<00:04,  3.54it/s]"
     ]
    },
    {
     "name": "stdout",
     "output_type": "stream",
     "text": [
      "Skipping frame 51 - Global MAD: 0.1697, Masked MAD: 0.2449 (threshold: 0.05)\n"
     ]
    },
    {
     "name": "stderr",
     "output_type": "stream",
     "text": [
      "Propagating bike-packing:  78%|███████▊  | 53/68 [00:14<00:04,  3.54it/s]"
     ]
    },
    {
     "name": "stdout",
     "output_type": "stream",
     "text": [
      "Skipping frame 52 - Global MAD: 0.1673, Masked MAD: 0.2430 (threshold: 0.05)\n"
     ]
    },
    {
     "name": "stderr",
     "output_type": "stream",
     "text": [
      "Propagating bike-packing:  79%|███████▉  | 54/68 [00:14<00:03,  3.55it/s]"
     ]
    },
    {
     "name": "stdout",
     "output_type": "stream",
     "text": [
      "Skipping frame 53 - Global MAD: 0.1652, Masked MAD: 0.2425 (threshold: 0.05)\n"
     ]
    },
    {
     "name": "stderr",
     "output_type": "stream",
     "text": [
      "Propagating bike-packing:  81%|████████  | 55/68 [00:15<00:03,  3.54it/s]"
     ]
    },
    {
     "name": "stdout",
     "output_type": "stream",
     "text": [
      "Skipping frame 54 - Global MAD: 0.1638, Masked MAD: 0.2421 (threshold: 0.05)\n"
     ]
    },
    {
     "name": "stderr",
     "output_type": "stream",
     "text": [
      "Propagating bike-packing:  82%|████████▏ | 56/68 [00:15<00:03,  3.55it/s]"
     ]
    },
    {
     "name": "stdout",
     "output_type": "stream",
     "text": [
      "Skipping frame 55 - Global MAD: 0.1627, Masked MAD: 0.2387 (threshold: 0.05)\n"
     ]
    },
    {
     "name": "stderr",
     "output_type": "stream",
     "text": [
      "Propagating bike-packing:  84%|████████▍ | 57/68 [00:15<00:03,  3.54it/s]"
     ]
    },
    {
     "name": "stdout",
     "output_type": "stream",
     "text": [
      "Skipping frame 56 - Global MAD: 0.1623, Masked MAD: 0.2384 (threshold: 0.05)\n"
     ]
    },
    {
     "name": "stderr",
     "output_type": "stream",
     "text": [
      "Propagating bike-packing:  85%|████████▌ | 58/68 [00:16<00:02,  3.55it/s]"
     ]
    },
    {
     "name": "stdout",
     "output_type": "stream",
     "text": [
      "Skipping frame 57 - Global MAD: 0.1609, Masked MAD: 0.2380 (threshold: 0.05)\n"
     ]
    },
    {
     "name": "stderr",
     "output_type": "stream",
     "text": [
      "Propagating bike-packing:  87%|████████▋ | 59/68 [00:16<00:02,  3.55it/s]"
     ]
    },
    {
     "name": "stdout",
     "output_type": "stream",
     "text": [
      "Skipping frame 58 - Global MAD: 0.1606, Masked MAD: 0.2357 (threshold: 0.05)\n"
     ]
    },
    {
     "name": "stderr",
     "output_type": "stream",
     "text": [
      "Propagating bike-packing:  88%|████████▊ | 60/68 [00:16<00:02,  3.55it/s]"
     ]
    },
    {
     "name": "stdout",
     "output_type": "stream",
     "text": [
      "Skipping frame 59 - Global MAD: 0.1607, Masked MAD: 0.2373 (threshold: 0.05)\n"
     ]
    },
    {
     "name": "stderr",
     "output_type": "stream",
     "text": [
      "Propagating bike-packing:  90%|████████▉ | 61/68 [00:16<00:01,  3.55it/s]"
     ]
    },
    {
     "name": "stdout",
     "output_type": "stream",
     "text": [
      "Skipping frame 60 - Global MAD: 0.1608, Masked MAD: 0.2386 (threshold: 0.05)\n",
      "Avg FPS last 30 frames: 3.54\n"
     ]
    },
    {
     "name": "stderr",
     "output_type": "stream",
     "text": [
      "Propagating bike-packing:  91%|█████████ | 62/68 [00:17<00:01,  3.55it/s]"
     ]
    },
    {
     "name": "stdout",
     "output_type": "stream",
     "text": [
      "Skipping frame 61 - Global MAD: 0.1591, Masked MAD: 0.2329 (threshold: 0.05)\n"
     ]
    },
    {
     "name": "stderr",
     "output_type": "stream",
     "text": [
      "Propagating bike-packing:  93%|█████████▎| 63/68 [00:17<00:01,  3.55it/s]"
     ]
    },
    {
     "name": "stdout",
     "output_type": "stream",
     "text": [
      "Skipping frame 62 - Global MAD: 0.1571, Masked MAD: 0.2290 (threshold: 0.05)\n"
     ]
    },
    {
     "name": "stderr",
     "output_type": "stream",
     "text": [
      "Propagating bike-packing:  94%|█████████▍| 64/68 [00:17<00:01,  3.55it/s]"
     ]
    },
    {
     "name": "stdout",
     "output_type": "stream",
     "text": [
      "Skipping frame 63 - Global MAD: 0.1573, Masked MAD: 0.2291 (threshold: 0.05)\n"
     ]
    },
    {
     "name": "stderr",
     "output_type": "stream",
     "text": [
      "Propagating bike-packing:  96%|█████████▌| 65/68 [00:18<00:00,  3.55it/s]"
     ]
    },
    {
     "name": "stdout",
     "output_type": "stream",
     "text": [
      "Skipping frame 64 - Global MAD: 0.1573, Masked MAD: 0.2265 (threshold: 0.05)\n"
     ]
    },
    {
     "name": "stderr",
     "output_type": "stream",
     "text": [
      "Propagating bike-packing:  97%|█████████▋| 66/68 [00:18<00:00,  3.51it/s]"
     ]
    },
    {
     "name": "stdout",
     "output_type": "stream",
     "text": [
      "Skipping frame 65 - Global MAD: 0.1566, Masked MAD: 0.2262 (threshold: 0.05)\n"
     ]
    },
    {
     "name": "stderr",
     "output_type": "stream",
     "text": [
      "Propagating bike-packing:  99%|█████████▊| 67/68 [00:18<00:00,  3.52it/s]"
     ]
    },
    {
     "name": "stdout",
     "output_type": "stream",
     "text": [
      "Skipping frame 66 - Global MAD: 0.1568, Masked MAD: 0.2271 (threshold: 0.05)\n"
     ]
    },
    {
     "name": "stderr",
     "output_type": "stream",
     "text": [
      "Propagating bike-packing: 100%|██████████| 68/68 [00:18<00:00,  3.53it/s]"
     ]
    },
    {
     "name": "stdout",
     "output_type": "stream",
     "text": [
      "Skipping frame 67 - Global MAD: 0.1575, Masked MAD: 0.2276 (threshold: 0.05)\n"
     ]
    },
    {
     "name": "stderr",
     "output_type": "stream",
     "text": [
      "propagate in video: 100%|██████████| 69/69 [00:19<00:00,  3.59it/s]      \n",
      "Propagating bike-packing: 69it [00:19,  3.59it/s]\n"
     ]
    },
    {
     "name": "stdout",
     "output_type": "stream",
     "text": [
      "Skipping frame 68 - Global MAD: 0.1581, Masked MAD: 0.2277 (threshold: 0.05)\n",
      "Skipped 68 frames due to low MAD.\n",
      "→ Saved all predicted masks for bike-packing in data/DAVIS2017_mgfs_naive/bike-packing\n",
      "\n",
      "=== Processing sequence: blackswan ===\n"
     ]
    },
    {
     "name": "stderr",
     "output_type": "stream",
     "text": [
      "frame loading (JPEG): 100%|██████████| 50/50 [00:00<00:00, 50.14it/s]\n"
     ]
    },
    {
     "name": "stdout",
     "output_type": "stream",
     "text": [
      "Found 1 unique non‐black colors in blackswan/00000.png\n"
     ]
    },
    {
     "name": "stderr",
     "output_type": "stream",
     "text": [
      "Propagating blackswan:   4%|▍         | 2/49 [00:00<00:06,  7.06it/s]"
     ]
    },
    {
     "name": "stdout",
     "output_type": "stream",
     "text": [
      "Skipping frame 1 - Global MAD: 0.0648, Masked MAD: 0.0599 (threshold: 0.05)\n"
     ]
    },
    {
     "name": "stderr",
     "output_type": "stream",
     "text": [
      "Propagating blackswan:   6%|▌         | 3/49 [00:00<00:08,  5.17it/s]"
     ]
    },
    {
     "name": "stdout",
     "output_type": "stream",
     "text": [
      "Skipping frame 2 - Global MAD: 0.0789, Masked MAD: 0.0833 (threshold: 0.05)\n"
     ]
    },
    {
     "name": "stderr",
     "output_type": "stream",
     "text": [
      "Propagating blackswan:   8%|▊         | 4/49 [00:00<00:09,  4.50it/s]"
     ]
    },
    {
     "name": "stdout",
     "output_type": "stream",
     "text": [
      "Skipping frame 3 - Global MAD: 0.0869, Masked MAD: 0.0986 (threshold: 0.05)\n"
     ]
    },
    {
     "name": "stderr",
     "output_type": "stream",
     "text": [
      "Propagating blackswan:  10%|█         | 5/49 [00:01<00:10,  4.19it/s]"
     ]
    },
    {
     "name": "stdout",
     "output_type": "stream",
     "text": [
      "Skipping frame 4 - Global MAD: 0.0932, Masked MAD: 0.1100 (threshold: 0.05)\n"
     ]
    },
    {
     "name": "stderr",
     "output_type": "stream",
     "text": [
      "Propagating blackswan:  12%|█▏        | 6/49 [00:01<00:10,  4.04it/s]"
     ]
    },
    {
     "name": "stdout",
     "output_type": "stream",
     "text": [
      "Skipping frame 5 - Global MAD: 0.0984, Masked MAD: 0.1196 (threshold: 0.05)\n"
     ]
    },
    {
     "name": "stderr",
     "output_type": "stream",
     "text": [
      "Propagating blackswan:  14%|█▍        | 7/49 [00:01<00:10,  3.94it/s]"
     ]
    },
    {
     "name": "stdout",
     "output_type": "stream",
     "text": [
      "Skipping frame 6 - Global MAD: 0.1027, Masked MAD: 0.1279 (threshold: 0.05)\n"
     ]
    },
    {
     "name": "stderr",
     "output_type": "stream",
     "text": [
      "Propagating blackswan:  16%|█▋        | 8/49 [00:01<00:10,  3.86it/s]"
     ]
    },
    {
     "name": "stdout",
     "output_type": "stream",
     "text": [
      "Skipping frame 7 - Global MAD: 0.1055, Masked MAD: 0.1325 (threshold: 0.05)\n"
     ]
    },
    {
     "name": "stderr",
     "output_type": "stream",
     "text": [
      "Propagating blackswan:  18%|█▊        | 9/49 [00:02<00:10,  3.81it/s]"
     ]
    },
    {
     "name": "stdout",
     "output_type": "stream",
     "text": [
      "Skipping frame 8 - Global MAD: 0.1073, Masked MAD: 0.1341 (threshold: 0.05)\n"
     ]
    },
    {
     "name": "stderr",
     "output_type": "stream",
     "text": [
      "Propagating blackswan:  20%|██        | 10/49 [00:02<00:10,  3.79it/s]"
     ]
    },
    {
     "name": "stdout",
     "output_type": "stream",
     "text": [
      "Skipping frame 9 - Global MAD: 0.1079, Masked MAD: 0.1363 (threshold: 0.05)\n"
     ]
    },
    {
     "name": "stderr",
     "output_type": "stream",
     "text": [
      "Propagating blackswan:  22%|██▏       | 11/49 [00:02<00:10,  3.75it/s]"
     ]
    },
    {
     "name": "stdout",
     "output_type": "stream",
     "text": [
      "Skipping frame 10 - Global MAD: 0.1081, Masked MAD: 0.1378 (threshold: 0.05)\n"
     ]
    },
    {
     "name": "stderr",
     "output_type": "stream",
     "text": [
      "Propagating blackswan:  24%|██▍       | 12/49 [00:02<00:09,  3.74it/s]"
     ]
    },
    {
     "name": "stdout",
     "output_type": "stream",
     "text": [
      "Skipping frame 11 - Global MAD: 0.1073, Masked MAD: 0.1397 (threshold: 0.05)\n"
     ]
    },
    {
     "name": "stderr",
     "output_type": "stream",
     "text": [
      "Propagating blackswan:  27%|██▋       | 13/49 [00:03<00:09,  3.73it/s]"
     ]
    },
    {
     "name": "stdout",
     "output_type": "stream",
     "text": [
      "Skipping frame 12 - Global MAD: 0.1068, Masked MAD: 0.1423 (threshold: 0.05)\n"
     ]
    },
    {
     "name": "stderr",
     "output_type": "stream",
     "text": [
      "Propagating blackswan:  29%|██▊       | 14/49 [00:03<00:09,  3.72it/s]"
     ]
    },
    {
     "name": "stdout",
     "output_type": "stream",
     "text": [
      "Skipping frame 13 - Global MAD: 0.1070, Masked MAD: 0.1444 (threshold: 0.05)\n"
     ]
    },
    {
     "name": "stderr",
     "output_type": "stream",
     "text": [
      "Propagating blackswan:  31%|███       | 15/49 [00:03<00:09,  3.71it/s]"
     ]
    },
    {
     "name": "stdout",
     "output_type": "stream",
     "text": [
      "Skipping frame 14 - Global MAD: 0.1101, Masked MAD: 0.1490 (threshold: 0.05)\n"
     ]
    },
    {
     "name": "stderr",
     "output_type": "stream",
     "text": [
      "Propagating blackswan:  33%|███▎      | 16/49 [00:04<00:08,  3.72it/s]"
     ]
    },
    {
     "name": "stdout",
     "output_type": "stream",
     "text": [
      "Skipping frame 15 - Global MAD: 0.1151, Masked MAD: 0.1542 (threshold: 0.05)\n"
     ]
    },
    {
     "name": "stderr",
     "output_type": "stream",
     "text": [
      "Propagating blackswan:  35%|███▍      | 17/49 [00:04<00:08,  3.72it/s]"
     ]
    },
    {
     "name": "stdout",
     "output_type": "stream",
     "text": [
      "Skipping frame 16 - Global MAD: 0.1222, Masked MAD: 0.1594 (threshold: 0.05)\n"
     ]
    },
    {
     "name": "stderr",
     "output_type": "stream",
     "text": [
      "Propagating blackswan:  37%|███▋      | 18/49 [00:04<00:08,  3.71it/s]"
     ]
    },
    {
     "name": "stdout",
     "output_type": "stream",
     "text": [
      "Skipping frame 17 - Global MAD: 0.1307, Masked MAD: 0.1632 (threshold: 0.05)\n"
     ]
    },
    {
     "name": "stderr",
     "output_type": "stream",
     "text": [
      "Propagating blackswan:  39%|███▉      | 19/49 [00:04<00:08,  3.72it/s]"
     ]
    },
    {
     "name": "stdout",
     "output_type": "stream",
     "text": [
      "Skipping frame 18 - Global MAD: 0.1359, Masked MAD: 0.1638 (threshold: 0.05)\n"
     ]
    },
    {
     "name": "stderr",
     "output_type": "stream",
     "text": [
      "Propagating blackswan:  41%|████      | 20/49 [00:05<00:07,  3.71it/s]"
     ]
    },
    {
     "name": "stdout",
     "output_type": "stream",
     "text": [
      "Skipping frame 19 - Global MAD: 0.1388, Masked MAD: 0.1640 (threshold: 0.05)\n"
     ]
    },
    {
     "name": "stderr",
     "output_type": "stream",
     "text": [
      "Propagating blackswan:  43%|████▎     | 21/49 [00:05<00:07,  3.73it/s]"
     ]
    },
    {
     "name": "stdout",
     "output_type": "stream",
     "text": [
      "Skipping frame 20 - Global MAD: 0.1405, Masked MAD: 0.1631 (threshold: 0.05)\n"
     ]
    },
    {
     "name": "stderr",
     "output_type": "stream",
     "text": [
      "Propagating blackswan:  45%|████▍     | 22/49 [00:05<00:07,  3.73it/s]"
     ]
    },
    {
     "name": "stdout",
     "output_type": "stream",
     "text": [
      "Skipping frame 21 - Global MAD: 0.1418, Masked MAD: 0.1641 (threshold: 0.05)\n"
     ]
    },
    {
     "name": "stderr",
     "output_type": "stream",
     "text": [
      "Propagating blackswan:  47%|████▋     | 23/49 [00:05<00:07,  3.71it/s]"
     ]
    },
    {
     "name": "stdout",
     "output_type": "stream",
     "text": [
      "Skipping frame 22 - Global MAD: 0.1415, Masked MAD: 0.1617 (threshold: 0.05)\n"
     ]
    },
    {
     "name": "stderr",
     "output_type": "stream",
     "text": [
      "Propagating blackswan:  49%|████▉     | 24/49 [00:06<00:06,  3.69it/s]"
     ]
    },
    {
     "name": "stdout",
     "output_type": "stream",
     "text": [
      "Skipping frame 23 - Global MAD: 0.1419, Masked MAD: 0.1588 (threshold: 0.05)\n"
     ]
    },
    {
     "name": "stderr",
     "output_type": "stream",
     "text": [
      "Propagating blackswan:  51%|█████     | 25/49 [00:06<00:06,  3.70it/s]"
     ]
    },
    {
     "name": "stdout",
     "output_type": "stream",
     "text": [
      "Skipping frame 24 - Global MAD: 0.1413, Masked MAD: 0.1562 (threshold: 0.05)\n"
     ]
    },
    {
     "name": "stderr",
     "output_type": "stream",
     "text": [
      "Propagating blackswan:  53%|█████▎    | 26/49 [00:06<00:06,  3.70it/s]"
     ]
    },
    {
     "name": "stdout",
     "output_type": "stream",
     "text": [
      "Skipping frame 25 - Global MAD: 0.1407, Masked MAD: 0.1529 (threshold: 0.05)\n"
     ]
    },
    {
     "name": "stderr",
     "output_type": "stream",
     "text": [
      "Propagating blackswan:  55%|█████▌    | 27/49 [00:07<00:05,  3.71it/s]"
     ]
    },
    {
     "name": "stdout",
     "output_type": "stream",
     "text": [
      "Skipping frame 26 - Global MAD: 0.1402, Masked MAD: 0.1507 (threshold: 0.05)\n"
     ]
    },
    {
     "name": "stderr",
     "output_type": "stream",
     "text": [
      "Propagating blackswan:  57%|█████▋    | 28/49 [00:07<00:05,  3.72it/s]"
     ]
    },
    {
     "name": "stdout",
     "output_type": "stream",
     "text": [
      "Skipping frame 27 - Global MAD: 0.1397, Masked MAD: 0.1485 (threshold: 0.05)\n"
     ]
    },
    {
     "name": "stderr",
     "output_type": "stream",
     "text": [
      "Propagating blackswan:  59%|█████▉    | 29/49 [00:07<00:05,  3.72it/s]"
     ]
    },
    {
     "name": "stdout",
     "output_type": "stream",
     "text": [
      "Skipping frame 28 - Global MAD: 0.1388, Masked MAD: 0.1488 (threshold: 0.05)\n"
     ]
    },
    {
     "name": "stderr",
     "output_type": "stream",
     "text": [
      "Propagating blackswan:  61%|██████    | 30/49 [00:07<00:05,  3.71it/s]"
     ]
    },
    {
     "name": "stdout",
     "output_type": "stream",
     "text": [
      "Skipping frame 29 - Global MAD: 0.1386, Masked MAD: 0.1493 (threshold: 0.05)\n"
     ]
    },
    {
     "name": "stderr",
     "output_type": "stream",
     "text": [
      "Propagating blackswan:  63%|██████▎   | 31/49 [00:08<00:04,  3.72it/s]"
     ]
    },
    {
     "name": "stdout",
     "output_type": "stream",
     "text": [
      "Skipping frame 30 - Global MAD: 0.1377, Masked MAD: 0.1480 (threshold: 0.05)\n",
      "Avg FPS last 30 frames: 3.71\n"
     ]
    },
    {
     "name": "stderr",
     "output_type": "stream",
     "text": [
      "Propagating blackswan:  65%|██████▌   | 32/49 [00:08<00:04,  3.71it/s]"
     ]
    },
    {
     "name": "stdout",
     "output_type": "stream",
     "text": [
      "Skipping frame 31 - Global MAD: 0.1370, Masked MAD: 0.1475 (threshold: 0.05)\n"
     ]
    },
    {
     "name": "stderr",
     "output_type": "stream",
     "text": [
      "Propagating blackswan:  67%|██████▋   | 33/49 [00:08<00:04,  3.70it/s]"
     ]
    },
    {
     "name": "stdout",
     "output_type": "stream",
     "text": [
      "Skipping frame 32 - Global MAD: 0.1366, Masked MAD: 0.1464 (threshold: 0.05)\n"
     ]
    },
    {
     "name": "stderr",
     "output_type": "stream",
     "text": [
      "Propagating blackswan:  69%|██████▉   | 34/49 [00:08<00:04,  3.71it/s]"
     ]
    },
    {
     "name": "stdout",
     "output_type": "stream",
     "text": [
      "Skipping frame 33 - Global MAD: 0.1365, Masked MAD: 0.1456 (threshold: 0.05)\n"
     ]
    },
    {
     "name": "stderr",
     "output_type": "stream",
     "text": [
      "Propagating blackswan:  71%|███████▏  | 35/49 [00:09<00:03,  3.70it/s]"
     ]
    },
    {
     "name": "stdout",
     "output_type": "stream",
     "text": [
      "Skipping frame 34 - Global MAD: 0.1362, Masked MAD: 0.1453 (threshold: 0.05)\n"
     ]
    },
    {
     "name": "stderr",
     "output_type": "stream",
     "text": [
      "Propagating blackswan:  73%|███████▎  | 36/49 [00:09<00:03,  3.71it/s]"
     ]
    },
    {
     "name": "stdout",
     "output_type": "stream",
     "text": [
      "Skipping frame 35 - Global MAD: 0.1364, Masked MAD: 0.1455 (threshold: 0.05)\n"
     ]
    },
    {
     "name": "stderr",
     "output_type": "stream",
     "text": [
      "Propagating blackswan:  76%|███████▌  | 37/49 [00:09<00:03,  3.71it/s]"
     ]
    },
    {
     "name": "stdout",
     "output_type": "stream",
     "text": [
      "Skipping frame 36 - Global MAD: 0.1364, Masked MAD: 0.1447 (threshold: 0.05)\n"
     ]
    },
    {
     "name": "stderr",
     "output_type": "stream",
     "text": [
      "Propagating blackswan:  78%|███████▊  | 38/49 [00:09<00:02,  3.70it/s]"
     ]
    },
    {
     "name": "stdout",
     "output_type": "stream",
     "text": [
      "Skipping frame 37 - Global MAD: 0.1365, Masked MAD: 0.1467 (threshold: 0.05)\n"
     ]
    },
    {
     "name": "stderr",
     "output_type": "stream",
     "text": [
      "Propagating blackswan:  80%|███████▉  | 39/49 [00:10<00:02,  3.70it/s]"
     ]
    },
    {
     "name": "stdout",
     "output_type": "stream",
     "text": [
      "Skipping frame 38 - Global MAD: 0.1363, Masked MAD: 0.1481 (threshold: 0.05)\n"
     ]
    },
    {
     "name": "stderr",
     "output_type": "stream",
     "text": [
      "Propagating blackswan:  82%|████████▏ | 40/49 [00:10<00:02,  3.71it/s]"
     ]
    },
    {
     "name": "stdout",
     "output_type": "stream",
     "text": [
      "Skipping frame 39 - Global MAD: 0.1359, Masked MAD: 0.1493 (threshold: 0.05)\n"
     ]
    },
    {
     "name": "stderr",
     "output_type": "stream",
     "text": [
      "Propagating blackswan:  84%|████████▎ | 41/49 [00:10<00:02,  3.70it/s]"
     ]
    },
    {
     "name": "stdout",
     "output_type": "stream",
     "text": [
      "Skipping frame 40 - Global MAD: 0.1355, Masked MAD: 0.1493 (threshold: 0.05)\n"
     ]
    },
    {
     "name": "stderr",
     "output_type": "stream",
     "text": [
      "Propagating blackswan:  86%|████████▌ | 42/49 [00:11<00:01,  3.71it/s]"
     ]
    },
    {
     "name": "stdout",
     "output_type": "stream",
     "text": [
      "Skipping frame 41 - Global MAD: 0.1350, Masked MAD: 0.1495 (threshold: 0.05)\n"
     ]
    },
    {
     "name": "stderr",
     "output_type": "stream",
     "text": [
      "Propagating blackswan:  88%|████████▊ | 43/49 [00:11<00:01,  3.72it/s]"
     ]
    },
    {
     "name": "stdout",
     "output_type": "stream",
     "text": [
      "Skipping frame 42 - Global MAD: 0.1343, Masked MAD: 0.1497 (threshold: 0.05)\n"
     ]
    },
    {
     "name": "stderr",
     "output_type": "stream",
     "text": [
      "Propagating blackswan:  90%|████████▉ | 44/49 [00:11<00:01,  3.71it/s]"
     ]
    },
    {
     "name": "stdout",
     "output_type": "stream",
     "text": [
      "Skipping frame 43 - Global MAD: 0.1341, Masked MAD: 0.1488 (threshold: 0.05)\n"
     ]
    },
    {
     "name": "stderr",
     "output_type": "stream",
     "text": [
      "Propagating blackswan:  92%|█████████▏| 45/49 [00:11<00:01,  3.71it/s]"
     ]
    },
    {
     "name": "stdout",
     "output_type": "stream",
     "text": [
      "Skipping frame 44 - Global MAD: 0.1338, Masked MAD: 0.1472 (threshold: 0.05)\n"
     ]
    },
    {
     "name": "stderr",
     "output_type": "stream",
     "text": [
      "Propagating blackswan:  94%|█████████▍| 46/49 [00:12<00:00,  3.71it/s]"
     ]
    },
    {
     "name": "stdout",
     "output_type": "stream",
     "text": [
      "Skipping frame 45 - Global MAD: 0.1330, Masked MAD: 0.1452 (threshold: 0.05)\n"
     ]
    },
    {
     "name": "stderr",
     "output_type": "stream",
     "text": [
      "Propagating blackswan:  96%|█████████▌| 47/49 [00:12<00:00,  3.71it/s]"
     ]
    },
    {
     "name": "stdout",
     "output_type": "stream",
     "text": [
      "Skipping frame 46 - Global MAD: 0.1323, Masked MAD: 0.1446 (threshold: 0.05)\n"
     ]
    },
    {
     "name": "stderr",
     "output_type": "stream",
     "text": [
      "Propagating blackswan:  98%|█████████▊| 48/49 [00:12<00:00,  3.70it/s]"
     ]
    },
    {
     "name": "stdout",
     "output_type": "stream",
     "text": [
      "Skipping frame 47 - Global MAD: 0.1315, Masked MAD: 0.1446 (threshold: 0.05)\n"
     ]
    },
    {
     "name": "stderr",
     "output_type": "stream",
     "text": [
      "Propagating blackswan: 100%|██████████| 49/49 [00:12<00:00,  3.71it/s]"
     ]
    },
    {
     "name": "stdout",
     "output_type": "stream",
     "text": [
      "Skipping frame 48 - Global MAD: 0.1306, Masked MAD: 0.1415 (threshold: 0.05)\n"
     ]
    },
    {
     "name": "stderr",
     "output_type": "stream",
     "text": [
      "propagate in video: 100%|██████████| 50/50 [00:13<00:00,  3.78it/s]   \n",
      "Propagating blackswan: 50it [00:13,  3.78it/s]\n"
     ]
    },
    {
     "name": "stdout",
     "output_type": "stream",
     "text": [
      "Skipping frame 49 - Global MAD: 0.1297, Masked MAD: 0.1377 (threshold: 0.05)\n",
      "Skipped 49 frames due to low MAD.\n",
      "→ Saved all predicted masks for blackswan in data/DAVIS2017_mgfs_naive/blackswan\n",
      "\n",
      "=== Processing sequence: bmx-trees ===\n"
     ]
    },
    {
     "name": "stderr",
     "output_type": "stream",
     "text": [
      "frame loading (JPEG): 100%|██████████| 80/80 [00:01<00:00, 49.71it/s]\n"
     ]
    },
    {
     "name": "stdout",
     "output_type": "stream",
     "text": [
      "Found 2 unique non‐black colors in bmx-trees/00000.png\n"
     ]
    },
    {
     "name": "stderr",
     "output_type": "stream",
     "text": [
      "Propagating bmx-trees:   3%|▎         | 2/79 [00:00<00:11,  6.84it/s]"
     ]
    },
    {
     "name": "stdout",
     "output_type": "stream",
     "text": [
      "Skipping frame 1 - Global MAD: 0.0890, Masked MAD: 0.1414 (threshold: 0.05)\n"
     ]
    },
    {
     "name": "stderr",
     "output_type": "stream",
     "text": [
      "Propagating bmx-trees:   4%|▍         | 3/79 [00:00<00:15,  4.99it/s]"
     ]
    },
    {
     "name": "stdout",
     "output_type": "stream",
     "text": [
      "Skipping frame 2 - Global MAD: 0.1141, Masked MAD: 0.1902 (threshold: 0.05)\n"
     ]
    },
    {
     "name": "stderr",
     "output_type": "stream",
     "text": [
      "Propagating bmx-trees:   5%|▌         | 4/79 [00:00<00:17,  4.34it/s]"
     ]
    },
    {
     "name": "stdout",
     "output_type": "stream",
     "text": [
      "Skipping frame 3 - Global MAD: 0.1240, Masked MAD: 0.2017 (threshold: 0.05)\n"
     ]
    },
    {
     "name": "stderr",
     "output_type": "stream",
     "text": [
      "Propagating bmx-trees:   6%|▋         | 5/79 [00:01<00:18,  4.07it/s]"
     ]
    },
    {
     "name": "stdout",
     "output_type": "stream",
     "text": [
      "Skipping frame 4 - Global MAD: 0.1256, Masked MAD: 0.1915 (threshold: 0.05)\n"
     ]
    },
    {
     "name": "stderr",
     "output_type": "stream",
     "text": [
      "Propagating bmx-trees:   8%|▊         | 6/79 [00:01<00:18,  3.89it/s]"
     ]
    },
    {
     "name": "stdout",
     "output_type": "stream",
     "text": [
      "Skipping frame 5 - Global MAD: 0.1410, Masked MAD: 0.2085 (threshold: 0.05)\n"
     ]
    },
    {
     "name": "stderr",
     "output_type": "stream",
     "text": [
      "Propagating bmx-trees:   9%|▉         | 7/79 [00:01<00:18,  3.81it/s]"
     ]
    },
    {
     "name": "stdout",
     "output_type": "stream",
     "text": [
      "Skipping frame 6 - Global MAD: 0.1496, Masked MAD: 0.2207 (threshold: 0.05)\n"
     ]
    },
    {
     "name": "stderr",
     "output_type": "stream",
     "text": [
      "Propagating bmx-trees:  10%|█         | 8/79 [00:01<00:18,  3.74it/s]"
     ]
    },
    {
     "name": "stdout",
     "output_type": "stream",
     "text": [
      "Skipping frame 7 - Global MAD: 0.1560, Masked MAD: 0.2180 (threshold: 0.05)\n"
     ]
    },
    {
     "name": "stderr",
     "output_type": "stream",
     "text": [
      "Propagating bmx-trees:  11%|█▏        | 9/79 [00:02<00:18,  3.71it/s]"
     ]
    },
    {
     "name": "stdout",
     "output_type": "stream",
     "text": [
      "Skipping frame 8 - Global MAD: 0.1621, Masked MAD: 0.2205 (threshold: 0.05)\n"
     ]
    },
    {
     "name": "stderr",
     "output_type": "stream",
     "text": [
      "Propagating bmx-trees:  13%|█▎        | 10/79 [00:02<00:18,  3.68it/s]"
     ]
    },
    {
     "name": "stdout",
     "output_type": "stream",
     "text": [
      "Skipping frame 9 - Global MAD: 0.1668, Masked MAD: 0.2314 (threshold: 0.05)\n"
     ]
    },
    {
     "name": "stderr",
     "output_type": "stream",
     "text": [
      "Propagating bmx-trees:  14%|█▍        | 11/79 [00:02<00:18,  3.67it/s]"
     ]
    },
    {
     "name": "stdout",
     "output_type": "stream",
     "text": [
      "Skipping frame 10 - Global MAD: 0.1755, Masked MAD: 0.2529 (threshold: 0.05)\n"
     ]
    },
    {
     "name": "stderr",
     "output_type": "stream",
     "text": [
      "Propagating bmx-trees:  15%|█▌        | 12/79 [00:03<00:18,  3.65it/s]"
     ]
    },
    {
     "name": "stdout",
     "output_type": "stream",
     "text": [
      "Skipping frame 11 - Global MAD: 0.1722, Masked MAD: 0.2429 (threshold: 0.05)\n"
     ]
    },
    {
     "name": "stderr",
     "output_type": "stream",
     "text": [
      "Propagating bmx-trees:  16%|█▋        | 13/79 [00:03<00:18,  3.64it/s]"
     ]
    },
    {
     "name": "stdout",
     "output_type": "stream",
     "text": [
      "Skipping frame 12 - Global MAD: 0.1703, Masked MAD: 0.2407 (threshold: 0.05)\n"
     ]
    },
    {
     "name": "stderr",
     "output_type": "stream",
     "text": [
      "Propagating bmx-trees:  18%|█▊        | 14/79 [00:03<00:17,  3.63it/s]"
     ]
    },
    {
     "name": "stdout",
     "output_type": "stream",
     "text": [
      "Skipping frame 13 - Global MAD: 0.1745, Masked MAD: 0.2442 (threshold: 0.05)\n"
     ]
    },
    {
     "name": "stderr",
     "output_type": "stream",
     "text": [
      "Propagating bmx-trees:  19%|█▉        | 15/79 [00:03<00:17,  3.63it/s]"
     ]
    },
    {
     "name": "stdout",
     "output_type": "stream",
     "text": [
      "Skipping frame 14 - Global MAD: 0.1763, Masked MAD: 0.2308 (threshold: 0.05)\n"
     ]
    },
    {
     "name": "stderr",
     "output_type": "stream",
     "text": [
      "Propagating bmx-trees:  20%|██        | 16/79 [00:04<00:17,  3.62it/s]"
     ]
    },
    {
     "name": "stdout",
     "output_type": "stream",
     "text": [
      "Skipping frame 15 - Global MAD: 0.1743, Masked MAD: 0.2488 (threshold: 0.05)\n"
     ]
    },
    {
     "name": "stderr",
     "output_type": "stream",
     "text": [
      "Propagating bmx-trees:  22%|██▏       | 17/79 [00:04<00:17,  3.62it/s]"
     ]
    },
    {
     "name": "stdout",
     "output_type": "stream",
     "text": [
      "Skipping frame 16 - Global MAD: 0.1718, Masked MAD: 0.2684 (threshold: 0.05)\n"
     ]
    },
    {
     "name": "stderr",
     "output_type": "stream",
     "text": [
      "Propagating bmx-trees:  23%|██▎       | 18/79 [00:04<00:16,  3.61it/s]"
     ]
    },
    {
     "name": "stdout",
     "output_type": "stream",
     "text": [
      "Skipping frame 17 - Global MAD: 0.1740, Masked MAD: 0.2538 (threshold: 0.05)\n"
     ]
    },
    {
     "name": "stderr",
     "output_type": "stream",
     "text": [
      "Propagating bmx-trees:  24%|██▍       | 19/79 [00:04<00:16,  3.62it/s]"
     ]
    },
    {
     "name": "stdout",
     "output_type": "stream",
     "text": [
      "Skipping frame 18 - Global MAD: 0.1805, Masked MAD: 0.2518 (threshold: 0.05)\n"
     ]
    },
    {
     "name": "stderr",
     "output_type": "stream",
     "text": [
      "Propagating bmx-trees:  25%|██▌       | 20/79 [00:05<00:16,  3.62it/s]"
     ]
    },
    {
     "name": "stdout",
     "output_type": "stream",
     "text": [
      "Skipping frame 19 - Global MAD: 0.1896, Masked MAD: 0.2774 (threshold: 0.05)\n"
     ]
    },
    {
     "name": "stderr",
     "output_type": "stream",
     "text": [
      "Propagating bmx-trees:  27%|██▋       | 21/79 [00:05<00:15,  3.63it/s]"
     ]
    },
    {
     "name": "stdout",
     "output_type": "stream",
     "text": [
      "Skipping frame 20 - Global MAD: 0.1943, Masked MAD: 0.2719 (threshold: 0.05)\n"
     ]
    },
    {
     "name": "stderr",
     "output_type": "stream",
     "text": [
      "Propagating bmx-trees:  28%|██▊       | 22/79 [00:05<00:15,  3.63it/s]"
     ]
    },
    {
     "name": "stdout",
     "output_type": "stream",
     "text": [
      "Skipping frame 21 - Global MAD: 0.1996, Masked MAD: 0.2802 (threshold: 0.05)\n"
     ]
    },
    {
     "name": "stderr",
     "output_type": "stream",
     "text": [
      "Propagating bmx-trees:  29%|██▉       | 23/79 [00:06<00:15,  3.63it/s]"
     ]
    },
    {
     "name": "stdout",
     "output_type": "stream",
     "text": [
      "Skipping frame 22 - Global MAD: 0.2025, Masked MAD: 0.2860 (threshold: 0.05)\n"
     ]
    },
    {
     "name": "stderr",
     "output_type": "stream",
     "text": [
      "Propagating bmx-trees:  30%|███       | 24/79 [00:06<00:15,  3.61it/s]"
     ]
    },
    {
     "name": "stdout",
     "output_type": "stream",
     "text": [
      "Skipping frame 23 - Global MAD: 0.2037, Masked MAD: 0.2710 (threshold: 0.05)\n"
     ]
    },
    {
     "name": "stderr",
     "output_type": "stream",
     "text": [
      "Propagating bmx-trees:  32%|███▏      | 25/79 [00:06<00:14,  3.61it/s]"
     ]
    },
    {
     "name": "stdout",
     "output_type": "stream",
     "text": [
      "Skipping frame 24 - Global MAD: 0.2036, Masked MAD: 0.2522 (threshold: 0.05)\n"
     ]
    },
    {
     "name": "stderr",
     "output_type": "stream",
     "text": [
      "Propagating bmx-trees:  33%|███▎      | 26/79 [00:06<00:14,  3.60it/s]"
     ]
    },
    {
     "name": "stdout",
     "output_type": "stream",
     "text": [
      "Skipping frame 25 - Global MAD: 0.2052, Masked MAD: 0.2445 (threshold: 0.05)\n"
     ]
    },
    {
     "name": "stderr",
     "output_type": "stream",
     "text": [
      "Propagating bmx-trees:  34%|███▍      | 27/79 [00:07<00:14,  3.62it/s]"
     ]
    },
    {
     "name": "stdout",
     "output_type": "stream",
     "text": [
      "Skipping frame 26 - Global MAD: 0.2064, Masked MAD: 0.2344 (threshold: 0.05)\n"
     ]
    },
    {
     "name": "stderr",
     "output_type": "stream",
     "text": [
      "Propagating bmx-trees:  35%|███▌      | 28/79 [00:07<00:14,  3.62it/s]"
     ]
    },
    {
     "name": "stdout",
     "output_type": "stream",
     "text": [
      "Skipping frame 27 - Global MAD: 0.2110, Masked MAD: 0.2366 (threshold: 0.05)\n"
     ]
    },
    {
     "name": "stderr",
     "output_type": "stream",
     "text": [
      "Propagating bmx-trees:  37%|███▋      | 29/79 [00:07<00:13,  3.62it/s]"
     ]
    },
    {
     "name": "stdout",
     "output_type": "stream",
     "text": [
      "Skipping frame 28 - Global MAD: 0.2127, Masked MAD: 0.2452 (threshold: 0.05)\n"
     ]
    },
    {
     "name": "stderr",
     "output_type": "stream",
     "text": [
      "Propagating bmx-trees:  38%|███▊      | 30/79 [00:08<00:13,  3.61it/s]"
     ]
    },
    {
     "name": "stdout",
     "output_type": "stream",
     "text": [
      "Skipping frame 29 - Global MAD: 0.2152, Masked MAD: 0.2571 (threshold: 0.05)\n"
     ]
    },
    {
     "name": "stderr",
     "output_type": "stream",
     "text": [
      "Propagating bmx-trees:  39%|███▉      | 31/79 [00:08<00:13,  3.62it/s]"
     ]
    },
    {
     "name": "stdout",
     "output_type": "stream",
     "text": [
      "Skipping frame 30 - Global MAD: 0.2185, Masked MAD: 0.2671 (threshold: 0.05)\n",
      "Avg FPS last 30 frames: 3.62\n"
     ]
    },
    {
     "name": "stderr",
     "output_type": "stream",
     "text": [
      "Propagating bmx-trees:  41%|████      | 32/79 [00:08<00:13,  3.61it/s]"
     ]
    },
    {
     "name": "stdout",
     "output_type": "stream",
     "text": [
      "Skipping frame 31 - Global MAD: 0.2177, Masked MAD: 0.2555 (threshold: 0.05)\n"
     ]
    },
    {
     "name": "stderr",
     "output_type": "stream",
     "text": [
      "Propagating bmx-trees:  42%|████▏     | 33/79 [00:08<00:12,  3.62it/s]"
     ]
    },
    {
     "name": "stdout",
     "output_type": "stream",
     "text": [
      "Skipping frame 32 - Global MAD: 0.2185, Masked MAD: 0.2345 (threshold: 0.05)\n"
     ]
    },
    {
     "name": "stderr",
     "output_type": "stream",
     "text": [
      "Propagating bmx-trees:  43%|████▎     | 34/79 [00:09<00:12,  3.61it/s]"
     ]
    },
    {
     "name": "stdout",
     "output_type": "stream",
     "text": [
      "Skipping frame 33 - Global MAD: 0.2225, Masked MAD: 0.2415 (threshold: 0.05)\n"
     ]
    },
    {
     "name": "stderr",
     "output_type": "stream",
     "text": [
      "Propagating bmx-trees:  44%|████▍     | 35/79 [00:09<00:12,  3.63it/s]"
     ]
    },
    {
     "name": "stdout",
     "output_type": "stream",
     "text": [
      "Skipping frame 34 - Global MAD: 0.2336, Masked MAD: 0.2776 (threshold: 0.05)\n"
     ]
    },
    {
     "name": "stderr",
     "output_type": "stream",
     "text": [
      "Propagating bmx-trees:  46%|████▌     | 36/79 [00:09<00:11,  3.62it/s]"
     ]
    },
    {
     "name": "stdout",
     "output_type": "stream",
     "text": [
      "Skipping frame 35 - Global MAD: 0.2397, Masked MAD: 0.2919 (threshold: 0.05)\n"
     ]
    },
    {
     "name": "stderr",
     "output_type": "stream",
     "text": [
      "Propagating bmx-trees:  47%|████▋     | 37/79 [00:09<00:11,  3.62it/s]"
     ]
    },
    {
     "name": "stdout",
     "output_type": "stream",
     "text": [
      "Skipping frame 36 - Global MAD: 0.2403, Masked MAD: 0.2930 (threshold: 0.05)\n"
     ]
    },
    {
     "name": "stderr",
     "output_type": "stream",
     "text": [
      "Propagating bmx-trees:  48%|████▊     | 38/79 [00:10<00:11,  3.61it/s]"
     ]
    },
    {
     "name": "stdout",
     "output_type": "stream",
     "text": [
      "Skipping frame 37 - Global MAD: 0.2474, Masked MAD: 0.3125 (threshold: 0.05)\n"
     ]
    },
    {
     "name": "stderr",
     "output_type": "stream",
     "text": [
      "Propagating bmx-trees:  49%|████▉     | 39/79 [00:10<00:11,  3.61it/s]"
     ]
    },
    {
     "name": "stdout",
     "output_type": "stream",
     "text": [
      "Skipping frame 38 - Global MAD: 0.2494, Masked MAD: 0.3160 (threshold: 0.05)\n"
     ]
    },
    {
     "name": "stderr",
     "output_type": "stream",
     "text": [
      "Propagating bmx-trees:  51%|█████     | 40/79 [00:10<00:10,  3.60it/s]"
     ]
    },
    {
     "name": "stdout",
     "output_type": "stream",
     "text": [
      "Skipping frame 39 - Global MAD: 0.2533, Masked MAD: 0.3200 (threshold: 0.05)\n"
     ]
    },
    {
     "name": "stderr",
     "output_type": "stream",
     "text": [
      "Propagating bmx-trees:  52%|█████▏    | 41/79 [00:11<00:10,  3.61it/s]"
     ]
    },
    {
     "name": "stdout",
     "output_type": "stream",
     "text": [
      "Skipping frame 40 - Global MAD: 0.2557, Masked MAD: 0.3202 (threshold: 0.05)\n"
     ]
    },
    {
     "name": "stderr",
     "output_type": "stream",
     "text": [
      "Propagating bmx-trees:  53%|█████▎    | 42/79 [00:11<00:10,  3.60it/s]"
     ]
    },
    {
     "name": "stdout",
     "output_type": "stream",
     "text": [
      "Skipping frame 41 - Global MAD: 0.2573, Masked MAD: 0.3191 (threshold: 0.05)\n"
     ]
    },
    {
     "name": "stderr",
     "output_type": "stream",
     "text": [
      "Propagating bmx-trees:  54%|█████▍    | 43/79 [00:11<00:10,  3.60it/s]"
     ]
    },
    {
     "name": "stdout",
     "output_type": "stream",
     "text": [
      "Skipping frame 42 - Global MAD: 0.2566, Masked MAD: 0.3132 (threshold: 0.05)\n"
     ]
    },
    {
     "name": "stderr",
     "output_type": "stream",
     "text": [
      "Propagating bmx-trees:  56%|█████▌    | 44/79 [00:11<00:09,  3.59it/s]"
     ]
    },
    {
     "name": "stdout",
     "output_type": "stream",
     "text": [
      "Skipping frame 43 - Global MAD: 0.2553, Masked MAD: 0.3053 (threshold: 0.05)\n"
     ]
    },
    {
     "name": "stderr",
     "output_type": "stream",
     "text": [
      "Propagating bmx-trees:  57%|█████▋    | 45/79 [00:12<00:09,  3.60it/s]"
     ]
    },
    {
     "name": "stdout",
     "output_type": "stream",
     "text": [
      "Skipping frame 44 - Global MAD: 0.2531, Masked MAD: 0.3026 (threshold: 0.05)\n"
     ]
    },
    {
     "name": "stderr",
     "output_type": "stream",
     "text": [
      "Propagating bmx-trees:  58%|█████▊    | 46/79 [00:12<00:09,  3.58it/s]"
     ]
    },
    {
     "name": "stdout",
     "output_type": "stream",
     "text": [
      "Skipping frame 45 - Global MAD: 0.2532, Masked MAD: 0.2976 (threshold: 0.05)\n"
     ]
    },
    {
     "name": "stderr",
     "output_type": "stream",
     "text": [
      "Propagating bmx-trees:  59%|█████▉    | 47/79 [00:12<00:08,  3.59it/s]"
     ]
    },
    {
     "name": "stdout",
     "output_type": "stream",
     "text": [
      "Skipping frame 46 - Global MAD: 0.2502, Masked MAD: 0.2802 (threshold: 0.05)\n"
     ]
    },
    {
     "name": "stderr",
     "output_type": "stream",
     "text": [
      "Propagating bmx-trees:  61%|██████    | 48/79 [00:13<00:08,  3.58it/s]"
     ]
    },
    {
     "name": "stdout",
     "output_type": "stream",
     "text": [
      "Skipping frame 47 - Global MAD: 0.2495, Masked MAD: 0.2822 (threshold: 0.05)\n"
     ]
    },
    {
     "name": "stderr",
     "output_type": "stream",
     "text": [
      "Propagating bmx-trees:  62%|██████▏   | 49/79 [00:13<00:08,  3.58it/s]"
     ]
    },
    {
     "name": "stdout",
     "output_type": "stream",
     "text": [
      "Skipping frame 48 - Global MAD: 0.2576, Masked MAD: 0.3073 (threshold: 0.05)\n"
     ]
    },
    {
     "name": "stderr",
     "output_type": "stream",
     "text": [
      "Propagating bmx-trees:  63%|██████▎   | 50/79 [00:13<00:08,  3.57it/s]"
     ]
    },
    {
     "name": "stdout",
     "output_type": "stream",
     "text": [
      "Skipping frame 49 - Global MAD: 0.2661, Masked MAD: 0.2997 (threshold: 0.05)\n"
     ]
    },
    {
     "name": "stderr",
     "output_type": "stream",
     "text": [
      "Propagating bmx-trees:  65%|██████▍   | 51/79 [00:13<00:07,  3.58it/s]"
     ]
    },
    {
     "name": "stdout",
     "output_type": "stream",
     "text": [
      "Skipping frame 50 - Global MAD: 0.2761, Masked MAD: 0.2996 (threshold: 0.05)\n"
     ]
    },
    {
     "name": "stderr",
     "output_type": "stream",
     "text": [
      "Propagating bmx-trees:  66%|██████▌   | 52/79 [00:14<00:07,  3.59it/s]"
     ]
    },
    {
     "name": "stdout",
     "output_type": "stream",
     "text": [
      "Skipping frame 51 - Global MAD: 0.2842, Masked MAD: 0.3308 (threshold: 0.05)\n"
     ]
    },
    {
     "name": "stderr",
     "output_type": "stream",
     "text": [
      "Propagating bmx-trees:  67%|██████▋   | 53/79 [00:14<00:07,  3.59it/s]"
     ]
    },
    {
     "name": "stdout",
     "output_type": "stream",
     "text": [
      "Skipping frame 52 - Global MAD: 0.2908, Masked MAD: 0.3438 (threshold: 0.05)\n"
     ]
    },
    {
     "name": "stderr",
     "output_type": "stream",
     "text": [
      "Propagating bmx-trees:  68%|██████▊   | 54/79 [00:14<00:06,  3.58it/s]"
     ]
    },
    {
     "name": "stdout",
     "output_type": "stream",
     "text": [
      "Skipping frame 53 - Global MAD: 0.2952, Masked MAD: 0.3504 (threshold: 0.05)\n"
     ]
    },
    {
     "name": "stderr",
     "output_type": "stream",
     "text": [
      "Propagating bmx-trees:  70%|██████▉   | 55/79 [00:14<00:06,  3.58it/s]"
     ]
    },
    {
     "name": "stdout",
     "output_type": "stream",
     "text": [
      "Skipping frame 54 - Global MAD: 0.2971, Masked MAD: 0.3562 (threshold: 0.05)\n"
     ]
    },
    {
     "name": "stderr",
     "output_type": "stream",
     "text": [
      "Propagating bmx-trees:  71%|███████   | 56/79 [00:15<00:06,  3.57it/s]"
     ]
    },
    {
     "name": "stdout",
     "output_type": "stream",
     "text": [
      "Skipping frame 55 - Global MAD: 0.2965, Masked MAD: 0.3679 (threshold: 0.05)\n"
     ]
    },
    {
     "name": "stderr",
     "output_type": "stream",
     "text": [
      "Propagating bmx-trees:  72%|███████▏  | 57/79 [00:15<00:06,  3.58it/s]"
     ]
    },
    {
     "name": "stdout",
     "output_type": "stream",
     "text": [
      "Skipping frame 56 - Global MAD: 0.2928, Masked MAD: 0.3665 (threshold: 0.05)\n"
     ]
    },
    {
     "name": "stderr",
     "output_type": "stream",
     "text": [
      "Propagating bmx-trees:  73%|███████▎  | 58/79 [00:15<00:05,  3.57it/s]"
     ]
    },
    {
     "name": "stdout",
     "output_type": "stream",
     "text": [
      "Skipping frame 57 - Global MAD: 0.2902, Masked MAD: 0.3606 (threshold: 0.05)\n"
     ]
    },
    {
     "name": "stderr",
     "output_type": "stream",
     "text": [
      "Propagating bmx-trees:  75%|███████▍  | 59/79 [00:16<00:05,  3.57it/s]"
     ]
    },
    {
     "name": "stdout",
     "output_type": "stream",
     "text": [
      "Skipping frame 58 - Global MAD: 0.2901, Masked MAD: 0.3549 (threshold: 0.05)\n"
     ]
    },
    {
     "name": "stderr",
     "output_type": "stream",
     "text": [
      "Propagating bmx-trees:  76%|███████▌  | 60/79 [00:16<00:05,  3.56it/s]"
     ]
    },
    {
     "name": "stdout",
     "output_type": "stream",
     "text": [
      "Skipping frame 59 - Global MAD: 0.2910, Masked MAD: 0.3485 (threshold: 0.05)\n"
     ]
    },
    {
     "name": "stderr",
     "output_type": "stream",
     "text": [
      "Propagating bmx-trees:  77%|███████▋  | 61/79 [00:16<00:05,  3.57it/s]"
     ]
    },
    {
     "name": "stdout",
     "output_type": "stream",
     "text": [
      "Skipping frame 60 - Global MAD: 0.2899, Masked MAD: 0.3293 (threshold: 0.05)\n",
      "Avg FPS last 30 frames: 3.59\n"
     ]
    },
    {
     "name": "stderr",
     "output_type": "stream",
     "text": [
      "Propagating bmx-trees:  78%|███████▊  | 62/79 [00:16<00:04,  3.56it/s]"
     ]
    },
    {
     "name": "stdout",
     "output_type": "stream",
     "text": [
      "Skipping frame 61 - Global MAD: 0.2877, Masked MAD: 0.3031 (threshold: 0.05)\n"
     ]
    },
    {
     "name": "stderr",
     "output_type": "stream",
     "text": [
      "Propagating bmx-trees:  80%|███████▉  | 63/79 [00:17<00:04,  3.56it/s]"
     ]
    },
    {
     "name": "stdout",
     "output_type": "stream",
     "text": [
      "Skipping frame 62 - Global MAD: 0.2831, Masked MAD: 0.2803 (threshold: 0.05)\n"
     ]
    },
    {
     "name": "stderr",
     "output_type": "stream",
     "text": [
      "Propagating bmx-trees:  81%|████████  | 64/79 [00:17<00:04,  3.55it/s]"
     ]
    },
    {
     "name": "stdout",
     "output_type": "stream",
     "text": [
      "Skipping frame 63 - Global MAD: 0.2814, Masked MAD: 0.2854 (threshold: 0.05)\n"
     ]
    },
    {
     "name": "stderr",
     "output_type": "stream",
     "text": [
      "Propagating bmx-trees:  82%|████████▏ | 65/79 [00:17<00:03,  3.55it/s]"
     ]
    },
    {
     "name": "stdout",
     "output_type": "stream",
     "text": [
      "Skipping frame 64 - Global MAD: 0.2794, Masked MAD: 0.2837 (threshold: 0.05)\n"
     ]
    },
    {
     "name": "stderr",
     "output_type": "stream",
     "text": [
      "Propagating bmx-trees:  84%|████████▎ | 66/79 [00:18<00:03,  3.55it/s]"
     ]
    },
    {
     "name": "stdout",
     "output_type": "stream",
     "text": [
      "Skipping frame 65 - Global MAD: 0.2768, Masked MAD: 0.2862 (threshold: 0.05)\n"
     ]
    },
    {
     "name": "stderr",
     "output_type": "stream",
     "text": [
      "Propagating bmx-trees:  85%|████████▍ | 67/79 [00:18<00:03,  3.55it/s]"
     ]
    },
    {
     "name": "stdout",
     "output_type": "stream",
     "text": [
      "Skipping frame 66 - Global MAD: 0.2725, Masked MAD: 0.2950 (threshold: 0.05)\n"
     ]
    },
    {
     "name": "stderr",
     "output_type": "stream",
     "text": [
      "Propagating bmx-trees:  86%|████████▌ | 68/79 [00:18<00:03,  3.54it/s]"
     ]
    },
    {
     "name": "stdout",
     "output_type": "stream",
     "text": [
      "Skipping frame 67 - Global MAD: 0.2673, Masked MAD: 0.3036 (threshold: 0.05)\n"
     ]
    },
    {
     "name": "stderr",
     "output_type": "stream",
     "text": [
      "Propagating bmx-trees:  87%|████████▋ | 69/79 [00:18<00:02,  3.54it/s]"
     ]
    },
    {
     "name": "stdout",
     "output_type": "stream",
     "text": [
      "Skipping frame 68 - Global MAD: 0.2637, Masked MAD: 0.3127 (threshold: 0.05)\n"
     ]
    },
    {
     "name": "stderr",
     "output_type": "stream",
     "text": [
      "Propagating bmx-trees:  89%|████████▊ | 70/79 [00:19<00:02,  3.54it/s]"
     ]
    },
    {
     "name": "stdout",
     "output_type": "stream",
     "text": [
      "Skipping frame 69 - Global MAD: 0.2657, Masked MAD: 0.3203 (threshold: 0.05)\n"
     ]
    },
    {
     "name": "stderr",
     "output_type": "stream",
     "text": [
      "Propagating bmx-trees:  90%|████████▉ | 71/79 [00:19<00:02,  3.54it/s]"
     ]
    },
    {
     "name": "stdout",
     "output_type": "stream",
     "text": [
      "Skipping frame 70 - Global MAD: 0.2673, Masked MAD: 0.3271 (threshold: 0.05)\n"
     ]
    },
    {
     "name": "stderr",
     "output_type": "stream",
     "text": [
      "Propagating bmx-trees:  91%|█████████ | 72/79 [00:19<00:01,  3.53it/s]"
     ]
    },
    {
     "name": "stdout",
     "output_type": "stream",
     "text": [
      "Skipping frame 71 - Global MAD: 0.2678, Masked MAD: 0.3340 (threshold: 0.05)\n"
     ]
    },
    {
     "name": "stderr",
     "output_type": "stream",
     "text": [
      "Propagating bmx-trees:  92%|█████████▏| 73/79 [00:20<00:01,  3.54it/s]"
     ]
    },
    {
     "name": "stdout",
     "output_type": "stream",
     "text": [
      "Skipping frame 72 - Global MAD: 0.2689, Masked MAD: 0.3367 (threshold: 0.05)\n"
     ]
    },
    {
     "name": "stderr",
     "output_type": "stream",
     "text": [
      "Propagating bmx-trees:  94%|█████████▎| 74/79 [00:20<00:01,  3.53it/s]"
     ]
    },
    {
     "name": "stdout",
     "output_type": "stream",
     "text": [
      "Skipping frame 73 - Global MAD: 0.2704, Masked MAD: 0.3419 (threshold: 0.05)\n"
     ]
    },
    {
     "name": "stderr",
     "output_type": "stream",
     "text": [
      "Propagating bmx-trees:  95%|█████████▍| 75/79 [00:20<00:01,  3.53it/s]"
     ]
    },
    {
     "name": "stdout",
     "output_type": "stream",
     "text": [
      "Skipping frame 74 - Global MAD: 0.2713, Masked MAD: 0.3481 (threshold: 0.05)\n"
     ]
    },
    {
     "name": "stderr",
     "output_type": "stream",
     "text": [
      "Propagating bmx-trees:  96%|█████████▌| 76/79 [00:20<00:00,  3.53it/s]"
     ]
    },
    {
     "name": "stdout",
     "output_type": "stream",
     "text": [
      "Skipping frame 75 - Global MAD: 0.2717, Masked MAD: 0.3511 (threshold: 0.05)\n"
     ]
    },
    {
     "name": "stderr",
     "output_type": "stream",
     "text": [
      "Propagating bmx-trees:  97%|█████████▋| 77/79 [00:21<00:00,  3.54it/s]"
     ]
    },
    {
     "name": "stdout",
     "output_type": "stream",
     "text": [
      "Skipping frame 76 - Global MAD: 0.2701, Masked MAD: 0.3552 (threshold: 0.05)\n"
     ]
    },
    {
     "name": "stderr",
     "output_type": "stream",
     "text": [
      "Propagating bmx-trees:  99%|█████████▊| 78/79 [00:21<00:00,  3.52it/s]"
     ]
    },
    {
     "name": "stdout",
     "output_type": "stream",
     "text": [
      "Skipping frame 77 - Global MAD: 0.2675, Masked MAD: 0.3656 (threshold: 0.05)\n"
     ]
    },
    {
     "name": "stderr",
     "output_type": "stream",
     "text": [
      "Propagating bmx-trees: 100%|██████████| 79/79 [00:21<00:00,  3.53it/s]"
     ]
    },
    {
     "name": "stdout",
     "output_type": "stream",
     "text": [
      "Skipping frame 78 - Global MAD: 0.2663, Masked MAD: 0.3745 (threshold: 0.05)\n"
     ]
    },
    {
     "name": "stderr",
     "output_type": "stream",
     "text": [
      "propagate in video: 100%|██████████| 80/80 [00:22<00:00,  3.63it/s]   \n",
      "Propagating bmx-trees: 80it [00:22,  3.63it/s]\n"
     ]
    },
    {
     "name": "stdout",
     "output_type": "stream",
     "text": [
      "Skipping frame 79 - Global MAD: 0.2641, Masked MAD: 0.3841 (threshold: 0.05)\n",
      "Skipped 79 frames due to low MAD.\n",
      "→ Saved all predicted masks for bmx-trees in data/DAVIS2017_mgfs_naive/bmx-trees\n",
      "\n",
      "=== Processing sequence: breakdance ===\n"
     ]
    },
    {
     "name": "stderr",
     "output_type": "stream",
     "text": [
      "frame loading (JPEG): 100%|██████████| 84/84 [00:01<00:00, 49.91it/s]\n"
     ]
    },
    {
     "name": "stdout",
     "output_type": "stream",
     "text": [
      "Found 1 unique non‐black colors in breakdance/00000.png\n"
     ]
    },
    {
     "name": "stderr",
     "output_type": "stream",
     "text": [
      "Propagating breakdance:   2%|▏         | 2/83 [00:00<00:11,  7.05it/s]"
     ]
    },
    {
     "name": "stdout",
     "output_type": "stream",
     "text": [
      "Skipping frame 1 - Global MAD: 0.0322, Masked MAD: 0.1423 (threshold: 0.05)\n"
     ]
    },
    {
     "name": "stderr",
     "output_type": "stream",
     "text": [
      "Propagating breakdance:   4%|▎         | 3/83 [00:00<00:15,  5.14it/s]"
     ]
    },
    {
     "name": "stdout",
     "output_type": "stream",
     "text": [
      "Skipping frame 2 - Global MAD: 0.0450, Masked MAD: 0.1892 (threshold: 0.05)\n"
     ]
    },
    {
     "name": "stderr",
     "output_type": "stream",
     "text": [
      "Propagating breakdance:   5%|▍         | 4/83 [00:00<00:17,  4.50it/s]"
     ]
    },
    {
     "name": "stdout",
     "output_type": "stream",
     "text": [
      "Skipping frame 3 - Global MAD: 0.0498, Masked MAD: 0.2002 (threshold: 0.05)\n"
     ]
    },
    {
     "name": "stderr",
     "output_type": "stream",
     "text": [
      "Propagating breakdance:   6%|▌         | 5/83 [00:01<00:18,  4.17it/s]"
     ]
    },
    {
     "name": "stdout",
     "output_type": "stream",
     "text": [
      "Skipping frame 4 - Global MAD: 0.0551, Masked MAD: 0.2092 (threshold: 0.05)\n"
     ]
    },
    {
     "name": "stderr",
     "output_type": "stream",
     "text": [
      "Propagating breakdance:   7%|▋         | 6/83 [00:01<00:19,  4.00it/s]"
     ]
    },
    {
     "name": "stdout",
     "output_type": "stream",
     "text": [
      "Skipping frame 5 - Global MAD: 0.0626, Masked MAD: 0.2295 (threshold: 0.05)\n"
     ]
    },
    {
     "name": "stderr",
     "output_type": "stream",
     "text": [
      "Propagating breakdance:   8%|▊         | 7/83 [00:01<00:19,  3.90it/s]"
     ]
    },
    {
     "name": "stdout",
     "output_type": "stream",
     "text": [
      "Skipping frame 6 - Global MAD: 0.0679, Masked MAD: 0.2494 (threshold: 0.05)\n"
     ]
    },
    {
     "name": "stderr",
     "output_type": "stream",
     "text": [
      "Propagating breakdance:  10%|▉         | 8/83 [00:01<00:19,  3.85it/s]"
     ]
    },
    {
     "name": "stdout",
     "output_type": "stream",
     "text": [
      "Skipping frame 7 - Global MAD: 0.0708, Masked MAD: 0.2573 (threshold: 0.05)\n"
     ]
    },
    {
     "name": "stderr",
     "output_type": "stream",
     "text": [
      "Propagating breakdance:  11%|█         | 9/83 [00:02<00:19,  3.81it/s]"
     ]
    },
    {
     "name": "stdout",
     "output_type": "stream",
     "text": [
      "Skipping frame 8 - Global MAD: 0.0726, Masked MAD: 0.2615 (threshold: 0.05)\n"
     ]
    },
    {
     "name": "stderr",
     "output_type": "stream",
     "text": [
      "Propagating breakdance:  12%|█▏        | 10/83 [00:02<00:19,  3.76it/s]"
     ]
    },
    {
     "name": "stdout",
     "output_type": "stream",
     "text": [
      "Skipping frame 9 - Global MAD: 0.0791, Masked MAD: 0.2687 (threshold: 0.05)\n"
     ]
    },
    {
     "name": "stderr",
     "output_type": "stream",
     "text": [
      "Propagating breakdance:  13%|█▎        | 11/83 [00:02<00:19,  3.75it/s]"
     ]
    },
    {
     "name": "stdout",
     "output_type": "stream",
     "text": [
      "Skipping frame 10 - Global MAD: 0.0859, Masked MAD: 0.3058 (threshold: 0.05)\n"
     ]
    },
    {
     "name": "stderr",
     "output_type": "stream",
     "text": [
      "Propagating breakdance:  14%|█▍        | 12/83 [00:02<00:19,  3.73it/s]"
     ]
    },
    {
     "name": "stdout",
     "output_type": "stream",
     "text": [
      "Skipping frame 11 - Global MAD: 0.0912, Masked MAD: 0.3193 (threshold: 0.05)\n"
     ]
    },
    {
     "name": "stderr",
     "output_type": "stream",
     "text": [
      "Propagating breakdance:  16%|█▌        | 13/83 [00:03<00:18,  3.70it/s]"
     ]
    },
    {
     "name": "stdout",
     "output_type": "stream",
     "text": [
      "Skipping frame 12 - Global MAD: 0.0946, Masked MAD: 0.3368 (threshold: 0.05)\n"
     ]
    },
    {
     "name": "stderr",
     "output_type": "stream",
     "text": [
      "Propagating breakdance:  17%|█▋        | 14/83 [00:03<00:18,  3.71it/s]"
     ]
    },
    {
     "name": "stdout",
     "output_type": "stream",
     "text": [
      "Skipping frame 13 - Global MAD: 0.0981, Masked MAD: 0.3426 (threshold: 0.05)\n"
     ]
    },
    {
     "name": "stderr",
     "output_type": "stream",
     "text": [
      "Propagating breakdance:  18%|█▊        | 15/83 [00:03<00:18,  3.70it/s]"
     ]
    },
    {
     "name": "stdout",
     "output_type": "stream",
     "text": [
      "Skipping frame 14 - Global MAD: 0.1003, Masked MAD: 0.3403 (threshold: 0.05)\n"
     ]
    },
    {
     "name": "stderr",
     "output_type": "stream",
     "text": [
      "Propagating breakdance:  19%|█▉        | 16/83 [00:04<00:18,  3.69it/s]"
     ]
    },
    {
     "name": "stdout",
     "output_type": "stream",
     "text": [
      "Skipping frame 15 - Global MAD: 0.1032, Masked MAD: 0.3403 (threshold: 0.05)\n"
     ]
    },
    {
     "name": "stderr",
     "output_type": "stream",
     "text": [
      "Propagating breakdance:  20%|██        | 17/83 [00:04<00:17,  3.69it/s]"
     ]
    },
    {
     "name": "stdout",
     "output_type": "stream",
     "text": [
      "Skipping frame 16 - Global MAD: 0.1028, Masked MAD: 0.3235 (threshold: 0.05)\n"
     ]
    },
    {
     "name": "stderr",
     "output_type": "stream",
     "text": [
      "Propagating breakdance:  22%|██▏       | 18/83 [00:04<00:17,  3.70it/s]"
     ]
    },
    {
     "name": "stdout",
     "output_type": "stream",
     "text": [
      "Skipping frame 17 - Global MAD: 0.1062, Masked MAD: 0.3284 (threshold: 0.05)\n"
     ]
    },
    {
     "name": "stderr",
     "output_type": "stream",
     "text": [
      "Propagating breakdance:  23%|██▎       | 19/83 [00:04<00:17,  3.69it/s]"
     ]
    },
    {
     "name": "stdout",
     "output_type": "stream",
     "text": [
      "Skipping frame 18 - Global MAD: 0.1081, Masked MAD: 0.3320 (threshold: 0.05)\n"
     ]
    },
    {
     "name": "stderr",
     "output_type": "stream",
     "text": [
      "Propagating breakdance:  24%|██▍       | 20/83 [00:05<00:17,  3.70it/s]"
     ]
    },
    {
     "name": "stdout",
     "output_type": "stream",
     "text": [
      "Skipping frame 19 - Global MAD: 0.1084, Masked MAD: 0.3235 (threshold: 0.05)\n"
     ]
    },
    {
     "name": "stderr",
     "output_type": "stream",
     "text": [
      "Propagating breakdance:  25%|██▌       | 21/83 [00:05<00:16,  3.69it/s]"
     ]
    },
    {
     "name": "stdout",
     "output_type": "stream",
     "text": [
      "Skipping frame 20 - Global MAD: 0.1051, Masked MAD: 0.3102 (threshold: 0.05)\n"
     ]
    },
    {
     "name": "stderr",
     "output_type": "stream",
     "text": [
      "Propagating breakdance:  27%|██▋       | 22/83 [00:05<00:16,  3.69it/s]"
     ]
    },
    {
     "name": "stdout",
     "output_type": "stream",
     "text": [
      "Skipping frame 21 - Global MAD: 0.0994, Masked MAD: 0.2941 (threshold: 0.05)\n"
     ]
    },
    {
     "name": "stderr",
     "output_type": "stream",
     "text": [
      "Propagating breakdance:  28%|██▊       | 23/83 [00:05<00:16,  3.69it/s]"
     ]
    },
    {
     "name": "stdout",
     "output_type": "stream",
     "text": [
      "Skipping frame 22 - Global MAD: 0.0986, Masked MAD: 0.2952 (threshold: 0.05)\n"
     ]
    },
    {
     "name": "stderr",
     "output_type": "stream",
     "text": [
      "Propagating breakdance:  29%|██▉       | 24/83 [00:06<00:16,  3.69it/s]"
     ]
    },
    {
     "name": "stdout",
     "output_type": "stream",
     "text": [
      "Skipping frame 23 - Global MAD: 0.0998, Masked MAD: 0.2963 (threshold: 0.05)\n"
     ]
    },
    {
     "name": "stderr",
     "output_type": "stream",
     "text": [
      "Propagating breakdance:  30%|███       | 25/83 [00:06<00:15,  3.67it/s]"
     ]
    },
    {
     "name": "stdout",
     "output_type": "stream",
     "text": [
      "Skipping frame 24 - Global MAD: 0.1021, Masked MAD: 0.2984 (threshold: 0.05)\n"
     ]
    },
    {
     "name": "stderr",
     "output_type": "stream",
     "text": [
      "Propagating breakdance:  31%|███▏      | 26/83 [00:06<00:15,  3.69it/s]"
     ]
    },
    {
     "name": "stdout",
     "output_type": "stream",
     "text": [
      "Skipping frame 25 - Global MAD: 0.1033, Masked MAD: 0.2990 (threshold: 0.05)\n"
     ]
    },
    {
     "name": "stderr",
     "output_type": "stream",
     "text": [
      "Propagating breakdance:  33%|███▎      | 27/83 [00:07<00:15,  3.69it/s]"
     ]
    },
    {
     "name": "stdout",
     "output_type": "stream",
     "text": [
      "Skipping frame 26 - Global MAD: 0.1029, Masked MAD: 0.2995 (threshold: 0.05)\n"
     ]
    },
    {
     "name": "stderr",
     "output_type": "stream",
     "text": [
      "Propagating breakdance:  34%|███▎      | 28/83 [00:07<00:14,  3.68it/s]"
     ]
    },
    {
     "name": "stdout",
     "output_type": "stream",
     "text": [
      "Skipping frame 27 - Global MAD: 0.1031, Masked MAD: 0.2874 (threshold: 0.05)\n"
     ]
    },
    {
     "name": "stderr",
     "output_type": "stream",
     "text": [
      "Propagating breakdance:  35%|███▍      | 29/83 [00:07<00:14,  3.70it/s]"
     ]
    },
    {
     "name": "stdout",
     "output_type": "stream",
     "text": [
      "Skipping frame 28 - Global MAD: 0.1057, Masked MAD: 0.2938 (threshold: 0.05)\n"
     ]
    },
    {
     "name": "stderr",
     "output_type": "stream",
     "text": [
      "Propagating breakdance:  36%|███▌      | 30/83 [00:07<00:14,  3.70it/s]"
     ]
    },
    {
     "name": "stdout",
     "output_type": "stream",
     "text": [
      "Skipping frame 29 - Global MAD: 0.1084, Masked MAD: 0.3124 (threshold: 0.05)\n"
     ]
    },
    {
     "name": "stderr",
     "output_type": "stream",
     "text": [
      "Propagating breakdance:  37%|███▋      | 31/83 [00:08<00:14,  3.69it/s]"
     ]
    },
    {
     "name": "stdout",
     "output_type": "stream",
     "text": [
      "Skipping frame 30 - Global MAD: 0.1084, Masked MAD: 0.3036 (threshold: 0.05)\n",
      "Avg FPS last 30 frames: 3.69\n"
     ]
    },
    {
     "name": "stderr",
     "output_type": "stream",
     "text": [
      "Propagating breakdance:  39%|███▊      | 32/83 [00:08<00:13,  3.70it/s]"
     ]
    },
    {
     "name": "stdout",
     "output_type": "stream",
     "text": [
      "Skipping frame 31 - Global MAD: 0.1068, Masked MAD: 0.2960 (threshold: 0.05)\n"
     ]
    },
    {
     "name": "stderr",
     "output_type": "stream",
     "text": [
      "Propagating breakdance:  40%|███▉      | 33/83 [00:08<00:13,  3.69it/s]"
     ]
    },
    {
     "name": "stdout",
     "output_type": "stream",
     "text": [
      "Skipping frame 32 - Global MAD: 0.1081, Masked MAD: 0.2948 (threshold: 0.05)\n"
     ]
    },
    {
     "name": "stderr",
     "output_type": "stream",
     "text": [
      "Propagating breakdance:  41%|████      | 34/83 [00:08<00:13,  3.69it/s]"
     ]
    },
    {
     "name": "stdout",
     "output_type": "stream",
     "text": [
      "Skipping frame 33 - Global MAD: 0.1093, Masked MAD: 0.2934 (threshold: 0.05)\n"
     ]
    },
    {
     "name": "stderr",
     "output_type": "stream",
     "text": [
      "Propagating breakdance:  42%|████▏     | 35/83 [00:09<00:13,  3.68it/s]"
     ]
    },
    {
     "name": "stdout",
     "output_type": "stream",
     "text": [
      "Skipping frame 34 - Global MAD: 0.1060, Masked MAD: 0.2917 (threshold: 0.05)\n"
     ]
    },
    {
     "name": "stderr",
     "output_type": "stream",
     "text": [
      "Propagating breakdance:  43%|████▎     | 36/83 [00:09<00:12,  3.69it/s]"
     ]
    },
    {
     "name": "stdout",
     "output_type": "stream",
     "text": [
      "Skipping frame 35 - Global MAD: 0.1058, Masked MAD: 0.2919 (threshold: 0.05)\n"
     ]
    },
    {
     "name": "stderr",
     "output_type": "stream",
     "text": [
      "Propagating breakdance:  45%|████▍     | 37/83 [00:09<00:12,  3.69it/s]"
     ]
    },
    {
     "name": "stdout",
     "output_type": "stream",
     "text": [
      "Skipping frame 36 - Global MAD: 0.1071, Masked MAD: 0.3028 (threshold: 0.05)\n"
     ]
    },
    {
     "name": "stderr",
     "output_type": "stream",
     "text": [
      "Propagating breakdance:  46%|████▌     | 38/83 [00:10<00:12,  3.68it/s]"
     ]
    },
    {
     "name": "stdout",
     "output_type": "stream",
     "text": [
      "Skipping frame 37 - Global MAD: 0.1059, Masked MAD: 0.3076 (threshold: 0.05)\n"
     ]
    },
    {
     "name": "stderr",
     "output_type": "stream",
     "text": [
      "Propagating breakdance:  47%|████▋     | 39/83 [00:10<00:11,  3.68it/s]"
     ]
    },
    {
     "name": "stdout",
     "output_type": "stream",
     "text": [
      "Skipping frame 38 - Global MAD: 0.1056, Masked MAD: 0.3056 (threshold: 0.05)\n"
     ]
    },
    {
     "name": "stderr",
     "output_type": "stream",
     "text": [
      "Propagating breakdance:  48%|████▊     | 40/83 [00:10<00:11,  3.68it/s]"
     ]
    },
    {
     "name": "stdout",
     "output_type": "stream",
     "text": [
      "Skipping frame 39 - Global MAD: 0.1048, Masked MAD: 0.3030 (threshold: 0.05)\n"
     ]
    },
    {
     "name": "stderr",
     "output_type": "stream",
     "text": [
      "Propagating breakdance:  49%|████▉     | 41/83 [00:10<00:11,  3.68it/s]"
     ]
    },
    {
     "name": "stdout",
     "output_type": "stream",
     "text": [
      "Skipping frame 40 - Global MAD: 0.1046, Masked MAD: 0.3003 (threshold: 0.05)\n"
     ]
    },
    {
     "name": "stderr",
     "output_type": "stream",
     "text": [
      "Propagating breakdance:  51%|█████     | 42/83 [00:11<00:11,  3.68it/s]"
     ]
    },
    {
     "name": "stdout",
     "output_type": "stream",
     "text": [
      "Skipping frame 41 - Global MAD: 0.1060, Masked MAD: 0.3011 (threshold: 0.05)\n"
     ]
    },
    {
     "name": "stderr",
     "output_type": "stream",
     "text": [
      "Propagating breakdance:  52%|█████▏    | 43/83 [00:11<00:10,  3.68it/s]"
     ]
    },
    {
     "name": "stdout",
     "output_type": "stream",
     "text": [
      "Skipping frame 42 - Global MAD: 0.1056, Masked MAD: 0.3006 (threshold: 0.05)\n"
     ]
    },
    {
     "name": "stderr",
     "output_type": "stream",
     "text": [
      "Propagating breakdance:  53%|█████▎    | 44/83 [00:11<00:10,  3.68it/s]"
     ]
    },
    {
     "name": "stdout",
     "output_type": "stream",
     "text": [
      "Skipping frame 43 - Global MAD: 0.1086, Masked MAD: 0.2995 (threshold: 0.05)\n"
     ]
    },
    {
     "name": "stderr",
     "output_type": "stream",
     "text": [
      "Propagating breakdance:  54%|█████▍    | 45/83 [00:11<00:10,  3.68it/s]"
     ]
    },
    {
     "name": "stdout",
     "output_type": "stream",
     "text": [
      "Skipping frame 44 - Global MAD: 0.1049, Masked MAD: 0.2872 (threshold: 0.05)\n"
     ]
    },
    {
     "name": "stderr",
     "output_type": "stream",
     "text": [
      "Propagating breakdance:  55%|█████▌    | 46/83 [00:12<00:09,  3.70it/s]"
     ]
    },
    {
     "name": "stdout",
     "output_type": "stream",
     "text": [
      "Skipping frame 45 - Global MAD: 0.1027, Masked MAD: 0.2745 (threshold: 0.05)\n"
     ]
    },
    {
     "name": "stderr",
     "output_type": "stream",
     "text": [
      "Propagating breakdance:  57%|█████▋    | 47/83 [00:12<00:09,  3.71it/s]"
     ]
    },
    {
     "name": "stdout",
     "output_type": "stream",
     "text": [
      "Skipping frame 46 - Global MAD: 0.1057, Masked MAD: 0.2971 (threshold: 0.05)\n"
     ]
    },
    {
     "name": "stderr",
     "output_type": "stream",
     "text": [
      "Propagating breakdance:  58%|█████▊    | 48/83 [00:12<00:09,  3.70it/s]"
     ]
    },
    {
     "name": "stdout",
     "output_type": "stream",
     "text": [
      "Skipping frame 47 - Global MAD: 0.1061, Masked MAD: 0.2751 (threshold: 0.05)\n"
     ]
    },
    {
     "name": "stderr",
     "output_type": "stream",
     "text": [
      "Propagating breakdance:  59%|█████▉    | 49/83 [00:13<00:09,  3.70it/s]"
     ]
    },
    {
     "name": "stdout",
     "output_type": "stream",
     "text": [
      "Skipping frame 48 - Global MAD: 0.1104, Masked MAD: 0.2908 (threshold: 0.05)\n"
     ]
    },
    {
     "name": "stderr",
     "output_type": "stream",
     "text": [
      "Propagating breakdance:  60%|██████    | 50/83 [00:13<00:08,  3.69it/s]"
     ]
    },
    {
     "name": "stdout",
     "output_type": "stream",
     "text": [
      "Skipping frame 49 - Global MAD: 0.1063, Masked MAD: 0.2850 (threshold: 0.05)\n"
     ]
    },
    {
     "name": "stderr",
     "output_type": "stream",
     "text": [
      "Propagating breakdance:  61%|██████▏   | 51/83 [00:13<00:08,  3.70it/s]"
     ]
    },
    {
     "name": "stdout",
     "output_type": "stream",
     "text": [
      "Skipping frame 50 - Global MAD: 0.1053, Masked MAD: 0.2740 (threshold: 0.05)\n"
     ]
    },
    {
     "name": "stderr",
     "output_type": "stream",
     "text": [
      "Propagating breakdance:  63%|██████▎   | 52/83 [00:13<00:08,  3.69it/s]"
     ]
    },
    {
     "name": "stdout",
     "output_type": "stream",
     "text": [
      "Skipping frame 51 - Global MAD: 0.1035, Masked MAD: 0.2812 (threshold: 0.05)\n"
     ]
    },
    {
     "name": "stderr",
     "output_type": "stream",
     "text": [
      "Propagating breakdance:  64%|██████▍   | 53/83 [00:14<00:08,  3.68it/s]"
     ]
    },
    {
     "name": "stdout",
     "output_type": "stream",
     "text": [
      "Skipping frame 52 - Global MAD: 0.1035, Masked MAD: 0.2923 (threshold: 0.05)\n"
     ]
    },
    {
     "name": "stderr",
     "output_type": "stream",
     "text": [
      "Propagating breakdance:  65%|██████▌   | 54/83 [00:14<00:07,  3.69it/s]"
     ]
    },
    {
     "name": "stdout",
     "output_type": "stream",
     "text": [
      "Skipping frame 53 - Global MAD: 0.1024, Masked MAD: 0.2844 (threshold: 0.05)\n"
     ]
    },
    {
     "name": "stderr",
     "output_type": "stream",
     "text": [
      "Propagating breakdance:  66%|██████▋   | 55/83 [00:14<00:07,  3.69it/s]"
     ]
    },
    {
     "name": "stdout",
     "output_type": "stream",
     "text": [
      "Skipping frame 54 - Global MAD: 0.0993, Masked MAD: 0.2802 (threshold: 0.05)\n"
     ]
    },
    {
     "name": "stderr",
     "output_type": "stream",
     "text": [
      "Propagating breakdance:  67%|██████▋   | 56/83 [00:14<00:07,  3.68it/s]"
     ]
    },
    {
     "name": "stdout",
     "output_type": "stream",
     "text": [
      "Skipping frame 55 - Global MAD: 0.0991, Masked MAD: 0.2844 (threshold: 0.05)\n"
     ]
    },
    {
     "name": "stderr",
     "output_type": "stream",
     "text": [
      "Propagating breakdance:  69%|██████▊   | 57/83 [00:15<00:07,  3.69it/s]"
     ]
    },
    {
     "name": "stdout",
     "output_type": "stream",
     "text": [
      "Skipping frame 56 - Global MAD: 0.0992, Masked MAD: 0.2820 (threshold: 0.05)\n"
     ]
    },
    {
     "name": "stderr",
     "output_type": "stream",
     "text": [
      "Propagating breakdance:  70%|██████▉   | 58/83 [00:15<00:06,  3.69it/s]"
     ]
    },
    {
     "name": "stdout",
     "output_type": "stream",
     "text": [
      "Skipping frame 57 - Global MAD: 0.0990, Masked MAD: 0.2809 (threshold: 0.05)\n"
     ]
    },
    {
     "name": "stderr",
     "output_type": "stream",
     "text": [
      "Propagating breakdance:  71%|███████   | 59/83 [00:15<00:06,  3.69it/s]"
     ]
    },
    {
     "name": "stdout",
     "output_type": "stream",
     "text": [
      "Skipping frame 58 - Global MAD: 0.0979, Masked MAD: 0.2724 (threshold: 0.05)\n"
     ]
    },
    {
     "name": "stderr",
     "output_type": "stream",
     "text": [
      "Propagating breakdance:  72%|███████▏  | 60/83 [00:15<00:06,  3.70it/s]"
     ]
    },
    {
     "name": "stdout",
     "output_type": "stream",
     "text": [
      "Skipping frame 59 - Global MAD: 0.0977, Masked MAD: 0.2635 (threshold: 0.05)\n"
     ]
    },
    {
     "name": "stderr",
     "output_type": "stream",
     "text": [
      "Propagating breakdance:  73%|███████▎  | 61/83 [00:16<00:05,  3.70it/s]"
     ]
    },
    {
     "name": "stdout",
     "output_type": "stream",
     "text": [
      "Skipping frame 60 - Global MAD: 0.0996, Masked MAD: 0.2568 (threshold: 0.05)\n",
      "Avg FPS last 30 frames: 3.69\n"
     ]
    },
    {
     "name": "stderr",
     "output_type": "stream",
     "text": [
      "Propagating breakdance:  75%|███████▍  | 62/83 [00:16<00:05,  3.69it/s]"
     ]
    },
    {
     "name": "stdout",
     "output_type": "stream",
     "text": [
      "Skipping frame 61 - Global MAD: 0.0992, Masked MAD: 0.2601 (threshold: 0.05)\n"
     ]
    },
    {
     "name": "stderr",
     "output_type": "stream",
     "text": [
      "Propagating breakdance:  76%|███████▌  | 63/83 [00:16<00:05,  3.69it/s]"
     ]
    },
    {
     "name": "stdout",
     "output_type": "stream",
     "text": [
      "Skipping frame 62 - Global MAD: 0.0986, Masked MAD: 0.2675 (threshold: 0.05)\n"
     ]
    },
    {
     "name": "stderr",
     "output_type": "stream",
     "text": [
      "Propagating breakdance:  77%|███████▋  | 64/83 [00:17<00:05,  3.69it/s]"
     ]
    },
    {
     "name": "stdout",
     "output_type": "stream",
     "text": [
      "Skipping frame 63 - Global MAD: 0.1006, Masked MAD: 0.2681 (threshold: 0.05)\n"
     ]
    },
    {
     "name": "stderr",
     "output_type": "stream",
     "text": [
      "Propagating breakdance:  78%|███████▊  | 65/83 [00:17<00:04,  3.68it/s]"
     ]
    },
    {
     "name": "stdout",
     "output_type": "stream",
     "text": [
      "Skipping frame 64 - Global MAD: 0.1018, Masked MAD: 0.2724 (threshold: 0.05)\n"
     ]
    },
    {
     "name": "stderr",
     "output_type": "stream",
     "text": [
      "Propagating breakdance:  80%|███████▉  | 66/83 [00:17<00:04,  3.68it/s]"
     ]
    },
    {
     "name": "stdout",
     "output_type": "stream",
     "text": [
      "Skipping frame 65 - Global MAD: 0.1048, Masked MAD: 0.2722 (threshold: 0.05)\n"
     ]
    },
    {
     "name": "stderr",
     "output_type": "stream",
     "text": [
      "Propagating breakdance:  81%|████████  | 67/83 [00:17<00:04,  3.69it/s]"
     ]
    },
    {
     "name": "stdout",
     "output_type": "stream",
     "text": [
      "Skipping frame 66 - Global MAD: 0.1063, Masked MAD: 0.2685 (threshold: 0.05)\n"
     ]
    },
    {
     "name": "stderr",
     "output_type": "stream",
     "text": [
      "Propagating breakdance:  82%|████████▏ | 68/83 [00:18<00:04,  3.69it/s]"
     ]
    },
    {
     "name": "stdout",
     "output_type": "stream",
     "text": [
      "Skipping frame 67 - Global MAD: 0.1058, Masked MAD: 0.2690 (threshold: 0.05)\n"
     ]
    },
    {
     "name": "stderr",
     "output_type": "stream",
     "text": [
      "Propagating breakdance:  83%|████████▎ | 69/83 [00:18<00:03,  3.69it/s]"
     ]
    },
    {
     "name": "stdout",
     "output_type": "stream",
     "text": [
      "Skipping frame 68 - Global MAD: 0.1066, Masked MAD: 0.2706 (threshold: 0.05)\n"
     ]
    },
    {
     "name": "stderr",
     "output_type": "stream",
     "text": [
      "Propagating breakdance:  84%|████████▍ | 70/83 [00:18<00:03,  3.69it/s]"
     ]
    },
    {
     "name": "stdout",
     "output_type": "stream",
     "text": [
      "Skipping frame 69 - Global MAD: 0.1066, Masked MAD: 0.2735 (threshold: 0.05)\n"
     ]
    },
    {
     "name": "stderr",
     "output_type": "stream",
     "text": [
      "Propagating breakdance:  86%|████████▌ | 71/83 [00:18<00:03,  3.69it/s]"
     ]
    },
    {
     "name": "stdout",
     "output_type": "stream",
     "text": [
      "Skipping frame 70 - Global MAD: 0.1084, Masked MAD: 0.2809 (threshold: 0.05)\n"
     ]
    },
    {
     "name": "stderr",
     "output_type": "stream",
     "text": [
      "Propagating breakdance:  87%|████████▋ | 72/83 [00:19<00:02,  3.69it/s]"
     ]
    },
    {
     "name": "stdout",
     "output_type": "stream",
     "text": [
      "Skipping frame 71 - Global MAD: 0.1086, Masked MAD: 0.2867 (threshold: 0.05)\n"
     ]
    },
    {
     "name": "stderr",
     "output_type": "stream",
     "text": [
      "Propagating breakdance:  88%|████████▊ | 73/83 [00:19<00:02,  3.69it/s]"
     ]
    },
    {
     "name": "stdout",
     "output_type": "stream",
     "text": [
      "Skipping frame 72 - Global MAD: 0.1081, Masked MAD: 0.2903 (threshold: 0.05)\n"
     ]
    },
    {
     "name": "stderr",
     "output_type": "stream",
     "text": [
      "Propagating breakdance:  89%|████████▉ | 74/83 [00:19<00:02,  3.69it/s]"
     ]
    },
    {
     "name": "stdout",
     "output_type": "stream",
     "text": [
      "Skipping frame 73 - Global MAD: 0.1102, Masked MAD: 0.2980 (threshold: 0.05)\n"
     ]
    },
    {
     "name": "stderr",
     "output_type": "stream",
     "text": [
      "Propagating breakdance:  90%|█████████ | 75/83 [00:20<00:02,  3.70it/s]"
     ]
    },
    {
     "name": "stdout",
     "output_type": "stream",
     "text": [
      "Skipping frame 74 - Global MAD: 0.1077, Masked MAD: 0.2929 (threshold: 0.05)\n"
     ]
    },
    {
     "name": "stderr",
     "output_type": "stream",
     "text": [
      "Propagating breakdance:  92%|█████████▏| 76/83 [00:20<00:01,  3.71it/s]"
     ]
    },
    {
     "name": "stdout",
     "output_type": "stream",
     "text": [
      "Skipping frame 75 - Global MAD: 0.1085, Masked MAD: 0.2964 (threshold: 0.05)\n"
     ]
    },
    {
     "name": "stderr",
     "output_type": "stream",
     "text": [
      "Propagating breakdance:  93%|█████████▎| 77/83 [00:20<00:01,  3.70it/s]"
     ]
    },
    {
     "name": "stdout",
     "output_type": "stream",
     "text": [
      "Skipping frame 76 - Global MAD: 0.1075, Masked MAD: 0.2967 (threshold: 0.05)\n"
     ]
    },
    {
     "name": "stderr",
     "output_type": "stream",
     "text": [
      "Propagating breakdance:  94%|█████████▍| 78/83 [00:20<00:01,  3.70it/s]"
     ]
    },
    {
     "name": "stdout",
     "output_type": "stream",
     "text": [
      "Skipping frame 77 - Global MAD: 0.1067, Masked MAD: 0.2955 (threshold: 0.05)\n"
     ]
    },
    {
     "name": "stderr",
     "output_type": "stream",
     "text": [
      "Propagating breakdance:  95%|█████████▌| 79/83 [00:21<00:01,  3.69it/s]"
     ]
    },
    {
     "name": "stdout",
     "output_type": "stream",
     "text": [
      "Skipping frame 78 - Global MAD: 0.1075, Masked MAD: 0.2918 (threshold: 0.05)\n"
     ]
    },
    {
     "name": "stderr",
     "output_type": "stream",
     "text": [
      "Propagating breakdance:  96%|█████████▋| 80/83 [00:21<00:00,  3.69it/s]"
     ]
    },
    {
     "name": "stdout",
     "output_type": "stream",
     "text": [
      "Skipping frame 79 - Global MAD: 0.1064, Masked MAD: 0.2973 (threshold: 0.05)\n"
     ]
    },
    {
     "name": "stderr",
     "output_type": "stream",
     "text": [
      "Propagating breakdance:  98%|█████████▊| 81/83 [00:21<00:00,  3.69it/s]"
     ]
    },
    {
     "name": "stdout",
     "output_type": "stream",
     "text": [
      "Skipping frame 80 - Global MAD: 0.1069, Masked MAD: 0.3001 (threshold: 0.05)\n"
     ]
    },
    {
     "name": "stderr",
     "output_type": "stream",
     "text": [
      "Propagating breakdance:  99%|█████████▉| 82/83 [00:21<00:00,  3.69it/s]"
     ]
    },
    {
     "name": "stdout",
     "output_type": "stream",
     "text": [
      "Skipping frame 81 - Global MAD: 0.1060, Masked MAD: 0.3019 (threshold: 0.05)\n"
     ]
    },
    {
     "name": "stderr",
     "output_type": "stream",
     "text": [
      "Propagating breakdance: 100%|██████████| 83/83 [00:22<00:00,  3.69it/s]"
     ]
    },
    {
     "name": "stdout",
     "output_type": "stream",
     "text": [
      "Skipping frame 82 - Global MAD: 0.1064, Masked MAD: 0.3096 (threshold: 0.05)\n"
     ]
    },
    {
     "name": "stderr",
     "output_type": "stream",
     "text": [
      "propagate in video: 100%|██████████| 84/84 [00:22<00:00,  3.73it/s]    \n",
      "Propagating breakdance: 84it [00:22,  3.73it/s]\n"
     ]
    },
    {
     "name": "stdout",
     "output_type": "stream",
     "text": [
      "Skipping frame 83 - Global MAD: 0.1066, Masked MAD: 0.3091 (threshold: 0.05)\n",
      "Skipped 83 frames due to low MAD.\n",
      "→ Saved all predicted masks for breakdance in data/DAVIS2017_mgfs_naive/breakdance\n",
      "\n",
      "=== Processing sequence: camel ===\n"
     ]
    },
    {
     "name": "stderr",
     "output_type": "stream",
     "text": [
      "frame loading (JPEG): 100%|██████████| 90/90 [00:01<00:00, 48.92it/s]\n"
     ]
    },
    {
     "name": "stdout",
     "output_type": "stream",
     "text": [
      "Found 1 unique non‐black colors in camel/00000.png\n"
     ]
    },
    {
     "name": "stderr",
     "output_type": "stream",
     "text": [
      "Propagating camel:   2%|▏         | 2/89 [00:00<00:12,  6.99it/s]"
     ]
    },
    {
     "name": "stdout",
     "output_type": "stream",
     "text": [
      "Skipping frame 1 - Global MAD: 0.0799, Masked MAD: 0.0497 (threshold: 0.05)\n"
     ]
    },
    {
     "name": "stderr",
     "output_type": "stream",
     "text": [
      "Propagating camel:   3%|▎         | 3/89 [00:00<00:17,  5.05it/s]"
     ]
    },
    {
     "name": "stdout",
     "output_type": "stream",
     "text": [
      "Skipping frame 2 - Global MAD: 0.0998, Masked MAD: 0.0824 (threshold: 0.05)\n"
     ]
    },
    {
     "name": "stderr",
     "output_type": "stream",
     "text": [
      "Propagating camel:   4%|▍         | 4/89 [00:00<00:19,  4.43it/s]"
     ]
    },
    {
     "name": "stdout",
     "output_type": "stream",
     "text": [
      "Skipping frame 3 - Global MAD: 0.1142, Masked MAD: 0.1074 (threshold: 0.05)\n"
     ]
    },
    {
     "name": "stderr",
     "output_type": "stream",
     "text": [
      "Propagating camel:   6%|▌         | 5/89 [00:01<00:20,  4.15it/s]"
     ]
    },
    {
     "name": "stdout",
     "output_type": "stream",
     "text": [
      "Skipping frame 4 - Global MAD: 0.1228, Masked MAD: 0.1216 (threshold: 0.05)\n"
     ]
    },
    {
     "name": "stderr",
     "output_type": "stream",
     "text": [
      "Propagating camel:   7%|▋         | 6/89 [00:01<00:20,  3.98it/s]"
     ]
    },
    {
     "name": "stdout",
     "output_type": "stream",
     "text": [
      "Skipping frame 5 - Global MAD: 0.1307, Masked MAD: 0.1315 (threshold: 0.05)\n"
     ]
    },
    {
     "name": "stderr",
     "output_type": "stream",
     "text": [
      "Propagating camel:   8%|▊         | 7/89 [00:01<00:21,  3.88it/s]"
     ]
    },
    {
     "name": "stdout",
     "output_type": "stream",
     "text": [
      "Skipping frame 6 - Global MAD: 0.1369, Masked MAD: 0.1415 (threshold: 0.05)\n"
     ]
    },
    {
     "name": "stderr",
     "output_type": "stream",
     "text": [
      "Propagating camel:   9%|▉         | 8/89 [00:01<00:21,  3.81it/s]"
     ]
    },
    {
     "name": "stdout",
     "output_type": "stream",
     "text": [
      "Skipping frame 7 - Global MAD: 0.1399, Masked MAD: 0.1509 (threshold: 0.05)\n"
     ]
    },
    {
     "name": "stderr",
     "output_type": "stream",
     "text": [
      "Propagating camel:  10%|█         | 9/89 [00:02<00:21,  3.77it/s]"
     ]
    },
    {
     "name": "stdout",
     "output_type": "stream",
     "text": [
      "Skipping frame 8 - Global MAD: 0.1447, Masked MAD: 0.1578 (threshold: 0.05)\n"
     ]
    },
    {
     "name": "stderr",
     "output_type": "stream",
     "text": [
      "Propagating camel:  11%|█         | 10/89 [00:02<00:21,  3.74it/s]"
     ]
    },
    {
     "name": "stdout",
     "output_type": "stream",
     "text": [
      "Skipping frame 9 - Global MAD: 0.1495, Masked MAD: 0.1622 (threshold: 0.05)\n"
     ]
    },
    {
     "name": "stderr",
     "output_type": "stream",
     "text": [
      "Propagating camel:  12%|█▏        | 11/89 [00:02<00:20,  3.73it/s]"
     ]
    },
    {
     "name": "stdout",
     "output_type": "stream",
     "text": [
      "Skipping frame 10 - Global MAD: 0.1531, Masked MAD: 0.1649 (threshold: 0.05)\n"
     ]
    },
    {
     "name": "stderr",
     "output_type": "stream",
     "text": [
      "Propagating camel:  13%|█▎        | 12/89 [00:03<00:20,  3.71it/s]"
     ]
    },
    {
     "name": "stdout",
     "output_type": "stream",
     "text": [
      "Skipping frame 11 - Global MAD: 0.1566, Masked MAD: 0.1674 (threshold: 0.05)\n"
     ]
    },
    {
     "name": "stderr",
     "output_type": "stream",
     "text": [
      "Propagating camel:  15%|█▍        | 13/89 [00:03<00:20,  3.70it/s]"
     ]
    },
    {
     "name": "stdout",
     "output_type": "stream",
     "text": [
      "Skipping frame 12 - Global MAD: 0.1592, Masked MAD: 0.1699 (threshold: 0.05)\n"
     ]
    },
    {
     "name": "stderr",
     "output_type": "stream",
     "text": [
      "Propagating camel:  16%|█▌        | 14/89 [00:03<00:20,  3.70it/s]"
     ]
    },
    {
     "name": "stdout",
     "output_type": "stream",
     "text": [
      "Skipping frame 13 - Global MAD: 0.1606, Masked MAD: 0.1725 (threshold: 0.05)\n"
     ]
    },
    {
     "name": "stderr",
     "output_type": "stream",
     "text": [
      "Propagating camel:  17%|█▋        | 15/89 [00:03<00:20,  3.69it/s]"
     ]
    },
    {
     "name": "stdout",
     "output_type": "stream",
     "text": [
      "Skipping frame 14 - Global MAD: 0.1622, Masked MAD: 0.1731 (threshold: 0.05)\n"
     ]
    },
    {
     "name": "stderr",
     "output_type": "stream",
     "text": [
      "Propagating camel:  18%|█▊        | 16/89 [00:04<00:19,  3.67it/s]"
     ]
    },
    {
     "name": "stdout",
     "output_type": "stream",
     "text": [
      "Skipping frame 15 - Global MAD: 0.1632, Masked MAD: 0.1730 (threshold: 0.05)\n"
     ]
    },
    {
     "name": "stderr",
     "output_type": "stream",
     "text": [
      "Propagating camel:  19%|█▉        | 17/89 [00:04<00:19,  3.67it/s]"
     ]
    },
    {
     "name": "stdout",
     "output_type": "stream",
     "text": [
      "Skipping frame 16 - Global MAD: 0.1649, Masked MAD: 0.1744 (threshold: 0.05)\n"
     ]
    },
    {
     "name": "stderr",
     "output_type": "stream",
     "text": [
      "Propagating camel:  20%|██        | 18/89 [00:04<00:19,  3.66it/s]"
     ]
    },
    {
     "name": "stdout",
     "output_type": "stream",
     "text": [
      "Skipping frame 17 - Global MAD: 0.1641, Masked MAD: 0.1742 (threshold: 0.05)\n"
     ]
    },
    {
     "name": "stderr",
     "output_type": "stream",
     "text": [
      "Propagating camel:  21%|██▏       | 19/89 [00:04<00:19,  3.65it/s]"
     ]
    },
    {
     "name": "stdout",
     "output_type": "stream",
     "text": [
      "Skipping frame 18 - Global MAD: 0.1618, Masked MAD: 0.1707 (threshold: 0.05)\n"
     ]
    },
    {
     "name": "stderr",
     "output_type": "stream",
     "text": [
      "Propagating camel:  22%|██▏       | 20/89 [00:05<00:18,  3.66it/s]"
     ]
    },
    {
     "name": "stdout",
     "output_type": "stream",
     "text": [
      "Skipping frame 19 - Global MAD: 0.1586, Masked MAD: 0.1662 (threshold: 0.05)\n"
     ]
    },
    {
     "name": "stderr",
     "output_type": "stream",
     "text": [
      "Propagating camel:  24%|██▎       | 21/89 [00:05<00:18,  3.66it/s]"
     ]
    },
    {
     "name": "stdout",
     "output_type": "stream",
     "text": [
      "Skipping frame 20 - Global MAD: 0.1546, Masked MAD: 0.1614 (threshold: 0.05)\n"
     ]
    },
    {
     "name": "stderr",
     "output_type": "stream",
     "text": [
      "Propagating camel:  25%|██▍       | 22/89 [00:05<00:18,  3.66it/s]"
     ]
    },
    {
     "name": "stdout",
     "output_type": "stream",
     "text": [
      "Skipping frame 21 - Global MAD: 0.1511, Masked MAD: 0.1576 (threshold: 0.05)\n"
     ]
    },
    {
     "name": "stderr",
     "output_type": "stream",
     "text": [
      "Propagating camel:  26%|██▌       | 23/89 [00:06<00:17,  3.67it/s]"
     ]
    },
    {
     "name": "stdout",
     "output_type": "stream",
     "text": [
      "Skipping frame 22 - Global MAD: 0.1507, Masked MAD: 0.1564 (threshold: 0.05)\n"
     ]
    },
    {
     "name": "stderr",
     "output_type": "stream",
     "text": [
      "Propagating camel:  27%|██▋       | 24/89 [00:06<00:17,  3.67it/s]"
     ]
    },
    {
     "name": "stdout",
     "output_type": "stream",
     "text": [
      "Skipping frame 23 - Global MAD: 0.1547, Masked MAD: 0.1575 (threshold: 0.05)\n"
     ]
    },
    {
     "name": "stderr",
     "output_type": "stream",
     "text": [
      "Propagating camel:  28%|██▊       | 25/89 [00:06<00:17,  3.66it/s]"
     ]
    },
    {
     "name": "stdout",
     "output_type": "stream",
     "text": [
      "Skipping frame 24 - Global MAD: 0.1564, Masked MAD: 0.1613 (threshold: 0.05)\n"
     ]
    },
    {
     "name": "stderr",
     "output_type": "stream",
     "text": [
      "Propagating camel:  29%|██▉       | 26/89 [00:06<00:17,  3.67it/s]"
     ]
    },
    {
     "name": "stdout",
     "output_type": "stream",
     "text": [
      "Skipping frame 25 - Global MAD: 0.1581, Masked MAD: 0.1672 (threshold: 0.05)\n"
     ]
    },
    {
     "name": "stderr",
     "output_type": "stream",
     "text": [
      "Propagating camel:  30%|███       | 27/89 [00:07<00:16,  3.68it/s]"
     ]
    },
    {
     "name": "stdout",
     "output_type": "stream",
     "text": [
      "Skipping frame 26 - Global MAD: 0.1613, Masked MAD: 0.1744 (threshold: 0.05)\n"
     ]
    },
    {
     "name": "stderr",
     "output_type": "stream",
     "text": [
      "Propagating camel:  31%|███▏      | 28/89 [00:07<00:16,  3.68it/s]"
     ]
    },
    {
     "name": "stdout",
     "output_type": "stream",
     "text": [
      "Skipping frame 27 - Global MAD: 0.1651, Masked MAD: 0.1787 (threshold: 0.05)\n"
     ]
    },
    {
     "name": "stderr",
     "output_type": "stream",
     "text": [
      "Propagating camel:  33%|███▎      | 29/89 [00:07<00:16,  3.70it/s]"
     ]
    },
    {
     "name": "stdout",
     "output_type": "stream",
     "text": [
      "Skipping frame 28 - Global MAD: 0.1672, Masked MAD: 0.1834 (threshold: 0.05)\n"
     ]
    },
    {
     "name": "stderr",
     "output_type": "stream",
     "text": [
      "Propagating camel:  34%|███▎      | 30/89 [00:07<00:15,  3.70it/s]"
     ]
    },
    {
     "name": "stdout",
     "output_type": "stream",
     "text": [
      "Skipping frame 29 - Global MAD: 0.1683, Masked MAD: 0.1886 (threshold: 0.05)\n"
     ]
    },
    {
     "name": "stderr",
     "output_type": "stream",
     "text": [
      "Propagating camel:  35%|███▍      | 31/89 [00:08<00:15,  3.69it/s]"
     ]
    },
    {
     "name": "stdout",
     "output_type": "stream",
     "text": [
      "Skipping frame 30 - Global MAD: 0.1685, Masked MAD: 0.1895 (threshold: 0.05)\n",
      "Avg FPS last 30 frames: 3.68\n"
     ]
    },
    {
     "name": "stderr",
     "output_type": "stream",
     "text": [
      "Propagating camel:  36%|███▌      | 32/89 [00:08<00:15,  3.68it/s]"
     ]
    },
    {
     "name": "stdout",
     "output_type": "stream",
     "text": [
      "Skipping frame 31 - Global MAD: 0.1682, Masked MAD: 0.1855 (threshold: 0.05)\n"
     ]
    },
    {
     "name": "stderr",
     "output_type": "stream",
     "text": [
      "Propagating camel:  37%|███▋      | 33/89 [00:08<00:15,  3.70it/s]"
     ]
    },
    {
     "name": "stdout",
     "output_type": "stream",
     "text": [
      "Skipping frame 32 - Global MAD: 0.1668, Masked MAD: 0.1815 (threshold: 0.05)\n"
     ]
    },
    {
     "name": "stderr",
     "output_type": "stream",
     "text": [
      "Propagating camel:  38%|███▊      | 34/89 [00:08<00:14,  3.68it/s]"
     ]
    },
    {
     "name": "stdout",
     "output_type": "stream",
     "text": [
      "Skipping frame 33 - Global MAD: 0.1667, Masked MAD: 0.1812 (threshold: 0.05)\n"
     ]
    },
    {
     "name": "stderr",
     "output_type": "stream",
     "text": [
      "Propagating camel:  39%|███▉      | 35/89 [00:09<00:14,  3.68it/s]"
     ]
    },
    {
     "name": "stdout",
     "output_type": "stream",
     "text": [
      "Skipping frame 34 - Global MAD: 0.1679, Masked MAD: 0.1830 (threshold: 0.05)\n"
     ]
    },
    {
     "name": "stderr",
     "output_type": "stream",
     "text": [
      "Propagating camel:  40%|████      | 36/89 [00:09<00:14,  3.63it/s]"
     ]
    },
    {
     "name": "stdout",
     "output_type": "stream",
     "text": [
      "Skipping frame 35 - Global MAD: 0.1712, Masked MAD: 0.1847 (threshold: 0.05)\n"
     ]
    },
    {
     "name": "stderr",
     "output_type": "stream",
     "text": [
      "Propagating camel:  42%|████▏     | 37/89 [00:09<00:14,  3.62it/s]"
     ]
    },
    {
     "name": "stdout",
     "output_type": "stream",
     "text": [
      "Skipping frame 36 - Global MAD: 0.1735, Masked MAD: 0.1857 (threshold: 0.05)\n"
     ]
    },
    {
     "name": "stderr",
     "output_type": "stream",
     "text": [
      "Propagating camel:  43%|████▎     | 38/89 [00:10<00:14,  3.64it/s]"
     ]
    },
    {
     "name": "stdout",
     "output_type": "stream",
     "text": [
      "Skipping frame 37 - Global MAD: 0.1738, Masked MAD: 0.1873 (threshold: 0.05)\n"
     ]
    },
    {
     "name": "stderr",
     "output_type": "stream",
     "text": [
      "Propagating camel:  44%|████▍     | 39/89 [00:10<00:13,  3.67it/s]"
     ]
    },
    {
     "name": "stdout",
     "output_type": "stream",
     "text": [
      "Skipping frame 38 - Global MAD: 0.1747, Masked MAD: 0.1892 (threshold: 0.05)\n"
     ]
    },
    {
     "name": "stderr",
     "output_type": "stream",
     "text": [
      "Propagating camel:  45%|████▍     | 40/89 [00:10<00:13,  3.68it/s]"
     ]
    },
    {
     "name": "stdout",
     "output_type": "stream",
     "text": [
      "Skipping frame 39 - Global MAD: 0.1761, Masked MAD: 0.1919 (threshold: 0.05)\n"
     ]
    },
    {
     "name": "stderr",
     "output_type": "stream",
     "text": [
      "Propagating camel:  46%|████▌     | 41/89 [00:10<00:12,  3.70it/s]"
     ]
    },
    {
     "name": "stdout",
     "output_type": "stream",
     "text": [
      "Skipping frame 40 - Global MAD: 0.1774, Masked MAD: 0.1947 (threshold: 0.05)\n"
     ]
    },
    {
     "name": "stderr",
     "output_type": "stream",
     "text": [
      "Propagating camel:  47%|████▋     | 42/89 [00:11<00:12,  3.69it/s]"
     ]
    },
    {
     "name": "stdout",
     "output_type": "stream",
     "text": [
      "Skipping frame 41 - Global MAD: 0.1783, Masked MAD: 0.1973 (threshold: 0.05)\n"
     ]
    },
    {
     "name": "stderr",
     "output_type": "stream",
     "text": [
      "Propagating camel:  48%|████▊     | 43/89 [00:11<00:12,  3.68it/s]"
     ]
    },
    {
     "name": "stdout",
     "output_type": "stream",
     "text": [
      "Skipping frame 42 - Global MAD: 0.1790, Masked MAD: 0.1995 (threshold: 0.05)\n"
     ]
    },
    {
     "name": "stderr",
     "output_type": "stream",
     "text": [
      "Propagating camel:  49%|████▉     | 44/89 [00:11<00:12,  3.70it/s]"
     ]
    },
    {
     "name": "stdout",
     "output_type": "stream",
     "text": [
      "Skipping frame 43 - Global MAD: 0.1796, Masked MAD: 0.2008 (threshold: 0.05)\n"
     ]
    },
    {
     "name": "stderr",
     "output_type": "stream",
     "text": [
      "Propagating camel:  51%|█████     | 45/89 [00:11<00:11,  3.71it/s]"
     ]
    },
    {
     "name": "stdout",
     "output_type": "stream",
     "text": [
      "Skipping frame 44 - Global MAD: 0.1808, Masked MAD: 0.2017 (threshold: 0.05)\n"
     ]
    },
    {
     "name": "stderr",
     "output_type": "stream",
     "text": [
      "Propagating camel:  52%|█████▏    | 46/89 [00:12<00:11,  3.70it/s]"
     ]
    },
    {
     "name": "stdout",
     "output_type": "stream",
     "text": [
      "Skipping frame 45 - Global MAD: 0.1826, Masked MAD: 0.2037 (threshold: 0.05)\n"
     ]
    },
    {
     "name": "stderr",
     "output_type": "stream",
     "text": [
      "Propagating camel:  53%|█████▎    | 47/89 [00:12<00:11,  3.71it/s]"
     ]
    },
    {
     "name": "stdout",
     "output_type": "stream",
     "text": [
      "Skipping frame 46 - Global MAD: 0.1836, Masked MAD: 0.2058 (threshold: 0.05)\n"
     ]
    },
    {
     "name": "stderr",
     "output_type": "stream",
     "text": [
      "Propagating camel:  54%|█████▍    | 48/89 [00:12<00:11,  3.72it/s]"
     ]
    },
    {
     "name": "stdout",
     "output_type": "stream",
     "text": [
      "Skipping frame 47 - Global MAD: 0.1845, Masked MAD: 0.2074 (threshold: 0.05)\n"
     ]
    },
    {
     "name": "stderr",
     "output_type": "stream",
     "text": [
      "Propagating camel:  55%|█████▌    | 49/89 [00:13<00:10,  3.71it/s]"
     ]
    },
    {
     "name": "stdout",
     "output_type": "stream",
     "text": [
      "Skipping frame 48 - Global MAD: 0.1850, Masked MAD: 0.2089 (threshold: 0.05)\n"
     ]
    },
    {
     "name": "stderr",
     "output_type": "stream",
     "text": [
      "Propagating camel:  56%|█████▌    | 50/89 [00:13<00:10,  3.71it/s]"
     ]
    },
    {
     "name": "stdout",
     "output_type": "stream",
     "text": [
      "Skipping frame 49 - Global MAD: 0.1853, Masked MAD: 0.2096 (threshold: 0.05)\n"
     ]
    },
    {
     "name": "stderr",
     "output_type": "stream",
     "text": [
      "Propagating camel:  57%|█████▋    | 51/89 [00:13<00:10,  3.71it/s]"
     ]
    },
    {
     "name": "stdout",
     "output_type": "stream",
     "text": [
      "Skipping frame 50 - Global MAD: 0.1867, Masked MAD: 0.2113 (threshold: 0.05)\n"
     ]
    },
    {
     "name": "stderr",
     "output_type": "stream",
     "text": [
      "Propagating camel:  58%|█████▊    | 52/89 [00:13<00:09,  3.70it/s]"
     ]
    },
    {
     "name": "stdout",
     "output_type": "stream",
     "text": [
      "Skipping frame 51 - Global MAD: 0.1874, Masked MAD: 0.2109 (threshold: 0.05)\n"
     ]
    },
    {
     "name": "stderr",
     "output_type": "stream",
     "text": [
      "Propagating camel:  60%|█████▉    | 53/89 [00:14<00:09,  3.70it/s]"
     ]
    },
    {
     "name": "stdout",
     "output_type": "stream",
     "text": [
      "Skipping frame 52 - Global MAD: 0.1886, Masked MAD: 0.2100 (threshold: 0.05)\n"
     ]
    },
    {
     "name": "stderr",
     "output_type": "stream",
     "text": [
      "Propagating camel:  61%|██████    | 54/89 [00:14<00:09,  3.69it/s]"
     ]
    },
    {
     "name": "stdout",
     "output_type": "stream",
     "text": [
      "Skipping frame 53 - Global MAD: 0.1903, Masked MAD: 0.2113 (threshold: 0.05)\n"
     ]
    },
    {
     "name": "stderr",
     "output_type": "stream",
     "text": [
      "Propagating camel:  62%|██████▏   | 55/89 [00:14<00:09,  3.70it/s]"
     ]
    },
    {
     "name": "stdout",
     "output_type": "stream",
     "text": [
      "Skipping frame 54 - Global MAD: 0.1909, Masked MAD: 0.2111 (threshold: 0.05)\n"
     ]
    },
    {
     "name": "stderr",
     "output_type": "stream",
     "text": [
      "Propagating camel:  63%|██████▎   | 56/89 [00:14<00:08,  3.70it/s]"
     ]
    },
    {
     "name": "stdout",
     "output_type": "stream",
     "text": [
      "Skipping frame 55 - Global MAD: 0.1915, Masked MAD: 0.2111 (threshold: 0.05)\n"
     ]
    },
    {
     "name": "stderr",
     "output_type": "stream",
     "text": [
      "Propagating camel:  64%|██████▍   | 57/89 [00:15<00:08,  3.69it/s]"
     ]
    },
    {
     "name": "stdout",
     "output_type": "stream",
     "text": [
      "Skipping frame 56 - Global MAD: 0.1909, Masked MAD: 0.2109 (threshold: 0.05)\n"
     ]
    },
    {
     "name": "stderr",
     "output_type": "stream",
     "text": [
      "Propagating camel:  65%|██████▌   | 58/89 [00:15<00:08,  3.68it/s]"
     ]
    },
    {
     "name": "stdout",
     "output_type": "stream",
     "text": [
      "Skipping frame 57 - Global MAD: 0.1924, Masked MAD: 0.2115 (threshold: 0.05)\n"
     ]
    },
    {
     "name": "stderr",
     "output_type": "stream",
     "text": [
      "Propagating camel:  66%|██████▋   | 59/89 [00:15<00:08,  3.68it/s]"
     ]
    },
    {
     "name": "stdout",
     "output_type": "stream",
     "text": [
      "Skipping frame 58 - Global MAD: 0.1951, Masked MAD: 0.2133 (threshold: 0.05)\n"
     ]
    },
    {
     "name": "stderr",
     "output_type": "stream",
     "text": [
      "Propagating camel:  67%|██████▋   | 60/89 [00:16<00:07,  3.67it/s]"
     ]
    },
    {
     "name": "stdout",
     "output_type": "stream",
     "text": [
      "Skipping frame 59 - Global MAD: 0.1981, Masked MAD: 0.2162 (threshold: 0.05)\n"
     ]
    },
    {
     "name": "stderr",
     "output_type": "stream",
     "text": [
      "Propagating camel:  69%|██████▊   | 61/89 [00:16<00:07,  3.66it/s]"
     ]
    },
    {
     "name": "stdout",
     "output_type": "stream",
     "text": [
      "Skipping frame 60 - Global MAD: 0.2002, Masked MAD: 0.2195 (threshold: 0.05)\n",
      "Avg FPS last 30 frames: 3.68\n"
     ]
    },
    {
     "name": "stderr",
     "output_type": "stream",
     "text": [
      "Propagating camel:  70%|██████▉   | 62/89 [00:16<00:07,  3.66it/s]"
     ]
    },
    {
     "name": "stdout",
     "output_type": "stream",
     "text": [
      "Skipping frame 61 - Global MAD: 0.2009, Masked MAD: 0.2219 (threshold: 0.05)\n"
     ]
    },
    {
     "name": "stderr",
     "output_type": "stream",
     "text": [
      "Propagating camel:  71%|███████   | 63/89 [00:16<00:07,  3.66it/s]"
     ]
    },
    {
     "name": "stdout",
     "output_type": "stream",
     "text": [
      "Skipping frame 62 - Global MAD: 0.2012, Masked MAD: 0.2236 (threshold: 0.05)\n"
     ]
    },
    {
     "name": "stderr",
     "output_type": "stream",
     "text": [
      "Propagating camel:  72%|███████▏  | 64/89 [00:17<00:06,  3.67it/s]"
     ]
    },
    {
     "name": "stdout",
     "output_type": "stream",
     "text": [
      "Skipping frame 63 - Global MAD: 0.2014, Masked MAD: 0.2241 (threshold: 0.05)\n"
     ]
    },
    {
     "name": "stderr",
     "output_type": "stream",
     "text": [
      "Propagating camel:  73%|███████▎  | 65/89 [00:17<00:06,  3.67it/s]"
     ]
    },
    {
     "name": "stdout",
     "output_type": "stream",
     "text": [
      "Skipping frame 64 - Global MAD: 0.2013, Masked MAD: 0.2234 (threshold: 0.05)\n"
     ]
    },
    {
     "name": "stderr",
     "output_type": "stream",
     "text": [
      "Propagating camel:  74%|███████▍  | 66/89 [00:17<00:06,  3.68it/s]"
     ]
    },
    {
     "name": "stdout",
     "output_type": "stream",
     "text": [
      "Skipping frame 65 - Global MAD: 0.2014, Masked MAD: 0.2233 (threshold: 0.05)\n"
     ]
    },
    {
     "name": "stderr",
     "output_type": "stream",
     "text": [
      "Propagating camel:  75%|███████▌  | 67/89 [00:17<00:05,  3.67it/s]"
     ]
    },
    {
     "name": "stdout",
     "output_type": "stream",
     "text": [
      "Skipping frame 66 - Global MAD: 0.2018, Masked MAD: 0.2244 (threshold: 0.05)\n"
     ]
    },
    {
     "name": "stderr",
     "output_type": "stream",
     "text": [
      "Propagating camel:  76%|███████▋  | 68/89 [00:18<00:05,  3.68it/s]"
     ]
    },
    {
     "name": "stdout",
     "output_type": "stream",
     "text": [
      "Skipping frame 67 - Global MAD: 0.2012, Masked MAD: 0.2255 (threshold: 0.05)\n"
     ]
    },
    {
     "name": "stderr",
     "output_type": "stream",
     "text": [
      "Propagating camel:  78%|███████▊  | 69/89 [00:18<00:05,  3.69it/s]"
     ]
    },
    {
     "name": "stdout",
     "output_type": "stream",
     "text": [
      "Skipping frame 68 - Global MAD: 0.2011, Masked MAD: 0.2261 (threshold: 0.05)\n"
     ]
    },
    {
     "name": "stderr",
     "output_type": "stream",
     "text": [
      "Propagating camel:  79%|███████▊  | 70/89 [00:18<00:05,  3.69it/s]"
     ]
    },
    {
     "name": "stdout",
     "output_type": "stream",
     "text": [
      "Skipping frame 69 - Global MAD: 0.2018, Masked MAD: 0.2276 (threshold: 0.05)\n"
     ]
    },
    {
     "name": "stderr",
     "output_type": "stream",
     "text": [
      "Propagating camel:  80%|███████▉  | 71/89 [00:19<00:04,  3.69it/s]"
     ]
    },
    {
     "name": "stdout",
     "output_type": "stream",
     "text": [
      "Skipping frame 70 - Global MAD: 0.2022, Masked MAD: 0.2283 (threshold: 0.05)\n"
     ]
    },
    {
     "name": "stderr",
     "output_type": "stream",
     "text": [
      "Propagating camel:  81%|████████  | 72/89 [00:19<00:04,  3.69it/s]"
     ]
    },
    {
     "name": "stdout",
     "output_type": "stream",
     "text": [
      "Skipping frame 71 - Global MAD: 0.2018, Masked MAD: 0.2273 (threshold: 0.05)\n"
     ]
    },
    {
     "name": "stderr",
     "output_type": "stream",
     "text": [
      "Propagating camel:  82%|████████▏ | 73/89 [00:19<00:04,  3.69it/s]"
     ]
    },
    {
     "name": "stdout",
     "output_type": "stream",
     "text": [
      "Skipping frame 72 - Global MAD: 0.2014, Masked MAD: 0.2262 (threshold: 0.05)\n"
     ]
    },
    {
     "name": "stderr",
     "output_type": "stream",
     "text": [
      "Propagating camel:  83%|████████▎ | 74/89 [00:19<00:04,  3.69it/s]"
     ]
    },
    {
     "name": "stdout",
     "output_type": "stream",
     "text": [
      "Skipping frame 73 - Global MAD: 0.2007, Masked MAD: 0.2256 (threshold: 0.05)\n"
     ]
    },
    {
     "name": "stderr",
     "output_type": "stream",
     "text": [
      "Propagating camel:  84%|████████▍ | 75/89 [00:20<00:03,  3.69it/s]"
     ]
    },
    {
     "name": "stdout",
     "output_type": "stream",
     "text": [
      "Skipping frame 74 - Global MAD: 0.2001, Masked MAD: 0.2239 (threshold: 0.05)\n"
     ]
    },
    {
     "name": "stderr",
     "output_type": "stream",
     "text": [
      "Propagating camel:  85%|████████▌ | 76/89 [00:20<00:03,  3.69it/s]"
     ]
    },
    {
     "name": "stdout",
     "output_type": "stream",
     "text": [
      "Skipping frame 75 - Global MAD: 0.1999, Masked MAD: 0.2223 (threshold: 0.05)\n"
     ]
    },
    {
     "name": "stderr",
     "output_type": "stream",
     "text": [
      "Propagating camel:  87%|████████▋ | 77/89 [00:20<00:03,  3.69it/s]"
     ]
    },
    {
     "name": "stdout",
     "output_type": "stream",
     "text": [
      "Skipping frame 76 - Global MAD: 0.1996, Masked MAD: 0.2212 (threshold: 0.05)\n"
     ]
    },
    {
     "name": "stderr",
     "output_type": "stream",
     "text": [
      "Propagating camel:  88%|████████▊ | 78/89 [00:20<00:02,  3.70it/s]"
     ]
    },
    {
     "name": "stdout",
     "output_type": "stream",
     "text": [
      "Skipping frame 77 - Global MAD: 0.1995, Masked MAD: 0.2203 (threshold: 0.05)\n"
     ]
    },
    {
     "name": "stderr",
     "output_type": "stream",
     "text": [
      "Propagating camel:  89%|████████▉ | 79/89 [00:21<00:02,  3.70it/s]"
     ]
    },
    {
     "name": "stdout",
     "output_type": "stream",
     "text": [
      "Skipping frame 78 - Global MAD: 0.1999, Masked MAD: 0.2204 (threshold: 0.05)\n"
     ]
    },
    {
     "name": "stderr",
     "output_type": "stream",
     "text": [
      "Propagating camel:  90%|████████▉ | 80/89 [00:21<00:02,  3.69it/s]"
     ]
    },
    {
     "name": "stdout",
     "output_type": "stream",
     "text": [
      "Skipping frame 79 - Global MAD: 0.2000, Masked MAD: 0.2219 (threshold: 0.05)\n"
     ]
    },
    {
     "name": "stderr",
     "output_type": "stream",
     "text": [
      "Propagating camel:  91%|█████████ | 81/89 [00:21<00:02,  3.69it/s]"
     ]
    },
    {
     "name": "stdout",
     "output_type": "stream",
     "text": [
      "Skipping frame 80 - Global MAD: 0.2002, Masked MAD: 0.2235 (threshold: 0.05)\n"
     ]
    },
    {
     "name": "stderr",
     "output_type": "stream",
     "text": [
      "Propagating camel:  92%|█████████▏| 82/89 [00:22<00:01,  3.69it/s]"
     ]
    },
    {
     "name": "stdout",
     "output_type": "stream",
     "text": [
      "Skipping frame 81 - Global MAD: 0.2002, Masked MAD: 0.2250 (threshold: 0.05)\n"
     ]
    },
    {
     "name": "stderr",
     "output_type": "stream",
     "text": [
      "Propagating camel:  93%|█████████▎| 83/89 [00:22<00:01,  3.69it/s]"
     ]
    },
    {
     "name": "stdout",
     "output_type": "stream",
     "text": [
      "Skipping frame 82 - Global MAD: 0.2003, Masked MAD: 0.2263 (threshold: 0.05)\n"
     ]
    },
    {
     "name": "stderr",
     "output_type": "stream",
     "text": [
      "Propagating camel:  94%|█████████▍| 84/89 [00:22<00:01,  3.70it/s]"
     ]
    },
    {
     "name": "stdout",
     "output_type": "stream",
     "text": [
      "Skipping frame 83 - Global MAD: 0.2012, Masked MAD: 0.2274 (threshold: 0.05)\n"
     ]
    },
    {
     "name": "stderr",
     "output_type": "stream",
     "text": [
      "Propagating camel:  96%|█████████▌| 85/89 [00:22<00:01,  3.69it/s]"
     ]
    },
    {
     "name": "stdout",
     "output_type": "stream",
     "text": [
      "Skipping frame 84 - Global MAD: 0.2021, Masked MAD: 0.2279 (threshold: 0.05)\n"
     ]
    },
    {
     "name": "stderr",
     "output_type": "stream",
     "text": [
      "Propagating camel:  97%|█████████▋| 86/89 [00:23<00:00,  3.69it/s]"
     ]
    },
    {
     "name": "stdout",
     "output_type": "stream",
     "text": [
      "Skipping frame 85 - Global MAD: 0.2022, Masked MAD: 0.2288 (threshold: 0.05)\n"
     ]
    },
    {
     "name": "stderr",
     "output_type": "stream",
     "text": [
      "Propagating camel:  98%|█████████▊| 87/89 [00:23<00:00,  3.69it/s]"
     ]
    },
    {
     "name": "stdout",
     "output_type": "stream",
     "text": [
      "Skipping frame 86 - Global MAD: 0.2024, Masked MAD: 0.2296 (threshold: 0.05)\n"
     ]
    },
    {
     "name": "stderr",
     "output_type": "stream",
     "text": [
      "Propagating camel:  99%|█████████▉| 88/89 [00:23<00:00,  3.69it/s]"
     ]
    },
    {
     "name": "stdout",
     "output_type": "stream",
     "text": [
      "Skipping frame 87 - Global MAD: 0.2026, Masked MAD: 0.2301 (threshold: 0.05)\n"
     ]
    },
    {
     "name": "stderr",
     "output_type": "stream",
     "text": [
      "Propagating camel: 100%|██████████| 89/89 [00:23<00:00,  3.69it/s]"
     ]
    },
    {
     "name": "stdout",
     "output_type": "stream",
     "text": [
      "Skipping frame 88 - Global MAD: 0.2023, Masked MAD: 0.2302 (threshold: 0.05)\n"
     ]
    },
    {
     "name": "stderr",
     "output_type": "stream",
     "text": [
      "propagate in video: 100%|██████████| 90/90 [00:24<00:00,  3.72it/s]\n",
      "Propagating camel: 90it [00:24,  3.72it/s]\n"
     ]
    },
    {
     "name": "stdout",
     "output_type": "stream",
     "text": [
      "Skipping frame 89 - Global MAD: 0.2019, Masked MAD: 0.2296 (threshold: 0.05)\n",
      "Skipped 89 frames due to low MAD.\n",
      "→ Saved all predicted masks for camel in data/DAVIS2017_mgfs_naive/camel\n",
      "\n",
      "=== Processing sequence: car-roundabout ===\n"
     ]
    },
    {
     "name": "stderr",
     "output_type": "stream",
     "text": [
      "frame loading (JPEG): 100%|██████████| 75/75 [00:01<00:00, 50.21it/s]\n"
     ]
    },
    {
     "name": "stdout",
     "output_type": "stream",
     "text": [
      "Found 1 unique non‐black colors in car-roundabout/00000.png\n"
     ]
    },
    {
     "name": "stderr",
     "output_type": "stream",
     "text": [
      "Propagating car-roundabout:   3%|▎         | 2/74 [00:00<00:10,  6.95it/s]"
     ]
    },
    {
     "name": "stdout",
     "output_type": "stream",
     "text": [
      "Skipping frame 1 - Global MAD: 0.1006, Masked MAD: 0.0723 (threshold: 0.05)\n"
     ]
    },
    {
     "name": "stderr",
     "output_type": "stream",
     "text": [
      "Propagating car-roundabout:   4%|▍         | 3/74 [00:00<00:13,  5.08it/s]"
     ]
    },
    {
     "name": "stdout",
     "output_type": "stream",
     "text": [
      "Skipping frame 2 - Global MAD: 0.1256, Masked MAD: 0.0959 (threshold: 0.05)\n"
     ]
    },
    {
     "name": "stderr",
     "output_type": "stream",
     "text": [
      "Propagating car-roundabout:   5%|▌         | 4/74 [00:00<00:15,  4.42it/s]"
     ]
    },
    {
     "name": "stdout",
     "output_type": "stream",
     "text": [
      "Skipping frame 3 - Global MAD: 0.1416, Masked MAD: 0.1114 (threshold: 0.05)\n"
     ]
    },
    {
     "name": "stderr",
     "output_type": "stream",
     "text": [
      "Propagating car-roundabout:   7%|▋         | 5/74 [00:01<00:16,  4.15it/s]"
     ]
    },
    {
     "name": "stdout",
     "output_type": "stream",
     "text": [
      "Skipping frame 4 - Global MAD: 0.1527, Masked MAD: 0.1196 (threshold: 0.05)\n"
     ]
    },
    {
     "name": "stderr",
     "output_type": "stream",
     "text": [
      "Propagating car-roundabout:   8%|▊         | 6/74 [00:01<00:16,  4.00it/s]"
     ]
    },
    {
     "name": "stdout",
     "output_type": "stream",
     "text": [
      "Skipping frame 5 - Global MAD: 0.1587, Masked MAD: 0.1269 (threshold: 0.05)\n"
     ]
    },
    {
     "name": "stderr",
     "output_type": "stream",
     "text": [
      "Propagating car-roundabout:   9%|▉         | 7/74 [00:01<00:17,  3.90it/s]"
     ]
    },
    {
     "name": "stdout",
     "output_type": "stream",
     "text": [
      "Skipping frame 6 - Global MAD: 0.1605, Masked MAD: 0.1298 (threshold: 0.05)\n"
     ]
    },
    {
     "name": "stderr",
     "output_type": "stream",
     "text": [
      "Propagating car-roundabout:  11%|█         | 8/74 [00:01<00:17,  3.85it/s]"
     ]
    },
    {
     "name": "stdout",
     "output_type": "stream",
     "text": [
      "Skipping frame 7 - Global MAD: 0.1591, Masked MAD: 0.1280 (threshold: 0.05)\n"
     ]
    },
    {
     "name": "stderr",
     "output_type": "stream",
     "text": [
      "Propagating car-roundabout:  12%|█▏        | 9/74 [00:02<00:17,  3.81it/s]"
     ]
    },
    {
     "name": "stdout",
     "output_type": "stream",
     "text": [
      "Skipping frame 8 - Global MAD: 0.1560, Masked MAD: 0.1230 (threshold: 0.05)\n"
     ]
    },
    {
     "name": "stderr",
     "output_type": "stream",
     "text": [
      "Propagating car-roundabout:  14%|█▎        | 10/74 [00:02<00:16,  3.78it/s]"
     ]
    },
    {
     "name": "stdout",
     "output_type": "stream",
     "text": [
      "Skipping frame 9 - Global MAD: 0.1590, Masked MAD: 0.1207 (threshold: 0.05)\n"
     ]
    },
    {
     "name": "stderr",
     "output_type": "stream",
     "text": [
      "Propagating car-roundabout:  15%|█▍        | 11/74 [00:02<00:16,  3.76it/s]"
     ]
    },
    {
     "name": "stdout",
     "output_type": "stream",
     "text": [
      "Skipping frame 10 - Global MAD: 0.1605, Masked MAD: 0.1213 (threshold: 0.05)\n"
     ]
    },
    {
     "name": "stderr",
     "output_type": "stream",
     "text": [
      "Propagating car-roundabout:  16%|█▌        | 12/74 [00:02<00:16,  3.76it/s]"
     ]
    },
    {
     "name": "stdout",
     "output_type": "stream",
     "text": [
      "Skipping frame 11 - Global MAD: 0.1595, Masked MAD: 0.1204 (threshold: 0.05)\n"
     ]
    },
    {
     "name": "stderr",
     "output_type": "stream",
     "text": [
      "Propagating car-roundabout:  18%|█▊        | 13/74 [00:03<00:16,  3.75it/s]"
     ]
    },
    {
     "name": "stdout",
     "output_type": "stream",
     "text": [
      "Skipping frame 12 - Global MAD: 0.1614, Masked MAD: 0.1235 (threshold: 0.05)\n"
     ]
    },
    {
     "name": "stderr",
     "output_type": "stream",
     "text": [
      "Propagating car-roundabout:  19%|█▉        | 14/74 [00:03<00:16,  3.73it/s]"
     ]
    },
    {
     "name": "stdout",
     "output_type": "stream",
     "text": [
      "Skipping frame 13 - Global MAD: 0.1643, Masked MAD: 0.1266 (threshold: 0.05)\n"
     ]
    },
    {
     "name": "stderr",
     "output_type": "stream",
     "text": [
      "Propagating car-roundabout:  20%|██        | 15/74 [00:03<00:15,  3.74it/s]"
     ]
    },
    {
     "name": "stdout",
     "output_type": "stream",
     "text": [
      "Skipping frame 14 - Global MAD: 0.1653, Masked MAD: 0.1302 (threshold: 0.05)\n"
     ]
    },
    {
     "name": "stderr",
     "output_type": "stream",
     "text": [
      "Propagating car-roundabout:  22%|██▏       | 16/74 [00:04<00:15,  3.74it/s]"
     ]
    },
    {
     "name": "stdout",
     "output_type": "stream",
     "text": [
      "Skipping frame 15 - Global MAD: 0.1676, Masked MAD: 0.1338 (threshold: 0.05)\n"
     ]
    },
    {
     "name": "stderr",
     "output_type": "stream",
     "text": [
      "Propagating car-roundabout:  23%|██▎       | 17/74 [00:04<00:15,  3.75it/s]"
     ]
    },
    {
     "name": "stdout",
     "output_type": "stream",
     "text": [
      "Skipping frame 16 - Global MAD: 0.1688, Masked MAD: 0.1356 (threshold: 0.05)\n"
     ]
    },
    {
     "name": "stderr",
     "output_type": "stream",
     "text": [
      "Propagating car-roundabout:  24%|██▍       | 18/74 [00:04<00:14,  3.77it/s]"
     ]
    },
    {
     "name": "stdout",
     "output_type": "stream",
     "text": [
      "Skipping frame 17 - Global MAD: 0.1708, Masked MAD: 0.1392 (threshold: 0.05)\n"
     ]
    },
    {
     "name": "stderr",
     "output_type": "stream",
     "text": [
      "Propagating car-roundabout:  26%|██▌       | 19/74 [00:04<00:14,  3.77it/s]"
     ]
    },
    {
     "name": "stdout",
     "output_type": "stream",
     "text": [
      "Skipping frame 18 - Global MAD: 0.1778, Masked MAD: 0.1431 (threshold: 0.05)\n"
     ]
    },
    {
     "name": "stderr",
     "output_type": "stream",
     "text": [
      "Propagating car-roundabout:  27%|██▋       | 20/74 [00:05<00:14,  3.72it/s]"
     ]
    },
    {
     "name": "stdout",
     "output_type": "stream",
     "text": [
      "Skipping frame 19 - Global MAD: 0.1803, Masked MAD: 0.1479 (threshold: 0.05)\n"
     ]
    },
    {
     "name": "stderr",
     "output_type": "stream",
     "text": [
      "Propagating car-roundabout:  28%|██▊       | 21/74 [00:05<00:14,  3.74it/s]"
     ]
    },
    {
     "name": "stdout",
     "output_type": "stream",
     "text": [
      "Skipping frame 20 - Global MAD: 0.1840, Masked MAD: 0.1545 (threshold: 0.05)\n"
     ]
    },
    {
     "name": "stderr",
     "output_type": "stream",
     "text": [
      "Propagating car-roundabout:  30%|██▉       | 22/74 [00:05<00:13,  3.75it/s]"
     ]
    },
    {
     "name": "stdout",
     "output_type": "stream",
     "text": [
      "Skipping frame 21 - Global MAD: 0.1914, Masked MAD: 0.1595 (threshold: 0.05)\n"
     ]
    },
    {
     "name": "stderr",
     "output_type": "stream",
     "text": [
      "Propagating car-roundabout:  31%|███       | 23/74 [00:05<00:13,  3.76it/s]"
     ]
    },
    {
     "name": "stdout",
     "output_type": "stream",
     "text": [
      "Skipping frame 22 - Global MAD: 0.1907, Masked MAD: 0.1622 (threshold: 0.05)\n"
     ]
    },
    {
     "name": "stderr",
     "output_type": "stream",
     "text": [
      "Propagating car-roundabout:  32%|███▏      | 24/74 [00:06<00:13,  3.76it/s]"
     ]
    },
    {
     "name": "stdout",
     "output_type": "stream",
     "text": [
      "Skipping frame 23 - Global MAD: 0.1910, Masked MAD: 0.1623 (threshold: 0.05)\n"
     ]
    },
    {
     "name": "stderr",
     "output_type": "stream",
     "text": [
      "Propagating car-roundabout:  34%|███▍      | 25/74 [00:06<00:13,  3.76it/s]"
     ]
    },
    {
     "name": "stdout",
     "output_type": "stream",
     "text": [
      "Skipping frame 24 - Global MAD: 0.1910, Masked MAD: 0.1650 (threshold: 0.05)\n"
     ]
    },
    {
     "name": "stderr",
     "output_type": "stream",
     "text": [
      "Propagating car-roundabout:  35%|███▌      | 26/74 [00:06<00:12,  3.73it/s]"
     ]
    },
    {
     "name": "stdout",
     "output_type": "stream",
     "text": [
      "Skipping frame 25 - Global MAD: 0.1881, Masked MAD: 0.1662 (threshold: 0.05)\n"
     ]
    },
    {
     "name": "stderr",
     "output_type": "stream",
     "text": [
      "Propagating car-roundabout:  36%|███▋      | 27/74 [00:06<00:12,  3.73it/s]"
     ]
    },
    {
     "name": "stdout",
     "output_type": "stream",
     "text": [
      "Skipping frame 26 - Global MAD: 0.1871, Masked MAD: 0.1658 (threshold: 0.05)\n"
     ]
    },
    {
     "name": "stderr",
     "output_type": "stream",
     "text": [
      "Propagating car-roundabout:  38%|███▊      | 28/74 [00:07<00:12,  3.73it/s]"
     ]
    },
    {
     "name": "stdout",
     "output_type": "stream",
     "text": [
      "Skipping frame 27 - Global MAD: 0.1875, Masked MAD: 0.1678 (threshold: 0.05)\n"
     ]
    },
    {
     "name": "stderr",
     "output_type": "stream",
     "text": [
      "Propagating car-roundabout:  39%|███▉      | 29/74 [00:07<00:12,  3.73it/s]"
     ]
    },
    {
     "name": "stdout",
     "output_type": "stream",
     "text": [
      "Skipping frame 28 - Global MAD: 0.1906, Masked MAD: 0.1691 (threshold: 0.05)\n"
     ]
    },
    {
     "name": "stderr",
     "output_type": "stream",
     "text": [
      "Propagating car-roundabout:  41%|████      | 30/74 [00:07<00:11,  3.73it/s]"
     ]
    },
    {
     "name": "stdout",
     "output_type": "stream",
     "text": [
      "Skipping frame 29 - Global MAD: 0.1967, Masked MAD: 0.1719 (threshold: 0.05)\n"
     ]
    },
    {
     "name": "stderr",
     "output_type": "stream",
     "text": [
      "Propagating car-roundabout:  42%|████▏     | 31/74 [00:08<00:11,  3.72it/s]"
     ]
    },
    {
     "name": "stdout",
     "output_type": "stream",
     "text": [
      "Skipping frame 30 - Global MAD: 0.2003, Masked MAD: 0.1740 (threshold: 0.05)\n",
      "Avg FPS last 30 frames: 3.73\n"
     ]
    },
    {
     "name": "stderr",
     "output_type": "stream",
     "text": [
      "Propagating car-roundabout:  43%|████▎     | 32/74 [00:08<00:11,  3.70it/s]"
     ]
    },
    {
     "name": "stdout",
     "output_type": "stream",
     "text": [
      "Skipping frame 31 - Global MAD: 0.2012, Masked MAD: 0.1758 (threshold: 0.05)\n"
     ]
    },
    {
     "name": "stderr",
     "output_type": "stream",
     "text": [
      "Propagating car-roundabout:  45%|████▍     | 33/74 [00:08<00:11,  3.70it/s]"
     ]
    },
    {
     "name": "stdout",
     "output_type": "stream",
     "text": [
      "Skipping frame 32 - Global MAD: 0.2047, Masked MAD: 0.1793 (threshold: 0.05)\n"
     ]
    },
    {
     "name": "stderr",
     "output_type": "stream",
     "text": [
      "Propagating car-roundabout:  46%|████▌     | 34/74 [00:08<00:10,  3.70it/s]"
     ]
    },
    {
     "name": "stdout",
     "output_type": "stream",
     "text": [
      "Skipping frame 33 - Global MAD: 0.2113, Masked MAD: 0.1863 (threshold: 0.05)\n"
     ]
    },
    {
     "name": "stderr",
     "output_type": "stream",
     "text": [
      "Propagating car-roundabout:  47%|████▋     | 35/74 [00:09<00:10,  3.71it/s]"
     ]
    },
    {
     "name": "stdout",
     "output_type": "stream",
     "text": [
      "Skipping frame 34 - Global MAD: 0.2126, Masked MAD: 0.1923 (threshold: 0.05)\n"
     ]
    },
    {
     "name": "stderr",
     "output_type": "stream",
     "text": [
      "Propagating car-roundabout:  49%|████▊     | 36/74 [00:09<00:10,  3.71it/s]"
     ]
    },
    {
     "name": "stdout",
     "output_type": "stream",
     "text": [
      "Skipping frame 35 - Global MAD: 0.2106, Masked MAD: 0.1942 (threshold: 0.05)\n"
     ]
    },
    {
     "name": "stderr",
     "output_type": "stream",
     "text": [
      "Propagating car-roundabout:  50%|█████     | 37/74 [00:09<00:09,  3.71it/s]"
     ]
    },
    {
     "name": "stdout",
     "output_type": "stream",
     "text": [
      "Skipping frame 36 - Global MAD: 0.2083, Masked MAD: 0.1985 (threshold: 0.05)\n"
     ]
    },
    {
     "name": "stderr",
     "output_type": "stream",
     "text": [
      "Propagating car-roundabout:  51%|█████▏    | 38/74 [00:09<00:09,  3.72it/s]"
     ]
    },
    {
     "name": "stdout",
     "output_type": "stream",
     "text": [
      "Skipping frame 37 - Global MAD: 0.2089, Masked MAD: 0.2035 (threshold: 0.05)\n"
     ]
    },
    {
     "name": "stderr",
     "output_type": "stream",
     "text": [
      "Propagating car-roundabout:  53%|█████▎    | 39/74 [00:10<00:09,  3.71it/s]"
     ]
    },
    {
     "name": "stdout",
     "output_type": "stream",
     "text": [
      "Skipping frame 38 - Global MAD: 0.2084, Masked MAD: 0.2089 (threshold: 0.05)\n"
     ]
    },
    {
     "name": "stderr",
     "output_type": "stream",
     "text": [
      "Propagating car-roundabout:  54%|█████▍    | 40/74 [00:10<00:09,  3.71it/s]"
     ]
    },
    {
     "name": "stdout",
     "output_type": "stream",
     "text": [
      "Skipping frame 39 - Global MAD: 0.2090, Masked MAD: 0.2147 (threshold: 0.05)\n"
     ]
    },
    {
     "name": "stderr",
     "output_type": "stream",
     "text": [
      "Propagating car-roundabout:  55%|█████▌    | 41/74 [00:10<00:08,  3.72it/s]"
     ]
    },
    {
     "name": "stdout",
     "output_type": "stream",
     "text": [
      "Skipping frame 40 - Global MAD: 0.2104, Masked MAD: 0.2180 (threshold: 0.05)\n"
     ]
    },
    {
     "name": "stderr",
     "output_type": "stream",
     "text": [
      "Propagating car-roundabout:  57%|█████▋    | 42/74 [00:11<00:08,  3.72it/s]"
     ]
    },
    {
     "name": "stdout",
     "output_type": "stream",
     "text": [
      "Skipping frame 41 - Global MAD: 0.2121, Masked MAD: 0.2232 (threshold: 0.05)\n"
     ]
    },
    {
     "name": "stderr",
     "output_type": "stream",
     "text": [
      "Propagating car-roundabout:  58%|█████▊    | 43/74 [00:11<00:08,  3.72it/s]"
     ]
    },
    {
     "name": "stdout",
     "output_type": "stream",
     "text": [
      "Skipping frame 42 - Global MAD: 0.2134, Masked MAD: 0.2267 (threshold: 0.05)\n"
     ]
    },
    {
     "name": "stderr",
     "output_type": "stream",
     "text": [
      "Propagating car-roundabout:  59%|█████▉    | 44/74 [00:11<00:08,  3.72it/s]"
     ]
    },
    {
     "name": "stdout",
     "output_type": "stream",
     "text": [
      "Skipping frame 43 - Global MAD: 0.2158, Masked MAD: 0.2311 (threshold: 0.05)\n"
     ]
    },
    {
     "name": "stderr",
     "output_type": "stream",
     "text": [
      "Propagating car-roundabout:  61%|██████    | 45/74 [00:11<00:07,  3.73it/s]"
     ]
    },
    {
     "name": "stdout",
     "output_type": "stream",
     "text": [
      "Skipping frame 44 - Global MAD: 0.2171, Masked MAD: 0.2340 (threshold: 0.05)\n"
     ]
    },
    {
     "name": "stderr",
     "output_type": "stream",
     "text": [
      "Propagating car-roundabout:  62%|██████▏   | 46/74 [00:12<00:07,  3.72it/s]"
     ]
    },
    {
     "name": "stdout",
     "output_type": "stream",
     "text": [
      "Skipping frame 45 - Global MAD: 0.2135, Masked MAD: 0.2351 (threshold: 0.05)\n"
     ]
    },
    {
     "name": "stderr",
     "output_type": "stream",
     "text": [
      "Propagating car-roundabout:  64%|██████▎   | 47/74 [00:12<00:07,  3.71it/s]"
     ]
    },
    {
     "name": "stdout",
     "output_type": "stream",
     "text": [
      "Skipping frame 46 - Global MAD: 0.2134, Masked MAD: 0.2381 (threshold: 0.05)\n"
     ]
    },
    {
     "name": "stderr",
     "output_type": "stream",
     "text": [
      "Propagating car-roundabout:  65%|██████▍   | 48/74 [00:12<00:06,  3.72it/s]"
     ]
    },
    {
     "name": "stdout",
     "output_type": "stream",
     "text": [
      "Skipping frame 47 - Global MAD: 0.2159, Masked MAD: 0.2399 (threshold: 0.05)\n"
     ]
    },
    {
     "name": "stderr",
     "output_type": "stream",
     "text": [
      "Propagating car-roundabout:  66%|██████▌   | 49/74 [00:12<00:06,  3.72it/s]"
     ]
    },
    {
     "name": "stdout",
     "output_type": "stream",
     "text": [
      "Skipping frame 48 - Global MAD: 0.2165, Masked MAD: 0.2407 (threshold: 0.05)\n"
     ]
    },
    {
     "name": "stderr",
     "output_type": "stream",
     "text": [
      "Propagating car-roundabout:  68%|██████▊   | 50/74 [00:13<00:06,  3.70it/s]"
     ]
    },
    {
     "name": "stdout",
     "output_type": "stream",
     "text": [
      "Skipping frame 49 - Global MAD: 0.2144, Masked MAD: 0.2405 (threshold: 0.05)\n"
     ]
    },
    {
     "name": "stderr",
     "output_type": "stream",
     "text": [
      "Propagating car-roundabout:  69%|██████▉   | 51/74 [00:13<00:06,  3.71it/s]"
     ]
    },
    {
     "name": "stdout",
     "output_type": "stream",
     "text": [
      "Skipping frame 50 - Global MAD: 0.2148, Masked MAD: 0.2407 (threshold: 0.05)\n"
     ]
    },
    {
     "name": "stderr",
     "output_type": "stream",
     "text": [
      "Propagating car-roundabout:  70%|███████   | 52/74 [00:13<00:05,  3.69it/s]"
     ]
    },
    {
     "name": "stdout",
     "output_type": "stream",
     "text": [
      "Skipping frame 51 - Global MAD: 0.2147, Masked MAD: 0.2421 (threshold: 0.05)\n"
     ]
    },
    {
     "name": "stderr",
     "output_type": "stream",
     "text": [
      "Propagating car-roundabout:  72%|███████▏  | 53/74 [00:13<00:05,  3.70it/s]"
     ]
    },
    {
     "name": "stdout",
     "output_type": "stream",
     "text": [
      "Skipping frame 52 - Global MAD: 0.2121, Masked MAD: 0.2435 (threshold: 0.05)\n"
     ]
    },
    {
     "name": "stderr",
     "output_type": "stream",
     "text": [
      "Propagating car-roundabout:  73%|███████▎  | 54/74 [00:14<00:05,  3.69it/s]"
     ]
    },
    {
     "name": "stdout",
     "output_type": "stream",
     "text": [
      "Skipping frame 53 - Global MAD: 0.2125, Masked MAD: 0.2444 (threshold: 0.05)\n"
     ]
    },
    {
     "name": "stderr",
     "output_type": "stream",
     "text": [
      "Propagating car-roundabout:  74%|███████▍  | 55/74 [00:14<00:05,  3.70it/s]"
     ]
    },
    {
     "name": "stdout",
     "output_type": "stream",
     "text": [
      "Skipping frame 54 - Global MAD: 0.2161, Masked MAD: 0.2465 (threshold: 0.05)\n"
     ]
    },
    {
     "name": "stderr",
     "output_type": "stream",
     "text": [
      "Propagating car-roundabout:  76%|███████▌  | 56/74 [00:14<00:04,  3.70it/s]"
     ]
    },
    {
     "name": "stdout",
     "output_type": "stream",
     "text": [
      "Skipping frame 55 - Global MAD: 0.2181, Masked MAD: 0.2479 (threshold: 0.05)\n"
     ]
    },
    {
     "name": "stderr",
     "output_type": "stream",
     "text": [
      "Propagating car-roundabout:  77%|███████▋  | 57/74 [00:15<00:04,  3.70it/s]"
     ]
    },
    {
     "name": "stdout",
     "output_type": "stream",
     "text": [
      "Skipping frame 56 - Global MAD: 0.2208, Masked MAD: 0.2497 (threshold: 0.05)\n"
     ]
    },
    {
     "name": "stderr",
     "output_type": "stream",
     "text": [
      "Propagating car-roundabout:  78%|███████▊  | 58/74 [00:15<00:04,  3.70it/s]"
     ]
    },
    {
     "name": "stdout",
     "output_type": "stream",
     "text": [
      "Skipping frame 57 - Global MAD: 0.2232, Masked MAD: 0.2506 (threshold: 0.05)\n"
     ]
    },
    {
     "name": "stderr",
     "output_type": "stream",
     "text": [
      "Propagating car-roundabout:  80%|███████▉  | 59/74 [00:15<00:04,  3.71it/s]"
     ]
    },
    {
     "name": "stdout",
     "output_type": "stream",
     "text": [
      "Skipping frame 58 - Global MAD: 0.2228, Masked MAD: 0.2532 (threshold: 0.05)\n"
     ]
    },
    {
     "name": "stderr",
     "output_type": "stream",
     "text": [
      "Propagating car-roundabout:  81%|████████  | 60/74 [00:15<00:03,  3.70it/s]"
     ]
    },
    {
     "name": "stdout",
     "output_type": "stream",
     "text": [
      "Skipping frame 59 - Global MAD: 0.2217, Masked MAD: 0.2582 (threshold: 0.05)\n"
     ]
    },
    {
     "name": "stderr",
     "output_type": "stream",
     "text": [
      "Propagating car-roundabout:  82%|████████▏ | 61/74 [00:16<00:03,  3.71it/s]"
     ]
    },
    {
     "name": "stdout",
     "output_type": "stream",
     "text": [
      "Skipping frame 60 - Global MAD: 0.2233, Masked MAD: 0.2614 (threshold: 0.05)\n",
      "Avg FPS last 30 frames: 3.71\n"
     ]
    },
    {
     "name": "stderr",
     "output_type": "stream",
     "text": [
      "Propagating car-roundabout:  84%|████████▍ | 62/74 [00:16<00:03,  3.71it/s]"
     ]
    },
    {
     "name": "stdout",
     "output_type": "stream",
     "text": [
      "Skipping frame 61 - Global MAD: 0.2270, Masked MAD: 0.2623 (threshold: 0.05)\n"
     ]
    },
    {
     "name": "stderr",
     "output_type": "stream",
     "text": [
      "Propagating car-roundabout:  85%|████████▌ | 63/74 [00:16<00:02,  3.72it/s]"
     ]
    },
    {
     "name": "stdout",
     "output_type": "stream",
     "text": [
      "Skipping frame 62 - Global MAD: 0.2299, Masked MAD: 0.2612 (threshold: 0.05)\n"
     ]
    },
    {
     "name": "stderr",
     "output_type": "stream",
     "text": [
      "Propagating car-roundabout:  86%|████████▋ | 64/74 [00:16<00:02,  3.71it/s]"
     ]
    },
    {
     "name": "stdout",
     "output_type": "stream",
     "text": [
      "Skipping frame 63 - Global MAD: 0.2296, Masked MAD: 0.2599 (threshold: 0.05)\n"
     ]
    },
    {
     "name": "stderr",
     "output_type": "stream",
     "text": [
      "Propagating car-roundabout:  88%|████████▊ | 65/74 [00:17<00:02,  3.72it/s]"
     ]
    },
    {
     "name": "stdout",
     "output_type": "stream",
     "text": [
      "Skipping frame 64 - Global MAD: 0.2297, Masked MAD: 0.2577 (threshold: 0.05)\n"
     ]
    },
    {
     "name": "stderr",
     "output_type": "stream",
     "text": [
      "Propagating car-roundabout:  89%|████████▉ | 66/74 [00:17<00:02,  3.72it/s]"
     ]
    },
    {
     "name": "stdout",
     "output_type": "stream",
     "text": [
      "Skipping frame 65 - Global MAD: 0.2304, Masked MAD: 0.2590 (threshold: 0.05)\n"
     ]
    },
    {
     "name": "stderr",
     "output_type": "stream",
     "text": [
      "Propagating car-roundabout:  91%|█████████ | 67/74 [00:17<00:01,  3.72it/s]"
     ]
    },
    {
     "name": "stdout",
     "output_type": "stream",
     "text": [
      "Skipping frame 66 - Global MAD: 0.2294, Masked MAD: 0.2594 (threshold: 0.05)\n"
     ]
    },
    {
     "name": "stderr",
     "output_type": "stream",
     "text": [
      "Propagating car-roundabout:  92%|█████████▏| 68/74 [00:18<00:01,  3.72it/s]"
     ]
    },
    {
     "name": "stdout",
     "output_type": "stream",
     "text": [
      "Skipping frame 67 - Global MAD: 0.2271, Masked MAD: 0.2601 (threshold: 0.05)\n"
     ]
    },
    {
     "name": "stderr",
     "output_type": "stream",
     "text": [
      "Propagating car-roundabout:  93%|█████████▎| 69/74 [00:18<00:01,  3.72it/s]"
     ]
    },
    {
     "name": "stdout",
     "output_type": "stream",
     "text": [
      "Skipping frame 68 - Global MAD: 0.2285, Masked MAD: 0.2608 (threshold: 0.05)\n"
     ]
    },
    {
     "name": "stderr",
     "output_type": "stream",
     "text": [
      "Propagating car-roundabout:  95%|█████████▍| 70/74 [00:18<00:01,  3.70it/s]"
     ]
    },
    {
     "name": "stdout",
     "output_type": "stream",
     "text": [
      "Skipping frame 69 - Global MAD: 0.2318, Masked MAD: 0.2665 (threshold: 0.05)\n"
     ]
    },
    {
     "name": "stderr",
     "output_type": "stream",
     "text": [
      "Propagating car-roundabout:  96%|█████████▌| 71/74 [00:18<00:00,  3.71it/s]"
     ]
    },
    {
     "name": "stdout",
     "output_type": "stream",
     "text": [
      "Skipping frame 70 - Global MAD: 0.2312, Masked MAD: 0.2731 (threshold: 0.05)\n"
     ]
    },
    {
     "name": "stderr",
     "output_type": "stream",
     "text": [
      "Propagating car-roundabout:  97%|█████████▋| 72/74 [00:19<00:00,  3.71it/s]"
     ]
    },
    {
     "name": "stdout",
     "output_type": "stream",
     "text": [
      "Skipping frame 71 - Global MAD: 0.2332, Masked MAD: 0.2772 (threshold: 0.05)\n"
     ]
    },
    {
     "name": "stderr",
     "output_type": "stream",
     "text": [
      "Propagating car-roundabout:  99%|█████████▊| 73/74 [00:19<00:00,  3.70it/s]"
     ]
    },
    {
     "name": "stdout",
     "output_type": "stream",
     "text": [
      "Skipping frame 72 - Global MAD: 0.2339, Masked MAD: 0.2841 (threshold: 0.05)\n"
     ]
    },
    {
     "name": "stderr",
     "output_type": "stream",
     "text": [
      "Propagating car-roundabout: 100%|██████████| 74/74 [00:19<00:00,  3.72it/s]"
     ]
    },
    {
     "name": "stdout",
     "output_type": "stream",
     "text": [
      "Skipping frame 73 - Global MAD: 0.2372, Masked MAD: 0.2835 (threshold: 0.05)\n"
     ]
    },
    {
     "name": "stderr",
     "output_type": "stream",
     "text": [
      "propagate in video: 100%|██████████| 75/75 [00:19<00:00,  3.76it/s]        \n",
      "Propagating car-roundabout: 75it [00:19,  3.76it/s]\n"
     ]
    },
    {
     "name": "stdout",
     "output_type": "stream",
     "text": [
      "Skipping frame 74 - Global MAD: 0.2407, Masked MAD: 0.2823 (threshold: 0.05)\n",
      "Skipped 74 frames due to low MAD.\n",
      "→ Saved all predicted masks for car-roundabout in data/DAVIS2017_mgfs_naive/car-roundabout\n",
      "\n",
      "=== Processing sequence: car-shadow ===\n"
     ]
    },
    {
     "name": "stderr",
     "output_type": "stream",
     "text": [
      "frame loading (JPEG): 100%|██████████| 40/40 [00:00<00:00, 49.70it/s]\n"
     ]
    },
    {
     "name": "stdout",
     "output_type": "stream",
     "text": [
      "Found 1 unique non‐black colors in car-shadow/00000.png\n"
     ]
    },
    {
     "name": "stderr",
     "output_type": "stream",
     "text": [
      "Propagating car-shadow:   5%|▌         | 2/39 [00:00<00:05,  7.07it/s]"
     ]
    },
    {
     "name": "stdout",
     "output_type": "stream",
     "text": [
      "Skipping frame 1 - Global MAD: 0.0710, Masked MAD: 0.1582 (threshold: 0.05)\n"
     ]
    },
    {
     "name": "stderr",
     "output_type": "stream",
     "text": [
      "Propagating car-shadow:   8%|▊         | 3/39 [00:00<00:06,  5.17it/s]"
     ]
    },
    {
     "name": "stdout",
     "output_type": "stream",
     "text": [
      "Skipping frame 2 - Global MAD: 0.0860, Masked MAD: 0.1859 (threshold: 0.05)\n"
     ]
    },
    {
     "name": "stderr",
     "output_type": "stream",
     "text": [
      "Propagating car-shadow:  10%|█         | 4/39 [00:00<00:07,  4.53it/s]"
     ]
    },
    {
     "name": "stdout",
     "output_type": "stream",
     "text": [
      "Skipping frame 3 - Global MAD: 0.0952, Masked MAD: 0.1868 (threshold: 0.05)\n"
     ]
    },
    {
     "name": "stderr",
     "output_type": "stream",
     "text": [
      "Propagating car-shadow:  13%|█▎        | 5/39 [00:01<00:08,  4.21it/s]"
     ]
    },
    {
     "name": "stdout",
     "output_type": "stream",
     "text": [
      "Skipping frame 4 - Global MAD: 0.1001, Masked MAD: 0.2079 (threshold: 0.05)\n"
     ]
    },
    {
     "name": "stderr",
     "output_type": "stream",
     "text": [
      "Propagating car-shadow:  15%|█▌        | 6/39 [00:01<00:08,  4.04it/s]"
     ]
    },
    {
     "name": "stdout",
     "output_type": "stream",
     "text": [
      "Skipping frame 5 - Global MAD: 0.1045, Masked MAD: 0.2106 (threshold: 0.05)\n"
     ]
    },
    {
     "name": "stderr",
     "output_type": "stream",
     "text": [
      "Propagating car-shadow:  18%|█▊        | 7/39 [00:01<00:08,  3.93it/s]"
     ]
    },
    {
     "name": "stdout",
     "output_type": "stream",
     "text": [
      "Skipping frame 6 - Global MAD: 0.1084, Masked MAD: 0.2138 (threshold: 0.05)\n"
     ]
    },
    {
     "name": "stderr",
     "output_type": "stream",
     "text": [
      "Propagating car-shadow:  21%|██        | 8/39 [00:01<00:08,  3.86it/s]"
     ]
    },
    {
     "name": "stdout",
     "output_type": "stream",
     "text": [
      "Skipping frame 7 - Global MAD: 0.1131, Masked MAD: 0.2307 (threshold: 0.05)\n"
     ]
    },
    {
     "name": "stderr",
     "output_type": "stream",
     "text": [
      "Propagating car-shadow:  23%|██▎       | 9/39 [00:02<00:07,  3.83it/s]"
     ]
    },
    {
     "name": "stdout",
     "output_type": "stream",
     "text": [
      "Skipping frame 8 - Global MAD: 0.1144, Masked MAD: 0.2338 (threshold: 0.05)\n"
     ]
    },
    {
     "name": "stderr",
     "output_type": "stream",
     "text": [
      "Propagating car-shadow:  26%|██▌       | 10/39 [00:02<00:07,  3.79it/s]"
     ]
    },
    {
     "name": "stdout",
     "output_type": "stream",
     "text": [
      "Skipping frame 9 - Global MAD: 0.1177, Masked MAD: 0.2409 (threshold: 0.05)\n"
     ]
    },
    {
     "name": "stderr",
     "output_type": "stream",
     "text": [
      "Propagating car-shadow:  28%|██▊       | 11/39 [00:02<00:07,  3.78it/s]"
     ]
    },
    {
     "name": "stdout",
     "output_type": "stream",
     "text": [
      "Skipping frame 10 - Global MAD: 0.1209, Masked MAD: 0.2531 (threshold: 0.05)\n"
     ]
    },
    {
     "name": "stderr",
     "output_type": "stream",
     "text": [
      "Propagating car-shadow:  31%|███       | 12/39 [00:02<00:07,  3.76it/s]"
     ]
    },
    {
     "name": "stdout",
     "output_type": "stream",
     "text": [
      "Skipping frame 11 - Global MAD: 0.1214, Masked MAD: 0.2601 (threshold: 0.05)\n"
     ]
    },
    {
     "name": "stderr",
     "output_type": "stream",
     "text": [
      "Propagating car-shadow:  33%|███▎      | 13/39 [00:03<00:06,  3.74it/s]"
     ]
    },
    {
     "name": "stdout",
     "output_type": "stream",
     "text": [
      "Skipping frame 12 - Global MAD: 0.1229, Masked MAD: 0.2647 (threshold: 0.05)\n"
     ]
    },
    {
     "name": "stderr",
     "output_type": "stream",
     "text": [
      "Propagating car-shadow:  36%|███▌      | 14/39 [00:03<00:06,  3.73it/s]"
     ]
    },
    {
     "name": "stdout",
     "output_type": "stream",
     "text": [
      "Skipping frame 13 - Global MAD: 0.1258, Masked MAD: 0.2641 (threshold: 0.05)\n"
     ]
    },
    {
     "name": "stderr",
     "output_type": "stream",
     "text": [
      "Propagating car-shadow:  38%|███▊      | 15/39 [00:03<00:06,  3.69it/s]"
     ]
    },
    {
     "name": "stdout",
     "output_type": "stream",
     "text": [
      "Skipping frame 14 - Global MAD: 0.1278, Masked MAD: 0.2657 (threshold: 0.05)\n"
     ]
    },
    {
     "name": "stderr",
     "output_type": "stream",
     "text": [
      "Propagating car-shadow:  41%|████      | 16/39 [00:04<00:06,  3.70it/s]"
     ]
    },
    {
     "name": "stdout",
     "output_type": "stream",
     "text": [
      "Skipping frame 15 - Global MAD: 0.1315, Masked MAD: 0.2657 (threshold: 0.05)\n"
     ]
    },
    {
     "name": "stderr",
     "output_type": "stream",
     "text": [
      "Propagating car-shadow:  44%|████▎     | 17/39 [00:04<00:05,  3.71it/s]"
     ]
    },
    {
     "name": "stdout",
     "output_type": "stream",
     "text": [
      "Skipping frame 16 - Global MAD: 0.1333, Masked MAD: 0.2663 (threshold: 0.05)\n"
     ]
    },
    {
     "name": "stderr",
     "output_type": "stream",
     "text": [
      "Propagating car-shadow:  46%|████▌     | 18/39 [00:04<00:05,  3.70it/s]"
     ]
    },
    {
     "name": "stdout",
     "output_type": "stream",
     "text": [
      "Skipping frame 17 - Global MAD: 0.1377, Masked MAD: 0.2709 (threshold: 0.05)\n"
     ]
    },
    {
     "name": "stderr",
     "output_type": "stream",
     "text": [
      "Propagating car-shadow:  49%|████▊     | 19/39 [00:04<00:05,  3.71it/s]"
     ]
    },
    {
     "name": "stdout",
     "output_type": "stream",
     "text": [
      "Skipping frame 18 - Global MAD: 0.1425, Masked MAD: 0.2729 (threshold: 0.05)\n"
     ]
    },
    {
     "name": "stderr",
     "output_type": "stream",
     "text": [
      "Propagating car-shadow:  51%|█████▏    | 20/39 [00:05<00:05,  3.72it/s]"
     ]
    },
    {
     "name": "stdout",
     "output_type": "stream",
     "text": [
      "Skipping frame 19 - Global MAD: 0.1461, Masked MAD: 0.2722 (threshold: 0.05)\n"
     ]
    },
    {
     "name": "stderr",
     "output_type": "stream",
     "text": [
      "Propagating car-shadow:  54%|█████▍    | 21/39 [00:05<00:04,  3.72it/s]"
     ]
    },
    {
     "name": "stdout",
     "output_type": "stream",
     "text": [
      "Skipping frame 20 - Global MAD: 0.1486, Masked MAD: 0.2748 (threshold: 0.05)\n"
     ]
    },
    {
     "name": "stderr",
     "output_type": "stream",
     "text": [
      "Propagating car-shadow:  56%|█████▋    | 22/39 [00:05<00:04,  3.72it/s]"
     ]
    },
    {
     "name": "stdout",
     "output_type": "stream",
     "text": [
      "Skipping frame 21 - Global MAD: 0.1503, Masked MAD: 0.2767 (threshold: 0.05)\n"
     ]
    },
    {
     "name": "stderr",
     "output_type": "stream",
     "text": [
      "Propagating car-shadow:  59%|█████▉    | 23/39 [00:05<00:04,  3.73it/s]"
     ]
    },
    {
     "name": "stdout",
     "output_type": "stream",
     "text": [
      "Skipping frame 22 - Global MAD: 0.1537, Masked MAD: 0.2805 (threshold: 0.05)\n"
     ]
    },
    {
     "name": "stderr",
     "output_type": "stream",
     "text": [
      "Propagating car-shadow:  62%|██████▏   | 24/39 [00:06<00:04,  3.73it/s]"
     ]
    },
    {
     "name": "stdout",
     "output_type": "stream",
     "text": [
      "Skipping frame 23 - Global MAD: 0.1565, Masked MAD: 0.2826 (threshold: 0.05)\n"
     ]
    },
    {
     "name": "stderr",
     "output_type": "stream",
     "text": [
      "Propagating car-shadow:  64%|██████▍   | 25/39 [00:06<00:03,  3.73it/s]"
     ]
    },
    {
     "name": "stdout",
     "output_type": "stream",
     "text": [
      "Skipping frame 24 - Global MAD: 0.1619, Masked MAD: 0.2900 (threshold: 0.05)\n"
     ]
    },
    {
     "name": "stderr",
     "output_type": "stream",
     "text": [
      "Propagating car-shadow:  67%|██████▋   | 26/39 [00:06<00:03,  3.73it/s]"
     ]
    },
    {
     "name": "stdout",
     "output_type": "stream",
     "text": [
      "Skipping frame 25 - Global MAD: 0.1666, Masked MAD: 0.3007 (threshold: 0.05)\n"
     ]
    },
    {
     "name": "stderr",
     "output_type": "stream",
     "text": [
      "Propagating car-shadow:  69%|██████▉   | 27/39 [00:07<00:03,  3.72it/s]"
     ]
    },
    {
     "name": "stdout",
     "output_type": "stream",
     "text": [
      "Skipping frame 26 - Global MAD: 0.1695, Masked MAD: 0.3028 (threshold: 0.05)\n"
     ]
    },
    {
     "name": "stderr",
     "output_type": "stream",
     "text": [
      "Propagating car-shadow:  72%|███████▏  | 28/39 [00:07<00:02,  3.71it/s]"
     ]
    },
    {
     "name": "stdout",
     "output_type": "stream",
     "text": [
      "Skipping frame 27 - Global MAD: 0.1733, Masked MAD: 0.3078 (threshold: 0.05)\n"
     ]
    },
    {
     "name": "stderr",
     "output_type": "stream",
     "text": [
      "Propagating car-shadow:  74%|███████▍  | 29/39 [00:07<00:02,  3.71it/s]"
     ]
    },
    {
     "name": "stdout",
     "output_type": "stream",
     "text": [
      "Skipping frame 28 - Global MAD: 0.1753, Masked MAD: 0.3107 (threshold: 0.05)\n"
     ]
    },
    {
     "name": "stderr",
     "output_type": "stream",
     "text": [
      "Propagating car-shadow:  77%|███████▋  | 30/39 [00:07<00:02,  3.72it/s]"
     ]
    },
    {
     "name": "stdout",
     "output_type": "stream",
     "text": [
      "Skipping frame 29 - Global MAD: 0.1764, Masked MAD: 0.3182 (threshold: 0.05)\n"
     ]
    },
    {
     "name": "stderr",
     "output_type": "stream",
     "text": [
      "Propagating car-shadow:  79%|███████▉  | 31/39 [00:08<00:02,  3.71it/s]"
     ]
    },
    {
     "name": "stdout",
     "output_type": "stream",
     "text": [
      "Skipping frame 30 - Global MAD: 0.1799, Masked MAD: 0.3267 (threshold: 0.05)\n",
      "Avg FPS last 30 frames: 3.72\n"
     ]
    },
    {
     "name": "stderr",
     "output_type": "stream",
     "text": [
      "Propagating car-shadow:  82%|████████▏ | 32/39 [00:08<00:01,  3.71it/s]"
     ]
    },
    {
     "name": "stdout",
     "output_type": "stream",
     "text": [
      "Skipping frame 31 - Global MAD: 0.1827, Masked MAD: 0.3361 (threshold: 0.05)\n"
     ]
    },
    {
     "name": "stderr",
     "output_type": "stream",
     "text": [
      "Propagating car-shadow:  85%|████████▍ | 33/39 [00:08<00:01,  3.73it/s]"
     ]
    },
    {
     "name": "stdout",
     "output_type": "stream",
     "text": [
      "Skipping frame 32 - Global MAD: 0.1844, Masked MAD: 0.3374 (threshold: 0.05)\n"
     ]
    },
    {
     "name": "stderr",
     "output_type": "stream",
     "text": [
      "Propagating car-shadow:  87%|████████▋ | 34/39 [00:08<00:01,  3.73it/s]"
     ]
    },
    {
     "name": "stdout",
     "output_type": "stream",
     "text": [
      "Skipping frame 33 - Global MAD: 0.1872, Masked MAD: 0.3415 (threshold: 0.05)\n"
     ]
    },
    {
     "name": "stderr",
     "output_type": "stream",
     "text": [
      "Propagating car-shadow:  90%|████████▉ | 35/39 [00:09<00:01,  3.73it/s]"
     ]
    },
    {
     "name": "stdout",
     "output_type": "stream",
     "text": [
      "Skipping frame 34 - Global MAD: 0.1902, Masked MAD: 0.3460 (threshold: 0.05)\n"
     ]
    },
    {
     "name": "stderr",
     "output_type": "stream",
     "text": [
      "Propagating car-shadow:  92%|█████████▏| 36/39 [00:09<00:00,  3.73it/s]"
     ]
    },
    {
     "name": "stdout",
     "output_type": "stream",
     "text": [
      "Skipping frame 35 - Global MAD: 0.1908, Masked MAD: 0.3506 (threshold: 0.05)\n"
     ]
    },
    {
     "name": "stderr",
     "output_type": "stream",
     "text": [
      "Propagating car-shadow:  95%|█████████▍| 37/39 [00:09<00:00,  3.71it/s]"
     ]
    },
    {
     "name": "stdout",
     "output_type": "stream",
     "text": [
      "Skipping frame 36 - Global MAD: 0.1939, Masked MAD: 0.3590 (threshold: 0.05)\n"
     ]
    },
    {
     "name": "stderr",
     "output_type": "stream",
     "text": [
      "Propagating car-shadow:  97%|█████████▋| 38/39 [00:09<00:00,  3.73it/s]"
     ]
    },
    {
     "name": "stdout",
     "output_type": "stream",
     "text": [
      "Skipping frame 37 - Global MAD: 0.1971, Masked MAD: 0.3645 (threshold: 0.05)\n"
     ]
    },
    {
     "name": "stderr",
     "output_type": "stream",
     "text": [
      "Propagating car-shadow: 100%|██████████| 39/39 [00:10<00:00,  3.72it/s]"
     ]
    },
    {
     "name": "stdout",
     "output_type": "stream",
     "text": [
      "Skipping frame 38 - Global MAD: 0.1987, Masked MAD: 0.3689 (threshold: 0.05)\n"
     ]
    },
    {
     "name": "stderr",
     "output_type": "stream",
     "text": [
      "propagate in video: 100%|██████████| 40/40 [00:10<00:00,  3.81it/s]    \n",
      "Propagating car-shadow: 40it [00:10,  3.81it/s]\n"
     ]
    },
    {
     "name": "stdout",
     "output_type": "stream",
     "text": [
      "Skipping frame 39 - Global MAD: 0.1984, Masked MAD: 0.3711 (threshold: 0.05)\n",
      "Skipped 39 frames due to low MAD.\n",
      "→ Saved all predicted masks for car-shadow in data/DAVIS2017_mgfs_naive/car-shadow\n",
      "\n",
      "=== Processing sequence: cows ===\n"
     ]
    },
    {
     "name": "stderr",
     "output_type": "stream",
     "text": [
      "frame loading (JPEG): 100%|██████████| 104/104 [00:02<00:00, 49.99it/s]\n"
     ]
    },
    {
     "name": "stdout",
     "output_type": "stream",
     "text": [
      "Found 1 unique non‐black colors in cows/00000.png\n"
     ]
    },
    {
     "name": "stderr",
     "output_type": "stream",
     "text": [
      "Propagating cows:   2%|▏         | 2/103 [00:00<00:14,  6.85it/s]"
     ]
    },
    {
     "name": "stdout",
     "output_type": "stream",
     "text": [
      "Skipping frame 1 - Global MAD: 0.0893, Masked MAD: 0.0592 (threshold: 0.05)\n"
     ]
    },
    {
     "name": "stderr",
     "output_type": "stream",
     "text": [
      "Propagating cows:   3%|▎         | 3/103 [00:00<00:19,  5.08it/s]"
     ]
    },
    {
     "name": "stdout",
     "output_type": "stream",
     "text": [
      "Skipping frame 2 - Global MAD: 0.1017, Masked MAD: 0.0801 (threshold: 0.05)\n"
     ]
    },
    {
     "name": "stderr",
     "output_type": "stream",
     "text": [
      "Propagating cows:   4%|▍         | 4/103 [00:00<00:22,  4.42it/s]"
     ]
    },
    {
     "name": "stdout",
     "output_type": "stream",
     "text": [
      "Skipping frame 3 - Global MAD: 0.1070, Masked MAD: 0.0905 (threshold: 0.05)\n"
     ]
    },
    {
     "name": "stderr",
     "output_type": "stream",
     "text": [
      "Propagating cows:   5%|▍         | 5/103 [00:01<00:23,  4.13it/s]"
     ]
    },
    {
     "name": "stdout",
     "output_type": "stream",
     "text": [
      "Skipping frame 4 - Global MAD: 0.1112, Masked MAD: 0.1001 (threshold: 0.05)\n"
     ]
    },
    {
     "name": "stderr",
     "output_type": "stream",
     "text": [
      "Propagating cows:   6%|▌         | 6/103 [00:01<00:24,  3.98it/s]"
     ]
    },
    {
     "name": "stdout",
     "output_type": "stream",
     "text": [
      "Skipping frame 5 - Global MAD: 0.1145, Masked MAD: 0.1070 (threshold: 0.05)\n"
     ]
    },
    {
     "name": "stderr",
     "output_type": "stream",
     "text": [
      "Propagating cows:   7%|▋         | 7/103 [00:01<00:24,  3.88it/s]"
     ]
    },
    {
     "name": "stdout",
     "output_type": "stream",
     "text": [
      "Skipping frame 6 - Global MAD: 0.1165, Masked MAD: 0.1113 (threshold: 0.05)\n"
     ]
    },
    {
     "name": "stderr",
     "output_type": "stream",
     "text": [
      "Propagating cows:   8%|▊         | 8/103 [00:01<00:24,  3.82it/s]"
     ]
    },
    {
     "name": "stdout",
     "output_type": "stream",
     "text": [
      "Skipping frame 7 - Global MAD: 0.1183, Masked MAD: 0.1153 (threshold: 0.05)\n"
     ]
    },
    {
     "name": "stderr",
     "output_type": "stream",
     "text": [
      "Propagating cows:   9%|▊         | 9/103 [00:02<00:24,  3.78it/s]"
     ]
    },
    {
     "name": "stdout",
     "output_type": "stream",
     "text": [
      "Skipping frame 8 - Global MAD: 0.1205, Masked MAD: 0.1207 (threshold: 0.05)\n"
     ]
    },
    {
     "name": "stderr",
     "output_type": "stream",
     "text": [
      "Propagating cows:  10%|▉         | 10/103 [00:02<00:24,  3.76it/s]"
     ]
    },
    {
     "name": "stdout",
     "output_type": "stream",
     "text": [
      "Skipping frame 9 - Global MAD: 0.1216, Masked MAD: 0.1242 (threshold: 0.05)\n"
     ]
    },
    {
     "name": "stderr",
     "output_type": "stream",
     "text": [
      "Propagating cows:  11%|█         | 11/103 [00:02<00:24,  3.74it/s]"
     ]
    },
    {
     "name": "stdout",
     "output_type": "stream",
     "text": [
      "Skipping frame 10 - Global MAD: 0.1220, Masked MAD: 0.1239 (threshold: 0.05)\n"
     ]
    },
    {
     "name": "stderr",
     "output_type": "stream",
     "text": [
      "Propagating cows:  12%|█▏        | 12/103 [00:02<00:24,  3.73it/s]"
     ]
    },
    {
     "name": "stdout",
     "output_type": "stream",
     "text": [
      "Skipping frame 11 - Global MAD: 0.1210, Masked MAD: 0.1181 (threshold: 0.05)\n"
     ]
    },
    {
     "name": "stderr",
     "output_type": "stream",
     "text": [
      "Propagating cows:  13%|█▎        | 13/103 [00:03<00:24,  3.71it/s]"
     ]
    },
    {
     "name": "stdout",
     "output_type": "stream",
     "text": [
      "Skipping frame 12 - Global MAD: 0.1198, Masked MAD: 0.1107 (threshold: 0.05)\n"
     ]
    },
    {
     "name": "stderr",
     "output_type": "stream",
     "text": [
      "Propagating cows:  14%|█▎        | 14/103 [00:03<00:23,  3.71it/s]"
     ]
    },
    {
     "name": "stdout",
     "output_type": "stream",
     "text": [
      "Skipping frame 13 - Global MAD: 0.1192, Masked MAD: 0.1074 (threshold: 0.05)\n"
     ]
    },
    {
     "name": "stderr",
     "output_type": "stream",
     "text": [
      "Propagating cows:  15%|█▍        | 15/103 [00:03<00:23,  3.72it/s]"
     ]
    },
    {
     "name": "stdout",
     "output_type": "stream",
     "text": [
      "Skipping frame 14 - Global MAD: 0.1183, Masked MAD: 0.1020 (threshold: 0.05)\n"
     ]
    },
    {
     "name": "stderr",
     "output_type": "stream",
     "text": [
      "Propagating cows:  16%|█▌        | 16/103 [00:04<00:23,  3.71it/s]"
     ]
    },
    {
     "name": "stdout",
     "output_type": "stream",
     "text": [
      "Skipping frame 15 - Global MAD: 0.1176, Masked MAD: 0.0967 (threshold: 0.05)\n"
     ]
    },
    {
     "name": "stderr",
     "output_type": "stream",
     "text": [
      "Propagating cows:  17%|█▋        | 17/103 [00:04<00:23,  3.71it/s]"
     ]
    },
    {
     "name": "stdout",
     "output_type": "stream",
     "text": [
      "Skipping frame 16 - Global MAD: 0.1184, Masked MAD: 0.0972 (threshold: 0.05)\n"
     ]
    },
    {
     "name": "stderr",
     "output_type": "stream",
     "text": [
      "Propagating cows:  17%|█▋        | 18/103 [00:04<00:22,  3.72it/s]"
     ]
    },
    {
     "name": "stdout",
     "output_type": "stream",
     "text": [
      "Skipping frame 17 - Global MAD: 0.1210, Masked MAD: 0.1029 (threshold: 0.05)\n"
     ]
    },
    {
     "name": "stderr",
     "output_type": "stream",
     "text": [
      "Propagating cows:  18%|█▊        | 19/103 [00:04<00:22,  3.71it/s]"
     ]
    },
    {
     "name": "stdout",
     "output_type": "stream",
     "text": [
      "Skipping frame 18 - Global MAD: 0.1237, Masked MAD: 0.1103 (threshold: 0.05)\n"
     ]
    },
    {
     "name": "stderr",
     "output_type": "stream",
     "text": [
      "Propagating cows:  19%|█▉        | 20/103 [00:05<00:22,  3.71it/s]"
     ]
    },
    {
     "name": "stdout",
     "output_type": "stream",
     "text": [
      "Skipping frame 19 - Global MAD: 0.1267, Masked MAD: 0.1171 (threshold: 0.05)\n"
     ]
    },
    {
     "name": "stderr",
     "output_type": "stream",
     "text": [
      "Propagating cows:  20%|██        | 21/103 [00:05<00:22,  3.70it/s]"
     ]
    },
    {
     "name": "stdout",
     "output_type": "stream",
     "text": [
      "Skipping frame 20 - Global MAD: 0.1298, Masked MAD: 0.1241 (threshold: 0.05)\n"
     ]
    },
    {
     "name": "stderr",
     "output_type": "stream",
     "text": [
      "Propagating cows:  21%|██▏       | 22/103 [00:05<00:21,  3.70it/s]"
     ]
    },
    {
     "name": "stdout",
     "output_type": "stream",
     "text": [
      "Skipping frame 21 - Global MAD: 0.1320, Masked MAD: 0.1302 (threshold: 0.05)\n"
     ]
    },
    {
     "name": "stderr",
     "output_type": "stream",
     "text": [
      "Propagating cows:  22%|██▏       | 23/103 [00:05<00:21,  3.69it/s]"
     ]
    },
    {
     "name": "stdout",
     "output_type": "stream",
     "text": [
      "Skipping frame 22 - Global MAD: 0.1345, Masked MAD: 0.1358 (threshold: 0.05)\n"
     ]
    },
    {
     "name": "stderr",
     "output_type": "stream",
     "text": [
      "Propagating cows:  23%|██▎       | 24/103 [00:06<00:21,  3.69it/s]"
     ]
    },
    {
     "name": "stdout",
     "output_type": "stream",
     "text": [
      "Skipping frame 23 - Global MAD: 0.1372, Masked MAD: 0.1417 (threshold: 0.05)\n"
     ]
    },
    {
     "name": "stderr",
     "output_type": "stream",
     "text": [
      "Propagating cows:  24%|██▍       | 25/103 [00:06<00:21,  3.70it/s]"
     ]
    },
    {
     "name": "stdout",
     "output_type": "stream",
     "text": [
      "Skipping frame 24 - Global MAD: 0.1390, Masked MAD: 0.1490 (threshold: 0.05)\n"
     ]
    },
    {
     "name": "stderr",
     "output_type": "stream",
     "text": [
      "Propagating cows:  25%|██▌       | 26/103 [00:06<00:20,  3.70it/s]"
     ]
    },
    {
     "name": "stdout",
     "output_type": "stream",
     "text": [
      "Skipping frame 25 - Global MAD: 0.1407, Masked MAD: 0.1558 (threshold: 0.05)\n"
     ]
    },
    {
     "name": "stderr",
     "output_type": "stream",
     "text": [
      "Propagating cows:  26%|██▌       | 27/103 [00:07<00:20,  3.70it/s]"
     ]
    },
    {
     "name": "stdout",
     "output_type": "stream",
     "text": [
      "Skipping frame 26 - Global MAD: 0.1421, Masked MAD: 0.1601 (threshold: 0.05)\n"
     ]
    },
    {
     "name": "stderr",
     "output_type": "stream",
     "text": [
      "Propagating cows:  27%|██▋       | 28/103 [00:07<00:20,  3.70it/s]"
     ]
    },
    {
     "name": "stdout",
     "output_type": "stream",
     "text": [
      "Skipping frame 27 - Global MAD: 0.1423, Masked MAD: 0.1619 (threshold: 0.05)\n"
     ]
    },
    {
     "name": "stderr",
     "output_type": "stream",
     "text": [
      "Propagating cows:  28%|██▊       | 29/103 [00:07<00:20,  3.70it/s]"
     ]
    },
    {
     "name": "stdout",
     "output_type": "stream",
     "text": [
      "Skipping frame 28 - Global MAD: 0.1423, Masked MAD: 0.1645 (threshold: 0.05)\n"
     ]
    },
    {
     "name": "stderr",
     "output_type": "stream",
     "text": [
      "Propagating cows:  29%|██▉       | 30/103 [00:07<00:19,  3.69it/s]"
     ]
    },
    {
     "name": "stdout",
     "output_type": "stream",
     "text": [
      "Skipping frame 29 - Global MAD: 0.1433, Masked MAD: 0.1694 (threshold: 0.05)\n"
     ]
    },
    {
     "name": "stderr",
     "output_type": "stream",
     "text": [
      "Propagating cows:  30%|███       | 31/103 [00:08<00:19,  3.69it/s]"
     ]
    },
    {
     "name": "stdout",
     "output_type": "stream",
     "text": [
      "Skipping frame 30 - Global MAD: 0.1429, Masked MAD: 0.1697 (threshold: 0.05)\n",
      "Avg FPS last 30 frames: 3.69\n"
     ]
    },
    {
     "name": "stderr",
     "output_type": "stream",
     "text": [
      "Propagating cows:  31%|███       | 32/103 [00:08<00:19,  3.70it/s]"
     ]
    },
    {
     "name": "stdout",
     "output_type": "stream",
     "text": [
      "Skipping frame 31 - Global MAD: 0.1414, Masked MAD: 0.1670 (threshold: 0.05)\n"
     ]
    },
    {
     "name": "stderr",
     "output_type": "stream",
     "text": [
      "Propagating cows:  32%|███▏      | 33/103 [00:08<00:19,  3.68it/s]"
     ]
    },
    {
     "name": "stdout",
     "output_type": "stream",
     "text": [
      "Skipping frame 32 - Global MAD: 0.1411, Masked MAD: 0.1684 (threshold: 0.05)\n"
     ]
    },
    {
     "name": "stderr",
     "output_type": "stream",
     "text": [
      "Propagating cows:  33%|███▎      | 34/103 [00:08<00:18,  3.68it/s]"
     ]
    },
    {
     "name": "stdout",
     "output_type": "stream",
     "text": [
      "Skipping frame 33 - Global MAD: 0.1417, Masked MAD: 0.1717 (threshold: 0.05)\n"
     ]
    },
    {
     "name": "stderr",
     "output_type": "stream",
     "text": [
      "Propagating cows:  34%|███▍      | 35/103 [00:09<00:18,  3.69it/s]"
     ]
    },
    {
     "name": "stdout",
     "output_type": "stream",
     "text": [
      "Skipping frame 34 - Global MAD: 0.1422, Masked MAD: 0.1756 (threshold: 0.05)\n"
     ]
    },
    {
     "name": "stderr",
     "output_type": "stream",
     "text": [
      "Propagating cows:  35%|███▍      | 36/103 [00:09<00:18,  3.69it/s]"
     ]
    },
    {
     "name": "stdout",
     "output_type": "stream",
     "text": [
      "Skipping frame 35 - Global MAD: 0.1430, Masked MAD: 0.1779 (threshold: 0.05)\n"
     ]
    },
    {
     "name": "stderr",
     "output_type": "stream",
     "text": [
      "Propagating cows:  36%|███▌      | 37/103 [00:09<00:17,  3.68it/s]"
     ]
    },
    {
     "name": "stdout",
     "output_type": "stream",
     "text": [
      "Skipping frame 36 - Global MAD: 0.1431, Masked MAD: 0.1767 (threshold: 0.05)\n"
     ]
    },
    {
     "name": "stderr",
     "output_type": "stream",
     "text": [
      "Propagating cows:  37%|███▋      | 38/103 [00:10<00:17,  3.68it/s]"
     ]
    },
    {
     "name": "stdout",
     "output_type": "stream",
     "text": [
      "Skipping frame 37 - Global MAD: 0.1430, Masked MAD: 0.1752 (threshold: 0.05)\n"
     ]
    },
    {
     "name": "stderr",
     "output_type": "stream",
     "text": [
      "Propagating cows:  38%|███▊      | 39/103 [00:10<00:17,  3.68it/s]"
     ]
    },
    {
     "name": "stdout",
     "output_type": "stream",
     "text": [
      "Skipping frame 38 - Global MAD: 0.1436, Masked MAD: 0.1772 (threshold: 0.05)\n"
     ]
    },
    {
     "name": "stderr",
     "output_type": "stream",
     "text": [
      "Propagating cows:  39%|███▉      | 40/103 [00:10<00:17,  3.69it/s]"
     ]
    },
    {
     "name": "stdout",
     "output_type": "stream",
     "text": [
      "Skipping frame 39 - Global MAD: 0.1438, Masked MAD: 0.1801 (threshold: 0.05)\n"
     ]
    },
    {
     "name": "stderr",
     "output_type": "stream",
     "text": [
      "Propagating cows:  40%|███▉      | 41/103 [00:10<00:16,  3.69it/s]"
     ]
    },
    {
     "name": "stdout",
     "output_type": "stream",
     "text": [
      "Skipping frame 40 - Global MAD: 0.1440, Masked MAD: 0.1804 (threshold: 0.05)\n"
     ]
    },
    {
     "name": "stderr",
     "output_type": "stream",
     "text": [
      "Propagating cows:  41%|████      | 42/103 [00:11<00:16,  3.70it/s]"
     ]
    },
    {
     "name": "stdout",
     "output_type": "stream",
     "text": [
      "Skipping frame 41 - Global MAD: 0.1446, Masked MAD: 0.1809 (threshold: 0.05)\n"
     ]
    },
    {
     "name": "stderr",
     "output_type": "stream",
     "text": [
      "Propagating cows:  42%|████▏     | 43/103 [00:11<00:16,  3.69it/s]"
     ]
    },
    {
     "name": "stdout",
     "output_type": "stream",
     "text": [
      "Skipping frame 42 - Global MAD: 0.1456, Masked MAD: 0.1821 (threshold: 0.05)\n"
     ]
    },
    {
     "name": "stderr",
     "output_type": "stream",
     "text": [
      "Propagating cows:  43%|████▎     | 44/103 [00:11<00:15,  3.69it/s]"
     ]
    },
    {
     "name": "stdout",
     "output_type": "stream",
     "text": [
      "Skipping frame 43 - Global MAD: 0.1467, Masked MAD: 0.1840 (threshold: 0.05)\n"
     ]
    },
    {
     "name": "stderr",
     "output_type": "stream",
     "text": [
      "Propagating cows:  44%|████▎     | 45/103 [00:11<00:15,  3.69it/s]"
     ]
    },
    {
     "name": "stdout",
     "output_type": "stream",
     "text": [
      "Skipping frame 44 - Global MAD: 0.1479, Masked MAD: 0.1868 (threshold: 0.05)\n"
     ]
    },
    {
     "name": "stderr",
     "output_type": "stream",
     "text": [
      "Propagating cows:  45%|████▍     | 46/103 [00:12<00:15,  3.70it/s]"
     ]
    },
    {
     "name": "stdout",
     "output_type": "stream",
     "text": [
      "Skipping frame 45 - Global MAD: 0.1484, Masked MAD: 0.1869 (threshold: 0.05)\n"
     ]
    },
    {
     "name": "stderr",
     "output_type": "stream",
     "text": [
      "Propagating cows:  46%|████▌     | 47/103 [00:12<00:15,  3.70it/s]"
     ]
    },
    {
     "name": "stdout",
     "output_type": "stream",
     "text": [
      "Skipping frame 46 - Global MAD: 0.1484, Masked MAD: 0.1839 (threshold: 0.05)\n"
     ]
    },
    {
     "name": "stderr",
     "output_type": "stream",
     "text": [
      "Propagating cows:  47%|████▋     | 48/103 [00:12<00:14,  3.69it/s]"
     ]
    },
    {
     "name": "stdout",
     "output_type": "stream",
     "text": [
      "Skipping frame 47 - Global MAD: 0.1487, Masked MAD: 0.1856 (threshold: 0.05)\n"
     ]
    },
    {
     "name": "stderr",
     "output_type": "stream",
     "text": [
      "Propagating cows:  48%|████▊     | 49/103 [00:13<00:14,  3.68it/s]"
     ]
    },
    {
     "name": "stdout",
     "output_type": "stream",
     "text": [
      "Skipping frame 48 - Global MAD: 0.1494, Masked MAD: 0.1879 (threshold: 0.05)\n"
     ]
    },
    {
     "name": "stderr",
     "output_type": "stream",
     "text": [
      "Propagating cows:  49%|████▊     | 50/103 [00:13<00:14,  3.68it/s]"
     ]
    },
    {
     "name": "stdout",
     "output_type": "stream",
     "text": [
      "Skipping frame 49 - Global MAD: 0.1498, Masked MAD: 0.1886 (threshold: 0.05)\n"
     ]
    },
    {
     "name": "stderr",
     "output_type": "stream",
     "text": [
      "Propagating cows:  50%|████▉     | 51/103 [00:13<00:14,  3.68it/s]"
     ]
    },
    {
     "name": "stdout",
     "output_type": "stream",
     "text": [
      "Skipping frame 50 - Global MAD: 0.1504, Masked MAD: 0.1882 (threshold: 0.05)\n"
     ]
    },
    {
     "name": "stderr",
     "output_type": "stream",
     "text": [
      "Propagating cows:  50%|█████     | 52/103 [00:13<00:13,  3.68it/s]"
     ]
    },
    {
     "name": "stdout",
     "output_type": "stream",
     "text": [
      "Skipping frame 51 - Global MAD: 0.1507, Masked MAD: 0.1876 (threshold: 0.05)\n"
     ]
    },
    {
     "name": "stderr",
     "output_type": "stream",
     "text": [
      "Propagating cows:  51%|█████▏    | 53/103 [00:14<00:13,  3.68it/s]"
     ]
    },
    {
     "name": "stdout",
     "output_type": "stream",
     "text": [
      "Skipping frame 52 - Global MAD: 0.1512, Masked MAD: 0.1861 (threshold: 0.05)\n"
     ]
    },
    {
     "name": "stderr",
     "output_type": "stream",
     "text": [
      "Propagating cows:  52%|█████▏    | 54/103 [00:14<00:13,  3.69it/s]"
     ]
    },
    {
     "name": "stdout",
     "output_type": "stream",
     "text": [
      "Skipping frame 53 - Global MAD: 0.1522, Masked MAD: 0.1865 (threshold: 0.05)\n"
     ]
    },
    {
     "name": "stderr",
     "output_type": "stream",
     "text": [
      "Propagating cows:  53%|█████▎    | 55/103 [00:14<00:13,  3.69it/s]"
     ]
    },
    {
     "name": "stdout",
     "output_type": "stream",
     "text": [
      "Skipping frame 54 - Global MAD: 0.1532, Masked MAD: 0.1893 (threshold: 0.05)\n"
     ]
    },
    {
     "name": "stderr",
     "output_type": "stream",
     "text": [
      "Propagating cows:  54%|█████▍    | 56/103 [00:14<00:12,  3.69it/s]"
     ]
    },
    {
     "name": "stdout",
     "output_type": "stream",
     "text": [
      "Skipping frame 55 - Global MAD: 0.1537, Masked MAD: 0.1910 (threshold: 0.05)\n"
     ]
    },
    {
     "name": "stderr",
     "output_type": "stream",
     "text": [
      "Propagating cows:  55%|█████▌    | 57/103 [00:15<00:12,  3.70it/s]"
     ]
    },
    {
     "name": "stdout",
     "output_type": "stream",
     "text": [
      "Skipping frame 56 - Global MAD: 0.1539, Masked MAD: 0.1910 (threshold: 0.05)\n"
     ]
    },
    {
     "name": "stderr",
     "output_type": "stream",
     "text": [
      "Propagating cows:  56%|█████▋    | 58/103 [00:15<00:12,  3.71it/s]"
     ]
    },
    {
     "name": "stdout",
     "output_type": "stream",
     "text": [
      "Skipping frame 57 - Global MAD: 0.1542, Masked MAD: 0.1904 (threshold: 0.05)\n"
     ]
    },
    {
     "name": "stderr",
     "output_type": "stream",
     "text": [
      "Propagating cows:  57%|█████▋    | 59/103 [00:15<00:11,  3.70it/s]"
     ]
    },
    {
     "name": "stdout",
     "output_type": "stream",
     "text": [
      "Skipping frame 58 - Global MAD: 0.1555, Masked MAD: 0.1915 (threshold: 0.05)\n"
     ]
    },
    {
     "name": "stderr",
     "output_type": "stream",
     "text": [
      "Propagating cows:  58%|█████▊    | 60/103 [00:15<00:11,  3.72it/s]"
     ]
    },
    {
     "name": "stdout",
     "output_type": "stream",
     "text": [
      "Skipping frame 59 - Global MAD: 0.1572, Masked MAD: 0.1965 (threshold: 0.05)\n"
     ]
    },
    {
     "name": "stderr",
     "output_type": "stream",
     "text": [
      "Propagating cows:  59%|█████▉    | 61/103 [00:16<00:11,  3.72it/s]"
     ]
    },
    {
     "name": "stdout",
     "output_type": "stream",
     "text": [
      "Skipping frame 60 - Global MAD: 0.1580, Masked MAD: 0.1978 (threshold: 0.05)\n",
      "Avg FPS last 30 frames: 3.69\n"
     ]
    },
    {
     "name": "stderr",
     "output_type": "stream",
     "text": [
      "Propagating cows:  60%|██████    | 62/103 [00:16<00:11,  3.72it/s]"
     ]
    },
    {
     "name": "stdout",
     "output_type": "stream",
     "text": [
      "Skipping frame 61 - Global MAD: 0.1596, Masked MAD: 0.2014 (threshold: 0.05)\n"
     ]
    },
    {
     "name": "stderr",
     "output_type": "stream",
     "text": [
      "Propagating cows:  61%|██████    | 63/103 [00:16<00:10,  3.72it/s]"
     ]
    },
    {
     "name": "stdout",
     "output_type": "stream",
     "text": [
      "Skipping frame 62 - Global MAD: 0.1608, Masked MAD: 0.2040 (threshold: 0.05)\n"
     ]
    },
    {
     "name": "stderr",
     "output_type": "stream",
     "text": [
      "Propagating cows:  62%|██████▏   | 64/103 [00:17<00:10,  3.73it/s]"
     ]
    },
    {
     "name": "stdout",
     "output_type": "stream",
     "text": [
      "Skipping frame 63 - Global MAD: 0.1609, Masked MAD: 0.2039 (threshold: 0.05)\n"
     ]
    },
    {
     "name": "stderr",
     "output_type": "stream",
     "text": [
      "Propagating cows:  63%|██████▎   | 65/103 [00:17<00:10,  3.72it/s]"
     ]
    },
    {
     "name": "stdout",
     "output_type": "stream",
     "text": [
      "Skipping frame 64 - Global MAD: 0.1611, Masked MAD: 0.2039 (threshold: 0.05)\n"
     ]
    },
    {
     "name": "stderr",
     "output_type": "stream",
     "text": [
      "Propagating cows:  64%|██████▍   | 66/103 [00:17<00:09,  3.72it/s]"
     ]
    },
    {
     "name": "stdout",
     "output_type": "stream",
     "text": [
      "Skipping frame 65 - Global MAD: 0.1614, Masked MAD: 0.2045 (threshold: 0.05)\n"
     ]
    },
    {
     "name": "stderr",
     "output_type": "stream",
     "text": [
      "Propagating cows:  65%|██████▌   | 67/103 [00:17<00:09,  3.73it/s]"
     ]
    },
    {
     "name": "stdout",
     "output_type": "stream",
     "text": [
      "Skipping frame 66 - Global MAD: 0.1617, Masked MAD: 0.2051 (threshold: 0.05)\n"
     ]
    },
    {
     "name": "stderr",
     "output_type": "stream",
     "text": [
      "Propagating cows:  66%|██████▌   | 68/103 [00:18<00:09,  3.72it/s]"
     ]
    },
    {
     "name": "stdout",
     "output_type": "stream",
     "text": [
      "Skipping frame 67 - Global MAD: 0.1620, Masked MAD: 0.2051 (threshold: 0.05)\n"
     ]
    },
    {
     "name": "stderr",
     "output_type": "stream",
     "text": [
      "Propagating cows:  67%|██████▋   | 69/103 [00:18<00:09,  3.72it/s]"
     ]
    },
    {
     "name": "stdout",
     "output_type": "stream",
     "text": [
      "Skipping frame 68 - Global MAD: 0.1627, Masked MAD: 0.2065 (threshold: 0.05)\n"
     ]
    },
    {
     "name": "stderr",
     "output_type": "stream",
     "text": [
      "Propagating cows:  68%|██████▊   | 70/103 [00:18<00:08,  3.73it/s]"
     ]
    },
    {
     "name": "stdout",
     "output_type": "stream",
     "text": [
      "Skipping frame 69 - Global MAD: 0.1630, Masked MAD: 0.2078 (threshold: 0.05)\n"
     ]
    },
    {
     "name": "stderr",
     "output_type": "stream",
     "text": [
      "Propagating cows:  69%|██████▉   | 71/103 [00:18<00:08,  3.72it/s]"
     ]
    },
    {
     "name": "stdout",
     "output_type": "stream",
     "text": [
      "Skipping frame 70 - Global MAD: 0.1633, Masked MAD: 0.2082 (threshold: 0.05)\n"
     ]
    },
    {
     "name": "stderr",
     "output_type": "stream",
     "text": [
      "Propagating cows:  70%|██████▉   | 72/103 [00:19<00:08,  3.73it/s]"
     ]
    },
    {
     "name": "stdout",
     "output_type": "stream",
     "text": [
      "Skipping frame 71 - Global MAD: 0.1634, Masked MAD: 0.2083 (threshold: 0.05)\n"
     ]
    },
    {
     "name": "stderr",
     "output_type": "stream",
     "text": [
      "Propagating cows:  71%|███████   | 73/103 [00:19<00:08,  3.70it/s]"
     ]
    },
    {
     "name": "stdout",
     "output_type": "stream",
     "text": [
      "Skipping frame 72 - Global MAD: 0.1636, Masked MAD: 0.2081 (threshold: 0.05)\n"
     ]
    },
    {
     "name": "stderr",
     "output_type": "stream",
     "text": [
      "Propagating cows:  72%|███████▏  | 74/103 [00:19<00:07,  3.70it/s]"
     ]
    },
    {
     "name": "stdout",
     "output_type": "stream",
     "text": [
      "Skipping frame 73 - Global MAD: 0.1635, Masked MAD: 0.2073 (threshold: 0.05)\n"
     ]
    },
    {
     "name": "stderr",
     "output_type": "stream",
     "text": [
      "Propagating cows:  73%|███████▎  | 75/103 [00:20<00:07,  3.71it/s]"
     ]
    },
    {
     "name": "stdout",
     "output_type": "stream",
     "text": [
      "Skipping frame 74 - Global MAD: 0.1632, Masked MAD: 0.2065 (threshold: 0.05)\n"
     ]
    },
    {
     "name": "stderr",
     "output_type": "stream",
     "text": [
      "Propagating cows:  74%|███████▍  | 76/103 [00:20<00:07,  3.70it/s]"
     ]
    },
    {
     "name": "stdout",
     "output_type": "stream",
     "text": [
      "Skipping frame 75 - Global MAD: 0.1628, Masked MAD: 0.2061 (threshold: 0.05)\n"
     ]
    },
    {
     "name": "stderr",
     "output_type": "stream",
     "text": [
      "Propagating cows:  75%|███████▍  | 77/103 [00:20<00:07,  3.70it/s]"
     ]
    },
    {
     "name": "stdout",
     "output_type": "stream",
     "text": [
      "Skipping frame 76 - Global MAD: 0.1630, Masked MAD: 0.2052 (threshold: 0.05)\n"
     ]
    },
    {
     "name": "stderr",
     "output_type": "stream",
     "text": [
      "Propagating cows:  76%|███████▌  | 78/103 [00:20<00:06,  3.71it/s]"
     ]
    },
    {
     "name": "stdout",
     "output_type": "stream",
     "text": [
      "Skipping frame 77 - Global MAD: 0.1634, Masked MAD: 0.2051 (threshold: 0.05)\n"
     ]
    },
    {
     "name": "stderr",
     "output_type": "stream",
     "text": [
      "Propagating cows:  77%|███████▋  | 79/103 [00:21<00:06,  3.70it/s]"
     ]
    },
    {
     "name": "stdout",
     "output_type": "stream",
     "text": [
      "Skipping frame 78 - Global MAD: 0.1633, Masked MAD: 0.2047 (threshold: 0.05)\n"
     ]
    },
    {
     "name": "stderr",
     "output_type": "stream",
     "text": [
      "Propagating cows:  78%|███████▊  | 80/103 [00:21<00:06,  3.71it/s]"
     ]
    },
    {
     "name": "stdout",
     "output_type": "stream",
     "text": [
      "Skipping frame 79 - Global MAD: 0.1631, Masked MAD: 0.2047 (threshold: 0.05)\n"
     ]
    },
    {
     "name": "stderr",
     "output_type": "stream",
     "text": [
      "Propagating cows:  79%|███████▊  | 81/103 [00:21<00:05,  3.71it/s]"
     ]
    },
    {
     "name": "stdout",
     "output_type": "stream",
     "text": [
      "Skipping frame 80 - Global MAD: 0.1624, Masked MAD: 0.2025 (threshold: 0.05)\n"
     ]
    },
    {
     "name": "stderr",
     "output_type": "stream",
     "text": [
      "Propagating cows:  80%|███████▉  | 82/103 [00:21<00:05,  3.70it/s]"
     ]
    },
    {
     "name": "stdout",
     "output_type": "stream",
     "text": [
      "Skipping frame 81 - Global MAD: 0.1616, Masked MAD: 0.1994 (threshold: 0.05)\n"
     ]
    },
    {
     "name": "stderr",
     "output_type": "stream",
     "text": [
      "Propagating cows:  81%|████████  | 83/103 [00:22<00:05,  3.70it/s]"
     ]
    },
    {
     "name": "stdout",
     "output_type": "stream",
     "text": [
      "Skipping frame 82 - Global MAD: 0.1612, Masked MAD: 0.1943 (threshold: 0.05)\n"
     ]
    },
    {
     "name": "stderr",
     "output_type": "stream",
     "text": [
      "Propagating cows:  82%|████████▏ | 84/103 [00:22<00:05,  3.71it/s]"
     ]
    },
    {
     "name": "stdout",
     "output_type": "stream",
     "text": [
      "Skipping frame 83 - Global MAD: 0.1615, Masked MAD: 0.1912 (threshold: 0.05)\n"
     ]
    },
    {
     "name": "stderr",
     "output_type": "stream",
     "text": [
      "Propagating cows:  83%|████████▎ | 85/103 [00:22<00:04,  3.70it/s]"
     ]
    },
    {
     "name": "stdout",
     "output_type": "stream",
     "text": [
      "Skipping frame 84 - Global MAD: 0.1617, Masked MAD: 0.1902 (threshold: 0.05)\n"
     ]
    },
    {
     "name": "stderr",
     "output_type": "stream",
     "text": [
      "Propagating cows:  83%|████████▎ | 86/103 [00:22<00:04,  3.71it/s]"
     ]
    },
    {
     "name": "stdout",
     "output_type": "stream",
     "text": [
      "Skipping frame 85 - Global MAD: 0.1627, Masked MAD: 0.1918 (threshold: 0.05)\n"
     ]
    },
    {
     "name": "stderr",
     "output_type": "stream",
     "text": [
      "Propagating cows:  84%|████████▍ | 87/103 [00:23<00:04,  3.71it/s]"
     ]
    },
    {
     "name": "stdout",
     "output_type": "stream",
     "text": [
      "Skipping frame 86 - Global MAD: 0.1644, Masked MAD: 0.1950 (threshold: 0.05)\n"
     ]
    },
    {
     "name": "stderr",
     "output_type": "stream",
     "text": [
      "Propagating cows:  85%|████████▌ | 88/103 [00:23<00:04,  3.71it/s]"
     ]
    },
    {
     "name": "stdout",
     "output_type": "stream",
     "text": [
      "Skipping frame 87 - Global MAD: 0.1653, Masked MAD: 0.1978 (threshold: 0.05)\n"
     ]
    },
    {
     "name": "stderr",
     "output_type": "stream",
     "text": [
      "Propagating cows:  86%|████████▋ | 89/103 [00:23<00:03,  3.72it/s]"
     ]
    },
    {
     "name": "stdout",
     "output_type": "stream",
     "text": [
      "Skipping frame 88 - Global MAD: 0.1661, Masked MAD: 0.1993 (threshold: 0.05)\n"
     ]
    },
    {
     "name": "stderr",
     "output_type": "stream",
     "text": [
      "Propagating cows:  87%|████████▋ | 90/103 [00:24<00:03,  3.72it/s]"
     ]
    },
    {
     "name": "stdout",
     "output_type": "stream",
     "text": [
      "Skipping frame 89 - Global MAD: 0.1679, Masked MAD: 0.2021 (threshold: 0.05)\n"
     ]
    },
    {
     "name": "stderr",
     "output_type": "stream",
     "text": [
      "Propagating cows:  88%|████████▊ | 91/103 [00:24<00:03,  3.72it/s]"
     ]
    },
    {
     "name": "stdout",
     "output_type": "stream",
     "text": [
      "Skipping frame 90 - Global MAD: 0.1694, Masked MAD: 0.2073 (threshold: 0.05)\n",
      "Avg FPS last 30 frames: 3.71\n"
     ]
    },
    {
     "name": "stderr",
     "output_type": "stream",
     "text": [
      "Propagating cows:  89%|████████▉ | 92/103 [00:24<00:02,  3.71it/s]"
     ]
    },
    {
     "name": "stdout",
     "output_type": "stream",
     "text": [
      "Skipping frame 91 - Global MAD: 0.1702, Masked MAD: 0.2111 (threshold: 0.05)\n"
     ]
    },
    {
     "name": "stderr",
     "output_type": "stream",
     "text": [
      "Propagating cows:  90%|█████████ | 93/103 [00:24<00:02,  3.70it/s]"
     ]
    },
    {
     "name": "stdout",
     "output_type": "stream",
     "text": [
      "Skipping frame 92 - Global MAD: 0.1712, Masked MAD: 0.2140 (threshold: 0.05)\n"
     ]
    },
    {
     "name": "stderr",
     "output_type": "stream",
     "text": [
      "Propagating cows:  91%|█████████▏| 94/103 [00:25<00:02,  3.69it/s]"
     ]
    },
    {
     "name": "stdout",
     "output_type": "stream",
     "text": [
      "Skipping frame 93 - Global MAD: 0.1718, Masked MAD: 0.2165 (threshold: 0.05)\n"
     ]
    },
    {
     "name": "stderr",
     "output_type": "stream",
     "text": [
      "Propagating cows:  92%|█████████▏| 95/103 [00:25<00:02,  3.68it/s]"
     ]
    },
    {
     "name": "stdout",
     "output_type": "stream",
     "text": [
      "Skipping frame 94 - Global MAD: 0.1723, Masked MAD: 0.2181 (threshold: 0.05)\n"
     ]
    },
    {
     "name": "stderr",
     "output_type": "stream",
     "text": [
      "Propagating cows:  93%|█████████▎| 96/103 [00:25<00:01,  3.68it/s]"
     ]
    },
    {
     "name": "stdout",
     "output_type": "stream",
     "text": [
      "Skipping frame 95 - Global MAD: 0.1734, Masked MAD: 0.2205 (threshold: 0.05)\n"
     ]
    },
    {
     "name": "stderr",
     "output_type": "stream",
     "text": [
      "Propagating cows:  94%|█████████▍| 97/103 [00:25<00:01,  3.69it/s]"
     ]
    },
    {
     "name": "stdout",
     "output_type": "stream",
     "text": [
      "Skipping frame 96 - Global MAD: 0.1738, Masked MAD: 0.2222 (threshold: 0.05)\n"
     ]
    },
    {
     "name": "stderr",
     "output_type": "stream",
     "text": [
      "Propagating cows:  95%|█████████▌| 98/103 [00:26<00:01,  3.69it/s]"
     ]
    },
    {
     "name": "stdout",
     "output_type": "stream",
     "text": [
      "Skipping frame 97 - Global MAD: 0.1745, Masked MAD: 0.2239 (threshold: 0.05)\n"
     ]
    },
    {
     "name": "stderr",
     "output_type": "stream",
     "text": [
      "Propagating cows:  96%|█████████▌| 99/103 [00:26<00:01,  3.70it/s]"
     ]
    },
    {
     "name": "stdout",
     "output_type": "stream",
     "text": [
      "Skipping frame 98 - Global MAD: 0.1757, Masked MAD: 0.2264 (threshold: 0.05)\n"
     ]
    },
    {
     "name": "stderr",
     "output_type": "stream",
     "text": [
      "Propagating cows:  97%|█████████▋| 100/103 [00:26<00:00,  3.70it/s]"
     ]
    },
    {
     "name": "stdout",
     "output_type": "stream",
     "text": [
      "Skipping frame 99 - Global MAD: 0.1760, Masked MAD: 0.2297 (threshold: 0.05)\n"
     ]
    },
    {
     "name": "stderr",
     "output_type": "stream",
     "text": [
      "Propagating cows:  98%|█████████▊| 101/103 [00:27<00:00,  3.68it/s]"
     ]
    },
    {
     "name": "stdout",
     "output_type": "stream",
     "text": [
      "Skipping frame 100 - Global MAD: 0.1766, Masked MAD: 0.2321 (threshold: 0.05)\n"
     ]
    },
    {
     "name": "stderr",
     "output_type": "stream",
     "text": [
      "Propagating cows:  99%|█████████▉| 102/103 [00:27<00:00,  3.69it/s]"
     ]
    },
    {
     "name": "stdout",
     "output_type": "stream",
     "text": [
      "Skipping frame 101 - Global MAD: 0.1772, Masked MAD: 0.2327 (threshold: 0.05)\n"
     ]
    },
    {
     "name": "stderr",
     "output_type": "stream",
     "text": [
      "Propagating cows: 100%|██████████| 103/103 [00:27<00:00,  3.69it/s]"
     ]
    },
    {
     "name": "stdout",
     "output_type": "stream",
     "text": [
      "Skipping frame 102 - Global MAD: 0.1776, Masked MAD: 0.2352 (threshold: 0.05)\n"
     ]
    },
    {
     "name": "stderr",
     "output_type": "stream",
     "text": [
      "propagate in video: 100%|██████████| 104/104 [00:27<00:00,  3.73it/s]\n",
      "Propagating cows: 104it [00:27,  3.73it/s]\n"
     ]
    },
    {
     "name": "stdout",
     "output_type": "stream",
     "text": [
      "Skipping frame 103 - Global MAD: 0.1783, Masked MAD: 0.2386 (threshold: 0.05)\n",
      "Skipped 103 frames due to low MAD.\n",
      "→ Saved all predicted masks for cows in data/DAVIS2017_mgfs_naive/cows\n",
      "\n",
      "=== Processing sequence: dance-twirl ===\n"
     ]
    },
    {
     "name": "stderr",
     "output_type": "stream",
     "text": [
      "frame loading (JPEG): 100%|██████████| 90/90 [00:01<00:00, 50.56it/s]\n"
     ]
    },
    {
     "name": "stdout",
     "output_type": "stream",
     "text": [
      "Found 1 unique non‐black colors in dance-twirl/00000.png\n"
     ]
    },
    {
     "name": "stderr",
     "output_type": "stream",
     "text": [
      "Propagating dance-twirl:   2%|▏         | 2/89 [00:00<00:11,  7.27it/s]"
     ]
    },
    {
     "name": "stdout",
     "output_type": "stream",
     "text": [
      "Skipping frame 1 - Global MAD: 0.0842, Masked MAD: 0.1247 (threshold: 0.05)\n"
     ]
    },
    {
     "name": "stderr",
     "output_type": "stream",
     "text": [
      "Propagating dance-twirl:   3%|▎         | 3/89 [00:00<00:16,  5.28it/s]"
     ]
    },
    {
     "name": "stdout",
     "output_type": "stream",
     "text": [
      "Skipping frame 2 - Global MAD: 0.1085, Masked MAD: 0.1652 (threshold: 0.05)\n"
     ]
    },
    {
     "name": "stderr",
     "output_type": "stream",
     "text": [
      "Propagating dance-twirl:   4%|▍         | 4/89 [00:00<00:18,  4.57it/s]"
     ]
    },
    {
     "name": "stdout",
     "output_type": "stream",
     "text": [
      "Skipping frame 3 - Global MAD: 0.1222, Masked MAD: 0.1785 (threshold: 0.05)\n"
     ]
    },
    {
     "name": "stderr",
     "output_type": "stream",
     "text": [
      "Propagating dance-twirl:   6%|▌         | 5/89 [00:01<00:19,  4.24it/s]"
     ]
    },
    {
     "name": "stdout",
     "output_type": "stream",
     "text": [
      "Skipping frame 4 - Global MAD: 0.1304, Masked MAD: 0.1830 (threshold: 0.05)\n"
     ]
    },
    {
     "name": "stderr",
     "output_type": "stream",
     "text": [
      "Propagating dance-twirl:   7%|▋         | 6/89 [00:01<00:20,  4.06it/s]"
     ]
    },
    {
     "name": "stdout",
     "output_type": "stream",
     "text": [
      "Skipping frame 5 - Global MAD: 0.1340, Masked MAD: 0.1960 (threshold: 0.05)\n"
     ]
    },
    {
     "name": "stderr",
     "output_type": "stream",
     "text": [
      "Propagating dance-twirl:   8%|▊         | 7/89 [00:01<00:20,  3.95it/s]"
     ]
    },
    {
     "name": "stdout",
     "output_type": "stream",
     "text": [
      "Skipping frame 6 - Global MAD: 0.1355, Masked MAD: 0.2069 (threshold: 0.05)\n"
     ]
    },
    {
     "name": "stderr",
     "output_type": "stream",
     "text": [
      "Propagating dance-twirl:   9%|▉         | 8/89 [00:01<00:20,  3.87it/s]"
     ]
    },
    {
     "name": "stdout",
     "output_type": "stream",
     "text": [
      "Skipping frame 7 - Global MAD: 0.1408, Masked MAD: 0.2132 (threshold: 0.05)\n"
     ]
    },
    {
     "name": "stderr",
     "output_type": "stream",
     "text": [
      "Propagating dance-twirl:  10%|█         | 9/89 [00:02<00:20,  3.82it/s]"
     ]
    },
    {
     "name": "stdout",
     "output_type": "stream",
     "text": [
      "Skipping frame 8 - Global MAD: 0.1444, Masked MAD: 0.2203 (threshold: 0.05)\n"
     ]
    },
    {
     "name": "stderr",
     "output_type": "stream",
     "text": [
      "Propagating dance-twirl:  11%|█         | 10/89 [00:02<00:20,  3.77it/s]"
     ]
    },
    {
     "name": "stdout",
     "output_type": "stream",
     "text": [
      "Skipping frame 9 - Global MAD: 0.1462, Masked MAD: 0.2235 (threshold: 0.05)\n"
     ]
    },
    {
     "name": "stderr",
     "output_type": "stream",
     "text": [
      "Propagating dance-twirl:  12%|█▏        | 11/89 [00:02<00:20,  3.75it/s]"
     ]
    },
    {
     "name": "stdout",
     "output_type": "stream",
     "text": [
      "Skipping frame 10 - Global MAD: 0.1498, Masked MAD: 0.2207 (threshold: 0.05)\n"
     ]
    },
    {
     "name": "stderr",
     "output_type": "stream",
     "text": [
      "Propagating dance-twirl:  13%|█▎        | 12/89 [00:02<00:20,  3.74it/s]"
     ]
    },
    {
     "name": "stdout",
     "output_type": "stream",
     "text": [
      "Skipping frame 11 - Global MAD: 0.1530, Masked MAD: 0.2078 (threshold: 0.05)\n"
     ]
    },
    {
     "name": "stderr",
     "output_type": "stream",
     "text": [
      "Propagating dance-twirl:  15%|█▍        | 13/89 [00:03<00:20,  3.74it/s]"
     ]
    },
    {
     "name": "stdout",
     "output_type": "stream",
     "text": [
      "Skipping frame 12 - Global MAD: 0.1578, Masked MAD: 0.1971 (threshold: 0.05)\n"
     ]
    },
    {
     "name": "stderr",
     "output_type": "stream",
     "text": [
      "Propagating dance-twirl:  16%|█▌        | 14/89 [00:03<00:20,  3.73it/s]"
     ]
    },
    {
     "name": "stdout",
     "output_type": "stream",
     "text": [
      "Skipping frame 13 - Global MAD: 0.1615, Masked MAD: 0.1817 (threshold: 0.05)\n"
     ]
    },
    {
     "name": "stderr",
     "output_type": "stream",
     "text": [
      "Propagating dance-twirl:  17%|█▋        | 15/89 [00:03<00:19,  3.72it/s]"
     ]
    },
    {
     "name": "stdout",
     "output_type": "stream",
     "text": [
      "Skipping frame 14 - Global MAD: 0.1661, Masked MAD: 0.1956 (threshold: 0.05)\n"
     ]
    },
    {
     "name": "stderr",
     "output_type": "stream",
     "text": [
      "Propagating dance-twirl:  18%|█▊        | 16/89 [00:04<00:19,  3.71it/s]"
     ]
    },
    {
     "name": "stdout",
     "output_type": "stream",
     "text": [
      "Skipping frame 15 - Global MAD: 0.1725, Masked MAD: 0.2321 (threshold: 0.05)\n"
     ]
    },
    {
     "name": "stderr",
     "output_type": "stream",
     "text": [
      "Propagating dance-twirl:  19%|█▉        | 17/89 [00:04<00:19,  3.70it/s]"
     ]
    },
    {
     "name": "stdout",
     "output_type": "stream",
     "text": [
      "Skipping frame 16 - Global MAD: 0.1741, Masked MAD: 0.2360 (threshold: 0.05)\n"
     ]
    },
    {
     "name": "stderr",
     "output_type": "stream",
     "text": [
      "Propagating dance-twirl:  20%|██        | 18/89 [00:04<00:19,  3.70it/s]"
     ]
    },
    {
     "name": "stdout",
     "output_type": "stream",
     "text": [
      "Skipping frame 17 - Global MAD: 0.1763, Masked MAD: 0.2267 (threshold: 0.05)\n"
     ]
    },
    {
     "name": "stderr",
     "output_type": "stream",
     "text": [
      "Propagating dance-twirl:  21%|██▏       | 19/89 [00:04<00:18,  3.71it/s]"
     ]
    },
    {
     "name": "stdout",
     "output_type": "stream",
     "text": [
      "Skipping frame 18 - Global MAD: 0.1846, Masked MAD: 0.2349 (threshold: 0.05)\n"
     ]
    },
    {
     "name": "stderr",
     "output_type": "stream",
     "text": [
      "Propagating dance-twirl:  22%|██▏       | 20/89 [00:05<00:18,  3.70it/s]"
     ]
    },
    {
     "name": "stdout",
     "output_type": "stream",
     "text": [
      "Skipping frame 19 - Global MAD: 0.1874, Masked MAD: 0.2436 (threshold: 0.05)\n"
     ]
    },
    {
     "name": "stderr",
     "output_type": "stream",
     "text": [
      "Propagating dance-twirl:  24%|██▎       | 21/89 [00:05<00:18,  3.71it/s]"
     ]
    },
    {
     "name": "stdout",
     "output_type": "stream",
     "text": [
      "Skipping frame 20 - Global MAD: 0.1876, Masked MAD: 0.2454 (threshold: 0.05)\n"
     ]
    },
    {
     "name": "stderr",
     "output_type": "stream",
     "text": [
      "Propagating dance-twirl:  25%|██▍       | 22/89 [00:05<00:18,  3.70it/s]"
     ]
    },
    {
     "name": "stdout",
     "output_type": "stream",
     "text": [
      "Skipping frame 21 - Global MAD: 0.1894, Masked MAD: 0.2500 (threshold: 0.05)\n"
     ]
    },
    {
     "name": "stderr",
     "output_type": "stream",
     "text": [
      "Propagating dance-twirl:  26%|██▌       | 23/89 [00:05<00:17,  3.71it/s]"
     ]
    },
    {
     "name": "stdout",
     "output_type": "stream",
     "text": [
      "Skipping frame 22 - Global MAD: 0.1941, Masked MAD: 0.2428 (threshold: 0.05)\n"
     ]
    },
    {
     "name": "stderr",
     "output_type": "stream",
     "text": [
      "Propagating dance-twirl:  27%|██▋       | 24/89 [00:06<00:17,  3.70it/s]"
     ]
    },
    {
     "name": "stdout",
     "output_type": "stream",
     "text": [
      "Skipping frame 23 - Global MAD: 0.1957, Masked MAD: 0.2401 (threshold: 0.05)\n"
     ]
    },
    {
     "name": "stderr",
     "output_type": "stream",
     "text": [
      "Propagating dance-twirl:  28%|██▊       | 25/89 [00:06<00:17,  3.67it/s]"
     ]
    },
    {
     "name": "stdout",
     "output_type": "stream",
     "text": [
      "Skipping frame 24 - Global MAD: 0.1954, Masked MAD: 0.2277 (threshold: 0.05)\n"
     ]
    },
    {
     "name": "stderr",
     "output_type": "stream",
     "text": [
      "Propagating dance-twirl:  29%|██▉       | 26/89 [00:06<00:17,  3.68it/s]"
     ]
    },
    {
     "name": "stdout",
     "output_type": "stream",
     "text": [
      "Skipping frame 25 - Global MAD: 0.1945, Masked MAD: 0.2259 (threshold: 0.05)\n"
     ]
    },
    {
     "name": "stderr",
     "output_type": "stream",
     "text": [
      "Propagating dance-twirl:  30%|███       | 27/89 [00:07<00:16,  3.69it/s]"
     ]
    },
    {
     "name": "stdout",
     "output_type": "stream",
     "text": [
      "Skipping frame 26 - Global MAD: 0.1991, Masked MAD: 0.2241 (threshold: 0.05)\n"
     ]
    },
    {
     "name": "stderr",
     "output_type": "stream",
     "text": [
      "Propagating dance-twirl:  31%|███▏      | 28/89 [00:07<00:16,  3.68it/s]"
     ]
    },
    {
     "name": "stdout",
     "output_type": "stream",
     "text": [
      "Skipping frame 27 - Global MAD: 0.2037, Masked MAD: 0.2262 (threshold: 0.05)\n"
     ]
    },
    {
     "name": "stderr",
     "output_type": "stream",
     "text": [
      "Propagating dance-twirl:  33%|███▎      | 29/89 [00:07<00:16,  3.68it/s]"
     ]
    },
    {
     "name": "stdout",
     "output_type": "stream",
     "text": [
      "Skipping frame 28 - Global MAD: 0.2086, Masked MAD: 0.2329 (threshold: 0.05)\n"
     ]
    },
    {
     "name": "stderr",
     "output_type": "stream",
     "text": [
      "Propagating dance-twirl:  34%|███▎      | 30/89 [00:07<00:15,  3.69it/s]"
     ]
    },
    {
     "name": "stdout",
     "output_type": "stream",
     "text": [
      "Skipping frame 29 - Global MAD: 0.2118, Masked MAD: 0.2397 (threshold: 0.05)\n"
     ]
    },
    {
     "name": "stderr",
     "output_type": "stream",
     "text": [
      "Propagating dance-twirl:  35%|███▍      | 31/89 [00:08<00:15,  3.70it/s]"
     ]
    },
    {
     "name": "stdout",
     "output_type": "stream",
     "text": [
      "Skipping frame 30 - Global MAD: 0.2155, Masked MAD: 0.2483 (threshold: 0.05)\n",
      "Avg FPS last 30 frames: 3.71\n"
     ]
    },
    {
     "name": "stderr",
     "output_type": "stream",
     "text": [
      "Propagating dance-twirl:  36%|███▌      | 32/89 [00:08<00:15,  3.70it/s]"
     ]
    },
    {
     "name": "stdout",
     "output_type": "stream",
     "text": [
      "Skipping frame 31 - Global MAD: 0.2181, Masked MAD: 0.2575 (threshold: 0.05)\n"
     ]
    },
    {
     "name": "stderr",
     "output_type": "stream",
     "text": [
      "Propagating dance-twirl:  37%|███▋      | 33/89 [00:08<00:15,  3.70it/s]"
     ]
    },
    {
     "name": "stdout",
     "output_type": "stream",
     "text": [
      "Skipping frame 32 - Global MAD: 0.2180, Masked MAD: 0.2631 (threshold: 0.05)\n"
     ]
    },
    {
     "name": "stderr",
     "output_type": "stream",
     "text": [
      "Propagating dance-twirl:  38%|███▊      | 34/89 [00:08<00:14,  3.68it/s]"
     ]
    },
    {
     "name": "stdout",
     "output_type": "stream",
     "text": [
      "Skipping frame 33 - Global MAD: 0.2169, Masked MAD: 0.2665 (threshold: 0.05)\n"
     ]
    },
    {
     "name": "stderr",
     "output_type": "stream",
     "text": [
      "Propagating dance-twirl:  39%|███▉      | 35/89 [00:09<00:14,  3.68it/s]"
     ]
    },
    {
     "name": "stdout",
     "output_type": "stream",
     "text": [
      "Skipping frame 34 - Global MAD: 0.2149, Masked MAD: 0.2633 (threshold: 0.05)\n"
     ]
    },
    {
     "name": "stderr",
     "output_type": "stream",
     "text": [
      "Propagating dance-twirl:  40%|████      | 36/89 [00:09<00:14,  3.68it/s]"
     ]
    },
    {
     "name": "stdout",
     "output_type": "stream",
     "text": [
      "Skipping frame 35 - Global MAD: 0.2120, Masked MAD: 0.2652 (threshold: 0.05)\n"
     ]
    },
    {
     "name": "stderr",
     "output_type": "stream",
     "text": [
      "Propagating dance-twirl:  42%|████▏     | 37/89 [00:09<00:14,  3.66it/s]"
     ]
    },
    {
     "name": "stdout",
     "output_type": "stream",
     "text": [
      "Skipping frame 36 - Global MAD: 0.2104, Masked MAD: 0.2629 (threshold: 0.05)\n"
     ]
    },
    {
     "name": "stderr",
     "output_type": "stream",
     "text": [
      "Propagating dance-twirl:  43%|████▎     | 38/89 [00:10<00:13,  3.67it/s]"
     ]
    },
    {
     "name": "stdout",
     "output_type": "stream",
     "text": [
      "Skipping frame 37 - Global MAD: 0.2082, Masked MAD: 0.2560 (threshold: 0.05)\n"
     ]
    },
    {
     "name": "stderr",
     "output_type": "stream",
     "text": [
      "Propagating dance-twirl:  44%|████▍     | 39/89 [00:10<00:13,  3.68it/s]"
     ]
    },
    {
     "name": "stdout",
     "output_type": "stream",
     "text": [
      "Skipping frame 38 - Global MAD: 0.2100, Masked MAD: 0.2636 (threshold: 0.05)\n"
     ]
    },
    {
     "name": "stderr",
     "output_type": "stream",
     "text": [
      "Propagating dance-twirl:  45%|████▍     | 40/89 [00:10<00:13,  3.67it/s]"
     ]
    },
    {
     "name": "stdout",
     "output_type": "stream",
     "text": [
      "Skipping frame 39 - Global MAD: 0.2130, Masked MAD: 0.2612 (threshold: 0.05)\n"
     ]
    },
    {
     "name": "stderr",
     "output_type": "stream",
     "text": [
      "Propagating dance-twirl:  46%|████▌     | 41/89 [00:10<00:13,  3.69it/s]"
     ]
    },
    {
     "name": "stdout",
     "output_type": "stream",
     "text": [
      "Skipping frame 40 - Global MAD: 0.2167, Masked MAD: 0.2549 (threshold: 0.05)\n"
     ]
    },
    {
     "name": "stderr",
     "output_type": "stream",
     "text": [
      "Propagating dance-twirl:  47%|████▋     | 42/89 [00:11<00:12,  3.69it/s]"
     ]
    },
    {
     "name": "stdout",
     "output_type": "stream",
     "text": [
      "Skipping frame 41 - Global MAD: 0.2204, Masked MAD: 0.2434 (threshold: 0.05)\n"
     ]
    },
    {
     "name": "stderr",
     "output_type": "stream",
     "text": [
      "Propagating dance-twirl:  48%|████▊     | 43/89 [00:11<00:12,  3.70it/s]"
     ]
    },
    {
     "name": "stdout",
     "output_type": "stream",
     "text": [
      "Skipping frame 42 - Global MAD: 0.2243, Masked MAD: 0.2401 (threshold: 0.05)\n"
     ]
    },
    {
     "name": "stderr",
     "output_type": "stream",
     "text": [
      "Propagating dance-twirl:  49%|████▉     | 44/89 [00:11<00:12,  3.70it/s]"
     ]
    },
    {
     "name": "stdout",
     "output_type": "stream",
     "text": [
      "Skipping frame 43 - Global MAD: 0.2250, Masked MAD: 0.2493 (threshold: 0.05)\n"
     ]
    },
    {
     "name": "stderr",
     "output_type": "stream",
     "text": [
      "Propagating dance-twirl:  51%|█████     | 45/89 [00:11<00:11,  3.70it/s]"
     ]
    },
    {
     "name": "stdout",
     "output_type": "stream",
     "text": [
      "Skipping frame 44 - Global MAD: 0.2235, Masked MAD: 0.2472 (threshold: 0.05)\n"
     ]
    },
    {
     "name": "stderr",
     "output_type": "stream",
     "text": [
      "Propagating dance-twirl:  52%|█████▏    | 46/89 [00:12<00:11,  3.69it/s]"
     ]
    },
    {
     "name": "stdout",
     "output_type": "stream",
     "text": [
      "Skipping frame 45 - Global MAD: 0.2187, Masked MAD: 0.2308 (threshold: 0.05)\n"
     ]
    },
    {
     "name": "stderr",
     "output_type": "stream",
     "text": [
      "Propagating dance-twirl:  53%|█████▎    | 47/89 [00:12<00:11,  3.69it/s]"
     ]
    },
    {
     "name": "stdout",
     "output_type": "stream",
     "text": [
      "Skipping frame 46 - Global MAD: 0.2204, Masked MAD: 0.2424 (threshold: 0.05)\n"
     ]
    },
    {
     "name": "stderr",
     "output_type": "stream",
     "text": [
      "Propagating dance-twirl:  54%|█████▍    | 48/89 [00:12<00:11,  3.68it/s]"
     ]
    },
    {
     "name": "stdout",
     "output_type": "stream",
     "text": [
      "Skipping frame 47 - Global MAD: 0.2208, Masked MAD: 0.2455 (threshold: 0.05)\n"
     ]
    },
    {
     "name": "stderr",
     "output_type": "stream",
     "text": [
      "Propagating dance-twirl:  55%|█████▌    | 49/89 [00:12<00:10,  3.69it/s]"
     ]
    },
    {
     "name": "stdout",
     "output_type": "stream",
     "text": [
      "Skipping frame 48 - Global MAD: 0.2217, Masked MAD: 0.2568 (threshold: 0.05)\n"
     ]
    },
    {
     "name": "stderr",
     "output_type": "stream",
     "text": [
      "Propagating dance-twirl:  56%|█████▌    | 50/89 [00:13<00:10,  3.69it/s]"
     ]
    },
    {
     "name": "stdout",
     "output_type": "stream",
     "text": [
      "Skipping frame 49 - Global MAD: 0.2255, Masked MAD: 0.2724 (threshold: 0.05)\n"
     ]
    },
    {
     "name": "stderr",
     "output_type": "stream",
     "text": [
      "Propagating dance-twirl:  57%|█████▋    | 51/89 [00:13<00:10,  3.70it/s]"
     ]
    },
    {
     "name": "stdout",
     "output_type": "stream",
     "text": [
      "Skipping frame 50 - Global MAD: 0.2304, Masked MAD: 0.2751 (threshold: 0.05)\n"
     ]
    },
    {
     "name": "stderr",
     "output_type": "stream",
     "text": [
      "Propagating dance-twirl:  58%|█████▊    | 52/89 [00:13<00:10,  3.69it/s]"
     ]
    },
    {
     "name": "stdout",
     "output_type": "stream",
     "text": [
      "Skipping frame 51 - Global MAD: 0.2352, Masked MAD: 0.2730 (threshold: 0.05)\n"
     ]
    },
    {
     "name": "stderr",
     "output_type": "stream",
     "text": [
      "Propagating dance-twirl:  60%|█████▉    | 53/89 [00:14<00:09,  3.69it/s]"
     ]
    },
    {
     "name": "stdout",
     "output_type": "stream",
     "text": [
      "Skipping frame 52 - Global MAD: 0.2403, Masked MAD: 0.2770 (threshold: 0.05)\n"
     ]
    },
    {
     "name": "stderr",
     "output_type": "stream",
     "text": [
      "Propagating dance-twirl:  61%|██████    | 54/89 [00:14<00:09,  3.69it/s]"
     ]
    },
    {
     "name": "stdout",
     "output_type": "stream",
     "text": [
      "Skipping frame 53 - Global MAD: 0.2443, Masked MAD: 0.2793 (threshold: 0.05)\n"
     ]
    },
    {
     "name": "stderr",
     "output_type": "stream",
     "text": [
      "Propagating dance-twirl:  62%|██████▏   | 55/89 [00:14<00:09,  3.69it/s]"
     ]
    },
    {
     "name": "stdout",
     "output_type": "stream",
     "text": [
      "Skipping frame 54 - Global MAD: 0.2457, Masked MAD: 0.2803 (threshold: 0.05)\n"
     ]
    },
    {
     "name": "stderr",
     "output_type": "stream",
     "text": [
      "Propagating dance-twirl:  63%|██████▎   | 56/89 [00:14<00:08,  3.68it/s]"
     ]
    },
    {
     "name": "stdout",
     "output_type": "stream",
     "text": [
      "Skipping frame 55 - Global MAD: 0.2468, Masked MAD: 0.2799 (threshold: 0.05)\n"
     ]
    },
    {
     "name": "stderr",
     "output_type": "stream",
     "text": [
      "Propagating dance-twirl:  64%|██████▍   | 57/89 [00:15<00:08,  3.66it/s]"
     ]
    },
    {
     "name": "stdout",
     "output_type": "stream",
     "text": [
      "Skipping frame 56 - Global MAD: 0.2454, Masked MAD: 0.2743 (threshold: 0.05)\n"
     ]
    },
    {
     "name": "stderr",
     "output_type": "stream",
     "text": [
      "Propagating dance-twirl:  65%|██████▌   | 58/89 [00:15<00:08,  3.66it/s]"
     ]
    },
    {
     "name": "stdout",
     "output_type": "stream",
     "text": [
      "Skipping frame 57 - Global MAD: 0.2414, Masked MAD: 0.2652 (threshold: 0.05)\n"
     ]
    },
    {
     "name": "stderr",
     "output_type": "stream",
     "text": [
      "Propagating dance-twirl:  66%|██████▋   | 59/89 [00:15<00:08,  3.65it/s]"
     ]
    },
    {
     "name": "stdout",
     "output_type": "stream",
     "text": [
      "Skipping frame 58 - Global MAD: 0.2371, Masked MAD: 0.2567 (threshold: 0.05)\n"
     ]
    },
    {
     "name": "stderr",
     "output_type": "stream",
     "text": [
      "Propagating dance-twirl:  67%|██████▋   | 60/89 [00:15<00:07,  3.66it/s]"
     ]
    },
    {
     "name": "stdout",
     "output_type": "stream",
     "text": [
      "Skipping frame 59 - Global MAD: 0.2338, Masked MAD: 0.2566 (threshold: 0.05)\n"
     ]
    },
    {
     "name": "stderr",
     "output_type": "stream",
     "text": [
      "Propagating dance-twirl:  69%|██████▊   | 61/89 [00:16<00:07,  3.66it/s]"
     ]
    },
    {
     "name": "stdout",
     "output_type": "stream",
     "text": [
      "Skipping frame 60 - Global MAD: 0.2328, Masked MAD: 0.2488 (threshold: 0.05)\n",
      "Avg FPS last 30 frames: 3.68\n"
     ]
    },
    {
     "name": "stderr",
     "output_type": "stream",
     "text": [
      "Propagating dance-twirl:  70%|██████▉   | 62/89 [00:16<00:07,  3.66it/s]"
     ]
    },
    {
     "name": "stdout",
     "output_type": "stream",
     "text": [
      "Skipping frame 61 - Global MAD: 0.2321, Masked MAD: 0.2454 (threshold: 0.05)\n"
     ]
    },
    {
     "name": "stderr",
     "output_type": "stream",
     "text": [
      "Propagating dance-twirl:  71%|███████   | 63/89 [00:16<00:07,  3.66it/s]"
     ]
    },
    {
     "name": "stdout",
     "output_type": "stream",
     "text": [
      "Skipping frame 62 - Global MAD: 0.2337, Masked MAD: 0.2496 (threshold: 0.05)\n"
     ]
    },
    {
     "name": "stderr",
     "output_type": "stream",
     "text": [
      "Propagating dance-twirl:  72%|███████▏  | 64/89 [00:17<00:06,  3.67it/s]"
     ]
    },
    {
     "name": "stdout",
     "output_type": "stream",
     "text": [
      "Skipping frame 63 - Global MAD: 0.2340, Masked MAD: 0.2455 (threshold: 0.05)\n"
     ]
    },
    {
     "name": "stderr",
     "output_type": "stream",
     "text": [
      "Propagating dance-twirl:  73%|███████▎  | 65/89 [00:17<00:06,  3.67it/s]"
     ]
    },
    {
     "name": "stdout",
     "output_type": "stream",
     "text": [
      "Skipping frame 64 - Global MAD: 0.2342, Masked MAD: 0.2567 (threshold: 0.05)\n"
     ]
    },
    {
     "name": "stderr",
     "output_type": "stream",
     "text": [
      "Propagating dance-twirl:  74%|███████▍  | 66/89 [00:17<00:06,  3.67it/s]"
     ]
    },
    {
     "name": "stdout",
     "output_type": "stream",
     "text": [
      "Skipping frame 65 - Global MAD: 0.2355, Masked MAD: 0.2567 (threshold: 0.05)\n"
     ]
    },
    {
     "name": "stderr",
     "output_type": "stream",
     "text": [
      "Propagating dance-twirl:  75%|███████▌  | 67/89 [00:17<00:05,  3.68it/s]"
     ]
    },
    {
     "name": "stdout",
     "output_type": "stream",
     "text": [
      "Skipping frame 66 - Global MAD: 0.2367, Masked MAD: 0.2493 (threshold: 0.05)\n"
     ]
    },
    {
     "name": "stderr",
     "output_type": "stream",
     "text": [
      "Propagating dance-twirl:  76%|███████▋  | 68/89 [00:18<00:05,  3.66it/s]"
     ]
    },
    {
     "name": "stdout",
     "output_type": "stream",
     "text": [
      "Skipping frame 67 - Global MAD: 0.2364, Masked MAD: 0.2501 (threshold: 0.05)\n"
     ]
    },
    {
     "name": "stderr",
     "output_type": "stream",
     "text": [
      "Propagating dance-twirl:  78%|███████▊  | 69/89 [00:18<00:05,  3.66it/s]"
     ]
    },
    {
     "name": "stdout",
     "output_type": "stream",
     "text": [
      "Skipping frame 68 - Global MAD: 0.2365, Masked MAD: 0.2507 (threshold: 0.05)\n"
     ]
    },
    {
     "name": "stderr",
     "output_type": "stream",
     "text": [
      "Propagating dance-twirl:  79%|███████▊  | 70/89 [00:18<00:05,  3.66it/s]"
     ]
    },
    {
     "name": "stdout",
     "output_type": "stream",
     "text": [
      "Skipping frame 69 - Global MAD: 0.2337, Masked MAD: 0.2393 (threshold: 0.05)\n"
     ]
    },
    {
     "name": "stderr",
     "output_type": "stream",
     "text": [
      "Propagating dance-twirl:  80%|███████▉  | 71/89 [00:18<00:04,  3.66it/s]"
     ]
    },
    {
     "name": "stdout",
     "output_type": "stream",
     "text": [
      "Skipping frame 70 - Global MAD: 0.2312, Masked MAD: 0.2347 (threshold: 0.05)\n"
     ]
    },
    {
     "name": "stderr",
     "output_type": "stream",
     "text": [
      "Propagating dance-twirl:  81%|████████  | 72/89 [00:19<00:04,  3.66it/s]"
     ]
    },
    {
     "name": "stdout",
     "output_type": "stream",
     "text": [
      "Skipping frame 71 - Global MAD: 0.2280, Masked MAD: 0.2342 (threshold: 0.05)\n"
     ]
    },
    {
     "name": "stderr",
     "output_type": "stream",
     "text": [
      "Propagating dance-twirl:  82%|████████▏ | 73/89 [00:19<00:04,  3.67it/s]"
     ]
    },
    {
     "name": "stdout",
     "output_type": "stream",
     "text": [
      "Skipping frame 72 - Global MAD: 0.2243, Masked MAD: 0.2356 (threshold: 0.05)\n"
     ]
    },
    {
     "name": "stderr",
     "output_type": "stream",
     "text": [
      "Propagating dance-twirl:  83%|████████▎ | 74/89 [00:19<00:04,  3.66it/s]"
     ]
    },
    {
     "name": "stdout",
     "output_type": "stream",
     "text": [
      "Skipping frame 73 - Global MAD: 0.2215, Masked MAD: 0.2386 (threshold: 0.05)\n"
     ]
    },
    {
     "name": "stderr",
     "output_type": "stream",
     "text": [
      "Propagating dance-twirl:  84%|████████▍ | 75/89 [00:20<00:03,  3.67it/s]"
     ]
    },
    {
     "name": "stdout",
     "output_type": "stream",
     "text": [
      "Skipping frame 74 - Global MAD: 0.2182, Masked MAD: 0.2316 (threshold: 0.05)\n"
     ]
    },
    {
     "name": "stderr",
     "output_type": "stream",
     "text": [
      "Propagating dance-twirl:  85%|████████▌ | 76/89 [00:20<00:03,  3.68it/s]"
     ]
    },
    {
     "name": "stdout",
     "output_type": "stream",
     "text": [
      "Skipping frame 75 - Global MAD: 0.2172, Masked MAD: 0.2293 (threshold: 0.05)\n"
     ]
    },
    {
     "name": "stderr",
     "output_type": "stream",
     "text": [
      "Propagating dance-twirl:  87%|████████▋ | 77/89 [00:20<00:03,  3.68it/s]"
     ]
    },
    {
     "name": "stdout",
     "output_type": "stream",
     "text": [
      "Skipping frame 76 - Global MAD: 0.2183, Masked MAD: 0.2319 (threshold: 0.05)\n"
     ]
    },
    {
     "name": "stderr",
     "output_type": "stream",
     "text": [
      "Propagating dance-twirl:  88%|████████▊ | 78/89 [00:20<00:02,  3.69it/s]"
     ]
    },
    {
     "name": "stdout",
     "output_type": "stream",
     "text": [
      "Skipping frame 77 - Global MAD: 0.2188, Masked MAD: 0.2340 (threshold: 0.05)\n"
     ]
    },
    {
     "name": "stderr",
     "output_type": "stream",
     "text": [
      "Propagating dance-twirl:  89%|████████▉ | 79/89 [00:21<00:02,  3.69it/s]"
     ]
    },
    {
     "name": "stdout",
     "output_type": "stream",
     "text": [
      "Skipping frame 78 - Global MAD: 0.2192, Masked MAD: 0.2358 (threshold: 0.05)\n"
     ]
    },
    {
     "name": "stderr",
     "output_type": "stream",
     "text": [
      "Propagating dance-twirl:  90%|████████▉ | 80/89 [00:21<00:02,  3.68it/s]"
     ]
    },
    {
     "name": "stdout",
     "output_type": "stream",
     "text": [
      "Skipping frame 79 - Global MAD: 0.2232, Masked MAD: 0.2422 (threshold: 0.05)\n"
     ]
    },
    {
     "name": "stderr",
     "output_type": "stream",
     "text": [
      "Propagating dance-twirl:  91%|█████████ | 81/89 [00:21<00:02,  3.68it/s]"
     ]
    },
    {
     "name": "stdout",
     "output_type": "stream",
     "text": [
      "Skipping frame 80 - Global MAD: 0.2254, Masked MAD: 0.2411 (threshold: 0.05)\n"
     ]
    },
    {
     "name": "stderr",
     "output_type": "stream",
     "text": [
      "Propagating dance-twirl:  92%|█████████▏| 82/89 [00:21<00:01,  3.67it/s]"
     ]
    },
    {
     "name": "stdout",
     "output_type": "stream",
     "text": [
      "Skipping frame 81 - Global MAD: 0.2247, Masked MAD: 0.2398 (threshold: 0.05)\n"
     ]
    },
    {
     "name": "stderr",
     "output_type": "stream",
     "text": [
      "Propagating dance-twirl:  93%|█████████▎| 83/89 [00:22<00:01,  3.67it/s]"
     ]
    },
    {
     "name": "stdout",
     "output_type": "stream",
     "text": [
      "Skipping frame 82 - Global MAD: 0.2257, Masked MAD: 0.2530 (threshold: 0.05)\n"
     ]
    },
    {
     "name": "stderr",
     "output_type": "stream",
     "text": [
      "Propagating dance-twirl:  94%|█████████▍| 84/89 [00:22<00:01,  3.67it/s]"
     ]
    },
    {
     "name": "stdout",
     "output_type": "stream",
     "text": [
      "Skipping frame 83 - Global MAD: 0.2246, Masked MAD: 0.2549 (threshold: 0.05)\n"
     ]
    },
    {
     "name": "stderr",
     "output_type": "stream",
     "text": [
      "Propagating dance-twirl:  96%|█████████▌| 85/89 [00:22<00:01,  3.68it/s]"
     ]
    },
    {
     "name": "stdout",
     "output_type": "stream",
     "text": [
      "Skipping frame 84 - Global MAD: 0.2207, Masked MAD: 0.2426 (threshold: 0.05)\n"
     ]
    },
    {
     "name": "stderr",
     "output_type": "stream",
     "text": [
      "Propagating dance-twirl:  97%|█████████▋| 86/89 [00:23<00:00,  3.68it/s]"
     ]
    },
    {
     "name": "stdout",
     "output_type": "stream",
     "text": [
      "Skipping frame 85 - Global MAD: 0.2215, Masked MAD: 0.2347 (threshold: 0.05)\n"
     ]
    },
    {
     "name": "stderr",
     "output_type": "stream",
     "text": [
      "Propagating dance-twirl:  98%|█████████▊| 87/89 [00:23<00:00,  3.68it/s]"
     ]
    },
    {
     "name": "stdout",
     "output_type": "stream",
     "text": [
      "Skipping frame 86 - Global MAD: 0.2238, Masked MAD: 0.2429 (threshold: 0.05)\n"
     ]
    },
    {
     "name": "stderr",
     "output_type": "stream",
     "text": [
      "Propagating dance-twirl:  99%|█████████▉| 88/89 [00:23<00:00,  3.67it/s]"
     ]
    },
    {
     "name": "stdout",
     "output_type": "stream",
     "text": [
      "Skipping frame 87 - Global MAD: 0.2233, Masked MAD: 0.2506 (threshold: 0.05)\n"
     ]
    },
    {
     "name": "stderr",
     "output_type": "stream",
     "text": [
      "Propagating dance-twirl: 100%|██████████| 89/89 [00:23<00:00,  3.65it/s]"
     ]
    },
    {
     "name": "stdout",
     "output_type": "stream",
     "text": [
      "Skipping frame 88 - Global MAD: 0.2216, Masked MAD: 0.2513 (threshold: 0.05)\n"
     ]
    },
    {
     "name": "stderr",
     "output_type": "stream",
     "text": [
      "propagate in video: 100%|██████████| 90/90 [00:24<00:00,  3.73it/s]     \n",
      "Propagating dance-twirl: 90it [00:24,  3.73it/s]\n"
     ]
    },
    {
     "name": "stdout",
     "output_type": "stream",
     "text": [
      "Skipping frame 89 - Global MAD: 0.2185, Masked MAD: 0.2427 (threshold: 0.05)\n",
      "Skipped 89 frames due to low MAD.\n",
      "→ Saved all predicted masks for dance-twirl in data/DAVIS2017_mgfs_naive/dance-twirl\n",
      "\n",
      "=== Processing sequence: dog ===\n"
     ]
    },
    {
     "name": "stderr",
     "output_type": "stream",
     "text": [
      "frame loading (JPEG): 100%|██████████| 60/60 [00:01<00:00, 50.73it/s]\n"
     ]
    },
    {
     "name": "stdout",
     "output_type": "stream",
     "text": [
      "Found 1 unique non‐black colors in dog/00000.png\n"
     ]
    },
    {
     "name": "stderr",
     "output_type": "stream",
     "text": [
      "Propagating dog:   3%|▎         | 2/59 [00:00<00:08,  7.06it/s]"
     ]
    },
    {
     "name": "stdout",
     "output_type": "stream",
     "text": [
      "Skipping frame 1 - Global MAD: 0.0848, Masked MAD: 0.0687 (threshold: 0.05)\n"
     ]
    },
    {
     "name": "stderr",
     "output_type": "stream",
     "text": [
      "Propagating dog:   5%|▌         | 3/59 [00:00<00:10,  5.09it/s]"
     ]
    },
    {
     "name": "stdout",
     "output_type": "stream",
     "text": [
      "Skipping frame 2 - Global MAD: 0.0849, Masked MAD: 0.0670 (threshold: 0.05)\n"
     ]
    },
    {
     "name": "stderr",
     "output_type": "stream",
     "text": [
      "Propagating dog:   7%|▋         | 4/59 [00:00<00:12,  4.44it/s]"
     ]
    },
    {
     "name": "stdout",
     "output_type": "stream",
     "text": [
      "Skipping frame 3 - Global MAD: 0.0812, Masked MAD: 0.0742 (threshold: 0.05)\n"
     ]
    },
    {
     "name": "stderr",
     "output_type": "stream",
     "text": [
      "Propagating dog:   8%|▊         | 5/59 [00:01<00:13,  4.13it/s]"
     ]
    },
    {
     "name": "stdout",
     "output_type": "stream",
     "text": [
      "Skipping frame 4 - Global MAD: 0.0894, Masked MAD: 0.1155 (threshold: 0.05)\n"
     ]
    },
    {
     "name": "stderr",
     "output_type": "stream",
     "text": [
      "Propagating dog:  10%|█         | 6/59 [00:01<00:13,  3.97it/s]"
     ]
    },
    {
     "name": "stdout",
     "output_type": "stream",
     "text": [
      "Skipping frame 5 - Global MAD: 0.0998, Masked MAD: 0.1376 (threshold: 0.05)\n"
     ]
    },
    {
     "name": "stderr",
     "output_type": "stream",
     "text": [
      "Propagating dog:  12%|█▏        | 7/59 [00:01<00:13,  3.87it/s]"
     ]
    },
    {
     "name": "stdout",
     "output_type": "stream",
     "text": [
      "Skipping frame 6 - Global MAD: 0.1081, Masked MAD: 0.1498 (threshold: 0.05)\n"
     ]
    },
    {
     "name": "stderr",
     "output_type": "stream",
     "text": [
      "Propagating dog:  14%|█▎        | 8/59 [00:01<00:13,  3.80it/s]"
     ]
    },
    {
     "name": "stdout",
     "output_type": "stream",
     "text": [
      "Skipping frame 7 - Global MAD: 0.1083, Masked MAD: 0.1488 (threshold: 0.05)\n"
     ]
    },
    {
     "name": "stderr",
     "output_type": "stream",
     "text": [
      "Propagating dog:  15%|█▌        | 9/59 [00:02<00:13,  3.75it/s]"
     ]
    },
    {
     "name": "stdout",
     "output_type": "stream",
     "text": [
      "Skipping frame 8 - Global MAD: 0.1096, Masked MAD: 0.1459 (threshold: 0.05)\n"
     ]
    },
    {
     "name": "stderr",
     "output_type": "stream",
     "text": [
      "Propagating dog:  17%|█▋        | 10/59 [00:02<00:13,  3.72it/s]"
     ]
    },
    {
     "name": "stdout",
     "output_type": "stream",
     "text": [
      "Skipping frame 9 - Global MAD: 0.1124, Masked MAD: 0.1482 (threshold: 0.05)\n"
     ]
    },
    {
     "name": "stderr",
     "output_type": "stream",
     "text": [
      "Propagating dog:  19%|█▊        | 11/59 [00:02<00:12,  3.71it/s]"
     ]
    },
    {
     "name": "stdout",
     "output_type": "stream",
     "text": [
      "Skipping frame 10 - Global MAD: 0.1172, Masked MAD: 0.1556 (threshold: 0.05)\n"
     ]
    },
    {
     "name": "stderr",
     "output_type": "stream",
     "text": [
      "Propagating dog:  20%|██        | 12/59 [00:03<00:12,  3.70it/s]"
     ]
    },
    {
     "name": "stdout",
     "output_type": "stream",
     "text": [
      "Skipping frame 11 - Global MAD: 0.1211, Masked MAD: 0.1612 (threshold: 0.05)\n"
     ]
    },
    {
     "name": "stderr",
     "output_type": "stream",
     "text": [
      "Propagating dog:  22%|██▏       | 13/59 [00:03<00:12,  3.70it/s]"
     ]
    },
    {
     "name": "stdout",
     "output_type": "stream",
     "text": [
      "Skipping frame 12 - Global MAD: 0.1188, Masked MAD: 0.1585 (threshold: 0.05)\n"
     ]
    },
    {
     "name": "stderr",
     "output_type": "stream",
     "text": [
      "Propagating dog:  24%|██▎       | 14/59 [00:03<00:12,  3.69it/s]"
     ]
    },
    {
     "name": "stdout",
     "output_type": "stream",
     "text": [
      "Skipping frame 13 - Global MAD: 0.1138, Masked MAD: 0.1502 (threshold: 0.05)\n"
     ]
    },
    {
     "name": "stderr",
     "output_type": "stream",
     "text": [
      "Propagating dog:  25%|██▌       | 15/59 [00:03<00:11,  3.67it/s]"
     ]
    },
    {
     "name": "stdout",
     "output_type": "stream",
     "text": [
      "Skipping frame 14 - Global MAD: 0.1093, Masked MAD: 0.1452 (threshold: 0.05)\n"
     ]
    },
    {
     "name": "stderr",
     "output_type": "stream",
     "text": [
      "Propagating dog:  27%|██▋       | 16/59 [00:04<00:11,  3.66it/s]"
     ]
    },
    {
     "name": "stdout",
     "output_type": "stream",
     "text": [
      "Skipping frame 15 - Global MAD: 0.1074, Masked MAD: 0.1444 (threshold: 0.05)\n"
     ]
    },
    {
     "name": "stderr",
     "output_type": "stream",
     "text": [
      "Propagating dog:  29%|██▉       | 17/59 [00:04<00:11,  3.67it/s]"
     ]
    },
    {
     "name": "stdout",
     "output_type": "stream",
     "text": [
      "Skipping frame 16 - Global MAD: 0.1055, Masked MAD: 0.1354 (threshold: 0.05)\n"
     ]
    },
    {
     "name": "stderr",
     "output_type": "stream",
     "text": [
      "Propagating dog:  31%|███       | 18/59 [00:04<00:11,  3.69it/s]"
     ]
    },
    {
     "name": "stdout",
     "output_type": "stream",
     "text": [
      "Skipping frame 17 - Global MAD: 0.1014, Masked MAD: 0.1249 (threshold: 0.05)\n"
     ]
    },
    {
     "name": "stderr",
     "output_type": "stream",
     "text": [
      "Propagating dog:  32%|███▏      | 19/59 [00:04<00:10,  3.70it/s]"
     ]
    },
    {
     "name": "stdout",
     "output_type": "stream",
     "text": [
      "Skipping frame 18 - Global MAD: 0.0988, Masked MAD: 0.1174 (threshold: 0.05)\n"
     ]
    },
    {
     "name": "stderr",
     "output_type": "stream",
     "text": [
      "Propagating dog:  34%|███▍      | 20/59 [00:05<00:10,  3.70it/s]"
     ]
    },
    {
     "name": "stdout",
     "output_type": "stream",
     "text": [
      "Skipping frame 19 - Global MAD: 0.0993, Masked MAD: 0.1114 (threshold: 0.05)\n"
     ]
    },
    {
     "name": "stderr",
     "output_type": "stream",
     "text": [
      "Propagating dog:  36%|███▌      | 21/59 [00:05<00:10,  3.68it/s]"
     ]
    },
    {
     "name": "stdout",
     "output_type": "stream",
     "text": [
      "Skipping frame 20 - Global MAD: 0.1008, Masked MAD: 0.1065 (threshold: 0.05)\n"
     ]
    },
    {
     "name": "stderr",
     "output_type": "stream",
     "text": [
      "Propagating dog:  37%|███▋      | 22/59 [00:05<00:10,  3.69it/s]"
     ]
    },
    {
     "name": "stdout",
     "output_type": "stream",
     "text": [
      "Skipping frame 21 - Global MAD: 0.1101, Masked MAD: 0.1078 (threshold: 0.05)\n"
     ]
    },
    {
     "name": "stderr",
     "output_type": "stream",
     "text": [
      "Propagating dog:  39%|███▉      | 23/59 [00:06<00:09,  3.68it/s]"
     ]
    },
    {
     "name": "stdout",
     "output_type": "stream",
     "text": [
      "Skipping frame 22 - Global MAD: 0.1170, Masked MAD: 0.1124 (threshold: 0.05)\n"
     ]
    },
    {
     "name": "stderr",
     "output_type": "stream",
     "text": [
      "Propagating dog:  41%|████      | 24/59 [00:06<00:09,  3.67it/s]"
     ]
    },
    {
     "name": "stdout",
     "output_type": "stream",
     "text": [
      "Skipping frame 23 - Global MAD: 0.1151, Masked MAD: 0.1117 (threshold: 0.05)\n"
     ]
    },
    {
     "name": "stderr",
     "output_type": "stream",
     "text": [
      "Propagating dog:  42%|████▏     | 25/59 [00:06<00:09,  3.68it/s]"
     ]
    },
    {
     "name": "stdout",
     "output_type": "stream",
     "text": [
      "Skipping frame 24 - Global MAD: 0.1147, Masked MAD: 0.1170 (threshold: 0.05)\n"
     ]
    },
    {
     "name": "stderr",
     "output_type": "stream",
     "text": [
      "Propagating dog:  44%|████▍     | 26/59 [00:06<00:08,  3.69it/s]"
     ]
    },
    {
     "name": "stdout",
     "output_type": "stream",
     "text": [
      "Skipping frame 25 - Global MAD: 0.1186, Masked MAD: 0.1281 (threshold: 0.05)\n"
     ]
    },
    {
     "name": "stderr",
     "output_type": "stream",
     "text": [
      "Propagating dog:  46%|████▌     | 27/59 [00:07<00:08,  3.68it/s]"
     ]
    },
    {
     "name": "stdout",
     "output_type": "stream",
     "text": [
      "Skipping frame 26 - Global MAD: 0.1245, Masked MAD: 0.1382 (threshold: 0.05)\n"
     ]
    },
    {
     "name": "stderr",
     "output_type": "stream",
     "text": [
      "Propagating dog:  47%|████▋     | 28/59 [00:07<00:08,  3.68it/s]"
     ]
    },
    {
     "name": "stdout",
     "output_type": "stream",
     "text": [
      "Skipping frame 27 - Global MAD: 0.1297, Masked MAD: 0.1402 (threshold: 0.05)\n"
     ]
    },
    {
     "name": "stderr",
     "output_type": "stream",
     "text": [
      "Propagating dog:  49%|████▉     | 29/59 [00:07<00:08,  3.68it/s]"
     ]
    },
    {
     "name": "stdout",
     "output_type": "stream",
     "text": [
      "Skipping frame 28 - Global MAD: 0.1320, Masked MAD: 0.1428 (threshold: 0.05)\n"
     ]
    },
    {
     "name": "stderr",
     "output_type": "stream",
     "text": [
      "Propagating dog:  51%|█████     | 30/59 [00:07<00:07,  3.68it/s]"
     ]
    },
    {
     "name": "stdout",
     "output_type": "stream",
     "text": [
      "Skipping frame 29 - Global MAD: 0.1314, Masked MAD: 0.1440 (threshold: 0.05)\n"
     ]
    },
    {
     "name": "stderr",
     "output_type": "stream",
     "text": [
      "Propagating dog:  53%|█████▎    | 31/59 [00:08<00:07,  3.69it/s]"
     ]
    },
    {
     "name": "stdout",
     "output_type": "stream",
     "text": [
      "Skipping frame 30 - Global MAD: 0.1313, Masked MAD: 0.1470 (threshold: 0.05)\n",
      "Avg FPS last 30 frames: 3.68\n"
     ]
    },
    {
     "name": "stderr",
     "output_type": "stream",
     "text": [
      "Propagating dog:  54%|█████▍    | 32/59 [00:08<00:07,  3.68it/s]"
     ]
    },
    {
     "name": "stdout",
     "output_type": "stream",
     "text": [
      "Skipping frame 31 - Global MAD: 0.1315, Masked MAD: 0.1503 (threshold: 0.05)\n"
     ]
    },
    {
     "name": "stderr",
     "output_type": "stream",
     "text": [
      "Propagating dog:  56%|█████▌    | 33/59 [00:08<00:07,  3.67it/s]"
     ]
    },
    {
     "name": "stdout",
     "output_type": "stream",
     "text": [
      "Skipping frame 32 - Global MAD: 0.1332, Masked MAD: 0.1515 (threshold: 0.05)\n"
     ]
    },
    {
     "name": "stderr",
     "output_type": "stream",
     "text": [
      "Propagating dog:  58%|█████▊    | 34/59 [00:08<00:06,  3.68it/s]"
     ]
    },
    {
     "name": "stdout",
     "output_type": "stream",
     "text": [
      "Skipping frame 33 - Global MAD: 0.1359, Masked MAD: 0.1594 (threshold: 0.05)\n"
     ]
    },
    {
     "name": "stderr",
     "output_type": "stream",
     "text": [
      "Propagating dog:  59%|█████▉    | 35/59 [00:09<00:06,  3.68it/s]"
     ]
    },
    {
     "name": "stdout",
     "output_type": "stream",
     "text": [
      "Skipping frame 34 - Global MAD: 0.1341, Masked MAD: 0.1563 (threshold: 0.05)\n"
     ]
    },
    {
     "name": "stderr",
     "output_type": "stream",
     "text": [
      "Propagating dog:  61%|██████    | 36/59 [00:09<00:06,  3.68it/s]"
     ]
    },
    {
     "name": "stdout",
     "output_type": "stream",
     "text": [
      "Skipping frame 35 - Global MAD: 0.1341, Masked MAD: 0.1520 (threshold: 0.05)\n"
     ]
    },
    {
     "name": "stderr",
     "output_type": "stream",
     "text": [
      "Propagating dog:  63%|██████▎   | 37/59 [00:09<00:05,  3.67it/s]"
     ]
    },
    {
     "name": "stdout",
     "output_type": "stream",
     "text": [
      "Skipping frame 36 - Global MAD: 0.1287, Masked MAD: 0.1401 (threshold: 0.05)\n"
     ]
    },
    {
     "name": "stderr",
     "output_type": "stream",
     "text": [
      "Propagating dog:  64%|██████▍   | 38/59 [00:10<00:05,  3.69it/s]"
     ]
    },
    {
     "name": "stdout",
     "output_type": "stream",
     "text": [
      "Skipping frame 37 - Global MAD: 0.1280, Masked MAD: 0.1307 (threshold: 0.05)\n"
     ]
    },
    {
     "name": "stderr",
     "output_type": "stream",
     "text": [
      "Propagating dog:  66%|██████▌   | 39/59 [00:10<00:05,  3.70it/s]"
     ]
    },
    {
     "name": "stdout",
     "output_type": "stream",
     "text": [
      "Skipping frame 38 - Global MAD: 0.1281, Masked MAD: 0.1330 (threshold: 0.05)\n"
     ]
    },
    {
     "name": "stderr",
     "output_type": "stream",
     "text": [
      "Propagating dog:  68%|██████▊   | 40/59 [00:10<00:05,  3.70it/s]"
     ]
    },
    {
     "name": "stdout",
     "output_type": "stream",
     "text": [
      "Skipping frame 39 - Global MAD: 0.1274, Masked MAD: 0.1338 (threshold: 0.05)\n"
     ]
    },
    {
     "name": "stderr",
     "output_type": "stream",
     "text": [
      "Propagating dog:  69%|██████▉   | 41/59 [00:10<00:04,  3.70it/s]"
     ]
    },
    {
     "name": "stdout",
     "output_type": "stream",
     "text": [
      "Skipping frame 40 - Global MAD: 0.1317, Masked MAD: 0.1404 (threshold: 0.05)\n"
     ]
    },
    {
     "name": "stderr",
     "output_type": "stream",
     "text": [
      "Propagating dog:  71%|███████   | 42/59 [00:11<00:04,  3.70it/s]"
     ]
    },
    {
     "name": "stdout",
     "output_type": "stream",
     "text": [
      "Skipping frame 41 - Global MAD: 0.1329, Masked MAD: 0.1420 (threshold: 0.05)\n"
     ]
    },
    {
     "name": "stderr",
     "output_type": "stream",
     "text": [
      "Propagating dog:  73%|███████▎  | 43/59 [00:11<00:04,  3.70it/s]"
     ]
    },
    {
     "name": "stdout",
     "output_type": "stream",
     "text": [
      "Skipping frame 42 - Global MAD: 0.1351, Masked MAD: 0.1407 (threshold: 0.05)\n"
     ]
    },
    {
     "name": "stderr",
     "output_type": "stream",
     "text": [
      "Propagating dog:  75%|███████▍  | 44/59 [00:11<00:04,  3.70it/s]"
     ]
    },
    {
     "name": "stdout",
     "output_type": "stream",
     "text": [
      "Skipping frame 43 - Global MAD: 0.1364, Masked MAD: 0.1370 (threshold: 0.05)\n"
     ]
    },
    {
     "name": "stderr",
     "output_type": "stream",
     "text": [
      "Propagating dog:  76%|███████▋  | 45/59 [00:11<00:03,  3.68it/s]"
     ]
    },
    {
     "name": "stdout",
     "output_type": "stream",
     "text": [
      "Skipping frame 44 - Global MAD: 0.1389, Masked MAD: 0.1357 (threshold: 0.05)\n"
     ]
    },
    {
     "name": "stderr",
     "output_type": "stream",
     "text": [
      "Propagating dog:  78%|███████▊  | 46/59 [00:12<00:03,  3.68it/s]"
     ]
    },
    {
     "name": "stdout",
     "output_type": "stream",
     "text": [
      "Skipping frame 45 - Global MAD: 0.1400, Masked MAD: 0.1246 (threshold: 0.05)\n"
     ]
    },
    {
     "name": "stderr",
     "output_type": "stream",
     "text": [
      "Propagating dog:  80%|███████▉  | 47/59 [00:12<00:03,  3.67it/s]"
     ]
    },
    {
     "name": "stdout",
     "output_type": "stream",
     "text": [
      "Skipping frame 46 - Global MAD: 0.1421, Masked MAD: 0.1206 (threshold: 0.05)\n"
     ]
    },
    {
     "name": "stderr",
     "output_type": "stream",
     "text": [
      "Propagating dog:  81%|████████▏ | 48/59 [00:12<00:03,  3.66it/s]"
     ]
    },
    {
     "name": "stdout",
     "output_type": "stream",
     "text": [
      "Skipping frame 47 - Global MAD: 0.1450, Masked MAD: 0.1214 (threshold: 0.05)\n"
     ]
    },
    {
     "name": "stderr",
     "output_type": "stream",
     "text": [
      "Propagating dog:  83%|████████▎ | 49/59 [00:13<00:02,  3.66it/s]"
     ]
    },
    {
     "name": "stdout",
     "output_type": "stream",
     "text": [
      "Skipping frame 48 - Global MAD: 0.1493, Masked MAD: 0.1277 (threshold: 0.05)\n"
     ]
    },
    {
     "name": "stderr",
     "output_type": "stream",
     "text": [
      "Propagating dog:  85%|████████▍ | 50/59 [00:13<00:02,  3.66it/s]"
     ]
    },
    {
     "name": "stdout",
     "output_type": "stream",
     "text": [
      "Skipping frame 49 - Global MAD: 0.1548, Masked MAD: 0.1334 (threshold: 0.05)\n"
     ]
    },
    {
     "name": "stderr",
     "output_type": "stream",
     "text": [
      "Propagating dog:  86%|████████▋ | 51/59 [00:13<00:02,  3.68it/s]"
     ]
    },
    {
     "name": "stdout",
     "output_type": "stream",
     "text": [
      "Skipping frame 50 - Global MAD: 0.1590, Masked MAD: 0.1401 (threshold: 0.05)\n"
     ]
    },
    {
     "name": "stderr",
     "output_type": "stream",
     "text": [
      "Propagating dog:  88%|████████▊ | 52/59 [00:13<00:01,  3.70it/s]"
     ]
    },
    {
     "name": "stdout",
     "output_type": "stream",
     "text": [
      "Skipping frame 51 - Global MAD: 0.1565, Masked MAD: 0.1364 (threshold: 0.05)\n"
     ]
    },
    {
     "name": "stderr",
     "output_type": "stream",
     "text": [
      "Propagating dog:  90%|████████▉ | 53/59 [00:14<00:01,  3.70it/s]"
     ]
    },
    {
     "name": "stdout",
     "output_type": "stream",
     "text": [
      "Skipping frame 52 - Global MAD: 0.1551, Masked MAD: 0.1428 (threshold: 0.05)\n"
     ]
    },
    {
     "name": "stderr",
     "output_type": "stream",
     "text": [
      "Propagating dog:  92%|█████████▏| 54/59 [00:14<00:01,  3.69it/s]"
     ]
    },
    {
     "name": "stdout",
     "output_type": "stream",
     "text": [
      "Skipping frame 53 - Global MAD: 0.1537, Masked MAD: 0.1467 (threshold: 0.05)\n"
     ]
    },
    {
     "name": "stderr",
     "output_type": "stream",
     "text": [
      "Propagating dog:  93%|█████████▎| 55/59 [00:14<00:01,  3.70it/s]"
     ]
    },
    {
     "name": "stdout",
     "output_type": "stream",
     "text": [
      "Skipping frame 54 - Global MAD: 0.1552, Masked MAD: 0.1445 (threshold: 0.05)\n"
     ]
    },
    {
     "name": "stderr",
     "output_type": "stream",
     "text": [
      "Propagating dog:  95%|█████████▍| 56/59 [00:14<00:00,  3.69it/s]"
     ]
    },
    {
     "name": "stdout",
     "output_type": "stream",
     "text": [
      "Skipping frame 55 - Global MAD: 0.1592, Masked MAD: 0.1485 (threshold: 0.05)\n"
     ]
    },
    {
     "name": "stderr",
     "output_type": "stream",
     "text": [
      "Propagating dog:  97%|█████████▋| 57/59 [00:15<00:00,  3.68it/s]"
     ]
    },
    {
     "name": "stdout",
     "output_type": "stream",
     "text": [
      "Skipping frame 56 - Global MAD: 0.1578, Masked MAD: 0.1524 (threshold: 0.05)\n"
     ]
    },
    {
     "name": "stderr",
     "output_type": "stream",
     "text": [
      "Propagating dog:  98%|█████████▊| 58/59 [00:15<00:00,  3.69it/s]"
     ]
    },
    {
     "name": "stdout",
     "output_type": "stream",
     "text": [
      "Skipping frame 57 - Global MAD: 0.1550, Masked MAD: 0.1460 (threshold: 0.05)\n"
     ]
    },
    {
     "name": "stderr",
     "output_type": "stream",
     "text": [
      "Propagating dog: 100%|██████████| 59/59 [00:15<00:00,  3.70it/s]"
     ]
    },
    {
     "name": "stdout",
     "output_type": "stream",
     "text": [
      "Skipping frame 58 - Global MAD: 0.1579, Masked MAD: 0.1462 (threshold: 0.05)\n"
     ]
    },
    {
     "name": "stderr",
     "output_type": "stream",
     "text": [
      "propagate in video: 100%|██████████| 60/60 [00:16<00:00,  3.74it/s]\n",
      "Propagating dog: 60it [00:16,  3.74it/s]\n"
     ]
    },
    {
     "name": "stdout",
     "output_type": "stream",
     "text": [
      "Skipping frame 59 - Global MAD: 0.1590, Masked MAD: 0.1489 (threshold: 0.05)\n",
      "Skipped 59 frames due to low MAD.\n",
      "→ Saved all predicted masks for dog in data/DAVIS2017_mgfs_naive/dog\n",
      "\n",
      "=== Processing sequence: dogs-jump ===\n"
     ]
    },
    {
     "name": "stderr",
     "output_type": "stream",
     "text": [
      "frame loading (JPEG): 100%|██████████| 66/66 [00:01<00:00, 49.58it/s]\n"
     ]
    },
    {
     "name": "stdout",
     "output_type": "stream",
     "text": [
      "Found 3 unique non‐black colors in dogs-jump/00000.png\n"
     ]
    },
    {
     "name": "stderr",
     "output_type": "stream",
     "text": [
      "Propagating dogs-jump:   3%|▎         | 2/65 [00:00<00:09,  6.47it/s]"
     ]
    },
    {
     "name": "stdout",
     "output_type": "stream",
     "text": [
      "Skipping frame 1 - Global MAD: 0.0129, Masked MAD: 0.0475 (threshold: 0.05)\n"
     ]
    },
    {
     "name": "stderr",
     "output_type": "stream",
     "text": [
      "Propagating dogs-jump:   5%|▍         | 3/65 [00:00<00:13,  4.76it/s]"
     ]
    },
    {
     "name": "stdout",
     "output_type": "stream",
     "text": [
      "Skipping frame 2 - Global MAD: 0.0215, Masked MAD: 0.0738 (threshold: 0.05)\n"
     ]
    },
    {
     "name": "stderr",
     "output_type": "stream",
     "text": [
      "Propagating dogs-jump:   6%|▌         | 4/65 [00:00<00:14,  4.16it/s]"
     ]
    },
    {
     "name": "stdout",
     "output_type": "stream",
     "text": [
      "Skipping frame 3 - Global MAD: 0.0261, Masked MAD: 0.0798 (threshold: 0.05)\n"
     ]
    },
    {
     "name": "stderr",
     "output_type": "stream",
     "text": [
      "Propagating dogs-jump:   8%|▊         | 5/65 [00:01<00:15,  3.88it/s]"
     ]
    },
    {
     "name": "stdout",
     "output_type": "stream",
     "text": [
      "Skipping frame 4 - Global MAD: 0.0328, Masked MAD: 0.1096 (threshold: 0.05)\n"
     ]
    },
    {
     "name": "stderr",
     "output_type": "stream",
     "text": [
      "Propagating dogs-jump:   9%|▉         | 6/65 [00:01<00:15,  3.73it/s]"
     ]
    },
    {
     "name": "stdout",
     "output_type": "stream",
     "text": [
      "Skipping frame 5 - Global MAD: 0.0385, Masked MAD: 0.1286 (threshold: 0.05)\n"
     ]
    },
    {
     "name": "stderr",
     "output_type": "stream",
     "text": [
      "Propagating dogs-jump:  11%|█         | 7/65 [00:01<00:15,  3.64it/s]"
     ]
    },
    {
     "name": "stdout",
     "output_type": "stream",
     "text": [
      "Skipping frame 6 - Global MAD: 0.0444, Masked MAD: 0.1421 (threshold: 0.05)\n"
     ]
    },
    {
     "name": "stderr",
     "output_type": "stream",
     "text": [
      "Propagating dogs-jump:  12%|█▏        | 8/65 [00:02<00:15,  3.58it/s]"
     ]
    },
    {
     "name": "stdout",
     "output_type": "stream",
     "text": [
      "Skipping frame 7 - Global MAD: 0.0479, Masked MAD: 0.1613 (threshold: 0.05)\n"
     ]
    },
    {
     "name": "stderr",
     "output_type": "stream",
     "text": [
      "Propagating dogs-jump:  14%|█▍        | 9/65 [00:02<00:15,  3.55it/s]"
     ]
    },
    {
     "name": "stdout",
     "output_type": "stream",
     "text": [
      "Skipping frame 8 - Global MAD: 0.0504, Masked MAD: 0.1837 (threshold: 0.05)\n"
     ]
    },
    {
     "name": "stderr",
     "output_type": "stream",
     "text": [
      "Propagating dogs-jump:  15%|█▌        | 10/65 [00:02<00:15,  3.52it/s]"
     ]
    },
    {
     "name": "stdout",
     "output_type": "stream",
     "text": [
      "Skipping frame 9 - Global MAD: 0.0550, Masked MAD: 0.1949 (threshold: 0.05)\n"
     ]
    },
    {
     "name": "stderr",
     "output_type": "stream",
     "text": [
      "Propagating dogs-jump:  17%|█▋        | 11/65 [00:02<00:15,  3.51it/s]"
     ]
    },
    {
     "name": "stdout",
     "output_type": "stream",
     "text": [
      "Skipping frame 10 - Global MAD: 0.0610, Masked MAD: 0.1958 (threshold: 0.05)\n"
     ]
    },
    {
     "name": "stderr",
     "output_type": "stream",
     "text": [
      "Propagating dogs-jump:  18%|█▊        | 12/65 [00:03<00:15,  3.50it/s]"
     ]
    },
    {
     "name": "stdout",
     "output_type": "stream",
     "text": [
      "Skipping frame 11 - Global MAD: 0.0666, Masked MAD: 0.1952 (threshold: 0.05)\n"
     ]
    },
    {
     "name": "stderr",
     "output_type": "stream",
     "text": [
      "Propagating dogs-jump:  20%|██        | 13/65 [00:03<00:14,  3.49it/s]"
     ]
    },
    {
     "name": "stdout",
     "output_type": "stream",
     "text": [
      "Skipping frame 12 - Global MAD: 0.0706, Masked MAD: 0.2145 (threshold: 0.05)\n"
     ]
    },
    {
     "name": "stderr",
     "output_type": "stream",
     "text": [
      "Propagating dogs-jump:  22%|██▏       | 14/65 [00:03<00:14,  3.48it/s]"
     ]
    },
    {
     "name": "stdout",
     "output_type": "stream",
     "text": [
      "Skipping frame 13 - Global MAD: 0.0763, Masked MAD: 0.2213 (threshold: 0.05)\n"
     ]
    },
    {
     "name": "stderr",
     "output_type": "stream",
     "text": [
      "Propagating dogs-jump:  23%|██▎       | 15/65 [00:04<00:14,  3.48it/s]"
     ]
    },
    {
     "name": "stdout",
     "output_type": "stream",
     "text": [
      "Skipping frame 14 - Global MAD: 0.0841, Masked MAD: 0.2168 (threshold: 0.05)\n"
     ]
    },
    {
     "name": "stderr",
     "output_type": "stream",
     "text": [
      "Propagating dogs-jump:  25%|██▍       | 16/65 [00:04<00:14,  3.48it/s]"
     ]
    },
    {
     "name": "stdout",
     "output_type": "stream",
     "text": [
      "Skipping frame 15 - Global MAD: 0.0885, Masked MAD: 0.2193 (threshold: 0.05)\n"
     ]
    },
    {
     "name": "stderr",
     "output_type": "stream",
     "text": [
      "Propagating dogs-jump:  26%|██▌       | 17/65 [00:04<00:13,  3.47it/s]"
     ]
    },
    {
     "name": "stdout",
     "output_type": "stream",
     "text": [
      "Skipping frame 16 - Global MAD: 0.0902, Masked MAD: 0.2243 (threshold: 0.05)\n"
     ]
    },
    {
     "name": "stderr",
     "output_type": "stream",
     "text": [
      "Propagating dogs-jump:  28%|██▊       | 18/65 [00:04<00:13,  3.47it/s]"
     ]
    },
    {
     "name": "stdout",
     "output_type": "stream",
     "text": [
      "Skipping frame 17 - Global MAD: 0.0899, Masked MAD: 0.2283 (threshold: 0.05)\n"
     ]
    },
    {
     "name": "stderr",
     "output_type": "stream",
     "text": [
      "Propagating dogs-jump:  29%|██▉       | 19/65 [00:05<00:13,  3.48it/s]"
     ]
    },
    {
     "name": "stdout",
     "output_type": "stream",
     "text": [
      "Skipping frame 18 - Global MAD: 0.0898, Masked MAD: 0.2320 (threshold: 0.05)\n"
     ]
    },
    {
     "name": "stderr",
     "output_type": "stream",
     "text": [
      "Propagating dogs-jump:  31%|███       | 20/65 [00:05<00:12,  3.48it/s]"
     ]
    },
    {
     "name": "stdout",
     "output_type": "stream",
     "text": [
      "Skipping frame 19 - Global MAD: 0.0922, Masked MAD: 0.2335 (threshold: 0.05)\n"
     ]
    },
    {
     "name": "stderr",
     "output_type": "stream",
     "text": [
      "Propagating dogs-jump:  32%|███▏      | 21/65 [00:05<00:12,  3.48it/s]"
     ]
    },
    {
     "name": "stdout",
     "output_type": "stream",
     "text": [
      "Skipping frame 20 - Global MAD: 0.0906, Masked MAD: 0.2372 (threshold: 0.05)\n"
     ]
    },
    {
     "name": "stderr",
     "output_type": "stream",
     "text": [
      "Propagating dogs-jump:  34%|███▍      | 22/65 [00:06<00:12,  3.47it/s]"
     ]
    },
    {
     "name": "stdout",
     "output_type": "stream",
     "text": [
      "Skipping frame 21 - Global MAD: 0.0891, Masked MAD: 0.2389 (threshold: 0.05)\n"
     ]
    },
    {
     "name": "stderr",
     "output_type": "stream",
     "text": [
      "Propagating dogs-jump:  35%|███▌      | 23/65 [00:06<00:12,  3.48it/s]"
     ]
    },
    {
     "name": "stdout",
     "output_type": "stream",
     "text": [
      "Skipping frame 22 - Global MAD: 0.0864, Masked MAD: 0.2396 (threshold: 0.05)\n"
     ]
    },
    {
     "name": "stderr",
     "output_type": "stream",
     "text": [
      "Propagating dogs-jump:  37%|███▋      | 24/65 [00:06<00:11,  3.48it/s]"
     ]
    },
    {
     "name": "stdout",
     "output_type": "stream",
     "text": [
      "Skipping frame 23 - Global MAD: 0.0840, Masked MAD: 0.2372 (threshold: 0.05)\n"
     ]
    },
    {
     "name": "stderr",
     "output_type": "stream",
     "text": [
      "Propagating dogs-jump:  38%|███▊      | 25/65 [00:06<00:11,  3.48it/s]"
     ]
    },
    {
     "name": "stdout",
     "output_type": "stream",
     "text": [
      "Skipping frame 24 - Global MAD: 0.0822, Masked MAD: 0.2384 (threshold: 0.05)\n"
     ]
    },
    {
     "name": "stderr",
     "output_type": "stream",
     "text": [
      "Propagating dogs-jump:  40%|████      | 26/65 [00:07<00:11,  3.48it/s]"
     ]
    },
    {
     "name": "stdout",
     "output_type": "stream",
     "text": [
      "Skipping frame 25 - Global MAD: 0.0802, Masked MAD: 0.2488 (threshold: 0.05)\n"
     ]
    },
    {
     "name": "stderr",
     "output_type": "stream",
     "text": [
      "Propagating dogs-jump:  42%|████▏     | 27/65 [00:07<00:10,  3.48it/s]"
     ]
    },
    {
     "name": "stdout",
     "output_type": "stream",
     "text": [
      "Skipping frame 26 - Global MAD: 0.0805, Masked MAD: 0.2516 (threshold: 0.05)\n"
     ]
    },
    {
     "name": "stderr",
     "output_type": "stream",
     "text": [
      "Propagating dogs-jump:  43%|████▎     | 28/65 [00:07<00:10,  3.48it/s]"
     ]
    },
    {
     "name": "stdout",
     "output_type": "stream",
     "text": [
      "Skipping frame 27 - Global MAD: 0.0802, Masked MAD: 0.2492 (threshold: 0.05)\n"
     ]
    },
    {
     "name": "stderr",
     "output_type": "stream",
     "text": [
      "Propagating dogs-jump:  45%|████▍     | 29/65 [00:08<00:10,  3.48it/s]"
     ]
    },
    {
     "name": "stdout",
     "output_type": "stream",
     "text": [
      "Skipping frame 28 - Global MAD: 0.0792, Masked MAD: 0.2411 (threshold: 0.05)\n"
     ]
    },
    {
     "name": "stderr",
     "output_type": "stream",
     "text": [
      "Propagating dogs-jump:  46%|████▌     | 30/65 [00:08<00:10,  3.48it/s]"
     ]
    },
    {
     "name": "stdout",
     "output_type": "stream",
     "text": [
      "Skipping frame 29 - Global MAD: 0.0783, Masked MAD: 0.2288 (threshold: 0.05)\n"
     ]
    },
    {
     "name": "stderr",
     "output_type": "stream",
     "text": [
      "Propagating dogs-jump:  48%|████▊     | 31/65 [00:08<00:09,  3.47it/s]"
     ]
    },
    {
     "name": "stdout",
     "output_type": "stream",
     "text": [
      "Skipping frame 30 - Global MAD: 0.0805, Masked MAD: 0.2139 (threshold: 0.05)\n",
      "Avg FPS last 30 frames: 3.47\n"
     ]
    },
    {
     "name": "stderr",
     "output_type": "stream",
     "text": [
      "Propagating dogs-jump:  49%|████▉     | 32/65 [00:08<00:09,  3.49it/s]"
     ]
    },
    {
     "name": "stdout",
     "output_type": "stream",
     "text": [
      "Skipping frame 31 - Global MAD: 0.0830, Masked MAD: 0.2223 (threshold: 0.05)\n"
     ]
    },
    {
     "name": "stderr",
     "output_type": "stream",
     "text": [
      "Propagating dogs-jump:  51%|█████     | 33/65 [00:09<00:09,  3.51it/s]"
     ]
    },
    {
     "name": "stdout",
     "output_type": "stream",
     "text": [
      "Skipping frame 32 - Global MAD: 0.0851, Masked MAD: 0.2260 (threshold: 0.05)\n"
     ]
    },
    {
     "name": "stderr",
     "output_type": "stream",
     "text": [
      "Propagating dogs-jump:  52%|█████▏    | 34/65 [00:09<00:08,  3.52it/s]"
     ]
    },
    {
     "name": "stdout",
     "output_type": "stream",
     "text": [
      "Skipping frame 33 - Global MAD: 0.0863, Masked MAD: 0.2239 (threshold: 0.05)\n"
     ]
    },
    {
     "name": "stderr",
     "output_type": "stream",
     "text": [
      "Propagating dogs-jump:  54%|█████▍    | 35/65 [00:09<00:08,  3.53it/s]"
     ]
    },
    {
     "name": "stdout",
     "output_type": "stream",
     "text": [
      "Skipping frame 34 - Global MAD: 0.0878, Masked MAD: 0.2194 (threshold: 0.05)\n"
     ]
    },
    {
     "name": "stderr",
     "output_type": "stream",
     "text": [
      "Propagating dogs-jump:  55%|█████▌    | 36/65 [00:10<00:08,  3.53it/s]"
     ]
    },
    {
     "name": "stdout",
     "output_type": "stream",
     "text": [
      "Skipping frame 35 - Global MAD: 0.0899, Masked MAD: 0.2071 (threshold: 0.05)\n"
     ]
    },
    {
     "name": "stderr",
     "output_type": "stream",
     "text": [
      "Propagating dogs-jump:  57%|█████▋    | 37/65 [00:10<00:07,  3.53it/s]"
     ]
    },
    {
     "name": "stdout",
     "output_type": "stream",
     "text": [
      "Skipping frame 36 - Global MAD: 0.0901, Masked MAD: 0.1991 (threshold: 0.05)\n"
     ]
    },
    {
     "name": "stderr",
     "output_type": "stream",
     "text": [
      "Propagating dogs-jump:  58%|█████▊    | 38/65 [00:10<00:07,  3.53it/s]"
     ]
    },
    {
     "name": "stdout",
     "output_type": "stream",
     "text": [
      "Skipping frame 37 - Global MAD: 0.0892, Masked MAD: 0.2212 (threshold: 0.05)\n"
     ]
    },
    {
     "name": "stderr",
     "output_type": "stream",
     "text": [
      "Propagating dogs-jump:  60%|██████    | 39/65 [00:10<00:07,  3.52it/s]"
     ]
    },
    {
     "name": "stdout",
     "output_type": "stream",
     "text": [
      "Skipping frame 38 - Global MAD: 0.0900, Masked MAD: 0.2441 (threshold: 0.05)\n"
     ]
    },
    {
     "name": "stderr",
     "output_type": "stream",
     "text": [
      "Propagating dogs-jump:  62%|██████▏   | 40/65 [00:11<00:07,  3.50it/s]"
     ]
    },
    {
     "name": "stdout",
     "output_type": "stream",
     "text": [
      "Skipping frame 39 - Global MAD: 0.0916, Masked MAD: 0.2512 (threshold: 0.05)\n"
     ]
    },
    {
     "name": "stderr",
     "output_type": "stream",
     "text": [
      "Propagating dogs-jump:  63%|██████▎   | 41/65 [00:11<00:06,  3.50it/s]"
     ]
    },
    {
     "name": "stdout",
     "output_type": "stream",
     "text": [
      "Skipping frame 40 - Global MAD: 0.0933, Masked MAD: 0.2504 (threshold: 0.05)\n"
     ]
    },
    {
     "name": "stderr",
     "output_type": "stream",
     "text": [
      "Propagating dogs-jump:  65%|██████▍   | 42/65 [00:11<00:06,  3.49it/s]"
     ]
    },
    {
     "name": "stdout",
     "output_type": "stream",
     "text": [
      "Skipping frame 41 - Global MAD: 0.0925, Masked MAD: 0.2502 (threshold: 0.05)\n"
     ]
    },
    {
     "name": "stderr",
     "output_type": "stream",
     "text": [
      "Propagating dogs-jump:  66%|██████▌   | 43/65 [00:12<00:06,  3.49it/s]"
     ]
    },
    {
     "name": "stdout",
     "output_type": "stream",
     "text": [
      "Skipping frame 42 - Global MAD: 0.0890, Masked MAD: 0.2435 (threshold: 0.05)\n"
     ]
    },
    {
     "name": "stderr",
     "output_type": "stream",
     "text": [
      "Propagating dogs-jump:  68%|██████▊   | 44/65 [00:12<00:06,  3.49it/s]"
     ]
    },
    {
     "name": "stdout",
     "output_type": "stream",
     "text": [
      "Skipping frame 43 - Global MAD: 0.0858, Masked MAD: 0.2426 (threshold: 0.05)\n"
     ]
    },
    {
     "name": "stderr",
     "output_type": "stream",
     "text": [
      "Propagating dogs-jump:  69%|██████▉   | 45/65 [00:12<00:05,  3.49it/s]"
     ]
    },
    {
     "name": "stdout",
     "output_type": "stream",
     "text": [
      "Skipping frame 44 - Global MAD: 0.0858, Masked MAD: 0.2421 (threshold: 0.05)\n"
     ]
    },
    {
     "name": "stderr",
     "output_type": "stream",
     "text": [
      "Propagating dogs-jump:  71%|███████   | 46/65 [00:12<00:05,  3.49it/s]"
     ]
    },
    {
     "name": "stdout",
     "output_type": "stream",
     "text": [
      "Skipping frame 45 - Global MAD: 0.0856, Masked MAD: 0.2312 (threshold: 0.05)\n"
     ]
    },
    {
     "name": "stderr",
     "output_type": "stream",
     "text": [
      "Propagating dogs-jump:  72%|███████▏  | 47/65 [00:13<00:05,  3.48it/s]"
     ]
    },
    {
     "name": "stdout",
     "output_type": "stream",
     "text": [
      "Skipping frame 46 - Global MAD: 0.0857, Masked MAD: 0.2256 (threshold: 0.05)\n"
     ]
    },
    {
     "name": "stderr",
     "output_type": "stream",
     "text": [
      "Propagating dogs-jump:  74%|███████▍  | 48/65 [00:13<00:04,  3.48it/s]"
     ]
    },
    {
     "name": "stdout",
     "output_type": "stream",
     "text": [
      "Skipping frame 47 - Global MAD: 0.0849, Masked MAD: 0.2279 (threshold: 0.05)\n"
     ]
    },
    {
     "name": "stderr",
     "output_type": "stream",
     "text": [
      "Propagating dogs-jump:  75%|███████▌  | 49/65 [00:13<00:04,  3.49it/s]"
     ]
    },
    {
     "name": "stdout",
     "output_type": "stream",
     "text": [
      "Skipping frame 48 - Global MAD: 0.0836, Masked MAD: 0.2280 (threshold: 0.05)\n"
     ]
    },
    {
     "name": "stderr",
     "output_type": "stream",
     "text": [
      "Propagating dogs-jump:  77%|███████▋  | 50/65 [00:14<00:04,  3.49it/s]"
     ]
    },
    {
     "name": "stdout",
     "output_type": "stream",
     "text": [
      "Skipping frame 49 - Global MAD: 0.0837, Masked MAD: 0.2237 (threshold: 0.05)\n"
     ]
    },
    {
     "name": "stderr",
     "output_type": "stream",
     "text": [
      "Propagating dogs-jump:  78%|███████▊  | 51/65 [00:14<00:04,  3.50it/s]"
     ]
    },
    {
     "name": "stdout",
     "output_type": "stream",
     "text": [
      "Skipping frame 50 - Global MAD: 0.0828, Masked MAD: 0.2231 (threshold: 0.05)\n"
     ]
    },
    {
     "name": "stderr",
     "output_type": "stream",
     "text": [
      "Propagating dogs-jump:  80%|████████  | 52/65 [00:14<00:03,  3.50it/s]"
     ]
    },
    {
     "name": "stdout",
     "output_type": "stream",
     "text": [
      "Skipping frame 51 - Global MAD: 0.0822, Masked MAD: 0.2215 (threshold: 0.05)\n"
     ]
    },
    {
     "name": "stderr",
     "output_type": "stream",
     "text": [
      "Propagating dogs-jump:  82%|████████▏ | 53/65 [00:14<00:03,  3.51it/s]"
     ]
    },
    {
     "name": "stdout",
     "output_type": "stream",
     "text": [
      "Skipping frame 52 - Global MAD: 0.0838, Masked MAD: 0.2228 (threshold: 0.05)\n"
     ]
    },
    {
     "name": "stderr",
     "output_type": "stream",
     "text": [
      "Propagating dogs-jump:  83%|████████▎ | 54/65 [00:15<00:03,  3.51it/s]"
     ]
    },
    {
     "name": "stdout",
     "output_type": "stream",
     "text": [
      "Skipping frame 53 - Global MAD: 0.0848, Masked MAD: 0.2298 (threshold: 0.05)\n"
     ]
    },
    {
     "name": "stderr",
     "output_type": "stream",
     "text": [
      "Propagating dogs-jump:  85%|████████▍ | 55/65 [00:15<00:02,  3.52it/s]"
     ]
    },
    {
     "name": "stdout",
     "output_type": "stream",
     "text": [
      "Skipping frame 54 - Global MAD: 0.0855, Masked MAD: 0.2279 (threshold: 0.05)\n"
     ]
    },
    {
     "name": "stderr",
     "output_type": "stream",
     "text": [
      "Propagating dogs-jump:  86%|████████▌ | 56/65 [00:15<00:02,  3.52it/s]"
     ]
    },
    {
     "name": "stdout",
     "output_type": "stream",
     "text": [
      "Skipping frame 55 - Global MAD: 0.0867, Masked MAD: 0.2198 (threshold: 0.05)\n"
     ]
    },
    {
     "name": "stderr",
     "output_type": "stream",
     "text": [
      "Propagating dogs-jump:  88%|████████▊ | 57/65 [00:16<00:02,  3.52it/s]"
     ]
    },
    {
     "name": "stdout",
     "output_type": "stream",
     "text": [
      "Skipping frame 56 - Global MAD: 0.0874, Masked MAD: 0.2261 (threshold: 0.05)\n"
     ]
    },
    {
     "name": "stderr",
     "output_type": "stream",
     "text": [
      "Propagating dogs-jump:  89%|████████▉ | 58/65 [00:16<00:01,  3.51it/s]"
     ]
    },
    {
     "name": "stdout",
     "output_type": "stream",
     "text": [
      "Skipping frame 57 - Global MAD: 0.0876, Masked MAD: 0.2284 (threshold: 0.05)\n"
     ]
    },
    {
     "name": "stderr",
     "output_type": "stream",
     "text": [
      "Propagating dogs-jump:  91%|█████████ | 59/65 [00:16<00:01,  3.52it/s]"
     ]
    },
    {
     "name": "stdout",
     "output_type": "stream",
     "text": [
      "Skipping frame 58 - Global MAD: 0.0876, Masked MAD: 0.2280 (threshold: 0.05)\n"
     ]
    },
    {
     "name": "stderr",
     "output_type": "stream",
     "text": [
      "Propagating dogs-jump:  92%|█████████▏| 60/65 [00:16<00:01,  3.51it/s]"
     ]
    },
    {
     "name": "stdout",
     "output_type": "stream",
     "text": [
      "Skipping frame 59 - Global MAD: 0.0878, Masked MAD: 0.2282 (threshold: 0.05)\n"
     ]
    },
    {
     "name": "stderr",
     "output_type": "stream",
     "text": [
      "Propagating dogs-jump:  94%|█████████▍| 61/65 [00:17<00:01,  3.51it/s]"
     ]
    },
    {
     "name": "stdout",
     "output_type": "stream",
     "text": [
      "Skipping frame 60 - Global MAD: 0.0892, Masked MAD: 0.2435 (threshold: 0.05)\n",
      "Avg FPS last 30 frames: 3.51\n"
     ]
    },
    {
     "name": "stderr",
     "output_type": "stream",
     "text": [
      "Propagating dogs-jump:  95%|█████████▌| 62/65 [00:17<00:00,  3.51it/s]"
     ]
    },
    {
     "name": "stdout",
     "output_type": "stream",
     "text": [
      "Skipping frame 61 - Global MAD: 0.0903, Masked MAD: 0.2567 (threshold: 0.05)\n"
     ]
    },
    {
     "name": "stderr",
     "output_type": "stream",
     "text": [
      "Propagating dogs-jump:  97%|█████████▋| 63/65 [00:17<00:00,  3.52it/s]"
     ]
    },
    {
     "name": "stdout",
     "output_type": "stream",
     "text": [
      "Skipping frame 62 - Global MAD: 0.0912, Masked MAD: 0.2610 (threshold: 0.05)\n"
     ]
    },
    {
     "name": "stderr",
     "output_type": "stream",
     "text": [
      "Propagating dogs-jump:  98%|█████████▊| 64/65 [00:18<00:00,  3.52it/s]"
     ]
    },
    {
     "name": "stdout",
     "output_type": "stream",
     "text": [
      "Skipping frame 63 - Global MAD: 0.0930, Masked MAD: 0.2660 (threshold: 0.05)\n"
     ]
    },
    {
     "name": "stderr",
     "output_type": "stream",
     "text": [
      "Propagating dogs-jump: 100%|██████████| 65/65 [00:18<00:00,  3.52it/s]"
     ]
    },
    {
     "name": "stdout",
     "output_type": "stream",
     "text": [
      "Skipping frame 64 - Global MAD: 0.0945, Masked MAD: 0.2772 (threshold: 0.05)\n"
     ]
    },
    {
     "name": "stderr",
     "output_type": "stream",
     "text": [
      "propagate in video: 100%|██████████| 66/66 [00:18<00:00,  3.54it/s]   \n",
      "Propagating dogs-jump: 66it [00:18,  3.54it/s]\n"
     ]
    },
    {
     "name": "stdout",
     "output_type": "stream",
     "text": [
      "Skipping frame 65 - Global MAD: 0.0947, Masked MAD: 0.2811 (threshold: 0.05)\n",
      "Skipped 65 frames due to low MAD.\n",
      "→ Saved all predicted masks for dogs-jump in data/DAVIS2017_mgfs_naive/dogs-jump\n",
      "\n",
      "=== Processing sequence: drift-chicane ===\n"
     ]
    },
    {
     "name": "stderr",
     "output_type": "stream",
     "text": [
      "frame loading (JPEG): 100%|██████████| 52/52 [00:01<00:00, 51.25it/s]\n"
     ]
    },
    {
     "name": "stdout",
     "output_type": "stream",
     "text": [
      "Found 1 unique non‐black colors in drift-chicane/00000.png\n"
     ]
    },
    {
     "name": "stderr",
     "output_type": "stream",
     "text": [
      "Propagating drift-chicane:   4%|▍         | 2/51 [00:00<00:07,  6.98it/s]"
     ]
    },
    {
     "name": "stdout",
     "output_type": "stream",
     "text": [
      "Skipping frame 1 - Global MAD: 0.0077, Masked MAD: 0.0765 (threshold: 0.05)\n"
     ]
    },
    {
     "name": "stderr",
     "output_type": "stream",
     "text": [
      "Propagating drift-chicane:   6%|▌         | 3/51 [00:00<00:09,  5.03it/s]"
     ]
    },
    {
     "name": "stdout",
     "output_type": "stream",
     "text": [
      "Skipping frame 2 - Global MAD: 0.0115, Masked MAD: 0.0950 (threshold: 0.05)\n"
     ]
    },
    {
     "name": "stderr",
     "output_type": "stream",
     "text": [
      "Propagating drift-chicane:   8%|▊         | 4/51 [00:00<00:10,  4.40it/s]"
     ]
    },
    {
     "name": "stdout",
     "output_type": "stream",
     "text": [
      "Skipping frame 3 - Global MAD: 0.0147, Masked MAD: 0.1178 (threshold: 0.05)\n"
     ]
    },
    {
     "name": "stderr",
     "output_type": "stream",
     "text": [
      "Propagating drift-chicane:  10%|▉         | 5/51 [00:01<00:11,  4.09it/s]"
     ]
    },
    {
     "name": "stdout",
     "output_type": "stream",
     "text": [
      "Skipping frame 4 - Global MAD: 0.0183, Masked MAD: 0.1313 (threshold: 0.05)\n"
     ]
    },
    {
     "name": "stderr",
     "output_type": "stream",
     "text": [
      "Propagating drift-chicane:  12%|█▏        | 6/51 [00:01<00:11,  3.89it/s]"
     ]
    },
    {
     "name": "stdout",
     "output_type": "stream",
     "text": [
      "Skipping frame 5 - Global MAD: 0.0209, Masked MAD: 0.1330 (threshold: 0.05)\n"
     ]
    },
    {
     "name": "stderr",
     "output_type": "stream",
     "text": [
      "Propagating drift-chicane:  14%|█▎        | 7/51 [00:01<00:11,  3.80it/s]"
     ]
    },
    {
     "name": "stdout",
     "output_type": "stream",
     "text": [
      "Skipping frame 6 - Global MAD: 0.0237, Masked MAD: 0.1269 (threshold: 0.05)\n"
     ]
    },
    {
     "name": "stderr",
     "output_type": "stream",
     "text": [
      "Propagating drift-chicane:  16%|█▌        | 8/51 [00:01<00:11,  3.74it/s]"
     ]
    },
    {
     "name": "stdout",
     "output_type": "stream",
     "text": [
      "Skipping frame 7 - Global MAD: 0.0262, Masked MAD: 0.1191 (threshold: 0.05)\n"
     ]
    },
    {
     "name": "stderr",
     "output_type": "stream",
     "text": [
      "Propagating drift-chicane:  18%|█▊        | 9/51 [00:02<00:11,  3.69it/s]"
     ]
    },
    {
     "name": "stdout",
     "output_type": "stream",
     "text": [
      "Skipping frame 8 - Global MAD: 0.0270, Masked MAD: 0.1144 (threshold: 0.05)\n"
     ]
    },
    {
     "name": "stderr",
     "output_type": "stream",
     "text": [
      "Propagating drift-chicane:  20%|█▉        | 10/51 [00:02<00:11,  3.67it/s]"
     ]
    },
    {
     "name": "stdout",
     "output_type": "stream",
     "text": [
      "Skipping frame 9 - Global MAD: 0.0278, Masked MAD: 0.1130 (threshold: 0.05)\n"
     ]
    },
    {
     "name": "stderr",
     "output_type": "stream",
     "text": [
      "Propagating drift-chicane:  22%|██▏       | 11/51 [00:02<00:10,  3.64it/s]"
     ]
    },
    {
     "name": "stdout",
     "output_type": "stream",
     "text": [
      "Skipping frame 10 - Global MAD: 0.0294, Masked MAD: 0.1137 (threshold: 0.05)\n"
     ]
    },
    {
     "name": "stderr",
     "output_type": "stream",
     "text": [
      "Propagating drift-chicane:  24%|██▎       | 12/51 [00:03<00:10,  3.63it/s]"
     ]
    },
    {
     "name": "stdout",
     "output_type": "stream",
     "text": [
      "Skipping frame 11 - Global MAD: 0.0319, Masked MAD: 0.1125 (threshold: 0.05)\n"
     ]
    },
    {
     "name": "stderr",
     "output_type": "stream",
     "text": [
      "Propagating drift-chicane:  25%|██▌       | 13/51 [00:03<00:10,  3.58it/s]"
     ]
    },
    {
     "name": "stdout",
     "output_type": "stream",
     "text": [
      "Skipping frame 12 - Global MAD: 0.0336, Masked MAD: 0.1111 (threshold: 0.05)\n"
     ]
    },
    {
     "name": "stderr",
     "output_type": "stream",
     "text": [
      "Propagating drift-chicane:  27%|██▋       | 14/51 [00:03<00:10,  3.60it/s]"
     ]
    },
    {
     "name": "stdout",
     "output_type": "stream",
     "text": [
      "Skipping frame 13 - Global MAD: 0.0354, Masked MAD: 0.1083 (threshold: 0.05)\n"
     ]
    },
    {
     "name": "stderr",
     "output_type": "stream",
     "text": [
      "Propagating drift-chicane:  29%|██▉       | 15/51 [00:03<00:09,  3.61it/s]"
     ]
    },
    {
     "name": "stdout",
     "output_type": "stream",
     "text": [
      "Skipping frame 14 - Global MAD: 0.0372, Masked MAD: 0.1067 (threshold: 0.05)\n"
     ]
    },
    {
     "name": "stderr",
     "output_type": "stream",
     "text": [
      "Propagating drift-chicane:  31%|███▏      | 16/51 [00:04<00:09,  3.61it/s]"
     ]
    },
    {
     "name": "stdout",
     "output_type": "stream",
     "text": [
      "Skipping frame 15 - Global MAD: 0.0380, Masked MAD: 0.1063 (threshold: 0.05)\n"
     ]
    },
    {
     "name": "stderr",
     "output_type": "stream",
     "text": [
      "Propagating drift-chicane:  33%|███▎      | 17/51 [00:04<00:09,  3.61it/s]"
     ]
    },
    {
     "name": "stdout",
     "output_type": "stream",
     "text": [
      "Skipping frame 16 - Global MAD: 0.0377, Masked MAD: 0.1064 (threshold: 0.05)\n"
     ]
    },
    {
     "name": "stderr",
     "output_type": "stream",
     "text": [
      "Propagating drift-chicane:  35%|███▌      | 18/51 [00:04<00:09,  3.61it/s]"
     ]
    },
    {
     "name": "stdout",
     "output_type": "stream",
     "text": [
      "Skipping frame 17 - Global MAD: 0.0369, Masked MAD: 0.1071 (threshold: 0.05)\n"
     ]
    },
    {
     "name": "stderr",
     "output_type": "stream",
     "text": [
      "Propagating drift-chicane:  37%|███▋      | 19/51 [00:05<00:08,  3.61it/s]"
     ]
    },
    {
     "name": "stdout",
     "output_type": "stream",
     "text": [
      "Skipping frame 18 - Global MAD: 0.0363, Masked MAD: 0.1061 (threshold: 0.05)\n"
     ]
    },
    {
     "name": "stderr",
     "output_type": "stream",
     "text": [
      "Propagating drift-chicane:  39%|███▉      | 20/51 [00:05<00:08,  3.61it/s]"
     ]
    },
    {
     "name": "stdout",
     "output_type": "stream",
     "text": [
      "Skipping frame 19 - Global MAD: 0.0348, Masked MAD: 0.1072 (threshold: 0.05)\n"
     ]
    },
    {
     "name": "stderr",
     "output_type": "stream",
     "text": [
      "Propagating drift-chicane:  41%|████      | 21/51 [00:05<00:08,  3.61it/s]"
     ]
    },
    {
     "name": "stdout",
     "output_type": "stream",
     "text": [
      "Skipping frame 20 - Global MAD: 0.0338, Masked MAD: 0.1068 (threshold: 0.05)\n"
     ]
    },
    {
     "name": "stderr",
     "output_type": "stream",
     "text": [
      "Propagating drift-chicane:  43%|████▎     | 22/51 [00:05<00:08,  3.61it/s]"
     ]
    },
    {
     "name": "stdout",
     "output_type": "stream",
     "text": [
      "Skipping frame 21 - Global MAD: 0.0324, Masked MAD: 0.1070 (threshold: 0.05)\n"
     ]
    },
    {
     "name": "stderr",
     "output_type": "stream",
     "text": [
      "Propagating drift-chicane:  45%|████▌     | 23/51 [00:06<00:07,  3.60it/s]"
     ]
    },
    {
     "name": "stdout",
     "output_type": "stream",
     "text": [
      "Skipping frame 22 - Global MAD: 0.0310, Masked MAD: 0.1069 (threshold: 0.05)\n"
     ]
    },
    {
     "name": "stderr",
     "output_type": "stream",
     "text": [
      "Propagating drift-chicane:  47%|████▋     | 24/51 [00:06<00:07,  3.61it/s]"
     ]
    },
    {
     "name": "stdout",
     "output_type": "stream",
     "text": [
      "Skipping frame 23 - Global MAD: 0.0299, Masked MAD: 0.1076 (threshold: 0.05)\n"
     ]
    },
    {
     "name": "stderr",
     "output_type": "stream",
     "text": [
      "Propagating drift-chicane:  49%|████▉     | 25/51 [00:06<00:07,  3.61it/s]"
     ]
    },
    {
     "name": "stdout",
     "output_type": "stream",
     "text": [
      "Skipping frame 24 - Global MAD: 0.0291, Masked MAD: 0.1079 (threshold: 0.05)\n"
     ]
    },
    {
     "name": "stderr",
     "output_type": "stream",
     "text": [
      "Propagating drift-chicane:  51%|█████     | 26/51 [00:06<00:06,  3.60it/s]"
     ]
    },
    {
     "name": "stdout",
     "output_type": "stream",
     "text": [
      "Skipping frame 25 - Global MAD: 0.0281, Masked MAD: 0.1082 (threshold: 0.05)\n"
     ]
    },
    {
     "name": "stderr",
     "output_type": "stream",
     "text": [
      "Propagating drift-chicane:  53%|█████▎    | 27/51 [00:07<00:06,  3.59it/s]"
     ]
    },
    {
     "name": "stdout",
     "output_type": "stream",
     "text": [
      "Skipping frame 26 - Global MAD: 0.0270, Masked MAD: 0.1078 (threshold: 0.05)\n"
     ]
    },
    {
     "name": "stderr",
     "output_type": "stream",
     "text": [
      "Propagating drift-chicane:  55%|█████▍    | 28/51 [00:07<00:06,  3.59it/s]"
     ]
    },
    {
     "name": "stdout",
     "output_type": "stream",
     "text": [
      "Skipping frame 27 - Global MAD: 0.0269, Masked MAD: 0.1065 (threshold: 0.05)\n"
     ]
    },
    {
     "name": "stderr",
     "output_type": "stream",
     "text": [
      "Propagating drift-chicane:  57%|█████▋    | 29/51 [00:07<00:06,  3.58it/s]"
     ]
    },
    {
     "name": "stdout",
     "output_type": "stream",
     "text": [
      "Skipping frame 28 - Global MAD: 0.0278, Masked MAD: 0.1065 (threshold: 0.05)\n"
     ]
    },
    {
     "name": "stderr",
     "output_type": "stream",
     "text": [
      "Propagating drift-chicane:  59%|█████▉    | 30/51 [00:08<00:05,  3.58it/s]"
     ]
    },
    {
     "name": "stdout",
     "output_type": "stream",
     "text": [
      "Skipping frame 29 - Global MAD: 0.0298, Masked MAD: 0.1071 (threshold: 0.05)\n"
     ]
    },
    {
     "name": "stderr",
     "output_type": "stream",
     "text": [
      "Propagating drift-chicane:  61%|██████    | 31/51 [00:08<00:05,  3.59it/s]"
     ]
    },
    {
     "name": "stdout",
     "output_type": "stream",
     "text": [
      "Skipping frame 30 - Global MAD: 0.0317, Masked MAD: 0.1076 (threshold: 0.05)\n",
      "Avg FPS last 30 frames: 3.60\n"
     ]
    },
    {
     "name": "stderr",
     "output_type": "stream",
     "text": [
      "Propagating drift-chicane:  63%|██████▎   | 32/51 [00:08<00:05,  3.60it/s]"
     ]
    },
    {
     "name": "stdout",
     "output_type": "stream",
     "text": [
      "Skipping frame 31 - Global MAD: 0.0336, Masked MAD: 0.1073 (threshold: 0.05)\n"
     ]
    },
    {
     "name": "stderr",
     "output_type": "stream",
     "text": [
      "Propagating drift-chicane:  65%|██████▍   | 33/51 [00:08<00:04,  3.61it/s]"
     ]
    },
    {
     "name": "stdout",
     "output_type": "stream",
     "text": [
      "Skipping frame 32 - Global MAD: 0.0360, Masked MAD: 0.1070 (threshold: 0.05)\n"
     ]
    },
    {
     "name": "stderr",
     "output_type": "stream",
     "text": [
      "Propagating drift-chicane:  67%|██████▋   | 34/51 [00:09<00:04,  3.61it/s]"
     ]
    },
    {
     "name": "stdout",
     "output_type": "stream",
     "text": [
      "Skipping frame 33 - Global MAD: 0.0377, Masked MAD: 0.1066 (threshold: 0.05)\n"
     ]
    },
    {
     "name": "stderr",
     "output_type": "stream",
     "text": [
      "Propagating drift-chicane:  69%|██████▊   | 35/51 [00:09<00:04,  3.63it/s]"
     ]
    },
    {
     "name": "stdout",
     "output_type": "stream",
     "text": [
      "Skipping frame 34 - Global MAD: 0.0397, Masked MAD: 0.1066 (threshold: 0.05)\n"
     ]
    },
    {
     "name": "stderr",
     "output_type": "stream",
     "text": [
      "Propagating drift-chicane:  71%|███████   | 36/51 [00:09<00:04,  3.65it/s]"
     ]
    },
    {
     "name": "stdout",
     "output_type": "stream",
     "text": [
      "Skipping frame 35 - Global MAD: 0.0397, Masked MAD: 0.1072 (threshold: 0.05)\n"
     ]
    },
    {
     "name": "stderr",
     "output_type": "stream",
     "text": [
      "Propagating drift-chicane:  73%|███████▎  | 37/51 [00:09<00:03,  3.65it/s]"
     ]
    },
    {
     "name": "stdout",
     "output_type": "stream",
     "text": [
      "Skipping frame 36 - Global MAD: 0.0389, Masked MAD: 0.1052 (threshold: 0.05)\n"
     ]
    },
    {
     "name": "stderr",
     "output_type": "stream",
     "text": [
      "Propagating drift-chicane:  75%|███████▍  | 38/51 [00:10<00:03,  3.65it/s]"
     ]
    },
    {
     "name": "stdout",
     "output_type": "stream",
     "text": [
      "Skipping frame 37 - Global MAD: 0.0391, Masked MAD: 0.1043 (threshold: 0.05)\n"
     ]
    },
    {
     "name": "stderr",
     "output_type": "stream",
     "text": [
      "Propagating drift-chicane:  76%|███████▋  | 39/51 [00:10<00:03,  3.66it/s]"
     ]
    },
    {
     "name": "stdout",
     "output_type": "stream",
     "text": [
      "Skipping frame 38 - Global MAD: 0.0397, Masked MAD: 0.1031 (threshold: 0.05)\n"
     ]
    },
    {
     "name": "stderr",
     "output_type": "stream",
     "text": [
      "Propagating drift-chicane:  78%|███████▊  | 40/51 [00:10<00:02,  3.67it/s]"
     ]
    },
    {
     "name": "stdout",
     "output_type": "stream",
     "text": [
      "Skipping frame 39 - Global MAD: 0.0407, Masked MAD: 0.1018 (threshold: 0.05)\n"
     ]
    },
    {
     "name": "stderr",
     "output_type": "stream",
     "text": [
      "Propagating drift-chicane:  80%|████████  | 41/51 [00:11<00:02,  3.63it/s]"
     ]
    },
    {
     "name": "stdout",
     "output_type": "stream",
     "text": [
      "Skipping frame 40 - Global MAD: 0.0412, Masked MAD: 0.1002 (threshold: 0.05)\n"
     ]
    },
    {
     "name": "stderr",
     "output_type": "stream",
     "text": [
      "Propagating drift-chicane:  82%|████████▏ | 42/51 [00:11<00:02,  3.62it/s]"
     ]
    },
    {
     "name": "stdout",
     "output_type": "stream",
     "text": [
      "Skipping frame 41 - Global MAD: 0.0415, Masked MAD: 0.0996 (threshold: 0.05)\n"
     ]
    },
    {
     "name": "stderr",
     "output_type": "stream",
     "text": [
      "Propagating drift-chicane:  84%|████████▍ | 43/51 [00:11<00:02,  3.61it/s]"
     ]
    },
    {
     "name": "stdout",
     "output_type": "stream",
     "text": [
      "Skipping frame 42 - Global MAD: 0.0418, Masked MAD: 0.0993 (threshold: 0.05)\n"
     ]
    },
    {
     "name": "stderr",
     "output_type": "stream",
     "text": [
      "Propagating drift-chicane:  86%|████████▋ | 44/51 [00:11<00:01,  3.61it/s]"
     ]
    },
    {
     "name": "stdout",
     "output_type": "stream",
     "text": [
      "Skipping frame 43 - Global MAD: 0.0419, Masked MAD: 0.0998 (threshold: 0.05)\n"
     ]
    },
    {
     "name": "stderr",
     "output_type": "stream",
     "text": [
      "Propagating drift-chicane:  88%|████████▊ | 45/51 [00:12<00:01,  3.61it/s]"
     ]
    },
    {
     "name": "stdout",
     "output_type": "stream",
     "text": [
      "Skipping frame 44 - Global MAD: 0.0426, Masked MAD: 0.0998 (threshold: 0.05)\n"
     ]
    },
    {
     "name": "stderr",
     "output_type": "stream",
     "text": [
      "Propagating drift-chicane:  90%|█████████ | 46/51 [00:12<00:01,  3.61it/s]"
     ]
    },
    {
     "name": "stdout",
     "output_type": "stream",
     "text": [
      "Skipping frame 45 - Global MAD: 0.0433, Masked MAD: 0.0992 (threshold: 0.05)\n"
     ]
    },
    {
     "name": "stderr",
     "output_type": "stream",
     "text": [
      "Propagating drift-chicane:  92%|█████████▏| 47/51 [00:12<00:01,  3.61it/s]"
     ]
    },
    {
     "name": "stdout",
     "output_type": "stream",
     "text": [
      "Skipping frame 46 - Global MAD: 0.0440, Masked MAD: 0.1001 (threshold: 0.05)\n"
     ]
    },
    {
     "name": "stderr",
     "output_type": "stream",
     "text": [
      "Propagating drift-chicane:  94%|█████████▍| 48/51 [00:13<00:00,  3.61it/s]"
     ]
    },
    {
     "name": "stdout",
     "output_type": "stream",
     "text": [
      "Skipping frame 47 - Global MAD: 0.0450, Masked MAD: 0.1030 (threshold: 0.05)\n"
     ]
    },
    {
     "name": "stderr",
     "output_type": "stream",
     "text": [
      "Propagating drift-chicane:  96%|█████████▌| 49/51 [00:13<00:00,  3.62it/s]"
     ]
    },
    {
     "name": "stdout",
     "output_type": "stream",
     "text": [
      "Skipping frame 48 - Global MAD: 0.0462, Masked MAD: 0.1122 (threshold: 0.05)\n"
     ]
    },
    {
     "name": "stderr",
     "output_type": "stream",
     "text": [
      "Propagating drift-chicane:  98%|█████████▊| 50/51 [00:13<00:00,  3.62it/s]"
     ]
    },
    {
     "name": "stdout",
     "output_type": "stream",
     "text": [
      "Skipping frame 49 - Global MAD: 0.0477, Masked MAD: 0.1256 (threshold: 0.05)\n"
     ]
    },
    {
     "name": "stderr",
     "output_type": "stream",
     "text": [
      "Propagating drift-chicane: 100%|██████████| 51/51 [00:13<00:00,  3.63it/s]"
     ]
    },
    {
     "name": "stdout",
     "output_type": "stream",
     "text": [
      "Skipping frame 50 - Global MAD: 0.0497, Masked MAD: 0.1342 (threshold: 0.05)\n"
     ]
    },
    {
     "name": "stderr",
     "output_type": "stream",
     "text": [
      "propagate in video: 100%|██████████| 52/52 [00:14<00:00,  3.68it/s]       \n",
      "Propagating drift-chicane: 52it [00:14,  3.68it/s]\n"
     ]
    },
    {
     "name": "stdout",
     "output_type": "stream",
     "text": [
      "Skipping frame 51 - Global MAD: 0.0519, Masked MAD: 0.1380 (threshold: 0.05)\n",
      "Skipped 51 frames due to low MAD.\n",
      "→ Saved all predicted masks for drift-chicane in data/DAVIS2017_mgfs_naive/drift-chicane\n",
      "\n",
      "=== Processing sequence: drift-straight ===\n"
     ]
    },
    {
     "name": "stderr",
     "output_type": "stream",
     "text": [
      "frame loading (JPEG): 100%|██████████| 50/50 [00:00<00:00, 50.31it/s]\n"
     ]
    },
    {
     "name": "stdout",
     "output_type": "stream",
     "text": [
      "Found 1 unique non‐black colors in drift-straight/00000.png\n"
     ]
    },
    {
     "name": "stderr",
     "output_type": "stream",
     "text": [
      "Propagating drift-straight:   4%|▍         | 2/49 [00:00<00:06,  7.31it/s]"
     ]
    },
    {
     "name": "stdout",
     "output_type": "stream",
     "text": [
      "Skipping frame 1 - Global MAD: 0.1449, Masked MAD: 0.2045 (threshold: 0.05)\n"
     ]
    },
    {
     "name": "stderr",
     "output_type": "stream",
     "text": [
      "Propagating drift-straight:   6%|▌         | 3/49 [00:00<00:08,  5.25it/s]"
     ]
    },
    {
     "name": "stdout",
     "output_type": "stream",
     "text": [
      "Skipping frame 2 - Global MAD: 0.1822, Masked MAD: 0.2454 (threshold: 0.05)\n"
     ]
    },
    {
     "name": "stderr",
     "output_type": "stream",
     "text": [
      "Propagating drift-straight:   8%|▊         | 4/49 [00:00<00:09,  4.52it/s]"
     ]
    },
    {
     "name": "stdout",
     "output_type": "stream",
     "text": [
      "Skipping frame 3 - Global MAD: 0.1997, Masked MAD: 0.2309 (threshold: 0.05)\n"
     ]
    },
    {
     "name": "stderr",
     "output_type": "stream",
     "text": [
      "Propagating drift-straight:  10%|█         | 5/49 [00:01<00:10,  4.22it/s]"
     ]
    },
    {
     "name": "stdout",
     "output_type": "stream",
     "text": [
      "Skipping frame 4 - Global MAD: 0.2224, Masked MAD: 0.2409 (threshold: 0.05)\n"
     ]
    },
    {
     "name": "stderr",
     "output_type": "stream",
     "text": [
      "Propagating drift-straight:  12%|█▏        | 6/49 [00:01<00:10,  4.04it/s]"
     ]
    },
    {
     "name": "stdout",
     "output_type": "stream",
     "text": [
      "Skipping frame 5 - Global MAD: 0.2292, Masked MAD: 0.2385 (threshold: 0.05)\n"
     ]
    },
    {
     "name": "stderr",
     "output_type": "stream",
     "text": [
      "Propagating drift-straight:  14%|█▍        | 7/49 [00:01<00:10,  3.92it/s]"
     ]
    },
    {
     "name": "stdout",
     "output_type": "stream",
     "text": [
      "Skipping frame 6 - Global MAD: 0.2317, Masked MAD: 0.2433 (threshold: 0.05)\n"
     ]
    },
    {
     "name": "stderr",
     "output_type": "stream",
     "text": [
      "Propagating drift-straight:  16%|█▋        | 8/49 [00:01<00:10,  3.86it/s]"
     ]
    },
    {
     "name": "stdout",
     "output_type": "stream",
     "text": [
      "Skipping frame 7 - Global MAD: 0.2343, Masked MAD: 0.2379 (threshold: 0.05)\n"
     ]
    },
    {
     "name": "stderr",
     "output_type": "stream",
     "text": [
      "Propagating drift-straight:  18%|█▊        | 9/49 [00:02<00:10,  3.82it/s]"
     ]
    },
    {
     "name": "stdout",
     "output_type": "stream",
     "text": [
      "Skipping frame 8 - Global MAD: 0.2363, Masked MAD: 0.2296 (threshold: 0.05)\n"
     ]
    },
    {
     "name": "stderr",
     "output_type": "stream",
     "text": [
      "Propagating drift-straight:  20%|██        | 10/49 [00:02<00:10,  3.79it/s]"
     ]
    },
    {
     "name": "stdout",
     "output_type": "stream",
     "text": [
      "Skipping frame 9 - Global MAD: 0.2359, Masked MAD: 0.2311 (threshold: 0.05)\n"
     ]
    },
    {
     "name": "stderr",
     "output_type": "stream",
     "text": [
      "Propagating drift-straight:  22%|██▏       | 11/49 [00:02<00:10,  3.78it/s]"
     ]
    },
    {
     "name": "stdout",
     "output_type": "stream",
     "text": [
      "Skipping frame 10 - Global MAD: 0.2373, Masked MAD: 0.2323 (threshold: 0.05)\n"
     ]
    },
    {
     "name": "stderr",
     "output_type": "stream",
     "text": [
      "Propagating drift-straight:  24%|██▍       | 12/49 [00:02<00:09,  3.76it/s]"
     ]
    },
    {
     "name": "stdout",
     "output_type": "stream",
     "text": [
      "Skipping frame 11 - Global MAD: 0.2388, Masked MAD: 0.2272 (threshold: 0.05)\n"
     ]
    },
    {
     "name": "stderr",
     "output_type": "stream",
     "text": [
      "Propagating drift-straight:  27%|██▋       | 13/49 [00:03<00:09,  3.75it/s]"
     ]
    },
    {
     "name": "stdout",
     "output_type": "stream",
     "text": [
      "Skipping frame 12 - Global MAD: 0.2486, Masked MAD: 0.2373 (threshold: 0.05)\n"
     ]
    },
    {
     "name": "stderr",
     "output_type": "stream",
     "text": [
      "Propagating drift-straight:  29%|██▊       | 14/49 [00:03<00:09,  3.75it/s]"
     ]
    },
    {
     "name": "stdout",
     "output_type": "stream",
     "text": [
      "Skipping frame 13 - Global MAD: 0.2536, Masked MAD: 0.2586 (threshold: 0.05)\n"
     ]
    },
    {
     "name": "stderr",
     "output_type": "stream",
     "text": [
      "Propagating drift-straight:  31%|███       | 15/49 [00:03<00:09,  3.75it/s]"
     ]
    },
    {
     "name": "stdout",
     "output_type": "stream",
     "text": [
      "Skipping frame 14 - Global MAD: 0.2568, Masked MAD: 0.2734 (threshold: 0.05)\n"
     ]
    },
    {
     "name": "stderr",
     "output_type": "stream",
     "text": [
      "Propagating drift-straight:  33%|███▎      | 16/49 [00:04<00:08,  3.75it/s]"
     ]
    },
    {
     "name": "stdout",
     "output_type": "stream",
     "text": [
      "Skipping frame 15 - Global MAD: 0.2594, Masked MAD: 0.2905 (threshold: 0.05)\n"
     ]
    },
    {
     "name": "stderr",
     "output_type": "stream",
     "text": [
      "Propagating drift-straight:  35%|███▍      | 17/49 [00:04<00:08,  3.76it/s]"
     ]
    },
    {
     "name": "stdout",
     "output_type": "stream",
     "text": [
      "Skipping frame 16 - Global MAD: 0.2676, Masked MAD: 0.3188 (threshold: 0.05)\n"
     ]
    },
    {
     "name": "stderr",
     "output_type": "stream",
     "text": [
      "Propagating drift-straight:  37%|███▋      | 18/49 [00:04<00:08,  3.74it/s]"
     ]
    },
    {
     "name": "stdout",
     "output_type": "stream",
     "text": [
      "Skipping frame 17 - Global MAD: 0.2766, Masked MAD: 0.3306 (threshold: 0.05)\n"
     ]
    },
    {
     "name": "stderr",
     "output_type": "stream",
     "text": [
      "Propagating drift-straight:  39%|███▉      | 19/49 [00:04<00:08,  3.74it/s]"
     ]
    },
    {
     "name": "stdout",
     "output_type": "stream",
     "text": [
      "Skipping frame 18 - Global MAD: 0.2837, Masked MAD: 0.3431 (threshold: 0.05)\n"
     ]
    },
    {
     "name": "stderr",
     "output_type": "stream",
     "text": [
      "Propagating drift-straight:  41%|████      | 20/49 [00:05<00:07,  3.73it/s]"
     ]
    },
    {
     "name": "stdout",
     "output_type": "stream",
     "text": [
      "Skipping frame 19 - Global MAD: 0.2881, Masked MAD: 0.3783 (threshold: 0.05)\n"
     ]
    },
    {
     "name": "stderr",
     "output_type": "stream",
     "text": [
      "Propagating drift-straight:  43%|████▎     | 21/49 [00:05<00:07,  3.73it/s]"
     ]
    },
    {
     "name": "stdout",
     "output_type": "stream",
     "text": [
      "Skipping frame 20 - Global MAD: 0.2832, Masked MAD: 0.3035 (threshold: 0.05)\n"
     ]
    },
    {
     "name": "stderr",
     "output_type": "stream",
     "text": [
      "Propagating drift-straight:  45%|████▍     | 22/49 [00:05<00:07,  3.71it/s]"
     ]
    },
    {
     "name": "stdout",
     "output_type": "stream",
     "text": [
      "Skipping frame 21 - Global MAD: 0.2809, Masked MAD: 0.2660 (threshold: 0.05)\n"
     ]
    },
    {
     "name": "stderr",
     "output_type": "stream",
     "text": [
      "Propagating drift-straight:  47%|████▋     | 23/49 [00:05<00:06,  3.73it/s]"
     ]
    },
    {
     "name": "stdout",
     "output_type": "stream",
     "text": [
      "Skipping frame 22 - Global MAD: 0.2780, Masked MAD: 0.2637 (threshold: 0.05)\n"
     ]
    },
    {
     "name": "stderr",
     "output_type": "stream",
     "text": [
      "Propagating drift-straight:  49%|████▉     | 24/49 [00:06<00:06,  3.73it/s]"
     ]
    },
    {
     "name": "stdout",
     "output_type": "stream",
     "text": [
      "Skipping frame 23 - Global MAD: 0.2826, Masked MAD: 0.2895 (threshold: 0.05)\n"
     ]
    },
    {
     "name": "stderr",
     "output_type": "stream",
     "text": [
      "Propagating drift-straight:  51%|█████     | 25/49 [00:06<00:06,  3.73it/s]"
     ]
    },
    {
     "name": "stdout",
     "output_type": "stream",
     "text": [
      "Skipping frame 24 - Global MAD: 0.2771, Masked MAD: 0.3215 (threshold: 0.05)\n"
     ]
    },
    {
     "name": "stderr",
     "output_type": "stream",
     "text": [
      "Propagating drift-straight:  53%|█████▎    | 26/49 [00:06<00:06,  3.74it/s]"
     ]
    },
    {
     "name": "stdout",
     "output_type": "stream",
     "text": [
      "Skipping frame 25 - Global MAD: 0.2760, Masked MAD: 0.2978 (threshold: 0.05)\n"
     ]
    },
    {
     "name": "stderr",
     "output_type": "stream",
     "text": [
      "Propagating drift-straight:  55%|█████▌    | 27/49 [00:06<00:05,  3.74it/s]"
     ]
    },
    {
     "name": "stdout",
     "output_type": "stream",
     "text": [
      "Skipping frame 26 - Global MAD: 0.2744, Masked MAD: 0.2734 (threshold: 0.05)\n"
     ]
    },
    {
     "name": "stderr",
     "output_type": "stream",
     "text": [
      "Propagating drift-straight:  57%|█████▋    | 28/49 [00:07<00:05,  3.74it/s]"
     ]
    },
    {
     "name": "stdout",
     "output_type": "stream",
     "text": [
      "Skipping frame 27 - Global MAD: 0.2786, Masked MAD: 0.2663 (threshold: 0.05)\n"
     ]
    },
    {
     "name": "stderr",
     "output_type": "stream",
     "text": [
      "Propagating drift-straight:  59%|█████▉    | 29/49 [00:07<00:05,  3.75it/s]"
     ]
    },
    {
     "name": "stdout",
     "output_type": "stream",
     "text": [
      "Skipping frame 28 - Global MAD: 0.2773, Masked MAD: 0.3297 (threshold: 0.05)\n"
     ]
    },
    {
     "name": "stderr",
     "output_type": "stream",
     "text": [
      "Propagating drift-straight:  61%|██████    | 30/49 [00:07<00:05,  3.74it/s]"
     ]
    },
    {
     "name": "stdout",
     "output_type": "stream",
     "text": [
      "Skipping frame 29 - Global MAD: 0.2768, Masked MAD: 0.3092 (threshold: 0.05)\n"
     ]
    },
    {
     "name": "stderr",
     "output_type": "stream",
     "text": [
      "Propagating drift-straight:  63%|██████▎   | 31/49 [00:08<00:04,  3.73it/s]"
     ]
    },
    {
     "name": "stdout",
     "output_type": "stream",
     "text": [
      "Skipping frame 30 - Global MAD: 0.2726, Masked MAD: 0.2337 (threshold: 0.05)\n",
      "Avg FPS last 30 frames: 3.73\n"
     ]
    },
    {
     "name": "stderr",
     "output_type": "stream",
     "text": [
      "Propagating drift-straight:  65%|██████▌   | 32/49 [00:08<00:04,  3.73it/s]"
     ]
    },
    {
     "name": "stdout",
     "output_type": "stream",
     "text": [
      "Skipping frame 31 - Global MAD: 0.2770, Masked MAD: 0.2447 (threshold: 0.05)\n"
     ]
    },
    {
     "name": "stderr",
     "output_type": "stream",
     "text": [
      "Propagating drift-straight:  67%|██████▋   | 33/49 [00:08<00:04,  3.74it/s]"
     ]
    },
    {
     "name": "stdout",
     "output_type": "stream",
     "text": [
      "Skipping frame 32 - Global MAD: 0.2702, Masked MAD: 0.2986 (threshold: 0.05)\n"
     ]
    },
    {
     "name": "stderr",
     "output_type": "stream",
     "text": [
      "Propagating drift-straight:  69%|██████▉   | 34/49 [00:08<00:04,  3.74it/s]"
     ]
    },
    {
     "name": "stdout",
     "output_type": "stream",
     "text": [
      "Skipping frame 33 - Global MAD: 0.2722, Masked MAD: 0.3105 (threshold: 0.05)\n"
     ]
    },
    {
     "name": "stderr",
     "output_type": "stream",
     "text": [
      "Propagating drift-straight:  71%|███████▏  | 35/49 [00:09<00:03,  3.74it/s]"
     ]
    },
    {
     "name": "stdout",
     "output_type": "stream",
     "text": [
      "Skipping frame 34 - Global MAD: 0.2691, Masked MAD: 0.3732 (threshold: 0.05)\n"
     ]
    },
    {
     "name": "stderr",
     "output_type": "stream",
     "text": [
      "Propagating drift-straight:  73%|███████▎  | 36/49 [00:09<00:03,  3.74it/s]"
     ]
    },
    {
     "name": "stdout",
     "output_type": "stream",
     "text": [
      "Skipping frame 35 - Global MAD: 0.2649, Masked MAD: 0.3370 (threshold: 0.05)\n"
     ]
    },
    {
     "name": "stderr",
     "output_type": "stream",
     "text": [
      "Propagating drift-straight:  76%|███████▌  | 37/49 [00:09<00:03,  3.74it/s]"
     ]
    },
    {
     "name": "stdout",
     "output_type": "stream",
     "text": [
      "Skipping frame 36 - Global MAD: 0.2714, Masked MAD: 0.2405 (threshold: 0.05)\n"
     ]
    },
    {
     "name": "stderr",
     "output_type": "stream",
     "text": [
      "Propagating drift-straight:  78%|███████▊  | 38/49 [00:09<00:02,  3.73it/s]"
     ]
    },
    {
     "name": "stdout",
     "output_type": "stream",
     "text": [
      "Skipping frame 37 - Global MAD: 0.2703, Masked MAD: 0.2147 (threshold: 0.05)\n"
     ]
    },
    {
     "name": "stderr",
     "output_type": "stream",
     "text": [
      "Propagating drift-straight:  80%|███████▉  | 39/49 [00:10<00:02,  3.72it/s]"
     ]
    },
    {
     "name": "stdout",
     "output_type": "stream",
     "text": [
      "Skipping frame 38 - Global MAD: 0.2650, Masked MAD: 0.2280 (threshold: 0.05)\n"
     ]
    },
    {
     "name": "stderr",
     "output_type": "stream",
     "text": [
      "Propagating drift-straight:  82%|████████▏ | 40/49 [00:10<00:02,  3.73it/s]"
     ]
    },
    {
     "name": "stdout",
     "output_type": "stream",
     "text": [
      "Skipping frame 39 - Global MAD: 0.2646, Masked MAD: 0.2345 (threshold: 0.05)\n"
     ]
    },
    {
     "name": "stderr",
     "output_type": "stream",
     "text": [
      "Propagating drift-straight:  84%|████████▎ | 41/49 [00:10<00:02,  3.73it/s]"
     ]
    },
    {
     "name": "stdout",
     "output_type": "stream",
     "text": [
      "Skipping frame 40 - Global MAD: 0.2620, Masked MAD: 0.2293 (threshold: 0.05)\n"
     ]
    },
    {
     "name": "stderr",
     "output_type": "stream",
     "text": [
      "Propagating drift-straight:  86%|████████▌ | 42/49 [00:10<00:01,  3.72it/s]"
     ]
    },
    {
     "name": "stdout",
     "output_type": "stream",
     "text": [
      "Skipping frame 41 - Global MAD: 0.2584, Masked MAD: 0.2242 (threshold: 0.05)\n"
     ]
    },
    {
     "name": "stderr",
     "output_type": "stream",
     "text": [
      "Propagating drift-straight:  88%|████████▊ | 43/49 [00:11<00:01,  3.73it/s]"
     ]
    },
    {
     "name": "stdout",
     "output_type": "stream",
     "text": [
      "Skipping frame 42 - Global MAD: 0.2619, Masked MAD: 0.2256 (threshold: 0.05)\n"
     ]
    },
    {
     "name": "stderr",
     "output_type": "stream",
     "text": [
      "Propagating drift-straight:  90%|████████▉ | 44/49 [00:11<00:01,  3.73it/s]"
     ]
    },
    {
     "name": "stdout",
     "output_type": "stream",
     "text": [
      "Skipping frame 43 - Global MAD: 0.2621, Masked MAD: 0.2277 (threshold: 0.05)\n"
     ]
    },
    {
     "name": "stderr",
     "output_type": "stream",
     "text": [
      "Propagating drift-straight:  92%|█████████▏| 45/49 [00:11<00:01,  3.73it/s]"
     ]
    },
    {
     "name": "stdout",
     "output_type": "stream",
     "text": [
      "Skipping frame 44 - Global MAD: 0.2675, Masked MAD: 0.2307 (threshold: 0.05)\n"
     ]
    },
    {
     "name": "stderr",
     "output_type": "stream",
     "text": [
      "Propagating drift-straight:  94%|█████████▍| 46/49 [00:12<00:00,  3.72it/s]"
     ]
    },
    {
     "name": "stdout",
     "output_type": "stream",
     "text": [
      "Skipping frame 45 - Global MAD: 0.2681, Masked MAD: 0.2343 (threshold: 0.05)\n"
     ]
    },
    {
     "name": "stderr",
     "output_type": "stream",
     "text": [
      "Propagating drift-straight:  96%|█████████▌| 47/49 [00:12<00:00,  3.72it/s]"
     ]
    },
    {
     "name": "stdout",
     "output_type": "stream",
     "text": [
      "Skipping frame 46 - Global MAD: 0.2683, Masked MAD: 0.2379 (threshold: 0.05)\n"
     ]
    },
    {
     "name": "stderr",
     "output_type": "stream",
     "text": [
      "Propagating drift-straight:  98%|█████████▊| 48/49 [00:12<00:00,  3.72it/s]"
     ]
    },
    {
     "name": "stdout",
     "output_type": "stream",
     "text": [
      "Skipping frame 47 - Global MAD: 0.2662, Masked MAD: 0.2338 (threshold: 0.05)\n"
     ]
    },
    {
     "name": "stderr",
     "output_type": "stream",
     "text": [
      "Propagating drift-straight: 100%|██████████| 49/49 [00:12<00:00,  3.72it/s]"
     ]
    },
    {
     "name": "stdout",
     "output_type": "stream",
     "text": [
      "Skipping frame 48 - Global MAD: 0.2606, Masked MAD: 0.2237 (threshold: 0.05)\n"
     ]
    },
    {
     "name": "stderr",
     "output_type": "stream",
     "text": [
      "propagate in video: 100%|██████████| 50/50 [00:13<00:00,  3.80it/s]        \n",
      "Propagating drift-straight: 50it [00:13,  3.80it/s]\n"
     ]
    },
    {
     "name": "stdout",
     "output_type": "stream",
     "text": [
      "Skipping frame 49 - Global MAD: 0.2610, Masked MAD: 0.2192 (threshold: 0.05)\n",
      "Skipped 49 frames due to low MAD.\n",
      "→ Saved all predicted masks for drift-straight in data/DAVIS2017_mgfs_naive/drift-straight\n",
      "\n",
      "=== Processing sequence: goat ===\n"
     ]
    },
    {
     "name": "stderr",
     "output_type": "stream",
     "text": [
      "frame loading (JPEG): 100%|██████████| 90/90 [00:01<00:00, 50.26it/s]\n"
     ]
    },
    {
     "name": "stdout",
     "output_type": "stream",
     "text": [
      "Found 1 unique non‐black colors in goat/00000.png\n"
     ]
    },
    {
     "name": "stderr",
     "output_type": "stream",
     "text": [
      "Propagating goat:   2%|▏         | 2/89 [00:00<00:12,  7.16it/s]"
     ]
    },
    {
     "name": "stdout",
     "output_type": "stream",
     "text": [
      "Skipping frame 1 - Global MAD: 0.1210, Masked MAD: 0.1293 (threshold: 0.05)\n"
     ]
    },
    {
     "name": "stderr",
     "output_type": "stream",
     "text": [
      "Propagating goat:   3%|▎         | 3/89 [00:00<00:16,  5.15it/s]"
     ]
    },
    {
     "name": "stdout",
     "output_type": "stream",
     "text": [
      "Skipping frame 2 - Global MAD: 0.1405, Masked MAD: 0.1565 (threshold: 0.05)\n"
     ]
    },
    {
     "name": "stderr",
     "output_type": "stream",
     "text": [
      "Propagating goat:   4%|▍         | 4/89 [00:00<00:18,  4.52it/s]"
     ]
    },
    {
     "name": "stdout",
     "output_type": "stream",
     "text": [
      "Skipping frame 3 - Global MAD: 0.1548, Masked MAD: 0.1668 (threshold: 0.05)\n"
     ]
    },
    {
     "name": "stderr",
     "output_type": "stream",
     "text": [
      "Propagating goat:   6%|▌         | 5/89 [00:01<00:19,  4.22it/s]"
     ]
    },
    {
     "name": "stdout",
     "output_type": "stream",
     "text": [
      "Skipping frame 4 - Global MAD: 0.1626, Masked MAD: 0.1718 (threshold: 0.05)\n"
     ]
    },
    {
     "name": "stderr",
     "output_type": "stream",
     "text": [
      "Propagating goat:   7%|▋         | 6/89 [00:01<00:20,  4.05it/s]"
     ]
    },
    {
     "name": "stdout",
     "output_type": "stream",
     "text": [
      "Skipping frame 5 - Global MAD: 0.1640, Masked MAD: 0.1723 (threshold: 0.05)\n"
     ]
    },
    {
     "name": "stderr",
     "output_type": "stream",
     "text": [
      "Propagating goat:   8%|▊         | 7/89 [00:01<00:20,  3.93it/s]"
     ]
    },
    {
     "name": "stdout",
     "output_type": "stream",
     "text": [
      "Skipping frame 6 - Global MAD: 0.1646, Masked MAD: 0.1717 (threshold: 0.05)\n"
     ]
    },
    {
     "name": "stderr",
     "output_type": "stream",
     "text": [
      "Propagating goat:   9%|▉         | 8/89 [00:01<00:21,  3.84it/s]"
     ]
    },
    {
     "name": "stdout",
     "output_type": "stream",
     "text": [
      "Skipping frame 7 - Global MAD: 0.1650, Masked MAD: 0.1692 (threshold: 0.05)\n"
     ]
    },
    {
     "name": "stderr",
     "output_type": "stream",
     "text": [
      "Propagating goat:  10%|█         | 9/89 [00:02<00:20,  3.82it/s]"
     ]
    },
    {
     "name": "stdout",
     "output_type": "stream",
     "text": [
      "Skipping frame 8 - Global MAD: 0.1672, Masked MAD: 0.1679 (threshold: 0.05)\n"
     ]
    },
    {
     "name": "stderr",
     "output_type": "stream",
     "text": [
      "Propagating goat:  11%|█         | 10/89 [00:02<00:20,  3.78it/s]"
     ]
    },
    {
     "name": "stdout",
     "output_type": "stream",
     "text": [
      "Skipping frame 9 - Global MAD: 0.1678, Masked MAD: 0.1682 (threshold: 0.05)\n"
     ]
    },
    {
     "name": "stderr",
     "output_type": "stream",
     "text": [
      "Propagating goat:  12%|█▏        | 11/89 [00:02<00:20,  3.76it/s]"
     ]
    },
    {
     "name": "stdout",
     "output_type": "stream",
     "text": [
      "Skipping frame 10 - Global MAD: 0.1699, Masked MAD: 0.1708 (threshold: 0.05)\n"
     ]
    },
    {
     "name": "stderr",
     "output_type": "stream",
     "text": [
      "Propagating goat:  13%|█▎        | 12/89 [00:02<00:20,  3.75it/s]"
     ]
    },
    {
     "name": "stdout",
     "output_type": "stream",
     "text": [
      "Skipping frame 11 - Global MAD: 0.1706, Masked MAD: 0.1728 (threshold: 0.05)\n"
     ]
    },
    {
     "name": "stderr",
     "output_type": "stream",
     "text": [
      "Propagating goat:  15%|█▍        | 13/89 [00:03<00:20,  3.74it/s]"
     ]
    },
    {
     "name": "stdout",
     "output_type": "stream",
     "text": [
      "Skipping frame 12 - Global MAD: 0.1701, Masked MAD: 0.1694 (threshold: 0.05)\n"
     ]
    },
    {
     "name": "stderr",
     "output_type": "stream",
     "text": [
      "Propagating goat:  16%|█▌        | 14/89 [00:03<00:20,  3.74it/s]"
     ]
    },
    {
     "name": "stdout",
     "output_type": "stream",
     "text": [
      "Skipping frame 13 - Global MAD: 0.1718, Masked MAD: 0.1798 (threshold: 0.05)\n"
     ]
    },
    {
     "name": "stderr",
     "output_type": "stream",
     "text": [
      "Propagating goat:  17%|█▋        | 15/89 [00:03<00:19,  3.74it/s]"
     ]
    },
    {
     "name": "stdout",
     "output_type": "stream",
     "text": [
      "Skipping frame 14 - Global MAD: 0.1727, Masked MAD: 0.1771 (threshold: 0.05)\n"
     ]
    },
    {
     "name": "stderr",
     "output_type": "stream",
     "text": [
      "Propagating goat:  18%|█▊        | 16/89 [00:04<00:19,  3.73it/s]"
     ]
    },
    {
     "name": "stdout",
     "output_type": "stream",
     "text": [
      "Skipping frame 15 - Global MAD: 0.1738, Masked MAD: 0.1762 (threshold: 0.05)\n"
     ]
    },
    {
     "name": "stderr",
     "output_type": "stream",
     "text": [
      "Propagating goat:  19%|█▉        | 17/89 [00:04<00:19,  3.73it/s]"
     ]
    },
    {
     "name": "stdout",
     "output_type": "stream",
     "text": [
      "Skipping frame 16 - Global MAD: 0.1748, Masked MAD: 0.1764 (threshold: 0.05)\n"
     ]
    },
    {
     "name": "stderr",
     "output_type": "stream",
     "text": [
      "Propagating goat:  20%|██        | 18/89 [00:04<00:19,  3.71it/s]"
     ]
    },
    {
     "name": "stdout",
     "output_type": "stream",
     "text": [
      "Skipping frame 17 - Global MAD: 0.1765, Masked MAD: 0.1749 (threshold: 0.05)\n"
     ]
    },
    {
     "name": "stderr",
     "output_type": "stream",
     "text": [
      "Propagating goat:  21%|██▏       | 19/89 [00:04<00:18,  3.72it/s]"
     ]
    },
    {
     "name": "stdout",
     "output_type": "stream",
     "text": [
      "Skipping frame 18 - Global MAD: 0.1771, Masked MAD: 0.1769 (threshold: 0.05)\n"
     ]
    },
    {
     "name": "stderr",
     "output_type": "stream",
     "text": [
      "Propagating goat:  22%|██▏       | 20/89 [00:05<00:18,  3.72it/s]"
     ]
    },
    {
     "name": "stdout",
     "output_type": "stream",
     "text": [
      "Skipping frame 19 - Global MAD: 0.1764, Masked MAD: 0.1718 (threshold: 0.05)\n"
     ]
    },
    {
     "name": "stderr",
     "output_type": "stream",
     "text": [
      "Propagating goat:  24%|██▎       | 21/89 [00:05<00:18,  3.71it/s]"
     ]
    },
    {
     "name": "stdout",
     "output_type": "stream",
     "text": [
      "Skipping frame 20 - Global MAD: 0.1770, Masked MAD: 0.1700 (threshold: 0.05)\n"
     ]
    },
    {
     "name": "stderr",
     "output_type": "stream",
     "text": [
      "Propagating goat:  25%|██▍       | 22/89 [00:05<00:18,  3.64it/s]"
     ]
    },
    {
     "name": "stdout",
     "output_type": "stream",
     "text": [
      "Skipping frame 21 - Global MAD: 0.1776, Masked MAD: 0.1709 (threshold: 0.05)\n"
     ]
    },
    {
     "name": "stderr",
     "output_type": "stream",
     "text": [
      "Propagating goat:  26%|██▌       | 23/89 [00:05<00:18,  3.65it/s]"
     ]
    },
    {
     "name": "stdout",
     "output_type": "stream",
     "text": [
      "Skipping frame 22 - Global MAD: 0.1744, Masked MAD: 0.1725 (threshold: 0.05)\n"
     ]
    },
    {
     "name": "stderr",
     "output_type": "stream",
     "text": [
      "Propagating goat:  27%|██▋       | 24/89 [00:06<00:17,  3.67it/s]"
     ]
    },
    {
     "name": "stdout",
     "output_type": "stream",
     "text": [
      "Skipping frame 23 - Global MAD: 0.1729, Masked MAD: 0.1762 (threshold: 0.05)\n"
     ]
    },
    {
     "name": "stderr",
     "output_type": "stream",
     "text": [
      "Propagating goat:  28%|██▊       | 25/89 [00:06<00:17,  3.68it/s]"
     ]
    },
    {
     "name": "stdout",
     "output_type": "stream",
     "text": [
      "Skipping frame 24 - Global MAD: 0.1739, Masked MAD: 0.1813 (threshold: 0.05)\n"
     ]
    },
    {
     "name": "stderr",
     "output_type": "stream",
     "text": [
      "Propagating goat:  29%|██▉       | 26/89 [00:06<00:17,  3.68it/s]"
     ]
    },
    {
     "name": "stdout",
     "output_type": "stream",
     "text": [
      "Skipping frame 25 - Global MAD: 0.1749, Masked MAD: 0.1851 (threshold: 0.05)\n"
     ]
    },
    {
     "name": "stderr",
     "output_type": "stream",
     "text": [
      "Propagating goat:  30%|███       | 27/89 [00:07<00:16,  3.66it/s]"
     ]
    },
    {
     "name": "stdout",
     "output_type": "stream",
     "text": [
      "Skipping frame 26 - Global MAD: 0.1772, Masked MAD: 0.1839 (threshold: 0.05)\n"
     ]
    },
    {
     "name": "stderr",
     "output_type": "stream",
     "text": [
      "Propagating goat:  31%|███▏      | 28/89 [00:07<00:16,  3.68it/s]"
     ]
    },
    {
     "name": "stdout",
     "output_type": "stream",
     "text": [
      "Skipping frame 27 - Global MAD: 0.1786, Masked MAD: 0.1816 (threshold: 0.05)\n"
     ]
    },
    {
     "name": "stderr",
     "output_type": "stream",
     "text": [
      "Propagating goat:  33%|███▎      | 29/89 [00:07<00:16,  3.68it/s]"
     ]
    },
    {
     "name": "stdout",
     "output_type": "stream",
     "text": [
      "Skipping frame 28 - Global MAD: 0.1781, Masked MAD: 0.1877 (threshold: 0.05)\n"
     ]
    },
    {
     "name": "stderr",
     "output_type": "stream",
     "text": [
      "Propagating goat:  34%|███▎      | 30/89 [00:07<00:15,  3.69it/s]"
     ]
    },
    {
     "name": "stdout",
     "output_type": "stream",
     "text": [
      "Skipping frame 29 - Global MAD: 0.1781, Masked MAD: 0.1869 (threshold: 0.05)\n"
     ]
    },
    {
     "name": "stderr",
     "output_type": "stream",
     "text": [
      "Propagating goat:  35%|███▍      | 31/89 [00:08<00:15,  3.70it/s]"
     ]
    },
    {
     "name": "stdout",
     "output_type": "stream",
     "text": [
      "Skipping frame 30 - Global MAD: 0.1810, Masked MAD: 0.1887 (threshold: 0.05)\n",
      "Avg FPS last 30 frames: 3.70\n"
     ]
    },
    {
     "name": "stderr",
     "output_type": "stream",
     "text": [
      "Propagating goat:  36%|███▌      | 32/89 [00:08<00:15,  3.69it/s]"
     ]
    },
    {
     "name": "stdout",
     "output_type": "stream",
     "text": [
      "Skipping frame 31 - Global MAD: 0.1822, Masked MAD: 0.1840 (threshold: 0.05)\n"
     ]
    },
    {
     "name": "stderr",
     "output_type": "stream",
     "text": [
      "Propagating goat:  37%|███▋      | 33/89 [00:08<00:15,  3.69it/s]"
     ]
    },
    {
     "name": "stdout",
     "output_type": "stream",
     "text": [
      "Skipping frame 32 - Global MAD: 0.1841, Masked MAD: 0.1824 (threshold: 0.05)\n"
     ]
    },
    {
     "name": "stderr",
     "output_type": "stream",
     "text": [
      "Propagating goat:  38%|███▊      | 34/89 [00:08<00:14,  3.69it/s]"
     ]
    },
    {
     "name": "stdout",
     "output_type": "stream",
     "text": [
      "Skipping frame 33 - Global MAD: 0.1856, Masked MAD: 0.1843 (threshold: 0.05)\n"
     ]
    },
    {
     "name": "stderr",
     "output_type": "stream",
     "text": [
      "Propagating goat:  39%|███▉      | 35/89 [00:09<00:14,  3.69it/s]"
     ]
    },
    {
     "name": "stdout",
     "output_type": "stream",
     "text": [
      "Skipping frame 34 - Global MAD: 0.1853, Masked MAD: 0.1848 (threshold: 0.05)\n"
     ]
    },
    {
     "name": "stderr",
     "output_type": "stream",
     "text": [
      "Propagating goat:  40%|████      | 36/89 [00:09<00:14,  3.69it/s]"
     ]
    },
    {
     "name": "stdout",
     "output_type": "stream",
     "text": [
      "Skipping frame 35 - Global MAD: 0.1835, Masked MAD: 0.1841 (threshold: 0.05)\n"
     ]
    },
    {
     "name": "stderr",
     "output_type": "stream",
     "text": [
      "Propagating goat:  42%|████▏     | 37/89 [00:09<00:14,  3.68it/s]"
     ]
    },
    {
     "name": "stdout",
     "output_type": "stream",
     "text": [
      "Skipping frame 36 - Global MAD: 0.1836, Masked MAD: 0.1818 (threshold: 0.05)\n"
     ]
    },
    {
     "name": "stderr",
     "output_type": "stream",
     "text": [
      "Propagating goat:  43%|████▎     | 38/89 [00:10<00:13,  3.68it/s]"
     ]
    },
    {
     "name": "stdout",
     "output_type": "stream",
     "text": [
      "Skipping frame 37 - Global MAD: 0.1844, Masked MAD: 0.1821 (threshold: 0.05)\n"
     ]
    },
    {
     "name": "stderr",
     "output_type": "stream",
     "text": [
      "Propagating goat:  44%|████▍     | 39/89 [00:10<00:13,  3.68it/s]"
     ]
    },
    {
     "name": "stdout",
     "output_type": "stream",
     "text": [
      "Skipping frame 38 - Global MAD: 0.1854, Masked MAD: 0.1828 (threshold: 0.05)\n"
     ]
    },
    {
     "name": "stderr",
     "output_type": "stream",
     "text": [
      "Propagating goat:  45%|████▍     | 40/89 [00:10<00:13,  3.69it/s]"
     ]
    },
    {
     "name": "stdout",
     "output_type": "stream",
     "text": [
      "Skipping frame 39 - Global MAD: 0.1847, Masked MAD: 0.1819 (threshold: 0.05)\n"
     ]
    },
    {
     "name": "stderr",
     "output_type": "stream",
     "text": [
      "Propagating goat:  46%|████▌     | 41/89 [00:10<00:13,  3.67it/s]"
     ]
    },
    {
     "name": "stdout",
     "output_type": "stream",
     "text": [
      "Skipping frame 40 - Global MAD: 0.1837, Masked MAD: 0.1785 (threshold: 0.05)\n"
     ]
    },
    {
     "name": "stderr",
     "output_type": "stream",
     "text": [
      "Propagating goat:  47%|████▋     | 42/89 [00:11<00:12,  3.66it/s]"
     ]
    },
    {
     "name": "stdout",
     "output_type": "stream",
     "text": [
      "Skipping frame 41 - Global MAD: 0.1831, Masked MAD: 0.1775 (threshold: 0.05)\n"
     ]
    },
    {
     "name": "stderr",
     "output_type": "stream",
     "text": [
      "Propagating goat:  48%|████▊     | 43/89 [00:11<00:12,  3.67it/s]"
     ]
    },
    {
     "name": "stdout",
     "output_type": "stream",
     "text": [
      "Skipping frame 42 - Global MAD: 0.1829, Masked MAD: 0.1741 (threshold: 0.05)\n"
     ]
    },
    {
     "name": "stderr",
     "output_type": "stream",
     "text": [
      "Propagating goat:  49%|████▉     | 44/89 [00:11<00:12,  3.68it/s]"
     ]
    },
    {
     "name": "stdout",
     "output_type": "stream",
     "text": [
      "Skipping frame 43 - Global MAD: 0.1821, Masked MAD: 0.1724 (threshold: 0.05)\n"
     ]
    },
    {
     "name": "stderr",
     "output_type": "stream",
     "text": [
      "Propagating goat:  51%|█████     | 45/89 [00:11<00:11,  3.67it/s]"
     ]
    },
    {
     "name": "stdout",
     "output_type": "stream",
     "text": [
      "Skipping frame 44 - Global MAD: 0.1803, Masked MAD: 0.1753 (threshold: 0.05)\n"
     ]
    },
    {
     "name": "stderr",
     "output_type": "stream",
     "text": [
      "Propagating goat:  52%|█████▏    | 46/89 [00:12<00:11,  3.68it/s]"
     ]
    },
    {
     "name": "stdout",
     "output_type": "stream",
     "text": [
      "Skipping frame 45 - Global MAD: 0.1800, Masked MAD: 0.1781 (threshold: 0.05)\n"
     ]
    },
    {
     "name": "stderr",
     "output_type": "stream",
     "text": [
      "Propagating goat:  53%|█████▎    | 47/89 [00:12<00:11,  3.68it/s]"
     ]
    },
    {
     "name": "stdout",
     "output_type": "stream",
     "text": [
      "Skipping frame 46 - Global MAD: 0.1813, Masked MAD: 0.1797 (threshold: 0.05)\n"
     ]
    },
    {
     "name": "stderr",
     "output_type": "stream",
     "text": [
      "Propagating goat:  54%|█████▍    | 48/89 [00:12<00:11,  3.69it/s]"
     ]
    },
    {
     "name": "stdout",
     "output_type": "stream",
     "text": [
      "Skipping frame 47 - Global MAD: 0.1808, Masked MAD: 0.1808 (threshold: 0.05)\n"
     ]
    },
    {
     "name": "stderr",
     "output_type": "stream",
     "text": [
      "Propagating goat:  55%|█████▌    | 49/89 [00:13<00:10,  3.70it/s]"
     ]
    },
    {
     "name": "stdout",
     "output_type": "stream",
     "text": [
      "Skipping frame 48 - Global MAD: 0.1811, Masked MAD: 0.1849 (threshold: 0.05)\n"
     ]
    },
    {
     "name": "stderr",
     "output_type": "stream",
     "text": [
      "Propagating goat:  56%|█████▌    | 50/89 [00:13<00:10,  3.69it/s]"
     ]
    },
    {
     "name": "stdout",
     "output_type": "stream",
     "text": [
      "Skipping frame 49 - Global MAD: 0.1810, Masked MAD: 0.1870 (threshold: 0.05)\n"
     ]
    },
    {
     "name": "stderr",
     "output_type": "stream",
     "text": [
      "Propagating goat:  57%|█████▋    | 51/89 [00:13<00:10,  3.70it/s]"
     ]
    },
    {
     "name": "stdout",
     "output_type": "stream",
     "text": [
      "Skipping frame 50 - Global MAD: 0.1819, Masked MAD: 0.1824 (threshold: 0.05)\n"
     ]
    },
    {
     "name": "stderr",
     "output_type": "stream",
     "text": [
      "Propagating goat:  58%|█████▊    | 52/89 [00:13<00:09,  3.71it/s]"
     ]
    },
    {
     "name": "stdout",
     "output_type": "stream",
     "text": [
      "Skipping frame 51 - Global MAD: 0.1820, Masked MAD: 0.1809 (threshold: 0.05)\n"
     ]
    },
    {
     "name": "stderr",
     "output_type": "stream",
     "text": [
      "Propagating goat:  60%|█████▉    | 53/89 [00:14<00:09,  3.71it/s]"
     ]
    },
    {
     "name": "stdout",
     "output_type": "stream",
     "text": [
      "Skipping frame 52 - Global MAD: 0.1833, Masked MAD: 0.1741 (threshold: 0.05)\n"
     ]
    },
    {
     "name": "stderr",
     "output_type": "stream",
     "text": [
      "Propagating goat:  61%|██████    | 54/89 [00:14<00:09,  3.70it/s]"
     ]
    },
    {
     "name": "stdout",
     "output_type": "stream",
     "text": [
      "Skipping frame 53 - Global MAD: 0.1849, Masked MAD: 0.1729 (threshold: 0.05)\n"
     ]
    },
    {
     "name": "stderr",
     "output_type": "stream",
     "text": [
      "Propagating goat:  62%|██████▏   | 55/89 [00:14<00:09,  3.70it/s]"
     ]
    },
    {
     "name": "stdout",
     "output_type": "stream",
     "text": [
      "Skipping frame 54 - Global MAD: 0.1854, Masked MAD: 0.1753 (threshold: 0.05)\n"
     ]
    },
    {
     "name": "stderr",
     "output_type": "stream",
     "text": [
      "Propagating goat:  63%|██████▎   | 56/89 [00:14<00:08,  3.67it/s]"
     ]
    },
    {
     "name": "stdout",
     "output_type": "stream",
     "text": [
      "Skipping frame 55 - Global MAD: 0.1848, Masked MAD: 0.1776 (threshold: 0.05)\n"
     ]
    },
    {
     "name": "stderr",
     "output_type": "stream",
     "text": [
      "Propagating goat:  64%|██████▍   | 57/89 [00:15<00:08,  3.67it/s]"
     ]
    },
    {
     "name": "stdout",
     "output_type": "stream",
     "text": [
      "Skipping frame 56 - Global MAD: 0.1831, Masked MAD: 0.1777 (threshold: 0.05)\n"
     ]
    },
    {
     "name": "stderr",
     "output_type": "stream",
     "text": [
      "Propagating goat:  65%|██████▌   | 58/89 [00:15<00:08,  3.68it/s]"
     ]
    },
    {
     "name": "stdout",
     "output_type": "stream",
     "text": [
      "Skipping frame 57 - Global MAD: 0.1826, Masked MAD: 0.1791 (threshold: 0.05)\n"
     ]
    },
    {
     "name": "stderr",
     "output_type": "stream",
     "text": [
      "Propagating goat:  66%|██████▋   | 59/89 [00:15<00:08,  3.68it/s]"
     ]
    },
    {
     "name": "stdout",
     "output_type": "stream",
     "text": [
      "Skipping frame 58 - Global MAD: 0.1837, Masked MAD: 0.1819 (threshold: 0.05)\n"
     ]
    },
    {
     "name": "stderr",
     "output_type": "stream",
     "text": [
      "Propagating goat:  67%|██████▋   | 60/89 [00:15<00:07,  3.68it/s]"
     ]
    },
    {
     "name": "stdout",
     "output_type": "stream",
     "text": [
      "Skipping frame 59 - Global MAD: 0.1826, Masked MAD: 0.1861 (threshold: 0.05)\n"
     ]
    },
    {
     "name": "stderr",
     "output_type": "stream",
     "text": [
      "Propagating goat:  69%|██████▊   | 61/89 [00:16<00:07,  3.69it/s]"
     ]
    },
    {
     "name": "stdout",
     "output_type": "stream",
     "text": [
      "Skipping frame 60 - Global MAD: 0.1809, Masked MAD: 0.1808 (threshold: 0.05)\n",
      "Avg FPS last 30 frames: 3.68\n"
     ]
    },
    {
     "name": "stderr",
     "output_type": "stream",
     "text": [
      "Propagating goat:  70%|██████▉   | 62/89 [00:16<00:07,  3.68it/s]"
     ]
    },
    {
     "name": "stdout",
     "output_type": "stream",
     "text": [
      "Skipping frame 61 - Global MAD: 0.1797, Masked MAD: 0.1795 (threshold: 0.05)\n"
     ]
    },
    {
     "name": "stderr",
     "output_type": "stream",
     "text": [
      "Propagating goat:  71%|███████   | 63/89 [00:16<00:07,  3.70it/s]"
     ]
    },
    {
     "name": "stdout",
     "output_type": "stream",
     "text": [
      "Skipping frame 62 - Global MAD: 0.1770, Masked MAD: 0.1773 (threshold: 0.05)\n"
     ]
    },
    {
     "name": "stderr",
     "output_type": "stream",
     "text": [
      "Propagating goat:  72%|███████▏  | 64/89 [00:17<00:06,  3.69it/s]"
     ]
    },
    {
     "name": "stdout",
     "output_type": "stream",
     "text": [
      "Skipping frame 63 - Global MAD: 0.1769, Masked MAD: 0.1798 (threshold: 0.05)\n"
     ]
    },
    {
     "name": "stderr",
     "output_type": "stream",
     "text": [
      "Propagating goat:  73%|███████▎  | 65/89 [00:17<00:06,  3.70it/s]"
     ]
    },
    {
     "name": "stdout",
     "output_type": "stream",
     "text": [
      "Skipping frame 64 - Global MAD: 0.1752, Masked MAD: 0.1752 (threshold: 0.05)\n"
     ]
    },
    {
     "name": "stderr",
     "output_type": "stream",
     "text": [
      "Propagating goat:  74%|███████▍  | 66/89 [00:17<00:06,  3.70it/s]"
     ]
    },
    {
     "name": "stdout",
     "output_type": "stream",
     "text": [
      "Skipping frame 65 - Global MAD: 0.1766, Masked MAD: 0.1793 (threshold: 0.05)\n"
     ]
    },
    {
     "name": "stderr",
     "output_type": "stream",
     "text": [
      "Propagating goat:  75%|███████▌  | 67/89 [00:17<00:05,  3.70it/s]"
     ]
    },
    {
     "name": "stdout",
     "output_type": "stream",
     "text": [
      "Skipping frame 66 - Global MAD: 0.1777, Masked MAD: 0.1773 (threshold: 0.05)\n"
     ]
    },
    {
     "name": "stderr",
     "output_type": "stream",
     "text": [
      "Propagating goat:  76%|███████▋  | 68/89 [00:18<00:05,  3.70it/s]"
     ]
    },
    {
     "name": "stdout",
     "output_type": "stream",
     "text": [
      "Skipping frame 67 - Global MAD: 0.1780, Masked MAD: 0.1782 (threshold: 0.05)\n"
     ]
    },
    {
     "name": "stderr",
     "output_type": "stream",
     "text": [
      "Propagating goat:  78%|███████▊  | 69/89 [00:18<00:05,  3.70it/s]"
     ]
    },
    {
     "name": "stdout",
     "output_type": "stream",
     "text": [
      "Skipping frame 68 - Global MAD: 0.1767, Masked MAD: 0.1750 (threshold: 0.05)\n"
     ]
    },
    {
     "name": "stderr",
     "output_type": "stream",
     "text": [
      "Propagating goat:  79%|███████▊  | 70/89 [00:18<00:05,  3.70it/s]"
     ]
    },
    {
     "name": "stdout",
     "output_type": "stream",
     "text": [
      "Skipping frame 69 - Global MAD: 0.1755, Masked MAD: 0.1708 (threshold: 0.05)\n"
     ]
    },
    {
     "name": "stderr",
     "output_type": "stream",
     "text": [
      "Propagating goat:  80%|███████▉  | 71/89 [00:18<00:04,  3.71it/s]"
     ]
    },
    {
     "name": "stdout",
     "output_type": "stream",
     "text": [
      "Skipping frame 70 - Global MAD: 0.1762, Masked MAD: 0.1736 (threshold: 0.05)\n"
     ]
    },
    {
     "name": "stderr",
     "output_type": "stream",
     "text": [
      "Propagating goat:  81%|████████  | 72/89 [00:19<00:04,  3.71it/s]"
     ]
    },
    {
     "name": "stdout",
     "output_type": "stream",
     "text": [
      "Skipping frame 71 - Global MAD: 0.1790, Masked MAD: 0.1746 (threshold: 0.05)\n"
     ]
    },
    {
     "name": "stderr",
     "output_type": "stream",
     "text": [
      "Propagating goat:  82%|████████▏ | 73/89 [00:19<00:04,  3.71it/s]"
     ]
    },
    {
     "name": "stdout",
     "output_type": "stream",
     "text": [
      "Skipping frame 72 - Global MAD: 0.1815, Masked MAD: 0.1708 (threshold: 0.05)\n"
     ]
    },
    {
     "name": "stderr",
     "output_type": "stream",
     "text": [
      "Propagating goat:  83%|████████▎ | 74/89 [00:19<00:04,  3.71it/s]"
     ]
    },
    {
     "name": "stdout",
     "output_type": "stream",
     "text": [
      "Skipping frame 73 - Global MAD: 0.1838, Masked MAD: 0.1714 (threshold: 0.05)\n"
     ]
    },
    {
     "name": "stderr",
     "output_type": "stream",
     "text": [
      "Propagating goat:  84%|████████▍ | 75/89 [00:20<00:03,  3.71it/s]"
     ]
    },
    {
     "name": "stdout",
     "output_type": "stream",
     "text": [
      "Skipping frame 74 - Global MAD: 0.1850, Masked MAD: 0.1720 (threshold: 0.05)\n"
     ]
    },
    {
     "name": "stderr",
     "output_type": "stream",
     "text": [
      "Propagating goat:  85%|████████▌ | 76/89 [00:20<00:03,  3.71it/s]"
     ]
    },
    {
     "name": "stdout",
     "output_type": "stream",
     "text": [
      "Skipping frame 75 - Global MAD: 0.1860, Masked MAD: 0.1726 (threshold: 0.05)\n"
     ]
    },
    {
     "name": "stderr",
     "output_type": "stream",
     "text": [
      "Propagating goat:  87%|████████▋ | 77/89 [00:20<00:03,  3.70it/s]"
     ]
    },
    {
     "name": "stdout",
     "output_type": "stream",
     "text": [
      "Skipping frame 76 - Global MAD: 0.1854, Masked MAD: 0.1741 (threshold: 0.05)\n"
     ]
    },
    {
     "name": "stderr",
     "output_type": "stream",
     "text": [
      "Propagating goat:  88%|████████▊ | 78/89 [00:20<00:02,  3.69it/s]"
     ]
    },
    {
     "name": "stdout",
     "output_type": "stream",
     "text": [
      "Skipping frame 77 - Global MAD: 0.1850, Masked MAD: 0.1754 (threshold: 0.05)\n"
     ]
    },
    {
     "name": "stderr",
     "output_type": "stream",
     "text": [
      "Propagating goat:  89%|████████▉ | 79/89 [00:21<00:02,  3.70it/s]"
     ]
    },
    {
     "name": "stdout",
     "output_type": "stream",
     "text": [
      "Skipping frame 78 - Global MAD: 0.1854, Masked MAD: 0.1792 (threshold: 0.05)\n"
     ]
    },
    {
     "name": "stderr",
     "output_type": "stream",
     "text": [
      "Propagating goat:  90%|████████▉ | 80/89 [00:21<00:02,  3.71it/s]"
     ]
    },
    {
     "name": "stdout",
     "output_type": "stream",
     "text": [
      "Skipping frame 79 - Global MAD: 0.1859, Masked MAD: 0.1869 (threshold: 0.05)\n"
     ]
    },
    {
     "name": "stderr",
     "output_type": "stream",
     "text": [
      "Propagating goat:  91%|█████████ | 81/89 [00:21<00:02,  3.71it/s]"
     ]
    },
    {
     "name": "stdout",
     "output_type": "stream",
     "text": [
      "Skipping frame 80 - Global MAD: 0.1863, Masked MAD: 0.1920 (threshold: 0.05)\n"
     ]
    },
    {
     "name": "stderr",
     "output_type": "stream",
     "text": [
      "Propagating goat:  92%|█████████▏| 82/89 [00:21<00:01,  3.71it/s]"
     ]
    },
    {
     "name": "stdout",
     "output_type": "stream",
     "text": [
      "Skipping frame 81 - Global MAD: 0.1856, Masked MAD: 0.1939 (threshold: 0.05)\n"
     ]
    },
    {
     "name": "stderr",
     "output_type": "stream",
     "text": [
      "Propagating goat:  93%|█████████▎| 83/89 [00:22<00:01,  3.71it/s]"
     ]
    },
    {
     "name": "stdout",
     "output_type": "stream",
     "text": [
      "Skipping frame 82 - Global MAD: 0.1857, Masked MAD: 0.1980 (threshold: 0.05)\n"
     ]
    },
    {
     "name": "stderr",
     "output_type": "stream",
     "text": [
      "Propagating goat:  94%|█████████▍| 84/89 [00:22<00:01,  3.71it/s]"
     ]
    },
    {
     "name": "stdout",
     "output_type": "stream",
     "text": [
      "Skipping frame 83 - Global MAD: 0.1824, Masked MAD: 0.2002 (threshold: 0.05)\n"
     ]
    },
    {
     "name": "stderr",
     "output_type": "stream",
     "text": [
      "Propagating goat:  96%|█████████▌| 85/89 [00:22<00:01,  3.72it/s]"
     ]
    },
    {
     "name": "stdout",
     "output_type": "stream",
     "text": [
      "Skipping frame 84 - Global MAD: 0.1800, Masked MAD: 0.2033 (threshold: 0.05)\n"
     ]
    },
    {
     "name": "stderr",
     "output_type": "stream",
     "text": [
      "Propagating goat:  97%|█████████▋| 86/89 [00:22<00:00,  3.72it/s]"
     ]
    },
    {
     "name": "stdout",
     "output_type": "stream",
     "text": [
      "Skipping frame 85 - Global MAD: 0.1797, Masked MAD: 0.2055 (threshold: 0.05)\n"
     ]
    },
    {
     "name": "stderr",
     "output_type": "stream",
     "text": [
      "Propagating goat:  98%|█████████▊| 87/89 [00:23<00:00,  3.71it/s]"
     ]
    },
    {
     "name": "stdout",
     "output_type": "stream",
     "text": [
      "Skipping frame 86 - Global MAD: 0.1799, Masked MAD: 0.2035 (threshold: 0.05)\n"
     ]
    },
    {
     "name": "stderr",
     "output_type": "stream",
     "text": [
      "Propagating goat:  99%|█████████▉| 88/89 [00:23<00:00,  3.72it/s]"
     ]
    },
    {
     "name": "stdout",
     "output_type": "stream",
     "text": [
      "Skipping frame 87 - Global MAD: 0.1807, Masked MAD: 0.2010 (threshold: 0.05)\n"
     ]
    },
    {
     "name": "stderr",
     "output_type": "stream",
     "text": [
      "Propagating goat: 100%|██████████| 89/89 [00:23<00:00,  3.71it/s]"
     ]
    },
    {
     "name": "stdout",
     "output_type": "stream",
     "text": [
      "Skipping frame 88 - Global MAD: 0.1823, Masked MAD: 0.2031 (threshold: 0.05)\n"
     ]
    },
    {
     "name": "stderr",
     "output_type": "stream",
     "text": [
      "propagate in video: 100%|██████████| 90/90 [00:24<00:00,  3.74it/s]\n",
      "Propagating goat: 90it [00:24,  3.74it/s]\n"
     ]
    },
    {
     "name": "stdout",
     "output_type": "stream",
     "text": [
      "Skipping frame 89 - Global MAD: 0.1839, Masked MAD: 0.1950 (threshold: 0.05)\n",
      "Skipped 89 frames due to low MAD.\n",
      "→ Saved all predicted masks for goat in data/DAVIS2017_mgfs_naive/goat\n",
      "\n",
      "=== Processing sequence: gold-fish ===\n"
     ]
    },
    {
     "name": "stderr",
     "output_type": "stream",
     "text": [
      "frame loading (JPEG): 100%|██████████| 78/78 [00:01<00:00, 49.83it/s]\n"
     ]
    },
    {
     "name": "stdout",
     "output_type": "stream",
     "text": [
      "Found 5 unique non‐black colors in gold-fish/00000.png\n"
     ]
    },
    {
     "name": "stderr",
     "output_type": "stream",
     "text": [
      "Propagating gold-fish:   3%|▎         | 2/77 [00:00<00:12,  6.06it/s]"
     ]
    },
    {
     "name": "stdout",
     "output_type": "stream",
     "text": [
      "Skipping frame 1 - Global MAD: 0.0240, Masked MAD: 0.0409 (threshold: 0.05)\n"
     ]
    },
    {
     "name": "stderr",
     "output_type": "stream",
     "text": [
      "Propagating gold-fish:   4%|▍         | 3/77 [00:00<00:16,  4.49it/s]"
     ]
    },
    {
     "name": "stdout",
     "output_type": "stream",
     "text": [
      "Skipping frame 2 - Global MAD: 0.0375, Masked MAD: 0.0667 (threshold: 0.05)\n"
     ]
    },
    {
     "name": "stderr",
     "output_type": "stream",
     "text": [
      "Propagating gold-fish:   5%|▌         | 4/77 [00:00<00:18,  3.98it/s]"
     ]
    },
    {
     "name": "stdout",
     "output_type": "stream",
     "text": [
      "Skipping frame 3 - Global MAD: 0.0474, Masked MAD: 0.0820 (threshold: 0.05)\n"
     ]
    },
    {
     "name": "stderr",
     "output_type": "stream",
     "text": [
      "Propagating gold-fish:   6%|▋         | 5/77 [00:01<00:19,  3.73it/s]"
     ]
    },
    {
     "name": "stdout",
     "output_type": "stream",
     "text": [
      "Skipping frame 4 - Global MAD: 0.0549, Masked MAD: 0.0930 (threshold: 0.05)\n"
     ]
    },
    {
     "name": "stderr",
     "output_type": "stream",
     "text": [
      "Propagating gold-fish:   8%|▊         | 6/77 [00:01<00:19,  3.59it/s]"
     ]
    },
    {
     "name": "stdout",
     "output_type": "stream",
     "text": [
      "Skipping frame 5 - Global MAD: 0.0623, Masked MAD: 0.1048 (threshold: 0.05)\n"
     ]
    },
    {
     "name": "stderr",
     "output_type": "stream",
     "text": [
      "Propagating gold-fish:   9%|▉         | 7/77 [00:01<00:19,  3.50it/s]"
     ]
    },
    {
     "name": "stdout",
     "output_type": "stream",
     "text": [
      "Skipping frame 6 - Global MAD: 0.0688, Masked MAD: 0.1151 (threshold: 0.05)\n"
     ]
    },
    {
     "name": "stderr",
     "output_type": "stream",
     "text": [
      "Propagating gold-fish:  10%|█         | 8/77 [00:02<00:19,  3.46it/s]"
     ]
    },
    {
     "name": "stdout",
     "output_type": "stream",
     "text": [
      "Skipping frame 7 - Global MAD: 0.0740, Masked MAD: 0.1220 (threshold: 0.05)\n"
     ]
    },
    {
     "name": "stderr",
     "output_type": "stream",
     "text": [
      "Propagating gold-fish:  12%|█▏        | 9/77 [00:02<00:19,  3.43it/s]"
     ]
    },
    {
     "name": "stdout",
     "output_type": "stream",
     "text": [
      "Skipping frame 8 - Global MAD: 0.0794, Masked MAD: 0.1294 (threshold: 0.05)\n"
     ]
    },
    {
     "name": "stderr",
     "output_type": "stream",
     "text": [
      "Propagating gold-fish:  13%|█▎        | 10/77 [00:02<00:19,  3.41it/s]"
     ]
    },
    {
     "name": "stdout",
     "output_type": "stream",
     "text": [
      "Skipping frame 9 - Global MAD: 0.0840, Masked MAD: 0.1359 (threshold: 0.05)\n"
     ]
    },
    {
     "name": "stderr",
     "output_type": "stream",
     "text": [
      "Propagating gold-fish:  14%|█▍        | 11/77 [00:03<00:19,  3.40it/s]"
     ]
    },
    {
     "name": "stdout",
     "output_type": "stream",
     "text": [
      "Skipping frame 10 - Global MAD: 0.0886, Masked MAD: 0.1418 (threshold: 0.05)\n"
     ]
    },
    {
     "name": "stderr",
     "output_type": "stream",
     "text": [
      "Propagating gold-fish:  16%|█▌        | 12/77 [00:03<00:19,  3.38it/s]"
     ]
    },
    {
     "name": "stdout",
     "output_type": "stream",
     "text": [
      "Skipping frame 11 - Global MAD: 0.0930, Masked MAD: 0.1474 (threshold: 0.05)\n"
     ]
    },
    {
     "name": "stderr",
     "output_type": "stream",
     "text": [
      "Propagating gold-fish:  17%|█▋        | 13/77 [00:03<00:18,  3.38it/s]"
     ]
    },
    {
     "name": "stdout",
     "output_type": "stream",
     "text": [
      "Skipping frame 12 - Global MAD: 0.0966, Masked MAD: 0.1520 (threshold: 0.05)\n"
     ]
    },
    {
     "name": "stderr",
     "output_type": "stream",
     "text": [
      "Propagating gold-fish:  18%|█▊        | 14/77 [00:03<00:18,  3.37it/s]"
     ]
    },
    {
     "name": "stdout",
     "output_type": "stream",
     "text": [
      "Skipping frame 13 - Global MAD: 0.0996, Masked MAD: 0.1559 (threshold: 0.05)\n"
     ]
    },
    {
     "name": "stderr",
     "output_type": "stream",
     "text": [
      "Propagating gold-fish:  19%|█▉        | 15/77 [00:04<00:18,  3.37it/s]"
     ]
    },
    {
     "name": "stdout",
     "output_type": "stream",
     "text": [
      "Skipping frame 14 - Global MAD: 0.1029, Masked MAD: 0.1607 (threshold: 0.05)\n"
     ]
    },
    {
     "name": "stderr",
     "output_type": "stream",
     "text": [
      "Propagating gold-fish:  21%|██        | 16/77 [00:04<00:18,  3.37it/s]"
     ]
    },
    {
     "name": "stdout",
     "output_type": "stream",
     "text": [
      "Skipping frame 15 - Global MAD: 0.1059, Masked MAD: 0.1651 (threshold: 0.05)\n"
     ]
    },
    {
     "name": "stderr",
     "output_type": "stream",
     "text": [
      "Propagating gold-fish:  22%|██▏       | 17/77 [00:04<00:17,  3.36it/s]"
     ]
    },
    {
     "name": "stdout",
     "output_type": "stream",
     "text": [
      "Skipping frame 16 - Global MAD: 0.1087, Masked MAD: 0.1699 (threshold: 0.05)\n"
     ]
    },
    {
     "name": "stderr",
     "output_type": "stream",
     "text": [
      "Propagating gold-fish:  23%|██▎       | 18/77 [00:05<00:17,  3.37it/s]"
     ]
    },
    {
     "name": "stdout",
     "output_type": "stream",
     "text": [
      "Skipping frame 17 - Global MAD: 0.1114, Masked MAD: 0.1753 (threshold: 0.05)\n"
     ]
    },
    {
     "name": "stderr",
     "output_type": "stream",
     "text": [
      "Propagating gold-fish:  25%|██▍       | 19/77 [00:05<00:17,  3.36it/s]"
     ]
    },
    {
     "name": "stdout",
     "output_type": "stream",
     "text": [
      "Skipping frame 18 - Global MAD: 0.1135, Masked MAD: 0.1794 (threshold: 0.05)\n"
     ]
    },
    {
     "name": "stderr",
     "output_type": "stream",
     "text": [
      "Propagating gold-fish:  26%|██▌       | 20/77 [00:05<00:16,  3.36it/s]"
     ]
    },
    {
     "name": "stdout",
     "output_type": "stream",
     "text": [
      "Skipping frame 19 - Global MAD: 0.1156, Masked MAD: 0.1825 (threshold: 0.05)\n"
     ]
    },
    {
     "name": "stderr",
     "output_type": "stream",
     "text": [
      "Propagating gold-fish:  27%|██▋       | 21/77 [00:06<00:16,  3.35it/s]"
     ]
    },
    {
     "name": "stdout",
     "output_type": "stream",
     "text": [
      "Skipping frame 20 - Global MAD: 0.1169, Masked MAD: 0.1851 (threshold: 0.05)\n"
     ]
    },
    {
     "name": "stderr",
     "output_type": "stream",
     "text": [
      "Propagating gold-fish:  29%|██▊       | 22/77 [00:06<00:16,  3.36it/s]"
     ]
    },
    {
     "name": "stdout",
     "output_type": "stream",
     "text": [
      "Skipping frame 21 - Global MAD: 0.1180, Masked MAD: 0.1860 (threshold: 0.05)\n"
     ]
    },
    {
     "name": "stderr",
     "output_type": "stream",
     "text": [
      "Propagating gold-fish:  30%|██▉       | 23/77 [00:06<00:16,  3.35it/s]"
     ]
    },
    {
     "name": "stdout",
     "output_type": "stream",
     "text": [
      "Skipping frame 22 - Global MAD: 0.1194, Masked MAD: 0.1877 (threshold: 0.05)\n"
     ]
    },
    {
     "name": "stderr",
     "output_type": "stream",
     "text": [
      "Propagating gold-fish:  31%|███       | 24/77 [00:06<00:15,  3.36it/s]"
     ]
    },
    {
     "name": "stdout",
     "output_type": "stream",
     "text": [
      "Skipping frame 23 - Global MAD: 0.1209, Masked MAD: 0.1904 (threshold: 0.05)\n"
     ]
    },
    {
     "name": "stderr",
     "output_type": "stream",
     "text": [
      "Propagating gold-fish:  32%|███▏      | 25/77 [00:07<00:15,  3.36it/s]"
     ]
    },
    {
     "name": "stdout",
     "output_type": "stream",
     "text": [
      "Skipping frame 24 - Global MAD: 0.1227, Masked MAD: 0.1929 (threshold: 0.05)\n"
     ]
    },
    {
     "name": "stderr",
     "output_type": "stream",
     "text": [
      "Propagating gold-fish:  34%|███▍      | 26/77 [00:07<00:15,  3.36it/s]"
     ]
    },
    {
     "name": "stdout",
     "output_type": "stream",
     "text": [
      "Skipping frame 25 - Global MAD: 0.1247, Masked MAD: 0.1971 (threshold: 0.05)\n"
     ]
    },
    {
     "name": "stderr",
     "output_type": "stream",
     "text": [
      "Propagating gold-fish:  35%|███▌      | 27/77 [00:07<00:14,  3.36it/s]"
     ]
    },
    {
     "name": "stdout",
     "output_type": "stream",
     "text": [
      "Skipping frame 26 - Global MAD: 0.1269, Masked MAD: 0.2019 (threshold: 0.05)\n"
     ]
    },
    {
     "name": "stderr",
     "output_type": "stream",
     "text": [
      "Propagating gold-fish:  36%|███▋      | 28/77 [00:08<00:14,  3.35it/s]"
     ]
    },
    {
     "name": "stdout",
     "output_type": "stream",
     "text": [
      "Skipping frame 27 - Global MAD: 0.1286, Masked MAD: 0.2051 (threshold: 0.05)\n"
     ]
    },
    {
     "name": "stderr",
     "output_type": "stream",
     "text": [
      "Propagating gold-fish:  38%|███▊      | 29/77 [00:08<00:14,  3.36it/s]"
     ]
    },
    {
     "name": "stdout",
     "output_type": "stream",
     "text": [
      "Skipping frame 28 - Global MAD: 0.1296, Masked MAD: 0.2058 (threshold: 0.05)\n"
     ]
    },
    {
     "name": "stderr",
     "output_type": "stream",
     "text": [
      "Propagating gold-fish:  39%|███▉      | 30/77 [00:08<00:14,  3.36it/s]"
     ]
    },
    {
     "name": "stdout",
     "output_type": "stream",
     "text": [
      "Skipping frame 29 - Global MAD: 0.1301, Masked MAD: 0.2057 (threshold: 0.05)\n"
     ]
    },
    {
     "name": "stderr",
     "output_type": "stream",
     "text": [
      "Propagating gold-fish:  40%|████      | 31/77 [00:08<00:13,  3.36it/s]"
     ]
    },
    {
     "name": "stdout",
     "output_type": "stream",
     "text": [
      "Skipping frame 30 - Global MAD: 0.1303, Masked MAD: 0.2047 (threshold: 0.05)\n",
      "Avg FPS last 30 frames: 3.35\n"
     ]
    },
    {
     "name": "stderr",
     "output_type": "stream",
     "text": [
      "Propagating gold-fish:  42%|████▏     | 32/77 [00:09<00:13,  3.36it/s]"
     ]
    },
    {
     "name": "stdout",
     "output_type": "stream",
     "text": [
      "Skipping frame 31 - Global MAD: 0.1311, Masked MAD: 0.2049 (threshold: 0.05)\n"
     ]
    },
    {
     "name": "stderr",
     "output_type": "stream",
     "text": [
      "Propagating gold-fish:  43%|████▎     | 33/77 [00:09<00:13,  3.37it/s]"
     ]
    },
    {
     "name": "stdout",
     "output_type": "stream",
     "text": [
      "Skipping frame 32 - Global MAD: 0.1326, Masked MAD: 0.2063 (threshold: 0.05)\n"
     ]
    },
    {
     "name": "stderr",
     "output_type": "stream",
     "text": [
      "Propagating gold-fish:  44%|████▍     | 34/77 [00:09<00:12,  3.37it/s]"
     ]
    },
    {
     "name": "stdout",
     "output_type": "stream",
     "text": [
      "Skipping frame 33 - Global MAD: 0.1345, Masked MAD: 0.2092 (threshold: 0.05)\n"
     ]
    },
    {
     "name": "stderr",
     "output_type": "stream",
     "text": [
      "Propagating gold-fish:  45%|████▌     | 35/77 [00:10<00:12,  3.36it/s]"
     ]
    },
    {
     "name": "stdout",
     "output_type": "stream",
     "text": [
      "Skipping frame 34 - Global MAD: 0.1362, Masked MAD: 0.2120 (threshold: 0.05)\n"
     ]
    },
    {
     "name": "stderr",
     "output_type": "stream",
     "text": [
      "Propagating gold-fish:  47%|████▋     | 36/77 [00:10<00:12,  3.37it/s]"
     ]
    },
    {
     "name": "stdout",
     "output_type": "stream",
     "text": [
      "Skipping frame 35 - Global MAD: 0.1376, Masked MAD: 0.2139 (threshold: 0.05)\n"
     ]
    },
    {
     "name": "stderr",
     "output_type": "stream",
     "text": [
      "Propagating gold-fish:  48%|████▊     | 37/77 [00:10<00:11,  3.36it/s]"
     ]
    },
    {
     "name": "stdout",
     "output_type": "stream",
     "text": [
      "Skipping frame 36 - Global MAD: 0.1386, Masked MAD: 0.2154 (threshold: 0.05)\n"
     ]
    },
    {
     "name": "stderr",
     "output_type": "stream",
     "text": [
      "Propagating gold-fish:  49%|████▉     | 38/77 [00:11<00:11,  3.36it/s]"
     ]
    },
    {
     "name": "stdout",
     "output_type": "stream",
     "text": [
      "Skipping frame 37 - Global MAD: 0.1398, Masked MAD: 0.2177 (threshold: 0.05)\n"
     ]
    },
    {
     "name": "stderr",
     "output_type": "stream",
     "text": [
      "Propagating gold-fish:  51%|█████     | 39/77 [00:11<00:11,  3.36it/s]"
     ]
    },
    {
     "name": "stdout",
     "output_type": "stream",
     "text": [
      "Skipping frame 38 - Global MAD: 0.1401, Masked MAD: 0.2195 (threshold: 0.05)\n"
     ]
    },
    {
     "name": "stderr",
     "output_type": "stream",
     "text": [
      "Propagating gold-fish:  52%|█████▏    | 40/77 [00:11<00:11,  3.36it/s]"
     ]
    },
    {
     "name": "stdout",
     "output_type": "stream",
     "text": [
      "Skipping frame 39 - Global MAD: 0.1401, Masked MAD: 0.2201 (threshold: 0.05)\n"
     ]
    },
    {
     "name": "stderr",
     "output_type": "stream",
     "text": [
      "Propagating gold-fish:  53%|█████▎    | 41/77 [00:11<00:10,  3.36it/s]"
     ]
    },
    {
     "name": "stdout",
     "output_type": "stream",
     "text": [
      "Skipping frame 40 - Global MAD: 0.1406, Masked MAD: 0.2218 (threshold: 0.05)\n"
     ]
    },
    {
     "name": "stderr",
     "output_type": "stream",
     "text": [
      "Propagating gold-fish:  55%|█████▍    | 42/77 [00:12<00:10,  3.36it/s]"
     ]
    },
    {
     "name": "stdout",
     "output_type": "stream",
     "text": [
      "Skipping frame 41 - Global MAD: 0.1413, Masked MAD: 0.2240 (threshold: 0.05)\n"
     ]
    },
    {
     "name": "stderr",
     "output_type": "stream",
     "text": [
      "Propagating gold-fish:  56%|█████▌    | 43/77 [00:12<00:10,  3.36it/s]"
     ]
    },
    {
     "name": "stdout",
     "output_type": "stream",
     "text": [
      "Skipping frame 42 - Global MAD: 0.1416, Masked MAD: 0.2250 (threshold: 0.05)\n"
     ]
    },
    {
     "name": "stderr",
     "output_type": "stream",
     "text": [
      "Propagating gold-fish:  57%|█████▋    | 44/77 [00:12<00:09,  3.35it/s]"
     ]
    },
    {
     "name": "stdout",
     "output_type": "stream",
     "text": [
      "Skipping frame 43 - Global MAD: 0.1423, Masked MAD: 0.2251 (threshold: 0.05)\n"
     ]
    },
    {
     "name": "stderr",
     "output_type": "stream",
     "text": [
      "Propagating gold-fish:  58%|█████▊    | 45/77 [00:13<00:09,  3.35it/s]"
     ]
    },
    {
     "name": "stdout",
     "output_type": "stream",
     "text": [
      "Skipping frame 44 - Global MAD: 0.1431, Masked MAD: 0.2247 (threshold: 0.05)\n"
     ]
    },
    {
     "name": "stderr",
     "output_type": "stream",
     "text": [
      "Propagating gold-fish:  60%|█████▉    | 46/77 [00:13<00:09,  3.35it/s]"
     ]
    },
    {
     "name": "stdout",
     "output_type": "stream",
     "text": [
      "Skipping frame 45 - Global MAD: 0.1437, Masked MAD: 0.2236 (threshold: 0.05)\n"
     ]
    },
    {
     "name": "stderr",
     "output_type": "stream",
     "text": [
      "Propagating gold-fish:  61%|██████    | 47/77 [00:13<00:08,  3.35it/s]"
     ]
    },
    {
     "name": "stdout",
     "output_type": "stream",
     "text": [
      "Skipping frame 46 - Global MAD: 0.1442, Masked MAD: 0.2229 (threshold: 0.05)\n"
     ]
    },
    {
     "name": "stderr",
     "output_type": "stream",
     "text": [
      "Propagating gold-fish:  62%|██████▏   | 48/77 [00:14<00:08,  3.35it/s]"
     ]
    },
    {
     "name": "stdout",
     "output_type": "stream",
     "text": [
      "Skipping frame 47 - Global MAD: 0.1441, Masked MAD: 0.2221 (threshold: 0.05)\n"
     ]
    },
    {
     "name": "stderr",
     "output_type": "stream",
     "text": [
      "Propagating gold-fish:  64%|██████▎   | 49/77 [00:14<00:08,  3.35it/s]"
     ]
    },
    {
     "name": "stdout",
     "output_type": "stream",
     "text": [
      "Skipping frame 48 - Global MAD: 0.1440, Masked MAD: 0.2217 (threshold: 0.05)\n"
     ]
    },
    {
     "name": "stderr",
     "output_type": "stream",
     "text": [
      "Propagating gold-fish:  65%|██████▍   | 50/77 [00:14<00:08,  3.35it/s]"
     ]
    },
    {
     "name": "stdout",
     "output_type": "stream",
     "text": [
      "Skipping frame 49 - Global MAD: 0.1438, Masked MAD: 0.2221 (threshold: 0.05)\n"
     ]
    },
    {
     "name": "stderr",
     "output_type": "stream",
     "text": [
      "Propagating gold-fish:  66%|██████▌   | 51/77 [00:14<00:07,  3.35it/s]"
     ]
    },
    {
     "name": "stdout",
     "output_type": "stream",
     "text": [
      "Skipping frame 50 - Global MAD: 0.1438, Masked MAD: 0.2235 (threshold: 0.05)\n"
     ]
    },
    {
     "name": "stderr",
     "output_type": "stream",
     "text": [
      "Propagating gold-fish:  68%|██████▊   | 52/77 [00:15<00:07,  3.35it/s]"
     ]
    },
    {
     "name": "stdout",
     "output_type": "stream",
     "text": [
      "Skipping frame 51 - Global MAD: 0.1438, Masked MAD: 0.2245 (threshold: 0.05)\n"
     ]
    },
    {
     "name": "stderr",
     "output_type": "stream",
     "text": [
      "Propagating gold-fish:  69%|██████▉   | 53/77 [00:15<00:07,  3.35it/s]"
     ]
    },
    {
     "name": "stdout",
     "output_type": "stream",
     "text": [
      "Skipping frame 52 - Global MAD: 0.1440, Masked MAD: 0.2245 (threshold: 0.05)\n"
     ]
    },
    {
     "name": "stderr",
     "output_type": "stream",
     "text": [
      "Propagating gold-fish:  70%|███████   | 54/77 [00:15<00:06,  3.35it/s]"
     ]
    },
    {
     "name": "stdout",
     "output_type": "stream",
     "text": [
      "Skipping frame 53 - Global MAD: 0.1443, Masked MAD: 0.2239 (threshold: 0.05)\n"
     ]
    },
    {
     "name": "stderr",
     "output_type": "stream",
     "text": [
      "Propagating gold-fish:  71%|███████▏  | 55/77 [00:16<00:06,  3.34it/s]"
     ]
    },
    {
     "name": "stdout",
     "output_type": "stream",
     "text": [
      "Skipping frame 54 - Global MAD: 0.1445, Masked MAD: 0.2238 (threshold: 0.05)\n"
     ]
    },
    {
     "name": "stderr",
     "output_type": "stream",
     "text": [
      "Propagating gold-fish:  73%|███████▎  | 56/77 [00:16<00:06,  3.33it/s]"
     ]
    },
    {
     "name": "stdout",
     "output_type": "stream",
     "text": [
      "Skipping frame 55 - Global MAD: 0.1450, Masked MAD: 0.2242 (threshold: 0.05)\n"
     ]
    },
    {
     "name": "stderr",
     "output_type": "stream",
     "text": [
      "Propagating gold-fish:  74%|███████▍  | 57/77 [00:16<00:06,  3.32it/s]"
     ]
    },
    {
     "name": "stdout",
     "output_type": "stream",
     "text": [
      "Skipping frame 56 - Global MAD: 0.1458, Masked MAD: 0.2270 (threshold: 0.05)\n"
     ]
    },
    {
     "name": "stderr",
     "output_type": "stream",
     "text": [
      "Propagating gold-fish:  75%|███████▌  | 58/77 [00:17<00:05,  3.34it/s]"
     ]
    },
    {
     "name": "stdout",
     "output_type": "stream",
     "text": [
      "Skipping frame 57 - Global MAD: 0.1458, Masked MAD: 0.2279 (threshold: 0.05)\n"
     ]
    },
    {
     "name": "stderr",
     "output_type": "stream",
     "text": [
      "Propagating gold-fish:  77%|███████▋  | 59/77 [00:17<00:05,  3.34it/s]"
     ]
    },
    {
     "name": "stdout",
     "output_type": "stream",
     "text": [
      "Skipping frame 58 - Global MAD: 0.1461, Masked MAD: 0.2300 (threshold: 0.05)\n"
     ]
    },
    {
     "name": "stderr",
     "output_type": "stream",
     "text": [
      "Propagating gold-fish:  78%|███████▊  | 60/77 [00:17<00:05,  3.34it/s]"
     ]
    },
    {
     "name": "stdout",
     "output_type": "stream",
     "text": [
      "Skipping frame 59 - Global MAD: 0.1469, Masked MAD: 0.2326 (threshold: 0.05)\n"
     ]
    },
    {
     "name": "stderr",
     "output_type": "stream",
     "text": [
      "Propagating gold-fish:  79%|███████▉  | 61/77 [00:17<00:04,  3.34it/s]"
     ]
    },
    {
     "name": "stdout",
     "output_type": "stream",
     "text": [
      "Skipping frame 60 - Global MAD: 0.1475, Masked MAD: 0.2353 (threshold: 0.05)\n",
      "Avg FPS last 30 frames: 3.35\n"
     ]
    },
    {
     "name": "stderr",
     "output_type": "stream",
     "text": [
      "Propagating gold-fish:  81%|████████  | 62/77 [00:18<00:04,  3.35it/s]"
     ]
    },
    {
     "name": "stdout",
     "output_type": "stream",
     "text": [
      "Skipping frame 61 - Global MAD: 0.1473, Masked MAD: 0.2351 (threshold: 0.05)\n"
     ]
    },
    {
     "name": "stderr",
     "output_type": "stream",
     "text": [
      "Propagating gold-fish:  82%|████████▏ | 63/77 [00:18<00:04,  3.36it/s]"
     ]
    },
    {
     "name": "stdout",
     "output_type": "stream",
     "text": [
      "Skipping frame 62 - Global MAD: 0.1473, Masked MAD: 0.2345 (threshold: 0.05)\n"
     ]
    },
    {
     "name": "stderr",
     "output_type": "stream",
     "text": [
      "Propagating gold-fish:  83%|████████▎ | 64/77 [00:18<00:03,  3.35it/s]"
     ]
    },
    {
     "name": "stdout",
     "output_type": "stream",
     "text": [
      "Skipping frame 63 - Global MAD: 0.1469, Masked MAD: 0.2340 (threshold: 0.05)\n"
     ]
    },
    {
     "name": "stderr",
     "output_type": "stream",
     "text": [
      "Propagating gold-fish:  84%|████████▍ | 65/77 [00:19<00:03,  3.35it/s]"
     ]
    },
    {
     "name": "stdout",
     "output_type": "stream",
     "text": [
      "Skipping frame 64 - Global MAD: 0.1472, Masked MAD: 0.2339 (threshold: 0.05)\n"
     ]
    },
    {
     "name": "stderr",
     "output_type": "stream",
     "text": [
      "Propagating gold-fish:  86%|████████▌ | 66/77 [00:19<00:03,  3.36it/s]"
     ]
    },
    {
     "name": "stdout",
     "output_type": "stream",
     "text": [
      "Skipping frame 65 - Global MAD: 0.1473, Masked MAD: 0.2333 (threshold: 0.05)\n"
     ]
    },
    {
     "name": "stderr",
     "output_type": "stream",
     "text": [
      "Propagating gold-fish:  87%|████████▋ | 67/77 [00:19<00:02,  3.35it/s]"
     ]
    },
    {
     "name": "stdout",
     "output_type": "stream",
     "text": [
      "Skipping frame 66 - Global MAD: 0.1475, Masked MAD: 0.2335 (threshold: 0.05)\n"
     ]
    },
    {
     "name": "stderr",
     "output_type": "stream",
     "text": [
      "Propagating gold-fish:  88%|████████▊ | 68/77 [00:20<00:02,  3.36it/s]"
     ]
    },
    {
     "name": "stdout",
     "output_type": "stream",
     "text": [
      "Skipping frame 67 - Global MAD: 0.1475, Masked MAD: 0.2337 (threshold: 0.05)\n"
     ]
    },
    {
     "name": "stderr",
     "output_type": "stream",
     "text": [
      "Propagating gold-fish:  90%|████████▉ | 69/77 [00:20<00:02,  3.36it/s]"
     ]
    },
    {
     "name": "stdout",
     "output_type": "stream",
     "text": [
      "Skipping frame 68 - Global MAD: 0.1461, Masked MAD: 0.2313 (threshold: 0.05)\n"
     ]
    },
    {
     "name": "stderr",
     "output_type": "stream",
     "text": [
      "Propagating gold-fish:  91%|█████████ | 70/77 [00:20<00:02,  3.36it/s]"
     ]
    },
    {
     "name": "stdout",
     "output_type": "stream",
     "text": [
      "Skipping frame 69 - Global MAD: 0.1456, Masked MAD: 0.2317 (threshold: 0.05)\n"
     ]
    },
    {
     "name": "stderr",
     "output_type": "stream",
     "text": [
      "Propagating gold-fish:  92%|█████████▏| 71/77 [00:20<00:01,  3.35it/s]"
     ]
    },
    {
     "name": "stdout",
     "output_type": "stream",
     "text": [
      "Skipping frame 70 - Global MAD: 0.1453, Masked MAD: 0.2318 (threshold: 0.05)\n"
     ]
    },
    {
     "name": "stderr",
     "output_type": "stream",
     "text": [
      "Propagating gold-fish:  94%|█████████▎| 72/77 [00:21<00:01,  3.35it/s]"
     ]
    },
    {
     "name": "stdout",
     "output_type": "stream",
     "text": [
      "Skipping frame 71 - Global MAD: 0.1456, Masked MAD: 0.2319 (threshold: 0.05)\n"
     ]
    },
    {
     "name": "stderr",
     "output_type": "stream",
     "text": [
      "Propagating gold-fish:  95%|█████████▍| 73/77 [00:21<00:01,  3.35it/s]"
     ]
    },
    {
     "name": "stdout",
     "output_type": "stream",
     "text": [
      "Skipping frame 72 - Global MAD: 0.1463, Masked MAD: 0.2324 (threshold: 0.05)\n"
     ]
    },
    {
     "name": "stderr",
     "output_type": "stream",
     "text": [
      "Propagating gold-fish:  96%|█████████▌| 74/77 [00:21<00:00,  3.35it/s]"
     ]
    },
    {
     "name": "stdout",
     "output_type": "stream",
     "text": [
      "Skipping frame 73 - Global MAD: 0.1474, Masked MAD: 0.2330 (threshold: 0.05)\n"
     ]
    },
    {
     "name": "stderr",
     "output_type": "stream",
     "text": [
      "Propagating gold-fish:  97%|█████████▋| 75/77 [00:22<00:00,  3.35it/s]"
     ]
    },
    {
     "name": "stdout",
     "output_type": "stream",
     "text": [
      "Skipping frame 74 - Global MAD: 0.1478, Masked MAD: 0.2321 (threshold: 0.05)\n"
     ]
    },
    {
     "name": "stderr",
     "output_type": "stream",
     "text": [
      "Propagating gold-fish:  99%|█████████▊| 76/77 [00:22<00:00,  3.33it/s]"
     ]
    },
    {
     "name": "stdout",
     "output_type": "stream",
     "text": [
      "Skipping frame 75 - Global MAD: 0.1479, Masked MAD: 0.2305 (threshold: 0.05)\n"
     ]
    },
    {
     "name": "stderr",
     "output_type": "stream",
     "text": [
      "Propagating gold-fish: 100%|██████████| 77/77 [00:22<00:00,  3.33it/s]"
     ]
    },
    {
     "name": "stdout",
     "output_type": "stream",
     "text": [
      "Skipping frame 76 - Global MAD: 0.1481, Masked MAD: 0.2300 (threshold: 0.05)\n"
     ]
    },
    {
     "name": "stderr",
     "output_type": "stream",
     "text": [
      "propagate in video: 100%|██████████| 78/78 [00:23<00:00,  3.39it/s]   \n",
      "Propagating gold-fish: 78it [00:23,  3.39it/s]\n"
     ]
    },
    {
     "name": "stdout",
     "output_type": "stream",
     "text": [
      "Skipping frame 77 - Global MAD: 0.1486, Masked MAD: 0.2298 (threshold: 0.05)\n",
      "Skipped 77 frames due to low MAD.\n",
      "→ Saved all predicted masks for gold-fish in data/DAVIS2017_mgfs_naive/gold-fish\n",
      "\n",
      "=== Processing sequence: horsejump-high ===\n"
     ]
    },
    {
     "name": "stderr",
     "output_type": "stream",
     "text": [
      "frame loading (JPEG): 100%|██████████| 50/50 [00:00<00:00, 51.17it/s]\n"
     ]
    },
    {
     "name": "stdout",
     "output_type": "stream",
     "text": [
      "Found 2 unique non‐black colors in horsejump-high/00000.png\n"
     ]
    },
    {
     "name": "stderr",
     "output_type": "stream",
     "text": [
      "Propagating horsejump-high:   4%|▍         | 2/49 [00:00<00:06,  6.73it/s]"
     ]
    },
    {
     "name": "stdout",
     "output_type": "stream",
     "text": [
      "Skipping frame 1 - Global MAD: 0.0793, Masked MAD: 0.2161 (threshold: 0.05)\n"
     ]
    },
    {
     "name": "stderr",
     "output_type": "stream",
     "text": [
      "Propagating horsejump-high:   6%|▌         | 3/49 [00:00<00:09,  4.95it/s]"
     ]
    },
    {
     "name": "stdout",
     "output_type": "stream",
     "text": [
      "Skipping frame 2 - Global MAD: 0.1001, Masked MAD: 0.2762 (threshold: 0.05)\n"
     ]
    },
    {
     "name": "stderr",
     "output_type": "stream",
     "text": [
      "Propagating horsejump-high:   8%|▊         | 4/49 [00:00<00:10,  4.35it/s]"
     ]
    },
    {
     "name": "stdout",
     "output_type": "stream",
     "text": [
      "Skipping frame 3 - Global MAD: 0.1085, Masked MAD: 0.2895 (threshold: 0.05)\n"
     ]
    },
    {
     "name": "stderr",
     "output_type": "stream",
     "text": [
      "Propagating horsejump-high:  10%|█         | 5/49 [00:01<00:10,  4.06it/s]"
     ]
    },
    {
     "name": "stdout",
     "output_type": "stream",
     "text": [
      "Skipping frame 4 - Global MAD: 0.1133, Masked MAD: 0.2999 (threshold: 0.05)\n"
     ]
    },
    {
     "name": "stderr",
     "output_type": "stream",
     "text": [
      "Propagating horsejump-high:  12%|█▏        | 6/49 [00:01<00:11,  3.90it/s]"
     ]
    },
    {
     "name": "stdout",
     "output_type": "stream",
     "text": [
      "Skipping frame 5 - Global MAD: 0.1140, Masked MAD: 0.3090 (threshold: 0.05)\n"
     ]
    },
    {
     "name": "stderr",
     "output_type": "stream",
     "text": [
      "Propagating horsejump-high:  14%|█▍        | 7/49 [00:01<00:11,  3.80it/s]"
     ]
    },
    {
     "name": "stdout",
     "output_type": "stream",
     "text": [
      "Skipping frame 6 - Global MAD: 0.1138, Masked MAD: 0.3039 (threshold: 0.05)\n"
     ]
    },
    {
     "name": "stderr",
     "output_type": "stream",
     "text": [
      "Propagating horsejump-high:  16%|█▋        | 8/49 [00:01<00:10,  3.74it/s]"
     ]
    },
    {
     "name": "stdout",
     "output_type": "stream",
     "text": [
      "Skipping frame 7 - Global MAD: 0.1171, Masked MAD: 0.3152 (threshold: 0.05)\n"
     ]
    },
    {
     "name": "stderr",
     "output_type": "stream",
     "text": [
      "Propagating horsejump-high:  18%|█▊        | 9/49 [00:02<00:10,  3.69it/s]"
     ]
    },
    {
     "name": "stdout",
     "output_type": "stream",
     "text": [
      "Skipping frame 8 - Global MAD: 0.1227, Masked MAD: 0.3337 (threshold: 0.05)\n"
     ]
    },
    {
     "name": "stderr",
     "output_type": "stream",
     "text": [
      "Propagating horsejump-high:  20%|██        | 10/49 [00:02<00:10,  3.67it/s]"
     ]
    },
    {
     "name": "stdout",
     "output_type": "stream",
     "text": [
      "Skipping frame 9 - Global MAD: 0.1263, Masked MAD: 0.3444 (threshold: 0.05)\n"
     ]
    },
    {
     "name": "stderr",
     "output_type": "stream",
     "text": [
      "Propagating horsejump-high:  22%|██▏       | 11/49 [00:02<00:10,  3.64it/s]"
     ]
    },
    {
     "name": "stdout",
     "output_type": "stream",
     "text": [
      "Skipping frame 10 - Global MAD: 0.1331, Masked MAD: 0.3529 (threshold: 0.05)\n"
     ]
    },
    {
     "name": "stderr",
     "output_type": "stream",
     "text": [
      "Propagating horsejump-high:  24%|██▍       | 12/49 [00:03<00:10,  3.63it/s]"
     ]
    },
    {
     "name": "stdout",
     "output_type": "stream",
     "text": [
      "Skipping frame 11 - Global MAD: 0.1390, Masked MAD: 0.3517 (threshold: 0.05)\n"
     ]
    },
    {
     "name": "stderr",
     "output_type": "stream",
     "text": [
      "Propagating horsejump-high:  27%|██▋       | 13/49 [00:03<00:09,  3.62it/s]"
     ]
    },
    {
     "name": "stdout",
     "output_type": "stream",
     "text": [
      "Skipping frame 12 - Global MAD: 0.1442, Masked MAD: 0.3520 (threshold: 0.05)\n"
     ]
    },
    {
     "name": "stderr",
     "output_type": "stream",
     "text": [
      "Propagating horsejump-high:  29%|██▊       | 14/49 [00:03<00:09,  3.62it/s]"
     ]
    },
    {
     "name": "stdout",
     "output_type": "stream",
     "text": [
      "Skipping frame 13 - Global MAD: 0.1491, Masked MAD: 0.3595 (threshold: 0.05)\n"
     ]
    },
    {
     "name": "stderr",
     "output_type": "stream",
     "text": [
      "Propagating horsejump-high:  31%|███       | 15/49 [00:03<00:09,  3.60it/s]"
     ]
    },
    {
     "name": "stdout",
     "output_type": "stream",
     "text": [
      "Skipping frame 14 - Global MAD: 0.1531, Masked MAD: 0.3613 (threshold: 0.05)\n"
     ]
    },
    {
     "name": "stderr",
     "output_type": "stream",
     "text": [
      "Propagating horsejump-high:  33%|███▎      | 16/49 [00:04<00:09,  3.61it/s]"
     ]
    },
    {
     "name": "stdout",
     "output_type": "stream",
     "text": [
      "Skipping frame 15 - Global MAD: 0.1573, Masked MAD: 0.3692 (threshold: 0.05)\n"
     ]
    },
    {
     "name": "stderr",
     "output_type": "stream",
     "text": [
      "Propagating horsejump-high:  35%|███▍      | 17/49 [00:04<00:08,  3.60it/s]"
     ]
    },
    {
     "name": "stdout",
     "output_type": "stream",
     "text": [
      "Skipping frame 16 - Global MAD: 0.1605, Masked MAD: 0.3706 (threshold: 0.05)\n"
     ]
    },
    {
     "name": "stderr",
     "output_type": "stream",
     "text": [
      "Propagating horsejump-high:  37%|███▋      | 18/49 [00:04<00:08,  3.60it/s]"
     ]
    },
    {
     "name": "stdout",
     "output_type": "stream",
     "text": [
      "Skipping frame 17 - Global MAD: 0.1635, Masked MAD: 0.3749 (threshold: 0.05)\n"
     ]
    },
    {
     "name": "stderr",
     "output_type": "stream",
     "text": [
      "Propagating horsejump-high:  39%|███▉      | 19/49 [00:05<00:08,  3.60it/s]"
     ]
    },
    {
     "name": "stdout",
     "output_type": "stream",
     "text": [
      "Skipping frame 18 - Global MAD: 0.1644, Masked MAD: 0.3695 (threshold: 0.05)\n"
     ]
    },
    {
     "name": "stderr",
     "output_type": "stream",
     "text": [
      "Propagating horsejump-high:  41%|████      | 20/49 [00:05<00:08,  3.61it/s]"
     ]
    },
    {
     "name": "stdout",
     "output_type": "stream",
     "text": [
      "Skipping frame 19 - Global MAD: 0.1651, Masked MAD: 0.3778 (threshold: 0.05)\n"
     ]
    },
    {
     "name": "stderr",
     "output_type": "stream",
     "text": [
      "Propagating horsejump-high:  43%|████▎     | 21/49 [00:05<00:07,  3.61it/s]"
     ]
    },
    {
     "name": "stdout",
     "output_type": "stream",
     "text": [
      "Skipping frame 20 - Global MAD: 0.1650, Masked MAD: 0.3826 (threshold: 0.05)\n"
     ]
    },
    {
     "name": "stderr",
     "output_type": "stream",
     "text": [
      "Propagating horsejump-high:  45%|████▍     | 22/49 [00:05<00:07,  3.62it/s]"
     ]
    },
    {
     "name": "stdout",
     "output_type": "stream",
     "text": [
      "Skipping frame 21 - Global MAD: 0.1647, Masked MAD: 0.3821 (threshold: 0.05)\n"
     ]
    },
    {
     "name": "stderr",
     "output_type": "stream",
     "text": [
      "Propagating horsejump-high:  47%|████▋     | 23/49 [00:06<00:07,  3.62it/s]"
     ]
    },
    {
     "name": "stdout",
     "output_type": "stream",
     "text": [
      "Skipping frame 22 - Global MAD: 0.1650, Masked MAD: 0.3840 (threshold: 0.05)\n"
     ]
    },
    {
     "name": "stderr",
     "output_type": "stream",
     "text": [
      "Propagating horsejump-high:  49%|████▉     | 24/49 [00:06<00:06,  3.62it/s]"
     ]
    },
    {
     "name": "stdout",
     "output_type": "stream",
     "text": [
      "Skipping frame 23 - Global MAD: 0.1644, Masked MAD: 0.3889 (threshold: 0.05)\n"
     ]
    },
    {
     "name": "stderr",
     "output_type": "stream",
     "text": [
      "Propagating horsejump-high:  51%|█████     | 25/49 [00:06<00:06,  3.61it/s]"
     ]
    },
    {
     "name": "stdout",
     "output_type": "stream",
     "text": [
      "Skipping frame 24 - Global MAD: 0.1618, Masked MAD: 0.3876 (threshold: 0.05)\n"
     ]
    },
    {
     "name": "stderr",
     "output_type": "stream",
     "text": [
      "Propagating horsejump-high:  53%|█████▎    | 26/49 [00:06<00:06,  3.62it/s]"
     ]
    },
    {
     "name": "stdout",
     "output_type": "stream",
     "text": [
      "Skipping frame 25 - Global MAD: 0.1605, Masked MAD: 0.3918 (threshold: 0.05)\n"
     ]
    },
    {
     "name": "stderr",
     "output_type": "stream",
     "text": [
      "Propagating horsejump-high:  55%|█████▌    | 27/49 [00:07<00:06,  3.61it/s]"
     ]
    },
    {
     "name": "stdout",
     "output_type": "stream",
     "text": [
      "Skipping frame 26 - Global MAD: 0.1600, Masked MAD: 0.3910 (threshold: 0.05)\n"
     ]
    },
    {
     "name": "stderr",
     "output_type": "stream",
     "text": [
      "Propagating horsejump-high:  57%|█████▋    | 28/49 [00:07<00:05,  3.61it/s]"
     ]
    },
    {
     "name": "stdout",
     "output_type": "stream",
     "text": [
      "Skipping frame 27 - Global MAD: 0.1601, Masked MAD: 0.3926 (threshold: 0.05)\n"
     ]
    },
    {
     "name": "stderr",
     "output_type": "stream",
     "text": [
      "Propagating horsejump-high:  59%|█████▉    | 29/49 [00:07<00:05,  3.61it/s]"
     ]
    },
    {
     "name": "stdout",
     "output_type": "stream",
     "text": [
      "Skipping frame 28 - Global MAD: 0.1638, Masked MAD: 0.3937 (threshold: 0.05)\n"
     ]
    },
    {
     "name": "stderr",
     "output_type": "stream",
     "text": [
      "Propagating horsejump-high:  61%|██████    | 30/49 [00:08<00:05,  3.61it/s]"
     ]
    },
    {
     "name": "stdout",
     "output_type": "stream",
     "text": [
      "Skipping frame 29 - Global MAD: 0.1686, Masked MAD: 0.3968 (threshold: 0.05)\n"
     ]
    },
    {
     "name": "stderr",
     "output_type": "stream",
     "text": [
      "Propagating horsejump-high:  63%|██████▎   | 31/49 [00:08<00:04,  3.61it/s]"
     ]
    },
    {
     "name": "stdout",
     "output_type": "stream",
     "text": [
      "Skipping frame 30 - Global MAD: 0.1729, Masked MAD: 0.3996 (threshold: 0.05)\n",
      "Avg FPS last 30 frames: 3.61\n"
     ]
    },
    {
     "name": "stderr",
     "output_type": "stream",
     "text": [
      "Propagating horsejump-high:  65%|██████▌   | 32/49 [00:08<00:04,  3.62it/s]"
     ]
    },
    {
     "name": "stdout",
     "output_type": "stream",
     "text": [
      "Skipping frame 31 - Global MAD: 0.1743, Masked MAD: 0.3966 (threshold: 0.05)\n"
     ]
    },
    {
     "name": "stderr",
     "output_type": "stream",
     "text": [
      "Propagating horsejump-high:  67%|██████▋   | 33/49 [00:08<00:04,  3.61it/s]"
     ]
    },
    {
     "name": "stdout",
     "output_type": "stream",
     "text": [
      "Skipping frame 32 - Global MAD: 0.1755, Masked MAD: 0.3840 (threshold: 0.05)\n"
     ]
    },
    {
     "name": "stderr",
     "output_type": "stream",
     "text": [
      "Propagating horsejump-high:  69%|██████▉   | 34/49 [00:09<00:04,  3.61it/s]"
     ]
    },
    {
     "name": "stdout",
     "output_type": "stream",
     "text": [
      "Skipping frame 33 - Global MAD: 0.1744, Masked MAD: 0.3756 (threshold: 0.05)\n"
     ]
    },
    {
     "name": "stderr",
     "output_type": "stream",
     "text": [
      "Propagating horsejump-high:  71%|███████▏  | 35/49 [00:09<00:03,  3.61it/s]"
     ]
    },
    {
     "name": "stdout",
     "output_type": "stream",
     "text": [
      "Skipping frame 34 - Global MAD: 0.1741, Masked MAD: 0.3751 (threshold: 0.05)\n"
     ]
    },
    {
     "name": "stderr",
     "output_type": "stream",
     "text": [
      "Propagating horsejump-high:  73%|███████▎  | 36/49 [00:09<00:03,  3.61it/s]"
     ]
    },
    {
     "name": "stdout",
     "output_type": "stream",
     "text": [
      "Skipping frame 35 - Global MAD: 0.1747, Masked MAD: 0.3724 (threshold: 0.05)\n"
     ]
    },
    {
     "name": "stderr",
     "output_type": "stream",
     "text": [
      "Propagating horsejump-high:  76%|███████▌  | 37/49 [00:09<00:03,  3.60it/s]"
     ]
    },
    {
     "name": "stdout",
     "output_type": "stream",
     "text": [
      "Skipping frame 36 - Global MAD: 0.1774, Masked MAD: 0.3809 (threshold: 0.05)\n"
     ]
    },
    {
     "name": "stderr",
     "output_type": "stream",
     "text": [
      "Propagating horsejump-high:  78%|███████▊  | 38/49 [00:10<00:03,  3.61it/s]"
     ]
    },
    {
     "name": "stdout",
     "output_type": "stream",
     "text": [
      "Skipping frame 37 - Global MAD: 0.1795, Masked MAD: 0.3941 (threshold: 0.05)\n"
     ]
    },
    {
     "name": "stderr",
     "output_type": "stream",
     "text": [
      "Propagating horsejump-high:  80%|███████▉  | 39/49 [00:10<00:02,  3.61it/s]"
     ]
    },
    {
     "name": "stdout",
     "output_type": "stream",
     "text": [
      "Skipping frame 38 - Global MAD: 0.1794, Masked MAD: 0.4015 (threshold: 0.05)\n"
     ]
    },
    {
     "name": "stderr",
     "output_type": "stream",
     "text": [
      "Propagating horsejump-high:  82%|████████▏ | 40/49 [00:10<00:02,  3.61it/s]"
     ]
    },
    {
     "name": "stdout",
     "output_type": "stream",
     "text": [
      "Skipping frame 39 - Global MAD: 0.1799, Masked MAD: 0.4012 (threshold: 0.05)\n"
     ]
    },
    {
     "name": "stderr",
     "output_type": "stream",
     "text": [
      "Propagating horsejump-high:  84%|████████▎ | 41/49 [00:11<00:02,  3.62it/s]"
     ]
    },
    {
     "name": "stdout",
     "output_type": "stream",
     "text": [
      "Skipping frame 40 - Global MAD: 0.1803, Masked MAD: 0.3995 (threshold: 0.05)\n"
     ]
    },
    {
     "name": "stderr",
     "output_type": "stream",
     "text": [
      "Propagating horsejump-high:  86%|████████▌ | 42/49 [00:11<00:01,  3.62it/s]"
     ]
    },
    {
     "name": "stdout",
     "output_type": "stream",
     "text": [
      "Skipping frame 41 - Global MAD: 0.1790, Masked MAD: 0.3985 (threshold: 0.05)\n"
     ]
    },
    {
     "name": "stderr",
     "output_type": "stream",
     "text": [
      "Propagating horsejump-high:  88%|████████▊ | 43/49 [00:11<00:01,  3.61it/s]"
     ]
    },
    {
     "name": "stdout",
     "output_type": "stream",
     "text": [
      "Skipping frame 42 - Global MAD: 0.1789, Masked MAD: 0.3928 (threshold: 0.05)\n"
     ]
    },
    {
     "name": "stderr",
     "output_type": "stream",
     "text": [
      "Propagating horsejump-high:  90%|████████▉ | 44/49 [00:11<00:01,  3.62it/s]"
     ]
    },
    {
     "name": "stdout",
     "output_type": "stream",
     "text": [
      "Skipping frame 43 - Global MAD: 0.1797, Masked MAD: 0.3879 (threshold: 0.05)\n"
     ]
    },
    {
     "name": "stderr",
     "output_type": "stream",
     "text": [
      "Propagating horsejump-high:  92%|█████████▏| 45/49 [00:12<00:01,  3.62it/s]"
     ]
    },
    {
     "name": "stdout",
     "output_type": "stream",
     "text": [
      "Skipping frame 44 - Global MAD: 0.1805, Masked MAD: 0.3881 (threshold: 0.05)\n"
     ]
    },
    {
     "name": "stderr",
     "output_type": "stream",
     "text": [
      "Propagating horsejump-high:  94%|█████████▍| 46/49 [00:12<00:00,  3.62it/s]"
     ]
    },
    {
     "name": "stdout",
     "output_type": "stream",
     "text": [
      "Skipping frame 45 - Global MAD: 0.1804, Masked MAD: 0.3902 (threshold: 0.05)\n"
     ]
    },
    {
     "name": "stderr",
     "output_type": "stream",
     "text": [
      "Propagating horsejump-high:  96%|█████████▌| 47/49 [00:12<00:00,  3.61it/s]"
     ]
    },
    {
     "name": "stdout",
     "output_type": "stream",
     "text": [
      "Skipping frame 46 - Global MAD: 0.1813, Masked MAD: 0.3929 (threshold: 0.05)\n"
     ]
    },
    {
     "name": "stderr",
     "output_type": "stream",
     "text": [
      "Propagating horsejump-high:  98%|█████████▊| 48/49 [00:13<00:00,  3.62it/s]"
     ]
    },
    {
     "name": "stdout",
     "output_type": "stream",
     "text": [
      "Skipping frame 47 - Global MAD: 0.1820, Masked MAD: 0.3970 (threshold: 0.05)\n"
     ]
    },
    {
     "name": "stderr",
     "output_type": "stream",
     "text": [
      "Propagating horsejump-high: 100%|██████████| 49/49 [00:13<00:00,  3.60it/s]"
     ]
    },
    {
     "name": "stdout",
     "output_type": "stream",
     "text": [
      "Skipping frame 48 - Global MAD: 0.1830, Masked MAD: 0.3984 (threshold: 0.05)\n"
     ]
    },
    {
     "name": "stderr",
     "output_type": "stream",
     "text": [
      "propagate in video: 100%|██████████| 50/50 [00:13<00:00,  3.68it/s]        \n",
      "Propagating horsejump-high: 50it [00:13,  3.68it/s]\n"
     ]
    },
    {
     "name": "stdout",
     "output_type": "stream",
     "text": [
      "Skipping frame 49 - Global MAD: 0.1849, Masked MAD: 0.3975 (threshold: 0.05)\n",
      "Skipped 49 frames due to low MAD.\n",
      "→ Saved all predicted masks for horsejump-high in data/DAVIS2017_mgfs_naive/horsejump-high\n",
      "\n",
      "=== Processing sequence: india ===\n"
     ]
    },
    {
     "name": "stderr",
     "output_type": "stream",
     "text": [
      "frame loading (JPEG): 100%|██████████| 81/81 [00:01<00:00, 50.93it/s]\n"
     ]
    },
    {
     "name": "stdout",
     "output_type": "stream",
     "text": [
      "Found 3 unique non‐black colors in india/00000.png\n"
     ]
    },
    {
     "name": "stderr",
     "output_type": "stream",
     "text": [
      "Propagating india:   2%|▎         | 2/80 [00:00<00:12,  6.50it/s]"
     ]
    },
    {
     "name": "stdout",
     "output_type": "stream",
     "text": [
      "Skipping frame 1 - Global MAD: 0.0339, Masked MAD: 0.0426 (threshold: 0.05)\n"
     ]
    },
    {
     "name": "stderr",
     "output_type": "stream",
     "text": [
      "Propagating india:   4%|▍         | 3/80 [00:00<00:16,  4.76it/s]"
     ]
    },
    {
     "name": "stdout",
     "output_type": "stream",
     "text": [
      "Skipping frame 2 - Global MAD: 0.0466, Masked MAD: 0.0541 (threshold: 0.05)\n"
     ]
    },
    {
     "name": "stderr",
     "output_type": "stream",
     "text": [
      "Propagating india:   5%|▌         | 4/80 [00:00<00:18,  4.19it/s]"
     ]
    },
    {
     "name": "stdout",
     "output_type": "stream",
     "text": [
      "Skipping frame 3 - Global MAD: 0.0518, Masked MAD: 0.0594 (threshold: 0.05)\n"
     ]
    },
    {
     "name": "stderr",
     "output_type": "stream",
     "text": [
      "Propagating india:   6%|▋         | 5/80 [00:01<00:19,  3.92it/s]"
     ]
    },
    {
     "name": "stdout",
     "output_type": "stream",
     "text": [
      "Skipping frame 4 - Global MAD: 0.0574, Masked MAD: 0.0653 (threshold: 0.05)\n"
     ]
    },
    {
     "name": "stderr",
     "output_type": "stream",
     "text": [
      "Propagating india:   8%|▊         | 6/80 [00:01<00:19,  3.78it/s]"
     ]
    },
    {
     "name": "stdout",
     "output_type": "stream",
     "text": [
      "Skipping frame 5 - Global MAD: 0.0643, Masked MAD: 0.0725 (threshold: 0.05)\n"
     ]
    },
    {
     "name": "stderr",
     "output_type": "stream",
     "text": [
      "Propagating india:   9%|▉         | 7/80 [00:01<00:19,  3.69it/s]"
     ]
    },
    {
     "name": "stdout",
     "output_type": "stream",
     "text": [
      "Skipping frame 6 - Global MAD: 0.0702, Masked MAD: 0.0805 (threshold: 0.05)\n"
     ]
    },
    {
     "name": "stderr",
     "output_type": "stream",
     "text": [
      "Propagating india:  10%|█         | 8/80 [00:02<00:19,  3.63it/s]"
     ]
    },
    {
     "name": "stdout",
     "output_type": "stream",
     "text": [
      "Skipping frame 7 - Global MAD: 0.0761, Masked MAD: 0.0881 (threshold: 0.05)\n"
     ]
    },
    {
     "name": "stderr",
     "output_type": "stream",
     "text": [
      "Propagating india:  11%|█▏        | 9/80 [00:02<00:19,  3.59it/s]"
     ]
    },
    {
     "name": "stdout",
     "output_type": "stream",
     "text": [
      "Skipping frame 8 - Global MAD: 0.0807, Masked MAD: 0.0935 (threshold: 0.05)\n"
     ]
    },
    {
     "name": "stderr",
     "output_type": "stream",
     "text": [
      "Propagating india:  12%|█▎        | 10/80 [00:02<00:19,  3.57it/s]"
     ]
    },
    {
     "name": "stdout",
     "output_type": "stream",
     "text": [
      "Skipping frame 9 - Global MAD: 0.0867, Masked MAD: 0.1020 (threshold: 0.05)\n"
     ]
    },
    {
     "name": "stderr",
     "output_type": "stream",
     "text": [
      "Propagating india:  14%|█▍        | 11/80 [00:02<00:19,  3.55it/s]"
     ]
    },
    {
     "name": "stdout",
     "output_type": "stream",
     "text": [
      "Skipping frame 10 - Global MAD: 0.0919, Masked MAD: 0.1084 (threshold: 0.05)\n"
     ]
    },
    {
     "name": "stderr",
     "output_type": "stream",
     "text": [
      "Propagating india:  15%|█▌        | 12/80 [00:03<00:19,  3.54it/s]"
     ]
    },
    {
     "name": "stdout",
     "output_type": "stream",
     "text": [
      "Skipping frame 11 - Global MAD: 0.0984, Masked MAD: 0.1134 (threshold: 0.05)\n"
     ]
    },
    {
     "name": "stderr",
     "output_type": "stream",
     "text": [
      "Propagating india:  16%|█▋        | 13/80 [00:03<00:18,  3.54it/s]"
     ]
    },
    {
     "name": "stdout",
     "output_type": "stream",
     "text": [
      "Skipping frame 12 - Global MAD: 0.1042, Masked MAD: 0.1156 (threshold: 0.05)\n"
     ]
    },
    {
     "name": "stderr",
     "output_type": "stream",
     "text": [
      "Propagating india:  18%|█▊        | 14/80 [00:03<00:18,  3.53it/s]"
     ]
    },
    {
     "name": "stdout",
     "output_type": "stream",
     "text": [
      "Skipping frame 13 - Global MAD: 0.1129, Masked MAD: 0.1204 (threshold: 0.05)\n"
     ]
    },
    {
     "name": "stderr",
     "output_type": "stream",
     "text": [
      "Propagating india:  19%|█▉        | 15/80 [00:04<00:18,  3.53it/s]"
     ]
    },
    {
     "name": "stdout",
     "output_type": "stream",
     "text": [
      "Skipping frame 14 - Global MAD: 0.1230, Masked MAD: 0.1272 (threshold: 0.05)\n"
     ]
    },
    {
     "name": "stderr",
     "output_type": "stream",
     "text": [
      "Propagating india:  20%|██        | 16/80 [00:04<00:18,  3.52it/s]"
     ]
    },
    {
     "name": "stdout",
     "output_type": "stream",
     "text": [
      "Skipping frame 15 - Global MAD: 0.1236, Masked MAD: 0.1279 (threshold: 0.05)\n"
     ]
    },
    {
     "name": "stderr",
     "output_type": "stream",
     "text": [
      "Propagating india:  21%|██▏       | 17/80 [00:04<00:17,  3.52it/s]"
     ]
    },
    {
     "name": "stdout",
     "output_type": "stream",
     "text": [
      "Skipping frame 16 - Global MAD: 0.1258, Masked MAD: 0.1284 (threshold: 0.05)\n"
     ]
    },
    {
     "name": "stderr",
     "output_type": "stream",
     "text": [
      "Propagating india:  22%|██▎       | 18/80 [00:04<00:17,  3.52it/s]"
     ]
    },
    {
     "name": "stdout",
     "output_type": "stream",
     "text": [
      "Skipping frame 17 - Global MAD: 0.1278, Masked MAD: 0.1284 (threshold: 0.05)\n"
     ]
    },
    {
     "name": "stderr",
     "output_type": "stream",
     "text": [
      "Propagating india:  24%|██▍       | 19/80 [00:05<00:17,  3.53it/s]"
     ]
    },
    {
     "name": "stdout",
     "output_type": "stream",
     "text": [
      "Skipping frame 18 - Global MAD: 0.1276, Masked MAD: 0.1321 (threshold: 0.05)\n"
     ]
    },
    {
     "name": "stderr",
     "output_type": "stream",
     "text": [
      "Propagating india:  25%|██▌       | 20/80 [00:05<00:16,  3.53it/s]"
     ]
    },
    {
     "name": "stdout",
     "output_type": "stream",
     "text": [
      "Skipping frame 19 - Global MAD: 0.1297, Masked MAD: 0.1359 (threshold: 0.05)\n"
     ]
    },
    {
     "name": "stderr",
     "output_type": "stream",
     "text": [
      "Propagating india:  26%|██▋       | 21/80 [00:05<00:16,  3.53it/s]"
     ]
    },
    {
     "name": "stdout",
     "output_type": "stream",
     "text": [
      "Skipping frame 20 - Global MAD: 0.1357, Masked MAD: 0.1391 (threshold: 0.05)\n"
     ]
    },
    {
     "name": "stderr",
     "output_type": "stream",
     "text": [
      "Propagating india:  28%|██▊       | 22/80 [00:05<00:16,  3.52it/s]"
     ]
    },
    {
     "name": "stdout",
     "output_type": "stream",
     "text": [
      "Skipping frame 21 - Global MAD: 0.1411, Masked MAD: 0.1424 (threshold: 0.05)\n"
     ]
    },
    {
     "name": "stderr",
     "output_type": "stream",
     "text": [
      "Propagating india:  29%|██▉       | 23/80 [00:06<00:16,  3.51it/s]"
     ]
    },
    {
     "name": "stdout",
     "output_type": "stream",
     "text": [
      "Skipping frame 22 - Global MAD: 0.1455, Masked MAD: 0.1445 (threshold: 0.05)\n"
     ]
    },
    {
     "name": "stderr",
     "output_type": "stream",
     "text": [
      "Propagating india:  30%|███       | 24/80 [00:06<00:16,  3.47it/s]"
     ]
    },
    {
     "name": "stdout",
     "output_type": "stream",
     "text": [
      "Skipping frame 23 - Global MAD: 0.1544, Masked MAD: 0.1484 (threshold: 0.05)\n"
     ]
    },
    {
     "name": "stderr",
     "output_type": "stream",
     "text": [
      "Propagating india:  31%|███▏      | 25/80 [00:06<00:15,  3.45it/s]"
     ]
    },
    {
     "name": "stdout",
     "output_type": "stream",
     "text": [
      "Skipping frame 24 - Global MAD: 0.1649, Masked MAD: 0.1456 (threshold: 0.05)\n"
     ]
    },
    {
     "name": "stderr",
     "output_type": "stream",
     "text": [
      "Propagating india:  32%|███▎      | 26/80 [00:07<00:15,  3.47it/s]"
     ]
    },
    {
     "name": "stdout",
     "output_type": "stream",
     "text": [
      "Skipping frame 25 - Global MAD: 0.1729, Masked MAD: 0.1423 (threshold: 0.05)\n"
     ]
    },
    {
     "name": "stderr",
     "output_type": "stream",
     "text": [
      "Propagating india:  34%|███▍      | 27/80 [00:07<00:15,  3.48it/s]"
     ]
    },
    {
     "name": "stdout",
     "output_type": "stream",
     "text": [
      "Skipping frame 26 - Global MAD: 0.1811, Masked MAD: 0.1418 (threshold: 0.05)\n"
     ]
    },
    {
     "name": "stderr",
     "output_type": "stream",
     "text": [
      "Propagating india:  35%|███▌      | 28/80 [00:07<00:14,  3.48it/s]"
     ]
    },
    {
     "name": "stdout",
     "output_type": "stream",
     "text": [
      "Skipping frame 27 - Global MAD: 0.1897, Masked MAD: 0.1393 (threshold: 0.05)\n"
     ]
    },
    {
     "name": "stderr",
     "output_type": "stream",
     "text": [
      "Propagating india:  36%|███▋      | 29/80 [00:08<00:14,  3.49it/s]"
     ]
    },
    {
     "name": "stdout",
     "output_type": "stream",
     "text": [
      "Skipping frame 28 - Global MAD: 0.2017, Masked MAD: 0.1535 (threshold: 0.05)\n"
     ]
    },
    {
     "name": "stderr",
     "output_type": "stream",
     "text": [
      "Propagating india:  38%|███▊      | 30/80 [00:08<00:14,  3.49it/s]"
     ]
    },
    {
     "name": "stdout",
     "output_type": "stream",
     "text": [
      "Skipping frame 29 - Global MAD: 0.2005, Masked MAD: 0.1521 (threshold: 0.05)\n"
     ]
    },
    {
     "name": "stderr",
     "output_type": "stream",
     "text": [
      "Propagating india:  39%|███▉      | 31/80 [00:08<00:14,  3.49it/s]"
     ]
    },
    {
     "name": "stdout",
     "output_type": "stream",
     "text": [
      "Skipping frame 30 - Global MAD: 0.1971, Masked MAD: 0.1538 (threshold: 0.05)\n",
      "Avg FPS last 30 frames: 3.50\n"
     ]
    },
    {
     "name": "stderr",
     "output_type": "stream",
     "text": [
      "Propagating india:  40%|████      | 32/80 [00:08<00:13,  3.49it/s]"
     ]
    },
    {
     "name": "stdout",
     "output_type": "stream",
     "text": [
      "Skipping frame 31 - Global MAD: 0.1929, Masked MAD: 0.1484 (threshold: 0.05)\n"
     ]
    },
    {
     "name": "stderr",
     "output_type": "stream",
     "text": [
      "Propagating india:  41%|████▏     | 33/80 [00:09<00:13,  3.49it/s]"
     ]
    },
    {
     "name": "stdout",
     "output_type": "stream",
     "text": [
      "Skipping frame 32 - Global MAD: 0.1891, Masked MAD: 0.1472 (threshold: 0.05)\n"
     ]
    },
    {
     "name": "stderr",
     "output_type": "stream",
     "text": [
      "Propagating india:  42%|████▎     | 34/80 [00:09<00:13,  3.50it/s]"
     ]
    },
    {
     "name": "stdout",
     "output_type": "stream",
     "text": [
      "Skipping frame 33 - Global MAD: 0.1878, Masked MAD: 0.1499 (threshold: 0.05)\n"
     ]
    },
    {
     "name": "stderr",
     "output_type": "stream",
     "text": [
      "Propagating india:  44%|████▍     | 35/80 [00:09<00:12,  3.50it/s]"
     ]
    },
    {
     "name": "stdout",
     "output_type": "stream",
     "text": [
      "Skipping frame 34 - Global MAD: 0.1928, Masked MAD: 0.1427 (threshold: 0.05)\n"
     ]
    },
    {
     "name": "stderr",
     "output_type": "stream",
     "text": [
      "Propagating india:  45%|████▌     | 36/80 [00:10<00:12,  3.49it/s]"
     ]
    },
    {
     "name": "stdout",
     "output_type": "stream",
     "text": [
      "Skipping frame 35 - Global MAD: 0.1958, Masked MAD: 0.1351 (threshold: 0.05)\n"
     ]
    },
    {
     "name": "stderr",
     "output_type": "stream",
     "text": [
      "Propagating india:  46%|████▋     | 37/80 [00:10<00:12,  3.49it/s]"
     ]
    },
    {
     "name": "stdout",
     "output_type": "stream",
     "text": [
      "Skipping frame 36 - Global MAD: 0.1924, Masked MAD: 0.1366 (threshold: 0.05)\n"
     ]
    },
    {
     "name": "stderr",
     "output_type": "stream",
     "text": [
      "Propagating india:  48%|████▊     | 38/80 [00:10<00:12,  3.49it/s]"
     ]
    },
    {
     "name": "stdout",
     "output_type": "stream",
     "text": [
      "Skipping frame 37 - Global MAD: 0.1864, Masked MAD: 0.1355 (threshold: 0.05)\n"
     ]
    },
    {
     "name": "stderr",
     "output_type": "stream",
     "text": [
      "Propagating india:  49%|████▉     | 39/80 [00:10<00:11,  3.49it/s]"
     ]
    },
    {
     "name": "stdout",
     "output_type": "stream",
     "text": [
      "Skipping frame 38 - Global MAD: 0.1832, Masked MAD: 0.1393 (threshold: 0.05)\n"
     ]
    },
    {
     "name": "stderr",
     "output_type": "stream",
     "text": [
      "Propagating india:  50%|█████     | 40/80 [00:11<00:11,  3.49it/s]"
     ]
    },
    {
     "name": "stdout",
     "output_type": "stream",
     "text": [
      "Skipping frame 39 - Global MAD: 0.1763, Masked MAD: 0.1461 (threshold: 0.05)\n"
     ]
    },
    {
     "name": "stderr",
     "output_type": "stream",
     "text": [
      "Propagating india:  51%|█████▏    | 41/80 [00:11<00:11,  3.50it/s]"
     ]
    },
    {
     "name": "stdout",
     "output_type": "stream",
     "text": [
      "Skipping frame 40 - Global MAD: 0.1712, Masked MAD: 0.1572 (threshold: 0.05)\n"
     ]
    },
    {
     "name": "stderr",
     "output_type": "stream",
     "text": [
      "Propagating india:  52%|█████▎    | 42/80 [00:11<00:10,  3.50it/s]"
     ]
    },
    {
     "name": "stdout",
     "output_type": "stream",
     "text": [
      "Skipping frame 41 - Global MAD: 0.1714, Masked MAD: 0.1672 (threshold: 0.05)\n"
     ]
    },
    {
     "name": "stderr",
     "output_type": "stream",
     "text": [
      "Propagating india:  54%|█████▍    | 43/80 [00:12<00:10,  3.50it/s]"
     ]
    },
    {
     "name": "stdout",
     "output_type": "stream",
     "text": [
      "Skipping frame 42 - Global MAD: 0.1778, Masked MAD: 0.1864 (threshold: 0.05)\n"
     ]
    },
    {
     "name": "stderr",
     "output_type": "stream",
     "text": [
      "Propagating india:  55%|█████▌    | 44/80 [00:12<00:10,  3.50it/s]"
     ]
    },
    {
     "name": "stdout",
     "output_type": "stream",
     "text": [
      "Skipping frame 43 - Global MAD: 0.1864, Masked MAD: 0.2034 (threshold: 0.05)\n"
     ]
    },
    {
     "name": "stderr",
     "output_type": "stream",
     "text": [
      "Propagating india:  56%|█████▋    | 45/80 [00:12<00:09,  3.50it/s]"
     ]
    },
    {
     "name": "stdout",
     "output_type": "stream",
     "text": [
      "Skipping frame 44 - Global MAD: 0.1895, Masked MAD: 0.2148 (threshold: 0.05)\n"
     ]
    },
    {
     "name": "stderr",
     "output_type": "stream",
     "text": [
      "Propagating india:  57%|█████▊    | 46/80 [00:12<00:09,  3.50it/s]"
     ]
    },
    {
     "name": "stdout",
     "output_type": "stream",
     "text": [
      "Skipping frame 45 - Global MAD: 0.1919, Masked MAD: 0.2247 (threshold: 0.05)\n"
     ]
    },
    {
     "name": "stderr",
     "output_type": "stream",
     "text": [
      "Propagating india:  59%|█████▉    | 47/80 [00:13<00:09,  3.50it/s]"
     ]
    },
    {
     "name": "stdout",
     "output_type": "stream",
     "text": [
      "Skipping frame 46 - Global MAD: 0.2023, Masked MAD: 0.2442 (threshold: 0.05)\n"
     ]
    },
    {
     "name": "stderr",
     "output_type": "stream",
     "text": [
      "Propagating india:  60%|██████    | 48/80 [00:13<00:09,  3.51it/s]"
     ]
    },
    {
     "name": "stdout",
     "output_type": "stream",
     "text": [
      "Skipping frame 47 - Global MAD: 0.2118, Masked MAD: 0.2619 (threshold: 0.05)\n"
     ]
    },
    {
     "name": "stderr",
     "output_type": "stream",
     "text": [
      "Propagating india:  61%|██████▏   | 49/80 [00:13<00:08,  3.50it/s]"
     ]
    },
    {
     "name": "stdout",
     "output_type": "stream",
     "text": [
      "Skipping frame 48 - Global MAD: 0.2191, Masked MAD: 0.2790 (threshold: 0.05)\n"
     ]
    },
    {
     "name": "stderr",
     "output_type": "stream",
     "text": [
      "Propagating india:  62%|██████▎   | 50/80 [00:14<00:08,  3.51it/s]"
     ]
    },
    {
     "name": "stdout",
     "output_type": "stream",
     "text": [
      "Skipping frame 49 - Global MAD: 0.2222, Masked MAD: 0.2976 (threshold: 0.05)\n"
     ]
    },
    {
     "name": "stderr",
     "output_type": "stream",
     "text": [
      "Propagating india:  64%|██████▍   | 51/80 [00:14<00:08,  3.51it/s]"
     ]
    },
    {
     "name": "stdout",
     "output_type": "stream",
     "text": [
      "Skipping frame 50 - Global MAD: 0.2243, Masked MAD: 0.3110 (threshold: 0.05)\n"
     ]
    },
    {
     "name": "stderr",
     "output_type": "stream",
     "text": [
      "Propagating india:  65%|██████▌   | 52/80 [00:14<00:07,  3.52it/s]"
     ]
    },
    {
     "name": "stdout",
     "output_type": "stream",
     "text": [
      "Skipping frame 51 - Global MAD: 0.2248, Masked MAD: 0.3225 (threshold: 0.05)\n"
     ]
    },
    {
     "name": "stderr",
     "output_type": "stream",
     "text": [
      "Propagating india:  66%|██████▋   | 53/80 [00:14<00:07,  3.52it/s]"
     ]
    },
    {
     "name": "stdout",
     "output_type": "stream",
     "text": [
      "Skipping frame 52 - Global MAD: 0.2201, Masked MAD: 0.3309 (threshold: 0.05)\n"
     ]
    },
    {
     "name": "stderr",
     "output_type": "stream",
     "text": [
      "Propagating india:  68%|██████▊   | 54/80 [00:15<00:07,  3.52it/s]"
     ]
    },
    {
     "name": "stdout",
     "output_type": "stream",
     "text": [
      "Skipping frame 53 - Global MAD: 0.2160, Masked MAD: 0.3329 (threshold: 0.05)\n"
     ]
    },
    {
     "name": "stderr",
     "output_type": "stream",
     "text": [
      "Propagating india:  69%|██████▉   | 55/80 [00:15<00:07,  3.52it/s]"
     ]
    },
    {
     "name": "stdout",
     "output_type": "stream",
     "text": [
      "Skipping frame 54 - Global MAD: 0.2135, Masked MAD: 0.3334 (threshold: 0.05)\n"
     ]
    },
    {
     "name": "stderr",
     "output_type": "stream",
     "text": [
      "Propagating india:  70%|███████   | 56/80 [00:15<00:06,  3.52it/s]"
     ]
    },
    {
     "name": "stdout",
     "output_type": "stream",
     "text": [
      "Skipping frame 55 - Global MAD: 0.2115, Masked MAD: 0.3325 (threshold: 0.05)\n"
     ]
    },
    {
     "name": "stderr",
     "output_type": "stream",
     "text": [
      "Propagating india:  71%|███████▏  | 57/80 [00:16<00:06,  3.52it/s]"
     ]
    },
    {
     "name": "stdout",
     "output_type": "stream",
     "text": [
      "Skipping frame 56 - Global MAD: 0.2082, Masked MAD: 0.3278 (threshold: 0.05)\n"
     ]
    },
    {
     "name": "stderr",
     "output_type": "stream",
     "text": [
      "Propagating india:  72%|███████▎  | 58/80 [00:16<00:06,  3.52it/s]"
     ]
    },
    {
     "name": "stdout",
     "output_type": "stream",
     "text": [
      "Skipping frame 57 - Global MAD: 0.2051, Masked MAD: 0.3154 (threshold: 0.05)\n"
     ]
    },
    {
     "name": "stderr",
     "output_type": "stream",
     "text": [
      "Propagating india:  74%|███████▍  | 59/80 [00:16<00:05,  3.52it/s]"
     ]
    },
    {
     "name": "stdout",
     "output_type": "stream",
     "text": [
      "Skipping frame 58 - Global MAD: 0.2016, Masked MAD: 0.3012 (threshold: 0.05)\n"
     ]
    },
    {
     "name": "stderr",
     "output_type": "stream",
     "text": [
      "Propagating india:  75%|███████▌  | 60/80 [00:16<00:05,  3.51it/s]"
     ]
    },
    {
     "name": "stdout",
     "output_type": "stream",
     "text": [
      "Skipping frame 59 - Global MAD: 0.2006, Masked MAD: 0.2894 (threshold: 0.05)\n"
     ]
    },
    {
     "name": "stderr",
     "output_type": "stream",
     "text": [
      "Propagating india:  76%|███████▋  | 61/80 [00:17<00:05,  3.51it/s]"
     ]
    },
    {
     "name": "stdout",
     "output_type": "stream",
     "text": [
      "Skipping frame 60 - Global MAD: 0.1997, Masked MAD: 0.2774 (threshold: 0.05)\n",
      "Avg FPS last 30 frames: 3.51\n"
     ]
    },
    {
     "name": "stderr",
     "output_type": "stream",
     "text": [
      "Propagating india:  78%|███████▊  | 62/80 [00:17<00:05,  3.52it/s]"
     ]
    },
    {
     "name": "stdout",
     "output_type": "stream",
     "text": [
      "Skipping frame 61 - Global MAD: 0.1995, Masked MAD: 0.2654 (threshold: 0.05)\n"
     ]
    },
    {
     "name": "stderr",
     "output_type": "stream",
     "text": [
      "Propagating india:  79%|███████▉  | 63/80 [00:17<00:04,  3.51it/s]"
     ]
    },
    {
     "name": "stdout",
     "output_type": "stream",
     "text": [
      "Skipping frame 62 - Global MAD: 0.1986, Masked MAD: 0.2544 (threshold: 0.05)\n"
     ]
    },
    {
     "name": "stderr",
     "output_type": "stream",
     "text": [
      "Propagating india:  80%|████████  | 64/80 [00:18<00:04,  3.51it/s]"
     ]
    },
    {
     "name": "stdout",
     "output_type": "stream",
     "text": [
      "Skipping frame 63 - Global MAD: 0.1990, Masked MAD: 0.2483 (threshold: 0.05)\n"
     ]
    },
    {
     "name": "stderr",
     "output_type": "stream",
     "text": [
      "Propagating india:  81%|████████▏ | 65/80 [00:18<00:04,  3.52it/s]"
     ]
    },
    {
     "name": "stdout",
     "output_type": "stream",
     "text": [
      "Skipping frame 64 - Global MAD: 0.1991, Masked MAD: 0.2408 (threshold: 0.05)\n"
     ]
    },
    {
     "name": "stderr",
     "output_type": "stream",
     "text": [
      "Propagating india:  82%|████████▎ | 66/80 [00:18<00:03,  3.52it/s]"
     ]
    },
    {
     "name": "stdout",
     "output_type": "stream",
     "text": [
      "Skipping frame 65 - Global MAD: 0.1986, Masked MAD: 0.2285 (threshold: 0.05)\n"
     ]
    },
    {
     "name": "stderr",
     "output_type": "stream",
     "text": [
      "Propagating india:  84%|████████▍ | 67/80 [00:18<00:03,  3.51it/s]"
     ]
    },
    {
     "name": "stdout",
     "output_type": "stream",
     "text": [
      "Skipping frame 66 - Global MAD: 0.1972, Masked MAD: 0.2222 (threshold: 0.05)\n"
     ]
    },
    {
     "name": "stderr",
     "output_type": "stream",
     "text": [
      "Propagating india:  85%|████████▌ | 68/80 [00:19<00:03,  3.52it/s]"
     ]
    },
    {
     "name": "stdout",
     "output_type": "stream",
     "text": [
      "Skipping frame 67 - Global MAD: 0.1966, Masked MAD: 0.2136 (threshold: 0.05)\n"
     ]
    },
    {
     "name": "stderr",
     "output_type": "stream",
     "text": [
      "Propagating india:  86%|████████▋ | 69/80 [00:19<00:03,  3.52it/s]"
     ]
    },
    {
     "name": "stdout",
     "output_type": "stream",
     "text": [
      "Skipping frame 68 - Global MAD: 0.1967, Masked MAD: 0.2103 (threshold: 0.05)\n"
     ]
    },
    {
     "name": "stderr",
     "output_type": "stream",
     "text": [
      "Propagating india:  88%|████████▊ | 70/80 [00:19<00:02,  3.52it/s]"
     ]
    },
    {
     "name": "stdout",
     "output_type": "stream",
     "text": [
      "Skipping frame 69 - Global MAD: 0.1974, Masked MAD: 0.2058 (threshold: 0.05)\n"
     ]
    },
    {
     "name": "stderr",
     "output_type": "stream",
     "text": [
      "Propagating india:  89%|████████▉ | 71/80 [00:19<00:02,  3.52it/s]"
     ]
    },
    {
     "name": "stdout",
     "output_type": "stream",
     "text": [
      "Skipping frame 70 - Global MAD: 0.1983, Masked MAD: 0.2056 (threshold: 0.05)\n"
     ]
    },
    {
     "name": "stderr",
     "output_type": "stream",
     "text": [
      "Propagating india:  90%|█████████ | 72/80 [00:20<00:02,  3.52it/s]"
     ]
    },
    {
     "name": "stdout",
     "output_type": "stream",
     "text": [
      "Skipping frame 71 - Global MAD: 0.1991, Masked MAD: 0.2048 (threshold: 0.05)\n"
     ]
    },
    {
     "name": "stderr",
     "output_type": "stream",
     "text": [
      "Propagating india:  91%|█████████▏| 73/80 [00:20<00:01,  3.52it/s]"
     ]
    },
    {
     "name": "stdout",
     "output_type": "stream",
     "text": [
      "Skipping frame 72 - Global MAD: 0.1995, Masked MAD: 0.2067 (threshold: 0.05)\n"
     ]
    },
    {
     "name": "stderr",
     "output_type": "stream",
     "text": [
      "Propagating india:  92%|█████████▎| 74/80 [00:20<00:01,  3.52it/s]"
     ]
    },
    {
     "name": "stdout",
     "output_type": "stream",
     "text": [
      "Skipping frame 73 - Global MAD: 0.1997, Masked MAD: 0.2056 (threshold: 0.05)\n"
     ]
    },
    {
     "name": "stderr",
     "output_type": "stream",
     "text": [
      "Propagating india:  94%|█████████▍| 75/80 [00:21<00:01,  3.52it/s]"
     ]
    },
    {
     "name": "stdout",
     "output_type": "stream",
     "text": [
      "Skipping frame 74 - Global MAD: 0.1998, Masked MAD: 0.2057 (threshold: 0.05)\n"
     ]
    },
    {
     "name": "stderr",
     "output_type": "stream",
     "text": [
      "Propagating india:  95%|█████████▌| 76/80 [00:21<00:01,  3.51it/s]"
     ]
    },
    {
     "name": "stdout",
     "output_type": "stream",
     "text": [
      "Skipping frame 75 - Global MAD: 0.2001, Masked MAD: 0.2042 (threshold: 0.05)\n"
     ]
    },
    {
     "name": "stderr",
     "output_type": "stream",
     "text": [
      "Propagating india:  96%|█████████▋| 77/80 [00:21<00:00,  3.52it/s]"
     ]
    },
    {
     "name": "stdout",
     "output_type": "stream",
     "text": [
      "Skipping frame 76 - Global MAD: 0.2015, Masked MAD: 0.2048 (threshold: 0.05)\n"
     ]
    },
    {
     "name": "stderr",
     "output_type": "stream",
     "text": [
      "Propagating india:  98%|█████████▊| 78/80 [00:21<00:00,  3.51it/s]"
     ]
    },
    {
     "name": "stdout",
     "output_type": "stream",
     "text": [
      "Skipping frame 77 - Global MAD: 0.2031, Masked MAD: 0.2059 (threshold: 0.05)\n"
     ]
    },
    {
     "name": "stderr",
     "output_type": "stream",
     "text": [
      "Propagating india:  99%|█████████▉| 79/80 [00:22<00:00,  3.52it/s]"
     ]
    },
    {
     "name": "stdout",
     "output_type": "stream",
     "text": [
      "Skipping frame 78 - Global MAD: 0.2032, Masked MAD: 0.2077 (threshold: 0.05)\n"
     ]
    },
    {
     "name": "stderr",
     "output_type": "stream",
     "text": [
      "Propagating india: 100%|██████████| 80/80 [00:22<00:00,  3.51it/s]"
     ]
    },
    {
     "name": "stdout",
     "output_type": "stream",
     "text": [
      "Skipping frame 79 - Global MAD: 0.2033, Masked MAD: 0.2072 (threshold: 0.05)\n"
     ]
    },
    {
     "name": "stderr",
     "output_type": "stream",
     "text": [
      "propagate in video: 100%|██████████| 81/81 [00:22<00:00,  3.55it/s]\n",
      "Propagating india: 81it [00:22,  3.55it/s]\n"
     ]
    },
    {
     "name": "stdout",
     "output_type": "stream",
     "text": [
      "Skipping frame 80 - Global MAD: 0.2041, Masked MAD: 0.2032 (threshold: 0.05)\n",
      "Skipped 80 frames due to low MAD.\n",
      "→ Saved all predicted masks for india in data/DAVIS2017_mgfs_naive/india\n",
      "\n",
      "=== Processing sequence: judo ===\n"
     ]
    },
    {
     "name": "stderr",
     "output_type": "stream",
     "text": [
      "frame loading (JPEG): 100%|██████████| 34/34 [00:00<00:00, 51.55it/s]\n"
     ]
    },
    {
     "name": "stdout",
     "output_type": "stream",
     "text": [
      "Found 2 unique non‐black colors in judo/00000.png\n"
     ]
    },
    {
     "name": "stderr",
     "output_type": "stream",
     "text": [
      "Propagating judo:   6%|▌         | 2/33 [00:00<00:04,  6.79it/s]"
     ]
    },
    {
     "name": "stdout",
     "output_type": "stream",
     "text": [
      "Skipping frame 1 - Global MAD: 0.0065, Masked MAD: 0.0249 (threshold: 0.05)\n"
     ]
    },
    {
     "name": "stderr",
     "output_type": "stream",
     "text": [
      "Propagating judo:   9%|▉         | 3/33 [00:00<00:06,  4.98it/s]"
     ]
    },
    {
     "name": "stdout",
     "output_type": "stream",
     "text": [
      "Skipping frame 2 - Global MAD: 0.0093, Masked MAD: 0.0432 (threshold: 0.05)\n"
     ]
    },
    {
     "name": "stderr",
     "output_type": "stream",
     "text": [
      "Propagating judo:  12%|█▏        | 4/33 [00:00<00:06,  4.36it/s]"
     ]
    },
    {
     "name": "stdout",
     "output_type": "stream",
     "text": [
      "Skipping frame 3 - Global MAD: 0.0131, Masked MAD: 0.0598 (threshold: 0.05)\n"
     ]
    },
    {
     "name": "stderr",
     "output_type": "stream",
     "text": [
      "Propagating judo:  15%|█▌        | 5/33 [00:01<00:06,  4.06it/s]"
     ]
    },
    {
     "name": "stdout",
     "output_type": "stream",
     "text": [
      "Skipping frame 4 - Global MAD: 0.0149, Masked MAD: 0.0735 (threshold: 0.05)\n"
     ]
    },
    {
     "name": "stderr",
     "output_type": "stream",
     "text": [
      "Propagating judo:  18%|█▊        | 6/33 [00:01<00:06,  3.90it/s]"
     ]
    },
    {
     "name": "stdout",
     "output_type": "stream",
     "text": [
      "Skipping frame 5 - Global MAD: 0.0167, Masked MAD: 0.0867 (threshold: 0.05)\n"
     ]
    },
    {
     "name": "stderr",
     "output_type": "stream",
     "text": [
      "Propagating judo:  21%|██        | 7/33 [00:01<00:06,  3.80it/s]"
     ]
    },
    {
     "name": "stdout",
     "output_type": "stream",
     "text": [
      "Skipping frame 6 - Global MAD: 0.0182, Masked MAD: 0.0972 (threshold: 0.05)\n"
     ]
    },
    {
     "name": "stderr",
     "output_type": "stream",
     "text": [
      "Propagating judo:  24%|██▍       | 8/33 [00:01<00:06,  3.74it/s]"
     ]
    },
    {
     "name": "stdout",
     "output_type": "stream",
     "text": [
      "Skipping frame 7 - Global MAD: 0.0198, Masked MAD: 0.1066 (threshold: 0.05)\n"
     ]
    },
    {
     "name": "stderr",
     "output_type": "stream",
     "text": [
      "Propagating judo:  27%|██▋       | 9/33 [00:02<00:06,  3.70it/s]"
     ]
    },
    {
     "name": "stdout",
     "output_type": "stream",
     "text": [
      "Skipping frame 8 - Global MAD: 0.0212, Masked MAD: 0.1151 (threshold: 0.05)\n"
     ]
    },
    {
     "name": "stderr",
     "output_type": "stream",
     "text": [
      "Propagating judo:  30%|███       | 10/33 [00:02<00:06,  3.67it/s]"
     ]
    },
    {
     "name": "stdout",
     "output_type": "stream",
     "text": [
      "Skipping frame 9 - Global MAD: 0.0229, Masked MAD: 0.1225 (threshold: 0.05)\n"
     ]
    },
    {
     "name": "stderr",
     "output_type": "stream",
     "text": [
      "Propagating judo:  33%|███▎      | 11/33 [00:02<00:06,  3.64it/s]"
     ]
    },
    {
     "name": "stdout",
     "output_type": "stream",
     "text": [
      "Skipping frame 10 - Global MAD: 0.0243, Masked MAD: 0.1290 (threshold: 0.05)\n"
     ]
    },
    {
     "name": "stderr",
     "output_type": "stream",
     "text": [
      "Propagating judo:  36%|███▋      | 12/33 [00:03<00:05,  3.65it/s]"
     ]
    },
    {
     "name": "stdout",
     "output_type": "stream",
     "text": [
      "Skipping frame 11 - Global MAD: 0.0260, Masked MAD: 0.1362 (threshold: 0.05)\n"
     ]
    },
    {
     "name": "stderr",
     "output_type": "stream",
     "text": [
      "Propagating judo:  39%|███▉      | 13/33 [00:03<00:05,  3.64it/s]"
     ]
    },
    {
     "name": "stdout",
     "output_type": "stream",
     "text": [
      "Skipping frame 12 - Global MAD: 0.0272, Masked MAD: 0.1419 (threshold: 0.05)\n"
     ]
    },
    {
     "name": "stderr",
     "output_type": "stream",
     "text": [
      "Propagating judo:  42%|████▏     | 14/33 [00:03<00:05,  3.63it/s]"
     ]
    },
    {
     "name": "stdout",
     "output_type": "stream",
     "text": [
      "Skipping frame 13 - Global MAD: 0.0290, Masked MAD: 0.1506 (threshold: 0.05)\n"
     ]
    },
    {
     "name": "stderr",
     "output_type": "stream",
     "text": [
      "Propagating judo:  45%|████▌     | 15/33 [00:03<00:04,  3.63it/s]"
     ]
    },
    {
     "name": "stdout",
     "output_type": "stream",
     "text": [
      "Skipping frame 14 - Global MAD: 0.0306, Masked MAD: 0.1582 (threshold: 0.05)\n"
     ]
    },
    {
     "name": "stderr",
     "output_type": "stream",
     "text": [
      "Propagating judo:  48%|████▊     | 16/33 [00:04<00:04,  3.63it/s]"
     ]
    },
    {
     "name": "stdout",
     "output_type": "stream",
     "text": [
      "Skipping frame 15 - Global MAD: 0.0316, Masked MAD: 0.1615 (threshold: 0.05)\n"
     ]
    },
    {
     "name": "stderr",
     "output_type": "stream",
     "text": [
      "Propagating judo:  52%|█████▏    | 17/33 [00:04<00:04,  3.63it/s]"
     ]
    },
    {
     "name": "stdout",
     "output_type": "stream",
     "text": [
      "Skipping frame 16 - Global MAD: 0.0320, Masked MAD: 0.1601 (threshold: 0.05)\n"
     ]
    },
    {
     "name": "stderr",
     "output_type": "stream",
     "text": [
      "Propagating judo:  55%|█████▍    | 18/33 [00:04<00:04,  3.62it/s]"
     ]
    },
    {
     "name": "stdout",
     "output_type": "stream",
     "text": [
      "Skipping frame 17 - Global MAD: 0.0332, Masked MAD: 0.1622 (threshold: 0.05)\n"
     ]
    },
    {
     "name": "stderr",
     "output_type": "stream",
     "text": [
      "Propagating judo:  58%|█████▊    | 19/33 [00:04<00:03,  3.62it/s]"
     ]
    },
    {
     "name": "stdout",
     "output_type": "stream",
     "text": [
      "Skipping frame 18 - Global MAD: 0.0349, Masked MAD: 0.1654 (threshold: 0.05)\n"
     ]
    },
    {
     "name": "stderr",
     "output_type": "stream",
     "text": [
      "Propagating judo:  61%|██████    | 20/33 [00:05<00:03,  3.63it/s]"
     ]
    },
    {
     "name": "stdout",
     "output_type": "stream",
     "text": [
      "Skipping frame 19 - Global MAD: 0.0368, Masked MAD: 0.1669 (threshold: 0.05)\n"
     ]
    },
    {
     "name": "stderr",
     "output_type": "stream",
     "text": [
      "Propagating judo:  64%|██████▎   | 21/33 [00:05<00:03,  3.63it/s]"
     ]
    },
    {
     "name": "stdout",
     "output_type": "stream",
     "text": [
      "Skipping frame 20 - Global MAD: 0.0378, Masked MAD: 0.1666 (threshold: 0.05)\n"
     ]
    },
    {
     "name": "stderr",
     "output_type": "stream",
     "text": [
      "Propagating judo:  67%|██████▋   | 22/33 [00:05<00:03,  3.63it/s]"
     ]
    },
    {
     "name": "stdout",
     "output_type": "stream",
     "text": [
      "Skipping frame 21 - Global MAD: 0.0379, Masked MAD: 0.1650 (threshold: 0.05)\n"
     ]
    },
    {
     "name": "stderr",
     "output_type": "stream",
     "text": [
      "Propagating judo:  70%|██████▉   | 23/33 [00:06<00:02,  3.64it/s]"
     ]
    },
    {
     "name": "stdout",
     "output_type": "stream",
     "text": [
      "Skipping frame 22 - Global MAD: 0.0390, Masked MAD: 0.1613 (threshold: 0.05)\n"
     ]
    },
    {
     "name": "stderr",
     "output_type": "stream",
     "text": [
      "Propagating judo:  73%|███████▎  | 24/33 [00:06<00:02,  3.62it/s]"
     ]
    },
    {
     "name": "stdout",
     "output_type": "stream",
     "text": [
      "Skipping frame 23 - Global MAD: 0.0405, Masked MAD: 0.1593 (threshold: 0.05)\n"
     ]
    },
    {
     "name": "stderr",
     "output_type": "stream",
     "text": [
      "Propagating judo:  76%|███████▌  | 25/33 [00:06<00:02,  3.61it/s]"
     ]
    },
    {
     "name": "stdout",
     "output_type": "stream",
     "text": [
      "Skipping frame 24 - Global MAD: 0.0421, Masked MAD: 0.1615 (threshold: 0.05)\n"
     ]
    },
    {
     "name": "stderr",
     "output_type": "stream",
     "text": [
      "Propagating judo:  79%|███████▉  | 26/33 [00:06<00:01,  3.61it/s]"
     ]
    },
    {
     "name": "stdout",
     "output_type": "stream",
     "text": [
      "Skipping frame 25 - Global MAD: 0.0413, Masked MAD: 0.1616 (threshold: 0.05)\n"
     ]
    },
    {
     "name": "stderr",
     "output_type": "stream",
     "text": [
      "Propagating judo:  82%|████████▏ | 27/33 [00:07<00:01,  3.61it/s]"
     ]
    },
    {
     "name": "stdout",
     "output_type": "stream",
     "text": [
      "Skipping frame 26 - Global MAD: 0.0405, Masked MAD: 0.1572 (threshold: 0.05)\n"
     ]
    },
    {
     "name": "stderr",
     "output_type": "stream",
     "text": [
      "Propagating judo:  85%|████████▍ | 28/33 [00:07<00:01,  3.60it/s]"
     ]
    },
    {
     "name": "stdout",
     "output_type": "stream",
     "text": [
      "Skipping frame 27 - Global MAD: 0.0401, Masked MAD: 0.1545 (threshold: 0.05)\n"
     ]
    },
    {
     "name": "stderr",
     "output_type": "stream",
     "text": [
      "Propagating judo:  88%|████████▊ | 29/33 [00:07<00:01,  3.61it/s]"
     ]
    },
    {
     "name": "stdout",
     "output_type": "stream",
     "text": [
      "Skipping frame 28 - Global MAD: 0.0420, Masked MAD: 0.1496 (threshold: 0.05)\n"
     ]
    },
    {
     "name": "stderr",
     "output_type": "stream",
     "text": [
      "Propagating judo:  91%|█████████ | 30/33 [00:08<00:00,  3.61it/s]"
     ]
    },
    {
     "name": "stdout",
     "output_type": "stream",
     "text": [
      "Skipping frame 29 - Global MAD: 0.0416, Masked MAD: 0.1458 (threshold: 0.05)\n"
     ]
    },
    {
     "name": "stderr",
     "output_type": "stream",
     "text": [
      "Propagating judo:  94%|█████████▍| 31/33 [00:08<00:00,  3.60it/s]"
     ]
    },
    {
     "name": "stdout",
     "output_type": "stream",
     "text": [
      "Skipping frame 30 - Global MAD: 0.0427, Masked MAD: 0.1468 (threshold: 0.05)\n",
      "Avg FPS last 30 frames: 3.61\n"
     ]
    },
    {
     "name": "stderr",
     "output_type": "stream",
     "text": [
      "Propagating judo:  97%|█████████▋| 32/33 [00:08<00:00,  3.60it/s]"
     ]
    },
    {
     "name": "stdout",
     "output_type": "stream",
     "text": [
      "Skipping frame 31 - Global MAD: 0.0440, Masked MAD: 0.1488 (threshold: 0.05)\n"
     ]
    },
    {
     "name": "stderr",
     "output_type": "stream",
     "text": [
      "Propagating judo: 100%|██████████| 33/33 [00:08<00:00,  3.60it/s]"
     ]
    },
    {
     "name": "stdout",
     "output_type": "stream",
     "text": [
      "Skipping frame 32 - Global MAD: 0.0452, Masked MAD: 0.1524 (threshold: 0.05)\n"
     ]
    },
    {
     "name": "stderr",
     "output_type": "stream",
     "text": [
      "propagate in video: 100%|██████████| 34/34 [00:09<00:00,  3.72it/s]\n",
      "Propagating judo: 34it [00:09,  3.71it/s]\n"
     ]
    },
    {
     "name": "stdout",
     "output_type": "stream",
     "text": [
      "Skipping frame 33 - Global MAD: 0.0445, Masked MAD: 0.1541 (threshold: 0.05)\n",
      "Skipped 33 frames due to low MAD.\n",
      "→ Saved all predicted masks for judo in data/DAVIS2017_mgfs_naive/judo\n",
      "\n",
      "=== Processing sequence: kite-surf ===\n"
     ]
    },
    {
     "name": "stderr",
     "output_type": "stream",
     "text": [
      "frame loading (JPEG): 100%|██████████| 50/50 [00:00<00:00, 51.94it/s]\n"
     ]
    },
    {
     "name": "stdout",
     "output_type": "stream",
     "text": [
      "Found 3 unique non‐black colors in kite-surf/00000.png\n"
     ]
    },
    {
     "name": "stderr",
     "output_type": "stream",
     "text": [
      "Propagating kite-surf:   4%|▍         | 2/49 [00:00<00:07,  6.53it/s]"
     ]
    },
    {
     "name": "stdout",
     "output_type": "stream",
     "text": [
      "Skipping frame 1 - Global MAD: 0.0464, Masked MAD: 0.1445 (threshold: 0.05)\n"
     ]
    },
    {
     "name": "stderr",
     "output_type": "stream",
     "text": [
      "Propagating kite-surf:   6%|▌         | 3/49 [00:00<00:09,  4.79it/s]"
     ]
    },
    {
     "name": "stdout",
     "output_type": "stream",
     "text": [
      "Skipping frame 2 - Global MAD: 0.0589, Masked MAD: 0.1919 (threshold: 0.05)\n"
     ]
    },
    {
     "name": "stderr",
     "output_type": "stream",
     "text": [
      "Propagating kite-surf:   8%|▊         | 4/49 [00:00<00:10,  4.23it/s]"
     ]
    },
    {
     "name": "stdout",
     "output_type": "stream",
     "text": [
      "Skipping frame 3 - Global MAD: 0.0666, Masked MAD: 0.2181 (threshold: 0.05)\n"
     ]
    },
    {
     "name": "stderr",
     "output_type": "stream",
     "text": [
      "Propagating kite-surf:  10%|█         | 5/49 [00:01<00:11,  3.95it/s]"
     ]
    },
    {
     "name": "stdout",
     "output_type": "stream",
     "text": [
      "Skipping frame 4 - Global MAD: 0.0759, Masked MAD: 0.2381 (threshold: 0.05)\n"
     ]
    },
    {
     "name": "stderr",
     "output_type": "stream",
     "text": [
      "Propagating kite-surf:  12%|█▏        | 6/49 [00:01<00:11,  3.80it/s]"
     ]
    },
    {
     "name": "stdout",
     "output_type": "stream",
     "text": [
      "Skipping frame 5 - Global MAD: 0.0842, Masked MAD: 0.2556 (threshold: 0.05)\n"
     ]
    },
    {
     "name": "stderr",
     "output_type": "stream",
     "text": [
      "Propagating kite-surf:  14%|█▍        | 7/49 [00:01<00:11,  3.71it/s]"
     ]
    },
    {
     "name": "stdout",
     "output_type": "stream",
     "text": [
      "Skipping frame 6 - Global MAD: 0.0922, Masked MAD: 0.2578 (threshold: 0.05)\n"
     ]
    },
    {
     "name": "stderr",
     "output_type": "stream",
     "text": [
      "Propagating kite-surf:  16%|█▋        | 8/49 [00:02<00:11,  3.65it/s]"
     ]
    },
    {
     "name": "stdout",
     "output_type": "stream",
     "text": [
      "Skipping frame 7 - Global MAD: 0.1006, Masked MAD: 0.2619 (threshold: 0.05)\n"
     ]
    },
    {
     "name": "stderr",
     "output_type": "stream",
     "text": [
      "Propagating kite-surf:  18%|█▊        | 9/49 [00:02<00:11,  3.61it/s]"
     ]
    },
    {
     "name": "stdout",
     "output_type": "stream",
     "text": [
      "Skipping frame 8 - Global MAD: 0.1078, Masked MAD: 0.2574 (threshold: 0.05)\n"
     ]
    },
    {
     "name": "stderr",
     "output_type": "stream",
     "text": [
      "Propagating kite-surf:  20%|██        | 10/49 [00:02<00:10,  3.59it/s]"
     ]
    },
    {
     "name": "stdout",
     "output_type": "stream",
     "text": [
      "Skipping frame 9 - Global MAD: 0.1136, Masked MAD: 0.2501 (threshold: 0.05)\n"
     ]
    },
    {
     "name": "stderr",
     "output_type": "stream",
     "text": [
      "Propagating kite-surf:  22%|██▏       | 11/49 [00:02<00:10,  3.57it/s]"
     ]
    },
    {
     "name": "stdout",
     "output_type": "stream",
     "text": [
      "Skipping frame 10 - Global MAD: 0.1163, Masked MAD: 0.2514 (threshold: 0.05)\n"
     ]
    },
    {
     "name": "stderr",
     "output_type": "stream",
     "text": [
      "Propagating kite-surf:  24%|██▍       | 12/49 [00:03<00:10,  3.56it/s]"
     ]
    },
    {
     "name": "stdout",
     "output_type": "stream",
     "text": [
      "Skipping frame 11 - Global MAD: 0.1169, Masked MAD: 0.2556 (threshold: 0.05)\n"
     ]
    },
    {
     "name": "stderr",
     "output_type": "stream",
     "text": [
      "Propagating kite-surf:  27%|██▋       | 13/49 [00:03<00:10,  3.56it/s]"
     ]
    },
    {
     "name": "stdout",
     "output_type": "stream",
     "text": [
      "Skipping frame 12 - Global MAD: 0.1175, Masked MAD: 0.2563 (threshold: 0.05)\n"
     ]
    },
    {
     "name": "stderr",
     "output_type": "stream",
     "text": [
      "Propagating kite-surf:  29%|██▊       | 14/49 [00:03<00:09,  3.56it/s]"
     ]
    },
    {
     "name": "stdout",
     "output_type": "stream",
     "text": [
      "Skipping frame 13 - Global MAD: 0.1168, Masked MAD: 0.2537 (threshold: 0.05)\n"
     ]
    },
    {
     "name": "stderr",
     "output_type": "stream",
     "text": [
      "Propagating kite-surf:  31%|███       | 15/49 [00:03<00:09,  3.55it/s]"
     ]
    },
    {
     "name": "stdout",
     "output_type": "stream",
     "text": [
      "Skipping frame 14 - Global MAD: 0.1149, Masked MAD: 0.2542 (threshold: 0.05)\n"
     ]
    },
    {
     "name": "stderr",
     "output_type": "stream",
     "text": [
      "Propagating kite-surf:  33%|███▎      | 16/49 [00:04<00:09,  3.55it/s]"
     ]
    },
    {
     "name": "stdout",
     "output_type": "stream",
     "text": [
      "Skipping frame 15 - Global MAD: 0.1121, Masked MAD: 0.2514 (threshold: 0.05)\n"
     ]
    },
    {
     "name": "stderr",
     "output_type": "stream",
     "text": [
      "Propagating kite-surf:  35%|███▍      | 17/49 [00:04<00:09,  3.55it/s]"
     ]
    },
    {
     "name": "stdout",
     "output_type": "stream",
     "text": [
      "Skipping frame 16 - Global MAD: 0.1085, Masked MAD: 0.2473 (threshold: 0.05)\n"
     ]
    },
    {
     "name": "stderr",
     "output_type": "stream",
     "text": [
      "Propagating kite-surf:  37%|███▋      | 18/49 [00:04<00:08,  3.55it/s]"
     ]
    },
    {
     "name": "stdout",
     "output_type": "stream",
     "text": [
      "Skipping frame 17 - Global MAD: 0.1051, Masked MAD: 0.2445 (threshold: 0.05)\n"
     ]
    },
    {
     "name": "stderr",
     "output_type": "stream",
     "text": [
      "Propagating kite-surf:  39%|███▉      | 19/49 [00:05<00:08,  3.55it/s]"
     ]
    },
    {
     "name": "stdout",
     "output_type": "stream",
     "text": [
      "Skipping frame 18 - Global MAD: 0.1028, Masked MAD: 0.2449 (threshold: 0.05)\n"
     ]
    },
    {
     "name": "stderr",
     "output_type": "stream",
     "text": [
      "Propagating kite-surf:  41%|████      | 20/49 [00:05<00:08,  3.56it/s]"
     ]
    },
    {
     "name": "stdout",
     "output_type": "stream",
     "text": [
      "Skipping frame 19 - Global MAD: 0.1006, Masked MAD: 0.2468 (threshold: 0.05)\n"
     ]
    },
    {
     "name": "stderr",
     "output_type": "stream",
     "text": [
      "Propagating kite-surf:  43%|████▎     | 21/49 [00:05<00:07,  3.55it/s]"
     ]
    },
    {
     "name": "stdout",
     "output_type": "stream",
     "text": [
      "Skipping frame 20 - Global MAD: 0.0986, Masked MAD: 0.2442 (threshold: 0.05)\n"
     ]
    },
    {
     "name": "stderr",
     "output_type": "stream",
     "text": [
      "Propagating kite-surf:  45%|████▍     | 22/49 [00:05<00:07,  3.56it/s]"
     ]
    },
    {
     "name": "stdout",
     "output_type": "stream",
     "text": [
      "Skipping frame 21 - Global MAD: 0.0975, Masked MAD: 0.2474 (threshold: 0.05)\n"
     ]
    },
    {
     "name": "stderr",
     "output_type": "stream",
     "text": [
      "Propagating kite-surf:  47%|████▋     | 23/49 [00:06<00:07,  3.56it/s]"
     ]
    },
    {
     "name": "stdout",
     "output_type": "stream",
     "text": [
      "Skipping frame 22 - Global MAD: 0.0963, Masked MAD: 0.2502 (threshold: 0.05)\n"
     ]
    },
    {
     "name": "stderr",
     "output_type": "stream",
     "text": [
      "Propagating kite-surf:  49%|████▉     | 24/49 [00:06<00:07,  3.56it/s]"
     ]
    },
    {
     "name": "stdout",
     "output_type": "stream",
     "text": [
      "Skipping frame 23 - Global MAD: 0.0943, Masked MAD: 0.2482 (threshold: 0.05)\n"
     ]
    },
    {
     "name": "stderr",
     "output_type": "stream",
     "text": [
      "Propagating kite-surf:  51%|█████     | 25/49 [00:06<00:06,  3.56it/s]"
     ]
    },
    {
     "name": "stdout",
     "output_type": "stream",
     "text": [
      "Skipping frame 24 - Global MAD: 0.0926, Masked MAD: 0.2482 (threshold: 0.05)\n"
     ]
    },
    {
     "name": "stderr",
     "output_type": "stream",
     "text": [
      "Propagating kite-surf:  53%|█████▎    | 26/49 [00:07<00:06,  3.57it/s]"
     ]
    },
    {
     "name": "stdout",
     "output_type": "stream",
     "text": [
      "Skipping frame 25 - Global MAD: 0.0916, Masked MAD: 0.2397 (threshold: 0.05)\n"
     ]
    },
    {
     "name": "stderr",
     "output_type": "stream",
     "text": [
      "Propagating kite-surf:  55%|█████▌    | 27/49 [00:07<00:06,  3.56it/s]"
     ]
    },
    {
     "name": "stdout",
     "output_type": "stream",
     "text": [
      "Skipping frame 26 - Global MAD: 0.0917, Masked MAD: 0.2378 (threshold: 0.05)\n"
     ]
    },
    {
     "name": "stderr",
     "output_type": "stream",
     "text": [
      "Propagating kite-surf:  57%|█████▋    | 28/49 [00:07<00:05,  3.56it/s]"
     ]
    },
    {
     "name": "stdout",
     "output_type": "stream",
     "text": [
      "Skipping frame 27 - Global MAD: 0.0927, Masked MAD: 0.2382 (threshold: 0.05)\n"
     ]
    },
    {
     "name": "stderr",
     "output_type": "stream",
     "text": [
      "Propagating kite-surf:  59%|█████▉    | 29/49 [00:07<00:05,  3.56it/s]"
     ]
    },
    {
     "name": "stdout",
     "output_type": "stream",
     "text": [
      "Skipping frame 28 - Global MAD: 0.0936, Masked MAD: 0.2046 (threshold: 0.05)\n"
     ]
    },
    {
     "name": "stderr",
     "output_type": "stream",
     "text": [
      "Propagating kite-surf:  61%|██████    | 30/49 [00:08<00:05,  3.56it/s]"
     ]
    },
    {
     "name": "stdout",
     "output_type": "stream",
     "text": [
      "Skipping frame 29 - Global MAD: 0.0973, Masked MAD: 0.2284 (threshold: 0.05)\n"
     ]
    },
    {
     "name": "stderr",
     "output_type": "stream",
     "text": [
      "Propagating kite-surf:  63%|██████▎   | 31/49 [00:08<00:05,  3.54it/s]"
     ]
    },
    {
     "name": "stdout",
     "output_type": "stream",
     "text": [
      "Skipping frame 30 - Global MAD: 0.1013, Masked MAD: 0.2504 (threshold: 0.05)\n",
      "Avg FPS last 30 frames: 3.54\n"
     ]
    },
    {
     "name": "stderr",
     "output_type": "stream",
     "text": [
      "Propagating kite-surf:  65%|██████▌   | 32/49 [00:08<00:04,  3.53it/s]"
     ]
    },
    {
     "name": "stdout",
     "output_type": "stream",
     "text": [
      "Skipping frame 31 - Global MAD: 0.1043, Masked MAD: 0.2540 (threshold: 0.05)\n"
     ]
    },
    {
     "name": "stderr",
     "output_type": "stream",
     "text": [
      "Propagating kite-surf:  67%|██████▋   | 33/49 [00:09<00:04,  3.52it/s]"
     ]
    },
    {
     "name": "stdout",
     "output_type": "stream",
     "text": [
      "Skipping frame 32 - Global MAD: 0.1072, Masked MAD: 0.2562 (threshold: 0.05)\n"
     ]
    },
    {
     "name": "stderr",
     "output_type": "stream",
     "text": [
      "Propagating kite-surf:  69%|██████▉   | 34/49 [00:09<00:04,  3.51it/s]"
     ]
    },
    {
     "name": "stdout",
     "output_type": "stream",
     "text": [
      "Skipping frame 33 - Global MAD: 0.1108, Masked MAD: 0.2537 (threshold: 0.05)\n"
     ]
    },
    {
     "name": "stderr",
     "output_type": "stream",
     "text": [
      "Propagating kite-surf:  71%|███████▏  | 35/49 [00:09<00:03,  3.52it/s]"
     ]
    },
    {
     "name": "stdout",
     "output_type": "stream",
     "text": [
      "Skipping frame 34 - Global MAD: 0.1152, Masked MAD: 0.2530 (threshold: 0.05)\n"
     ]
    },
    {
     "name": "stderr",
     "output_type": "stream",
     "text": [
      "Propagating kite-surf:  73%|███████▎  | 36/49 [00:09<00:03,  3.51it/s]"
     ]
    },
    {
     "name": "stdout",
     "output_type": "stream",
     "text": [
      "Skipping frame 35 - Global MAD: 0.1203, Masked MAD: 0.2515 (threshold: 0.05)\n"
     ]
    },
    {
     "name": "stderr",
     "output_type": "stream",
     "text": [
      "Propagating kite-surf:  76%|███████▌  | 37/49 [00:10<00:03,  3.51it/s]"
     ]
    },
    {
     "name": "stdout",
     "output_type": "stream",
     "text": [
      "Skipping frame 36 - Global MAD: 0.1255, Masked MAD: 0.2475 (threshold: 0.05)\n"
     ]
    },
    {
     "name": "stderr",
     "output_type": "stream",
     "text": [
      "Propagating kite-surf:  78%|███████▊  | 38/49 [00:10<00:03,  3.51it/s]"
     ]
    },
    {
     "name": "stdout",
     "output_type": "stream",
     "text": [
      "Skipping frame 37 - Global MAD: 0.1305, Masked MAD: 0.2413 (threshold: 0.05)\n"
     ]
    },
    {
     "name": "stderr",
     "output_type": "stream",
     "text": [
      "Propagating kite-surf:  80%|███████▉  | 39/49 [00:10<00:02,  3.52it/s]"
     ]
    },
    {
     "name": "stdout",
     "output_type": "stream",
     "text": [
      "Skipping frame 38 - Global MAD: 0.1347, Masked MAD: 0.2389 (threshold: 0.05)\n"
     ]
    },
    {
     "name": "stderr",
     "output_type": "stream",
     "text": [
      "Propagating kite-surf:  82%|████████▏ | 40/49 [00:11<00:02,  3.52it/s]"
     ]
    },
    {
     "name": "stdout",
     "output_type": "stream",
     "text": [
      "Skipping frame 39 - Global MAD: 0.1393, Masked MAD: 0.2418 (threshold: 0.05)\n"
     ]
    },
    {
     "name": "stderr",
     "output_type": "stream",
     "text": [
      "Propagating kite-surf:  84%|████████▎ | 41/49 [00:11<00:02,  3.52it/s]"
     ]
    },
    {
     "name": "stdout",
     "output_type": "stream",
     "text": [
      "Skipping frame 40 - Global MAD: 0.1424, Masked MAD: 0.2437 (threshold: 0.05)\n"
     ]
    },
    {
     "name": "stderr",
     "output_type": "stream",
     "text": [
      "Propagating kite-surf:  86%|████████▌ | 42/49 [00:11<00:01,  3.52it/s]"
     ]
    },
    {
     "name": "stdout",
     "output_type": "stream",
     "text": [
      "Skipping frame 41 - Global MAD: 0.1461, Masked MAD: 0.2448 (threshold: 0.05)\n"
     ]
    },
    {
     "name": "stderr",
     "output_type": "stream",
     "text": [
      "Propagating kite-surf:  88%|████████▊ | 43/49 [00:11<00:01,  3.52it/s]"
     ]
    },
    {
     "name": "stdout",
     "output_type": "stream",
     "text": [
      "Skipping frame 42 - Global MAD: 0.1481, Masked MAD: 0.2460 (threshold: 0.05)\n"
     ]
    },
    {
     "name": "stderr",
     "output_type": "stream",
     "text": [
      "Propagating kite-surf:  90%|████████▉ | 44/49 [00:12<00:01,  3.52it/s]"
     ]
    },
    {
     "name": "stdout",
     "output_type": "stream",
     "text": [
      "Skipping frame 43 - Global MAD: 0.1483, Masked MAD: 0.2467 (threshold: 0.05)\n"
     ]
    },
    {
     "name": "stderr",
     "output_type": "stream",
     "text": [
      "Propagating kite-surf:  92%|█████████▏| 45/49 [00:12<00:01,  3.51it/s]"
     ]
    },
    {
     "name": "stdout",
     "output_type": "stream",
     "text": [
      "Skipping frame 44 - Global MAD: 0.1482, Masked MAD: 0.2474 (threshold: 0.05)\n"
     ]
    },
    {
     "name": "stderr",
     "output_type": "stream",
     "text": [
      "Propagating kite-surf:  94%|█████████▍| 46/49 [00:12<00:00,  3.51it/s]"
     ]
    },
    {
     "name": "stdout",
     "output_type": "stream",
     "text": [
      "Skipping frame 45 - Global MAD: 0.1471, Masked MAD: 0.2475 (threshold: 0.05)\n"
     ]
    },
    {
     "name": "stderr",
     "output_type": "stream",
     "text": [
      "Propagating kite-surf:  96%|█████████▌| 47/49 [00:13<00:00,  3.51it/s]"
     ]
    },
    {
     "name": "stdout",
     "output_type": "stream",
     "text": [
      "Skipping frame 46 - Global MAD: 0.1455, Masked MAD: 0.2463 (threshold: 0.05)\n"
     ]
    },
    {
     "name": "stderr",
     "output_type": "stream",
     "text": [
      "Propagating kite-surf:  98%|█████████▊| 48/49 [00:13<00:00,  3.51it/s]"
     ]
    },
    {
     "name": "stdout",
     "output_type": "stream",
     "text": [
      "Skipping frame 47 - Global MAD: 0.1435, Masked MAD: 0.2451 (threshold: 0.05)\n"
     ]
    },
    {
     "name": "stderr",
     "output_type": "stream",
     "text": [
      "Propagating kite-surf: 100%|██████████| 49/49 [00:13<00:00,  3.50it/s]"
     ]
    },
    {
     "name": "stdout",
     "output_type": "stream",
     "text": [
      "Skipping frame 48 - Global MAD: 0.1424, Masked MAD: 0.2444 (threshold: 0.05)\n"
     ]
    },
    {
     "name": "stderr",
     "output_type": "stream",
     "text": [
      "propagate in video: 100%|██████████| 50/50 [00:13<00:00,  3.60it/s]   \n",
      "Propagating kite-surf: 50it [00:13,  3.60it/s]\n"
     ]
    },
    {
     "name": "stdout",
     "output_type": "stream",
     "text": [
      "Skipping frame 49 - Global MAD: 0.1423, Masked MAD: 0.2444 (threshold: 0.05)\n",
      "Skipped 49 frames due to low MAD.\n",
      "→ Saved all predicted masks for kite-surf in data/DAVIS2017_mgfs_naive/kite-surf\n",
      "\n",
      "=== Processing sequence: lab-coat ===\n"
     ]
    },
    {
     "name": "stderr",
     "output_type": "stream",
     "text": [
      "frame loading (JPEG): 100%|██████████| 47/47 [00:00<00:00, 50.84it/s]\n"
     ]
    },
    {
     "name": "stdout",
     "output_type": "stream",
     "text": [
      "Found 5 unique non‐black colors in lab-coat/00000.png\n"
     ]
    },
    {
     "name": "stderr",
     "output_type": "stream",
     "text": [
      "Propagating lab-coat:   4%|▍         | 2/46 [00:00<00:07,  6.24it/s]"
     ]
    },
    {
     "name": "stdout",
     "output_type": "stream",
     "text": [
      "Skipping frame 1 - Global MAD: 0.0578, Masked MAD: 0.0997 (threshold: 0.05)\n"
     ]
    },
    {
     "name": "stderr",
     "output_type": "stream",
     "text": [
      "Propagating lab-coat:   7%|▋         | 3/46 [00:00<00:09,  4.53it/s]"
     ]
    },
    {
     "name": "stdout",
     "output_type": "stream",
     "text": [
      "Skipping frame 2 - Global MAD: 0.0725, Masked MAD: 0.1395 (threshold: 0.05)\n"
     ]
    },
    {
     "name": "stderr",
     "output_type": "stream",
     "text": [
      "Propagating lab-coat:   9%|▊         | 4/46 [00:00<00:10,  4.05it/s]"
     ]
    },
    {
     "name": "stdout",
     "output_type": "stream",
     "text": [
      "Skipping frame 3 - Global MAD: 0.0815, Masked MAD: 0.1691 (threshold: 0.05)\n"
     ]
    },
    {
     "name": "stderr",
     "output_type": "stream",
     "text": [
      "Propagating lab-coat:  11%|█         | 5/46 [00:01<00:10,  3.80it/s]"
     ]
    },
    {
     "name": "stdout",
     "output_type": "stream",
     "text": [
      "Skipping frame 4 - Global MAD: 0.0874, Masked MAD: 0.1847 (threshold: 0.05)\n"
     ]
    },
    {
     "name": "stderr",
     "output_type": "stream",
     "text": [
      "Propagating lab-coat:  13%|█▎        | 6/46 [00:01<00:10,  3.67it/s]"
     ]
    },
    {
     "name": "stdout",
     "output_type": "stream",
     "text": [
      "Skipping frame 5 - Global MAD: 0.0924, Masked MAD: 0.1920 (threshold: 0.05)\n"
     ]
    },
    {
     "name": "stderr",
     "output_type": "stream",
     "text": [
      "Propagating lab-coat:  15%|█▌        | 7/46 [00:01<00:10,  3.59it/s]"
     ]
    },
    {
     "name": "stdout",
     "output_type": "stream",
     "text": [
      "Skipping frame 6 - Global MAD: 0.0961, Masked MAD: 0.1967 (threshold: 0.05)\n"
     ]
    },
    {
     "name": "stderr",
     "output_type": "stream",
     "text": [
      "Propagating lab-coat:  17%|█▋        | 8/46 [00:02<00:10,  3.53it/s]"
     ]
    },
    {
     "name": "stdout",
     "output_type": "stream",
     "text": [
      "Skipping frame 7 - Global MAD: 0.1022, Masked MAD: 0.1992 (threshold: 0.05)\n"
     ]
    },
    {
     "name": "stderr",
     "output_type": "stream",
     "text": [
      "Propagating lab-coat:  20%|█▉        | 9/46 [00:02<00:10,  3.50it/s]"
     ]
    },
    {
     "name": "stdout",
     "output_type": "stream",
     "text": [
      "Skipping frame 8 - Global MAD: 0.1076, Masked MAD: 0.2005 (threshold: 0.05)\n"
     ]
    },
    {
     "name": "stderr",
     "output_type": "stream",
     "text": [
      "Propagating lab-coat:  22%|██▏       | 10/46 [00:02<00:10,  3.47it/s]"
     ]
    },
    {
     "name": "stdout",
     "output_type": "stream",
     "text": [
      "Skipping frame 9 - Global MAD: 0.1112, Masked MAD: 0.2024 (threshold: 0.05)\n"
     ]
    },
    {
     "name": "stderr",
     "output_type": "stream",
     "text": [
      "Propagating lab-coat:  24%|██▍       | 11/46 [00:02<00:10,  3.45it/s]"
     ]
    },
    {
     "name": "stdout",
     "output_type": "stream",
     "text": [
      "Skipping frame 10 - Global MAD: 0.1169, Masked MAD: 0.2023 (threshold: 0.05)\n"
     ]
    },
    {
     "name": "stderr",
     "output_type": "stream",
     "text": [
      "Propagating lab-coat:  26%|██▌       | 12/46 [00:03<00:09,  3.45it/s]"
     ]
    },
    {
     "name": "stdout",
     "output_type": "stream",
     "text": [
      "Skipping frame 11 - Global MAD: 0.1208, Masked MAD: 0.2004 (threshold: 0.05)\n"
     ]
    },
    {
     "name": "stderr",
     "output_type": "stream",
     "text": [
      "Propagating lab-coat:  28%|██▊       | 13/46 [00:03<00:09,  3.44it/s]"
     ]
    },
    {
     "name": "stdout",
     "output_type": "stream",
     "text": [
      "Skipping frame 12 - Global MAD: 0.1235, Masked MAD: 0.1960 (threshold: 0.05)\n"
     ]
    },
    {
     "name": "stderr",
     "output_type": "stream",
     "text": [
      "Propagating lab-coat:  30%|███       | 14/46 [00:03<00:09,  3.44it/s]"
     ]
    },
    {
     "name": "stdout",
     "output_type": "stream",
     "text": [
      "Skipping frame 13 - Global MAD: 0.1275, Masked MAD: 0.1944 (threshold: 0.05)\n"
     ]
    },
    {
     "name": "stderr",
     "output_type": "stream",
     "text": [
      "Propagating lab-coat:  33%|███▎      | 15/46 [00:04<00:09,  3.43it/s]"
     ]
    },
    {
     "name": "stdout",
     "output_type": "stream",
     "text": [
      "Skipping frame 14 - Global MAD: 0.1318, Masked MAD: 0.1982 (threshold: 0.05)\n"
     ]
    },
    {
     "name": "stderr",
     "output_type": "stream",
     "text": [
      "Propagating lab-coat:  35%|███▍      | 16/46 [00:04<00:08,  3.42it/s]"
     ]
    },
    {
     "name": "stdout",
     "output_type": "stream",
     "text": [
      "Skipping frame 15 - Global MAD: 0.1349, Masked MAD: 0.2084 (threshold: 0.05)\n"
     ]
    },
    {
     "name": "stderr",
     "output_type": "stream",
     "text": [
      "Propagating lab-coat:  37%|███▋      | 17/46 [00:04<00:08,  3.42it/s]"
     ]
    },
    {
     "name": "stdout",
     "output_type": "stream",
     "text": [
      "Skipping frame 16 - Global MAD: 0.1403, Masked MAD: 0.2062 (threshold: 0.05)\n"
     ]
    },
    {
     "name": "stderr",
     "output_type": "stream",
     "text": [
      "Propagating lab-coat:  39%|███▉      | 18/46 [00:05<00:08,  3.41it/s]"
     ]
    },
    {
     "name": "stdout",
     "output_type": "stream",
     "text": [
      "Skipping frame 17 - Global MAD: 0.1433, Masked MAD: 0.2037 (threshold: 0.05)\n"
     ]
    },
    {
     "name": "stderr",
     "output_type": "stream",
     "text": [
      "Propagating lab-coat:  41%|████▏     | 19/46 [00:05<00:07,  3.41it/s]"
     ]
    },
    {
     "name": "stdout",
     "output_type": "stream",
     "text": [
      "Skipping frame 18 - Global MAD: 0.1476, Masked MAD: 0.2044 (threshold: 0.05)\n"
     ]
    },
    {
     "name": "stderr",
     "output_type": "stream",
     "text": [
      "Propagating lab-coat:  43%|████▎     | 20/46 [00:05<00:07,  3.41it/s]"
     ]
    },
    {
     "name": "stdout",
     "output_type": "stream",
     "text": [
      "Skipping frame 19 - Global MAD: 0.1548, Masked MAD: 0.2011 (threshold: 0.05)\n"
     ]
    },
    {
     "name": "stderr",
     "output_type": "stream",
     "text": [
      "Propagating lab-coat:  46%|████▌     | 21/46 [00:05<00:07,  3.40it/s]"
     ]
    },
    {
     "name": "stdout",
     "output_type": "stream",
     "text": [
      "Skipping frame 20 - Global MAD: 0.1617, Masked MAD: 0.2018 (threshold: 0.05)\n"
     ]
    },
    {
     "name": "stderr",
     "output_type": "stream",
     "text": [
      "Propagating lab-coat:  48%|████▊     | 22/46 [00:06<00:07,  3.40it/s]"
     ]
    },
    {
     "name": "stdout",
     "output_type": "stream",
     "text": [
      "Skipping frame 21 - Global MAD: 0.1671, Masked MAD: 0.2046 (threshold: 0.05)\n"
     ]
    },
    {
     "name": "stderr",
     "output_type": "stream",
     "text": [
      "Propagating lab-coat:  50%|█████     | 23/46 [00:06<00:06,  3.40it/s]"
     ]
    },
    {
     "name": "stdout",
     "output_type": "stream",
     "text": [
      "Skipping frame 22 - Global MAD: 0.1747, Masked MAD: 0.2058 (threshold: 0.05)\n"
     ]
    },
    {
     "name": "stderr",
     "output_type": "stream",
     "text": [
      "Propagating lab-coat:  52%|█████▏    | 24/46 [00:06<00:06,  3.40it/s]"
     ]
    },
    {
     "name": "stdout",
     "output_type": "stream",
     "text": [
      "Skipping frame 23 - Global MAD: 0.1868, Masked MAD: 0.2117 (threshold: 0.05)\n"
     ]
    },
    {
     "name": "stderr",
     "output_type": "stream",
     "text": [
      "Propagating lab-coat:  54%|█████▍    | 25/46 [00:07<00:06,  3.41it/s]"
     ]
    },
    {
     "name": "stdout",
     "output_type": "stream",
     "text": [
      "Skipping frame 24 - Global MAD: 0.1970, Masked MAD: 0.2135 (threshold: 0.05)\n"
     ]
    },
    {
     "name": "stderr",
     "output_type": "stream",
     "text": [
      "Propagating lab-coat:  57%|█████▋    | 26/46 [00:07<00:05,  3.40it/s]"
     ]
    },
    {
     "name": "stdout",
     "output_type": "stream",
     "text": [
      "Skipping frame 25 - Global MAD: 0.2046, Masked MAD: 0.2152 (threshold: 0.05)\n"
     ]
    },
    {
     "name": "stderr",
     "output_type": "stream",
     "text": [
      "Propagating lab-coat:  59%|█████▊    | 27/46 [00:07<00:05,  3.40it/s]"
     ]
    },
    {
     "name": "stdout",
     "output_type": "stream",
     "text": [
      "Skipping frame 26 - Global MAD: 0.2151, Masked MAD: 0.2245 (threshold: 0.05)\n"
     ]
    },
    {
     "name": "stderr",
     "output_type": "stream",
     "text": [
      "Propagating lab-coat:  61%|██████    | 28/46 [00:07<00:05,  3.40it/s]"
     ]
    },
    {
     "name": "stdout",
     "output_type": "stream",
     "text": [
      "Skipping frame 27 - Global MAD: 0.2274, Masked MAD: 0.2412 (threshold: 0.05)\n"
     ]
    },
    {
     "name": "stderr",
     "output_type": "stream",
     "text": [
      "Propagating lab-coat:  63%|██████▎   | 29/46 [00:08<00:05,  3.40it/s]"
     ]
    },
    {
     "name": "stdout",
     "output_type": "stream",
     "text": [
      "Skipping frame 28 - Global MAD: 0.2341, Masked MAD: 0.2530 (threshold: 0.05)\n"
     ]
    },
    {
     "name": "stderr",
     "output_type": "stream",
     "text": [
      "Propagating lab-coat:  65%|██████▌   | 30/46 [00:08<00:04,  3.41it/s]"
     ]
    },
    {
     "name": "stdout",
     "output_type": "stream",
     "text": [
      "Skipping frame 29 - Global MAD: 0.2356, Masked MAD: 0.2501 (threshold: 0.05)\n"
     ]
    },
    {
     "name": "stderr",
     "output_type": "stream",
     "text": [
      "Propagating lab-coat:  67%|██████▋   | 31/46 [00:08<00:04,  3.41it/s]"
     ]
    },
    {
     "name": "stdout",
     "output_type": "stream",
     "text": [
      "Skipping frame 30 - Global MAD: 0.2338, Masked MAD: 0.2410 (threshold: 0.05)\n",
      "Avg FPS last 30 frames: 3.41\n"
     ]
    },
    {
     "name": "stderr",
     "output_type": "stream",
     "text": [
      "Propagating lab-coat:  70%|██████▉   | 32/46 [00:09<00:04,  3.42it/s]"
     ]
    },
    {
     "name": "stdout",
     "output_type": "stream",
     "text": [
      "Skipping frame 31 - Global MAD: 0.2307, Masked MAD: 0.2373 (threshold: 0.05)\n"
     ]
    },
    {
     "name": "stderr",
     "output_type": "stream",
     "text": [
      "Propagating lab-coat:  72%|███████▏  | 33/46 [00:09<00:03,  3.42it/s]"
     ]
    },
    {
     "name": "stdout",
     "output_type": "stream",
     "text": [
      "Skipping frame 32 - Global MAD: 0.2299, Masked MAD: 0.2547 (threshold: 0.05)\n"
     ]
    },
    {
     "name": "stderr",
     "output_type": "stream",
     "text": [
      "Propagating lab-coat:  74%|███████▍  | 34/46 [00:09<00:03,  3.42it/s]"
     ]
    },
    {
     "name": "stdout",
     "output_type": "stream",
     "text": [
      "Skipping frame 33 - Global MAD: 0.2283, Masked MAD: 0.2745 (threshold: 0.05)\n"
     ]
    },
    {
     "name": "stderr",
     "output_type": "stream",
     "text": [
      "Propagating lab-coat:  76%|███████▌  | 35/46 [00:10<00:03,  3.42it/s]"
     ]
    },
    {
     "name": "stdout",
     "output_type": "stream",
     "text": [
      "Skipping frame 34 - Global MAD: 0.2282, Masked MAD: 0.2853 (threshold: 0.05)\n"
     ]
    },
    {
     "name": "stderr",
     "output_type": "stream",
     "text": [
      "Propagating lab-coat:  78%|███████▊  | 36/46 [00:10<00:02,  3.42it/s]"
     ]
    },
    {
     "name": "stdout",
     "output_type": "stream",
     "text": [
      "Skipping frame 35 - Global MAD: 0.2270, Masked MAD: 0.2898 (threshold: 0.05)\n"
     ]
    },
    {
     "name": "stderr",
     "output_type": "stream",
     "text": [
      "Propagating lab-coat:  80%|████████  | 37/46 [00:10<00:02,  3.41it/s]"
     ]
    },
    {
     "name": "stdout",
     "output_type": "stream",
     "text": [
      "Skipping frame 36 - Global MAD: 0.2276, Masked MAD: 0.2953 (threshold: 0.05)\n"
     ]
    },
    {
     "name": "stderr",
     "output_type": "stream",
     "text": [
      "Propagating lab-coat:  83%|████████▎ | 38/46 [00:10<00:02,  3.40it/s]"
     ]
    },
    {
     "name": "stdout",
     "output_type": "stream",
     "text": [
      "Skipping frame 37 - Global MAD: 0.2265, Masked MAD: 0.2969 (threshold: 0.05)\n"
     ]
    },
    {
     "name": "stderr",
     "output_type": "stream",
     "text": [
      "Propagating lab-coat:  85%|████████▍ | 39/46 [00:11<00:02,  3.40it/s]"
     ]
    },
    {
     "name": "stdout",
     "output_type": "stream",
     "text": [
      "Skipping frame 38 - Global MAD: 0.2261, Masked MAD: 0.2900 (threshold: 0.05)\n"
     ]
    },
    {
     "name": "stderr",
     "output_type": "stream",
     "text": [
      "Propagating lab-coat:  87%|████████▋ | 40/46 [00:11<00:01,  3.40it/s]"
     ]
    },
    {
     "name": "stdout",
     "output_type": "stream",
     "text": [
      "Skipping frame 39 - Global MAD: 0.2253, Masked MAD: 0.2874 (threshold: 0.05)\n"
     ]
    },
    {
     "name": "stderr",
     "output_type": "stream",
     "text": [
      "Propagating lab-coat:  89%|████████▉ | 41/46 [00:11<00:01,  3.40it/s]"
     ]
    },
    {
     "name": "stdout",
     "output_type": "stream",
     "text": [
      "Skipping frame 40 - Global MAD: 0.2252, Masked MAD: 0.2888 (threshold: 0.05)\n"
     ]
    },
    {
     "name": "stderr",
     "output_type": "stream",
     "text": [
      "Propagating lab-coat:  91%|█████████▏| 42/46 [00:12<00:01,  3.41it/s]"
     ]
    },
    {
     "name": "stdout",
     "output_type": "stream",
     "text": [
      "Skipping frame 41 - Global MAD: 0.2247, Masked MAD: 0.2956 (threshold: 0.05)\n"
     ]
    },
    {
     "name": "stderr",
     "output_type": "stream",
     "text": [
      "Propagating lab-coat:  93%|█████████▎| 43/46 [00:12<00:00,  3.40it/s]"
     ]
    },
    {
     "name": "stdout",
     "output_type": "stream",
     "text": [
      "Skipping frame 42 - Global MAD: 0.2241, Masked MAD: 0.3001 (threshold: 0.05)\n"
     ]
    },
    {
     "name": "stderr",
     "output_type": "stream",
     "text": [
      "Propagating lab-coat:  96%|█████████▌| 44/46 [00:12<00:00,  3.39it/s]"
     ]
    },
    {
     "name": "stdout",
     "output_type": "stream",
     "text": [
      "Skipping frame 43 - Global MAD: 0.2240, Masked MAD: 0.2930 (threshold: 0.05)\n"
     ]
    },
    {
     "name": "stderr",
     "output_type": "stream",
     "text": [
      "Propagating lab-coat:  98%|█████████▊| 45/46 [00:12<00:00,  3.40it/s]"
     ]
    },
    {
     "name": "stdout",
     "output_type": "stream",
     "text": [
      "Skipping frame 44 - Global MAD: 0.2242, Masked MAD: 0.2861 (threshold: 0.05)\n"
     ]
    },
    {
     "name": "stderr",
     "output_type": "stream",
     "text": [
      "Propagating lab-coat: 100%|██████████| 46/46 [00:13<00:00,  3.40it/s]"
     ]
    },
    {
     "name": "stdout",
     "output_type": "stream",
     "text": [
      "Skipping frame 45 - Global MAD: 0.2239, Masked MAD: 0.2828 (threshold: 0.05)\n"
     ]
    },
    {
     "name": "stderr",
     "output_type": "stream",
     "text": [
      "propagate in video: 100%|██████████| 47/47 [00:13<00:00,  3.48it/s]  \n",
      "Propagating lab-coat: 47it [00:13,  3.47it/s]\n"
     ]
    },
    {
     "name": "stdout",
     "output_type": "stream",
     "text": [
      "Skipping frame 46 - Global MAD: 0.2242, Masked MAD: 0.2806 (threshold: 0.05)\n",
      "Skipped 46 frames due to low MAD.\n",
      "→ Saved all predicted masks for lab-coat in data/DAVIS2017_mgfs_naive/lab-coat\n",
      "\n",
      "=== Processing sequence: libby ===\n"
     ]
    },
    {
     "name": "stderr",
     "output_type": "stream",
     "text": [
      "frame loading (JPEG): 100%|██████████| 49/49 [00:00<00:00, 51.14it/s]\n"
     ]
    },
    {
     "name": "stdout",
     "output_type": "stream",
     "text": [
      "Found 1 unique non‐black colors in libby/00000.png\n"
     ]
    },
    {
     "name": "stderr",
     "output_type": "stream",
     "text": [
      "Propagating libby:   4%|▍         | 2/48 [00:00<00:06,  7.04it/s]"
     ]
    },
    {
     "name": "stdout",
     "output_type": "stream",
     "text": [
      "Skipping frame 1 - Global MAD: 0.0934, Masked MAD: 0.1402 (threshold: 0.05)\n"
     ]
    },
    {
     "name": "stderr",
     "output_type": "stream",
     "text": [
      "Propagating libby:   6%|▋         | 3/48 [00:00<00:08,  5.05it/s]"
     ]
    },
    {
     "name": "stdout",
     "output_type": "stream",
     "text": [
      "Skipping frame 2 - Global MAD: 0.1049, Masked MAD: 0.1543 (threshold: 0.05)\n"
     ]
    },
    {
     "name": "stderr",
     "output_type": "stream",
     "text": [
      "Propagating libby:   8%|▊         | 4/48 [00:00<00:09,  4.44it/s]"
     ]
    },
    {
     "name": "stdout",
     "output_type": "stream",
     "text": [
      "Skipping frame 3 - Global MAD: 0.1090, Masked MAD: 0.1522 (threshold: 0.05)\n"
     ]
    },
    {
     "name": "stderr",
     "output_type": "stream",
     "text": [
      "Propagating libby:  10%|█         | 5/48 [00:01<00:10,  4.14it/s]"
     ]
    },
    {
     "name": "stdout",
     "output_type": "stream",
     "text": [
      "Skipping frame 4 - Global MAD: 0.1121, Masked MAD: 0.1571 (threshold: 0.05)\n"
     ]
    },
    {
     "name": "stderr",
     "output_type": "stream",
     "text": [
      "Propagating libby:  12%|█▎        | 6/48 [00:01<00:10,  3.95it/s]"
     ]
    },
    {
     "name": "stdout",
     "output_type": "stream",
     "text": [
      "Skipping frame 5 - Global MAD: 0.1173, Masked MAD: 0.1735 (threshold: 0.05)\n"
     ]
    },
    {
     "name": "stderr",
     "output_type": "stream",
     "text": [
      "Propagating libby:  15%|█▍        | 7/48 [00:01<00:10,  3.85it/s]"
     ]
    },
    {
     "name": "stdout",
     "output_type": "stream",
     "text": [
      "Skipping frame 6 - Global MAD: 0.1184, Masked MAD: 0.1774 (threshold: 0.05)\n"
     ]
    },
    {
     "name": "stderr",
     "output_type": "stream",
     "text": [
      "Propagating libby:  17%|█▋        | 8/48 [00:01<00:10,  3.79it/s]"
     ]
    },
    {
     "name": "stdout",
     "output_type": "stream",
     "text": [
      "Skipping frame 7 - Global MAD: 0.1161, Masked MAD: 0.1760 (threshold: 0.05)\n"
     ]
    },
    {
     "name": "stderr",
     "output_type": "stream",
     "text": [
      "Propagating libby:  19%|█▉        | 9/48 [00:02<00:10,  3.74it/s]"
     ]
    },
    {
     "name": "stdout",
     "output_type": "stream",
     "text": [
      "Skipping frame 8 - Global MAD: 0.1195, Masked MAD: 0.1724 (threshold: 0.05)\n"
     ]
    },
    {
     "name": "stderr",
     "output_type": "stream",
     "text": [
      "Propagating libby:  21%|██        | 10/48 [00:02<00:10,  3.72it/s]"
     ]
    },
    {
     "name": "stdout",
     "output_type": "stream",
     "text": [
      "Skipping frame 9 - Global MAD: 0.1231, Masked MAD: 0.1712 (threshold: 0.05)\n"
     ]
    },
    {
     "name": "stderr",
     "output_type": "stream",
     "text": [
      "Propagating libby:  23%|██▎       | 11/48 [00:02<00:09,  3.71it/s]"
     ]
    },
    {
     "name": "stdout",
     "output_type": "stream",
     "text": [
      "Skipping frame 10 - Global MAD: 0.1246, Masked MAD: 0.1653 (threshold: 0.05)\n"
     ]
    },
    {
     "name": "stderr",
     "output_type": "stream",
     "text": [
      "Propagating libby:  25%|██▌       | 12/48 [00:03<00:09,  3.69it/s]"
     ]
    },
    {
     "name": "stdout",
     "output_type": "stream",
     "text": [
      "Skipping frame 11 - Global MAD: 0.1252, Masked MAD: 0.1732 (threshold: 0.05)\n"
     ]
    },
    {
     "name": "stderr",
     "output_type": "stream",
     "text": [
      "Propagating libby:  27%|██▋       | 13/48 [00:03<00:09,  3.68it/s]"
     ]
    },
    {
     "name": "stdout",
     "output_type": "stream",
     "text": [
      "Skipping frame 12 - Global MAD: 0.1265, Masked MAD: 0.1824 (threshold: 0.05)\n"
     ]
    },
    {
     "name": "stderr",
     "output_type": "stream",
     "text": [
      "Propagating libby:  29%|██▉       | 14/48 [00:03<00:09,  3.68it/s]"
     ]
    },
    {
     "name": "stdout",
     "output_type": "stream",
     "text": [
      "Skipping frame 13 - Global MAD: 0.1281, Masked MAD: 0.2195 (threshold: 0.05)\n"
     ]
    },
    {
     "name": "stderr",
     "output_type": "stream",
     "text": [
      "Propagating libby:  31%|███▏      | 15/48 [00:03<00:08,  3.69it/s]"
     ]
    },
    {
     "name": "stdout",
     "output_type": "stream",
     "text": [
      "Skipping frame 14 - Global MAD: 0.1302, Masked MAD: 0.2130 (threshold: 0.05)\n"
     ]
    },
    {
     "name": "stderr",
     "output_type": "stream",
     "text": [
      "Propagating libby:  33%|███▎      | 16/48 [00:04<00:08,  3.67it/s]"
     ]
    },
    {
     "name": "stdout",
     "output_type": "stream",
     "text": [
      "Skipping frame 15 - Global MAD: 0.1330, Masked MAD: 0.1892 (threshold: 0.05)\n"
     ]
    },
    {
     "name": "stderr",
     "output_type": "stream",
     "text": [
      "Propagating libby:  35%|███▌      | 17/48 [00:04<00:08,  3.67it/s]"
     ]
    },
    {
     "name": "stdout",
     "output_type": "stream",
     "text": [
      "Skipping frame 16 - Global MAD: 0.1384, Masked MAD: 0.2105 (threshold: 0.05)\n"
     ]
    },
    {
     "name": "stderr",
     "output_type": "stream",
     "text": [
      "Propagating libby:  38%|███▊      | 18/48 [00:04<00:08,  3.66it/s]"
     ]
    },
    {
     "name": "stdout",
     "output_type": "stream",
     "text": [
      "Skipping frame 17 - Global MAD: 0.1393, Masked MAD: 0.1859 (threshold: 0.05)\n"
     ]
    },
    {
     "name": "stderr",
     "output_type": "stream",
     "text": [
      "Propagating libby:  40%|███▉      | 19/48 [00:04<00:07,  3.67it/s]"
     ]
    },
    {
     "name": "stdout",
     "output_type": "stream",
     "text": [
      "Skipping frame 18 - Global MAD: 0.1388, Masked MAD: 0.1887 (threshold: 0.05)\n"
     ]
    },
    {
     "name": "stderr",
     "output_type": "stream",
     "text": [
      "Propagating libby:  42%|████▏     | 20/48 [00:05<00:07,  3.66it/s]"
     ]
    },
    {
     "name": "stdout",
     "output_type": "stream",
     "text": [
      "Skipping frame 19 - Global MAD: 0.1384, Masked MAD: 0.1897 (threshold: 0.05)\n"
     ]
    },
    {
     "name": "stderr",
     "output_type": "stream",
     "text": [
      "Propagating libby:  44%|████▍     | 21/48 [00:05<00:07,  3.65it/s]"
     ]
    },
    {
     "name": "stdout",
     "output_type": "stream",
     "text": [
      "Skipping frame 20 - Global MAD: 0.1363, Masked MAD: 0.1750 (threshold: 0.05)\n"
     ]
    },
    {
     "name": "stderr",
     "output_type": "stream",
     "text": [
      "Propagating libby:  46%|████▌     | 22/48 [00:05<00:07,  3.64it/s]"
     ]
    },
    {
     "name": "stdout",
     "output_type": "stream",
     "text": [
      "Skipping frame 21 - Global MAD: 0.1351, Masked MAD: 0.1721 (threshold: 0.05)\n"
     ]
    },
    {
     "name": "stderr",
     "output_type": "stream",
     "text": [
      "Propagating libby:  48%|████▊     | 23/48 [00:06<00:06,  3.64it/s]"
     ]
    },
    {
     "name": "stdout",
     "output_type": "stream",
     "text": [
      "Skipping frame 22 - Global MAD: 0.1310, Masked MAD: 0.1673 (threshold: 0.05)\n"
     ]
    },
    {
     "name": "stderr",
     "output_type": "stream",
     "text": [
      "Propagating libby:  50%|█████     | 24/48 [00:06<00:06,  3.61it/s]"
     ]
    },
    {
     "name": "stdout",
     "output_type": "stream",
     "text": [
      "Skipping frame 23 - Global MAD: 0.1283, Masked MAD: 0.1699 (threshold: 0.05)\n"
     ]
    },
    {
     "name": "stderr",
     "output_type": "stream",
     "text": [
      "Propagating libby:  52%|█████▏    | 25/48 [00:06<00:06,  3.63it/s]"
     ]
    },
    {
     "name": "stdout",
     "output_type": "stream",
     "text": [
      "Skipping frame 24 - Global MAD: 0.1257, Masked MAD: 0.1662 (threshold: 0.05)\n"
     ]
    },
    {
     "name": "stderr",
     "output_type": "stream",
     "text": [
      "Propagating libby:  54%|█████▍    | 26/48 [00:06<00:06,  3.62it/s]"
     ]
    },
    {
     "name": "stdout",
     "output_type": "stream",
     "text": [
      "Skipping frame 25 - Global MAD: 0.1287, Masked MAD: 0.1681 (threshold: 0.05)\n"
     ]
    },
    {
     "name": "stderr",
     "output_type": "stream",
     "text": [
      "Propagating libby:  56%|█████▋    | 27/48 [00:07<00:05,  3.63it/s]"
     ]
    },
    {
     "name": "stdout",
     "output_type": "stream",
     "text": [
      "Skipping frame 26 - Global MAD: 0.1276, Masked MAD: 0.1689 (threshold: 0.05)\n"
     ]
    },
    {
     "name": "stderr",
     "output_type": "stream",
     "text": [
      "Propagating libby:  58%|█████▊    | 28/48 [00:07<00:05,  3.64it/s]"
     ]
    },
    {
     "name": "stdout",
     "output_type": "stream",
     "text": [
      "Skipping frame 27 - Global MAD: 0.1270, Masked MAD: 0.1709 (threshold: 0.05)\n"
     ]
    },
    {
     "name": "stderr",
     "output_type": "stream",
     "text": [
      "Propagating libby:  60%|██████    | 29/48 [00:07<00:05,  3.64it/s]"
     ]
    },
    {
     "name": "stdout",
     "output_type": "stream",
     "text": [
      "Skipping frame 28 - Global MAD: 0.1283, Masked MAD: 0.1607 (threshold: 0.05)\n"
     ]
    },
    {
     "name": "stderr",
     "output_type": "stream",
     "text": [
      "Propagating libby:  62%|██████▎   | 30/48 [00:07<00:04,  3.64it/s]"
     ]
    },
    {
     "name": "stdout",
     "output_type": "stream",
     "text": [
      "Skipping frame 29 - Global MAD: 0.1331, Masked MAD: 0.1689 (threshold: 0.05)\n"
     ]
    },
    {
     "name": "stderr",
     "output_type": "stream",
     "text": [
      "Propagating libby:  65%|██████▍   | 31/48 [00:08<00:04,  3.63it/s]"
     ]
    },
    {
     "name": "stdout",
     "output_type": "stream",
     "text": [
      "Skipping frame 30 - Global MAD: 0.1328, Masked MAD: 0.1767 (threshold: 0.05)\n",
      "Avg FPS last 30 frames: 3.65\n"
     ]
    },
    {
     "name": "stderr",
     "output_type": "stream",
     "text": [
      "Propagating libby:  67%|██████▋   | 32/48 [00:08<00:04,  3.65it/s]"
     ]
    },
    {
     "name": "stdout",
     "output_type": "stream",
     "text": [
      "Skipping frame 31 - Global MAD: 0.1331, Masked MAD: 0.1689 (threshold: 0.05)\n"
     ]
    },
    {
     "name": "stderr",
     "output_type": "stream",
     "text": [
      "Propagating libby:  69%|██████▉   | 33/48 [00:08<00:04,  3.65it/s]"
     ]
    },
    {
     "name": "stdout",
     "output_type": "stream",
     "text": [
      "Skipping frame 32 - Global MAD: 0.1359, Masked MAD: 0.1685 (threshold: 0.05)\n"
     ]
    },
    {
     "name": "stderr",
     "output_type": "stream",
     "text": [
      "Propagating libby:  71%|███████   | 34/48 [00:09<00:03,  3.65it/s]"
     ]
    },
    {
     "name": "stdout",
     "output_type": "stream",
     "text": [
      "Skipping frame 33 - Global MAD: 0.1378, Masked MAD: 0.1746 (threshold: 0.05)\n"
     ]
    },
    {
     "name": "stderr",
     "output_type": "stream",
     "text": [
      "Propagating libby:  73%|███████▎  | 35/48 [00:09<00:03,  3.67it/s]"
     ]
    },
    {
     "name": "stdout",
     "output_type": "stream",
     "text": [
      "Skipping frame 34 - Global MAD: 0.1381, Masked MAD: 0.1805 (threshold: 0.05)\n"
     ]
    },
    {
     "name": "stderr",
     "output_type": "stream",
     "text": [
      "Propagating libby:  75%|███████▌  | 36/48 [00:09<00:03,  3.66it/s]"
     ]
    },
    {
     "name": "stdout",
     "output_type": "stream",
     "text": [
      "Skipping frame 35 - Global MAD: 0.1402, Masked MAD: 0.1760 (threshold: 0.05)\n"
     ]
    },
    {
     "name": "stderr",
     "output_type": "stream",
     "text": [
      "Propagating libby:  77%|███████▋  | 37/48 [00:09<00:03,  3.65it/s]"
     ]
    },
    {
     "name": "stdout",
     "output_type": "stream",
     "text": [
      "Skipping frame 36 - Global MAD: 0.1405, Masked MAD: 0.1958 (threshold: 0.05)\n"
     ]
    },
    {
     "name": "stderr",
     "output_type": "stream",
     "text": [
      "Propagating libby:  79%|███████▉  | 38/48 [00:10<00:02,  3.66it/s]"
     ]
    },
    {
     "name": "stdout",
     "output_type": "stream",
     "text": [
      "Skipping frame 37 - Global MAD: 0.1391, Masked MAD: 0.2081 (threshold: 0.05)\n"
     ]
    },
    {
     "name": "stderr",
     "output_type": "stream",
     "text": [
      "Propagating libby:  81%|████████▏ | 39/48 [00:10<00:02,  3.67it/s]"
     ]
    },
    {
     "name": "stdout",
     "output_type": "stream",
     "text": [
      "Skipping frame 38 - Global MAD: 0.1366, Masked MAD: 0.1939 (threshold: 0.05)\n"
     ]
    },
    {
     "name": "stderr",
     "output_type": "stream",
     "text": [
      "Propagating libby:  83%|████████▎ | 40/48 [00:10<00:02,  3.67it/s]"
     ]
    },
    {
     "name": "stdout",
     "output_type": "stream",
     "text": [
      "Skipping frame 39 - Global MAD: 0.1363, Masked MAD: 0.1947 (threshold: 0.05)\n"
     ]
    },
    {
     "name": "stderr",
     "output_type": "stream",
     "text": [
      "Propagating libby:  85%|████████▌ | 41/48 [00:10<00:01,  3.67it/s]"
     ]
    },
    {
     "name": "stdout",
     "output_type": "stream",
     "text": [
      "Skipping frame 40 - Global MAD: 0.1376, Masked MAD: 0.1888 (threshold: 0.05)\n"
     ]
    },
    {
     "name": "stderr",
     "output_type": "stream",
     "text": [
      "Propagating libby:  88%|████████▊ | 42/48 [00:11<00:01,  3.67it/s]"
     ]
    },
    {
     "name": "stdout",
     "output_type": "stream",
     "text": [
      "Skipping frame 41 - Global MAD: 0.1379, Masked MAD: 0.1918 (threshold: 0.05)\n"
     ]
    },
    {
     "name": "stderr",
     "output_type": "stream",
     "text": [
      "Propagating libby:  90%|████████▉ | 43/48 [00:11<00:01,  3.68it/s]"
     ]
    },
    {
     "name": "stdout",
     "output_type": "stream",
     "text": [
      "Skipping frame 42 - Global MAD: 0.1381, Masked MAD: 0.1895 (threshold: 0.05)\n"
     ]
    },
    {
     "name": "stderr",
     "output_type": "stream",
     "text": [
      "Propagating libby:  92%|█████████▏| 44/48 [00:11<00:01,  3.67it/s]"
     ]
    },
    {
     "name": "stdout",
     "output_type": "stream",
     "text": [
      "Skipping frame 43 - Global MAD: 0.1405, Masked MAD: 0.2108 (threshold: 0.05)\n"
     ]
    },
    {
     "name": "stderr",
     "output_type": "stream",
     "text": [
      "Propagating libby:  94%|█████████▍| 45/48 [00:12<00:00,  3.67it/s]"
     ]
    },
    {
     "name": "stdout",
     "output_type": "stream",
     "text": [
      "Skipping frame 44 - Global MAD: 0.1393, Masked MAD: 0.2143 (threshold: 0.05)\n"
     ]
    },
    {
     "name": "stderr",
     "output_type": "stream",
     "text": [
      "Propagating libby:  96%|█████████▌| 46/48 [00:12<00:00,  3.67it/s]"
     ]
    },
    {
     "name": "stdout",
     "output_type": "stream",
     "text": [
      "Skipping frame 45 - Global MAD: 0.1389, Masked MAD: 0.2046 (threshold: 0.05)\n"
     ]
    },
    {
     "name": "stderr",
     "output_type": "stream",
     "text": [
      "Propagating libby:  98%|█████████▊| 47/48 [00:12<00:00,  3.68it/s]"
     ]
    },
    {
     "name": "stdout",
     "output_type": "stream",
     "text": [
      "Skipping frame 46 - Global MAD: 0.1381, Masked MAD: 0.1959 (threshold: 0.05)\n"
     ]
    },
    {
     "name": "stderr",
     "output_type": "stream",
     "text": [
      "Propagating libby: 100%|██████████| 48/48 [00:12<00:00,  3.67it/s]"
     ]
    },
    {
     "name": "stdout",
     "output_type": "stream",
     "text": [
      "Skipping frame 47 - Global MAD: 0.1374, Masked MAD: 0.1766 (threshold: 0.05)\n"
     ]
    },
    {
     "name": "stderr",
     "output_type": "stream",
     "text": [
      "propagate in video: 100%|██████████| 49/49 [00:13<00:00,  3.73it/s]\n",
      "Propagating libby: 49it [00:13,  3.73it/s]\n"
     ]
    },
    {
     "name": "stdout",
     "output_type": "stream",
     "text": [
      "Skipping frame 48 - Global MAD: 0.1389, Masked MAD: 0.1866 (threshold: 0.05)\n",
      "Skipped 48 frames due to low MAD.\n",
      "→ Saved all predicted masks for libby in data/DAVIS2017_mgfs_naive/libby\n",
      "\n",
      "=== Processing sequence: loading ===\n"
     ]
    },
    {
     "name": "stderr",
     "output_type": "stream",
     "text": [
      "frame loading (JPEG): 100%|██████████| 50/50 [00:00<00:00, 50.60it/s]\n"
     ]
    },
    {
     "name": "stdout",
     "output_type": "stream",
     "text": [
      "Found 3 unique non‐black colors in loading/00000.png\n"
     ]
    },
    {
     "name": "stderr",
     "output_type": "stream",
     "text": [
      "Propagating loading:   4%|▍         | 2/49 [00:00<00:07,  6.49it/s]"
     ]
    },
    {
     "name": "stdout",
     "output_type": "stream",
     "text": [
      "Skipping frame 1 - Global MAD: 0.0352, Masked MAD: 0.0383 (threshold: 0.05)\n"
     ]
    },
    {
     "name": "stderr",
     "output_type": "stream",
     "text": [
      "Propagating loading:   6%|▌         | 3/49 [00:00<00:09,  4.79it/s]"
     ]
    },
    {
     "name": "stdout",
     "output_type": "stream",
     "text": [
      "Skipping frame 2 - Global MAD: 0.0590, Masked MAD: 0.0542 (threshold: 0.05)\n"
     ]
    },
    {
     "name": "stderr",
     "output_type": "stream",
     "text": [
      "Propagating loading:   8%|▊         | 4/49 [00:00<00:10,  4.23it/s]"
     ]
    },
    {
     "name": "stdout",
     "output_type": "stream",
     "text": [
      "Skipping frame 3 - Global MAD: 0.1122, Masked MAD: 0.0660 (threshold: 0.05)\n"
     ]
    },
    {
     "name": "stderr",
     "output_type": "stream",
     "text": [
      "Propagating loading:  10%|█         | 5/49 [00:01<00:11,  3.95it/s]"
     ]
    },
    {
     "name": "stdout",
     "output_type": "stream",
     "text": [
      "Skipping frame 4 - Global MAD: 0.1635, Masked MAD: 0.0869 (threshold: 0.05)\n"
     ]
    },
    {
     "name": "stderr",
     "output_type": "stream",
     "text": [
      "Propagating loading:  12%|█▏        | 6/49 [00:01<00:11,  3.79it/s]"
     ]
    },
    {
     "name": "stdout",
     "output_type": "stream",
     "text": [
      "Skipping frame 5 - Global MAD: 0.1930, Masked MAD: 0.1152 (threshold: 0.05)\n"
     ]
    },
    {
     "name": "stderr",
     "output_type": "stream",
     "text": [
      "Propagating loading:  14%|█▍        | 7/49 [00:01<00:11,  3.70it/s]"
     ]
    },
    {
     "name": "stdout",
     "output_type": "stream",
     "text": [
      "Skipping frame 6 - Global MAD: 0.2113, Masked MAD: 0.1402 (threshold: 0.05)\n"
     ]
    },
    {
     "name": "stderr",
     "output_type": "stream",
     "text": [
      "Propagating loading:  16%|█▋        | 8/49 [00:02<00:11,  3.65it/s]"
     ]
    },
    {
     "name": "stdout",
     "output_type": "stream",
     "text": [
      "Skipping frame 7 - Global MAD: 0.2253, Masked MAD: 0.1545 (threshold: 0.05)\n"
     ]
    },
    {
     "name": "stderr",
     "output_type": "stream",
     "text": [
      "Propagating loading:  18%|█▊        | 9/49 [00:02<00:11,  3.61it/s]"
     ]
    },
    {
     "name": "stdout",
     "output_type": "stream",
     "text": [
      "Skipping frame 8 - Global MAD: 0.2354, Masked MAD: 0.1618 (threshold: 0.05)\n"
     ]
    },
    {
     "name": "stderr",
     "output_type": "stream",
     "text": [
      "Propagating loading:  20%|██        | 10/49 [00:02<00:10,  3.59it/s]"
     ]
    },
    {
     "name": "stdout",
     "output_type": "stream",
     "text": [
      "Skipping frame 9 - Global MAD: 0.2412, Masked MAD: 0.1702 (threshold: 0.05)\n"
     ]
    },
    {
     "name": "stderr",
     "output_type": "stream",
     "text": [
      "Propagating loading:  22%|██▏       | 11/49 [00:02<00:10,  3.56it/s]"
     ]
    },
    {
     "name": "stdout",
     "output_type": "stream",
     "text": [
      "Skipping frame 10 - Global MAD: 0.2434, Masked MAD: 0.1777 (threshold: 0.05)\n"
     ]
    },
    {
     "name": "stderr",
     "output_type": "stream",
     "text": [
      "Propagating loading:  24%|██▍       | 12/49 [00:03<00:10,  3.56it/s]"
     ]
    },
    {
     "name": "stdout",
     "output_type": "stream",
     "text": [
      "Skipping frame 11 - Global MAD: 0.2468, Masked MAD: 0.1851 (threshold: 0.05)\n"
     ]
    },
    {
     "name": "stderr",
     "output_type": "stream",
     "text": [
      "Propagating loading:  27%|██▋       | 13/49 [00:03<00:10,  3.54it/s]"
     ]
    },
    {
     "name": "stdout",
     "output_type": "stream",
     "text": [
      "Skipping frame 12 - Global MAD: 0.2511, Masked MAD: 0.1928 (threshold: 0.05)\n"
     ]
    },
    {
     "name": "stderr",
     "output_type": "stream",
     "text": [
      "Propagating loading:  29%|██▊       | 14/49 [00:03<00:09,  3.53it/s]"
     ]
    },
    {
     "name": "stdout",
     "output_type": "stream",
     "text": [
      "Skipping frame 13 - Global MAD: 0.2531, Masked MAD: 0.1989 (threshold: 0.05)\n"
     ]
    },
    {
     "name": "stderr",
     "output_type": "stream",
     "text": [
      "Propagating loading:  31%|███       | 15/49 [00:03<00:09,  3.53it/s]"
     ]
    },
    {
     "name": "stdout",
     "output_type": "stream",
     "text": [
      "Skipping frame 14 - Global MAD: 0.2563, Masked MAD: 0.2080 (threshold: 0.05)\n"
     ]
    },
    {
     "name": "stderr",
     "output_type": "stream",
     "text": [
      "Propagating loading:  33%|███▎      | 16/49 [00:04<00:09,  3.53it/s]"
     ]
    },
    {
     "name": "stdout",
     "output_type": "stream",
     "text": [
      "Skipping frame 15 - Global MAD: 0.2620, Masked MAD: 0.2177 (threshold: 0.05)\n"
     ]
    },
    {
     "name": "stderr",
     "output_type": "stream",
     "text": [
      "Propagating loading:  35%|███▍      | 17/49 [00:04<00:09,  3.53it/s]"
     ]
    },
    {
     "name": "stdout",
     "output_type": "stream",
     "text": [
      "Skipping frame 16 - Global MAD: 0.2669, Masked MAD: 0.2250 (threshold: 0.05)\n"
     ]
    },
    {
     "name": "stderr",
     "output_type": "stream",
     "text": [
      "Propagating loading:  37%|███▋      | 18/49 [00:04<00:08,  3.52it/s]"
     ]
    },
    {
     "name": "stdout",
     "output_type": "stream",
     "text": [
      "Skipping frame 17 - Global MAD: 0.2710, Masked MAD: 0.2310 (threshold: 0.05)\n"
     ]
    },
    {
     "name": "stderr",
     "output_type": "stream",
     "text": [
      "Propagating loading:  39%|███▉      | 19/49 [00:05<00:08,  3.52it/s]"
     ]
    },
    {
     "name": "stdout",
     "output_type": "stream",
     "text": [
      "Skipping frame 18 - Global MAD: 0.2723, Masked MAD: 0.2368 (threshold: 0.05)\n"
     ]
    },
    {
     "name": "stderr",
     "output_type": "stream",
     "text": [
      "Propagating loading:  41%|████      | 20/49 [00:05<00:08,  3.51it/s]"
     ]
    },
    {
     "name": "stdout",
     "output_type": "stream",
     "text": [
      "Skipping frame 19 - Global MAD: 0.2734, Masked MAD: 0.2443 (threshold: 0.05)\n"
     ]
    },
    {
     "name": "stderr",
     "output_type": "stream",
     "text": [
      "Propagating loading:  43%|████▎     | 21/49 [00:05<00:07,  3.51it/s]"
     ]
    },
    {
     "name": "stdout",
     "output_type": "stream",
     "text": [
      "Skipping frame 20 - Global MAD: 0.2719, Masked MAD: 0.2440 (threshold: 0.05)\n"
     ]
    },
    {
     "name": "stderr",
     "output_type": "stream",
     "text": [
      "Propagating loading:  45%|████▍     | 22/49 [00:05<00:07,  3.51it/s]"
     ]
    },
    {
     "name": "stdout",
     "output_type": "stream",
     "text": [
      "Skipping frame 21 - Global MAD: 0.2721, Masked MAD: 0.2446 (threshold: 0.05)\n"
     ]
    },
    {
     "name": "stderr",
     "output_type": "stream",
     "text": [
      "Propagating loading:  47%|████▋     | 23/49 [00:06<00:07,  3.51it/s]"
     ]
    },
    {
     "name": "stdout",
     "output_type": "stream",
     "text": [
      "Skipping frame 22 - Global MAD: 0.2718, Masked MAD: 0.2425 (threshold: 0.05)\n"
     ]
    },
    {
     "name": "stderr",
     "output_type": "stream",
     "text": [
      "Propagating loading:  49%|████▉     | 24/49 [00:06<00:07,  3.50it/s]"
     ]
    },
    {
     "name": "stdout",
     "output_type": "stream",
     "text": [
      "Skipping frame 23 - Global MAD: 0.2714, Masked MAD: 0.2397 (threshold: 0.05)\n"
     ]
    },
    {
     "name": "stderr",
     "output_type": "stream",
     "text": [
      "Propagating loading:  51%|█████     | 25/49 [00:06<00:06,  3.50it/s]"
     ]
    },
    {
     "name": "stdout",
     "output_type": "stream",
     "text": [
      "Skipping frame 24 - Global MAD: 0.2706, Masked MAD: 0.2366 (threshold: 0.05)\n"
     ]
    },
    {
     "name": "stderr",
     "output_type": "stream",
     "text": [
      "Propagating loading:  53%|█████▎    | 26/49 [00:07<00:06,  3.51it/s]"
     ]
    },
    {
     "name": "stdout",
     "output_type": "stream",
     "text": [
      "Skipping frame 25 - Global MAD: 0.2697, Masked MAD: 0.2316 (threshold: 0.05)\n"
     ]
    },
    {
     "name": "stderr",
     "output_type": "stream",
     "text": [
      "Propagating loading:  55%|█████▌    | 27/49 [00:07<00:06,  3.51it/s]"
     ]
    },
    {
     "name": "stdout",
     "output_type": "stream",
     "text": [
      "Skipping frame 26 - Global MAD: 0.2689, Masked MAD: 0.2249 (threshold: 0.05)\n"
     ]
    },
    {
     "name": "stderr",
     "output_type": "stream",
     "text": [
      "Propagating loading:  57%|█████▋    | 28/49 [00:07<00:05,  3.51it/s]"
     ]
    },
    {
     "name": "stdout",
     "output_type": "stream",
     "text": [
      "Skipping frame 27 - Global MAD: 0.2676, Masked MAD: 0.2169 (threshold: 0.05)\n"
     ]
    },
    {
     "name": "stderr",
     "output_type": "stream",
     "text": [
      "Propagating loading:  59%|█████▉    | 29/49 [00:07<00:05,  3.51it/s]"
     ]
    },
    {
     "name": "stdout",
     "output_type": "stream",
     "text": [
      "Skipping frame 28 - Global MAD: 0.2666, Masked MAD: 0.2105 (threshold: 0.05)\n"
     ]
    },
    {
     "name": "stderr",
     "output_type": "stream",
     "text": [
      "Propagating loading:  61%|██████    | 30/49 [00:08<00:05,  3.50it/s]"
     ]
    },
    {
     "name": "stdout",
     "output_type": "stream",
     "text": [
      "Skipping frame 29 - Global MAD: 0.2660, Masked MAD: 0.2047 (threshold: 0.05)\n"
     ]
    },
    {
     "name": "stderr",
     "output_type": "stream",
     "text": [
      "Propagating loading:  63%|██████▎   | 31/49 [00:08<00:05,  3.51it/s]"
     ]
    },
    {
     "name": "stdout",
     "output_type": "stream",
     "text": [
      "Skipping frame 30 - Global MAD: 0.2651, Masked MAD: 0.1992 (threshold: 0.05)\n",
      "Avg FPS last 30 frames: 3.52\n"
     ]
    },
    {
     "name": "stderr",
     "output_type": "stream",
     "text": [
      "Propagating loading:  65%|██████▌   | 32/49 [00:08<00:04,  3.50it/s]"
     ]
    },
    {
     "name": "stdout",
     "output_type": "stream",
     "text": [
      "Skipping frame 31 - Global MAD: 0.2622, Masked MAD: 0.1931 (threshold: 0.05)\n"
     ]
    },
    {
     "name": "stderr",
     "output_type": "stream",
     "text": [
      "Propagating loading:  67%|██████▋   | 33/49 [00:09<00:04,  3.46it/s]"
     ]
    },
    {
     "name": "stdout",
     "output_type": "stream",
     "text": [
      "Skipping frame 32 - Global MAD: 0.2603, Masked MAD: 0.1852 (threshold: 0.05)\n"
     ]
    },
    {
     "name": "stderr",
     "output_type": "stream",
     "text": [
      "Propagating loading:  69%|██████▉   | 34/49 [00:09<00:04,  3.47it/s]"
     ]
    },
    {
     "name": "stdout",
     "output_type": "stream",
     "text": [
      "Skipping frame 33 - Global MAD: 0.2587, Masked MAD: 0.1782 (threshold: 0.05)\n"
     ]
    },
    {
     "name": "stderr",
     "output_type": "stream",
     "text": [
      "Propagating loading:  71%|███████▏  | 35/49 [00:09<00:04,  3.49it/s]"
     ]
    },
    {
     "name": "stdout",
     "output_type": "stream",
     "text": [
      "Skipping frame 34 - Global MAD: 0.2583, Masked MAD: 0.1741 (threshold: 0.05)\n"
     ]
    },
    {
     "name": "stderr",
     "output_type": "stream",
     "text": [
      "Propagating loading:  73%|███████▎  | 36/49 [00:09<00:03,  3.49it/s]"
     ]
    },
    {
     "name": "stdout",
     "output_type": "stream",
     "text": [
      "Skipping frame 35 - Global MAD: 0.2582, Masked MAD: 0.1729 (threshold: 0.05)\n"
     ]
    },
    {
     "name": "stderr",
     "output_type": "stream",
     "text": [
      "Propagating loading:  76%|███████▌  | 37/49 [00:10<00:03,  3.50it/s]"
     ]
    },
    {
     "name": "stdout",
     "output_type": "stream",
     "text": [
      "Skipping frame 36 - Global MAD: 0.2593, Masked MAD: 0.1731 (threshold: 0.05)\n"
     ]
    },
    {
     "name": "stderr",
     "output_type": "stream",
     "text": [
      "Propagating loading:  78%|███████▊  | 38/49 [00:10<00:03,  3.52it/s]"
     ]
    },
    {
     "name": "stdout",
     "output_type": "stream",
     "text": [
      "Skipping frame 37 - Global MAD: 0.2583, Masked MAD: 0.1704 (threshold: 0.05)\n"
     ]
    },
    {
     "name": "stderr",
     "output_type": "stream",
     "text": [
      "Propagating loading:  80%|███████▉  | 39/49 [00:10<00:02,  3.52it/s]"
     ]
    },
    {
     "name": "stdout",
     "output_type": "stream",
     "text": [
      "Skipping frame 38 - Global MAD: 0.2588, Masked MAD: 0.1737 (threshold: 0.05)\n"
     ]
    },
    {
     "name": "stderr",
     "output_type": "stream",
     "text": [
      "Propagating loading:  82%|████████▏ | 40/49 [00:11<00:02,  3.53it/s]"
     ]
    },
    {
     "name": "stdout",
     "output_type": "stream",
     "text": [
      "Skipping frame 39 - Global MAD: 0.2583, Masked MAD: 0.1775 (threshold: 0.05)\n"
     ]
    },
    {
     "name": "stderr",
     "output_type": "stream",
     "text": [
      "Propagating loading:  84%|████████▎ | 41/49 [00:11<00:02,  3.53it/s]"
     ]
    },
    {
     "name": "stdout",
     "output_type": "stream",
     "text": [
      "Skipping frame 40 - Global MAD: 0.2604, Masked MAD: 0.1863 (threshold: 0.05)\n"
     ]
    },
    {
     "name": "stderr",
     "output_type": "stream",
     "text": [
      "Propagating loading:  86%|████████▌ | 42/49 [00:11<00:01,  3.54it/s]"
     ]
    },
    {
     "name": "stdout",
     "output_type": "stream",
     "text": [
      "Skipping frame 41 - Global MAD: 0.2627, Masked MAD: 0.1974 (threshold: 0.05)\n"
     ]
    },
    {
     "name": "stderr",
     "output_type": "stream",
     "text": [
      "Propagating loading:  88%|████████▊ | 43/49 [00:11<00:01,  3.51it/s]"
     ]
    },
    {
     "name": "stdout",
     "output_type": "stream",
     "text": [
      "Skipping frame 42 - Global MAD: 0.2648, Masked MAD: 0.2083 (threshold: 0.05)\n"
     ]
    },
    {
     "name": "stderr",
     "output_type": "stream",
     "text": [
      "Propagating loading:  90%|████████▉ | 44/49 [00:12<00:01,  3.52it/s]"
     ]
    },
    {
     "name": "stdout",
     "output_type": "stream",
     "text": [
      "Skipping frame 43 - Global MAD: 0.2646, Masked MAD: 0.2118 (threshold: 0.05)\n"
     ]
    },
    {
     "name": "stderr",
     "output_type": "stream",
     "text": [
      "Propagating loading:  92%|█████████▏| 45/49 [00:12<00:01,  3.52it/s]"
     ]
    },
    {
     "name": "stdout",
     "output_type": "stream",
     "text": [
      "Skipping frame 44 - Global MAD: 0.2632, Masked MAD: 0.2115 (threshold: 0.05)\n"
     ]
    },
    {
     "name": "stderr",
     "output_type": "stream",
     "text": [
      "Propagating loading:  94%|█████████▍| 46/49 [00:12<00:00,  3.52it/s]"
     ]
    },
    {
     "name": "stdout",
     "output_type": "stream",
     "text": [
      "Skipping frame 45 - Global MAD: 0.2647, Masked MAD: 0.2188 (threshold: 0.05)\n"
     ]
    },
    {
     "name": "stderr",
     "output_type": "stream",
     "text": [
      "Propagating loading:  96%|█████████▌| 47/49 [00:13<00:00,  3.52it/s]"
     ]
    },
    {
     "name": "stdout",
     "output_type": "stream",
     "text": [
      "Skipping frame 46 - Global MAD: 0.2652, Masked MAD: 0.2216 (threshold: 0.05)\n"
     ]
    },
    {
     "name": "stderr",
     "output_type": "stream",
     "text": [
      "Propagating loading:  98%|█████████▊| 48/49 [00:13<00:00,  3.52it/s]"
     ]
    },
    {
     "name": "stdout",
     "output_type": "stream",
     "text": [
      "Skipping frame 47 - Global MAD: 0.2648, Masked MAD: 0.2221 (threshold: 0.05)\n"
     ]
    },
    {
     "name": "stderr",
     "output_type": "stream",
     "text": [
      "Propagating loading: 100%|██████████| 49/49 [00:13<00:00,  3.53it/s]"
     ]
    },
    {
     "name": "stdout",
     "output_type": "stream",
     "text": [
      "Skipping frame 48 - Global MAD: 0.2628, Masked MAD: 0.2204 (threshold: 0.05)\n"
     ]
    },
    {
     "name": "stderr",
     "output_type": "stream",
     "text": [
      "propagate in video: 100%|██████████| 50/50 [00:13<00:00,  3.58it/s] \n",
      "Propagating loading: 50it [00:13,  3.58it/s]\n"
     ]
    },
    {
     "name": "stdout",
     "output_type": "stream",
     "text": [
      "Skipping frame 49 - Global MAD: 0.2625, Masked MAD: 0.2221 (threshold: 0.05)\n",
      "Skipped 49 frames due to low MAD.\n",
      "→ Saved all predicted masks for loading in data/DAVIS2017_mgfs_naive/loading\n",
      "\n",
      "=== Processing sequence: mbike-trick ===\n"
     ]
    },
    {
     "name": "stderr",
     "output_type": "stream",
     "text": [
      "frame loading (JPEG): 100%|██████████| 79/79 [00:01<00:00, 50.57it/s]\n"
     ]
    },
    {
     "name": "stdout",
     "output_type": "stream",
     "text": [
      "Found 2 unique non‐black colors in mbike-trick/00000.png\n"
     ]
    },
    {
     "name": "stderr",
     "output_type": "stream",
     "text": [
      "Propagating mbike-trick:   3%|▎         | 2/78 [00:00<00:10,  6.91it/s]"
     ]
    },
    {
     "name": "stdout",
     "output_type": "stream",
     "text": [
      "Skipping frame 1 - Global MAD: 0.0212, Masked MAD: 0.1023 (threshold: 0.05)\n"
     ]
    },
    {
     "name": "stderr",
     "output_type": "stream",
     "text": [
      "Propagating mbike-trick:   4%|▍         | 3/78 [00:00<00:14,  5.05it/s]"
     ]
    },
    {
     "name": "stdout",
     "output_type": "stream",
     "text": [
      "Skipping frame 2 - Global MAD: 0.0303, Masked MAD: 0.1452 (threshold: 0.05)\n"
     ]
    },
    {
     "name": "stderr",
     "output_type": "stream",
     "text": [
      "Propagating mbike-trick:   5%|▌         | 4/78 [00:00<00:16,  4.43it/s]"
     ]
    },
    {
     "name": "stdout",
     "output_type": "stream",
     "text": [
      "Skipping frame 3 - Global MAD: 0.0387, Masked MAD: 0.1768 (threshold: 0.05)\n"
     ]
    },
    {
     "name": "stderr",
     "output_type": "stream",
     "text": [
      "Propagating mbike-trick:   6%|▋         | 5/78 [00:01<00:17,  4.13it/s]"
     ]
    },
    {
     "name": "stdout",
     "output_type": "stream",
     "text": [
      "Skipping frame 4 - Global MAD: 0.0421, Masked MAD: 0.2049 (threshold: 0.05)\n"
     ]
    },
    {
     "name": "stderr",
     "output_type": "stream",
     "text": [
      "Propagating mbike-trick:   8%|▊         | 6/78 [00:01<00:18,  3.96it/s]"
     ]
    },
    {
     "name": "stdout",
     "output_type": "stream",
     "text": [
      "Skipping frame 5 - Global MAD: 0.0457, Masked MAD: 0.2117 (threshold: 0.05)\n"
     ]
    },
    {
     "name": "stderr",
     "output_type": "stream",
     "text": [
      "Propagating mbike-trick:   9%|▉         | 7/78 [00:01<00:18,  3.84it/s]"
     ]
    },
    {
     "name": "stdout",
     "output_type": "stream",
     "text": [
      "Skipping frame 6 - Global MAD: 0.0452, Masked MAD: 0.2222 (threshold: 0.05)\n"
     ]
    },
    {
     "name": "stderr",
     "output_type": "stream",
     "text": [
      "Propagating mbike-trick:  10%|█         | 8/78 [00:01<00:18,  3.78it/s]"
     ]
    },
    {
     "name": "stdout",
     "output_type": "stream",
     "text": [
      "Skipping frame 7 - Global MAD: 0.0489, Masked MAD: 0.2295 (threshold: 0.05)\n"
     ]
    },
    {
     "name": "stderr",
     "output_type": "stream",
     "text": [
      "Propagating mbike-trick:  12%|█▏        | 9/78 [00:02<00:18,  3.73it/s]"
     ]
    },
    {
     "name": "stdout",
     "output_type": "stream",
     "text": [
      "Skipping frame 8 - Global MAD: 0.0462, Masked MAD: 0.2541 (threshold: 0.05)\n"
     ]
    },
    {
     "name": "stderr",
     "output_type": "stream",
     "text": [
      "Propagating mbike-trick:  13%|█▎        | 10/78 [00:02<00:18,  3.68it/s]"
     ]
    },
    {
     "name": "stdout",
     "output_type": "stream",
     "text": [
      "Skipping frame 9 - Global MAD: 0.0455, Masked MAD: 0.2648 (threshold: 0.05)\n"
     ]
    },
    {
     "name": "stderr",
     "output_type": "stream",
     "text": [
      "Propagating mbike-trick:  14%|█▍        | 11/78 [00:02<00:18,  3.68it/s]"
     ]
    },
    {
     "name": "stdout",
     "output_type": "stream",
     "text": [
      "Skipping frame 10 - Global MAD: 0.0477, Masked MAD: 0.2759 (threshold: 0.05)\n"
     ]
    },
    {
     "name": "stderr",
     "output_type": "stream",
     "text": [
      "Propagating mbike-trick:  15%|█▌        | 12/78 [00:03<00:17,  3.67it/s]"
     ]
    },
    {
     "name": "stdout",
     "output_type": "stream",
     "text": [
      "Skipping frame 11 - Global MAD: 0.0476, Masked MAD: 0.2817 (threshold: 0.05)\n"
     ]
    },
    {
     "name": "stderr",
     "output_type": "stream",
     "text": [
      "Propagating mbike-trick:  17%|█▋        | 13/78 [00:03<00:17,  3.66it/s]"
     ]
    },
    {
     "name": "stdout",
     "output_type": "stream",
     "text": [
      "Skipping frame 12 - Global MAD: 0.0459, Masked MAD: 0.2852 (threshold: 0.05)\n"
     ]
    },
    {
     "name": "stderr",
     "output_type": "stream",
     "text": [
      "Propagating mbike-trick:  18%|█▊        | 14/78 [00:03<00:17,  3.65it/s]"
     ]
    },
    {
     "name": "stdout",
     "output_type": "stream",
     "text": [
      "Skipping frame 13 - Global MAD: 0.0414, Masked MAD: 0.2901 (threshold: 0.05)\n"
     ]
    },
    {
     "name": "stderr",
     "output_type": "stream",
     "text": [
      "Propagating mbike-trick:  19%|█▉        | 15/78 [00:03<00:17,  3.61it/s]"
     ]
    },
    {
     "name": "stdout",
     "output_type": "stream",
     "text": [
      "Skipping frame 14 - Global MAD: 0.0445, Masked MAD: 0.3068 (threshold: 0.05)\n"
     ]
    },
    {
     "name": "stderr",
     "output_type": "stream",
     "text": [
      "Propagating mbike-trick:  21%|██        | 16/78 [00:04<00:17,  3.62it/s]"
     ]
    },
    {
     "name": "stdout",
     "output_type": "stream",
     "text": [
      "Skipping frame 15 - Global MAD: 0.0479, Masked MAD: 0.3152 (threshold: 0.05)\n"
     ]
    },
    {
     "name": "stderr",
     "output_type": "stream",
     "text": [
      "Propagating mbike-trick:  22%|██▏       | 17/78 [00:04<00:16,  3.63it/s]"
     ]
    },
    {
     "name": "stdout",
     "output_type": "stream",
     "text": [
      "Skipping frame 16 - Global MAD: 0.0503, Masked MAD: 0.3219 (threshold: 0.05)\n"
     ]
    },
    {
     "name": "stderr",
     "output_type": "stream",
     "text": [
      "Propagating mbike-trick:  23%|██▎       | 18/78 [00:04<00:16,  3.64it/s]"
     ]
    },
    {
     "name": "stdout",
     "output_type": "stream",
     "text": [
      "Skipping frame 17 - Global MAD: 0.0505, Masked MAD: 0.3219 (threshold: 0.05)\n"
     ]
    },
    {
     "name": "stderr",
     "output_type": "stream",
     "text": [
      "Propagating mbike-trick:  24%|██▍       | 19/78 [00:04<00:16,  3.64it/s]"
     ]
    },
    {
     "name": "stdout",
     "output_type": "stream",
     "text": [
      "Skipping frame 18 - Global MAD: 0.0559, Masked MAD: 0.3238 (threshold: 0.05)\n"
     ]
    },
    {
     "name": "stderr",
     "output_type": "stream",
     "text": [
      "Propagating mbike-trick:  26%|██▌       | 20/78 [00:05<00:15,  3.64it/s]"
     ]
    },
    {
     "name": "stdout",
     "output_type": "stream",
     "text": [
      "Skipping frame 19 - Global MAD: 0.0518, Masked MAD: 0.3300 (threshold: 0.05)\n"
     ]
    },
    {
     "name": "stderr",
     "output_type": "stream",
     "text": [
      "Propagating mbike-trick:  27%|██▋       | 21/78 [00:05<00:15,  3.64it/s]"
     ]
    },
    {
     "name": "stdout",
     "output_type": "stream",
     "text": [
      "Skipping frame 20 - Global MAD: 0.0532, Masked MAD: 0.3426 (threshold: 0.05)\n"
     ]
    },
    {
     "name": "stderr",
     "output_type": "stream",
     "text": [
      "Propagating mbike-trick:  28%|██▊       | 22/78 [00:05<00:15,  3.65it/s]"
     ]
    },
    {
     "name": "stdout",
     "output_type": "stream",
     "text": [
      "Skipping frame 21 - Global MAD: 0.0542, Masked MAD: 0.3514 (threshold: 0.05)\n"
     ]
    },
    {
     "name": "stderr",
     "output_type": "stream",
     "text": [
      "Propagating mbike-trick:  29%|██▉       | 23/78 [00:06<00:15,  3.64it/s]"
     ]
    },
    {
     "name": "stdout",
     "output_type": "stream",
     "text": [
      "Skipping frame 22 - Global MAD: 0.0565, Masked MAD: 0.3588 (threshold: 0.05)\n"
     ]
    },
    {
     "name": "stderr",
     "output_type": "stream",
     "text": [
      "Propagating mbike-trick:  31%|███       | 24/78 [00:06<00:14,  3.65it/s]"
     ]
    },
    {
     "name": "stdout",
     "output_type": "stream",
     "text": [
      "Skipping frame 23 - Global MAD: 0.0564, Masked MAD: 0.3623 (threshold: 0.05)\n"
     ]
    },
    {
     "name": "stderr",
     "output_type": "stream",
     "text": [
      "Propagating mbike-trick:  32%|███▏      | 25/78 [00:06<00:14,  3.63it/s]"
     ]
    },
    {
     "name": "stdout",
     "output_type": "stream",
     "text": [
      "Skipping frame 24 - Global MAD: 0.0575, Masked MAD: 0.3648 (threshold: 0.05)\n"
     ]
    },
    {
     "name": "stderr",
     "output_type": "stream",
     "text": [
      "Propagating mbike-trick:  33%|███▎      | 26/78 [00:06<00:14,  3.63it/s]"
     ]
    },
    {
     "name": "stdout",
     "output_type": "stream",
     "text": [
      "Skipping frame 25 - Global MAD: 0.0597, Masked MAD: 0.3658 (threshold: 0.05)\n"
     ]
    },
    {
     "name": "stderr",
     "output_type": "stream",
     "text": [
      "Propagating mbike-trick:  35%|███▍      | 27/78 [00:07<00:14,  3.63it/s]"
     ]
    },
    {
     "name": "stdout",
     "output_type": "stream",
     "text": [
      "Skipping frame 26 - Global MAD: 0.0582, Masked MAD: 0.3635 (threshold: 0.05)\n"
     ]
    },
    {
     "name": "stderr",
     "output_type": "stream",
     "text": [
      "Propagating mbike-trick:  36%|███▌      | 28/78 [00:07<00:13,  3.63it/s]"
     ]
    },
    {
     "name": "stdout",
     "output_type": "stream",
     "text": [
      "Skipping frame 27 - Global MAD: 0.0594, Masked MAD: 0.3617 (threshold: 0.05)\n"
     ]
    },
    {
     "name": "stderr",
     "output_type": "stream",
     "text": [
      "Propagating mbike-trick:  37%|███▋      | 29/78 [00:07<00:13,  3.63it/s]"
     ]
    },
    {
     "name": "stdout",
     "output_type": "stream",
     "text": [
      "Skipping frame 28 - Global MAD: 0.0648, Masked MAD: 0.3602 (threshold: 0.05)\n"
     ]
    },
    {
     "name": "stderr",
     "output_type": "stream",
     "text": [
      "Propagating mbike-trick:  38%|███▊      | 30/78 [00:07<00:13,  3.64it/s]"
     ]
    },
    {
     "name": "stdout",
     "output_type": "stream",
     "text": [
      "Skipping frame 29 - Global MAD: 0.0696, Masked MAD: 0.3570 (threshold: 0.05)\n"
     ]
    },
    {
     "name": "stderr",
     "output_type": "stream",
     "text": [
      "Propagating mbike-trick:  40%|███▉      | 31/78 [00:08<00:12,  3.63it/s]"
     ]
    },
    {
     "name": "stdout",
     "output_type": "stream",
     "text": [
      "Skipping frame 30 - Global MAD: 0.0725, Masked MAD: 0.3551 (threshold: 0.05)\n",
      "Avg FPS last 30 frames: 3.64\n"
     ]
    },
    {
     "name": "stderr",
     "output_type": "stream",
     "text": [
      "Propagating mbike-trick:  41%|████      | 32/78 [00:08<00:12,  3.64it/s]"
     ]
    },
    {
     "name": "stdout",
     "output_type": "stream",
     "text": [
      "Skipping frame 31 - Global MAD: 0.0729, Masked MAD: 0.3530 (threshold: 0.05)\n"
     ]
    },
    {
     "name": "stderr",
     "output_type": "stream",
     "text": [
      "Propagating mbike-trick:  42%|████▏     | 33/78 [00:08<00:12,  3.63it/s]"
     ]
    },
    {
     "name": "stdout",
     "output_type": "stream",
     "text": [
      "Skipping frame 32 - Global MAD: 0.0730, Masked MAD: 0.3516 (threshold: 0.05)\n"
     ]
    },
    {
     "name": "stderr",
     "output_type": "stream",
     "text": [
      "Propagating mbike-trick:  44%|████▎     | 34/78 [00:09<00:12,  3.63it/s]"
     ]
    },
    {
     "name": "stdout",
     "output_type": "stream",
     "text": [
      "Skipping frame 33 - Global MAD: 0.0723, Masked MAD: 0.3510 (threshold: 0.05)\n"
     ]
    },
    {
     "name": "stderr",
     "output_type": "stream",
     "text": [
      "Propagating mbike-trick:  45%|████▍     | 35/78 [00:09<00:11,  3.62it/s]"
     ]
    },
    {
     "name": "stdout",
     "output_type": "stream",
     "text": [
      "Skipping frame 34 - Global MAD: 0.0735, Masked MAD: 0.3495 (threshold: 0.05)\n"
     ]
    },
    {
     "name": "stderr",
     "output_type": "stream",
     "text": [
      "Propagating mbike-trick:  46%|████▌     | 36/78 [00:09<00:11,  3.62it/s]"
     ]
    },
    {
     "name": "stdout",
     "output_type": "stream",
     "text": [
      "Skipping frame 35 - Global MAD: 0.0772, Masked MAD: 0.3404 (threshold: 0.05)\n"
     ]
    },
    {
     "name": "stderr",
     "output_type": "stream",
     "text": [
      "Propagating mbike-trick:  47%|████▋     | 37/78 [00:09<00:11,  3.62it/s]"
     ]
    },
    {
     "name": "stdout",
     "output_type": "stream",
     "text": [
      "Skipping frame 36 - Global MAD: 0.0756, Masked MAD: 0.3104 (threshold: 0.05)\n"
     ]
    },
    {
     "name": "stderr",
     "output_type": "stream",
     "text": [
      "Propagating mbike-trick:  49%|████▊     | 38/78 [00:10<00:11,  3.62it/s]"
     ]
    },
    {
     "name": "stdout",
     "output_type": "stream",
     "text": [
      "Skipping frame 37 - Global MAD: 0.0758, Masked MAD: 0.2877 (threshold: 0.05)\n"
     ]
    },
    {
     "name": "stderr",
     "output_type": "stream",
     "text": [
      "Propagating mbike-trick:  50%|█████     | 39/78 [00:10<00:10,  3.62it/s]"
     ]
    },
    {
     "name": "stdout",
     "output_type": "stream",
     "text": [
      "Skipping frame 38 - Global MAD: 0.0797, Masked MAD: 0.2786 (threshold: 0.05)\n"
     ]
    },
    {
     "name": "stderr",
     "output_type": "stream",
     "text": [
      "Propagating mbike-trick:  51%|█████▏    | 40/78 [00:10<00:10,  3.62it/s]"
     ]
    },
    {
     "name": "stdout",
     "output_type": "stream",
     "text": [
      "Skipping frame 39 - Global MAD: 0.0809, Masked MAD: 0.2597 (threshold: 0.05)\n"
     ]
    },
    {
     "name": "stderr",
     "output_type": "stream",
     "text": [
      "Propagating mbike-trick:  53%|█████▎    | 41/78 [00:11<00:10,  3.61it/s]"
     ]
    },
    {
     "name": "stdout",
     "output_type": "stream",
     "text": [
      "Skipping frame 40 - Global MAD: 0.0713, Masked MAD: 0.2467 (threshold: 0.05)\n"
     ]
    },
    {
     "name": "stderr",
     "output_type": "stream",
     "text": [
      "Propagating mbike-trick:  54%|█████▍    | 42/78 [00:11<00:09,  3.62it/s]"
     ]
    },
    {
     "name": "stdout",
     "output_type": "stream",
     "text": [
      "Skipping frame 41 - Global MAD: 0.0719, Masked MAD: 0.2354 (threshold: 0.05)\n"
     ]
    },
    {
     "name": "stderr",
     "output_type": "stream",
     "text": [
      "Propagating mbike-trick:  55%|█████▌    | 43/78 [00:11<00:09,  3.58it/s]"
     ]
    },
    {
     "name": "stdout",
     "output_type": "stream",
     "text": [
      "Skipping frame 42 - Global MAD: 0.0705, Masked MAD: 0.2191 (threshold: 0.05)\n"
     ]
    },
    {
     "name": "stderr",
     "output_type": "stream",
     "text": [
      "Propagating mbike-trick:  56%|█████▋    | 44/78 [00:11<00:09,  3.58it/s]"
     ]
    },
    {
     "name": "stdout",
     "output_type": "stream",
     "text": [
      "Skipping frame 43 - Global MAD: 0.0702, Masked MAD: 0.2114 (threshold: 0.05)\n"
     ]
    },
    {
     "name": "stderr",
     "output_type": "stream",
     "text": [
      "Propagating mbike-trick:  58%|█████▊    | 45/78 [00:12<00:09,  3.57it/s]"
     ]
    },
    {
     "name": "stdout",
     "output_type": "stream",
     "text": [
      "Skipping frame 44 - Global MAD: 0.0696, Masked MAD: 0.2030 (threshold: 0.05)\n"
     ]
    },
    {
     "name": "stderr",
     "output_type": "stream",
     "text": [
      "Propagating mbike-trick:  59%|█████▉    | 46/78 [00:12<00:08,  3.58it/s]"
     ]
    },
    {
     "name": "stdout",
     "output_type": "stream",
     "text": [
      "Skipping frame 45 - Global MAD: 0.0731, Masked MAD: 0.1873 (threshold: 0.05)\n"
     ]
    },
    {
     "name": "stderr",
     "output_type": "stream",
     "text": [
      "Propagating mbike-trick:  60%|██████    | 47/78 [00:12<00:08,  3.58it/s]"
     ]
    },
    {
     "name": "stdout",
     "output_type": "stream",
     "text": [
      "Skipping frame 46 - Global MAD: 0.0743, Masked MAD: 0.1871 (threshold: 0.05)\n"
     ]
    },
    {
     "name": "stderr",
     "output_type": "stream",
     "text": [
      "Propagating mbike-trick:  62%|██████▏   | 48/78 [00:12<00:08,  3.61it/s]"
     ]
    },
    {
     "name": "stdout",
     "output_type": "stream",
     "text": [
      "Skipping frame 47 - Global MAD: 0.0710, Masked MAD: 0.1917 (threshold: 0.05)\n"
     ]
    },
    {
     "name": "stderr",
     "output_type": "stream",
     "text": [
      "Propagating mbike-trick:  63%|██████▎   | 49/78 [00:13<00:07,  3.63it/s]"
     ]
    },
    {
     "name": "stdout",
     "output_type": "stream",
     "text": [
      "Skipping frame 48 - Global MAD: 0.0711, Masked MAD: 0.1984 (threshold: 0.05)\n"
     ]
    },
    {
     "name": "stderr",
     "output_type": "stream",
     "text": [
      "Propagating mbike-trick:  64%|██████▍   | 50/78 [00:13<00:07,  3.64it/s]"
     ]
    },
    {
     "name": "stdout",
     "output_type": "stream",
     "text": [
      "Skipping frame 49 - Global MAD: 0.0724, Masked MAD: 0.2160 (threshold: 0.05)\n"
     ]
    },
    {
     "name": "stderr",
     "output_type": "stream",
     "text": [
      "Propagating mbike-trick:  65%|██████▌   | 51/78 [00:13<00:07,  3.63it/s]"
     ]
    },
    {
     "name": "stdout",
     "output_type": "stream",
     "text": [
      "Skipping frame 50 - Global MAD: 0.0750, Masked MAD: 0.2214 (threshold: 0.05)\n"
     ]
    },
    {
     "name": "stderr",
     "output_type": "stream",
     "text": [
      "Propagating mbike-trick:  67%|██████▋   | 52/78 [00:14<00:07,  3.63it/s]"
     ]
    },
    {
     "name": "stdout",
     "output_type": "stream",
     "text": [
      "Skipping frame 51 - Global MAD: 0.0784, Masked MAD: 0.2208 (threshold: 0.05)\n"
     ]
    },
    {
     "name": "stderr",
     "output_type": "stream",
     "text": [
      "Propagating mbike-trick:  68%|██████▊   | 53/78 [00:14<00:06,  3.62it/s]"
     ]
    },
    {
     "name": "stdout",
     "output_type": "stream",
     "text": [
      "Skipping frame 52 - Global MAD: 0.0811, Masked MAD: 0.2019 (threshold: 0.05)\n"
     ]
    },
    {
     "name": "stderr",
     "output_type": "stream",
     "text": [
      "Propagating mbike-trick:  69%|██████▉   | 54/78 [00:14<00:06,  3.63it/s]"
     ]
    },
    {
     "name": "stdout",
     "output_type": "stream",
     "text": [
      "Skipping frame 53 - Global MAD: 0.0828, Masked MAD: 0.1940 (threshold: 0.05)\n"
     ]
    },
    {
     "name": "stderr",
     "output_type": "stream",
     "text": [
      "Propagating mbike-trick:  71%|███████   | 55/78 [00:14<00:06,  3.61it/s]"
     ]
    },
    {
     "name": "stdout",
     "output_type": "stream",
     "text": [
      "Skipping frame 54 - Global MAD: 0.0840, Masked MAD: 0.1915 (threshold: 0.05)\n"
     ]
    },
    {
     "name": "stderr",
     "output_type": "stream",
     "text": [
      "Propagating mbike-trick:  72%|███████▏  | 56/78 [00:15<00:06,  3.62it/s]"
     ]
    },
    {
     "name": "stdout",
     "output_type": "stream",
     "text": [
      "Skipping frame 55 - Global MAD: 0.0860, Masked MAD: 0.1918 (threshold: 0.05)\n"
     ]
    },
    {
     "name": "stderr",
     "output_type": "stream",
     "text": [
      "Propagating mbike-trick:  73%|███████▎  | 57/78 [00:15<00:05,  3.61it/s]"
     ]
    },
    {
     "name": "stdout",
     "output_type": "stream",
     "text": [
      "Skipping frame 56 - Global MAD: 0.0889, Masked MAD: 0.2003 (threshold: 0.05)\n"
     ]
    },
    {
     "name": "stderr",
     "output_type": "stream",
     "text": [
      "Propagating mbike-trick:  74%|███████▍  | 58/78 [00:15<00:05,  3.61it/s]"
     ]
    },
    {
     "name": "stdout",
     "output_type": "stream",
     "text": [
      "Skipping frame 57 - Global MAD: 0.0918, Masked MAD: 0.2060 (threshold: 0.05)\n"
     ]
    },
    {
     "name": "stderr",
     "output_type": "stream",
     "text": [
      "Propagating mbike-trick:  76%|███████▌  | 59/78 [00:16<00:05,  3.57it/s]"
     ]
    },
    {
     "name": "stdout",
     "output_type": "stream",
     "text": [
      "Skipping frame 58 - Global MAD: 0.0957, Masked MAD: 0.2159 (threshold: 0.05)\n"
     ]
    },
    {
     "name": "stderr",
     "output_type": "stream",
     "text": [
      "Propagating mbike-trick:  77%|███████▋  | 60/78 [00:16<00:05,  3.56it/s]"
     ]
    },
    {
     "name": "stdout",
     "output_type": "stream",
     "text": [
      "Skipping frame 59 - Global MAD: 0.0996, Masked MAD: 0.2270 (threshold: 0.05)\n"
     ]
    },
    {
     "name": "stderr",
     "output_type": "stream",
     "text": [
      "Propagating mbike-trick:  78%|███████▊  | 61/78 [00:16<00:04,  3.55it/s]"
     ]
    },
    {
     "name": "stdout",
     "output_type": "stream",
     "text": [
      "Skipping frame 60 - Global MAD: 0.1029, Masked MAD: 0.2357 (threshold: 0.05)\n",
      "Avg FPS last 30 frames: 3.60\n"
     ]
    },
    {
     "name": "stderr",
     "output_type": "stream",
     "text": [
      "Propagating mbike-trick:  79%|███████▉  | 62/78 [00:16<00:04,  3.54it/s]"
     ]
    },
    {
     "name": "stdout",
     "output_type": "stream",
     "text": [
      "Skipping frame 61 - Global MAD: 0.1044, Masked MAD: 0.2422 (threshold: 0.05)\n"
     ]
    },
    {
     "name": "stderr",
     "output_type": "stream",
     "text": [
      "Propagating mbike-trick:  81%|████████  | 63/78 [00:17<00:04,  3.54it/s]"
     ]
    },
    {
     "name": "stdout",
     "output_type": "stream",
     "text": [
      "Skipping frame 62 - Global MAD: 0.1050, Masked MAD: 0.2509 (threshold: 0.05)\n"
     ]
    },
    {
     "name": "stderr",
     "output_type": "stream",
     "text": [
      "Propagating mbike-trick:  82%|████████▏ | 64/78 [00:17<00:03,  3.51it/s]"
     ]
    },
    {
     "name": "stdout",
     "output_type": "stream",
     "text": [
      "Skipping frame 63 - Global MAD: 0.1051, Masked MAD: 0.2516 (threshold: 0.05)\n"
     ]
    },
    {
     "name": "stderr",
     "output_type": "stream",
     "text": [
      "Propagating mbike-trick:  83%|████████▎ | 65/78 [00:17<00:03,  3.50it/s]"
     ]
    },
    {
     "name": "stdout",
     "output_type": "stream",
     "text": [
      "Skipping frame 64 - Global MAD: 0.1099, Masked MAD: 0.2571 (threshold: 0.05)\n"
     ]
    },
    {
     "name": "stderr",
     "output_type": "stream",
     "text": [
      "Propagating mbike-trick:  85%|████████▍ | 66/78 [00:18<00:03,  3.50it/s]"
     ]
    },
    {
     "name": "stdout",
     "output_type": "stream",
     "text": [
      "Skipping frame 65 - Global MAD: 0.1191, Masked MAD: 0.2670 (threshold: 0.05)\n"
     ]
    },
    {
     "name": "stderr",
     "output_type": "stream",
     "text": [
      "Propagating mbike-trick:  86%|████████▌ | 67/78 [00:18<00:03,  3.48it/s]"
     ]
    },
    {
     "name": "stdout",
     "output_type": "stream",
     "text": [
      "Skipping frame 66 - Global MAD: 0.1279, Masked MAD: 0.2829 (threshold: 0.05)\n"
     ]
    },
    {
     "name": "stderr",
     "output_type": "stream",
     "text": [
      "Propagating mbike-trick:  87%|████████▋ | 68/78 [00:18<00:02,  3.48it/s]"
     ]
    },
    {
     "name": "stdout",
     "output_type": "stream",
     "text": [
      "Skipping frame 67 - Global MAD: 0.1353, Masked MAD: 0.3145 (threshold: 0.05)\n"
     ]
    },
    {
     "name": "stderr",
     "output_type": "stream",
     "text": [
      "Propagating mbike-trick:  88%|████████▊ | 69/78 [00:18<00:02,  3.48it/s]"
     ]
    },
    {
     "name": "stdout",
     "output_type": "stream",
     "text": [
      "Skipping frame 68 - Global MAD: 0.1407, Masked MAD: 0.3469 (threshold: 0.05)\n"
     ]
    },
    {
     "name": "stderr",
     "output_type": "stream",
     "text": [
      "Propagating mbike-trick:  90%|████████▉ | 70/78 [00:19<00:02,  3.48it/s]"
     ]
    },
    {
     "name": "stdout",
     "output_type": "stream",
     "text": [
      "Skipping frame 69 - Global MAD: 0.1448, Masked MAD: 0.3640 (threshold: 0.05)\n"
     ]
    },
    {
     "name": "stderr",
     "output_type": "stream",
     "text": [
      "Propagating mbike-trick:  91%|█████████ | 71/78 [00:19<00:02,  3.50it/s]"
     ]
    },
    {
     "name": "stdout",
     "output_type": "stream",
     "text": [
      "Skipping frame 70 - Global MAD: 0.1486, Masked MAD: 0.3624 (threshold: 0.05)\n"
     ]
    },
    {
     "name": "stderr",
     "output_type": "stream",
     "text": [
      "Propagating mbike-trick:  92%|█████████▏| 72/78 [00:19<00:01,  3.51it/s]"
     ]
    },
    {
     "name": "stdout",
     "output_type": "stream",
     "text": [
      "Skipping frame 71 - Global MAD: 0.1532, Masked MAD: 0.3078 (threshold: 0.05)\n"
     ]
    },
    {
     "name": "stderr",
     "output_type": "stream",
     "text": [
      "Propagating mbike-trick:  94%|█████████▎| 73/78 [00:20<00:01,  3.51it/s]"
     ]
    },
    {
     "name": "stdout",
     "output_type": "stream",
     "text": [
      "Skipping frame 72 - Global MAD: 0.1635, Masked MAD: 0.2511 (threshold: 0.05)\n"
     ]
    },
    {
     "name": "stderr",
     "output_type": "stream",
     "text": [
      "Propagating mbike-trick:  95%|█████████▍| 74/78 [00:20<00:01,  3.51it/s]"
     ]
    },
    {
     "name": "stdout",
     "output_type": "stream",
     "text": [
      "Skipping frame 73 - Global MAD: 0.1686, Masked MAD: 0.2471 (threshold: 0.05)\n"
     ]
    },
    {
     "name": "stderr",
     "output_type": "stream",
     "text": [
      "Propagating mbike-trick:  96%|█████████▌| 75/78 [00:20<00:00,  3.49it/s]"
     ]
    },
    {
     "name": "stdout",
     "output_type": "stream",
     "text": [
      "Skipping frame 74 - Global MAD: 0.1737, Masked MAD: 0.2402 (threshold: 0.05)\n"
     ]
    },
    {
     "name": "stderr",
     "output_type": "stream",
     "text": [
      "Propagating mbike-trick:  97%|█████████▋| 76/78 [00:20<00:00,  3.49it/s]"
     ]
    },
    {
     "name": "stdout",
     "output_type": "stream",
     "text": [
      "Skipping frame 75 - Global MAD: 0.1779, Masked MAD: 0.2270 (threshold: 0.05)\n"
     ]
    },
    {
     "name": "stderr",
     "output_type": "stream",
     "text": [
      "Propagating mbike-trick:  99%|█████████▊| 77/78 [00:21<00:00,  3.49it/s]"
     ]
    },
    {
     "name": "stdout",
     "output_type": "stream",
     "text": [
      "Skipping frame 76 - Global MAD: 0.1809, Masked MAD: 0.2045 (threshold: 0.05)\n"
     ]
    },
    {
     "name": "stderr",
     "output_type": "stream",
     "text": [
      "Propagating mbike-trick: 100%|██████████| 78/78 [00:21<00:00,  3.50it/s]"
     ]
    },
    {
     "name": "stdout",
     "output_type": "stream",
     "text": [
      "Skipping frame 77 - Global MAD: 0.1875, Masked MAD: 0.2124 (threshold: 0.05)\n"
     ]
    },
    {
     "name": "stderr",
     "output_type": "stream",
     "text": [
      "propagate in video: 100%|██████████| 79/79 [00:21<00:00,  3.63it/s]     \n",
      "Propagating mbike-trick: 79it [00:21,  3.63it/s]\n"
     ]
    },
    {
     "name": "stdout",
     "output_type": "stream",
     "text": [
      "Skipping frame 78 - Global MAD: 0.1920, Masked MAD: 0.2175 (threshold: 0.05)\n",
      "Skipped 78 frames due to low MAD.\n",
      "→ Saved all predicted masks for mbike-trick in data/DAVIS2017_mgfs_naive/mbike-trick\n",
      "\n",
      "=== Processing sequence: motocross-jump ===\n"
     ]
    },
    {
     "name": "stderr",
     "output_type": "stream",
     "text": [
      "frame loading (JPEG): 100%|██████████| 40/40 [00:00<00:00, 51.45it/s]\n"
     ]
    },
    {
     "name": "stdout",
     "output_type": "stream",
     "text": [
      "Found 2 unique non‐black colors in motocross-jump/00000.png\n"
     ]
    },
    {
     "name": "stderr",
     "output_type": "stream",
     "text": [
      "Propagating motocross-jump:   5%|▌         | 2/39 [00:00<00:05,  6.92it/s]"
     ]
    },
    {
     "name": "stdout",
     "output_type": "stream",
     "text": [
      "Skipping frame 1 - Global MAD: 0.0486, Masked MAD: 0.1643 (threshold: 0.05)\n"
     ]
    },
    {
     "name": "stderr",
     "output_type": "stream",
     "text": [
      "Propagating motocross-jump:   8%|▊         | 3/39 [00:00<00:07,  5.06it/s]"
     ]
    },
    {
     "name": "stdout",
     "output_type": "stream",
     "text": [
      "Skipping frame 2 - Global MAD: 0.0618, Masked MAD: 0.1639 (threshold: 0.05)\n"
     ]
    },
    {
     "name": "stderr",
     "output_type": "stream",
     "text": [
      "Propagating motocross-jump:  10%|█         | 4/39 [00:00<00:07,  4.43it/s]"
     ]
    },
    {
     "name": "stdout",
     "output_type": "stream",
     "text": [
      "Skipping frame 3 - Global MAD: 0.0753, Masked MAD: 0.1653 (threshold: 0.05)\n"
     ]
    },
    {
     "name": "stderr",
     "output_type": "stream",
     "text": [
      "Propagating motocross-jump:  13%|█▎        | 5/39 [00:01<00:08,  4.12it/s]"
     ]
    },
    {
     "name": "stdout",
     "output_type": "stream",
     "text": [
      "Skipping frame 4 - Global MAD: 0.0950, Masked MAD: 0.1702 (threshold: 0.05)\n"
     ]
    },
    {
     "name": "stderr",
     "output_type": "stream",
     "text": [
      "Propagating motocross-jump:  15%|█▌        | 6/39 [00:01<00:08,  3.96it/s]"
     ]
    },
    {
     "name": "stdout",
     "output_type": "stream",
     "text": [
      "Skipping frame 5 - Global MAD: 0.1215, Masked MAD: 0.1741 (threshold: 0.05)\n"
     ]
    },
    {
     "name": "stderr",
     "output_type": "stream",
     "text": [
      "Propagating motocross-jump:  18%|█▊        | 7/39 [00:01<00:08,  3.86it/s]"
     ]
    },
    {
     "name": "stdout",
     "output_type": "stream",
     "text": [
      "Skipping frame 6 - Global MAD: 0.1573, Masked MAD: 0.1643 (threshold: 0.05)\n"
     ]
    },
    {
     "name": "stderr",
     "output_type": "stream",
     "text": [
      "Propagating motocross-jump:  21%|██        | 8/39 [00:01<00:08,  3.80it/s]"
     ]
    },
    {
     "name": "stdout",
     "output_type": "stream",
     "text": [
      "Skipping frame 7 - Global MAD: 0.1993, Masked MAD: 0.1759 (threshold: 0.05)\n"
     ]
    },
    {
     "name": "stderr",
     "output_type": "stream",
     "text": [
      "Propagating motocross-jump:  23%|██▎       | 9/39 [00:02<00:08,  3.73it/s]"
     ]
    },
    {
     "name": "stdout",
     "output_type": "stream",
     "text": [
      "Skipping frame 8 - Global MAD: 0.2338, Masked MAD: 0.1855 (threshold: 0.05)\n"
     ]
    },
    {
     "name": "stderr",
     "output_type": "stream",
     "text": [
      "Propagating motocross-jump:  26%|██▌       | 10/39 [00:02<00:07,  3.70it/s]"
     ]
    },
    {
     "name": "stdout",
     "output_type": "stream",
     "text": [
      "Skipping frame 9 - Global MAD: 0.2523, Masked MAD: 0.1876 (threshold: 0.05)\n"
     ]
    },
    {
     "name": "stderr",
     "output_type": "stream",
     "text": [
      "Propagating motocross-jump:  28%|██▊       | 11/39 [00:02<00:07,  3.67it/s]"
     ]
    },
    {
     "name": "stdout",
     "output_type": "stream",
     "text": [
      "Skipping frame 10 - Global MAD: 0.2564, Masked MAD: 0.2007 (threshold: 0.05)\n"
     ]
    },
    {
     "name": "stderr",
     "output_type": "stream",
     "text": [
      "Propagating motocross-jump:  31%|███       | 12/39 [00:03<00:07,  3.67it/s]"
     ]
    },
    {
     "name": "stdout",
     "output_type": "stream",
     "text": [
      "Skipping frame 11 - Global MAD: 0.2495, Masked MAD: 0.1935 (threshold: 0.05)\n"
     ]
    },
    {
     "name": "stderr",
     "output_type": "stream",
     "text": [
      "Propagating motocross-jump:  33%|███▎      | 13/39 [00:03<00:07,  3.65it/s]"
     ]
    },
    {
     "name": "stdout",
     "output_type": "stream",
     "text": [
      "Skipping frame 12 - Global MAD: 0.2476, Masked MAD: 0.1880 (threshold: 0.05)\n"
     ]
    },
    {
     "name": "stderr",
     "output_type": "stream",
     "text": [
      "Propagating motocross-jump:  36%|███▌      | 14/39 [00:03<00:06,  3.63it/s]"
     ]
    },
    {
     "name": "stdout",
     "output_type": "stream",
     "text": [
      "Skipping frame 13 - Global MAD: 0.2546, Masked MAD: 0.1868 (threshold: 0.05)\n"
     ]
    },
    {
     "name": "stderr",
     "output_type": "stream",
     "text": [
      "Propagating motocross-jump:  38%|███▊      | 15/39 [00:03<00:06,  3.62it/s]"
     ]
    },
    {
     "name": "stdout",
     "output_type": "stream",
     "text": [
      "Skipping frame 14 - Global MAD: 0.2541, Masked MAD: 0.1744 (threshold: 0.05)\n"
     ]
    },
    {
     "name": "stderr",
     "output_type": "stream",
     "text": [
      "Propagating motocross-jump:  41%|████      | 16/39 [00:04<00:06,  3.60it/s]"
     ]
    },
    {
     "name": "stdout",
     "output_type": "stream",
     "text": [
      "Skipping frame 15 - Global MAD: 0.2576, Masked MAD: 0.2111 (threshold: 0.05)\n"
     ]
    },
    {
     "name": "stderr",
     "output_type": "stream",
     "text": [
      "Propagating motocross-jump:  44%|████▎     | 17/39 [00:04<00:06,  3.60it/s]"
     ]
    },
    {
     "name": "stdout",
     "output_type": "stream",
     "text": [
      "Skipping frame 16 - Global MAD: 0.2464, Masked MAD: 0.1931 (threshold: 0.05)\n"
     ]
    },
    {
     "name": "stderr",
     "output_type": "stream",
     "text": [
      "Propagating motocross-jump:  46%|████▌     | 18/39 [00:04<00:05,  3.60it/s]"
     ]
    },
    {
     "name": "stdout",
     "output_type": "stream",
     "text": [
      "Skipping frame 17 - Global MAD: 0.2317, Masked MAD: 0.1824 (threshold: 0.05)\n"
     ]
    },
    {
     "name": "stderr",
     "output_type": "stream",
     "text": [
      "Propagating motocross-jump:  49%|████▊     | 19/39 [00:04<00:05,  3.60it/s]"
     ]
    },
    {
     "name": "stdout",
     "output_type": "stream",
     "text": [
      "Skipping frame 18 - Global MAD: 0.2290, Masked MAD: 0.2510 (threshold: 0.05)\n"
     ]
    },
    {
     "name": "stderr",
     "output_type": "stream",
     "text": [
      "Propagating motocross-jump:  51%|█████▏    | 20/39 [00:05<00:05,  3.58it/s]"
     ]
    },
    {
     "name": "stdout",
     "output_type": "stream",
     "text": [
      "Skipping frame 19 - Global MAD: 0.2384, Masked MAD: 0.1734 (threshold: 0.05)\n"
     ]
    },
    {
     "name": "stderr",
     "output_type": "stream",
     "text": [
      "Propagating motocross-jump:  54%|█████▍    | 21/39 [00:05<00:05,  3.56it/s]"
     ]
    },
    {
     "name": "stdout",
     "output_type": "stream",
     "text": [
      "Skipping frame 20 - Global MAD: 0.2404, Masked MAD: 0.2639 (threshold: 0.05)\n"
     ]
    },
    {
     "name": "stderr",
     "output_type": "stream",
     "text": [
      "Propagating motocross-jump:  56%|█████▋    | 22/39 [00:05<00:04,  3.54it/s]"
     ]
    },
    {
     "name": "stdout",
     "output_type": "stream",
     "text": [
      "Skipping frame 21 - Global MAD: 0.2686, Masked MAD: 0.2752 (threshold: 0.05)\n"
     ]
    },
    {
     "name": "stderr",
     "output_type": "stream",
     "text": [
      "Propagating motocross-jump:  59%|█████▉    | 23/39 [00:06<00:04,  3.51it/s]"
     ]
    },
    {
     "name": "stdout",
     "output_type": "stream",
     "text": [
      "Skipping frame 22 - Global MAD: 0.2987, Masked MAD: 0.2558 (threshold: 0.05)\n"
     ]
    },
    {
     "name": "stderr",
     "output_type": "stream",
     "text": [
      "Propagating motocross-jump:  62%|██████▏   | 24/39 [00:06<00:04,  3.49it/s]"
     ]
    },
    {
     "name": "stdout",
     "output_type": "stream",
     "text": [
      "Skipping frame 23 - Global MAD: 0.3232, Masked MAD: 0.2199 (threshold: 0.05)\n"
     ]
    },
    {
     "name": "stderr",
     "output_type": "stream",
     "text": [
      "Propagating motocross-jump:  64%|██████▍   | 25/39 [00:06<00:04,  3.42it/s]"
     ]
    },
    {
     "name": "stdout",
     "output_type": "stream",
     "text": [
      "Skipping frame 24 - Global MAD: 0.3594, Masked MAD: 0.1894 (threshold: 0.05)\n"
     ]
    },
    {
     "name": "stderr",
     "output_type": "stream",
     "text": [
      "Propagating motocross-jump:  67%|██████▋   | 26/39 [00:07<00:03,  3.41it/s]"
     ]
    },
    {
     "name": "stdout",
     "output_type": "stream",
     "text": [
      "Skipping frame 25 - Global MAD: 0.3857, Masked MAD: 0.1866 (threshold: 0.05)\n"
     ]
    },
    {
     "name": "stderr",
     "output_type": "stream",
     "text": [
      "Propagating motocross-jump:  69%|██████▉   | 27/39 [00:07<00:03,  3.40it/s]"
     ]
    },
    {
     "name": "stdout",
     "output_type": "stream",
     "text": [
      "Skipping frame 26 - Global MAD: 0.3989, Masked MAD: 0.1821 (threshold: 0.05)\n"
     ]
    },
    {
     "name": "stderr",
     "output_type": "stream",
     "text": [
      "Propagating motocross-jump:  72%|███████▏  | 28/39 [00:07<00:03,  3.41it/s]"
     ]
    },
    {
     "name": "stdout",
     "output_type": "stream",
     "text": [
      "Skipping frame 27 - Global MAD: 0.4087, Masked MAD: 0.1869 (threshold: 0.05)\n"
     ]
    },
    {
     "name": "stderr",
     "output_type": "stream",
     "text": [
      "Propagating motocross-jump:  74%|███████▍  | 29/39 [00:07<00:02,  3.42it/s]"
     ]
    },
    {
     "name": "stdout",
     "output_type": "stream",
     "text": [
      "Skipping frame 28 - Global MAD: 0.3985, Masked MAD: 0.1819 (threshold: 0.05)\n"
     ]
    },
    {
     "name": "stderr",
     "output_type": "stream",
     "text": [
      "Propagating motocross-jump:  77%|███████▋  | 30/39 [00:08<00:02,  3.43it/s]"
     ]
    },
    {
     "name": "stdout",
     "output_type": "stream",
     "text": [
      "Skipping frame 29 - Global MAD: 0.3682, Masked MAD: 0.1837 (threshold: 0.05)\n"
     ]
    },
    {
     "name": "stderr",
     "output_type": "stream",
     "text": [
      "Propagating motocross-jump:  79%|███████▉  | 31/39 [00:08<00:02,  3.44it/s]"
     ]
    },
    {
     "name": "stdout",
     "output_type": "stream",
     "text": [
      "Skipping frame 30 - Global MAD: 0.3313, Masked MAD: 0.1795 (threshold: 0.05)\n",
      "Avg FPS last 30 frames: 3.55\n"
     ]
    },
    {
     "name": "stderr",
     "output_type": "stream",
     "text": [
      "Propagating motocross-jump:  82%|████████▏ | 32/39 [00:08<00:02,  3.45it/s]"
     ]
    },
    {
     "name": "stdout",
     "output_type": "stream",
     "text": [
      "Skipping frame 31 - Global MAD: 0.2890, Masked MAD: 0.1607 (threshold: 0.05)\n"
     ]
    },
    {
     "name": "stderr",
     "output_type": "stream",
     "text": [
      "Propagating motocross-jump:  85%|████████▍ | 33/39 [00:09<00:01,  3.46it/s]"
     ]
    },
    {
     "name": "stdout",
     "output_type": "stream",
     "text": [
      "Skipping frame 32 - Global MAD: 0.2546, Masked MAD: 0.1548 (threshold: 0.05)\n"
     ]
    },
    {
     "name": "stderr",
     "output_type": "stream",
     "text": [
      "Propagating motocross-jump:  87%|████████▋ | 34/39 [00:09<00:01,  3.49it/s]"
     ]
    },
    {
     "name": "stdout",
     "output_type": "stream",
     "text": [
      "Skipping frame 33 - Global MAD: 0.2366, Masked MAD: 0.1538 (threshold: 0.05)\n"
     ]
    },
    {
     "name": "stderr",
     "output_type": "stream",
     "text": [
      "Propagating motocross-jump:  90%|████████▉ | 35/39 [00:09<00:01,  3.51it/s]"
     ]
    },
    {
     "name": "stdout",
     "output_type": "stream",
     "text": [
      "Skipping frame 34 - Global MAD: 0.2218, Masked MAD: 0.1495 (threshold: 0.05)\n"
     ]
    },
    {
     "name": "stderr",
     "output_type": "stream",
     "text": [
      "Propagating motocross-jump:  92%|█████████▏| 36/39 [00:09<00:00,  3.54it/s]"
     ]
    },
    {
     "name": "stdout",
     "output_type": "stream",
     "text": [
      "Skipping frame 35 - Global MAD: 0.2014, Masked MAD: 0.1471 (threshold: 0.05)\n"
     ]
    },
    {
     "name": "stderr",
     "output_type": "stream",
     "text": [
      "Propagating motocross-jump:  95%|█████████▍| 37/39 [00:10<00:00,  3.55it/s]"
     ]
    },
    {
     "name": "stdout",
     "output_type": "stream",
     "text": [
      "Skipping frame 36 - Global MAD: 0.1881, Masked MAD: 0.1478 (threshold: 0.05)\n"
     ]
    },
    {
     "name": "stderr",
     "output_type": "stream",
     "text": [
      "Propagating motocross-jump:  97%|█████████▋| 38/39 [00:10<00:00,  3.58it/s]"
     ]
    },
    {
     "name": "stdout",
     "output_type": "stream",
     "text": [
      "Skipping frame 37 - Global MAD: 0.1792, Masked MAD: 0.1545 (threshold: 0.05)\n"
     ]
    },
    {
     "name": "stderr",
     "output_type": "stream",
     "text": [
      "Propagating motocross-jump: 100%|██████████| 39/39 [00:10<00:00,  3.58it/s]"
     ]
    },
    {
     "name": "stdout",
     "output_type": "stream",
     "text": [
      "Skipping frame 38 - Global MAD: 0.1718, Masked MAD: 0.1488 (threshold: 0.05)\n"
     ]
    },
    {
     "name": "stderr",
     "output_type": "stream",
     "text": [
      "propagate in video: 100%|██████████| 40/40 [00:10<00:00,  3.64it/s]        \n",
      "Propagating motocross-jump: 40it [00:10,  3.64it/s]\n"
     ]
    },
    {
     "name": "stdout",
     "output_type": "stream",
     "text": [
      "Skipping frame 39 - Global MAD: 0.1685, Masked MAD: 0.1471 (threshold: 0.05)\n",
      "Skipped 39 frames due to low MAD.\n",
      "→ Saved all predicted masks for motocross-jump in data/DAVIS2017_mgfs_naive/motocross-jump\n",
      "\n",
      "=== Processing sequence: paragliding-launch ===\n"
     ]
    },
    {
     "name": "stderr",
     "output_type": "stream",
     "text": [
      "frame loading (JPEG): 100%|██████████| 80/80 [00:01<00:00, 50.61it/s]\n"
     ]
    },
    {
     "name": "stdout",
     "output_type": "stream",
     "text": [
      "Found 3 unique non‐black colors in paragliding-launch/00000.png\n"
     ]
    },
    {
     "name": "stderr",
     "output_type": "stream",
     "text": [
      "Propagating paragliding-launch:   3%|▎         | 2/79 [00:00<00:11,  6.48it/s]"
     ]
    },
    {
     "name": "stdout",
     "output_type": "stream",
     "text": [
      "Skipping frame 1 - Global MAD: 0.0227, Masked MAD: 0.1226 (threshold: 0.05)\n"
     ]
    },
    {
     "name": "stderr",
     "output_type": "stream",
     "text": [
      "Propagating paragliding-launch:   4%|▍         | 3/79 [00:00<00:15,  4.77it/s]"
     ]
    },
    {
     "name": "stdout",
     "output_type": "stream",
     "text": [
      "Skipping frame 2 - Global MAD: 0.0333, Masked MAD: 0.1768 (threshold: 0.05)\n"
     ]
    },
    {
     "name": "stderr",
     "output_type": "stream",
     "text": [
      "Propagating paragliding-launch:   5%|▌         | 4/79 [00:00<00:17,  4.20it/s]"
     ]
    },
    {
     "name": "stdout",
     "output_type": "stream",
     "text": [
      "Skipping frame 3 - Global MAD: 0.0454, Masked MAD: 0.2103 (threshold: 0.05)\n"
     ]
    },
    {
     "name": "stderr",
     "output_type": "stream",
     "text": [
      "Propagating paragliding-launch:   6%|▋         | 5/79 [00:01<00:18,  3.94it/s]"
     ]
    },
    {
     "name": "stdout",
     "output_type": "stream",
     "text": [
      "Skipping frame 4 - Global MAD: 0.0535, Masked MAD: 0.2276 (threshold: 0.05)\n"
     ]
    },
    {
     "name": "stderr",
     "output_type": "stream",
     "text": [
      "Propagating paragliding-launch:   8%|▊         | 6/79 [00:01<00:19,  3.79it/s]"
     ]
    },
    {
     "name": "stdout",
     "output_type": "stream",
     "text": [
      "Skipping frame 5 - Global MAD: 0.0605, Masked MAD: 0.2399 (threshold: 0.05)\n"
     ]
    },
    {
     "name": "stderr",
     "output_type": "stream",
     "text": [
      "Propagating paragliding-launch:   9%|▉         | 7/79 [00:01<00:19,  3.69it/s]"
     ]
    },
    {
     "name": "stdout",
     "output_type": "stream",
     "text": [
      "Skipping frame 6 - Global MAD: 0.0657, Masked MAD: 0.2432 (threshold: 0.05)\n"
     ]
    },
    {
     "name": "stderr",
     "output_type": "stream",
     "text": [
      "Propagating paragliding-launch:  10%|█         | 8/79 [00:02<00:19,  3.63it/s]"
     ]
    },
    {
     "name": "stdout",
     "output_type": "stream",
     "text": [
      "Skipping frame 7 - Global MAD: 0.0697, Masked MAD: 0.2348 (threshold: 0.05)\n"
     ]
    },
    {
     "name": "stderr",
     "output_type": "stream",
     "text": [
      "Propagating paragliding-launch:  11%|█▏        | 9/79 [00:02<00:19,  3.58it/s]"
     ]
    },
    {
     "name": "stdout",
     "output_type": "stream",
     "text": [
      "Skipping frame 8 - Global MAD: 0.0714, Masked MAD: 0.2129 (threshold: 0.05)\n"
     ]
    },
    {
     "name": "stderr",
     "output_type": "stream",
     "text": [
      "Propagating paragliding-launch:  13%|█▎        | 10/79 [00:02<00:19,  3.56it/s]"
     ]
    },
    {
     "name": "stdout",
     "output_type": "stream",
     "text": [
      "Skipping frame 9 - Global MAD: 0.0721, Masked MAD: 0.2001 (threshold: 0.05)\n"
     ]
    },
    {
     "name": "stderr",
     "output_type": "stream",
     "text": [
      "Propagating paragliding-launch:  14%|█▍        | 11/79 [00:02<00:19,  3.55it/s]"
     ]
    },
    {
     "name": "stdout",
     "output_type": "stream",
     "text": [
      "Skipping frame 10 - Global MAD: 0.0733, Masked MAD: 0.2071 (threshold: 0.05)\n"
     ]
    },
    {
     "name": "stderr",
     "output_type": "stream",
     "text": [
      "Propagating paragliding-launch:  15%|█▌        | 12/79 [00:03<00:18,  3.54it/s]"
     ]
    },
    {
     "name": "stdout",
     "output_type": "stream",
     "text": [
      "Skipping frame 11 - Global MAD: 0.0745, Masked MAD: 0.2071 (threshold: 0.05)\n"
     ]
    },
    {
     "name": "stderr",
     "output_type": "stream",
     "text": [
      "Propagating paragliding-launch:  16%|█▋        | 13/79 [00:03<00:18,  3.53it/s]"
     ]
    },
    {
     "name": "stdout",
     "output_type": "stream",
     "text": [
      "Skipping frame 12 - Global MAD: 0.0767, Masked MAD: 0.2135 (threshold: 0.05)\n"
     ]
    },
    {
     "name": "stderr",
     "output_type": "stream",
     "text": [
      "Propagating paragliding-launch:  18%|█▊        | 14/79 [00:03<00:18,  3.54it/s]"
     ]
    },
    {
     "name": "stdout",
     "output_type": "stream",
     "text": [
      "Skipping frame 13 - Global MAD: 0.0774, Masked MAD: 0.2098 (threshold: 0.05)\n"
     ]
    },
    {
     "name": "stderr",
     "output_type": "stream",
     "text": [
      "Propagating paragliding-launch:  19%|█▉        | 15/79 [00:04<00:18,  3.53it/s]"
     ]
    },
    {
     "name": "stdout",
     "output_type": "stream",
     "text": [
      "Skipping frame 14 - Global MAD: 0.0789, Masked MAD: 0.2070 (threshold: 0.05)\n"
     ]
    },
    {
     "name": "stderr",
     "output_type": "stream",
     "text": [
      "Propagating paragliding-launch:  20%|██        | 16/79 [00:04<00:17,  3.53it/s]"
     ]
    },
    {
     "name": "stdout",
     "output_type": "stream",
     "text": [
      "Skipping frame 15 - Global MAD: 0.0794, Masked MAD: 0.2069 (threshold: 0.05)\n"
     ]
    },
    {
     "name": "stderr",
     "output_type": "stream",
     "text": [
      "Propagating paragliding-launch:  22%|██▏       | 17/79 [00:04<00:17,  3.52it/s]"
     ]
    },
    {
     "name": "stdout",
     "output_type": "stream",
     "text": [
      "Skipping frame 16 - Global MAD: 0.0800, Masked MAD: 0.2005 (threshold: 0.05)\n"
     ]
    },
    {
     "name": "stderr",
     "output_type": "stream",
     "text": [
      "Propagating paragliding-launch:  23%|██▎       | 18/79 [00:04<00:17,  3.50it/s]"
     ]
    },
    {
     "name": "stdout",
     "output_type": "stream",
     "text": [
      "Skipping frame 17 - Global MAD: 0.0802, Masked MAD: 0.2015 (threshold: 0.05)\n"
     ]
    },
    {
     "name": "stderr",
     "output_type": "stream",
     "text": [
      "Propagating paragliding-launch:  24%|██▍       | 19/79 [00:05<00:17,  3.51it/s]"
     ]
    },
    {
     "name": "stdout",
     "output_type": "stream",
     "text": [
      "Skipping frame 18 - Global MAD: 0.0812, Masked MAD: 0.2095 (threshold: 0.05)\n"
     ]
    },
    {
     "name": "stderr",
     "output_type": "stream",
     "text": [
      "Propagating paragliding-launch:  25%|██▌       | 20/79 [00:05<00:16,  3.52it/s]"
     ]
    },
    {
     "name": "stdout",
     "output_type": "stream",
     "text": [
      "Skipping frame 19 - Global MAD: 0.0814, Masked MAD: 0.2088 (threshold: 0.05)\n"
     ]
    },
    {
     "name": "stderr",
     "output_type": "stream",
     "text": [
      "Propagating paragliding-launch:  27%|██▋       | 21/79 [00:05<00:16,  3.52it/s]"
     ]
    },
    {
     "name": "stdout",
     "output_type": "stream",
     "text": [
      "Skipping frame 20 - Global MAD: 0.0823, Masked MAD: 0.2134 (threshold: 0.05)\n"
     ]
    },
    {
     "name": "stderr",
     "output_type": "stream",
     "text": [
      "Propagating paragliding-launch:  28%|██▊       | 22/79 [00:06<00:16,  3.52it/s]"
     ]
    },
    {
     "name": "stdout",
     "output_type": "stream",
     "text": [
      "Skipping frame 21 - Global MAD: 0.0837, Masked MAD: 0.2145 (threshold: 0.05)\n"
     ]
    },
    {
     "name": "stderr",
     "output_type": "stream",
     "text": [
      "Propagating paragliding-launch:  29%|██▉       | 23/79 [00:06<00:15,  3.52it/s]"
     ]
    },
    {
     "name": "stdout",
     "output_type": "stream",
     "text": [
      "Skipping frame 22 - Global MAD: 0.0842, Masked MAD: 0.2149 (threshold: 0.05)\n"
     ]
    },
    {
     "name": "stderr",
     "output_type": "stream",
     "text": [
      "Propagating paragliding-launch:  30%|███       | 24/79 [00:06<00:15,  3.53it/s]"
     ]
    },
    {
     "name": "stdout",
     "output_type": "stream",
     "text": [
      "Skipping frame 23 - Global MAD: 0.0859, Masked MAD: 0.2210 (threshold: 0.05)\n"
     ]
    },
    {
     "name": "stderr",
     "output_type": "stream",
     "text": [
      "Propagating paragliding-launch:  32%|███▏      | 25/79 [00:06<00:15,  3.53it/s]"
     ]
    },
    {
     "name": "stdout",
     "output_type": "stream",
     "text": [
      "Skipping frame 24 - Global MAD: 0.0872, Masked MAD: 0.2254 (threshold: 0.05)\n"
     ]
    },
    {
     "name": "stderr",
     "output_type": "stream",
     "text": [
      "Propagating paragliding-launch:  33%|███▎      | 26/79 [00:07<00:15,  3.53it/s]"
     ]
    },
    {
     "name": "stdout",
     "output_type": "stream",
     "text": [
      "Skipping frame 25 - Global MAD: 0.0877, Masked MAD: 0.2296 (threshold: 0.05)\n"
     ]
    },
    {
     "name": "stderr",
     "output_type": "stream",
     "text": [
      "Propagating paragliding-launch:  34%|███▍      | 27/79 [00:07<00:14,  3.53it/s]"
     ]
    },
    {
     "name": "stdout",
     "output_type": "stream",
     "text": [
      "Skipping frame 26 - Global MAD: 0.0882, Masked MAD: 0.2346 (threshold: 0.05)\n"
     ]
    },
    {
     "name": "stderr",
     "output_type": "stream",
     "text": [
      "Propagating paragliding-launch:  35%|███▌      | 28/79 [00:07<00:14,  3.53it/s]"
     ]
    },
    {
     "name": "stdout",
     "output_type": "stream",
     "text": [
      "Skipping frame 27 - Global MAD: 0.0899, Masked MAD: 0.2405 (threshold: 0.05)\n"
     ]
    },
    {
     "name": "stderr",
     "output_type": "stream",
     "text": [
      "Propagating paragliding-launch:  37%|███▋      | 29/79 [00:07<00:14,  3.53it/s]"
     ]
    },
    {
     "name": "stdout",
     "output_type": "stream",
     "text": [
      "Skipping frame 28 - Global MAD: 0.0897, Masked MAD: 0.2438 (threshold: 0.05)\n"
     ]
    },
    {
     "name": "stderr",
     "output_type": "stream",
     "text": [
      "Propagating paragliding-launch:  38%|███▊      | 30/79 [00:08<00:13,  3.53it/s]"
     ]
    },
    {
     "name": "stdout",
     "output_type": "stream",
     "text": [
      "Skipping frame 29 - Global MAD: 0.0902, Masked MAD: 0.2415 (threshold: 0.05)\n"
     ]
    },
    {
     "name": "stderr",
     "output_type": "stream",
     "text": [
      "Propagating paragliding-launch:  39%|███▉      | 31/79 [00:08<00:13,  3.52it/s]"
     ]
    },
    {
     "name": "stdout",
     "output_type": "stream",
     "text": [
      "Skipping frame 30 - Global MAD: 0.0906, Masked MAD: 0.2347 (threshold: 0.05)\n",
      "Avg FPS last 30 frames: 3.52\n"
     ]
    },
    {
     "name": "stderr",
     "output_type": "stream",
     "text": [
      "Propagating paragliding-launch:  41%|████      | 32/79 [00:08<00:13,  3.52it/s]"
     ]
    },
    {
     "name": "stdout",
     "output_type": "stream",
     "text": [
      "Skipping frame 31 - Global MAD: 0.0906, Masked MAD: 0.2295 (threshold: 0.05)\n"
     ]
    },
    {
     "name": "stderr",
     "output_type": "stream",
     "text": [
      "Propagating paragliding-launch:  42%|████▏     | 33/79 [00:09<00:13,  3.52it/s]"
     ]
    },
    {
     "name": "stdout",
     "output_type": "stream",
     "text": [
      "Skipping frame 32 - Global MAD: 0.0910, Masked MAD: 0.2206 (threshold: 0.05)\n"
     ]
    },
    {
     "name": "stderr",
     "output_type": "stream",
     "text": [
      "Propagating paragliding-launch:  43%|████▎     | 34/79 [00:09<00:12,  3.52it/s]"
     ]
    },
    {
     "name": "stdout",
     "output_type": "stream",
     "text": [
      "Skipping frame 33 - Global MAD: 0.0918, Masked MAD: 0.2166 (threshold: 0.05)\n"
     ]
    },
    {
     "name": "stderr",
     "output_type": "stream",
     "text": [
      "Propagating paragliding-launch:  44%|████▍     | 35/79 [00:09<00:12,  3.53it/s]"
     ]
    },
    {
     "name": "stdout",
     "output_type": "stream",
     "text": [
      "Skipping frame 34 - Global MAD: 0.0925, Masked MAD: 0.2147 (threshold: 0.05)\n"
     ]
    },
    {
     "name": "stderr",
     "output_type": "stream",
     "text": [
      "Propagating paragliding-launch:  46%|████▌     | 36/79 [00:09<00:12,  3.52it/s]"
     ]
    },
    {
     "name": "stdout",
     "output_type": "stream",
     "text": [
      "Skipping frame 35 - Global MAD: 0.0931, Masked MAD: 0.2114 (threshold: 0.05)\n"
     ]
    },
    {
     "name": "stderr",
     "output_type": "stream",
     "text": [
      "Propagating paragliding-launch:  47%|████▋     | 37/79 [00:10<00:11,  3.52it/s]"
     ]
    },
    {
     "name": "stdout",
     "output_type": "stream",
     "text": [
      "Skipping frame 36 - Global MAD: 0.0946, Masked MAD: 0.2130 (threshold: 0.05)\n"
     ]
    },
    {
     "name": "stderr",
     "output_type": "stream",
     "text": [
      "Propagating paragliding-launch:  48%|████▊     | 38/79 [00:10<00:11,  3.53it/s]"
     ]
    },
    {
     "name": "stdout",
     "output_type": "stream",
     "text": [
      "Skipping frame 37 - Global MAD: 0.0958, Masked MAD: 0.2193 (threshold: 0.05)\n"
     ]
    },
    {
     "name": "stderr",
     "output_type": "stream",
     "text": [
      "Propagating paragliding-launch:  49%|████▉     | 39/79 [00:10<00:11,  3.53it/s]"
     ]
    },
    {
     "name": "stdout",
     "output_type": "stream",
     "text": [
      "Skipping frame 38 - Global MAD: 0.0974, Masked MAD: 0.2273 (threshold: 0.05)\n"
     ]
    },
    {
     "name": "stderr",
     "output_type": "stream",
     "text": [
      "Propagating paragliding-launch:  51%|█████     | 40/79 [00:11<00:11,  3.53it/s]"
     ]
    },
    {
     "name": "stdout",
     "output_type": "stream",
     "text": [
      "Skipping frame 39 - Global MAD: 0.0994, Masked MAD: 0.2348 (threshold: 0.05)\n"
     ]
    },
    {
     "name": "stderr",
     "output_type": "stream",
     "text": [
      "Propagating paragliding-launch:  52%|█████▏    | 41/79 [00:11<00:10,  3.53it/s]"
     ]
    },
    {
     "name": "stdout",
     "output_type": "stream",
     "text": [
      "Skipping frame 40 - Global MAD: 0.1011, Masked MAD: 0.2465 (threshold: 0.05)\n"
     ]
    },
    {
     "name": "stderr",
     "output_type": "stream",
     "text": [
      "Propagating paragliding-launch:  53%|█████▎    | 42/79 [00:11<00:10,  3.53it/s]"
     ]
    },
    {
     "name": "stdout",
     "output_type": "stream",
     "text": [
      "Skipping frame 41 - Global MAD: 0.1028, Masked MAD: 0.2565 (threshold: 0.05)\n"
     ]
    },
    {
     "name": "stderr",
     "output_type": "stream",
     "text": [
      "Propagating paragliding-launch:  54%|█████▍    | 43/79 [00:11<00:10,  3.53it/s]"
     ]
    },
    {
     "name": "stdout",
     "output_type": "stream",
     "text": [
      "Skipping frame 42 - Global MAD: 0.1044, Masked MAD: 0.2608 (threshold: 0.05)\n"
     ]
    },
    {
     "name": "stderr",
     "output_type": "stream",
     "text": [
      "Propagating paragliding-launch:  56%|█████▌    | 44/79 [00:12<00:09,  3.53it/s]"
     ]
    },
    {
     "name": "stdout",
     "output_type": "stream",
     "text": [
      "Skipping frame 43 - Global MAD: 0.1054, Masked MAD: 0.2662 (threshold: 0.05)\n"
     ]
    },
    {
     "name": "stderr",
     "output_type": "stream",
     "text": [
      "Propagating paragliding-launch:  57%|█████▋    | 45/79 [00:12<00:09,  3.54it/s]"
     ]
    },
    {
     "name": "stdout",
     "output_type": "stream",
     "text": [
      "Skipping frame 44 - Global MAD: 0.1067, Masked MAD: 0.2711 (threshold: 0.05)\n"
     ]
    },
    {
     "name": "stderr",
     "output_type": "stream",
     "text": [
      "Propagating paragliding-launch:  58%|█████▊    | 46/79 [00:12<00:09,  3.54it/s]"
     ]
    },
    {
     "name": "stdout",
     "output_type": "stream",
     "text": [
      "Skipping frame 45 - Global MAD: 0.1073, Masked MAD: 0.2764 (threshold: 0.05)\n"
     ]
    },
    {
     "name": "stderr",
     "output_type": "stream",
     "text": [
      "Propagating paragliding-launch:  59%|█████▉    | 47/79 [00:13<00:09,  3.53it/s]"
     ]
    },
    {
     "name": "stdout",
     "output_type": "stream",
     "text": [
      "Skipping frame 46 - Global MAD: 0.1076, Masked MAD: 0.2804 (threshold: 0.05)\n"
     ]
    },
    {
     "name": "stderr",
     "output_type": "stream",
     "text": [
      "Propagating paragliding-launch:  61%|██████    | 48/79 [00:13<00:08,  3.53it/s]"
     ]
    },
    {
     "name": "stdout",
     "output_type": "stream",
     "text": [
      "Skipping frame 47 - Global MAD: 0.1079, Masked MAD: 0.2806 (threshold: 0.05)\n"
     ]
    },
    {
     "name": "stderr",
     "output_type": "stream",
     "text": [
      "Propagating paragliding-launch:  62%|██████▏   | 49/79 [00:13<00:08,  3.53it/s]"
     ]
    },
    {
     "name": "stdout",
     "output_type": "stream",
     "text": [
      "Skipping frame 48 - Global MAD: 0.1089, Masked MAD: 0.2801 (threshold: 0.05)\n"
     ]
    },
    {
     "name": "stderr",
     "output_type": "stream",
     "text": [
      "Propagating paragliding-launch:  63%|██████▎   | 50/79 [00:13<00:08,  3.54it/s]"
     ]
    },
    {
     "name": "stdout",
     "output_type": "stream",
     "text": [
      "Skipping frame 49 - Global MAD: 0.1092, Masked MAD: 0.2808 (threshold: 0.05)\n"
     ]
    },
    {
     "name": "stderr",
     "output_type": "stream",
     "text": [
      "Propagating paragliding-launch:  65%|██████▍   | 51/79 [00:14<00:07,  3.54it/s]"
     ]
    },
    {
     "name": "stdout",
     "output_type": "stream",
     "text": [
      "Skipping frame 50 - Global MAD: 0.1098, Masked MAD: 0.2789 (threshold: 0.05)\n"
     ]
    },
    {
     "name": "stderr",
     "output_type": "stream",
     "text": [
      "Propagating paragliding-launch:  66%|██████▌   | 52/79 [00:14<00:07,  3.54it/s]"
     ]
    },
    {
     "name": "stdout",
     "output_type": "stream",
     "text": [
      "Skipping frame 51 - Global MAD: 0.1108, Masked MAD: 0.2771 (threshold: 0.05)\n"
     ]
    },
    {
     "name": "stderr",
     "output_type": "stream",
     "text": [
      "Propagating paragliding-launch:  67%|██████▋   | 53/79 [00:14<00:07,  3.53it/s]"
     ]
    },
    {
     "name": "stdout",
     "output_type": "stream",
     "text": [
      "Skipping frame 52 - Global MAD: 0.1109, Masked MAD: 0.2739 (threshold: 0.05)\n"
     ]
    },
    {
     "name": "stderr",
     "output_type": "stream",
     "text": [
      "Propagating paragliding-launch:  68%|██████▊   | 54/79 [00:15<00:07,  3.54it/s]"
     ]
    },
    {
     "name": "stdout",
     "output_type": "stream",
     "text": [
      "Skipping frame 53 - Global MAD: 0.1116, Masked MAD: 0.2725 (threshold: 0.05)\n"
     ]
    },
    {
     "name": "stderr",
     "output_type": "stream",
     "text": [
      "Propagating paragliding-launch:  70%|██████▉   | 55/79 [00:15<00:06,  3.53it/s]"
     ]
    },
    {
     "name": "stdout",
     "output_type": "stream",
     "text": [
      "Skipping frame 54 - Global MAD: 0.1126, Masked MAD: 0.2703 (threshold: 0.05)\n"
     ]
    },
    {
     "name": "stderr",
     "output_type": "stream",
     "text": [
      "Propagating paragliding-launch:  71%|███████   | 56/79 [00:15<00:06,  3.53it/s]"
     ]
    },
    {
     "name": "stdout",
     "output_type": "stream",
     "text": [
      "Skipping frame 55 - Global MAD: 0.1129, Masked MAD: 0.2713 (threshold: 0.05)\n"
     ]
    },
    {
     "name": "stderr",
     "output_type": "stream",
     "text": [
      "Propagating paragliding-launch:  72%|███████▏  | 57/79 [00:15<00:06,  3.53it/s]"
     ]
    },
    {
     "name": "stdout",
     "output_type": "stream",
     "text": [
      "Skipping frame 56 - Global MAD: 0.1132, Masked MAD: 0.2682 (threshold: 0.05)\n"
     ]
    },
    {
     "name": "stderr",
     "output_type": "stream",
     "text": [
      "Propagating paragliding-launch:  73%|███████▎  | 58/79 [00:16<00:05,  3.53it/s]"
     ]
    },
    {
     "name": "stdout",
     "output_type": "stream",
     "text": [
      "Skipping frame 57 - Global MAD: 0.1137, Masked MAD: 0.2638 (threshold: 0.05)\n"
     ]
    },
    {
     "name": "stderr",
     "output_type": "stream",
     "text": [
      "Propagating paragliding-launch:  75%|███████▍  | 59/79 [00:16<00:05,  3.53it/s]"
     ]
    },
    {
     "name": "stdout",
     "output_type": "stream",
     "text": [
      "Skipping frame 58 - Global MAD: 0.1137, Masked MAD: 0.2600 (threshold: 0.05)\n"
     ]
    },
    {
     "name": "stderr",
     "output_type": "stream",
     "text": [
      "Propagating paragliding-launch:  76%|███████▌  | 60/79 [00:16<00:05,  3.53it/s]"
     ]
    },
    {
     "name": "stdout",
     "output_type": "stream",
     "text": [
      "Skipping frame 59 - Global MAD: 0.1142, Masked MAD: 0.2594 (threshold: 0.05)\n"
     ]
    },
    {
     "name": "stderr",
     "output_type": "stream",
     "text": [
      "Propagating paragliding-launch:  77%|███████▋  | 61/79 [00:17<00:05,  3.52it/s]"
     ]
    },
    {
     "name": "stdout",
     "output_type": "stream",
     "text": [
      "Skipping frame 60 - Global MAD: 0.1148, Masked MAD: 0.2579 (threshold: 0.05)\n",
      "Avg FPS last 30 frames: 3.53\n"
     ]
    },
    {
     "name": "stderr",
     "output_type": "stream",
     "text": [
      "Propagating paragliding-launch:  78%|███████▊  | 62/79 [00:17<00:04,  3.53it/s]"
     ]
    },
    {
     "name": "stdout",
     "output_type": "stream",
     "text": [
      "Skipping frame 61 - Global MAD: 0.1150, Masked MAD: 0.2577 (threshold: 0.05)\n"
     ]
    },
    {
     "name": "stderr",
     "output_type": "stream",
     "text": [
      "Propagating paragliding-launch:  80%|███████▉  | 63/79 [00:17<00:04,  3.53it/s]"
     ]
    },
    {
     "name": "stdout",
     "output_type": "stream",
     "text": [
      "Skipping frame 62 - Global MAD: 0.1153, Masked MAD: 0.2546 (threshold: 0.05)\n"
     ]
    },
    {
     "name": "stderr",
     "output_type": "stream",
     "text": [
      "Propagating paragliding-launch:  81%|████████  | 64/79 [00:17<00:04,  3.53it/s]"
     ]
    },
    {
     "name": "stdout",
     "output_type": "stream",
     "text": [
      "Skipping frame 63 - Global MAD: 0.1159, Masked MAD: 0.2520 (threshold: 0.05)\n"
     ]
    },
    {
     "name": "stderr",
     "output_type": "stream",
     "text": [
      "Propagating paragliding-launch:  82%|████████▏ | 65/79 [00:18<00:03,  3.54it/s]"
     ]
    },
    {
     "name": "stdout",
     "output_type": "stream",
     "text": [
      "Skipping frame 64 - Global MAD: 0.1161, Masked MAD: 0.2529 (threshold: 0.05)\n"
     ]
    },
    {
     "name": "stderr",
     "output_type": "stream",
     "text": [
      "Propagating paragliding-launch:  84%|████████▎ | 66/79 [00:18<00:03,  3.54it/s]"
     ]
    },
    {
     "name": "stdout",
     "output_type": "stream",
     "text": [
      "Skipping frame 65 - Global MAD: 0.1162, Masked MAD: 0.2522 (threshold: 0.05)\n"
     ]
    },
    {
     "name": "stderr",
     "output_type": "stream",
     "text": [
      "Propagating paragliding-launch:  85%|████████▍ | 67/79 [00:18<00:03,  3.54it/s]"
     ]
    },
    {
     "name": "stdout",
     "output_type": "stream",
     "text": [
      "Skipping frame 66 - Global MAD: 0.1167, Masked MAD: 0.2514 (threshold: 0.05)\n"
     ]
    },
    {
     "name": "stderr",
     "output_type": "stream",
     "text": [
      "Propagating paragliding-launch:  86%|████████▌ | 68/79 [00:19<00:03,  3.55it/s]"
     ]
    },
    {
     "name": "stdout",
     "output_type": "stream",
     "text": [
      "Skipping frame 67 - Global MAD: 0.1164, Masked MAD: 0.2516 (threshold: 0.05)\n"
     ]
    },
    {
     "name": "stderr",
     "output_type": "stream",
     "text": [
      "Propagating paragliding-launch:  87%|████████▋ | 69/79 [00:19<00:02,  3.54it/s]"
     ]
    },
    {
     "name": "stdout",
     "output_type": "stream",
     "text": [
      "Skipping frame 68 - Global MAD: 0.1165, Masked MAD: 0.2515 (threshold: 0.05)\n"
     ]
    },
    {
     "name": "stderr",
     "output_type": "stream",
     "text": [
      "Propagating paragliding-launch:  89%|████████▊ | 70/79 [00:19<00:02,  3.54it/s]"
     ]
    },
    {
     "name": "stdout",
     "output_type": "stream",
     "text": [
      "Skipping frame 69 - Global MAD: 0.1169, Masked MAD: 0.2510 (threshold: 0.05)\n"
     ]
    },
    {
     "name": "stderr",
     "output_type": "stream",
     "text": [
      "Propagating paragliding-launch:  90%|████████▉ | 71/79 [00:19<00:02,  3.54it/s]"
     ]
    },
    {
     "name": "stdout",
     "output_type": "stream",
     "text": [
      "Skipping frame 70 - Global MAD: 0.1166, Masked MAD: 0.2510 (threshold: 0.05)\n"
     ]
    },
    {
     "name": "stderr",
     "output_type": "stream",
     "text": [
      "Propagating paragliding-launch:  91%|█████████ | 72/79 [00:20<00:01,  3.54it/s]"
     ]
    },
    {
     "name": "stdout",
     "output_type": "stream",
     "text": [
      "Skipping frame 71 - Global MAD: 0.1167, Masked MAD: 0.2504 (threshold: 0.05)\n"
     ]
    },
    {
     "name": "stderr",
     "output_type": "stream",
     "text": [
      "Propagating paragliding-launch:  92%|█████████▏| 73/79 [00:20<00:01,  3.54it/s]"
     ]
    },
    {
     "name": "stdout",
     "output_type": "stream",
     "text": [
      "Skipping frame 72 - Global MAD: 0.1171, Masked MAD: 0.2495 (threshold: 0.05)\n"
     ]
    },
    {
     "name": "stderr",
     "output_type": "stream",
     "text": [
      "Propagating paragliding-launch:  94%|█████████▎| 74/79 [00:20<00:01,  3.55it/s]"
     ]
    },
    {
     "name": "stdout",
     "output_type": "stream",
     "text": [
      "Skipping frame 73 - Global MAD: 0.1171, Masked MAD: 0.2499 (threshold: 0.05)\n"
     ]
    },
    {
     "name": "stderr",
     "output_type": "stream",
     "text": [
      "Propagating paragliding-launch:  95%|█████████▍| 75/79 [00:21<00:01,  3.54it/s]"
     ]
    },
    {
     "name": "stdout",
     "output_type": "stream",
     "text": [
      "Skipping frame 74 - Global MAD: 0.1173, Masked MAD: 0.2495 (threshold: 0.05)\n"
     ]
    },
    {
     "name": "stderr",
     "output_type": "stream",
     "text": [
      "Propagating paragliding-launch:  96%|█████████▌| 76/79 [00:21<00:00,  3.54it/s]"
     ]
    },
    {
     "name": "stdout",
     "output_type": "stream",
     "text": [
      "Skipping frame 75 - Global MAD: 0.1177, Masked MAD: 0.2493 (threshold: 0.05)\n"
     ]
    },
    {
     "name": "stderr",
     "output_type": "stream",
     "text": [
      "Propagating paragliding-launch:  97%|█████████▋| 77/79 [00:21<00:00,  3.54it/s]"
     ]
    },
    {
     "name": "stdout",
     "output_type": "stream",
     "text": [
      "Skipping frame 76 - Global MAD: 0.1176, Masked MAD: 0.2496 (threshold: 0.05)\n"
     ]
    },
    {
     "name": "stderr",
     "output_type": "stream",
     "text": [
      "Propagating paragliding-launch:  99%|█████████▊| 78/79 [00:21<00:00,  3.54it/s]"
     ]
    },
    {
     "name": "stdout",
     "output_type": "stream",
     "text": [
      "Skipping frame 77 - Global MAD: 0.1176, Masked MAD: 0.2515 (threshold: 0.05)\n"
     ]
    },
    {
     "name": "stderr",
     "output_type": "stream",
     "text": [
      "Propagating paragliding-launch: 100%|██████████| 79/79 [00:22<00:00,  3.54it/s]"
     ]
    },
    {
     "name": "stdout",
     "output_type": "stream",
     "text": [
      "Skipping frame 78 - Global MAD: 0.1181, Masked MAD: 0.2540 (threshold: 0.05)\n"
     ]
    },
    {
     "name": "stderr",
     "output_type": "stream",
     "text": [
      "propagate in video: 100%|██████████| 80/80 [00:22<00:00,  3.57it/s]            \n",
      "Propagating paragliding-launch: 80it [00:22,  3.57it/s]\n"
     ]
    },
    {
     "name": "stdout",
     "output_type": "stream",
     "text": [
      "Skipping frame 79 - Global MAD: 0.1182, Masked MAD: 0.2576 (threshold: 0.05)\n",
      "Skipped 79 frames due to low MAD.\n",
      "→ Saved all predicted masks for paragliding-launch in data/DAVIS2017_mgfs_naive/paragliding-launch\n",
      "\n",
      "=== Processing sequence: parkour ===\n"
     ]
    },
    {
     "name": "stderr",
     "output_type": "stream",
     "text": [
      "frame loading (JPEG): 100%|██████████| 100/100 [00:01<00:00, 51.01it/s]\n"
     ]
    },
    {
     "name": "stdout",
     "output_type": "stream",
     "text": [
      "Found 1 unique non‐black colors in parkour/00000.png\n"
     ]
    },
    {
     "name": "stderr",
     "output_type": "stream",
     "text": [
      "Propagating parkour:   2%|▏         | 2/99 [00:00<00:13,  7.10it/s]"
     ]
    },
    {
     "name": "stdout",
     "output_type": "stream",
     "text": [
      "Skipping frame 1 - Global MAD: 0.0600, Masked MAD: 0.1520 (threshold: 0.05)\n"
     ]
    },
    {
     "name": "stderr",
     "output_type": "stream",
     "text": [
      "Propagating parkour:   3%|▎         | 3/99 [00:00<00:18,  5.14it/s]"
     ]
    },
    {
     "name": "stdout",
     "output_type": "stream",
     "text": [
      "Skipping frame 2 - Global MAD: 0.0753, Masked MAD: 0.1959 (threshold: 0.05)\n"
     ]
    },
    {
     "name": "stderr",
     "output_type": "stream",
     "text": [
      "Propagating parkour:   4%|▍         | 4/99 [00:00<00:21,  4.49it/s]"
     ]
    },
    {
     "name": "stdout",
     "output_type": "stream",
     "text": [
      "Skipping frame 3 - Global MAD: 0.0855, Masked MAD: 0.2262 (threshold: 0.05)\n"
     ]
    },
    {
     "name": "stderr",
     "output_type": "stream",
     "text": [
      "Propagating parkour:   5%|▌         | 5/99 [00:01<00:22,  4.19it/s]"
     ]
    },
    {
     "name": "stdout",
     "output_type": "stream",
     "text": [
      "Skipping frame 4 - Global MAD: 0.0938, Masked MAD: 0.2523 (threshold: 0.05)\n"
     ]
    },
    {
     "name": "stderr",
     "output_type": "stream",
     "text": [
      "Propagating parkour:   6%|▌         | 6/99 [00:01<00:23,  4.01it/s]"
     ]
    },
    {
     "name": "stdout",
     "output_type": "stream",
     "text": [
      "Skipping frame 5 - Global MAD: 0.1005, Masked MAD: 0.2757 (threshold: 0.05)\n"
     ]
    },
    {
     "name": "stderr",
     "output_type": "stream",
     "text": [
      "Propagating parkour:   7%|▋         | 7/99 [00:01<00:23,  3.91it/s]"
     ]
    },
    {
     "name": "stdout",
     "output_type": "stream",
     "text": [
      "Skipping frame 6 - Global MAD: 0.1048, Masked MAD: 0.2785 (threshold: 0.05)\n"
     ]
    },
    {
     "name": "stderr",
     "output_type": "stream",
     "text": [
      "Propagating parkour:   8%|▊         | 8/99 [00:01<00:23,  3.84it/s]"
     ]
    },
    {
     "name": "stdout",
     "output_type": "stream",
     "text": [
      "Skipping frame 7 - Global MAD: 0.1092, Masked MAD: 0.2858 (threshold: 0.05)\n"
     ]
    },
    {
     "name": "stderr",
     "output_type": "stream",
     "text": [
      "Propagating parkour:   9%|▉         | 9/99 [00:02<00:23,  3.80it/s]"
     ]
    },
    {
     "name": "stdout",
     "output_type": "stream",
     "text": [
      "Skipping frame 8 - Global MAD: 0.1138, Masked MAD: 0.2974 (threshold: 0.05)\n"
     ]
    },
    {
     "name": "stderr",
     "output_type": "stream",
     "text": [
      "Propagating parkour:  10%|█         | 10/99 [00:02<00:23,  3.77it/s]"
     ]
    },
    {
     "name": "stdout",
     "output_type": "stream",
     "text": [
      "Skipping frame 9 - Global MAD: 0.1186, Masked MAD: 0.3055 (threshold: 0.05)\n"
     ]
    },
    {
     "name": "stderr",
     "output_type": "stream",
     "text": [
      "Propagating parkour:  11%|█         | 11/99 [00:02<00:23,  3.75it/s]"
     ]
    },
    {
     "name": "stdout",
     "output_type": "stream",
     "text": [
      "Skipping frame 10 - Global MAD: 0.1221, Masked MAD: 0.3152 (threshold: 0.05)\n"
     ]
    },
    {
     "name": "stderr",
     "output_type": "stream",
     "text": [
      "Propagating parkour:  12%|█▏        | 12/99 [00:02<00:23,  3.75it/s]"
     ]
    },
    {
     "name": "stdout",
     "output_type": "stream",
     "text": [
      "Skipping frame 11 - Global MAD: 0.1250, Masked MAD: 0.3160 (threshold: 0.05)\n"
     ]
    },
    {
     "name": "stderr",
     "output_type": "stream",
     "text": [
      "Propagating parkour:  13%|█▎        | 13/99 [00:03<00:22,  3.74it/s]"
     ]
    },
    {
     "name": "stdout",
     "output_type": "stream",
     "text": [
      "Skipping frame 12 - Global MAD: 0.1257, Masked MAD: 0.3096 (threshold: 0.05)\n"
     ]
    },
    {
     "name": "stderr",
     "output_type": "stream",
     "text": [
      "Propagating parkour:  14%|█▍        | 14/99 [00:03<00:22,  3.74it/s]"
     ]
    },
    {
     "name": "stdout",
     "output_type": "stream",
     "text": [
      "Skipping frame 13 - Global MAD: 0.1272, Masked MAD: 0.3096 (threshold: 0.05)\n"
     ]
    },
    {
     "name": "stderr",
     "output_type": "stream",
     "text": [
      "Propagating parkour:  15%|█▌        | 15/99 [00:03<00:22,  3.73it/s]"
     ]
    },
    {
     "name": "stdout",
     "output_type": "stream",
     "text": [
      "Skipping frame 14 - Global MAD: 0.1291, Masked MAD: 0.3192 (threshold: 0.05)\n"
     ]
    },
    {
     "name": "stderr",
     "output_type": "stream",
     "text": [
      "Propagating parkour:  16%|█▌        | 16/99 [00:04<00:22,  3.73it/s]"
     ]
    },
    {
     "name": "stdout",
     "output_type": "stream",
     "text": [
      "Skipping frame 15 - Global MAD: 0.1321, Masked MAD: 0.3204 (threshold: 0.05)\n"
     ]
    },
    {
     "name": "stderr",
     "output_type": "stream",
     "text": [
      "Propagating parkour:  17%|█▋        | 17/99 [00:04<00:22,  3.72it/s]"
     ]
    },
    {
     "name": "stdout",
     "output_type": "stream",
     "text": [
      "Skipping frame 16 - Global MAD: 0.1350, Masked MAD: 0.3167 (threshold: 0.05)\n"
     ]
    },
    {
     "name": "stderr",
     "output_type": "stream",
     "text": [
      "Propagating parkour:  18%|█▊        | 18/99 [00:04<00:21,  3.71it/s]"
     ]
    },
    {
     "name": "stdout",
     "output_type": "stream",
     "text": [
      "Skipping frame 17 - Global MAD: 0.1381, Masked MAD: 0.3018 (threshold: 0.05)\n"
     ]
    },
    {
     "name": "stderr",
     "output_type": "stream",
     "text": [
      "Propagating parkour:  19%|█▉        | 19/99 [00:04<00:21,  3.72it/s]"
     ]
    },
    {
     "name": "stdout",
     "output_type": "stream",
     "text": [
      "Skipping frame 18 - Global MAD: 0.1404, Masked MAD: 0.2566 (threshold: 0.05)\n"
     ]
    },
    {
     "name": "stderr",
     "output_type": "stream",
     "text": [
      "Propagating parkour:  20%|██        | 20/99 [00:05<00:21,  3.73it/s]"
     ]
    },
    {
     "name": "stdout",
     "output_type": "stream",
     "text": [
      "Skipping frame 19 - Global MAD: 0.1431, Masked MAD: 0.2614 (threshold: 0.05)\n"
     ]
    },
    {
     "name": "stderr",
     "output_type": "stream",
     "text": [
      "Propagating parkour:  21%|██        | 21/99 [00:05<00:20,  3.73it/s]"
     ]
    },
    {
     "name": "stdout",
     "output_type": "stream",
     "text": [
      "Skipping frame 20 - Global MAD: 0.1453, Masked MAD: 0.2657 (threshold: 0.05)\n"
     ]
    },
    {
     "name": "stderr",
     "output_type": "stream",
     "text": [
      "Propagating parkour:  22%|██▏       | 22/99 [00:05<00:20,  3.73it/s]"
     ]
    },
    {
     "name": "stdout",
     "output_type": "stream",
     "text": [
      "Skipping frame 21 - Global MAD: 0.1469, Masked MAD: 0.2526 (threshold: 0.05)\n"
     ]
    },
    {
     "name": "stderr",
     "output_type": "stream",
     "text": [
      "Propagating parkour:  23%|██▎       | 23/99 [00:05<00:20,  3.72it/s]"
     ]
    },
    {
     "name": "stdout",
     "output_type": "stream",
     "text": [
      "Skipping frame 22 - Global MAD: 0.1475, Masked MAD: 0.2562 (threshold: 0.05)\n"
     ]
    },
    {
     "name": "stderr",
     "output_type": "stream",
     "text": [
      "Propagating parkour:  24%|██▍       | 24/99 [00:06<00:20,  3.73it/s]"
     ]
    },
    {
     "name": "stdout",
     "output_type": "stream",
     "text": [
      "Skipping frame 23 - Global MAD: 0.1474, Masked MAD: 0.2636 (threshold: 0.05)\n"
     ]
    },
    {
     "name": "stderr",
     "output_type": "stream",
     "text": [
      "Propagating parkour:  25%|██▌       | 25/99 [00:06<00:19,  3.73it/s]"
     ]
    },
    {
     "name": "stdout",
     "output_type": "stream",
     "text": [
      "Skipping frame 24 - Global MAD: 0.1484, Masked MAD: 0.2732 (threshold: 0.05)\n"
     ]
    },
    {
     "name": "stderr",
     "output_type": "stream",
     "text": [
      "Propagating parkour:  26%|██▋       | 26/99 [00:06<00:19,  3.73it/s]"
     ]
    },
    {
     "name": "stdout",
     "output_type": "stream",
     "text": [
      "Skipping frame 25 - Global MAD: 0.1497, Masked MAD: 0.2882 (threshold: 0.05)\n"
     ]
    },
    {
     "name": "stderr",
     "output_type": "stream",
     "text": [
      "Propagating parkour:  27%|██▋       | 27/99 [00:07<00:19,  3.73it/s]"
     ]
    },
    {
     "name": "stdout",
     "output_type": "stream",
     "text": [
      "Skipping frame 26 - Global MAD: 0.1503, Masked MAD: 0.2941 (threshold: 0.05)\n"
     ]
    },
    {
     "name": "stderr",
     "output_type": "stream",
     "text": [
      "Propagating parkour:  28%|██▊       | 28/99 [00:07<00:19,  3.74it/s]"
     ]
    },
    {
     "name": "stdout",
     "output_type": "stream",
     "text": [
      "Skipping frame 27 - Global MAD: 0.1518, Masked MAD: 0.2949 (threshold: 0.05)\n"
     ]
    },
    {
     "name": "stderr",
     "output_type": "stream",
     "text": [
      "Propagating parkour:  29%|██▉       | 29/99 [00:07<00:18,  3.74it/s]"
     ]
    },
    {
     "name": "stdout",
     "output_type": "stream",
     "text": [
      "Skipping frame 28 - Global MAD: 0.1520, Masked MAD: 0.2833 (threshold: 0.05)\n"
     ]
    },
    {
     "name": "stderr",
     "output_type": "stream",
     "text": [
      "Propagating parkour:  30%|███       | 30/99 [00:07<00:18,  3.73it/s]"
     ]
    },
    {
     "name": "stdout",
     "output_type": "stream",
     "text": [
      "Skipping frame 29 - Global MAD: 0.1523, Masked MAD: 0.2564 (threshold: 0.05)\n"
     ]
    },
    {
     "name": "stderr",
     "output_type": "stream",
     "text": [
      "Propagating parkour:  31%|███▏      | 31/99 [00:08<00:18,  3.73it/s]"
     ]
    },
    {
     "name": "stdout",
     "output_type": "stream",
     "text": [
      "Skipping frame 30 - Global MAD: 0.1528, Masked MAD: 0.2504 (threshold: 0.05)\n",
      "Avg FPS last 30 frames: 3.72\n"
     ]
    },
    {
     "name": "stderr",
     "output_type": "stream",
     "text": [
      "Propagating parkour:  32%|███▏      | 32/99 [00:08<00:17,  3.73it/s]"
     ]
    },
    {
     "name": "stdout",
     "output_type": "stream",
     "text": [
      "Skipping frame 31 - Global MAD: 0.1533, Masked MAD: 0.2341 (threshold: 0.05)\n"
     ]
    },
    {
     "name": "stderr",
     "output_type": "stream",
     "text": [
      "Propagating parkour:  33%|███▎      | 33/99 [00:08<00:17,  3.74it/s]"
     ]
    },
    {
     "name": "stdout",
     "output_type": "stream",
     "text": [
      "Skipping frame 32 - Global MAD: 0.1540, Masked MAD: 0.2222 (threshold: 0.05)\n"
     ]
    },
    {
     "name": "stderr",
     "output_type": "stream",
     "text": [
      "Propagating parkour:  34%|███▍      | 34/99 [00:08<00:17,  3.74it/s]"
     ]
    },
    {
     "name": "stdout",
     "output_type": "stream",
     "text": [
      "Skipping frame 33 - Global MAD: 0.1553, Masked MAD: 0.2029 (threshold: 0.05)\n"
     ]
    },
    {
     "name": "stderr",
     "output_type": "stream",
     "text": [
      "Propagating parkour:  35%|███▌      | 35/99 [00:09<00:17,  3.72it/s]"
     ]
    },
    {
     "name": "stdout",
     "output_type": "stream",
     "text": [
      "Skipping frame 34 - Global MAD: 0.1579, Masked MAD: 0.1945 (threshold: 0.05)\n"
     ]
    },
    {
     "name": "stderr",
     "output_type": "stream",
     "text": [
      "Propagating parkour:  36%|███▋      | 36/99 [00:09<00:16,  3.73it/s]"
     ]
    },
    {
     "name": "stdout",
     "output_type": "stream",
     "text": [
      "Skipping frame 35 - Global MAD: 0.1592, Masked MAD: 0.2168 (threshold: 0.05)\n"
     ]
    },
    {
     "name": "stderr",
     "output_type": "stream",
     "text": [
      "Propagating parkour:  37%|███▋      | 37/99 [00:09<00:16,  3.72it/s]"
     ]
    },
    {
     "name": "stdout",
     "output_type": "stream",
     "text": [
      "Skipping frame 36 - Global MAD: 0.1605, Masked MAD: 0.2228 (threshold: 0.05)\n"
     ]
    },
    {
     "name": "stderr",
     "output_type": "stream",
     "text": [
      "Propagating parkour:  38%|███▊      | 38/99 [00:09<00:16,  3.70it/s]"
     ]
    },
    {
     "name": "stdout",
     "output_type": "stream",
     "text": [
      "Skipping frame 37 - Global MAD: 0.1631, Masked MAD: 0.2226 (threshold: 0.05)\n"
     ]
    },
    {
     "name": "stderr",
     "output_type": "stream",
     "text": [
      "Propagating parkour:  39%|███▉      | 39/99 [00:10<00:16,  3.70it/s]"
     ]
    },
    {
     "name": "stdout",
     "output_type": "stream",
     "text": [
      "Skipping frame 38 - Global MAD: 0.1667, Masked MAD: 0.2406 (threshold: 0.05)\n"
     ]
    },
    {
     "name": "stderr",
     "output_type": "stream",
     "text": [
      "Propagating parkour:  40%|████      | 40/99 [00:10<00:15,  3.70it/s]"
     ]
    },
    {
     "name": "stdout",
     "output_type": "stream",
     "text": [
      "Skipping frame 39 - Global MAD: 0.1729, Masked MAD: 0.2567 (threshold: 0.05)\n"
     ]
    },
    {
     "name": "stderr",
     "output_type": "stream",
     "text": [
      "Propagating parkour:  41%|████▏     | 41/99 [00:10<00:15,  3.70it/s]"
     ]
    },
    {
     "name": "stdout",
     "output_type": "stream",
     "text": [
      "Skipping frame 40 - Global MAD: 0.1790, Masked MAD: 0.2404 (threshold: 0.05)\n"
     ]
    },
    {
     "name": "stderr",
     "output_type": "stream",
     "text": [
      "Propagating parkour:  42%|████▏     | 42/99 [00:11<00:15,  3.69it/s]"
     ]
    },
    {
     "name": "stdout",
     "output_type": "stream",
     "text": [
      "Skipping frame 41 - Global MAD: 0.1836, Masked MAD: 0.2783 (threshold: 0.05)\n"
     ]
    },
    {
     "name": "stderr",
     "output_type": "stream",
     "text": [
      "Propagating parkour:  43%|████▎     | 43/99 [00:11<00:15,  3.68it/s]"
     ]
    },
    {
     "name": "stdout",
     "output_type": "stream",
     "text": [
      "Skipping frame 42 - Global MAD: 0.1850, Masked MAD: 0.3085 (threshold: 0.05)\n"
     ]
    },
    {
     "name": "stderr",
     "output_type": "stream",
     "text": [
      "Propagating parkour:  44%|████▍     | 44/99 [00:11<00:14,  3.68it/s]"
     ]
    },
    {
     "name": "stdout",
     "output_type": "stream",
     "text": [
      "Skipping frame 43 - Global MAD: 0.1898, Masked MAD: 0.3152 (threshold: 0.05)\n"
     ]
    },
    {
     "name": "stderr",
     "output_type": "stream",
     "text": [
      "Propagating parkour:  45%|████▌     | 45/99 [00:11<00:14,  3.68it/s]"
     ]
    },
    {
     "name": "stdout",
     "output_type": "stream",
     "text": [
      "Skipping frame 44 - Global MAD: 0.1931, Masked MAD: 0.3272 (threshold: 0.05)\n"
     ]
    },
    {
     "name": "stderr",
     "output_type": "stream",
     "text": [
      "Propagating parkour:  46%|████▋     | 46/99 [00:12<00:14,  3.67it/s]"
     ]
    },
    {
     "name": "stdout",
     "output_type": "stream",
     "text": [
      "Skipping frame 45 - Global MAD: 0.1954, Masked MAD: 0.3323 (threshold: 0.05)\n"
     ]
    },
    {
     "name": "stderr",
     "output_type": "stream",
     "text": [
      "Propagating parkour:  47%|████▋     | 47/99 [00:12<00:14,  3.67it/s]"
     ]
    },
    {
     "name": "stdout",
     "output_type": "stream",
     "text": [
      "Skipping frame 46 - Global MAD: 0.1974, Masked MAD: 0.3130 (threshold: 0.05)\n"
     ]
    },
    {
     "name": "stderr",
     "output_type": "stream",
     "text": [
      "Propagating parkour:  48%|████▊     | 48/99 [00:12<00:13,  3.69it/s]"
     ]
    },
    {
     "name": "stdout",
     "output_type": "stream",
     "text": [
      "Skipping frame 47 - Global MAD: 0.1981, Masked MAD: 0.2752 (threshold: 0.05)\n"
     ]
    },
    {
     "name": "stderr",
     "output_type": "stream",
     "text": [
      "Propagating parkour:  49%|████▉     | 49/99 [00:12<00:13,  3.69it/s]"
     ]
    },
    {
     "name": "stdout",
     "output_type": "stream",
     "text": [
      "Skipping frame 48 - Global MAD: 0.2019, Masked MAD: 0.2445 (threshold: 0.05)\n"
     ]
    },
    {
     "name": "stderr",
     "output_type": "stream",
     "text": [
      "Propagating parkour:  51%|█████     | 50/99 [00:13<00:13,  3.68it/s]"
     ]
    },
    {
     "name": "stdout",
     "output_type": "stream",
     "text": [
      "Skipping frame 49 - Global MAD: 0.2057, Masked MAD: 0.2201 (threshold: 0.05)\n"
     ]
    },
    {
     "name": "stderr",
     "output_type": "stream",
     "text": [
      "Propagating parkour:  52%|█████▏    | 51/99 [00:13<00:13,  3.68it/s]"
     ]
    },
    {
     "name": "stdout",
     "output_type": "stream",
     "text": [
      "Skipping frame 50 - Global MAD: 0.2068, Masked MAD: 0.2490 (threshold: 0.05)\n"
     ]
    },
    {
     "name": "stderr",
     "output_type": "stream",
     "text": [
      "Propagating parkour:  53%|█████▎    | 52/99 [00:13<00:12,  3.70it/s]"
     ]
    },
    {
     "name": "stdout",
     "output_type": "stream",
     "text": [
      "Skipping frame 51 - Global MAD: 0.2047, Masked MAD: 0.2430 (threshold: 0.05)\n"
     ]
    },
    {
     "name": "stderr",
     "output_type": "stream",
     "text": [
      "Propagating parkour:  54%|█████▎    | 53/99 [00:14<00:12,  3.70it/s]"
     ]
    },
    {
     "name": "stdout",
     "output_type": "stream",
     "text": [
      "Skipping frame 52 - Global MAD: 0.2027, Masked MAD: 0.2379 (threshold: 0.05)\n"
     ]
    },
    {
     "name": "stderr",
     "output_type": "stream",
     "text": [
      "Propagating parkour:  55%|█████▍    | 54/99 [00:14<00:12,  3.70it/s]"
     ]
    },
    {
     "name": "stdout",
     "output_type": "stream",
     "text": [
      "Skipping frame 53 - Global MAD: 0.2060, Masked MAD: 0.2343 (threshold: 0.05)\n"
     ]
    },
    {
     "name": "stderr",
     "output_type": "stream",
     "text": [
      "Propagating parkour:  56%|█████▌    | 55/99 [00:14<00:11,  3.69it/s]"
     ]
    },
    {
     "name": "stdout",
     "output_type": "stream",
     "text": [
      "Skipping frame 54 - Global MAD: 0.2107, Masked MAD: 0.2160 (threshold: 0.05)\n"
     ]
    },
    {
     "name": "stderr",
     "output_type": "stream",
     "text": [
      "Propagating parkour:  57%|█████▋    | 56/99 [00:14<00:11,  3.70it/s]"
     ]
    },
    {
     "name": "stdout",
     "output_type": "stream",
     "text": [
      "Skipping frame 55 - Global MAD: 0.2102, Masked MAD: 0.2069 (threshold: 0.05)\n"
     ]
    },
    {
     "name": "stderr",
     "output_type": "stream",
     "text": [
      "Propagating parkour:  58%|█████▊    | 57/99 [00:15<00:11,  3.71it/s]"
     ]
    },
    {
     "name": "stdout",
     "output_type": "stream",
     "text": [
      "Skipping frame 56 - Global MAD: 0.2112, Masked MAD: 0.2051 (threshold: 0.05)\n"
     ]
    },
    {
     "name": "stderr",
     "output_type": "stream",
     "text": [
      "Propagating parkour:  59%|█████▊    | 58/99 [00:15<00:11,  3.70it/s]"
     ]
    },
    {
     "name": "stdout",
     "output_type": "stream",
     "text": [
      "Skipping frame 57 - Global MAD: 0.2146, Masked MAD: 0.2072 (threshold: 0.05)\n"
     ]
    },
    {
     "name": "stderr",
     "output_type": "stream",
     "text": [
      "Propagating parkour:  60%|█████▉    | 59/99 [00:15<00:10,  3.70it/s]"
     ]
    },
    {
     "name": "stdout",
     "output_type": "stream",
     "text": [
      "Skipping frame 58 - Global MAD: 0.2199, Masked MAD: 0.2243 (threshold: 0.05)\n"
     ]
    },
    {
     "name": "stderr",
     "output_type": "stream",
     "text": [
      "Propagating parkour:  61%|██████    | 60/99 [00:15<00:10,  3.70it/s]"
     ]
    },
    {
     "name": "stdout",
     "output_type": "stream",
     "text": [
      "Skipping frame 59 - Global MAD: 0.2245, Masked MAD: 0.2242 (threshold: 0.05)\n"
     ]
    },
    {
     "name": "stderr",
     "output_type": "stream",
     "text": [
      "Propagating parkour:  62%|██████▏   | 61/99 [00:16<00:10,  3.69it/s]"
     ]
    },
    {
     "name": "stdout",
     "output_type": "stream",
     "text": [
      "Skipping frame 60 - Global MAD: 0.2263, Masked MAD: 0.2332 (threshold: 0.05)\n",
      "Avg FPS last 30 frames: 3.70\n"
     ]
    },
    {
     "name": "stderr",
     "output_type": "stream",
     "text": [
      "Propagating parkour:  63%|██████▎   | 62/99 [00:16<00:09,  3.71it/s]"
     ]
    },
    {
     "name": "stdout",
     "output_type": "stream",
     "text": [
      "Skipping frame 61 - Global MAD: 0.2269, Masked MAD: 0.2516 (threshold: 0.05)\n"
     ]
    },
    {
     "name": "stderr",
     "output_type": "stream",
     "text": [
      "Propagating parkour:  64%|██████▎   | 63/99 [00:16<00:09,  3.70it/s]"
     ]
    },
    {
     "name": "stdout",
     "output_type": "stream",
     "text": [
      "Skipping frame 62 - Global MAD: 0.2266, Masked MAD: 0.2522 (threshold: 0.05)\n"
     ]
    },
    {
     "name": "stderr",
     "output_type": "stream",
     "text": [
      "Propagating parkour:  65%|██████▍   | 64/99 [00:17<00:09,  3.70it/s]"
     ]
    },
    {
     "name": "stdout",
     "output_type": "stream",
     "text": [
      "Skipping frame 63 - Global MAD: 0.2258, Masked MAD: 0.2420 (threshold: 0.05)\n"
     ]
    },
    {
     "name": "stderr",
     "output_type": "stream",
     "text": [
      "Propagating parkour:  66%|██████▌   | 65/99 [00:17<00:09,  3.70it/s]"
     ]
    },
    {
     "name": "stdout",
     "output_type": "stream",
     "text": [
      "Skipping frame 64 - Global MAD: 0.2273, Masked MAD: 0.2134 (threshold: 0.05)\n"
     ]
    },
    {
     "name": "stderr",
     "output_type": "stream",
     "text": [
      "Propagating parkour:  67%|██████▋   | 66/99 [00:17<00:08,  3.69it/s]"
     ]
    },
    {
     "name": "stdout",
     "output_type": "stream",
     "text": [
      "Skipping frame 65 - Global MAD: 0.2294, Masked MAD: 0.1963 (threshold: 0.05)\n"
     ]
    },
    {
     "name": "stderr",
     "output_type": "stream",
     "text": [
      "Propagating parkour:  68%|██████▊   | 67/99 [00:17<00:08,  3.69it/s]"
     ]
    },
    {
     "name": "stdout",
     "output_type": "stream",
     "text": [
      "Skipping frame 66 - Global MAD: 0.2319, Masked MAD: 0.1955 (threshold: 0.05)\n"
     ]
    },
    {
     "name": "stderr",
     "output_type": "stream",
     "text": [
      "Propagating parkour:  69%|██████▊   | 68/99 [00:18<00:08,  3.70it/s]"
     ]
    },
    {
     "name": "stdout",
     "output_type": "stream",
     "text": [
      "Skipping frame 67 - Global MAD: 0.2334, Masked MAD: 0.1990 (threshold: 0.05)\n"
     ]
    },
    {
     "name": "stderr",
     "output_type": "stream",
     "text": [
      "Propagating parkour:  70%|██████▉   | 69/99 [00:18<00:08,  3.70it/s]"
     ]
    },
    {
     "name": "stdout",
     "output_type": "stream",
     "text": [
      "Skipping frame 68 - Global MAD: 0.2370, Masked MAD: 0.2039 (threshold: 0.05)\n"
     ]
    },
    {
     "name": "stderr",
     "output_type": "stream",
     "text": [
      "Propagating parkour:  71%|███████   | 70/99 [00:18<00:07,  3.69it/s]"
     ]
    },
    {
     "name": "stdout",
     "output_type": "stream",
     "text": [
      "Skipping frame 69 - Global MAD: 0.2420, Masked MAD: 0.2171 (threshold: 0.05)\n"
     ]
    },
    {
     "name": "stderr",
     "output_type": "stream",
     "text": [
      "Propagating parkour:  72%|███████▏  | 71/99 [00:18<00:07,  3.67it/s]"
     ]
    },
    {
     "name": "stdout",
     "output_type": "stream",
     "text": [
      "Skipping frame 70 - Global MAD: 0.2465, Masked MAD: 0.2267 (threshold: 0.05)\n"
     ]
    },
    {
     "name": "stderr",
     "output_type": "stream",
     "text": [
      "Propagating parkour:  73%|███████▎  | 72/99 [00:19<00:07,  3.68it/s]"
     ]
    },
    {
     "name": "stdout",
     "output_type": "stream",
     "text": [
      "Skipping frame 71 - Global MAD: 0.2493, Masked MAD: 0.2258 (threshold: 0.05)\n"
     ]
    },
    {
     "name": "stderr",
     "output_type": "stream",
     "text": [
      "Propagating parkour:  74%|███████▎  | 73/99 [00:19<00:07,  3.67it/s]"
     ]
    },
    {
     "name": "stdout",
     "output_type": "stream",
     "text": [
      "Skipping frame 72 - Global MAD: 0.2532, Masked MAD: 0.2223 (threshold: 0.05)\n"
     ]
    },
    {
     "name": "stderr",
     "output_type": "stream",
     "text": [
      "Propagating parkour:  75%|███████▍  | 74/99 [00:19<00:06,  3.67it/s]"
     ]
    },
    {
     "name": "stdout",
     "output_type": "stream",
     "text": [
      "Skipping frame 73 - Global MAD: 0.2546, Masked MAD: 0.2165 (threshold: 0.05)\n"
     ]
    },
    {
     "name": "stderr",
     "output_type": "stream",
     "text": [
      "Propagating parkour:  76%|███████▌  | 75/99 [00:19<00:06,  3.66it/s]"
     ]
    },
    {
     "name": "stdout",
     "output_type": "stream",
     "text": [
      "Skipping frame 74 - Global MAD: 0.2554, Masked MAD: 0.2136 (threshold: 0.05)\n"
     ]
    },
    {
     "name": "stderr",
     "output_type": "stream",
     "text": [
      "Propagating parkour:  77%|███████▋  | 76/99 [00:20<00:06,  3.66it/s]"
     ]
    },
    {
     "name": "stdout",
     "output_type": "stream",
     "text": [
      "Skipping frame 75 - Global MAD: 0.2557, Masked MAD: 0.2118 (threshold: 0.05)\n"
     ]
    },
    {
     "name": "stderr",
     "output_type": "stream",
     "text": [
      "Propagating parkour:  78%|███████▊  | 77/99 [00:20<00:05,  3.67it/s]"
     ]
    },
    {
     "name": "stdout",
     "output_type": "stream",
     "text": [
      "Skipping frame 76 - Global MAD: 0.2575, Masked MAD: 0.2085 (threshold: 0.05)\n"
     ]
    },
    {
     "name": "stderr",
     "output_type": "stream",
     "text": [
      "Propagating parkour:  79%|███████▉  | 78/99 [00:20<00:05,  3.64it/s]"
     ]
    },
    {
     "name": "stdout",
     "output_type": "stream",
     "text": [
      "Skipping frame 77 - Global MAD: 0.2584, Masked MAD: 0.2169 (threshold: 0.05)\n"
     ]
    },
    {
     "name": "stderr",
     "output_type": "stream",
     "text": [
      "Propagating parkour:  80%|███████▉  | 79/99 [00:21<00:05,  3.64it/s]"
     ]
    },
    {
     "name": "stdout",
     "output_type": "stream",
     "text": [
      "Skipping frame 78 - Global MAD: 0.2570, Masked MAD: 0.2323 (threshold: 0.05)\n"
     ]
    },
    {
     "name": "stderr",
     "output_type": "stream",
     "text": [
      "Propagating parkour:  81%|████████  | 80/99 [00:21<00:05,  3.65it/s]"
     ]
    },
    {
     "name": "stdout",
     "output_type": "stream",
     "text": [
      "Skipping frame 79 - Global MAD: 0.2572, Masked MAD: 0.2367 (threshold: 0.05)\n"
     ]
    },
    {
     "name": "stderr",
     "output_type": "stream",
     "text": [
      "Propagating parkour:  82%|████████▏ | 81/99 [00:21<00:04,  3.65it/s]"
     ]
    },
    {
     "name": "stdout",
     "output_type": "stream",
     "text": [
      "Skipping frame 80 - Global MAD: 0.2579, Masked MAD: 0.2384 (threshold: 0.05)\n"
     ]
    },
    {
     "name": "stderr",
     "output_type": "stream",
     "text": [
      "Propagating parkour:  83%|████████▎ | 82/99 [00:21<00:04,  3.65it/s]"
     ]
    },
    {
     "name": "stdout",
     "output_type": "stream",
     "text": [
      "Skipping frame 81 - Global MAD: 0.2600, Masked MAD: 0.2388 (threshold: 0.05)\n"
     ]
    },
    {
     "name": "stderr",
     "output_type": "stream",
     "text": [
      "Propagating parkour:  84%|████████▍ | 83/99 [00:22<00:04,  3.66it/s]"
     ]
    },
    {
     "name": "stdout",
     "output_type": "stream",
     "text": [
      "Skipping frame 82 - Global MAD: 0.2617, Masked MAD: 0.2345 (threshold: 0.05)\n"
     ]
    },
    {
     "name": "stderr",
     "output_type": "stream",
     "text": [
      "Propagating parkour:  85%|████████▍ | 84/99 [00:22<00:04,  3.66it/s]"
     ]
    },
    {
     "name": "stdout",
     "output_type": "stream",
     "text": [
      "Skipping frame 83 - Global MAD: 0.2642, Masked MAD: 0.2284 (threshold: 0.05)\n"
     ]
    },
    {
     "name": "stderr",
     "output_type": "stream",
     "text": [
      "Propagating parkour:  86%|████████▌ | 85/99 [00:22<00:03,  3.67it/s]"
     ]
    },
    {
     "name": "stdout",
     "output_type": "stream",
     "text": [
      "Skipping frame 84 - Global MAD: 0.2669, Masked MAD: 0.2223 (threshold: 0.05)\n"
     ]
    },
    {
     "name": "stderr",
     "output_type": "stream",
     "text": [
      "Propagating parkour:  87%|████████▋ | 86/99 [00:23<00:03,  3.66it/s]"
     ]
    },
    {
     "name": "stdout",
     "output_type": "stream",
     "text": [
      "Skipping frame 85 - Global MAD: 0.2699, Masked MAD: 0.2257 (threshold: 0.05)\n"
     ]
    },
    {
     "name": "stderr",
     "output_type": "stream",
     "text": [
      "Propagating parkour:  88%|████████▊ | 87/99 [00:23<00:03,  3.67it/s]"
     ]
    },
    {
     "name": "stdout",
     "output_type": "stream",
     "text": [
      "Skipping frame 86 - Global MAD: 0.2731, Masked MAD: 0.2246 (threshold: 0.05)\n"
     ]
    },
    {
     "name": "stderr",
     "output_type": "stream",
     "text": [
      "Propagating parkour:  89%|████████▉ | 88/99 [00:23<00:02,  3.68it/s]"
     ]
    },
    {
     "name": "stdout",
     "output_type": "stream",
     "text": [
      "Skipping frame 87 - Global MAD: 0.2760, Masked MAD: 0.2261 (threshold: 0.05)\n"
     ]
    },
    {
     "name": "stderr",
     "output_type": "stream",
     "text": [
      "Propagating parkour:  90%|████████▉ | 89/99 [00:23<00:02,  3.68it/s]"
     ]
    },
    {
     "name": "stdout",
     "output_type": "stream",
     "text": [
      "Skipping frame 88 - Global MAD: 0.2790, Masked MAD: 0.2278 (threshold: 0.05)\n"
     ]
    },
    {
     "name": "stderr",
     "output_type": "stream",
     "text": [
      "Propagating parkour:  91%|█████████ | 90/99 [00:24<00:02,  3.67it/s]"
     ]
    },
    {
     "name": "stdout",
     "output_type": "stream",
     "text": [
      "Skipping frame 89 - Global MAD: 0.2813, Masked MAD: 0.2281 (threshold: 0.05)\n"
     ]
    },
    {
     "name": "stderr",
     "output_type": "stream",
     "text": [
      "Propagating parkour:  92%|█████████▏| 91/99 [00:24<00:02,  3.68it/s]"
     ]
    },
    {
     "name": "stdout",
     "output_type": "stream",
     "text": [
      "Skipping frame 90 - Global MAD: 0.2837, Masked MAD: 0.2267 (threshold: 0.05)\n",
      "Avg FPS last 30 frames: 3.67\n"
     ]
    },
    {
     "name": "stderr",
     "output_type": "stream",
     "text": [
      "Propagating parkour:  93%|█████████▎| 92/99 [00:24<00:01,  3.68it/s]"
     ]
    },
    {
     "name": "stdout",
     "output_type": "stream",
     "text": [
      "Skipping frame 91 - Global MAD: 0.2866, Masked MAD: 0.2260 (threshold: 0.05)\n"
     ]
    },
    {
     "name": "stderr",
     "output_type": "stream",
     "text": [
      "Propagating parkour:  94%|█████████▍| 93/99 [00:24<00:01,  3.68it/s]"
     ]
    },
    {
     "name": "stdout",
     "output_type": "stream",
     "text": [
      "Skipping frame 92 - Global MAD: 0.2910, Masked MAD: 0.2205 (threshold: 0.05)\n"
     ]
    },
    {
     "name": "stderr",
     "output_type": "stream",
     "text": [
      "Propagating parkour:  95%|█████████▍| 94/99 [00:25<00:01,  3.67it/s]"
     ]
    },
    {
     "name": "stdout",
     "output_type": "stream",
     "text": [
      "Skipping frame 93 - Global MAD: 0.2951, Masked MAD: 0.2077 (threshold: 0.05)\n"
     ]
    },
    {
     "name": "stderr",
     "output_type": "stream",
     "text": [
      "Propagating parkour:  96%|█████████▌| 95/99 [00:25<00:01,  3.67it/s]"
     ]
    },
    {
     "name": "stdout",
     "output_type": "stream",
     "text": [
      "Skipping frame 94 - Global MAD: 0.2971, Masked MAD: 0.1903 (threshold: 0.05)\n"
     ]
    },
    {
     "name": "stderr",
     "output_type": "stream",
     "text": [
      "Propagating parkour:  97%|█████████▋| 96/99 [00:25<00:00,  3.67it/s]"
     ]
    },
    {
     "name": "stdout",
     "output_type": "stream",
     "text": [
      "Skipping frame 95 - Global MAD: 0.2972, Masked MAD: 0.1827 (threshold: 0.05)\n"
     ]
    },
    {
     "name": "stderr",
     "output_type": "stream",
     "text": [
      "Propagating parkour:  98%|█████████▊| 97/99 [00:25<00:00,  3.67it/s]"
     ]
    },
    {
     "name": "stdout",
     "output_type": "stream",
     "text": [
      "Skipping frame 96 - Global MAD: 0.2969, Masked MAD: 0.1752 (threshold: 0.05)\n"
     ]
    },
    {
     "name": "stderr",
     "output_type": "stream",
     "text": [
      "Propagating parkour:  99%|█████████▉| 98/99 [00:26<00:00,  3.66it/s]"
     ]
    },
    {
     "name": "stdout",
     "output_type": "stream",
     "text": [
      "Skipping frame 97 - Global MAD: 0.2966, Masked MAD: 0.1743 (threshold: 0.05)\n"
     ]
    },
    {
     "name": "stderr",
     "output_type": "stream",
     "text": [
      "Propagating parkour: 100%|██████████| 99/99 [00:26<00:00,  3.65it/s]"
     ]
    },
    {
     "name": "stdout",
     "output_type": "stream",
     "text": [
      "Skipping frame 98 - Global MAD: 0.2972, Masked MAD: 0.1743 (threshold: 0.05)\n"
     ]
    },
    {
     "name": "stderr",
     "output_type": "stream",
     "text": [
      "propagate in video: 100%|██████████| 100/100 [00:26<00:00,  3.73it/s]\n",
      "Propagating parkour: 100it [00:26,  3.73it/s]\n"
     ]
    },
    {
     "name": "stdout",
     "output_type": "stream",
     "text": [
      "Skipping frame 99 - Global MAD: 0.2981, Masked MAD: 0.1681 (threshold: 0.05)\n",
      "Skipped 99 frames due to low MAD.\n",
      "→ Saved all predicted masks for parkour in data/DAVIS2017_mgfs_naive/parkour\n",
      "\n",
      "=== Processing sequence: pigs ===\n"
     ]
    },
    {
     "name": "stderr",
     "output_type": "stream",
     "text": [
      "frame loading (JPEG): 100%|██████████| 79/79 [00:01<00:00, 50.48it/s]\n"
     ]
    },
    {
     "name": "stdout",
     "output_type": "stream",
     "text": [
      "Found 3 unique non‐black colors in pigs/00000.png\n"
     ]
    },
    {
     "name": "stderr",
     "output_type": "stream",
     "text": [
      "Propagating pigs:   3%|▎         | 2/78 [00:00<00:11,  6.39it/s]"
     ]
    },
    {
     "name": "stdout",
     "output_type": "stream",
     "text": [
      "Skipping frame 1 - Global MAD: 0.0399, Masked MAD: 0.0296 (threshold: 0.05)\n"
     ]
    },
    {
     "name": "stderr",
     "output_type": "stream",
     "text": [
      "Propagating pigs:   4%|▍         | 3/78 [00:00<00:15,  4.71it/s]"
     ]
    },
    {
     "name": "stdout",
     "output_type": "stream",
     "text": [
      "Skipping frame 2 - Global MAD: 0.0526, Masked MAD: 0.0453 (threshold: 0.05)\n"
     ]
    },
    {
     "name": "stderr",
     "output_type": "stream",
     "text": [
      "Propagating pigs:   5%|▌         | 4/78 [00:00<00:17,  4.15it/s]"
     ]
    },
    {
     "name": "stdout",
     "output_type": "stream",
     "text": [
      "Skipping frame 3 - Global MAD: 0.0601, Masked MAD: 0.0557 (threshold: 0.05)\n"
     ]
    },
    {
     "name": "stderr",
     "output_type": "stream",
     "text": [
      "Propagating pigs:   6%|▋         | 5/78 [00:01<00:18,  3.88it/s]"
     ]
    },
    {
     "name": "stdout",
     "output_type": "stream",
     "text": [
      "Skipping frame 4 - Global MAD: 0.0653, Masked MAD: 0.0637 (threshold: 0.05)\n"
     ]
    },
    {
     "name": "stderr",
     "output_type": "stream",
     "text": [
      "Propagating pigs:   8%|▊         | 6/78 [00:01<00:19,  3.72it/s]"
     ]
    },
    {
     "name": "stdout",
     "output_type": "stream",
     "text": [
      "Skipping frame 5 - Global MAD: 0.0702, Masked MAD: 0.0716 (threshold: 0.05)\n"
     ]
    },
    {
     "name": "stderr",
     "output_type": "stream",
     "text": [
      "Propagating pigs:   9%|▉         | 7/78 [00:01<00:19,  3.63it/s]"
     ]
    },
    {
     "name": "stdout",
     "output_type": "stream",
     "text": [
      "Skipping frame 6 - Global MAD: 0.0745, Masked MAD: 0.0790 (threshold: 0.05)\n"
     ]
    },
    {
     "name": "stderr",
     "output_type": "stream",
     "text": [
      "Propagating pigs:  10%|█         | 8/78 [00:02<00:19,  3.57it/s]"
     ]
    },
    {
     "name": "stdout",
     "output_type": "stream",
     "text": [
      "Skipping frame 7 - Global MAD: 0.0765, Masked MAD: 0.0819 (threshold: 0.05)\n"
     ]
    },
    {
     "name": "stderr",
     "output_type": "stream",
     "text": [
      "Propagating pigs:  12%|█▏        | 9/78 [00:02<00:19,  3.54it/s]"
     ]
    },
    {
     "name": "stdout",
     "output_type": "stream",
     "text": [
      "Skipping frame 8 - Global MAD: 0.0780, Masked MAD: 0.0837 (threshold: 0.05)\n"
     ]
    },
    {
     "name": "stderr",
     "output_type": "stream",
     "text": [
      "Propagating pigs:  13%|█▎        | 10/78 [00:02<00:19,  3.51it/s]"
     ]
    },
    {
     "name": "stdout",
     "output_type": "stream",
     "text": [
      "Skipping frame 9 - Global MAD: 0.0787, Masked MAD: 0.0854 (threshold: 0.05)\n"
     ]
    },
    {
     "name": "stderr",
     "output_type": "stream",
     "text": [
      "Propagating pigs:  14%|█▍        | 11/78 [00:02<00:19,  3.50it/s]"
     ]
    },
    {
     "name": "stdout",
     "output_type": "stream",
     "text": [
      "Skipping frame 10 - Global MAD: 0.0792, Masked MAD: 0.0870 (threshold: 0.05)\n"
     ]
    },
    {
     "name": "stderr",
     "output_type": "stream",
     "text": [
      "Propagating pigs:  15%|█▌        | 12/78 [00:03<00:18,  3.49it/s]"
     ]
    },
    {
     "name": "stdout",
     "output_type": "stream",
     "text": [
      "Skipping frame 11 - Global MAD: 0.0805, Masked MAD: 0.0897 (threshold: 0.05)\n"
     ]
    },
    {
     "name": "stderr",
     "output_type": "stream",
     "text": [
      "Propagating pigs:  17%|█▋        | 13/78 [00:03<00:18,  3.48it/s]"
     ]
    },
    {
     "name": "stdout",
     "output_type": "stream",
     "text": [
      "Skipping frame 12 - Global MAD: 0.0823, Masked MAD: 0.0930 (threshold: 0.05)\n"
     ]
    },
    {
     "name": "stderr",
     "output_type": "stream",
     "text": [
      "Propagating pigs:  18%|█▊        | 14/78 [00:03<00:18,  3.47it/s]"
     ]
    },
    {
     "name": "stdout",
     "output_type": "stream",
     "text": [
      "Skipping frame 13 - Global MAD: 0.0834, Masked MAD: 0.0967 (threshold: 0.05)\n"
     ]
    },
    {
     "name": "stderr",
     "output_type": "stream",
     "text": [
      "Propagating pigs:  19%|█▉        | 15/78 [00:04<00:18,  3.47it/s]"
     ]
    },
    {
     "name": "stdout",
     "output_type": "stream",
     "text": [
      "Skipping frame 14 - Global MAD: 0.0842, Masked MAD: 0.0992 (threshold: 0.05)\n"
     ]
    },
    {
     "name": "stderr",
     "output_type": "stream",
     "text": [
      "Propagating pigs:  21%|██        | 16/78 [00:04<00:17,  3.47it/s]"
     ]
    },
    {
     "name": "stdout",
     "output_type": "stream",
     "text": [
      "Skipping frame 15 - Global MAD: 0.0848, Masked MAD: 0.1000 (threshold: 0.05)\n"
     ]
    },
    {
     "name": "stderr",
     "output_type": "stream",
     "text": [
      "Propagating pigs:  22%|██▏       | 17/78 [00:04<00:17,  3.47it/s]"
     ]
    },
    {
     "name": "stdout",
     "output_type": "stream",
     "text": [
      "Skipping frame 16 - Global MAD: 0.0851, Masked MAD: 0.0999 (threshold: 0.05)\n"
     ]
    },
    {
     "name": "stderr",
     "output_type": "stream",
     "text": [
      "Propagating pigs:  23%|██▎       | 18/78 [00:04<00:17,  3.48it/s]"
     ]
    },
    {
     "name": "stdout",
     "output_type": "stream",
     "text": [
      "Skipping frame 17 - Global MAD: 0.0851, Masked MAD: 0.0997 (threshold: 0.05)\n"
     ]
    },
    {
     "name": "stderr",
     "output_type": "stream",
     "text": [
      "Propagating pigs:  24%|██▍       | 19/78 [00:05<00:16,  3.48it/s]"
     ]
    },
    {
     "name": "stdout",
     "output_type": "stream",
     "text": [
      "Skipping frame 18 - Global MAD: 0.0851, Masked MAD: 0.1006 (threshold: 0.05)\n"
     ]
    },
    {
     "name": "stderr",
     "output_type": "stream",
     "text": [
      "Propagating pigs:  26%|██▌       | 20/78 [00:05<00:16,  3.48it/s]"
     ]
    },
    {
     "name": "stdout",
     "output_type": "stream",
     "text": [
      "Skipping frame 19 - Global MAD: 0.0851, Masked MAD: 0.1016 (threshold: 0.05)\n"
     ]
    },
    {
     "name": "stderr",
     "output_type": "stream",
     "text": [
      "Propagating pigs:  27%|██▋       | 21/78 [00:05<00:16,  3.47it/s]"
     ]
    },
    {
     "name": "stdout",
     "output_type": "stream",
     "text": [
      "Skipping frame 20 - Global MAD: 0.0847, Masked MAD: 0.1017 (threshold: 0.05)\n"
     ]
    },
    {
     "name": "stderr",
     "output_type": "stream",
     "text": [
      "Propagating pigs:  28%|██▊       | 22/78 [00:06<00:16,  3.48it/s]"
     ]
    },
    {
     "name": "stdout",
     "output_type": "stream",
     "text": [
      "Skipping frame 21 - Global MAD: 0.0848, Masked MAD: 0.1032 (threshold: 0.05)\n"
     ]
    },
    {
     "name": "stderr",
     "output_type": "stream",
     "text": [
      "Propagating pigs:  29%|██▉       | 23/78 [00:06<00:15,  3.48it/s]"
     ]
    },
    {
     "name": "stdout",
     "output_type": "stream",
     "text": [
      "Skipping frame 22 - Global MAD: 0.0851, Masked MAD: 0.1042 (threshold: 0.05)\n"
     ]
    },
    {
     "name": "stderr",
     "output_type": "stream",
     "text": [
      "Propagating pigs:  31%|███       | 24/78 [00:06<00:15,  3.48it/s]"
     ]
    },
    {
     "name": "stdout",
     "output_type": "stream",
     "text": [
      "Skipping frame 23 - Global MAD: 0.0849, Masked MAD: 0.1040 (threshold: 0.05)\n"
     ]
    },
    {
     "name": "stderr",
     "output_type": "stream",
     "text": [
      "Propagating pigs:  32%|███▏      | 25/78 [00:06<00:15,  3.48it/s]"
     ]
    },
    {
     "name": "stdout",
     "output_type": "stream",
     "text": [
      "Skipping frame 24 - Global MAD: 0.0847, Masked MAD: 0.1038 (threshold: 0.05)\n"
     ]
    },
    {
     "name": "stderr",
     "output_type": "stream",
     "text": [
      "Propagating pigs:  33%|███▎      | 26/78 [00:07<00:14,  3.49it/s]"
     ]
    },
    {
     "name": "stdout",
     "output_type": "stream",
     "text": [
      "Skipping frame 25 - Global MAD: 0.0847, Masked MAD: 0.1038 (threshold: 0.05)\n"
     ]
    },
    {
     "name": "stderr",
     "output_type": "stream",
     "text": [
      "Propagating pigs:  35%|███▍      | 27/78 [00:07<00:14,  3.48it/s]"
     ]
    },
    {
     "name": "stdout",
     "output_type": "stream",
     "text": [
      "Skipping frame 26 - Global MAD: 0.0852, Masked MAD: 0.1049 (threshold: 0.05)\n"
     ]
    },
    {
     "name": "stderr",
     "output_type": "stream",
     "text": [
      "Propagating pigs:  36%|███▌      | 28/78 [00:07<00:14,  3.48it/s]"
     ]
    },
    {
     "name": "stdout",
     "output_type": "stream",
     "text": [
      "Skipping frame 27 - Global MAD: 0.0851, Masked MAD: 0.1040 (threshold: 0.05)\n"
     ]
    },
    {
     "name": "stderr",
     "output_type": "stream",
     "text": [
      "Propagating pigs:  37%|███▋      | 29/78 [00:08<00:14,  3.47it/s]"
     ]
    },
    {
     "name": "stdout",
     "output_type": "stream",
     "text": [
      "Skipping frame 28 - Global MAD: 0.0851, Masked MAD: 0.1023 (threshold: 0.05)\n"
     ]
    },
    {
     "name": "stderr",
     "output_type": "stream",
     "text": [
      "Propagating pigs:  38%|███▊      | 30/78 [00:08<00:13,  3.47it/s]"
     ]
    },
    {
     "name": "stdout",
     "output_type": "stream",
     "text": [
      "Skipping frame 29 - Global MAD: 0.0843, Masked MAD: 0.0996 (threshold: 0.05)\n"
     ]
    },
    {
     "name": "stderr",
     "output_type": "stream",
     "text": [
      "Propagating pigs:  40%|███▉      | 31/78 [00:08<00:13,  3.48it/s]"
     ]
    },
    {
     "name": "stdout",
     "output_type": "stream",
     "text": [
      "Skipping frame 30 - Global MAD: 0.0833, Masked MAD: 0.0963 (threshold: 0.05)\n",
      "Avg FPS last 30 frames: 3.47\n"
     ]
    },
    {
     "name": "stderr",
     "output_type": "stream",
     "text": [
      "Propagating pigs:  41%|████      | 32/78 [00:08<00:13,  3.48it/s]"
     ]
    },
    {
     "name": "stdout",
     "output_type": "stream",
     "text": [
      "Skipping frame 31 - Global MAD: 0.0824, Masked MAD: 0.0934 (threshold: 0.05)\n"
     ]
    },
    {
     "name": "stderr",
     "output_type": "stream",
     "text": [
      "Propagating pigs:  42%|████▏     | 33/78 [00:09<00:12,  3.48it/s]"
     ]
    },
    {
     "name": "stdout",
     "output_type": "stream",
     "text": [
      "Skipping frame 32 - Global MAD: 0.0830, Masked MAD: 0.0940 (threshold: 0.05)\n"
     ]
    },
    {
     "name": "stderr",
     "output_type": "stream",
     "text": [
      "Propagating pigs:  44%|████▎     | 34/78 [00:09<00:12,  3.48it/s]"
     ]
    },
    {
     "name": "stdout",
     "output_type": "stream",
     "text": [
      "Skipping frame 33 - Global MAD: 0.0837, Masked MAD: 0.0943 (threshold: 0.05)\n"
     ]
    },
    {
     "name": "stderr",
     "output_type": "stream",
     "text": [
      "Propagating pigs:  45%|████▍     | 35/78 [00:09<00:12,  3.48it/s]"
     ]
    },
    {
     "name": "stdout",
     "output_type": "stream",
     "text": [
      "Skipping frame 34 - Global MAD: 0.0861, Masked MAD: 0.0995 (threshold: 0.05)\n"
     ]
    },
    {
     "name": "stderr",
     "output_type": "stream",
     "text": [
      "Propagating pigs:  46%|████▌     | 36/78 [00:10<00:12,  3.49it/s]"
     ]
    },
    {
     "name": "stdout",
     "output_type": "stream",
     "text": [
      "Skipping frame 35 - Global MAD: 0.0880, Masked MAD: 0.1056 (threshold: 0.05)\n"
     ]
    },
    {
     "name": "stderr",
     "output_type": "stream",
     "text": [
      "Propagating pigs:  47%|████▋     | 37/78 [00:10<00:11,  3.48it/s]"
     ]
    },
    {
     "name": "stdout",
     "output_type": "stream",
     "text": [
      "Skipping frame 36 - Global MAD: 0.0901, Masked MAD: 0.1114 (threshold: 0.05)\n"
     ]
    },
    {
     "name": "stderr",
     "output_type": "stream",
     "text": [
      "Propagating pigs:  49%|████▊     | 38/78 [00:10<00:11,  3.47it/s]"
     ]
    },
    {
     "name": "stdout",
     "output_type": "stream",
     "text": [
      "Skipping frame 37 - Global MAD: 0.0911, Masked MAD: 0.1128 (threshold: 0.05)\n"
     ]
    },
    {
     "name": "stderr",
     "output_type": "stream",
     "text": [
      "Propagating pigs:  50%|█████     | 39/78 [00:10<00:11,  3.47it/s]"
     ]
    },
    {
     "name": "stdout",
     "output_type": "stream",
     "text": [
      "Skipping frame 38 - Global MAD: 0.0909, Masked MAD: 0.1118 (threshold: 0.05)\n"
     ]
    },
    {
     "name": "stderr",
     "output_type": "stream",
     "text": [
      "Propagating pigs:  51%|█████▏    | 40/78 [00:11<00:10,  3.47it/s]"
     ]
    },
    {
     "name": "stdout",
     "output_type": "stream",
     "text": [
      "Skipping frame 39 - Global MAD: 0.0912, Masked MAD: 0.1131 (threshold: 0.05)\n"
     ]
    },
    {
     "name": "stderr",
     "output_type": "stream",
     "text": [
      "Propagating pigs:  53%|█████▎    | 41/78 [00:11<00:10,  3.46it/s]"
     ]
    },
    {
     "name": "stdout",
     "output_type": "stream",
     "text": [
      "Skipping frame 40 - Global MAD: 0.0913, Masked MAD: 0.1137 (threshold: 0.05)\n"
     ]
    },
    {
     "name": "stderr",
     "output_type": "stream",
     "text": [
      "Propagating pigs:  54%|█████▍    | 42/78 [00:11<00:10,  3.46it/s]"
     ]
    },
    {
     "name": "stdout",
     "output_type": "stream",
     "text": [
      "Skipping frame 41 - Global MAD: 0.0919, Masked MAD: 0.1136 (threshold: 0.05)\n"
     ]
    },
    {
     "name": "stderr",
     "output_type": "stream",
     "text": [
      "Propagating pigs:  55%|█████▌    | 43/78 [00:12<00:10,  3.47it/s]"
     ]
    },
    {
     "name": "stdout",
     "output_type": "stream",
     "text": [
      "Skipping frame 42 - Global MAD: 0.0937, Masked MAD: 0.1168 (threshold: 0.05)\n"
     ]
    },
    {
     "name": "stderr",
     "output_type": "stream",
     "text": [
      "Propagating pigs:  56%|█████▋    | 44/78 [00:12<00:09,  3.46it/s]"
     ]
    },
    {
     "name": "stdout",
     "output_type": "stream",
     "text": [
      "Skipping frame 43 - Global MAD: 0.0940, Masked MAD: 0.1189 (threshold: 0.05)\n"
     ]
    },
    {
     "name": "stderr",
     "output_type": "stream",
     "text": [
      "Propagating pigs:  58%|█████▊    | 45/78 [00:12<00:09,  3.46it/s]"
     ]
    },
    {
     "name": "stdout",
     "output_type": "stream",
     "text": [
      "Skipping frame 44 - Global MAD: 0.0933, Masked MAD: 0.1208 (threshold: 0.05)\n"
     ]
    },
    {
     "name": "stderr",
     "output_type": "stream",
     "text": [
      "Propagating pigs:  59%|█████▉    | 46/78 [00:13<00:09,  3.45it/s]"
     ]
    },
    {
     "name": "stdout",
     "output_type": "stream",
     "text": [
      "Skipping frame 45 - Global MAD: 0.0928, Masked MAD: 0.1240 (threshold: 0.05)\n"
     ]
    },
    {
     "name": "stderr",
     "output_type": "stream",
     "text": [
      "Propagating pigs:  60%|██████    | 47/78 [00:13<00:08,  3.45it/s]"
     ]
    },
    {
     "name": "stdout",
     "output_type": "stream",
     "text": [
      "Skipping frame 46 - Global MAD: 0.0951, Masked MAD: 0.1305 (threshold: 0.05)\n"
     ]
    },
    {
     "name": "stderr",
     "output_type": "stream",
     "text": [
      "Propagating pigs:  62%|██████▏   | 48/78 [00:13<00:08,  3.46it/s]"
     ]
    },
    {
     "name": "stdout",
     "output_type": "stream",
     "text": [
      "Skipping frame 47 - Global MAD: 0.0968, Masked MAD: 0.1339 (threshold: 0.05)\n"
     ]
    },
    {
     "name": "stderr",
     "output_type": "stream",
     "text": [
      "Propagating pigs:  63%|██████▎   | 49/78 [00:13<00:08,  3.45it/s]"
     ]
    },
    {
     "name": "stdout",
     "output_type": "stream",
     "text": [
      "Skipping frame 48 - Global MAD: 0.0987, Masked MAD: 0.1368 (threshold: 0.05)\n"
     ]
    },
    {
     "name": "stderr",
     "output_type": "stream",
     "text": [
      "Propagating pigs:  64%|██████▍   | 50/78 [00:14<00:08,  3.44it/s]"
     ]
    },
    {
     "name": "stdout",
     "output_type": "stream",
     "text": [
      "Skipping frame 49 - Global MAD: 0.1006, Masked MAD: 0.1407 (threshold: 0.05)\n"
     ]
    },
    {
     "name": "stderr",
     "output_type": "stream",
     "text": [
      "Propagating pigs:  65%|██████▌   | 51/78 [00:14<00:07,  3.44it/s]"
     ]
    },
    {
     "name": "stdout",
     "output_type": "stream",
     "text": [
      "Skipping frame 50 - Global MAD: 0.1006, Masked MAD: 0.1406 (threshold: 0.05)\n"
     ]
    },
    {
     "name": "stderr",
     "output_type": "stream",
     "text": [
      "Propagating pigs:  67%|██████▋   | 52/78 [00:14<00:07,  3.45it/s]"
     ]
    },
    {
     "name": "stdout",
     "output_type": "stream",
     "text": [
      "Skipping frame 51 - Global MAD: 0.1015, Masked MAD: 0.1435 (threshold: 0.05)\n"
     ]
    },
    {
     "name": "stderr",
     "output_type": "stream",
     "text": [
      "Propagating pigs:  68%|██████▊   | 53/78 [00:15<00:07,  3.46it/s]"
     ]
    },
    {
     "name": "stdout",
     "output_type": "stream",
     "text": [
      "Skipping frame 52 - Global MAD: 0.1021, Masked MAD: 0.1453 (threshold: 0.05)\n"
     ]
    },
    {
     "name": "stderr",
     "output_type": "stream",
     "text": [
      "Propagating pigs:  69%|██████▉   | 54/78 [00:15<00:06,  3.45it/s]"
     ]
    },
    {
     "name": "stdout",
     "output_type": "stream",
     "text": [
      "Skipping frame 53 - Global MAD: 0.1018, Masked MAD: 0.1454 (threshold: 0.05)\n"
     ]
    },
    {
     "name": "stderr",
     "output_type": "stream",
     "text": [
      "Propagating pigs:  71%|███████   | 55/78 [00:15<00:06,  3.45it/s]"
     ]
    },
    {
     "name": "stdout",
     "output_type": "stream",
     "text": [
      "Skipping frame 54 - Global MAD: 0.1019, Masked MAD: 0.1462 (threshold: 0.05)\n"
     ]
    },
    {
     "name": "stderr",
     "output_type": "stream",
     "text": [
      "Propagating pigs:  72%|███████▏  | 56/78 [00:15<00:06,  3.45it/s]"
     ]
    },
    {
     "name": "stdout",
     "output_type": "stream",
     "text": [
      "Skipping frame 55 - Global MAD: 0.1025, Masked MAD: 0.1489 (threshold: 0.05)\n"
     ]
    },
    {
     "name": "stderr",
     "output_type": "stream",
     "text": [
      "Propagating pigs:  73%|███████▎  | 57/78 [00:16<00:06,  3.45it/s]"
     ]
    },
    {
     "name": "stdout",
     "output_type": "stream",
     "text": [
      "Skipping frame 56 - Global MAD: 0.1026, Masked MAD: 0.1505 (threshold: 0.05)\n"
     ]
    },
    {
     "name": "stderr",
     "output_type": "stream",
     "text": [
      "Propagating pigs:  74%|███████▍  | 58/78 [00:16<00:05,  3.45it/s]"
     ]
    },
    {
     "name": "stdout",
     "output_type": "stream",
     "text": [
      "Skipping frame 57 - Global MAD: 0.1026, Masked MAD: 0.1529 (threshold: 0.05)\n"
     ]
    },
    {
     "name": "stderr",
     "output_type": "stream",
     "text": [
      "Propagating pigs:  76%|███████▌  | 59/78 [00:16<00:05,  3.45it/s]"
     ]
    },
    {
     "name": "stdout",
     "output_type": "stream",
     "text": [
      "Skipping frame 58 - Global MAD: 0.1034, Masked MAD: 0.1546 (threshold: 0.05)\n"
     ]
    },
    {
     "name": "stderr",
     "output_type": "stream",
     "text": [
      "Propagating pigs:  77%|███████▋  | 60/78 [00:17<00:05,  3.45it/s]"
     ]
    },
    {
     "name": "stdout",
     "output_type": "stream",
     "text": [
      "Skipping frame 59 - Global MAD: 0.1046, Masked MAD: 0.1565 (threshold: 0.05)\n"
     ]
    },
    {
     "name": "stderr",
     "output_type": "stream",
     "text": [
      "Propagating pigs:  78%|███████▊  | 61/78 [00:17<00:04,  3.44it/s]"
     ]
    },
    {
     "name": "stdout",
     "output_type": "stream",
     "text": [
      "Skipping frame 60 - Global MAD: 0.1051, Masked MAD: 0.1590 (threshold: 0.05)\n",
      "Avg FPS last 30 frames: 3.46\n"
     ]
    },
    {
     "name": "stderr",
     "output_type": "stream",
     "text": [
      "Propagating pigs:  79%|███████▉  | 62/78 [00:17<00:04,  3.44it/s]"
     ]
    },
    {
     "name": "stdout",
     "output_type": "stream",
     "text": [
      "Skipping frame 61 - Global MAD: 0.1056, Masked MAD: 0.1615 (threshold: 0.05)\n"
     ]
    },
    {
     "name": "stderr",
     "output_type": "stream",
     "text": [
      "Propagating pigs:  81%|████████  | 63/78 [00:17<00:04,  3.44it/s]"
     ]
    },
    {
     "name": "stdout",
     "output_type": "stream",
     "text": [
      "Skipping frame 62 - Global MAD: 0.1058, Masked MAD: 0.1633 (threshold: 0.05)\n"
     ]
    },
    {
     "name": "stderr",
     "output_type": "stream",
     "text": [
      "Propagating pigs:  82%|████████▏ | 64/78 [00:18<00:04,  3.44it/s]"
     ]
    },
    {
     "name": "stdout",
     "output_type": "stream",
     "text": [
      "Skipping frame 63 - Global MAD: 0.1063, Masked MAD: 0.1650 (threshold: 0.05)\n"
     ]
    },
    {
     "name": "stderr",
     "output_type": "stream",
     "text": [
      "Propagating pigs:  83%|████████▎ | 65/78 [00:18<00:03,  3.46it/s]"
     ]
    },
    {
     "name": "stdout",
     "output_type": "stream",
     "text": [
      "Skipping frame 64 - Global MAD: 0.1069, Masked MAD: 0.1671 (threshold: 0.05)\n"
     ]
    },
    {
     "name": "stderr",
     "output_type": "stream",
     "text": [
      "Propagating pigs:  85%|████████▍ | 66/78 [00:18<00:03,  3.46it/s]"
     ]
    },
    {
     "name": "stdout",
     "output_type": "stream",
     "text": [
      "Skipping frame 65 - Global MAD: 0.1077, Masked MAD: 0.1699 (threshold: 0.05)\n"
     ]
    },
    {
     "name": "stderr",
     "output_type": "stream",
     "text": [
      "Propagating pigs:  86%|████████▌ | 67/78 [00:19<00:03,  3.45it/s]"
     ]
    },
    {
     "name": "stdout",
     "output_type": "stream",
     "text": [
      "Skipping frame 66 - Global MAD: 0.1085, Masked MAD: 0.1720 (threshold: 0.05)\n"
     ]
    },
    {
     "name": "stderr",
     "output_type": "stream",
     "text": [
      "Propagating pigs:  87%|████████▋ | 68/78 [00:19<00:02,  3.45it/s]"
     ]
    },
    {
     "name": "stdout",
     "output_type": "stream",
     "text": [
      "Skipping frame 67 - Global MAD: 0.1099, Masked MAD: 0.1756 (threshold: 0.05)\n"
     ]
    },
    {
     "name": "stderr",
     "output_type": "stream",
     "text": [
      "Propagating pigs:  88%|████████▊ | 69/78 [00:19<00:02,  3.46it/s]"
     ]
    },
    {
     "name": "stdout",
     "output_type": "stream",
     "text": [
      "Skipping frame 68 - Global MAD: 0.1105, Masked MAD: 0.1780 (threshold: 0.05)\n"
     ]
    },
    {
     "name": "stderr",
     "output_type": "stream",
     "text": [
      "Propagating pigs:  90%|████████▉ | 70/78 [00:19<00:02,  3.45it/s]"
     ]
    },
    {
     "name": "stdout",
     "output_type": "stream",
     "text": [
      "Skipping frame 69 - Global MAD: 0.1109, Masked MAD: 0.1795 (threshold: 0.05)\n"
     ]
    },
    {
     "name": "stderr",
     "output_type": "stream",
     "text": [
      "Propagating pigs:  91%|█████████ | 71/78 [00:20<00:02,  3.45it/s]"
     ]
    },
    {
     "name": "stdout",
     "output_type": "stream",
     "text": [
      "Skipping frame 70 - Global MAD: 0.1107, Masked MAD: 0.1790 (threshold: 0.05)\n"
     ]
    },
    {
     "name": "stderr",
     "output_type": "stream",
     "text": [
      "Propagating pigs:  92%|█████████▏| 72/78 [00:20<00:01,  3.45it/s]"
     ]
    },
    {
     "name": "stdout",
     "output_type": "stream",
     "text": [
      "Skipping frame 71 - Global MAD: 0.1110, Masked MAD: 0.1797 (threshold: 0.05)\n"
     ]
    },
    {
     "name": "stderr",
     "output_type": "stream",
     "text": [
      "Propagating pigs:  94%|█████████▎| 73/78 [00:20<00:01,  3.45it/s]"
     ]
    },
    {
     "name": "stdout",
     "output_type": "stream",
     "text": [
      "Skipping frame 72 - Global MAD: 0.1115, Masked MAD: 0.1809 (threshold: 0.05)\n"
     ]
    },
    {
     "name": "stderr",
     "output_type": "stream",
     "text": [
      "Propagating pigs:  95%|█████████▍| 74/78 [00:21<00:01,  3.45it/s]"
     ]
    },
    {
     "name": "stdout",
     "output_type": "stream",
     "text": [
      "Skipping frame 73 - Global MAD: 0.1119, Masked MAD: 0.1818 (threshold: 0.05)\n"
     ]
    },
    {
     "name": "stderr",
     "output_type": "stream",
     "text": [
      "Propagating pigs:  96%|█████████▌| 75/78 [00:21<00:00,  3.45it/s]"
     ]
    },
    {
     "name": "stdout",
     "output_type": "stream",
     "text": [
      "Skipping frame 74 - Global MAD: 0.1123, Masked MAD: 0.1824 (threshold: 0.05)\n"
     ]
    },
    {
     "name": "stderr",
     "output_type": "stream",
     "text": [
      "Propagating pigs:  97%|█████████▋| 76/78 [00:21<00:00,  3.45it/s]"
     ]
    },
    {
     "name": "stdout",
     "output_type": "stream",
     "text": [
      "Skipping frame 75 - Global MAD: 0.1122, Masked MAD: 0.1820 (threshold: 0.05)\n"
     ]
    },
    {
     "name": "stderr",
     "output_type": "stream",
     "text": [
      "Propagating pigs:  99%|█████████▊| 77/78 [00:21<00:00,  3.45it/s]"
     ]
    },
    {
     "name": "stdout",
     "output_type": "stream",
     "text": [
      "Skipping frame 76 - Global MAD: 0.1126, Masked MAD: 0.1829 (threshold: 0.05)\n"
     ]
    },
    {
     "name": "stderr",
     "output_type": "stream",
     "text": [
      "Propagating pigs: 100%|██████████| 78/78 [00:22<00:00,  3.45it/s]"
     ]
    },
    {
     "name": "stdout",
     "output_type": "stream",
     "text": [
      "Skipping frame 77 - Global MAD: 0.1134, Masked MAD: 0.1844 (threshold: 0.05)\n"
     ]
    },
    {
     "name": "stderr",
     "output_type": "stream",
     "text": [
      "propagate in video: 100%|██████████| 79/79 [00:22<00:00,  3.50it/s]\n",
      "Propagating pigs: 79it [00:22,  3.50it/s]\n"
     ]
    },
    {
     "name": "stdout",
     "output_type": "stream",
     "text": [
      "Skipping frame 78 - Global MAD: 0.1140, Masked MAD: 0.1856 (threshold: 0.05)\n",
      "Skipped 78 frames due to low MAD.\n",
      "→ Saved all predicted masks for pigs in data/DAVIS2017_mgfs_naive/pigs\n",
      "\n",
      "=== Processing sequence: scooter-black ===\n"
     ]
    },
    {
     "name": "stderr",
     "output_type": "stream",
     "text": [
      "frame loading (JPEG): 100%|██████████| 43/43 [00:00<00:00, 49.71it/s]\n"
     ]
    },
    {
     "name": "stdout",
     "output_type": "stream",
     "text": [
      "Found 2 unique non‐black colors in scooter-black/00000.png\n"
     ]
    },
    {
     "name": "stderr",
     "output_type": "stream",
     "text": [
      "Propagating scooter-black:   5%|▍         | 2/42 [00:00<00:05,  6.86it/s]"
     ]
    },
    {
     "name": "stdout",
     "output_type": "stream",
     "text": [
      "Skipping frame 1 - Global MAD: 0.0718, Masked MAD: 0.2375 (threshold: 0.05)\n"
     ]
    },
    {
     "name": "stderr",
     "output_type": "stream",
     "text": [
      "Propagating scooter-black:   7%|▋         | 3/42 [00:00<00:07,  5.03it/s]"
     ]
    },
    {
     "name": "stdout",
     "output_type": "stream",
     "text": [
      "Skipping frame 2 - Global MAD: 0.1015, Masked MAD: 0.2625 (threshold: 0.05)\n"
     ]
    },
    {
     "name": "stderr",
     "output_type": "stream",
     "text": [
      "Propagating scooter-black:  10%|▉         | 4/42 [00:00<00:08,  4.40it/s]"
     ]
    },
    {
     "name": "stdout",
     "output_type": "stream",
     "text": [
      "Skipping frame 3 - Global MAD: 0.1248, Masked MAD: 0.2818 (threshold: 0.05)\n"
     ]
    },
    {
     "name": "stderr",
     "output_type": "stream",
     "text": [
      "Propagating scooter-black:  12%|█▏        | 5/42 [00:01<00:09,  4.11it/s]"
     ]
    },
    {
     "name": "stdout",
     "output_type": "stream",
     "text": [
      "Skipping frame 4 - Global MAD: 0.1335, Masked MAD: 0.3004 (threshold: 0.05)\n"
     ]
    },
    {
     "name": "stderr",
     "output_type": "stream",
     "text": [
      "Propagating scooter-black:  14%|█▍        | 6/42 [00:01<00:09,  3.94it/s]"
     ]
    },
    {
     "name": "stdout",
     "output_type": "stream",
     "text": [
      "Skipping frame 5 - Global MAD: 0.1417, Masked MAD: 0.3268 (threshold: 0.05)\n"
     ]
    },
    {
     "name": "stderr",
     "output_type": "stream",
     "text": [
      "Propagating scooter-black:  17%|█▋        | 7/42 [00:01<00:09,  3.83it/s]"
     ]
    },
    {
     "name": "stdout",
     "output_type": "stream",
     "text": [
      "Skipping frame 6 - Global MAD: 0.1457, Masked MAD: 0.3339 (threshold: 0.05)\n"
     ]
    },
    {
     "name": "stderr",
     "output_type": "stream",
     "text": [
      "Propagating scooter-black:  19%|█▉        | 8/42 [00:01<00:09,  3.76it/s]"
     ]
    },
    {
     "name": "stdout",
     "output_type": "stream",
     "text": [
      "Skipping frame 7 - Global MAD: 0.1463, Masked MAD: 0.3372 (threshold: 0.05)\n"
     ]
    },
    {
     "name": "stderr",
     "output_type": "stream",
     "text": [
      "Propagating scooter-black:  21%|██▏       | 9/42 [00:02<00:08,  3.72it/s]"
     ]
    },
    {
     "name": "stdout",
     "output_type": "stream",
     "text": [
      "Skipping frame 8 - Global MAD: 0.1509, Masked MAD: 0.3479 (threshold: 0.05)\n"
     ]
    },
    {
     "name": "stderr",
     "output_type": "stream",
     "text": [
      "Propagating scooter-black:  24%|██▍       | 10/42 [00:02<00:08,  3.69it/s]"
     ]
    },
    {
     "name": "stdout",
     "output_type": "stream",
     "text": [
      "Skipping frame 9 - Global MAD: 0.1610, Masked MAD: 0.3564 (threshold: 0.05)\n"
     ]
    },
    {
     "name": "stderr",
     "output_type": "stream",
     "text": [
      "Propagating scooter-black:  26%|██▌       | 11/42 [00:02<00:08,  3.67it/s]"
     ]
    },
    {
     "name": "stdout",
     "output_type": "stream",
     "text": [
      "Skipping frame 10 - Global MAD: 0.1658, Masked MAD: 0.3654 (threshold: 0.05)\n"
     ]
    },
    {
     "name": "stderr",
     "output_type": "stream",
     "text": [
      "Propagating scooter-black:  29%|██▊       | 12/42 [00:03<00:08,  3.65it/s]"
     ]
    },
    {
     "name": "stdout",
     "output_type": "stream",
     "text": [
      "Skipping frame 11 - Global MAD: 0.1667, Masked MAD: 0.3539 (threshold: 0.05)\n"
     ]
    },
    {
     "name": "stderr",
     "output_type": "stream",
     "text": [
      "Propagating scooter-black:  31%|███       | 13/42 [00:03<00:07,  3.65it/s]"
     ]
    },
    {
     "name": "stdout",
     "output_type": "stream",
     "text": [
      "Skipping frame 12 - Global MAD: 0.1724, Masked MAD: 0.3388 (threshold: 0.05)\n"
     ]
    },
    {
     "name": "stderr",
     "output_type": "stream",
     "text": [
      "Propagating scooter-black:  33%|███▎      | 14/42 [00:03<00:07,  3.65it/s]"
     ]
    },
    {
     "name": "stdout",
     "output_type": "stream",
     "text": [
      "Skipping frame 13 - Global MAD: 0.1791, Masked MAD: 0.3398 (threshold: 0.05)\n"
     ]
    },
    {
     "name": "stderr",
     "output_type": "stream",
     "text": [
      "Propagating scooter-black:  36%|███▌      | 15/42 [00:03<00:07,  3.65it/s]"
     ]
    },
    {
     "name": "stdout",
     "output_type": "stream",
     "text": [
      "Skipping frame 14 - Global MAD: 0.1810, Masked MAD: 0.3291 (threshold: 0.05)\n"
     ]
    },
    {
     "name": "stderr",
     "output_type": "stream",
     "text": [
      "Propagating scooter-black:  38%|███▊      | 16/42 [00:04<00:07,  3.65it/s]"
     ]
    },
    {
     "name": "stdout",
     "output_type": "stream",
     "text": [
      "Skipping frame 15 - Global MAD: 0.1877, Masked MAD: 0.3315 (threshold: 0.05)\n"
     ]
    },
    {
     "name": "stderr",
     "output_type": "stream",
     "text": [
      "Propagating scooter-black:  40%|████      | 17/42 [00:04<00:06,  3.64it/s]"
     ]
    },
    {
     "name": "stdout",
     "output_type": "stream",
     "text": [
      "Skipping frame 16 - Global MAD: 0.1924, Masked MAD: 0.3496 (threshold: 0.05)\n"
     ]
    },
    {
     "name": "stderr",
     "output_type": "stream",
     "text": [
      "Propagating scooter-black:  43%|████▎     | 18/42 [00:04<00:06,  3.63it/s]"
     ]
    },
    {
     "name": "stdout",
     "output_type": "stream",
     "text": [
      "Skipping frame 17 - Global MAD: 0.2070, Masked MAD: 0.3302 (threshold: 0.05)\n"
     ]
    },
    {
     "name": "stderr",
     "output_type": "stream",
     "text": [
      "Propagating scooter-black:  45%|████▌     | 19/42 [00:04<00:06,  3.63it/s]"
     ]
    },
    {
     "name": "stdout",
     "output_type": "stream",
     "text": [
      "Skipping frame 18 - Global MAD: 0.2146, Masked MAD: 0.3131 (threshold: 0.05)\n"
     ]
    },
    {
     "name": "stderr",
     "output_type": "stream",
     "text": [
      "Propagating scooter-black:  48%|████▊     | 20/42 [00:05<00:06,  3.63it/s]"
     ]
    },
    {
     "name": "stdout",
     "output_type": "stream",
     "text": [
      "Skipping frame 19 - Global MAD: 0.2245, Masked MAD: 0.2973 (threshold: 0.05)\n"
     ]
    },
    {
     "name": "stderr",
     "output_type": "stream",
     "text": [
      "Propagating scooter-black:  50%|█████     | 21/42 [00:05<00:05,  3.63it/s]"
     ]
    },
    {
     "name": "stdout",
     "output_type": "stream",
     "text": [
      "Skipping frame 20 - Global MAD: 0.2298, Masked MAD: 0.2824 (threshold: 0.05)\n"
     ]
    },
    {
     "name": "stderr",
     "output_type": "stream",
     "text": [
      "Propagating scooter-black:  52%|█████▏    | 22/42 [00:05<00:05,  3.63it/s]"
     ]
    },
    {
     "name": "stdout",
     "output_type": "stream",
     "text": [
      "Skipping frame 21 - Global MAD: 0.2430, Masked MAD: 0.2921 (threshold: 0.05)\n"
     ]
    },
    {
     "name": "stderr",
     "output_type": "stream",
     "text": [
      "Propagating scooter-black:  55%|█████▍    | 23/42 [00:06<00:05,  3.62it/s]"
     ]
    },
    {
     "name": "stdout",
     "output_type": "stream",
     "text": [
      "Skipping frame 22 - Global MAD: 0.2503, Masked MAD: 0.2940 (threshold: 0.05)\n"
     ]
    },
    {
     "name": "stderr",
     "output_type": "stream",
     "text": [
      "Propagating scooter-black:  57%|█████▋    | 24/42 [00:06<00:04,  3.63it/s]"
     ]
    },
    {
     "name": "stdout",
     "output_type": "stream",
     "text": [
      "Skipping frame 23 - Global MAD: 0.2557, Masked MAD: 0.2790 (threshold: 0.05)\n"
     ]
    },
    {
     "name": "stderr",
     "output_type": "stream",
     "text": [
      "Propagating scooter-black:  60%|█████▉    | 25/42 [00:06<00:04,  3.64it/s]"
     ]
    },
    {
     "name": "stdout",
     "output_type": "stream",
     "text": [
      "Skipping frame 24 - Global MAD: 0.2580, Masked MAD: 0.3030 (threshold: 0.05)\n"
     ]
    },
    {
     "name": "stderr",
     "output_type": "stream",
     "text": [
      "Propagating scooter-black:  62%|██████▏   | 26/42 [00:06<00:04,  3.64it/s]"
     ]
    },
    {
     "name": "stdout",
     "output_type": "stream",
     "text": [
      "Skipping frame 25 - Global MAD: 0.2646, Masked MAD: 0.2772 (threshold: 0.05)\n"
     ]
    },
    {
     "name": "stderr",
     "output_type": "stream",
     "text": [
      "Propagating scooter-black:  64%|██████▍   | 27/42 [00:07<00:04,  3.63it/s]"
     ]
    },
    {
     "name": "stdout",
     "output_type": "stream",
     "text": [
      "Skipping frame 26 - Global MAD: 0.2679, Masked MAD: 0.3074 (threshold: 0.05)\n"
     ]
    },
    {
     "name": "stderr",
     "output_type": "stream",
     "text": [
      "Propagating scooter-black:  67%|██████▋   | 28/42 [00:07<00:03,  3.61it/s]"
     ]
    },
    {
     "name": "stdout",
     "output_type": "stream",
     "text": [
      "Skipping frame 27 - Global MAD: 0.2720, Masked MAD: 0.3483 (threshold: 0.05)\n"
     ]
    },
    {
     "name": "stderr",
     "output_type": "stream",
     "text": [
      "Propagating scooter-black:  69%|██████▉   | 29/42 [00:07<00:03,  3.60it/s]"
     ]
    },
    {
     "name": "stdout",
     "output_type": "stream",
     "text": [
      "Skipping frame 28 - Global MAD: 0.2720, Masked MAD: 0.3169 (threshold: 0.05)\n"
     ]
    },
    {
     "name": "stderr",
     "output_type": "stream",
     "text": [
      "Propagating scooter-black:  71%|███████▏  | 30/42 [00:08<00:03,  3.58it/s]"
     ]
    },
    {
     "name": "stdout",
     "output_type": "stream",
     "text": [
      "Skipping frame 29 - Global MAD: 0.2799, Masked MAD: 0.3075 (threshold: 0.05)\n"
     ]
    },
    {
     "name": "stderr",
     "output_type": "stream",
     "text": [
      "Propagating scooter-black:  74%|███████▍  | 31/42 [00:08<00:03,  3.60it/s]"
     ]
    },
    {
     "name": "stdout",
     "output_type": "stream",
     "text": [
      "Skipping frame 30 - Global MAD: 0.2816, Masked MAD: 0.3164 (threshold: 0.05)\n",
      "Avg FPS last 30 frames: 3.63\n"
     ]
    },
    {
     "name": "stderr",
     "output_type": "stream",
     "text": [
      "Propagating scooter-black:  76%|███████▌  | 32/42 [00:08<00:02,  3.61it/s]"
     ]
    },
    {
     "name": "stdout",
     "output_type": "stream",
     "text": [
      "Skipping frame 31 - Global MAD: 0.2931, Masked MAD: 0.4194 (threshold: 0.05)\n"
     ]
    },
    {
     "name": "stderr",
     "output_type": "stream",
     "text": [
      "Propagating scooter-black:  79%|███████▊  | 33/42 [00:08<00:02,  3.62it/s]"
     ]
    },
    {
     "name": "stdout",
     "output_type": "stream",
     "text": [
      "Skipping frame 32 - Global MAD: 0.2931, Masked MAD: 0.4150 (threshold: 0.05)\n"
     ]
    },
    {
     "name": "stderr",
     "output_type": "stream",
     "text": [
      "Propagating scooter-black:  81%|████████  | 34/42 [00:09<00:02,  3.60it/s]"
     ]
    },
    {
     "name": "stdout",
     "output_type": "stream",
     "text": [
      "Skipping frame 33 - Global MAD: 0.2832, Masked MAD: 0.4483 (threshold: 0.05)\n"
     ]
    },
    {
     "name": "stderr",
     "output_type": "stream",
     "text": [
      "Propagating scooter-black:  83%|████████▎ | 35/42 [00:09<00:01,  3.61it/s]"
     ]
    },
    {
     "name": "stdout",
     "output_type": "stream",
     "text": [
      "Skipping frame 34 - Global MAD: 0.2855, Masked MAD: 0.4424 (threshold: 0.05)\n"
     ]
    },
    {
     "name": "stderr",
     "output_type": "stream",
     "text": [
      "Propagating scooter-black:  86%|████████▌ | 36/42 [00:09<00:01,  3.62it/s]"
     ]
    },
    {
     "name": "stdout",
     "output_type": "stream",
     "text": [
      "Skipping frame 35 - Global MAD: 0.2946, Masked MAD: 0.4404 (threshold: 0.05)\n"
     ]
    },
    {
     "name": "stderr",
     "output_type": "stream",
     "text": [
      "Propagating scooter-black:  88%|████████▊ | 37/42 [00:09<00:01,  3.63it/s]"
     ]
    },
    {
     "name": "stdout",
     "output_type": "stream",
     "text": [
      "Skipping frame 36 - Global MAD: 0.3010, Masked MAD: 0.4187 (threshold: 0.05)\n"
     ]
    },
    {
     "name": "stderr",
     "output_type": "stream",
     "text": [
      "Propagating scooter-black:  90%|█████████ | 38/42 [00:10<00:01,  3.64it/s]"
     ]
    },
    {
     "name": "stdout",
     "output_type": "stream",
     "text": [
      "Skipping frame 37 - Global MAD: 0.2993, Masked MAD: 0.3828 (threshold: 0.05)\n"
     ]
    },
    {
     "name": "stderr",
     "output_type": "stream",
     "text": [
      "Propagating scooter-black:  93%|█████████▎| 39/42 [00:10<00:00,  3.63it/s]"
     ]
    },
    {
     "name": "stdout",
     "output_type": "stream",
     "text": [
      "Skipping frame 38 - Global MAD: 0.2935, Masked MAD: 0.3059 (threshold: 0.05)\n"
     ]
    },
    {
     "name": "stderr",
     "output_type": "stream",
     "text": [
      "Propagating scooter-black:  95%|█████████▌| 40/42 [00:10<00:00,  3.65it/s]"
     ]
    },
    {
     "name": "stdout",
     "output_type": "stream",
     "text": [
      "Skipping frame 39 - Global MAD: 0.2904, Masked MAD: 0.2898 (threshold: 0.05)\n"
     ]
    },
    {
     "name": "stderr",
     "output_type": "stream",
     "text": [
      "Propagating scooter-black:  98%|█████████▊| 41/42 [00:11<00:00,  3.66it/s]"
     ]
    },
    {
     "name": "stdout",
     "output_type": "stream",
     "text": [
      "Skipping frame 40 - Global MAD: 0.2881, Masked MAD: 0.3381 (threshold: 0.05)\n"
     ]
    },
    {
     "name": "stderr",
     "output_type": "stream",
     "text": [
      "Propagating scooter-black: 100%|██████████| 42/42 [00:11<00:00,  3.68it/s]"
     ]
    },
    {
     "name": "stdout",
     "output_type": "stream",
     "text": [
      "Skipping frame 41 - Global MAD: 0.2795, Masked MAD: 0.2882 (threshold: 0.05)\n"
     ]
    },
    {
     "name": "stderr",
     "output_type": "stream",
     "text": [
      "propagate in video: 100%|██████████| 43/43 [00:11<00:00,  3.72it/s]       \n",
      "Propagating scooter-black: 43it [00:11,  3.71it/s]\n"
     ]
    },
    {
     "name": "stdout",
     "output_type": "stream",
     "text": [
      "Skipping frame 42 - Global MAD: 0.2768, Masked MAD: 0.3043 (threshold: 0.05)\n",
      "Skipped 42 frames due to low MAD.\n",
      "→ Saved all predicted masks for scooter-black in data/DAVIS2017_mgfs_naive/scooter-black\n",
      "\n",
      "=== Processing sequence: shooting ===\n"
     ]
    },
    {
     "name": "stderr",
     "output_type": "stream",
     "text": [
      "frame loading (JPEG): 100%|██████████| 40/40 [00:00<00:00, 47.67it/s]\n"
     ]
    },
    {
     "name": "stdout",
     "output_type": "stream",
     "text": [
      "Found 3 unique non‐black colors in shooting/00000.png\n"
     ]
    },
    {
     "name": "stderr",
     "output_type": "stream",
     "text": [
      "Propagating shooting:   5%|▌         | 2/39 [00:00<00:05,  6.23it/s]"
     ]
    },
    {
     "name": "stdout",
     "output_type": "stream",
     "text": [
      "Skipping frame 1 - Global MAD: 0.1432, Masked MAD: 0.1420 (threshold: 0.05)\n"
     ]
    },
    {
     "name": "stderr",
     "output_type": "stream",
     "text": [
      "Propagating shooting:   8%|▊         | 3/39 [00:00<00:07,  4.64it/s]"
     ]
    },
    {
     "name": "stdout",
     "output_type": "stream",
     "text": [
      "Skipping frame 2 - Global MAD: 0.1594, Masked MAD: 0.1580 (threshold: 0.05)\n"
     ]
    },
    {
     "name": "stderr",
     "output_type": "stream",
     "text": [
      "Propagating shooting:  10%|█         | 4/39 [00:00<00:08,  4.05it/s]"
     ]
    },
    {
     "name": "stdout",
     "output_type": "stream",
     "text": [
      "Skipping frame 3 - Global MAD: 0.1445, Masked MAD: 0.1817 (threshold: 0.05)\n"
     ]
    },
    {
     "name": "stderr",
     "output_type": "stream",
     "text": [
      "Propagating shooting:  13%|█▎        | 5/39 [00:01<00:09,  3.76it/s]"
     ]
    },
    {
     "name": "stdout",
     "output_type": "stream",
     "text": [
      "Skipping frame 4 - Global MAD: 0.1531, Masked MAD: 0.1936 (threshold: 0.05)\n"
     ]
    },
    {
     "name": "stderr",
     "output_type": "stream",
     "text": [
      "Propagating shooting:  15%|█▌        | 6/39 [00:01<00:09,  3.63it/s]"
     ]
    },
    {
     "name": "stdout",
     "output_type": "stream",
     "text": [
      "Skipping frame 5 - Global MAD: 0.1917, Masked MAD: 0.1811 (threshold: 0.05)\n"
     ]
    },
    {
     "name": "stderr",
     "output_type": "stream",
     "text": [
      "Propagating shooting:  18%|█▊        | 7/39 [00:01<00:09,  3.53it/s]"
     ]
    },
    {
     "name": "stdout",
     "output_type": "stream",
     "text": [
      "Skipping frame 6 - Global MAD: 0.1656, Masked MAD: 0.1917 (threshold: 0.05)\n"
     ]
    },
    {
     "name": "stderr",
     "output_type": "stream",
     "text": [
      "Propagating shooting:  21%|██        | 8/39 [00:02<00:08,  3.49it/s]"
     ]
    },
    {
     "name": "stdout",
     "output_type": "stream",
     "text": [
      "Skipping frame 7 - Global MAD: 0.2008, Masked MAD: 0.1875 (threshold: 0.05)\n"
     ]
    },
    {
     "name": "stderr",
     "output_type": "stream",
     "text": [
      "Propagating shooting:  23%|██▎       | 9/39 [00:02<00:08,  3.44it/s]"
     ]
    },
    {
     "name": "stdout",
     "output_type": "stream",
     "text": [
      "Skipping frame 8 - Global MAD: 0.1822, Masked MAD: 0.1937 (threshold: 0.05)\n"
     ]
    },
    {
     "name": "stderr",
     "output_type": "stream",
     "text": [
      "Propagating shooting:  26%|██▌       | 10/39 [00:02<00:08,  3.42it/s]"
     ]
    },
    {
     "name": "stdout",
     "output_type": "stream",
     "text": [
      "Skipping frame 9 - Global MAD: 0.1865, Masked MAD: 0.1967 (threshold: 0.05)\n"
     ]
    },
    {
     "name": "stderr",
     "output_type": "stream",
     "text": [
      "Propagating shooting:  28%|██▊       | 11/39 [00:02<00:08,  3.40it/s]"
     ]
    },
    {
     "name": "stdout",
     "output_type": "stream",
     "text": [
      "Skipping frame 10 - Global MAD: 0.2231, Masked MAD: 0.2066 (threshold: 0.05)\n"
     ]
    },
    {
     "name": "stderr",
     "output_type": "stream",
     "text": [
      "Propagating shooting:  31%|███       | 12/39 [00:03<00:07,  3.38it/s]"
     ]
    },
    {
     "name": "stdout",
     "output_type": "stream",
     "text": [
      "Skipping frame 11 - Global MAD: 0.1846, Masked MAD: 0.2067 (threshold: 0.05)\n"
     ]
    },
    {
     "name": "stderr",
     "output_type": "stream",
     "text": [
      "Propagating shooting:  33%|███▎      | 13/39 [00:03<00:07,  3.38it/s]"
     ]
    },
    {
     "name": "stdout",
     "output_type": "stream",
     "text": [
      "Skipping frame 12 - Global MAD: 0.2305, Masked MAD: 0.2234 (threshold: 0.05)\n"
     ]
    },
    {
     "name": "stderr",
     "output_type": "stream",
     "text": [
      "Propagating shooting:  36%|███▌      | 14/39 [00:03<00:07,  3.38it/s]"
     ]
    },
    {
     "name": "stdout",
     "output_type": "stream",
     "text": [
      "Skipping frame 13 - Global MAD: 0.2825, Masked MAD: 0.2598 (threshold: 0.05)\n"
     ]
    },
    {
     "name": "stderr",
     "output_type": "stream",
     "text": [
      "Propagating shooting:  38%|███▊      | 15/39 [00:04<00:07,  3.35it/s]"
     ]
    },
    {
     "name": "stdout",
     "output_type": "stream",
     "text": [
      "Skipping frame 14 - Global MAD: 0.3360, Masked MAD: 0.2564 (threshold: 0.05)\n"
     ]
    },
    {
     "name": "stderr",
     "output_type": "stream",
     "text": [
      "Propagating shooting:  41%|████      | 16/39 [00:04<00:06,  3.36it/s]"
     ]
    },
    {
     "name": "stdout",
     "output_type": "stream",
     "text": [
      "Skipping frame 15 - Global MAD: 0.2147, Masked MAD: 0.2463 (threshold: 0.05)\n"
     ]
    },
    {
     "name": "stderr",
     "output_type": "stream",
     "text": [
      "Propagating shooting:  44%|████▎     | 17/39 [00:04<00:06,  3.37it/s]"
     ]
    },
    {
     "name": "stdout",
     "output_type": "stream",
     "text": [
      "Skipping frame 16 - Global MAD: 0.2264, Masked MAD: 0.2364 (threshold: 0.05)\n"
     ]
    },
    {
     "name": "stderr",
     "output_type": "stream",
     "text": [
      "Propagating shooting:  46%|████▌     | 18/39 [00:05<00:06,  3.37it/s]"
     ]
    },
    {
     "name": "stdout",
     "output_type": "stream",
     "text": [
      "Skipping frame 17 - Global MAD: 0.2046, Masked MAD: 0.2359 (threshold: 0.05)\n"
     ]
    },
    {
     "name": "stderr",
     "output_type": "stream",
     "text": [
      "Propagating shooting:  49%|████▊     | 19/39 [00:05<00:05,  3.37it/s]"
     ]
    },
    {
     "name": "stdout",
     "output_type": "stream",
     "text": [
      "Skipping frame 18 - Global MAD: 0.2159, Masked MAD: 0.2423 (threshold: 0.05)\n"
     ]
    },
    {
     "name": "stderr",
     "output_type": "stream",
     "text": [
      "Propagating shooting:  51%|█████▏    | 20/39 [00:05<00:05,  3.37it/s]"
     ]
    },
    {
     "name": "stdout",
     "output_type": "stream",
     "text": [
      "Skipping frame 19 - Global MAD: 0.2185, Masked MAD: 0.2425 (threshold: 0.05)\n"
     ]
    },
    {
     "name": "stderr",
     "output_type": "stream",
     "text": [
      "Propagating shooting:  54%|█████▍    | 21/39 [00:05<00:05,  3.37it/s]"
     ]
    },
    {
     "name": "stdout",
     "output_type": "stream",
     "text": [
      "Skipping frame 20 - Global MAD: 0.2052, Masked MAD: 0.2308 (threshold: 0.05)\n"
     ]
    },
    {
     "name": "stderr",
     "output_type": "stream",
     "text": [
      "Propagating shooting:  56%|█████▋    | 22/39 [00:06<00:05,  3.37it/s]"
     ]
    },
    {
     "name": "stdout",
     "output_type": "stream",
     "text": [
      "Skipping frame 21 - Global MAD: 0.2294, Masked MAD: 0.2258 (threshold: 0.05)\n"
     ]
    },
    {
     "name": "stderr",
     "output_type": "stream",
     "text": [
      "Propagating shooting:  59%|█████▉    | 23/39 [00:06<00:04,  3.36it/s]"
     ]
    },
    {
     "name": "stdout",
     "output_type": "stream",
     "text": [
      "Skipping frame 22 - Global MAD: 0.2239, Masked MAD: 0.2302 (threshold: 0.05)\n"
     ]
    },
    {
     "name": "stderr",
     "output_type": "stream",
     "text": [
      "Propagating shooting:  62%|██████▏   | 24/39 [00:06<00:04,  3.37it/s]"
     ]
    },
    {
     "name": "stdout",
     "output_type": "stream",
     "text": [
      "Skipping frame 23 - Global MAD: 0.2324, Masked MAD: 0.2367 (threshold: 0.05)\n"
     ]
    },
    {
     "name": "stderr",
     "output_type": "stream",
     "text": [
      "Propagating shooting:  64%|██████▍   | 25/39 [00:07<00:04,  3.36it/s]"
     ]
    },
    {
     "name": "stdout",
     "output_type": "stream",
     "text": [
      "Skipping frame 24 - Global MAD: 0.2493, Masked MAD: 0.2336 (threshold: 0.05)\n"
     ]
    },
    {
     "name": "stderr",
     "output_type": "stream",
     "text": [
      "Propagating shooting:  67%|██████▋   | 26/39 [00:07<00:03,  3.36it/s]"
     ]
    },
    {
     "name": "stdout",
     "output_type": "stream",
     "text": [
      "Skipping frame 25 - Global MAD: 0.2393, Masked MAD: 0.2153 (threshold: 0.05)\n"
     ]
    },
    {
     "name": "stderr",
     "output_type": "stream",
     "text": [
      "Propagating shooting:  69%|██████▉   | 27/39 [00:07<00:03,  3.35it/s]"
     ]
    },
    {
     "name": "stdout",
     "output_type": "stream",
     "text": [
      "Skipping frame 26 - Global MAD: 0.2610, Masked MAD: 0.2135 (threshold: 0.05)\n"
     ]
    },
    {
     "name": "stderr",
     "output_type": "stream",
     "text": [
      "Propagating shooting:  72%|███████▏  | 28/39 [00:08<00:03,  3.35it/s]"
     ]
    },
    {
     "name": "stdout",
     "output_type": "stream",
     "text": [
      "Skipping frame 27 - Global MAD: 0.2391, Masked MAD: 0.2071 (threshold: 0.05)\n"
     ]
    },
    {
     "name": "stderr",
     "output_type": "stream",
     "text": [
      "Propagating shooting:  74%|███████▍  | 29/39 [00:08<00:02,  3.34it/s]"
     ]
    },
    {
     "name": "stdout",
     "output_type": "stream",
     "text": [
      "Skipping frame 28 - Global MAD: 0.2652, Masked MAD: 0.2078 (threshold: 0.05)\n"
     ]
    },
    {
     "name": "stderr",
     "output_type": "stream",
     "text": [
      "Propagating shooting:  77%|███████▋  | 30/39 [00:08<00:02,  3.33it/s]"
     ]
    },
    {
     "name": "stdout",
     "output_type": "stream",
     "text": [
      "Skipping frame 29 - Global MAD: 0.2693, Masked MAD: 0.2156 (threshold: 0.05)\n"
     ]
    },
    {
     "name": "stderr",
     "output_type": "stream",
     "text": [
      "Propagating shooting:  79%|███████▉  | 31/39 [00:08<00:02,  3.33it/s]"
     ]
    },
    {
     "name": "stdout",
     "output_type": "stream",
     "text": [
      "Skipping frame 30 - Global MAD: 0.2463, Masked MAD: 0.2206 (threshold: 0.05)\n",
      "Avg FPS last 30 frames: 3.36\n"
     ]
    },
    {
     "name": "stderr",
     "output_type": "stream",
     "text": [
      "Propagating shooting:  82%|████████▏ | 32/39 [00:09<00:02,  3.33it/s]"
     ]
    },
    {
     "name": "stdout",
     "output_type": "stream",
     "text": [
      "Skipping frame 31 - Global MAD: 0.2496, Masked MAD: 0.2173 (threshold: 0.05)\n"
     ]
    },
    {
     "name": "stderr",
     "output_type": "stream",
     "text": [
      "Propagating shooting:  85%|████████▍ | 33/39 [00:09<00:01,  3.35it/s]"
     ]
    },
    {
     "name": "stdout",
     "output_type": "stream",
     "text": [
      "Skipping frame 32 - Global MAD: 0.2685, Masked MAD: 0.2200 (threshold: 0.05)\n"
     ]
    },
    {
     "name": "stderr",
     "output_type": "stream",
     "text": [
      "Propagating shooting:  87%|████████▋ | 34/39 [00:09<00:01,  3.36it/s]"
     ]
    },
    {
     "name": "stdout",
     "output_type": "stream",
     "text": [
      "Skipping frame 33 - Global MAD: 0.2652, Masked MAD: 0.2214 (threshold: 0.05)\n"
     ]
    },
    {
     "name": "stderr",
     "output_type": "stream",
     "text": [
      "Propagating shooting:  90%|████████▉ | 35/39 [00:10<00:01,  3.36it/s]"
     ]
    },
    {
     "name": "stdout",
     "output_type": "stream",
     "text": [
      "Skipping frame 34 - Global MAD: 0.2794, Masked MAD: 0.2381 (threshold: 0.05)\n"
     ]
    },
    {
     "name": "stderr",
     "output_type": "stream",
     "text": [
      "Propagating shooting:  92%|█████████▏| 36/39 [00:10<00:00,  3.38it/s]"
     ]
    },
    {
     "name": "stdout",
     "output_type": "stream",
     "text": [
      "Skipping frame 35 - Global MAD: 0.2713, Masked MAD: 0.2402 (threshold: 0.05)\n"
     ]
    },
    {
     "name": "stderr",
     "output_type": "stream",
     "text": [
      "Propagating shooting:  95%|█████████▍| 37/39 [00:10<00:00,  3.38it/s]"
     ]
    },
    {
     "name": "stdout",
     "output_type": "stream",
     "text": [
      "Skipping frame 36 - Global MAD: 0.2833, Masked MAD: 0.2392 (threshold: 0.05)\n"
     ]
    },
    {
     "name": "stderr",
     "output_type": "stream",
     "text": [
      "Propagating shooting:  97%|█████████▋| 38/39 [00:11<00:00,  3.38it/s]"
     ]
    },
    {
     "name": "stdout",
     "output_type": "stream",
     "text": [
      "Skipping frame 37 - Global MAD: 0.2590, Masked MAD: 0.2234 (threshold: 0.05)\n"
     ]
    },
    {
     "name": "stderr",
     "output_type": "stream",
     "text": [
      "Propagating shooting: 100%|██████████| 39/39 [00:11<00:00,  3.38it/s]"
     ]
    },
    {
     "name": "stdout",
     "output_type": "stream",
     "text": [
      "Skipping frame 38 - Global MAD: 0.2831, Masked MAD: 0.2329 (threshold: 0.05)\n"
     ]
    },
    {
     "name": "stderr",
     "output_type": "stream",
     "text": [
      "propagate in video: 100%|██████████| 40/40 [00:11<00:00,  3.44it/s]  \n",
      "Propagating shooting: 40it [00:11,  3.44it/s]\n"
     ]
    },
    {
     "name": "stdout",
     "output_type": "stream",
     "text": [
      "Skipping frame 39 - Global MAD: 0.2668, Masked MAD: 0.2174 (threshold: 0.05)\n",
      "Skipped 39 frames due to low MAD.\n",
      "→ Saved all predicted masks for shooting in data/DAVIS2017_mgfs_naive/shooting\n",
      "\n",
      "=== Processing sequence: soapbox ===\n"
     ]
    },
    {
     "name": "stderr",
     "output_type": "stream",
     "text": [
      "frame loading (JPEG): 100%|██████████| 99/99 [00:01<00:00, 51.52it/s]\n"
     ]
    },
    {
     "name": "stdout",
     "output_type": "stream",
     "text": [
      "Found 3 unique non‐black colors in soapbox/00000.png\n"
     ]
    },
    {
     "name": "stderr",
     "output_type": "stream",
     "text": [
      "Propagating soapbox:   2%|▏         | 2/98 [00:00<00:14,  6.73it/s]"
     ]
    },
    {
     "name": "stdout",
     "output_type": "stream",
     "text": [
      "Skipping frame 1 - Global MAD: 0.0293, Masked MAD: 0.1013 (threshold: 0.05)\n"
     ]
    },
    {
     "name": "stderr",
     "output_type": "stream",
     "text": [
      "Propagating soapbox:   3%|▎         | 3/98 [00:00<00:19,  4.90it/s]"
     ]
    },
    {
     "name": "stdout",
     "output_type": "stream",
     "text": [
      "Skipping frame 2 - Global MAD: 0.0438, Masked MAD: 0.1409 (threshold: 0.05)\n"
     ]
    },
    {
     "name": "stderr",
     "output_type": "stream",
     "text": [
      "Propagating soapbox:   4%|▍         | 4/98 [00:00<00:21,  4.29it/s]"
     ]
    },
    {
     "name": "stdout",
     "output_type": "stream",
     "text": [
      "Skipping frame 3 - Global MAD: 0.0514, Masked MAD: 0.1666 (threshold: 0.05)\n"
     ]
    },
    {
     "name": "stderr",
     "output_type": "stream",
     "text": [
      "Propagating soapbox:   5%|▌         | 5/98 [00:01<00:23,  4.00it/s]"
     ]
    },
    {
     "name": "stdout",
     "output_type": "stream",
     "text": [
      "Skipping frame 4 - Global MAD: 0.0539, Masked MAD: 0.1858 (threshold: 0.05)\n"
     ]
    },
    {
     "name": "stderr",
     "output_type": "stream",
     "text": [
      "Propagating soapbox:   6%|▌         | 6/98 [00:01<00:23,  3.84it/s]"
     ]
    },
    {
     "name": "stdout",
     "output_type": "stream",
     "text": [
      "Skipping frame 5 - Global MAD: 0.0575, Masked MAD: 0.1945 (threshold: 0.05)\n"
     ]
    },
    {
     "name": "stderr",
     "output_type": "stream",
     "text": [
      "Propagating soapbox:   7%|▋         | 7/98 [00:01<00:24,  3.74it/s]"
     ]
    },
    {
     "name": "stdout",
     "output_type": "stream",
     "text": [
      "Skipping frame 6 - Global MAD: 0.0660, Masked MAD: 0.2034 (threshold: 0.05)\n"
     ]
    },
    {
     "name": "stderr",
     "output_type": "stream",
     "text": [
      "Propagating soapbox:   8%|▊         | 8/98 [00:01<00:24,  3.68it/s]"
     ]
    },
    {
     "name": "stdout",
     "output_type": "stream",
     "text": [
      "Skipping frame 7 - Global MAD: 0.0743, Masked MAD: 0.2074 (threshold: 0.05)\n"
     ]
    },
    {
     "name": "stderr",
     "output_type": "stream",
     "text": [
      "Propagating soapbox:   9%|▉         | 9/98 [00:02<00:24,  3.64it/s]"
     ]
    },
    {
     "name": "stdout",
     "output_type": "stream",
     "text": [
      "Skipping frame 8 - Global MAD: 0.0808, Masked MAD: 0.2080 (threshold: 0.05)\n"
     ]
    },
    {
     "name": "stderr",
     "output_type": "stream",
     "text": [
      "Propagating soapbox:  10%|█         | 10/98 [00:02<00:24,  3.60it/s]"
     ]
    },
    {
     "name": "stdout",
     "output_type": "stream",
     "text": [
      "Skipping frame 9 - Global MAD: 0.0872, Masked MAD: 0.2138 (threshold: 0.05)\n"
     ]
    },
    {
     "name": "stderr",
     "output_type": "stream",
     "text": [
      "Propagating soapbox:  11%|█         | 11/98 [00:02<00:24,  3.59it/s]"
     ]
    },
    {
     "name": "stdout",
     "output_type": "stream",
     "text": [
      "Skipping frame 10 - Global MAD: 0.0941, Masked MAD: 0.2229 (threshold: 0.05)\n"
     ]
    },
    {
     "name": "stderr",
     "output_type": "stream",
     "text": [
      "Propagating soapbox:  12%|█▏        | 12/98 [00:03<00:24,  3.58it/s]"
     ]
    },
    {
     "name": "stdout",
     "output_type": "stream",
     "text": [
      "Skipping frame 11 - Global MAD: 0.1002, Masked MAD: 0.2237 (threshold: 0.05)\n"
     ]
    },
    {
     "name": "stderr",
     "output_type": "stream",
     "text": [
      "Propagating soapbox:  13%|█▎        | 13/98 [00:03<00:23,  3.58it/s]"
     ]
    },
    {
     "name": "stdout",
     "output_type": "stream",
     "text": [
      "Skipping frame 12 - Global MAD: 0.1063, Masked MAD: 0.2255 (threshold: 0.05)\n"
     ]
    },
    {
     "name": "stderr",
     "output_type": "stream",
     "text": [
      "Propagating soapbox:  14%|█▍        | 14/98 [00:03<00:23,  3.57it/s]"
     ]
    },
    {
     "name": "stdout",
     "output_type": "stream",
     "text": [
      "Skipping frame 13 - Global MAD: 0.1117, Masked MAD: 0.2285 (threshold: 0.05)\n"
     ]
    },
    {
     "name": "stderr",
     "output_type": "stream",
     "text": [
      "Propagating soapbox:  15%|█▌        | 15/98 [00:03<00:23,  3.57it/s]"
     ]
    },
    {
     "name": "stdout",
     "output_type": "stream",
     "text": [
      "Skipping frame 14 - Global MAD: 0.1168, Masked MAD: 0.2255 (threshold: 0.05)\n"
     ]
    },
    {
     "name": "stderr",
     "output_type": "stream",
     "text": [
      "Propagating soapbox:  16%|█▋        | 16/98 [00:04<00:22,  3.57it/s]"
     ]
    },
    {
     "name": "stdout",
     "output_type": "stream",
     "text": [
      "Skipping frame 15 - Global MAD: 0.1214, Masked MAD: 0.2244 (threshold: 0.05)\n"
     ]
    },
    {
     "name": "stderr",
     "output_type": "stream",
     "text": [
      "Propagating soapbox:  17%|█▋        | 17/98 [00:04<00:22,  3.56it/s]"
     ]
    },
    {
     "name": "stdout",
     "output_type": "stream",
     "text": [
      "Skipping frame 16 - Global MAD: 0.1271, Masked MAD: 0.2247 (threshold: 0.05)\n"
     ]
    },
    {
     "name": "stderr",
     "output_type": "stream",
     "text": [
      "Propagating soapbox:  18%|█▊        | 18/98 [00:04<00:22,  3.56it/s]"
     ]
    },
    {
     "name": "stdout",
     "output_type": "stream",
     "text": [
      "Skipping frame 17 - Global MAD: 0.1328, Masked MAD: 0.2272 (threshold: 0.05)\n"
     ]
    },
    {
     "name": "stderr",
     "output_type": "stream",
     "text": [
      "Propagating soapbox:  19%|█▉        | 19/98 [00:05<00:22,  3.56it/s]"
     ]
    },
    {
     "name": "stdout",
     "output_type": "stream",
     "text": [
      "Skipping frame 18 - Global MAD: 0.1379, Masked MAD: 0.2256 (threshold: 0.05)\n"
     ]
    },
    {
     "name": "stderr",
     "output_type": "stream",
     "text": [
      "Propagating soapbox:  20%|██        | 20/98 [00:05<00:21,  3.56it/s]"
     ]
    },
    {
     "name": "stdout",
     "output_type": "stream",
     "text": [
      "Skipping frame 19 - Global MAD: 0.1421, Masked MAD: 0.2255 (threshold: 0.05)\n"
     ]
    },
    {
     "name": "stderr",
     "output_type": "stream",
     "text": [
      "Propagating soapbox:  21%|██▏       | 21/98 [00:05<00:21,  3.56it/s]"
     ]
    },
    {
     "name": "stdout",
     "output_type": "stream",
     "text": [
      "Skipping frame 20 - Global MAD: 0.1469, Masked MAD: 0.2238 (threshold: 0.05)\n"
     ]
    },
    {
     "name": "stderr",
     "output_type": "stream",
     "text": [
      "Propagating soapbox:  22%|██▏       | 22/98 [00:05<00:21,  3.55it/s]"
     ]
    },
    {
     "name": "stdout",
     "output_type": "stream",
     "text": [
      "Skipping frame 21 - Global MAD: 0.1532, Masked MAD: 0.2292 (threshold: 0.05)\n"
     ]
    },
    {
     "name": "stderr",
     "output_type": "stream",
     "text": [
      "Propagating soapbox:  23%|██▎       | 23/98 [00:06<00:21,  3.55it/s]"
     ]
    },
    {
     "name": "stdout",
     "output_type": "stream",
     "text": [
      "Skipping frame 22 - Global MAD: 0.1597, Masked MAD: 0.2370 (threshold: 0.05)\n"
     ]
    },
    {
     "name": "stderr",
     "output_type": "stream",
     "text": [
      "Propagating soapbox:  24%|██▍       | 24/98 [00:06<00:20,  3.55it/s]"
     ]
    },
    {
     "name": "stdout",
     "output_type": "stream",
     "text": [
      "Skipping frame 23 - Global MAD: 0.1670, Masked MAD: 0.2436 (threshold: 0.05)\n"
     ]
    },
    {
     "name": "stderr",
     "output_type": "stream",
     "text": [
      "Propagating soapbox:  26%|██▌       | 25/98 [00:06<00:20,  3.55it/s]"
     ]
    },
    {
     "name": "stdout",
     "output_type": "stream",
     "text": [
      "Skipping frame 24 - Global MAD: 0.1741, Masked MAD: 0.2541 (threshold: 0.05)\n"
     ]
    },
    {
     "name": "stderr",
     "output_type": "stream",
     "text": [
      "Propagating soapbox:  27%|██▋       | 26/98 [00:07<00:20,  3.55it/s]"
     ]
    },
    {
     "name": "stdout",
     "output_type": "stream",
     "text": [
      "Skipping frame 25 - Global MAD: 0.1809, Masked MAD: 0.2622 (threshold: 0.05)\n"
     ]
    },
    {
     "name": "stderr",
     "output_type": "stream",
     "text": [
      "Propagating soapbox:  28%|██▊       | 27/98 [00:07<00:20,  3.54it/s]"
     ]
    },
    {
     "name": "stdout",
     "output_type": "stream",
     "text": [
      "Skipping frame 26 - Global MAD: 0.1869, Masked MAD: 0.2615 (threshold: 0.05)\n"
     ]
    },
    {
     "name": "stderr",
     "output_type": "stream",
     "text": [
      "Propagating soapbox:  29%|██▊       | 28/98 [00:07<00:19,  3.54it/s]"
     ]
    },
    {
     "name": "stdout",
     "output_type": "stream",
     "text": [
      "Skipping frame 27 - Global MAD: 0.1913, Masked MAD: 0.2602 (threshold: 0.05)\n"
     ]
    },
    {
     "name": "stderr",
     "output_type": "stream",
     "text": [
      "Propagating soapbox:  30%|██▉       | 29/98 [00:07<00:19,  3.54it/s]"
     ]
    },
    {
     "name": "stdout",
     "output_type": "stream",
     "text": [
      "Skipping frame 28 - Global MAD: 0.1950, Masked MAD: 0.2617 (threshold: 0.05)\n"
     ]
    },
    {
     "name": "stderr",
     "output_type": "stream",
     "text": [
      "Propagating soapbox:  31%|███       | 30/98 [00:08<00:19,  3.54it/s]"
     ]
    },
    {
     "name": "stdout",
     "output_type": "stream",
     "text": [
      "Skipping frame 29 - Global MAD: 0.1989, Masked MAD: 0.2595 (threshold: 0.05)\n"
     ]
    },
    {
     "name": "stderr",
     "output_type": "stream",
     "text": [
      "Propagating soapbox:  32%|███▏      | 31/98 [00:08<00:18,  3.54it/s]"
     ]
    },
    {
     "name": "stdout",
     "output_type": "stream",
     "text": [
      "Skipping frame 30 - Global MAD: 0.2022, Masked MAD: 0.2656 (threshold: 0.05)\n",
      "Avg FPS last 30 frames: 3.55\n"
     ]
    },
    {
     "name": "stderr",
     "output_type": "stream",
     "text": [
      "Propagating soapbox:  33%|███▎      | 32/98 [00:08<00:18,  3.54it/s]"
     ]
    },
    {
     "name": "stdout",
     "output_type": "stream",
     "text": [
      "Skipping frame 31 - Global MAD: 0.2051, Masked MAD: 0.2609 (threshold: 0.05)\n"
     ]
    },
    {
     "name": "stderr",
     "output_type": "stream",
     "text": [
      "Propagating soapbox:  34%|███▎      | 33/98 [00:09<00:18,  3.53it/s]"
     ]
    },
    {
     "name": "stdout",
     "output_type": "stream",
     "text": [
      "Skipping frame 32 - Global MAD: 0.2083, Masked MAD: 0.2544 (threshold: 0.05)\n"
     ]
    },
    {
     "name": "stderr",
     "output_type": "stream",
     "text": [
      "Propagating soapbox:  35%|███▍      | 34/98 [00:09<00:18,  3.53it/s]"
     ]
    },
    {
     "name": "stdout",
     "output_type": "stream",
     "text": [
      "Skipping frame 33 - Global MAD: 0.2130, Masked MAD: 0.2342 (threshold: 0.05)\n"
     ]
    },
    {
     "name": "stderr",
     "output_type": "stream",
     "text": [
      "Propagating soapbox:  36%|███▌      | 35/98 [00:09<00:17,  3.53it/s]"
     ]
    },
    {
     "name": "stdout",
     "output_type": "stream",
     "text": [
      "Skipping frame 34 - Global MAD: 0.2183, Masked MAD: 0.2271 (threshold: 0.05)\n"
     ]
    },
    {
     "name": "stderr",
     "output_type": "stream",
     "text": [
      "Propagating soapbox:  37%|███▋      | 36/98 [00:09<00:17,  3.53it/s]"
     ]
    },
    {
     "name": "stdout",
     "output_type": "stream",
     "text": [
      "Skipping frame 35 - Global MAD: 0.2219, Masked MAD: 0.2270 (threshold: 0.05)\n"
     ]
    },
    {
     "name": "stderr",
     "output_type": "stream",
     "text": [
      "Propagating soapbox:  38%|███▊      | 37/98 [00:10<00:17,  3.52it/s]"
     ]
    },
    {
     "name": "stdout",
     "output_type": "stream",
     "text": [
      "Skipping frame 36 - Global MAD: 0.2269, Masked MAD: 0.2288 (threshold: 0.05)\n"
     ]
    },
    {
     "name": "stderr",
     "output_type": "stream",
     "text": [
      "Propagating soapbox:  39%|███▉      | 38/98 [00:10<00:17,  3.52it/s]"
     ]
    },
    {
     "name": "stdout",
     "output_type": "stream",
     "text": [
      "Skipping frame 37 - Global MAD: 0.2304, Masked MAD: 0.2227 (threshold: 0.05)\n"
     ]
    },
    {
     "name": "stderr",
     "output_type": "stream",
     "text": [
      "Propagating soapbox:  40%|███▉      | 39/98 [00:10<00:16,  3.52it/s]"
     ]
    },
    {
     "name": "stdout",
     "output_type": "stream",
     "text": [
      "Skipping frame 38 - Global MAD: 0.2311, Masked MAD: 0.2234 (threshold: 0.05)\n"
     ]
    },
    {
     "name": "stderr",
     "output_type": "stream",
     "text": [
      "Propagating soapbox:  41%|████      | 40/98 [00:11<00:16,  3.51it/s]"
     ]
    },
    {
     "name": "stdout",
     "output_type": "stream",
     "text": [
      "Skipping frame 39 - Global MAD: 0.2325, Masked MAD: 0.2249 (threshold: 0.05)\n"
     ]
    },
    {
     "name": "stderr",
     "output_type": "stream",
     "text": [
      "Propagating soapbox:  42%|████▏     | 41/98 [00:11<00:16,  3.50it/s]"
     ]
    },
    {
     "name": "stdout",
     "output_type": "stream",
     "text": [
      "Skipping frame 40 - Global MAD: 0.2364, Masked MAD: 0.2268 (threshold: 0.05)\n"
     ]
    },
    {
     "name": "stderr",
     "output_type": "stream",
     "text": [
      "Propagating soapbox:  43%|████▎     | 42/98 [00:11<00:16,  3.50it/s]"
     ]
    },
    {
     "name": "stdout",
     "output_type": "stream",
     "text": [
      "Skipping frame 41 - Global MAD: 0.2397, Masked MAD: 0.2250 (threshold: 0.05)\n"
     ]
    },
    {
     "name": "stderr",
     "output_type": "stream",
     "text": [
      "Propagating soapbox:  44%|████▍     | 43/98 [00:11<00:15,  3.49it/s]"
     ]
    },
    {
     "name": "stdout",
     "output_type": "stream",
     "text": [
      "Skipping frame 42 - Global MAD: 0.2440, Masked MAD: 0.2385 (threshold: 0.05)\n"
     ]
    },
    {
     "name": "stderr",
     "output_type": "stream",
     "text": [
      "Propagating soapbox:  45%|████▍     | 44/98 [00:12<00:15,  3.48it/s]"
     ]
    },
    {
     "name": "stdout",
     "output_type": "stream",
     "text": [
      "Skipping frame 43 - Global MAD: 0.2464, Masked MAD: 0.2316 (threshold: 0.05)\n"
     ]
    },
    {
     "name": "stderr",
     "output_type": "stream",
     "text": [
      "Propagating soapbox:  46%|████▌     | 45/98 [00:12<00:15,  3.48it/s]"
     ]
    },
    {
     "name": "stdout",
     "output_type": "stream",
     "text": [
      "Skipping frame 44 - Global MAD: 0.2476, Masked MAD: 0.2359 (threshold: 0.05)\n"
     ]
    },
    {
     "name": "stderr",
     "output_type": "stream",
     "text": [
      "Propagating soapbox:  47%|████▋     | 46/98 [00:12<00:14,  3.48it/s]"
     ]
    },
    {
     "name": "stdout",
     "output_type": "stream",
     "text": [
      "Skipping frame 45 - Global MAD: 0.2477, Masked MAD: 0.2476 (threshold: 0.05)\n"
     ]
    },
    {
     "name": "stderr",
     "output_type": "stream",
     "text": [
      "Propagating soapbox:  48%|████▊     | 47/98 [00:13<00:14,  3.48it/s]"
     ]
    },
    {
     "name": "stdout",
     "output_type": "stream",
     "text": [
      "Skipping frame 46 - Global MAD: 0.2468, Masked MAD: 0.2460 (threshold: 0.05)\n"
     ]
    },
    {
     "name": "stderr",
     "output_type": "stream",
     "text": [
      "Propagating soapbox:  49%|████▉     | 48/98 [00:13<00:14,  3.48it/s]"
     ]
    },
    {
     "name": "stdout",
     "output_type": "stream",
     "text": [
      "Skipping frame 47 - Global MAD: 0.2492, Masked MAD: 0.2411 (threshold: 0.05)\n"
     ]
    },
    {
     "name": "stderr",
     "output_type": "stream",
     "text": [
      "Propagating soapbox:  50%|█████     | 49/98 [00:13<00:14,  3.48it/s]"
     ]
    },
    {
     "name": "stdout",
     "output_type": "stream",
     "text": [
      "Skipping frame 48 - Global MAD: 0.2506, Masked MAD: 0.2496 (threshold: 0.05)\n"
     ]
    },
    {
     "name": "stderr",
     "output_type": "stream",
     "text": [
      "Propagating soapbox:  51%|█████     | 50/98 [00:13<00:13,  3.49it/s]"
     ]
    },
    {
     "name": "stdout",
     "output_type": "stream",
     "text": [
      "Skipping frame 49 - Global MAD: 0.2521, Masked MAD: 0.2499 (threshold: 0.05)\n"
     ]
    },
    {
     "name": "stderr",
     "output_type": "stream",
     "text": [
      "Propagating soapbox:  52%|█████▏    | 51/98 [00:14<00:13,  3.50it/s]"
     ]
    },
    {
     "name": "stdout",
     "output_type": "stream",
     "text": [
      "Skipping frame 50 - Global MAD: 0.2512, Masked MAD: 0.2251 (threshold: 0.05)\n"
     ]
    },
    {
     "name": "stderr",
     "output_type": "stream",
     "text": [
      "Propagating soapbox:  53%|█████▎    | 52/98 [00:14<00:13,  3.50it/s]"
     ]
    },
    {
     "name": "stdout",
     "output_type": "stream",
     "text": [
      "Skipping frame 51 - Global MAD: 0.2505, Masked MAD: 0.2256 (threshold: 0.05)\n"
     ]
    },
    {
     "name": "stderr",
     "output_type": "stream",
     "text": [
      "Propagating soapbox:  54%|█████▍    | 53/98 [00:14<00:12,  3.50it/s]"
     ]
    },
    {
     "name": "stdout",
     "output_type": "stream",
     "text": [
      "Skipping frame 52 - Global MAD: 0.2473, Masked MAD: 0.2195 (threshold: 0.05)\n"
     ]
    },
    {
     "name": "stderr",
     "output_type": "stream",
     "text": [
      "Propagating soapbox:  55%|█████▌    | 54/98 [00:15<00:12,  3.51it/s]"
     ]
    },
    {
     "name": "stdout",
     "output_type": "stream",
     "text": [
      "Skipping frame 53 - Global MAD: 0.2460, Masked MAD: 0.2200 (threshold: 0.05)\n"
     ]
    },
    {
     "name": "stderr",
     "output_type": "stream",
     "text": [
      "Propagating soapbox:  56%|█████▌    | 55/98 [00:15<00:12,  3.51it/s]"
     ]
    },
    {
     "name": "stdout",
     "output_type": "stream",
     "text": [
      "Skipping frame 54 - Global MAD: 0.2446, Masked MAD: 0.2218 (threshold: 0.05)\n"
     ]
    },
    {
     "name": "stderr",
     "output_type": "stream",
     "text": [
      "Propagating soapbox:  57%|█████▋    | 56/98 [00:15<00:11,  3.52it/s]"
     ]
    },
    {
     "name": "stdout",
     "output_type": "stream",
     "text": [
      "Skipping frame 55 - Global MAD: 0.2415, Masked MAD: 0.2178 (threshold: 0.05)\n"
     ]
    },
    {
     "name": "stderr",
     "output_type": "stream",
     "text": [
      "Propagating soapbox:  58%|█████▊    | 57/98 [00:15<00:11,  3.52it/s]"
     ]
    },
    {
     "name": "stdout",
     "output_type": "stream",
     "text": [
      "Skipping frame 56 - Global MAD: 0.2391, Masked MAD: 0.2407 (threshold: 0.05)\n"
     ]
    },
    {
     "name": "stderr",
     "output_type": "stream",
     "text": [
      "Propagating soapbox:  59%|█████▉    | 58/98 [00:16<00:11,  3.52it/s]"
     ]
    },
    {
     "name": "stdout",
     "output_type": "stream",
     "text": [
      "Skipping frame 57 - Global MAD: 0.2340, Masked MAD: 0.2384 (threshold: 0.05)\n"
     ]
    },
    {
     "name": "stderr",
     "output_type": "stream",
     "text": [
      "Propagating soapbox:  60%|██████    | 59/98 [00:16<00:11,  3.52it/s]"
     ]
    },
    {
     "name": "stdout",
     "output_type": "stream",
     "text": [
      "Skipping frame 58 - Global MAD: 0.2330, Masked MAD: 0.2314 (threshold: 0.05)\n"
     ]
    },
    {
     "name": "stderr",
     "output_type": "stream",
     "text": [
      "Propagating soapbox:  61%|██████    | 60/98 [00:16<00:10,  3.52it/s]"
     ]
    },
    {
     "name": "stdout",
     "output_type": "stream",
     "text": [
      "Skipping frame 59 - Global MAD: 0.2343, Masked MAD: 0.2194 (threshold: 0.05)\n"
     ]
    },
    {
     "name": "stderr",
     "output_type": "stream",
     "text": [
      "Propagating soapbox:  62%|██████▏   | 61/98 [00:17<00:10,  3.52it/s]"
     ]
    },
    {
     "name": "stdout",
     "output_type": "stream",
     "text": [
      "Skipping frame 60 - Global MAD: 0.2362, Masked MAD: 0.2209 (threshold: 0.05)\n",
      "Avg FPS last 30 frames: 3.51\n"
     ]
    },
    {
     "name": "stderr",
     "output_type": "stream",
     "text": [
      "Propagating soapbox:  63%|██████▎   | 62/98 [00:17<00:10,  3.52it/s]"
     ]
    },
    {
     "name": "stdout",
     "output_type": "stream",
     "text": [
      "Skipping frame 61 - Global MAD: 0.2364, Masked MAD: 0.2154 (threshold: 0.05)\n"
     ]
    },
    {
     "name": "stderr",
     "output_type": "stream",
     "text": [
      "Propagating soapbox:  64%|██████▍   | 63/98 [00:17<00:09,  3.52it/s]"
     ]
    },
    {
     "name": "stdout",
     "output_type": "stream",
     "text": [
      "Skipping frame 62 - Global MAD: 0.2360, Masked MAD: 0.2055 (threshold: 0.05)\n"
     ]
    },
    {
     "name": "stderr",
     "output_type": "stream",
     "text": [
      "Propagating soapbox:  65%|██████▌   | 64/98 [00:17<00:09,  3.52it/s]"
     ]
    },
    {
     "name": "stdout",
     "output_type": "stream",
     "text": [
      "Skipping frame 63 - Global MAD: 0.2364, Masked MAD: 0.2008 (threshold: 0.05)\n"
     ]
    },
    {
     "name": "stderr",
     "output_type": "stream",
     "text": [
      "Propagating soapbox:  66%|██████▋   | 65/98 [00:18<00:09,  3.52it/s]"
     ]
    },
    {
     "name": "stdout",
     "output_type": "stream",
     "text": [
      "Skipping frame 64 - Global MAD: 0.2351, Masked MAD: 0.2008 (threshold: 0.05)\n"
     ]
    },
    {
     "name": "stderr",
     "output_type": "stream",
     "text": [
      "Propagating soapbox:  67%|██████▋   | 66/98 [00:18<00:09,  3.52it/s]"
     ]
    },
    {
     "name": "stdout",
     "output_type": "stream",
     "text": [
      "Skipping frame 65 - Global MAD: 0.2352, Masked MAD: 0.2181 (threshold: 0.05)\n"
     ]
    },
    {
     "name": "stderr",
     "output_type": "stream",
     "text": [
      "Propagating soapbox:  68%|██████▊   | 67/98 [00:18<00:08,  3.51it/s]"
     ]
    },
    {
     "name": "stdout",
     "output_type": "stream",
     "text": [
      "Skipping frame 66 - Global MAD: 0.2378, Masked MAD: 0.2145 (threshold: 0.05)\n"
     ]
    },
    {
     "name": "stderr",
     "output_type": "stream",
     "text": [
      "Propagating soapbox:  69%|██████▉   | 68/98 [00:19<00:08,  3.51it/s]"
     ]
    },
    {
     "name": "stdout",
     "output_type": "stream",
     "text": [
      "Skipping frame 67 - Global MAD: 0.2413, Masked MAD: 0.2236 (threshold: 0.05)\n"
     ]
    },
    {
     "name": "stderr",
     "output_type": "stream",
     "text": [
      "Propagating soapbox:  70%|███████   | 69/98 [00:19<00:08,  3.52it/s]"
     ]
    },
    {
     "name": "stdout",
     "output_type": "stream",
     "text": [
      "Skipping frame 68 - Global MAD: 0.2491, Masked MAD: 0.2629 (threshold: 0.05)\n"
     ]
    },
    {
     "name": "stderr",
     "output_type": "stream",
     "text": [
      "Propagating soapbox:  71%|███████▏  | 70/98 [00:19<00:07,  3.52it/s]"
     ]
    },
    {
     "name": "stdout",
     "output_type": "stream",
     "text": [
      "Skipping frame 69 - Global MAD: 0.2514, Masked MAD: 0.2670 (threshold: 0.05)\n"
     ]
    },
    {
     "name": "stderr",
     "output_type": "stream",
     "text": [
      "Propagating soapbox:  72%|███████▏  | 71/98 [00:19<00:07,  3.51it/s]"
     ]
    },
    {
     "name": "stdout",
     "output_type": "stream",
     "text": [
      "Skipping frame 70 - Global MAD: 0.2536, Masked MAD: 0.2913 (threshold: 0.05)\n"
     ]
    },
    {
     "name": "stderr",
     "output_type": "stream",
     "text": [
      "Propagating soapbox:  73%|███████▎  | 72/98 [00:20<00:07,  3.51it/s]"
     ]
    },
    {
     "name": "stdout",
     "output_type": "stream",
     "text": [
      "Skipping frame 71 - Global MAD: 0.2554, Masked MAD: 0.3038 (threshold: 0.05)\n"
     ]
    },
    {
     "name": "stderr",
     "output_type": "stream",
     "text": [
      "Propagating soapbox:  74%|███████▍  | 73/98 [00:20<00:07,  3.52it/s]"
     ]
    },
    {
     "name": "stdout",
     "output_type": "stream",
     "text": [
      "Skipping frame 72 - Global MAD: 0.2527, Masked MAD: 0.2780 (threshold: 0.05)\n"
     ]
    },
    {
     "name": "stderr",
     "output_type": "stream",
     "text": [
      "Propagating soapbox:  76%|███████▌  | 74/98 [00:20<00:06,  3.52it/s]"
     ]
    },
    {
     "name": "stdout",
     "output_type": "stream",
     "text": [
      "Skipping frame 73 - Global MAD: 0.2504, Masked MAD: 0.2661 (threshold: 0.05)\n"
     ]
    },
    {
     "name": "stderr",
     "output_type": "stream",
     "text": [
      "Propagating soapbox:  77%|███████▋  | 75/98 [00:21<00:06,  3.52it/s]"
     ]
    },
    {
     "name": "stdout",
     "output_type": "stream",
     "text": [
      "Skipping frame 74 - Global MAD: 0.2485, Masked MAD: 0.2702 (threshold: 0.05)\n"
     ]
    },
    {
     "name": "stderr",
     "output_type": "stream",
     "text": [
      "Propagating soapbox:  78%|███████▊  | 76/98 [00:21<00:06,  3.53it/s]"
     ]
    },
    {
     "name": "stdout",
     "output_type": "stream",
     "text": [
      "Skipping frame 75 - Global MAD: 0.2473, Masked MAD: 0.2754 (threshold: 0.05)\n"
     ]
    },
    {
     "name": "stderr",
     "output_type": "stream",
     "text": [
      "Propagating soapbox:  79%|███████▊  | 77/98 [00:21<00:05,  3.53it/s]"
     ]
    },
    {
     "name": "stdout",
     "output_type": "stream",
     "text": [
      "Skipping frame 76 - Global MAD: 0.2447, Masked MAD: 0.2690 (threshold: 0.05)\n"
     ]
    },
    {
     "name": "stderr",
     "output_type": "stream",
     "text": [
      "Propagating soapbox:  80%|███████▉  | 78/98 [00:21<00:05,  3.53it/s]"
     ]
    },
    {
     "name": "stdout",
     "output_type": "stream",
     "text": [
      "Skipping frame 77 - Global MAD: 0.2397, Masked MAD: 0.2708 (threshold: 0.05)\n"
     ]
    },
    {
     "name": "stderr",
     "output_type": "stream",
     "text": [
      "Propagating soapbox:  81%|████████  | 79/98 [00:22<00:05,  3.53it/s]"
     ]
    },
    {
     "name": "stdout",
     "output_type": "stream",
     "text": [
      "Skipping frame 78 - Global MAD: 0.2374, Masked MAD: 0.2981 (threshold: 0.05)\n"
     ]
    },
    {
     "name": "stderr",
     "output_type": "stream",
     "text": [
      "Propagating soapbox:  82%|████████▏ | 80/98 [00:22<00:05,  3.54it/s]"
     ]
    },
    {
     "name": "stdout",
     "output_type": "stream",
     "text": [
      "Skipping frame 79 - Global MAD: 0.2335, Masked MAD: 0.3316 (threshold: 0.05)\n"
     ]
    },
    {
     "name": "stderr",
     "output_type": "stream",
     "text": [
      "Propagating soapbox:  83%|████████▎ | 81/98 [00:22<00:04,  3.54it/s]"
     ]
    },
    {
     "name": "stdout",
     "output_type": "stream",
     "text": [
      "Skipping frame 80 - Global MAD: 0.2311, Masked MAD: 0.3410 (threshold: 0.05)\n"
     ]
    },
    {
     "name": "stderr",
     "output_type": "stream",
     "text": [
      "Propagating soapbox:  84%|████████▎ | 82/98 [00:22<00:04,  3.54it/s]"
     ]
    },
    {
     "name": "stdout",
     "output_type": "stream",
     "text": [
      "Skipping frame 81 - Global MAD: 0.2310, Masked MAD: 0.3412 (threshold: 0.05)\n"
     ]
    },
    {
     "name": "stderr",
     "output_type": "stream",
     "text": [
      "Propagating soapbox:  85%|████████▍ | 83/98 [00:23<00:04,  3.54it/s]"
     ]
    },
    {
     "name": "stdout",
     "output_type": "stream",
     "text": [
      "Skipping frame 82 - Global MAD: 0.2282, Masked MAD: 0.3438 (threshold: 0.05)\n"
     ]
    },
    {
     "name": "stderr",
     "output_type": "stream",
     "text": [
      "Propagating soapbox:  86%|████████▌ | 84/98 [00:23<00:03,  3.54it/s]"
     ]
    },
    {
     "name": "stdout",
     "output_type": "stream",
     "text": [
      "Skipping frame 83 - Global MAD: 0.2258, Masked MAD: 0.3233 (threshold: 0.05)\n"
     ]
    },
    {
     "name": "stderr",
     "output_type": "stream",
     "text": [
      "Propagating soapbox:  87%|████████▋ | 85/98 [00:23<00:03,  3.54it/s]"
     ]
    },
    {
     "name": "stdout",
     "output_type": "stream",
     "text": [
      "Skipping frame 84 - Global MAD: 0.2214, Masked MAD: 0.3124 (threshold: 0.05)\n"
     ]
    },
    {
     "name": "stderr",
     "output_type": "stream",
     "text": [
      "Propagating soapbox:  88%|████████▊ | 86/98 [00:24<00:03,  3.54it/s]"
     ]
    },
    {
     "name": "stdout",
     "output_type": "stream",
     "text": [
      "Skipping frame 85 - Global MAD: 0.2192, Masked MAD: 0.3200 (threshold: 0.05)\n"
     ]
    },
    {
     "name": "stderr",
     "output_type": "stream",
     "text": [
      "Propagating soapbox:  89%|████████▉ | 87/98 [00:24<00:03,  3.54it/s]"
     ]
    },
    {
     "name": "stdout",
     "output_type": "stream",
     "text": [
      "Skipping frame 86 - Global MAD: 0.2151, Masked MAD: 0.3251 (threshold: 0.05)\n"
     ]
    },
    {
     "name": "stderr",
     "output_type": "stream",
     "text": [
      "Propagating soapbox:  90%|████████▉ | 88/98 [00:24<00:02,  3.54it/s]"
     ]
    },
    {
     "name": "stdout",
     "output_type": "stream",
     "text": [
      "Skipping frame 87 - Global MAD: 0.2103, Masked MAD: 0.3083 (threshold: 0.05)\n"
     ]
    },
    {
     "name": "stderr",
     "output_type": "stream",
     "text": [
      "Propagating soapbox:  91%|█████████ | 89/98 [00:24<00:02,  3.54it/s]"
     ]
    },
    {
     "name": "stdout",
     "output_type": "stream",
     "text": [
      "Skipping frame 88 - Global MAD: 0.2088, Masked MAD: 0.2799 (threshold: 0.05)\n"
     ]
    },
    {
     "name": "stderr",
     "output_type": "stream",
     "text": [
      "Propagating soapbox:  92%|█████████▏| 90/98 [00:25<00:02,  3.54it/s]"
     ]
    },
    {
     "name": "stdout",
     "output_type": "stream",
     "text": [
      "Skipping frame 89 - Global MAD: 0.2072, Masked MAD: 0.2856 (threshold: 0.05)\n"
     ]
    },
    {
     "name": "stderr",
     "output_type": "stream",
     "text": [
      "Propagating soapbox:  93%|█████████▎| 91/98 [00:25<00:01,  3.54it/s]"
     ]
    },
    {
     "name": "stdout",
     "output_type": "stream",
     "text": [
      "Skipping frame 90 - Global MAD: 0.2085, Masked MAD: 0.2826 (threshold: 0.05)\n",
      "Avg FPS last 30 frames: 3.53\n"
     ]
    },
    {
     "name": "stderr",
     "output_type": "stream",
     "text": [
      "Propagating soapbox:  94%|█████████▍| 92/98 [00:25<00:01,  3.54it/s]"
     ]
    },
    {
     "name": "stdout",
     "output_type": "stream",
     "text": [
      "Skipping frame 91 - Global MAD: 0.2100, Masked MAD: 0.2743 (threshold: 0.05)\n"
     ]
    },
    {
     "name": "stderr",
     "output_type": "stream",
     "text": [
      "Propagating soapbox:  95%|█████████▍| 93/98 [00:26<00:01,  3.55it/s]"
     ]
    },
    {
     "name": "stdout",
     "output_type": "stream",
     "text": [
      "Skipping frame 92 - Global MAD: 0.2131, Masked MAD: 0.2886 (threshold: 0.05)\n"
     ]
    },
    {
     "name": "stderr",
     "output_type": "stream",
     "text": [
      "Propagating soapbox:  96%|█████████▌| 94/98 [00:26<00:01,  3.55it/s]"
     ]
    },
    {
     "name": "stdout",
     "output_type": "stream",
     "text": [
      "Skipping frame 93 - Global MAD: 0.2147, Masked MAD: 0.2836 (threshold: 0.05)\n"
     ]
    },
    {
     "name": "stderr",
     "output_type": "stream",
     "text": [
      "Propagating soapbox:  97%|█████████▋| 95/98 [00:26<00:00,  3.54it/s]"
     ]
    },
    {
     "name": "stdout",
     "output_type": "stream",
     "text": [
      "Skipping frame 94 - Global MAD: 0.2167, Masked MAD: 0.2492 (threshold: 0.05)\n"
     ]
    },
    {
     "name": "stderr",
     "output_type": "stream",
     "text": [
      "Propagating soapbox:  98%|█████████▊| 96/98 [00:26<00:00,  3.53it/s]"
     ]
    },
    {
     "name": "stdout",
     "output_type": "stream",
     "text": [
      "Skipping frame 95 - Global MAD: 0.2199, Masked MAD: 0.2113 (threshold: 0.05)\n"
     ]
    },
    {
     "name": "stderr",
     "output_type": "stream",
     "text": [
      "Propagating soapbox:  99%|█████████▉| 97/98 [00:27<00:00,  3.53it/s]"
     ]
    },
    {
     "name": "stdout",
     "output_type": "stream",
     "text": [
      "Skipping frame 96 - Global MAD: 0.2220, Masked MAD: 0.2171 (threshold: 0.05)\n"
     ]
    },
    {
     "name": "stderr",
     "output_type": "stream",
     "text": [
      "Propagating soapbox: 100%|██████████| 98/98 [00:27<00:00,  3.53it/s]"
     ]
    },
    {
     "name": "stdout",
     "output_type": "stream",
     "text": [
      "Skipping frame 97 - Global MAD: 0.2227, Masked MAD: 0.2200 (threshold: 0.05)\n"
     ]
    },
    {
     "name": "stderr",
     "output_type": "stream",
     "text": [
      "propagate in video: 100%|██████████| 99/99 [00:27<00:00,  3.56it/s] \n",
      "Propagating soapbox: 99it [00:27,  3.56it/s]"
     ]
    },
    {
     "name": "stdout",
     "output_type": "stream",
     "text": [
      "Skipping frame 98 - Global MAD: 0.2229, Masked MAD: 0.2244 (threshold: 0.05)\n",
      "Skipped 98 frames due to low MAD.\n",
      "→ Saved all predicted masks for soapbox in data/DAVIS2017_mgfs_naive/soapbox\n",
      "\n",
      "All sequences processed.\n",
      "Your SAM 2 masks live under: data/DAVIS2017_mgfs_naive\n"
     ]
    },
    {
     "name": "stderr",
     "output_type": "stream",
     "text": [
      "\n"
     ]
    }
   ],
   "source": [
    "# ── STEP 3: for each DAVIS sequence, run SAM 2 and save outputs ───────────────\n",
    "for seq in ds.sequences:\n",
    "    print(f\"\\n=== Processing sequence: {seq} ===\")\n",
    "\n",
    "    # 3a) directories of images & GT masks for this sequence\n",
    "    img_dir  = DAVIS_ROOT / \"JPEGImages\"  / \"480p\" / seq\n",
    "    mask_dir = DAVIS_ROOT / \"Annotations\" / \"480p\" / seq\n",
    "\n",
    "    img_paths  = sorted(img_dir.glob(\"*.jpg\"))\n",
    "    mask_paths = sorted(mask_dir.glob(\"*.png\"))\n",
    "    assert len(img_paths) == len(mask_paths), (\n",
    "        f\"Image/mask count mismatch in {seq}: {len(img_paths)} vs {len(mask_paths)}\"\n",
    "    )\n",
    "\n",
    "    # 3b) initialize inference state by “loading” this sequence as a video\n",
    "    #     We pass the *directory* of frames to init_state.  Internally, it will call\n",
    "    #     `load_video_frames(video_path=video_dir, ...)` and store all frames in memory.\n",
    "    video_dir = str(img_dir)  # e.g. \"./data/davis/DAVIS/JPEGImages/480p/<seq>\"\n",
    "    inference_state = predictor.init_state(\n",
    "        video_path=video_dir,\n",
    "        offload_video_to_cpu=False,\n",
    "        offload_state_to_cpu=False,\n",
    "        async_loading_frames=False\n",
    "    )\n",
    "\n",
    "# (b) load the single “00000.png” which contains two different colored regions\n",
    "    rgb = iio.imread(str(mask_dir / \"00000.png\"))  # shape (H, W, 3)\n",
    "    H, W, C = rgb.shape\n",
    "    assert C == 3, \"Expected a 3‐channel (RGB) first‐frame mask.\"\n",
    "\n",
    "    # (c) find all unique RGB colors except black\n",
    "    flat = rgb.reshape(-1, 3)                        # shape (H*W, 3)\n",
    "    uniq_colors = np.unique(flat, axis=0)            # shape (K, 3), where K ≤ (H*W)\n",
    "    # Remove the black color (0,0,0) if present\n",
    "    non_black = [tuple(c) for c in uniq_colors if not np.all(c == 0)]\n",
    "    if len(non_black) == 0:\n",
    "        raise RuntimeError(f\"No non‐black colors found in {seq}/00000.png\")\n",
    "\n",
    "    # (d) for each unique non‐black color, build a 2D boolean mask and register it\n",
    "    print(f\"Found {len(non_black)} unique non‐black colors in {seq}/00000.png\")\n",
    "    for idx, color in enumerate(non_black):\n",
    "        # color is something like (200, 0, 0) or (0, 200, 0)\n",
    "        R, G, B = color\n",
    "        # build a binary mask: True where pixel == this color\n",
    "        bin_mask = np.logical_and.reduce([\n",
    "            rgb[:, :, 0] == R,\n",
    "            rgb[:, :, 1] == G,\n",
    "            rgb[:, :, 2] == B\n",
    "        ])  # shape (H, W), dtype=bool\n",
    "\n",
    "        # wrap as torch.bool on the same device as SAM 2\n",
    "        mask2d = torch.from_numpy(bin_mask).to(device)\n",
    "\n",
    "        # register this mask as object `idx`\n",
    "        predictor.add_new_mask(\n",
    "            inference_state=inference_state,\n",
    "            frame_idx=0,\n",
    "            obj_id=idx,  # choose 0,1,2,… per color\n",
    "            mask=mask2d\n",
    "        )\n",
    "\n",
    "    # 3e) now propagate through all frames.  As each new frame is processed,\n",
    "    #     propagate_in_video yields (frame_idx, [obj_ids], video_res_masks).\n",
    "    #\n",
    "    #     We’ll save each mask as “00000.png”, “00001.png”, … under OUT_DIR/<seq>/\n",
    "    seq_out_dir = OUT_DIR / seq\n",
    "    seq_out_dir.mkdir(parents=True, exist_ok=True)\n",
    "\n",
    "    for frame_idx, obj_ids, video_res_masks in tqdm(\n",
    "        predictor.propagate_in_video(inference_state),\n",
    "        total=len(img_paths)-1,\n",
    "        desc=f\"Propagating {seq}\"\n",
    "    ):\n",
    "        # # ‣ frame_idx is an integer (1,2,3,…).  video_res_masks is a tensor of shape\n",
    "        # #   (num_objects, H, W).  For DAVIS, num_objects==1.\n",
    "        # #\n",
    "        # # ‣ Thresholding has already happened internally; `video_res_masks` is\n",
    "        # #   a float‐tensor where positive values correspond to predicted “object.”\n",
    "        # mask_np = (video_res_masks[0].cpu().numpy() > 0.0).astype(np.uint8) * 255\n",
    "\n",
    "        # # Save with zero‐padded five digits to match DAVIS naming:\n",
    "        # save_name = f\"{frame_idx:05d}.png\"\n",
    "        # save_path = seq_out_dir / save_name\n",
    "        # iio.imwrite(str(save_path), mask_np)\n",
    "\n",
    "        # Suppose `video_res_masks` is whatever you get from propagate_in_video:\n",
    "        #   • If there is only one object, it may be a 2D tensor of shape (H, W)\n",
    "        #   • If there are multiple objects, it will be a 3D tensor of shape (O, H, W)\n",
    "\n",
    "        pred_np = video_res_masks.cpu().numpy()   # dtype=float32 or float; # ───────────────────────────────────────────────────────────────\n",
    "        # Assume you already did:\n",
    "        #   pred_np = video_res_masks.cpu().numpy()\n",
    "\n",
    "        # 1) Check how many dimensions `pred_np` has:\n",
    "        if pred_np.ndim == 2:\n",
    "            # Case A: single object, shape = (H, W)\n",
    "            H, W = pred_np.shape\n",
    "            O = 1\n",
    "            pred_np = pred_np[np.newaxis, ...]  # -> now shape (1, H, W)\n",
    "\n",
    "        elif pred_np.ndim == 3:\n",
    "            # Could be either:\n",
    "            #  (A) shape = (1, H, W)   ← single object with a leading axis\n",
    "            #  (B) shape = (O, H, W)   ← multiple objects, no extra channel axis\n",
    "            if pred_np.shape[0] == 1:\n",
    "                # Treat as “one‐object” → squeeze to (1, H, W) (already fits our convention)\n",
    "                O, H, W = pred_np.shape\n",
    "            else:\n",
    "                # Multi‐object already: (O, H, W)\n",
    "                O, H, W = pred_np.shape\n",
    "            # (no need to reshape because it’s already (O, H, W))\n",
    "\n",
    "        elif pred_np.ndim == 4:\n",
    "            # Some SAM 2 builds return (O, 1, H, W). In that case:\n",
    "            #   • pred_np.shape = (O, 1, H, W)\n",
    "            #   → we want to drop the “channel” dimension (axis=1).\n",
    "            O = pred_np.shape[0]\n",
    "            H = pred_np.shape[2]\n",
    "            W = pred_np.shape[3]\n",
    "            pred_np = pred_np[:, 0, :, :]  # now shape (O, H, W)\n",
    "\n",
    "        else:\n",
    "            raise RuntimeError(f\"Unexpected mask array with ndim={pred_np.ndim}, shape={pred_np.shape}\")\n",
    "\n",
    "        # At this point:\n",
    "        #   • pred_np is guaranteed to have shape (O, H, W)\n",
    "        #   • O, H, W are set correctly\n",
    "        # ───────────────────────────────────────────────────────────────\n",
    "\n",
    "        # Now you can build your colored output exactly as before:\n",
    "\n",
    "        colored = np.zeros((H, W, 3), dtype=np.uint8)\n",
    "\n",
    "        for i in range(O):\n",
    "            mask_i = (pred_np[i] > 0.0)   # boolean mask (H, W)\n",
    "            if not mask_i.any():\n",
    "                continue\n",
    "            R, G, B = non_black[i]  # the original RGB for object i\n",
    "            colored[mask_i, 0] = R\n",
    "            colored[mask_i, 1] = G\n",
    "            colored[mask_i, 2] = B\n",
    "\n",
    "        save_name = f\"{frame_idx:05d}.png\"\n",
    "        save_path = seq_out_dir / save_name\n",
    "        iio.imwrite(str(save_path), colored)\n",
    "\n",
    "\n",
    "    print(f\"→ Saved all predicted masks for {seq} in {seq_out_dir}\")\n",
    "\n",
    "print(\"\\nAll sequences processed.\")\n",
    "print(f\"Your SAM 2 masks live under: {OUT_DIR}\")\n"
   ]
  }
 ],
 "metadata": {
  "kernelspec": {
   "display_name": "Python 3",
   "language": "python",
   "name": "python3"
  },
  "language_info": {
   "codemirror_mode": {
    "name": "ipython",
    "version": 3
   },
   "file_extension": ".py",
   "mimetype": "text/x-python",
   "name": "python",
   "nbconvert_exporter": "python",
   "pygments_lexer": "ipython3",
   "version": "3.10.12 (main, Feb  4 2025, 14:57:36) [GCC 11.4.0]"
  },
  "vscode": {
   "interpreter": {
    "hash": "916dbcbb3f70747c44a77c7bcd40155683ae19c65e1c03b4aa3499c5328201f1"
   }
  }
 },
 "nbformat": 4,
 "nbformat_minor": 5
}
